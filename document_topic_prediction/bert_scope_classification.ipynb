{
 "cells": [
  {
   "cell_type": "markdown",
   "metadata": {
    "id": "wBeI6xvBHAaz"
   },
   "source": [
    "# Importing Requerments"
   ]
  },
  {
   "cell_type": "code",
   "execution_count": null,
   "metadata": {
    "colab": {
     "base_uri": "https://localhost:8080/"
    },
    "executionInfo": {
     "elapsed": 16344,
     "status": "ok",
     "timestamp": 1669671106301,
     "user": {
      "displayName": "Razan HL",
      "userId": "00189607576210306079"
     },
     "user_tz": -180
    },
    "id": "LV472xhq-k1I",
    "outputId": "3c2c3fe3-496d-4334-eeff-3127e2e2d1a9"
   },
   "outputs": [
    {
     "name": "stdout",
     "output_type": "stream",
     "text": [
      "Looking in indexes: https://pypi.org/simple, https://us-python.pkg.dev/colab-wheels/public/simple/\n",
      "Collecting transformers\n",
      "  Downloading transformers-4.24.0-py3-none-any.whl (5.5 MB)\n",
      "\u001b[K     |████████████████████████████████| 5.5 MB 4.2 MB/s \n",
      "\u001b[?25hRequirement already satisfied: filelock in /usr/local/lib/python3.7/dist-packages (from transformers) (3.8.0)\n",
      "Collecting huggingface-hub<1.0,>=0.10.0\n",
      "  Downloading huggingface_hub-0.11.1-py3-none-any.whl (182 kB)\n",
      "\u001b[K     |████████████████████████████████| 182 kB 67.2 MB/s \n",
      "\u001b[?25hRequirement already satisfied: importlib-metadata in /usr/local/lib/python3.7/dist-packages (from transformers) (4.13.0)\n",
      "Requirement already satisfied: tqdm>=4.27 in /usr/local/lib/python3.7/dist-packages (from transformers) (4.64.1)\n",
      "Collecting tokenizers!=0.11.3,<0.14,>=0.11.1\n",
      "  Downloading tokenizers-0.13.2-cp37-cp37m-manylinux_2_17_x86_64.manylinux2014_x86_64.whl (7.6 MB)\n",
      "\u001b[K     |████████████████████████████████| 7.6 MB 39.1 MB/s \n",
      "\u001b[?25hRequirement already satisfied: numpy>=1.17 in /usr/local/lib/python3.7/dist-packages (from transformers) (1.21.6)\n",
      "Requirement already satisfied: pyyaml>=5.1 in /usr/local/lib/python3.7/dist-packages (from transformers) (6.0)\n",
      "Requirement already satisfied: packaging>=20.0 in /usr/local/lib/python3.7/dist-packages (from transformers) (21.3)\n",
      "Requirement already satisfied: requests in /usr/local/lib/python3.7/dist-packages (from transformers) (2.23.0)\n",
      "Requirement already satisfied: regex!=2019.12.17 in /usr/local/lib/python3.7/dist-packages (from transformers) (2022.6.2)\n",
      "Requirement already satisfied: typing-extensions>=3.7.4.3 in /usr/local/lib/python3.7/dist-packages (from huggingface-hub<1.0,>=0.10.0->transformers) (4.1.1)\n",
      "Requirement already satisfied: pyparsing!=3.0.5,>=2.0.2 in /usr/local/lib/python3.7/dist-packages (from packaging>=20.0->transformers) (3.0.9)\n",
      "Requirement already satisfied: zipp>=0.5 in /usr/local/lib/python3.7/dist-packages (from importlib-metadata->transformers) (3.10.0)\n",
      "Requirement already satisfied: idna<3,>=2.5 in /usr/local/lib/python3.7/dist-packages (from requests->transformers) (2.10)\n",
      "Requirement already satisfied: urllib3!=1.25.0,!=1.25.1,<1.26,>=1.21.1 in /usr/local/lib/python3.7/dist-packages (from requests->transformers) (1.24.3)\n",
      "Requirement already satisfied: chardet<4,>=3.0.2 in /usr/local/lib/python3.7/dist-packages (from requests->transformers) (3.0.4)\n",
      "Requirement already satisfied: certifi>=2017.4.17 in /usr/local/lib/python3.7/dist-packages (from requests->transformers) (2022.9.24)\n",
      "Installing collected packages: tokenizers, huggingface-hub, transformers\n",
      "Successfully installed huggingface-hub-0.11.1 tokenizers-0.13.2 transformers-4.24.0\n"
     ]
    }
   ],
   "source": [
    "!pip install transformers"
   ]
  },
  {
   "cell_type": "code",
   "execution_count": null,
   "metadata": {
    "id": "wR1rdjoHTlf1"
   },
   "outputs": [],
   "source": [
    "from tqdm import tqdm\n",
    "from sklearn.metrics import (accuracy_score, classification_report,multilabel_confusion_matrix,\n",
    "                             f1_score, precision_score, recall_score)"
   ]
  },
  {
   "cell_type": "code",
   "execution_count": null,
   "metadata": {
    "id": "rapJkYUM-kyn"
   },
   "outputs": [],
   "source": [
    "import torch\n",
    "from datetime import datetime\n",
    "import pandas as pd\n",
    "import numpy as np\n",
    "# import shutil\n",
    "import sys"
   ]
  },
  {
   "cell_type": "markdown",
   "metadata": {
    "id": "PBEusbHtVEcb"
   },
   "source": [
    "# Dataset pre-processing:"
   ]
  },
  {
   "cell_type": "code",
   "execution_count": null,
   "metadata": {
    "colab": {
     "base_uri": "https://localhost:8080/",
     "height": 820
    },
    "executionInfo": {
     "elapsed": 670,
     "status": "ok",
     "timestamp": 1662546191592,
     "user": {
      "displayName": "Razan HL",
      "userId": "00189607576210306079"
     },
     "user_tz": -180
    },
    "id": "4uLoPq0T-kwL",
    "outputId": "0fb5e9a0-7936-4cad-d90f-0eb6241173e1",
    "scrolled": true
   },
   "outputs": [],
   "source": [
    "articles = joblib.load(\"/content/drive/MyDrive/MWT folder/MWT master/backups/bert_dataset.pkl\")\n",
    "articles.head()"
   ]
  },
  {
   "cell_type": "code",
   "execution_count": null,
   "metadata": {
    "id": "QcRoYme1X8sp"
   },
   "outputs": [],
   "source": [
    "# Transforming Multi-class --> Multi-label case\n",
    "labels = articles.Scope.replace({\n",
    "    'اقتصاد زراعي': \"Agricultural_Economics\",\n",
    "    'بستنة': \"Horticulture\",\n",
    "    'محاصيل حقلية': \"Crop_production\",\n",
    "    'موارد': \"Natural_Resources\",\n",
    "    'وقاية نبات': \"Plant_Protection\",\n",
    "    'تقانات حيوية': \"Agriculture_Biotechnology\",\n",
    "    'أغذية': \"Food_Technology\",\n",
    "    'إنتاج حيواني': \"Livestock_production\",\n",
    "    'بيئة وحراج': \"Environmental_Sciences\" \n",
    "})"
   ]
  },
  {
   "cell_type": "code",
   "execution_count": null,
   "metadata": {
    "colab": {
     "base_uri": "https://localhost:8080/",
     "height": 488
    },
    "executionInfo": {
     "elapsed": 668,
     "status": "ok",
     "timestamp": 1662546351512,
     "user": {
      "displayName": "Razan HL",
      "userId": "00189607576210306079"
     },
     "user_tz": -180
    },
    "id": "Pxe9NFj_uOol",
    "outputId": "4163f1e8-de63-4957-9c0c-abac89093c79",
    "scrolled": true
   },
   "outputs": [],
   "source": [
    "multi_labels = pd.get_dummies(labels)\n",
    "multi_labels"
   ]
  },
  {
   "cell_type": "code",
   "execution_count": null,
   "metadata": {
    "id": "lPxml0FBuOmH"
   },
   "outputs": [],
   "source": [
    "# Adding multi-label columns to main dataframe\n",
    "articles = articles.merge(multi_labels, left_index=True, right_index=True)\n",
    "articles"
   ]
  },
  {
   "cell_type": "code",
   "execution_count": null,
   "metadata": {
    "id": "AZguv_U6eOye"
   },
   "outputs": [],
   "source": [
    "articles.to_csv('/content/drive/MyDrive/articles7_9_22.csv', header=True)"
   ]
  },
  {
   "cell_type": "code",
   "execution_count": null,
   "metadata": {
    "colab": {
     "base_uri": "https://localhost:8080/",
     "height": 837
    },
    "executionInfo": {
     "elapsed": 1726,
     "status": "ok",
     "timestamp": 1669671112704,
     "user": {
      "displayName": "Razan HL",
      "userId": "00189607576210306079"
     },
     "user_tz": -180
    },
    "id": "RcAFso_WnkbY",
    "outputId": "abfd29e8-dba9-4bdc-b2c9-e47cdfbef6a6",
    "scrolled": true
   },
   "outputs": [],
   "source": [
    "# Manual label correction then importing transformed dataset\n",
    "articles = pd.read_csv('/content/drive/MyDrive/articles9_9_22.csv')\n",
    "articles.head()"
   ]
  },
  {
   "cell_type": "code",
   "execution_count": null,
   "metadata": {
    "colab": {
     "base_uri": "https://localhost:8080/"
    },
    "executionInfo": {
     "elapsed": 6,
     "status": "ok",
     "timestamp": 1669663943110,
     "user": {
      "displayName": "Razan HL",
      "userId": "00189607576210306079"
     },
     "user_tz": -180
    },
    "id": "LFVX_mk1OdO2",
    "outputId": "bb690cec-abf2-4824-ddda-7133467bdc1a"
   },
   "outputs": [
    {
     "name": "stdout",
     "output_type": "stream",
     "text": [
      "<class 'pandas.core.frame.DataFrame'>\n",
      "RangeIndex: 998 entries, 0 to 997\n",
      "Data columns (total 39 columns):\n",
      " #   Column                     Non-Null Count  Dtype  \n",
      "---  ------                     --------------  -----  \n",
      " 0   Unnamed: 0                 998 non-null    int64  \n",
      " 1   Article_ID                 998 non-null    int64  \n",
      " 2   folder                     998 non-null    object \n",
      " 3   ar_en                      998 non-null    object \n",
      " 4   Country                    998 non-null    object \n",
      " 5   Title                      998 non-null    object \n",
      " 6   Author                     998 non-null    object \n",
      " 7   Author_certificate         998 non-null    object \n",
      " 8   Author_specification       998 non-null    object \n",
      " 9   work                       991 non-null    object \n",
      " 10  co_Author                  825 non-null    object \n",
      " 11  Email                      891 non-null    object \n",
      " 12  contact                    893 non-null    object \n",
      " 13  Scope                      998 non-null    object \n",
      " 14  Scope_specific             821 non-null    object \n",
      " 15  Received_date              677 non-null    object \n",
      " 16  Reviewer1                  984 non-null    object \n",
      " 17  Reviewer2                  864 non-null    object \n",
      " 18  Reviewer3                  192 non-null    object \n",
      " 19  Rev1_score                 908 non-null    float64\n",
      " 20  Rev2_score                 748 non-null    float64\n",
      " 21  Rev3_score                 158 non-null    object \n",
      " 22  Score                      996 non-null    object \n",
      " 23  Volume                     998 non-null    int64  \n",
      " 24  Issue                      998 non-null    int64  \n",
      " 25  Result                     998 non-null    object \n",
      " 26  Date_of_editor_decision    452 non-null    object \n",
      " 27  label                      998 non-null    int64  \n",
      " 28  full_text_clean            998 non-null    object \n",
      " 29  abstract                   998 non-null    object \n",
      " 30  Agricultural_Economics     998 non-null    int64  \n",
      " 31  Agriculture_Biotechnology  998 non-null    int64  \n",
      " 32  Crop_production            998 non-null    int64  \n",
      " 33  Environmental_Sciences     998 non-null    int64  \n",
      " 34  Food_Technology            998 non-null    int64  \n",
      " 35  Horticulture               998 non-null    int64  \n",
      " 36  Livestock_production       998 non-null    int64  \n",
      " 37  Natural_Resources          998 non-null    int64  \n",
      " 38  Plant_Protection           998 non-null    int64  \n",
      "dtypes: float64(2), int64(14), object(23)\n",
      "memory usage: 304.2+ KB\n"
     ]
    }
   ],
   "source": [
    "articles.info()"
   ]
  },
  {
   "cell_type": "code",
   "execution_count": null,
   "metadata": {
    "colab": {
     "base_uri": "https://localhost:8080/",
     "height": 127
    },
    "executionInfo": {
     "elapsed": 22,
     "status": "ok",
     "timestamp": 1669185763954,
     "user": {
      "displayName": "Razan HL",
      "userId": "00189607576210306079"
     },
     "user_tz": -180
    },
    "id": "kDSJWwt6OVJQ",
    "outputId": "360e44ee-8366-4108-ee1e-9da63da58146",
    "scrolled": true
   },
   "outputs": [],
   "source": [
    "articles['full_text_clean'][0]"
   ]
  },
  {
   "cell_type": "code",
   "execution_count": null,
   "metadata": {
    "id": "Re8aqOXfMj6I"
   },
   "outputs": [],
   "source": [
    "# Splitting long text into chunks of 150 words each\n",
    "def get_split(text1):\n",
    "  l_total = []\n",
    "  l_parcial = []\n",
    "  if len(text1.split())//150 >0:\n",
    "    n = len(text1.split())//150\n",
    "  else: \n",
    "    n = 1\n",
    "  for w in range(n):\n",
    "    if w == 0:\n",
    "      l_parcial = text1.split()[:200]\n",
    "      l_total.append(\" \".join(l_parcial))\n",
    "    else:\n",
    "      l_parcial = text1.split()[w*150:w*150 + 200]\n",
    "      l_total.append(\" \".join(l_parcial))\n",
    "  return l_total"
   ]
  },
  {
   "cell_type": "code",
   "execution_count": null,
   "metadata": {
    "id": "kjf8zS9hMkuK"
   },
   "outputs": [],
   "source": [
    "articles['split_txt'] = articles['full_text_clean'].apply(get_split)"
   ]
  },
  {
   "cell_type": "code",
   "execution_count": null,
   "metadata": {
    "id": "kLoqIk3gpZzE"
   },
   "outputs": [],
   "source": [
    "articles.drop(columns=['Unnamed: 0', 'Article_ID', 'folder', 'ar_en', 'Country', 'Title',\t'Author', 'Author_certificate', \n",
    "                       'Author_specification', 'work'], axis=1, inplace=True)\n",
    "articles.drop(columns=['co_Author',\t'Email',\t'contact',\t'Scope',\t'Scope_specific',\t'Received_date',\t'Reviewer1',\t\n",
    "                       'Reviewer2',\t'Reviewer3',\t'Rev1_score',\t'Rev2_score',\t'Rev3_score'],axis=1, inplace=True)\n",
    "articles.drop(columns=['Score',\t'Volume',\t'Issue',\t'Result',\t'Date_of_editor_decision',\t'label',\t'full_text_clean'],axis=1, inplace=True)"
   ]
  },
  {
   "cell_type": "code",
   "execution_count": null,
   "metadata": {
    "colab": {
     "base_uri": "https://localhost:8080/"
    },
    "executionInfo": {
     "elapsed": 14,
     "status": "ok",
     "timestamp": 1669638816466,
     "user": {
      "displayName": "Razan HL",
      "userId": "00189607576210306079"
     },
     "user_tz": -180
    },
    "id": "QYMtLKY8PqST",
    "outputId": "49290957-06f9-47bf-eb56-566e975d7da1"
   },
   "outputs": [
    {
     "name": "stdout",
     "output_type": "stream",
     "text": [
      "<class 'pandas.core.frame.DataFrame'>\n",
      "RangeIndex: 998 entries, 0 to 997\n",
      "Data columns (total 11 columns):\n",
      " #   Column                     Non-Null Count  Dtype \n",
      "---  ------                     --------------  ----- \n",
      " 0   abstract                   998 non-null    object\n",
      " 1   Agricultural_Economics     998 non-null    int64 \n",
      " 2   Agriculture_Biotechnology  998 non-null    int64 \n",
      " 3   Crop_production            998 non-null    int64 \n",
      " 4   Environmental_Sciences     998 non-null    int64 \n",
      " 5   Food_Technology            998 non-null    int64 \n",
      " 6   Horticulture               998 non-null    int64 \n",
      " 7   Livestock_production       998 non-null    int64 \n",
      " 8   Natural_Resources          998 non-null    int64 \n",
      " 9   Plant_Protection           998 non-null    int64 \n",
      " 10  split_txt                  998 non-null    object\n",
      "dtypes: int64(9), object(2)\n",
      "memory usage: 85.9+ KB\n"
     ]
    }
   ],
   "source": [
    "articles.info()"
   ]
  },
  {
   "cell_type": "code",
   "execution_count": null,
   "metadata": {
    "colab": {
     "base_uri": "https://localhost:8080/"
    },
    "executionInfo": {
     "elapsed": 9,
     "status": "ok",
     "timestamp": 1669663965867,
     "user": {
      "displayName": "Razan HL",
      "userId": "00189607576210306079"
     },
     "user_tz": -180
    },
    "id": "MWUyMxa2-krU",
    "outputId": "c3026b34-3a91-447a-ff86-20edbac06fae"
   },
   "outputs": [
    {
     "data": {
      "text/plain": [
       "((798, 11), (200, 11))"
      ]
     },
     "execution_count": 8,
     "metadata": {},
     "output_type": "execute_result"
    }
   ],
   "source": [
    "# Train- Test split\n",
    "train_dataset = articles.sample(frac=0.8, random_state= 42).reset_index(drop=True)\n",
    "test_dataset = articles.drop(axis=0, index=train_dataset.index).reset_index(drop=True)\n",
    "train_dataset.shape, test_dataset.shape"
   ]
  },
  {
   "cell_type": "code",
   "execution_count": null,
   "metadata": {
    "colab": {
     "base_uri": "https://localhost:8080/"
    },
    "executionInfo": {
     "elapsed": 10,
     "status": "ok",
     "timestamp": 1669355249769,
     "user": {
      "displayName": "Razan HL",
      "userId": "00189607576210306079"
     },
     "user_tz": -180
    },
    "id": "CTHMW1bltjyM",
    "outputId": "a1dad6cd-4892-4542-fb3e-fdcff317f240"
   },
   "outputs": [
    {
     "data": {
      "text/plain": [
       "((638, 11), (160, 11))"
      ]
     },
     "execution_count": 12,
     "metadata": {},
     "output_type": "execute_result"
    }
   ],
   "source": [
    "# text train_set & val_set & test_set\n",
    "train_set = train_dataset.sample(frac=0.8, random_state= 42).reset_index(drop=True)\n",
    "val_set = train_dataset.drop(axis=0, index=train_set.index).reset_index(drop=True)\n",
    "train_set.shape , val_set.shape"
   ]
  },
  {
   "cell_type": "code",
   "execution_count": null,
   "metadata": {
    "colab": {
     "base_uri": "https://localhost:8080/"
    },
    "executionInfo": {
     "elapsed": 412,
     "status": "ok",
     "timestamp": 1669313913599,
     "user": {
      "displayName": "Razan HL",
      "userId": "00189607576210306079"
     },
     "user_tz": -180
    },
    "id": "9WsR0Ps3NsFN",
    "outputId": "a6abb1cf-e37e-4867-aea1-c673db6d0664"
   },
   "outputs": [
    {
     "name": "stdout",
     "output_type": "stream",
     "text": [
      "<class 'pandas.core.frame.DataFrame'>\n",
      "RangeIndex: 638 entries, 0 to 637\n",
      "Data columns (total 11 columns):\n",
      " #   Column                     Non-Null Count  Dtype \n",
      "---  ------                     --------------  ----- \n",
      " 0   abstract                   638 non-null    object\n",
      " 1   Agricultural_Economics     638 non-null    int64 \n",
      " 2   Agriculture_Biotechnology  638 non-null    int64 \n",
      " 3   Crop_production            638 non-null    int64 \n",
      " 4   Environmental_Sciences     638 non-null    int64 \n",
      " 5   Food_Technology            638 non-null    int64 \n",
      " 6   Horticulture               638 non-null    int64 \n",
      " 7   Livestock_production       638 non-null    int64 \n",
      " 8   Natural_Resources          638 non-null    int64 \n",
      " 9   Plant_Protection           638 non-null    int64 \n",
      " 10  split_txt                  638 non-null    object\n",
      "dtypes: int64(9), object(2)\n",
      "memory usage: 55.0+ KB\n"
     ]
    }
   ],
   "source": [
    "train_set.info()"
   ]
  },
  {
   "cell_type": "code",
   "execution_count": null,
   "metadata": {
    "colab": {
     "base_uri": "https://localhost:8080/"
    },
    "executionInfo": {
     "elapsed": 794,
     "status": "ok",
     "timestamp": 1669313929766,
     "user": {
      "displayName": "Razan HL",
      "userId": "00189607576210306079"
     },
     "user_tz": -180
    },
    "id": "kWgkTqs2Mkr_",
    "outputId": "2c1ab78e-4275-4811-e600-13be6d8888c8"
   },
   "outputs": [
    {
     "data": {
      "text/plain": [
       "(10758, 10758)"
      ]
     },
     "execution_count": 13,
     "metadata": {},
     "output_type": "execute_result"
    }
   ],
   "source": [
    "train_l = []\n",
    "label1, label2, label3, label4, label5, label6, label7, label8, label9 = [], [],[],[],[],[],[],[],[]\n",
    "index_l =[]\n",
    "for idx,row in train_set.iterrows():\n",
    "  for l in row['split_txt']:\n",
    "    train_l.append(l)\n",
    "    label1.append(row['Agricultural_Economics'])\n",
    "    label2.append(row['Agriculture_Biotechnology'])\n",
    "    label3.append(row['Crop_production'])\n",
    "    label4.append(row['Environmental_Sciences'])\n",
    "    label5.append(row['Food_Technology'])\n",
    "    label6.append(row['Horticulture'])\n",
    "    label7.append(row['Livestock_production'])\n",
    "    label8.append(row['Natural_Resources'])\n",
    "    label9.append(row['Plant_Protection'])\n",
    "    index_l.append(idx)\n",
    "len(train_l), len(index_l)"
   ]
  },
  {
   "cell_type": "code",
   "execution_count": null,
   "metadata": {
    "colab": {
     "base_uri": "https://localhost:8080/",
     "height": 634
    },
    "executionInfo": {
     "elapsed": 511,
     "status": "ok",
     "timestamp": 1669314109769,
     "user": {
      "displayName": "Razan HL",
      "userId": "00189607576210306079"
     },
     "user_tz": -180
    },
    "id": "FGHXK0zDYKku",
    "outputId": "3a351b20-bb04-49ff-80da-519eb1fd4a49",
    "scrolled": true
   },
   "outputs": [],
   "source": [
    "splited_train = pd.DataFrame({\"ids\": index_l, \"sp_text\": train_l, \n",
    "                              \"Agricultural_Economics\": label1, \n",
    "                              \"Agriculture_Biotechnology\": label2,\n",
    "                              \"Crop_production\": label3,\n",
    "                              \"Environmental_Sciences\": label4,\n",
    "                              \"Food_Technology\": label5,\n",
    "                              \"Horticulture\": label6,\n",
    "                              \"Livestock_production\": label7,\n",
    "                              \"Natural_Resources\": label8,\n",
    "                              \"Plant_Protection\": label9})\n",
    "splited_train.head()"
   ]
  },
  {
   "cell_type": "code",
   "execution_count": null,
   "metadata": {
    "colab": {
     "base_uri": "https://localhost:8080/"
    },
    "executionInfo": {
     "elapsed": 468,
     "status": "ok",
     "timestamp": 1669314115237,
     "user": {
      "displayName": "Razan HL",
      "userId": "00189607576210306079"
     },
     "user_tz": -180
    },
    "id": "bG52UYMHs-bP",
    "outputId": "f84b8948-fda1-43d1-d030-b47a7f002f21"
   },
   "outputs": [
    {
     "name": "stdout",
     "output_type": "stream",
     "text": [
      "<class 'pandas.core.frame.DataFrame'>\n",
      "RangeIndex: 10758 entries, 0 to 10757\n",
      "Data columns (total 11 columns):\n",
      " #   Column                     Non-Null Count  Dtype \n",
      "---  ------                     --------------  ----- \n",
      " 0   ids                        10758 non-null  int64 \n",
      " 1   sp_text                    10758 non-null  object\n",
      " 2   Agricultural_Economics     10758 non-null  int64 \n",
      " 3   Agriculture_Biotechnology  10758 non-null  int64 \n",
      " 4   Crop_production            10758 non-null  int64 \n",
      " 5   Environmental_Sciences     10758 non-null  int64 \n",
      " 6   Food_Technology            10758 non-null  int64 \n",
      " 7   Horticulture               10758 non-null  int64 \n",
      " 8   Livestock_production       10758 non-null  int64 \n",
      " 9   Natural_Resources          10758 non-null  int64 \n",
      " 10  Plant_Protection           10758 non-null  int64 \n",
      "dtypes: int64(10), object(1)\n",
      "memory usage: 924.6+ KB\n"
     ]
    }
   ],
   "source": [
    "splited_train.info()"
   ]
  },
  {
   "cell_type": "code",
   "execution_count": null,
   "metadata": {
    "colab": {
     "base_uri": "https://localhost:8080/"
    },
    "executionInfo": {
     "elapsed": 637,
     "status": "ok",
     "timestamp": 1669355261967,
     "user": {
      "displayName": "Razan HL",
      "userId": "00189607576210306079"
     },
     "user_tz": -180
    },
    "id": "DVl58h7wvjWh",
    "outputId": "17814ff2-6828-460b-9335-3e45c290484b"
   },
   "outputs": [
    {
     "data": {
      "text/plain": [
       "(2649, 2649)"
      ]
     },
     "execution_count": 13,
     "metadata": {},
     "output_type": "execute_result"
    }
   ],
   "source": [
    "val_l = []\n",
    "label1, label2, label3, label4, label5, label6, label7, label8, label9 = [], [],[],[],[],[],[],[],[]\n",
    "index_l =[]\n",
    "for idx,row in val_set.iterrows():\n",
    "  for l in row['split_txt']:\n",
    "    val_l.append(l)\n",
    "    label1.append(row['Agricultural_Economics'])\n",
    "    label2.append(row['Agriculture_Biotechnology'])\n",
    "    label3.append(row['Crop_production'])\n",
    "    label4.append(row['Environmental_Sciences'])\n",
    "    label5.append(row['Food_Technology'])\n",
    "    label6.append(row['Horticulture'])\n",
    "    label7.append(row['Livestock_production'])\n",
    "    label8.append(row['Natural_Resources'])\n",
    "    label9.append(row['Plant_Protection'])\n",
    "    index_l.append(idx)\n",
    "len(val_l), len(index_l)"
   ]
  },
  {
   "cell_type": "code",
   "execution_count": null,
   "metadata": {
    "colab": {
     "base_uri": "https://localhost:8080/",
     "height": 704
    },
    "executionInfo": {
     "elapsed": 18,
     "status": "ok",
     "timestamp": 1669355264841,
     "user": {
      "displayName": "Razan HL",
      "userId": "00189607576210306079"
     },
     "user_tz": -180
    },
    "id": "aCyASwl5vjW5",
    "outputId": "ebfe3e93-563d-4e00-dc35-b278b0a95a41",
    "scrolled": true
   },
   "outputs": [],
   "source": [
    "splited_validation = pd.DataFrame({\"ids\": index_l, \"sp_text\": val_l, \n",
    "                              \"Agricultural_Economics\": label1, \n",
    "                              \"Agriculture_Biotechnology\": label2,\n",
    "                              \"Crop_production\": label3,\n",
    "                              \"Environmental_Sciences\": label4,\n",
    "                              \"Food_Technology\": label5,\n",
    "                              \"Horticulture\": label6,\n",
    "                              \"Livestock_production\": label7,\n",
    "                              \"Natural_Resources\": label8,\n",
    "                              \"Plant_Protection\": label9})\n",
    "splited_validation.head()"
   ]
  },
  {
   "cell_type": "code",
   "execution_count": null,
   "metadata": {
    "colab": {
     "base_uri": "https://localhost:8080/"
    },
    "executionInfo": {
     "elapsed": 693,
     "status": "ok",
     "timestamp": 1669663980961,
     "user": {
      "displayName": "Razan HL",
      "userId": "00189607576210306079"
     },
     "user_tz": -180
    },
    "id": "VKjvIAMMwtV3",
    "outputId": "de6e69df-5240-4854-e6ba-2f847efb7a17"
   },
   "outputs": [
    {
     "data": {
      "text/plain": [
       "(3407, 3407)"
      ]
     },
     "execution_count": 9,
     "metadata": {},
     "output_type": "execute_result"
    }
   ],
   "source": [
    "test_l = []\n",
    "label1, label2, label3, label4, label5, label6, label7, label8, label9 = [], [],[],[],[],[],[],[],[]\n",
    "index_l =[]\n",
    "for idx,row in test_dataset.iterrows():\n",
    "  for l in row['split_txt']:\n",
    "    test_l.append(l)\n",
    "    label1.append(row['Agricultural_Economics'])\n",
    "    label2.append(row['Agriculture_Biotechnology'])\n",
    "    label3.append(row['Crop_production'])\n",
    "    label4.append(row['Environmental_Sciences'])\n",
    "    label5.append(row['Food_Technology'])\n",
    "    label6.append(row['Horticulture'])\n",
    "    label7.append(row['Livestock_production'])\n",
    "    label8.append(row['Natural_Resources'])\n",
    "    label9.append(row['Plant_Protection'])\n",
    "    index_l.append(idx)\n",
    "len(test_l), len(index_l)"
   ]
  },
  {
   "cell_type": "code",
   "execution_count": null,
   "metadata": {
    "colab": {
     "base_uri": "https://localhost:8080/",
     "height": 704
    },
    "executionInfo": {
     "elapsed": 19,
     "status": "ok",
     "timestamp": 1669663983714,
     "user": {
      "displayName": "Razan HL",
      "userId": "00189607576210306079"
     },
     "user_tz": -180
    },
    "id": "gNsISqr3wtWR",
    "outputId": "4116a917-e87a-4392-d160-895702593bb8",
    "scrolled": true
   },
   "outputs": [],
   "source": [
    "splited_test = pd.DataFrame({\"ids\": index_l, \"sp_text\": test_l, \n",
    "                              \"Agricultural_Economics\": label1, \n",
    "                              \"Agriculture_Biotechnology\": label2,\n",
    "                              \"Crop_production\": label3,\n",
    "                              \"Environmental_Sciences\": label4,\n",
    "                              \"Food_Technology\": label5,\n",
    "                              \"Horticulture\": label6,\n",
    "                              \"Livestock_production\": label7,\n",
    "                              \"Natural_Resources\": label8,\n",
    "                              \"Plant_Protection\": label9})\n",
    "splited_test.head()"
   ]
  },
  {
   "cell_type": "code",
   "execution_count": null,
   "metadata": {
    "colab": {
     "base_uri": "https://localhost:8080/"
    },
    "executionInfo": {
     "elapsed": 1706,
     "status": "ok",
     "timestamp": 1669638880267,
     "user": {
      "displayName": "Razan HL",
      "userId": "00189607576210306079"
     },
     "user_tz": -180
    },
    "id": "kYlJE_y5uY7U",
    "outputId": "a5b103bc-8606-4c37-88d5-4104a2a3bcfa"
   },
   "outputs": [
    {
     "data": {
      "text/plain": [
       "(3407, 11)"
      ]
     },
     "execution_count": 45,
     "metadata": {},
     "output_type": "execute_result"
    }
   ],
   "source": [
    "# shufle data\n",
    "# splited_train = splited_train.sample(frac=1, random_state= 42).reset_index(drop=True)\n",
    "# splited_validation = splited_validation.sample(frac=1, random_state= 42).reset_index(drop=True)\n",
    "splited_test = splited_test.sample(frac=1, random_state= 42).reset_index(drop=True)\n",
    "# splited_train.shape, \n",
    "# splited_validation.shape, \n",
    "splited_test.shape"
   ]
  },
  {
   "cell_type": "markdown",
   "metadata": {
    "id": "8Waz1MhmadPj"
   },
   "source": [
    "# Undersampling (train set, validation set):"
   ]
  },
  {
   "cell_type": "code",
   "execution_count": null,
   "metadata": {
    "colab": {
     "base_uri": "https://localhost:8080/",
     "height": 176
    },
    "executionInfo": {
     "elapsed": 12,
     "status": "ok",
     "timestamp": 1662845916875,
     "user": {
      "displayName": "Razan HL",
      "userId": "00189607576210306079"
     },
     "user_tz": -180
    },
    "id": "15gCY4dALtf3",
    "outputId": "8d42db4f-25d5-47fb-dba0-48c5dcdb6550"
   },
   "outputs": [
    {
     "data": {
      "text/html": [
       "\n",
       "  <div id=\"df-8424b685-3560-405e-9886-af99230acb0f\">\n",
       "    <div class=\"colab-df-container\">\n",
       "      <div>\n",
       "<style scoped>\n",
       "    .dataframe tbody tr th:only-of-type {\n",
       "        vertical-align: middle;\n",
       "    }\n",
       "\n",
       "    .dataframe tbody tr th {\n",
       "        vertical-align: top;\n",
       "    }\n",
       "\n",
       "    .dataframe thead th {\n",
       "        text-align: right;\n",
       "    }\n",
       "</style>\n",
       "<table border=\"1\" class=\"dataframe\">\n",
       "  <thead>\n",
       "    <tr style=\"text-align: right;\">\n",
       "      <th></th>\n",
       "      <th>ids</th>\n",
       "      <th>Agricultural_Economics</th>\n",
       "      <th>Crop_production</th>\n",
       "      <th>Environmental_Sciences</th>\n",
       "      <th>Food_Technology</th>\n",
       "      <th>Horticulture</th>\n",
       "      <th>Livestock_production</th>\n",
       "      <th>Natural_Resources</th>\n",
       "      <th>Plant_Protection</th>\n",
       "    </tr>\n",
       "    <tr>\n",
       "      <th>Agriculture_Biotechnology</th>\n",
       "      <th></th>\n",
       "      <th></th>\n",
       "      <th></th>\n",
       "      <th></th>\n",
       "      <th></th>\n",
       "      <th></th>\n",
       "      <th></th>\n",
       "      <th></th>\n",
       "      <th></th>\n",
       "    </tr>\n",
       "  </thead>\n",
       "  <tbody>\n",
       "    <tr>\n",
       "      <th>1</th>\n",
       "      <td>361546</td>\n",
       "      <td>0</td>\n",
       "      <td>115</td>\n",
       "      <td>39</td>\n",
       "      <td>40</td>\n",
       "      <td>203</td>\n",
       "      <td>154</td>\n",
       "      <td>128</td>\n",
       "      <td>46</td>\n",
       "    </tr>\n",
       "  </tbody>\n",
       "</table>\n",
       "</div>\n",
       "      <button class=\"colab-df-convert\" onclick=\"convertToInteractive('df-8424b685-3560-405e-9886-af99230acb0f')\"\n",
       "              title=\"Convert this dataframe to an interactive table.\"\n",
       "              style=\"display:none;\">\n",
       "        \n",
       "  <svg xmlns=\"http://www.w3.org/2000/svg\" height=\"24px\"viewBox=\"0 0 24 24\"\n",
       "       width=\"24px\">\n",
       "    <path d=\"M0 0h24v24H0V0z\" fill=\"none\"/>\n",
       "    <path d=\"M18.56 5.44l.94 2.06.94-2.06 2.06-.94-2.06-.94-.94-2.06-.94 2.06-2.06.94zm-11 1L8.5 8.5l.94-2.06 2.06-.94-2.06-.94L8.5 2.5l-.94 2.06-2.06.94zm10 10l.94 2.06.94-2.06 2.06-.94-2.06-.94-.94-2.06-.94 2.06-2.06.94z\"/><path d=\"M17.41 7.96l-1.37-1.37c-.4-.4-.92-.59-1.43-.59-.52 0-1.04.2-1.43.59L10.3 9.45l-7.72 7.72c-.78.78-.78 2.05 0 2.83L4 21.41c.39.39.9.59 1.41.59.51 0 1.02-.2 1.41-.59l7.78-7.78 2.81-2.81c.8-.78.8-2.07 0-2.86zM5.41 20L4 18.59l7.72-7.72 1.47 1.35L5.41 20z\"/>\n",
       "  </svg>\n",
       "      </button>\n",
       "      \n",
       "  <style>\n",
       "    .colab-df-container {\n",
       "      display:flex;\n",
       "      flex-wrap:wrap;\n",
       "      gap: 12px;\n",
       "    }\n",
       "\n",
       "    .colab-df-convert {\n",
       "      background-color: #E8F0FE;\n",
       "      border: none;\n",
       "      border-radius: 50%;\n",
       "      cursor: pointer;\n",
       "      display: none;\n",
       "      fill: #1967D2;\n",
       "      height: 32px;\n",
       "      padding: 0 0 0 0;\n",
       "      width: 32px;\n",
       "    }\n",
       "\n",
       "    .colab-df-convert:hover {\n",
       "      background-color: #E2EBFA;\n",
       "      box-shadow: 0px 1px 2px rgba(60, 64, 67, 0.3), 0px 1px 3px 1px rgba(60, 64, 67, 0.15);\n",
       "      fill: #174EA6;\n",
       "    }\n",
       "\n",
       "    [theme=dark] .colab-df-convert {\n",
       "      background-color: #3B4455;\n",
       "      fill: #D2E3FC;\n",
       "    }\n",
       "\n",
       "    [theme=dark] .colab-df-convert:hover {\n",
       "      background-color: #434B5C;\n",
       "      box-shadow: 0px 1px 3px 1px rgba(0, 0, 0, 0.15);\n",
       "      filter: drop-shadow(0px 1px 2px rgba(0, 0, 0, 0.3));\n",
       "      fill: #FFFFFF;\n",
       "    }\n",
       "  </style>\n",
       "\n",
       "      <script>\n",
       "        const buttonEl =\n",
       "          document.querySelector('#df-8424b685-3560-405e-9886-af99230acb0f button.colab-df-convert');\n",
       "        buttonEl.style.display =\n",
       "          google.colab.kernel.accessAllowed ? 'block' : 'none';\n",
       "\n",
       "        async function convertToInteractive(key) {\n",
       "          const element = document.querySelector('#df-8424b685-3560-405e-9886-af99230acb0f');\n",
       "          const dataTable =\n",
       "            await google.colab.kernel.invokeFunction('convertToInteractive',\n",
       "                                                     [key], {});\n",
       "          if (!dataTable) return;\n",
       "\n",
       "          const docLinkHtml = 'Like what you see? Visit the ' +\n",
       "            '<a target=\"_blank\" href=https://colab.research.google.com/notebooks/data_table.ipynb>data table notebook</a>'\n",
       "            + ' to learn more about interactive tables.';\n",
       "          element.innerHTML = '';\n",
       "          dataTable['output_type'] = 'display_data';\n",
       "          await google.colab.output.renderOutput(dataTable, element);\n",
       "          const docLink = document.createElement('div');\n",
       "          docLink.innerHTML = docLinkHtml;\n",
       "          element.appendChild(docLink);\n",
       "        }\n",
       "      </script>\n",
       "    </div>\n",
       "  </div>\n",
       "  "
      ],
      "text/plain": [
       "                              ids  Agricultural_Economics  Crop_production  \\\n",
       "Agriculture_Biotechnology                                                    \n",
       "1                          361546                       0              115   \n",
       "\n",
       "                           Environmental_Sciences  Food_Technology  \\\n",
       "Agriculture_Biotechnology                                            \n",
       "1                                              39               40   \n",
       "\n",
       "                           Horticulture  Livestock_production  \\\n",
       "Agriculture_Biotechnology                                       \n",
       "1                                   203                   154   \n",
       "\n",
       "                           Natural_Resources  Plant_Protection  \n",
       "Agriculture_Biotechnology                                       \n",
       "1                                        128                46  "
      ]
     },
     "execution_count": 14,
     "metadata": {},
     "output_type": "execute_result"
    }
   ],
   "source": [
    "df1 = splited_train[splited_train['Agriculture_Biotechnology'] == 1]\n",
    "df1.groupby(['Agriculture_Biotechnology']).sum()"
   ]
  },
  {
   "cell_type": "code",
   "execution_count": null,
   "metadata": {
    "id": "B0dNzXUaVsxj"
   },
   "outputs": [],
   "source": [
    "splited_train.drop(df1.index, inplace = True)"
   ]
  },
  {
   "cell_type": "code",
   "execution_count": null,
   "metadata": {
    "colab": {
     "base_uri": "https://localhost:8080/"
    },
    "executionInfo": {
     "elapsed": 7,
     "status": "ok",
     "timestamp": 1662845922735,
     "user": {
      "displayName": "Razan HL",
      "userId": "00189607576210306079"
     },
     "user_tz": -180
    },
    "id": "saoxfw80wG0P",
    "outputId": "518186ff-b44b-4969-b9a4-42c4c1eebf72"
   },
   "outputs": [
    {
     "name": "stdout",
     "output_type": "stream",
     "text": [
      "<class 'pandas.core.frame.DataFrame'>\n",
      "Int64Index: 12469 entries, 0 to 13205\n",
      "Data columns (total 11 columns):\n",
      " #   Column                     Non-Null Count  Dtype \n",
      "---  ------                     --------------  ----- \n",
      " 0   ids                        12469 non-null  int64 \n",
      " 1   sp_text                    12469 non-null  object\n",
      " 2   Agricultural_Economics     12469 non-null  int64 \n",
      " 3   Agriculture_Biotechnology  12469 non-null  int64 \n",
      " 4   Crop_production            12469 non-null  int64 \n",
      " 5   Environmental_Sciences     12469 non-null  int64 \n",
      " 6   Food_Technology            12469 non-null  int64 \n",
      " 7   Horticulture               12469 non-null  int64 \n",
      " 8   Livestock_production       12469 non-null  int64 \n",
      " 9   Natural_Resources          12469 non-null  int64 \n",
      " 10  Plant_Protection           12469 non-null  int64 \n",
      "dtypes: int64(10), object(1)\n",
      "memory usage: 1.1+ MB\n"
     ]
    }
   ],
   "source": [
    "splited_train.info()"
   ]
  },
  {
   "cell_type": "code",
   "execution_count": null,
   "metadata": {
    "colab": {
     "base_uri": "https://localhost:8080/",
     "height": 176
    },
    "executionInfo": {
     "elapsed": 11,
     "status": "ok",
     "timestamp": 1662845928372,
     "user": {
      "displayName": "Razan HL",
      "userId": "00189607576210306079"
     },
     "user_tz": -180
    },
    "id": "Nyne5oKMLtZR",
    "outputId": "94e09ddb-8169-4187-ff0d-d1c72153a3f9"
   },
   "outputs": [
    {
     "data": {
      "text/html": [
       "\n",
       "  <div id=\"df-9ccb1df0-0607-412c-8baa-45f35bc01c68\">\n",
       "    <div class=\"colab-df-container\">\n",
       "      <div>\n",
       "<style scoped>\n",
       "    .dataframe tbody tr th:only-of-type {\n",
       "        vertical-align: middle;\n",
       "    }\n",
       "\n",
       "    .dataframe tbody tr th {\n",
       "        vertical-align: top;\n",
       "    }\n",
       "\n",
       "    .dataframe thead th {\n",
       "        text-align: right;\n",
       "    }\n",
       "</style>\n",
       "<table border=\"1\" class=\"dataframe\">\n",
       "  <thead>\n",
       "    <tr style=\"text-align: right;\">\n",
       "      <th></th>\n",
       "      <th>ids</th>\n",
       "      <th>Agriculture_Biotechnology</th>\n",
       "      <th>Crop_production</th>\n",
       "      <th>Environmental_Sciences</th>\n",
       "      <th>Food_Technology</th>\n",
       "      <th>Horticulture</th>\n",
       "      <th>Livestock_production</th>\n",
       "      <th>Natural_Resources</th>\n",
       "      <th>Plant_Protection</th>\n",
       "    </tr>\n",
       "    <tr>\n",
       "      <th>Agricultural_Economics</th>\n",
       "      <th></th>\n",
       "      <th></th>\n",
       "      <th></th>\n",
       "      <th></th>\n",
       "      <th></th>\n",
       "      <th></th>\n",
       "      <th></th>\n",
       "      <th></th>\n",
       "      <th></th>\n",
       "    </tr>\n",
       "  </thead>\n",
       "  <tbody>\n",
       "    <tr>\n",
       "      <th>1</th>\n",
       "      <td>1039519</td>\n",
       "      <td>0</td>\n",
       "      <td>0</td>\n",
       "      <td>90</td>\n",
       "      <td>0</td>\n",
       "      <td>0</td>\n",
       "      <td>16</td>\n",
       "      <td>0</td>\n",
       "      <td>0</td>\n",
       "    </tr>\n",
       "  </tbody>\n",
       "</table>\n",
       "</div>\n",
       "      <button class=\"colab-df-convert\" onclick=\"convertToInteractive('df-9ccb1df0-0607-412c-8baa-45f35bc01c68')\"\n",
       "              title=\"Convert this dataframe to an interactive table.\"\n",
       "              style=\"display:none;\">\n",
       "        \n",
       "  <svg xmlns=\"http://www.w3.org/2000/svg\" height=\"24px\"viewBox=\"0 0 24 24\"\n",
       "       width=\"24px\">\n",
       "    <path d=\"M0 0h24v24H0V0z\" fill=\"none\"/>\n",
       "    <path d=\"M18.56 5.44l.94 2.06.94-2.06 2.06-.94-2.06-.94-.94-2.06-.94 2.06-2.06.94zm-11 1L8.5 8.5l.94-2.06 2.06-.94-2.06-.94L8.5 2.5l-.94 2.06-2.06.94zm10 10l.94 2.06.94-2.06 2.06-.94-2.06-.94-.94-2.06-.94 2.06-2.06.94z\"/><path d=\"M17.41 7.96l-1.37-1.37c-.4-.4-.92-.59-1.43-.59-.52 0-1.04.2-1.43.59L10.3 9.45l-7.72 7.72c-.78.78-.78 2.05 0 2.83L4 21.41c.39.39.9.59 1.41.59.51 0 1.02-.2 1.41-.59l7.78-7.78 2.81-2.81c.8-.78.8-2.07 0-2.86zM5.41 20L4 18.59l7.72-7.72 1.47 1.35L5.41 20z\"/>\n",
       "  </svg>\n",
       "      </button>\n",
       "      \n",
       "  <style>\n",
       "    .colab-df-container {\n",
       "      display:flex;\n",
       "      flex-wrap:wrap;\n",
       "      gap: 12px;\n",
       "    }\n",
       "\n",
       "    .colab-df-convert {\n",
       "      background-color: #E8F0FE;\n",
       "      border: none;\n",
       "      border-radius: 50%;\n",
       "      cursor: pointer;\n",
       "      display: none;\n",
       "      fill: #1967D2;\n",
       "      height: 32px;\n",
       "      padding: 0 0 0 0;\n",
       "      width: 32px;\n",
       "    }\n",
       "\n",
       "    .colab-df-convert:hover {\n",
       "      background-color: #E2EBFA;\n",
       "      box-shadow: 0px 1px 2px rgba(60, 64, 67, 0.3), 0px 1px 3px 1px rgba(60, 64, 67, 0.15);\n",
       "      fill: #174EA6;\n",
       "    }\n",
       "\n",
       "    [theme=dark] .colab-df-convert {\n",
       "      background-color: #3B4455;\n",
       "      fill: #D2E3FC;\n",
       "    }\n",
       "\n",
       "    [theme=dark] .colab-df-convert:hover {\n",
       "      background-color: #434B5C;\n",
       "      box-shadow: 0px 1px 3px 1px rgba(0, 0, 0, 0.15);\n",
       "      filter: drop-shadow(0px 1px 2px rgba(0, 0, 0, 0.3));\n",
       "      fill: #FFFFFF;\n",
       "    }\n",
       "  </style>\n",
       "\n",
       "      <script>\n",
       "        const buttonEl =\n",
       "          document.querySelector('#df-9ccb1df0-0607-412c-8baa-45f35bc01c68 button.colab-df-convert');\n",
       "        buttonEl.style.display =\n",
       "          google.colab.kernel.accessAllowed ? 'block' : 'none';\n",
       "\n",
       "        async function convertToInteractive(key) {\n",
       "          const element = document.querySelector('#df-9ccb1df0-0607-412c-8baa-45f35bc01c68');\n",
       "          const dataTable =\n",
       "            await google.colab.kernel.invokeFunction('convertToInteractive',\n",
       "                                                     [key], {});\n",
       "          if (!dataTable) return;\n",
       "\n",
       "          const docLinkHtml = 'Like what you see? Visit the ' +\n",
       "            '<a target=\"_blank\" href=https://colab.research.google.com/notebooks/data_table.ipynb>data table notebook</a>'\n",
       "            + ' to learn more about interactive tables.';\n",
       "          element.innerHTML = '';\n",
       "          dataTable['output_type'] = 'display_data';\n",
       "          await google.colab.output.renderOutput(dataTable, element);\n",
       "          const docLink = document.createElement('div');\n",
       "          docLink.innerHTML = docLinkHtml;\n",
       "          element.appendChild(docLink);\n",
       "        }\n",
       "      </script>\n",
       "    </div>\n",
       "  </div>\n",
       "  "
      ],
      "text/plain": [
       "                            ids  Agriculture_Biotechnology  Crop_production  \\\n",
       "Agricultural_Economics                                                        \n",
       "1                       1039519                          0                0   \n",
       "\n",
       "                        Environmental_Sciences  Food_Technology  Horticulture  \\\n",
       "Agricultural_Economics                                                          \n",
       "1                                           90                0             0   \n",
       "\n",
       "                        Livestock_production  Natural_Resources  \\\n",
       "Agricultural_Economics                                            \n",
       "1                                         16                  0   \n",
       "\n",
       "                        Plant_Protection  \n",
       "Agricultural_Economics                    \n",
       "1                                      0  "
      ]
     },
     "execution_count": 17,
     "metadata": {},
     "output_type": "execute_result"
    }
   ],
   "source": [
    "df2 = splited_train[splited_train['Agricultural_Economics'] == 1]\n",
    "df2.groupby(['Agricultural_Economics']).sum()"
   ]
  },
  {
   "cell_type": "code",
   "execution_count": null,
   "metadata": {
    "colab": {
     "base_uri": "https://localhost:8080/"
    },
    "executionInfo": {
     "elapsed": 5,
     "status": "ok",
     "timestamp": 1662845931824,
     "user": {
      "displayName": "Razan HL",
      "userId": "00189607576210306079"
     },
     "user_tz": -180
    },
    "id": "BiX3qzSXwajh",
    "outputId": "01adceaa-bbf5-413a-8c7c-a06b553b5d94"
   },
   "outputs": [
    {
     "name": "stdout",
     "output_type": "stream",
     "text": [
      "<class 'pandas.core.frame.DataFrame'>\n",
      "Int64Index: 1916 entries, 39 to 13050\n",
      "Data columns (total 11 columns):\n",
      " #   Column                     Non-Null Count  Dtype \n",
      "---  ------                     --------------  ----- \n",
      " 0   ids                        1916 non-null   int64 \n",
      " 1   sp_text                    1916 non-null   object\n",
      " 2   Agricultural_Economics     1916 non-null   int64 \n",
      " 3   Agriculture_Biotechnology  1916 non-null   int64 \n",
      " 4   Crop_production            1916 non-null   int64 \n",
      " 5   Environmental_Sciences     1916 non-null   int64 \n",
      " 6   Food_Technology            1916 non-null   int64 \n",
      " 7   Horticulture               1916 non-null   int64 \n",
      " 8   Livestock_production       1916 non-null   int64 \n",
      " 9   Natural_Resources          1916 non-null   int64 \n",
      " 10  Plant_Protection           1916 non-null   int64 \n",
      "dtypes: int64(10), object(1)\n",
      "memory usage: 179.6+ KB\n"
     ]
    }
   ],
   "source": [
    "df2.info()"
   ]
  },
  {
   "cell_type": "code",
   "execution_count": null,
   "metadata": {
    "colab": {
     "base_uri": "https://localhost:8080/"
    },
    "executionInfo": {
     "elapsed": 8,
     "status": "ok",
     "timestamp": 1662845938983,
     "user": {
      "displayName": "Razan HL",
      "userId": "00189607576210306079"
     },
     "user_tz": -180
    },
    "id": "EZbENx5swld-",
    "outputId": "ed87cebf-88dd-4290-f52e-087bd4a4db2f"
   },
   "outputs": [
    {
     "name": "stdout",
     "output_type": "stream",
     "text": [
      "<class 'pandas.core.frame.DataFrame'>\n",
      "Int64Index: 737 entries, 9036 to 11888\n",
      "Data columns (total 11 columns):\n",
      " #   Column                     Non-Null Count  Dtype \n",
      "---  ------                     --------------  ----- \n",
      " 0   ids                        737 non-null    int64 \n",
      " 1   sp_text                    737 non-null    object\n",
      " 2   Agricultural_Economics     737 non-null    int64 \n",
      " 3   Agriculture_Biotechnology  737 non-null    int64 \n",
      " 4   Crop_production            737 non-null    int64 \n",
      " 5   Environmental_Sciences     737 non-null    int64 \n",
      " 6   Food_Technology            737 non-null    int64 \n",
      " 7   Horticulture               737 non-null    int64 \n",
      " 8   Livestock_production       737 non-null    int64 \n",
      " 9   Natural_Resources          737 non-null    int64 \n",
      " 10  Plant_Protection           737 non-null    int64 \n",
      "dtypes: int64(10), object(1)\n",
      "memory usage: 69.1+ KB\n"
     ]
    }
   ],
   "source": [
    "df2 = df2[df2['Environmental_Sciences'] == 0]\n",
    "df2 = df2[df2['Livestock_production'] == 0]\n",
    "df2 = df2.sample(737,random_state=45)\n",
    "df2.info()"
   ]
  },
  {
   "cell_type": "code",
   "execution_count": null,
   "metadata": {
    "colab": {
     "base_uri": "https://localhost:8080/"
    },
    "executionInfo": {
     "elapsed": 12,
     "status": "ok",
     "timestamp": 1662845941415,
     "user": {
      "displayName": "Razan HL",
      "userId": "00189607576210306079"
     },
     "user_tz": -180
    },
    "id": "rPNo8BS-yFO2",
    "outputId": "842f53cb-6edd-40ff-d2f8-4741dbcee20e"
   },
   "outputs": [
    {
     "name": "stdout",
     "output_type": "stream",
     "text": [
      "<class 'pandas.core.frame.DataFrame'>\n",
      "RangeIndex: 1474 entries, 0 to 1473\n",
      "Data columns (total 11 columns):\n",
      " #   Column                     Non-Null Count  Dtype \n",
      "---  ------                     --------------  ----- \n",
      " 0   ids                        1474 non-null   int64 \n",
      " 1   sp_text                    1474 non-null   object\n",
      " 2   Agricultural_Economics     1474 non-null   int64 \n",
      " 3   Agriculture_Biotechnology  1474 non-null   int64 \n",
      " 4   Crop_production            1474 non-null   int64 \n",
      " 5   Environmental_Sciences     1474 non-null   int64 \n",
      " 6   Food_Technology            1474 non-null   int64 \n",
      " 7   Horticulture               1474 non-null   int64 \n",
      " 8   Livestock_production       1474 non-null   int64 \n",
      " 9   Natural_Resources          1474 non-null   int64 \n",
      " 10  Plant_Protection           1474 non-null   int64 \n",
      "dtypes: int64(10), object(1)\n",
      "memory usage: 126.8+ KB\n"
     ]
    }
   ],
   "source": [
    "train_balanced = pd.concat([df1,df2], ignore_index=True)\n",
    "train_balanced.info()"
   ]
  },
  {
   "cell_type": "code",
   "execution_count": null,
   "metadata": {
    "id": "kJ0E8I22y-hS"
   },
   "outputs": [],
   "source": [
    "splited_train.drop(df2.index, inplace = True)"
   ]
  },
  {
   "cell_type": "code",
   "execution_count": null,
   "metadata": {
    "colab": {
     "base_uri": "https://localhost:8080/"
    },
    "executionInfo": {
     "elapsed": 6,
     "status": "ok",
     "timestamp": 1662845946218,
     "user": {
      "displayName": "Razan HL",
      "userId": "00189607576210306079"
     },
     "user_tz": -180
    },
    "id": "vnAb-6AuzReF",
    "outputId": "2cbc44b3-b5f4-4d82-993f-0871c366278d"
   },
   "outputs": [
    {
     "name": "stdout",
     "output_type": "stream",
     "text": [
      "<class 'pandas.core.frame.DataFrame'>\n",
      "Int64Index: 11732 entries, 0 to 13205\n",
      "Data columns (total 11 columns):\n",
      " #   Column                     Non-Null Count  Dtype \n",
      "---  ------                     --------------  ----- \n",
      " 0   ids                        11732 non-null  int64 \n",
      " 1   sp_text                    11732 non-null  object\n",
      " 2   Agricultural_Economics     11732 non-null  int64 \n",
      " 3   Agriculture_Biotechnology  11732 non-null  int64 \n",
      " 4   Crop_production            11732 non-null  int64 \n",
      " 5   Environmental_Sciences     11732 non-null  int64 \n",
      " 6   Food_Technology            11732 non-null  int64 \n",
      " 7   Horticulture               11732 non-null  int64 \n",
      " 8   Livestock_production       11732 non-null  int64 \n",
      " 9   Natural_Resources          11732 non-null  int64 \n",
      " 10  Plant_Protection           11732 non-null  int64 \n",
      "dtypes: int64(10), object(1)\n",
      "memory usage: 1.1+ MB\n"
     ]
    }
   ],
   "source": [
    "splited_train.info()"
   ]
  },
  {
   "cell_type": "code",
   "execution_count": null,
   "metadata": {
    "colab": {
     "base_uri": "https://localhost:8080/",
     "height": 176
    },
    "executionInfo": {
     "elapsed": 12,
     "status": "ok",
     "timestamp": 1662845950381,
     "user": {
      "displayName": "Razan HL",
      "userId": "00189607576210306079"
     },
     "user_tz": -180
    },
    "id": "xqYhANJwe96l",
    "outputId": "eb4f6745-297a-44db-f6a4-cec1e038cf75"
   },
   "outputs": [
    {
     "data": {
      "text/html": [
       "\n",
       "  <div id=\"df-5f95fe8d-18c5-4089-a539-a0e052e6f894\">\n",
       "    <div class=\"colab-df-container\">\n",
       "      <div>\n",
       "<style scoped>\n",
       "    .dataframe tbody tr th:only-of-type {\n",
       "        vertical-align: middle;\n",
       "    }\n",
       "\n",
       "    .dataframe tbody tr th {\n",
       "        vertical-align: top;\n",
       "    }\n",
       "\n",
       "    .dataframe thead th {\n",
       "        text-align: right;\n",
       "    }\n",
       "</style>\n",
       "<table border=\"1\" class=\"dataframe\">\n",
       "  <thead>\n",
       "    <tr style=\"text-align: right;\">\n",
       "      <th></th>\n",
       "      <th>ids</th>\n",
       "      <th>Agricultural_Economics</th>\n",
       "      <th>Agriculture_Biotechnology</th>\n",
       "      <th>Crop_production</th>\n",
       "      <th>Environmental_Sciences</th>\n",
       "      <th>Horticulture</th>\n",
       "      <th>Livestock_production</th>\n",
       "      <th>Natural_Resources</th>\n",
       "      <th>Plant_Protection</th>\n",
       "    </tr>\n",
       "    <tr>\n",
       "      <th>Food_Technology</th>\n",
       "      <th></th>\n",
       "      <th></th>\n",
       "      <th></th>\n",
       "      <th></th>\n",
       "      <th></th>\n",
       "      <th></th>\n",
       "      <th></th>\n",
       "      <th></th>\n",
       "      <th></th>\n",
       "    </tr>\n",
       "  </thead>\n",
       "  <tbody>\n",
       "    <tr>\n",
       "      <th>1</th>\n",
       "      <td>609015</td>\n",
       "      <td>0</td>\n",
       "      <td>0</td>\n",
       "      <td>16</td>\n",
       "      <td>20</td>\n",
       "      <td>24</td>\n",
       "      <td>11</td>\n",
       "      <td>0</td>\n",
       "      <td>0</td>\n",
       "    </tr>\n",
       "  </tbody>\n",
       "</table>\n",
       "</div>\n",
       "      <button class=\"colab-df-convert\" onclick=\"convertToInteractive('df-5f95fe8d-18c5-4089-a539-a0e052e6f894')\"\n",
       "              title=\"Convert this dataframe to an interactive table.\"\n",
       "              style=\"display:none;\">\n",
       "        \n",
       "  <svg xmlns=\"http://www.w3.org/2000/svg\" height=\"24px\"viewBox=\"0 0 24 24\"\n",
       "       width=\"24px\">\n",
       "    <path d=\"M0 0h24v24H0V0z\" fill=\"none\"/>\n",
       "    <path d=\"M18.56 5.44l.94 2.06.94-2.06 2.06-.94-2.06-.94-.94-2.06-.94 2.06-2.06.94zm-11 1L8.5 8.5l.94-2.06 2.06-.94-2.06-.94L8.5 2.5l-.94 2.06-2.06.94zm10 10l.94 2.06.94-2.06 2.06-.94-2.06-.94-.94-2.06-.94 2.06-2.06.94z\"/><path d=\"M17.41 7.96l-1.37-1.37c-.4-.4-.92-.59-1.43-.59-.52 0-1.04.2-1.43.59L10.3 9.45l-7.72 7.72c-.78.78-.78 2.05 0 2.83L4 21.41c.39.39.9.59 1.41.59.51 0 1.02-.2 1.41-.59l7.78-7.78 2.81-2.81c.8-.78.8-2.07 0-2.86zM5.41 20L4 18.59l7.72-7.72 1.47 1.35L5.41 20z\"/>\n",
       "  </svg>\n",
       "      </button>\n",
       "      \n",
       "  <style>\n",
       "    .colab-df-container {\n",
       "      display:flex;\n",
       "      flex-wrap:wrap;\n",
       "      gap: 12px;\n",
       "    }\n",
       "\n",
       "    .colab-df-convert {\n",
       "      background-color: #E8F0FE;\n",
       "      border: none;\n",
       "      border-radius: 50%;\n",
       "      cursor: pointer;\n",
       "      display: none;\n",
       "      fill: #1967D2;\n",
       "      height: 32px;\n",
       "      padding: 0 0 0 0;\n",
       "      width: 32px;\n",
       "    }\n",
       "\n",
       "    .colab-df-convert:hover {\n",
       "      background-color: #E2EBFA;\n",
       "      box-shadow: 0px 1px 2px rgba(60, 64, 67, 0.3), 0px 1px 3px 1px rgba(60, 64, 67, 0.15);\n",
       "      fill: #174EA6;\n",
       "    }\n",
       "\n",
       "    [theme=dark] .colab-df-convert {\n",
       "      background-color: #3B4455;\n",
       "      fill: #D2E3FC;\n",
       "    }\n",
       "\n",
       "    [theme=dark] .colab-df-convert:hover {\n",
       "      background-color: #434B5C;\n",
       "      box-shadow: 0px 1px 3px 1px rgba(0, 0, 0, 0.15);\n",
       "      filter: drop-shadow(0px 1px 2px rgba(0, 0, 0, 0.3));\n",
       "      fill: #FFFFFF;\n",
       "    }\n",
       "  </style>\n",
       "\n",
       "      <script>\n",
       "        const buttonEl =\n",
       "          document.querySelector('#df-5f95fe8d-18c5-4089-a539-a0e052e6f894 button.colab-df-convert');\n",
       "        buttonEl.style.display =\n",
       "          google.colab.kernel.accessAllowed ? 'block' : 'none';\n",
       "\n",
       "        async function convertToInteractive(key) {\n",
       "          const element = document.querySelector('#df-5f95fe8d-18c5-4089-a539-a0e052e6f894');\n",
       "          const dataTable =\n",
       "            await google.colab.kernel.invokeFunction('convertToInteractive',\n",
       "                                                     [key], {});\n",
       "          if (!dataTable) return;\n",
       "\n",
       "          const docLinkHtml = 'Like what you see? Visit the ' +\n",
       "            '<a target=\"_blank\" href=https://colab.research.google.com/notebooks/data_table.ipynb>data table notebook</a>'\n",
       "            + ' to learn more about interactive tables.';\n",
       "          element.innerHTML = '';\n",
       "          dataTable['output_type'] = 'display_data';\n",
       "          await google.colab.output.renderOutput(dataTable, element);\n",
       "          const docLink = document.createElement('div');\n",
       "          docLink.innerHTML = docLinkHtml;\n",
       "          element.appendChild(docLink);\n",
       "        }\n",
       "      </script>\n",
       "    </div>\n",
       "  </div>\n",
       "  "
      ],
      "text/plain": [
       "                    ids  Agricultural_Economics  Agriculture_Biotechnology  \\\n",
       "Food_Technology                                                              \n",
       "1                609015                       0                          0   \n",
       "\n",
       "                 Crop_production  Environmental_Sciences  Horticulture  \\\n",
       "Food_Technology                                                          \n",
       "1                             16                      20            24   \n",
       "\n",
       "                 Livestock_production  Natural_Resources  Plant_Protection  \n",
       "Food_Technology                                                             \n",
       "1                                  11                  0                 0  "
      ]
     },
     "execution_count": 23,
     "metadata": {},
     "output_type": "execute_result"
    }
   ],
   "source": [
    "# df3 = pd.concat([df1,df2], ignore_index=True)\n",
    "df3 = splited_train[splited_train['Food_Technology'] == 1]\n",
    "df3.groupby(['Food_Technology']).sum()"
   ]
  },
  {
   "cell_type": "code",
   "execution_count": null,
   "metadata": {
    "colab": {
     "base_uri": "https://localhost:8080/"
    },
    "executionInfo": {
     "elapsed": 499,
     "status": "ok",
     "timestamp": 1662845952763,
     "user": {
      "displayName": "Razan HL",
      "userId": "00189607576210306079"
     },
     "user_tz": -180
    },
    "id": "Pt66q4Ovz6Yj",
    "outputId": "4f2b07ab-1bf7-4662-894e-e6ebd1b4a3d1"
   },
   "outputs": [
    {
     "name": "stdout",
     "output_type": "stream",
     "text": [
      "<class 'pandas.core.frame.DataFrame'>\n",
      "Int64Index: 971 entries, 27 to 13121\n",
      "Data columns (total 11 columns):\n",
      " #   Column                     Non-Null Count  Dtype \n",
      "---  ------                     --------------  ----- \n",
      " 0   ids                        971 non-null    int64 \n",
      " 1   sp_text                    971 non-null    object\n",
      " 2   Agricultural_Economics     971 non-null    int64 \n",
      " 3   Agriculture_Biotechnology  971 non-null    int64 \n",
      " 4   Crop_production            971 non-null    int64 \n",
      " 5   Environmental_Sciences     971 non-null    int64 \n",
      " 6   Food_Technology            971 non-null    int64 \n",
      " 7   Horticulture               971 non-null    int64 \n",
      " 8   Livestock_production       971 non-null    int64 \n",
      " 9   Natural_Resources          971 non-null    int64 \n",
      " 10  Plant_Protection           971 non-null    int64 \n",
      "dtypes: int64(10), object(1)\n",
      "memory usage: 91.0+ KB\n"
     ]
    }
   ],
   "source": [
    "df3.info()"
   ]
  },
  {
   "cell_type": "code",
   "execution_count": null,
   "metadata": {
    "colab": {
     "base_uri": "https://localhost:8080/"
    },
    "executionInfo": {
     "elapsed": 390,
     "status": "ok",
     "timestamp": 1662845958230,
     "user": {
      "displayName": "Razan HL",
      "userId": "00189607576210306079"
     },
     "user_tz": -180
    },
    "id": "dHrLMrIjzgum",
    "outputId": "4d58e795-3b17-4c65-f498-ce3df7f98419"
   },
   "outputs": [
    {
     "name": "stdout",
     "output_type": "stream",
     "text": [
      "<class 'pandas.core.frame.DataFrame'>\n",
      "Int64Index: 697 entries, 1444 to 11314\n",
      "Data columns (total 11 columns):\n",
      " #   Column                     Non-Null Count  Dtype \n",
      "---  ------                     --------------  ----- \n",
      " 0   ids                        697 non-null    int64 \n",
      " 1   sp_text                    697 non-null    object\n",
      " 2   Agricultural_Economics     697 non-null    int64 \n",
      " 3   Agriculture_Biotechnology  697 non-null    int64 \n",
      " 4   Crop_production            697 non-null    int64 \n",
      " 5   Environmental_Sciences     697 non-null    int64 \n",
      " 6   Food_Technology            697 non-null    int64 \n",
      " 7   Horticulture               697 non-null    int64 \n",
      " 8   Livestock_production       697 non-null    int64 \n",
      " 9   Natural_Resources          697 non-null    int64 \n",
      " 10  Plant_Protection           697 non-null    int64 \n",
      "dtypes: int64(10), object(1)\n",
      "memory usage: 65.3+ KB\n"
     ]
    }
   ],
   "source": [
    "df3 = df3[df3['Livestock_production'] == 0]\n",
    "df3 = df3[df3['Horticulture'] == 0]\n",
    "df3 = df3[df3['Environmental_Sciences'] == 0]\n",
    "df3 = df3[df3['Crop_production'] == 0]\n",
    "df3 = df3.sample(697,random_state=45)\n",
    "df3.info()"
   ]
  },
  {
   "cell_type": "code",
   "execution_count": null,
   "metadata": {
    "colab": {
     "base_uri": "https://localhost:8080/"
    },
    "executionInfo": {
     "elapsed": 7,
     "status": "ok",
     "timestamp": 1662845962776,
     "user": {
      "displayName": "Razan HL",
      "userId": "00189607576210306079"
     },
     "user_tz": -180
    },
    "id": "NGsgamiXzglp",
    "outputId": "30ea0530-75f5-44ec-dbf4-6ee9768321f4"
   },
   "outputs": [
    {
     "name": "stdout",
     "output_type": "stream",
     "text": [
      "<class 'pandas.core.frame.DataFrame'>\n",
      "RangeIndex: 2171 entries, 0 to 2170\n",
      "Data columns (total 11 columns):\n",
      " #   Column                     Non-Null Count  Dtype \n",
      "---  ------                     --------------  ----- \n",
      " 0   ids                        2171 non-null   int64 \n",
      " 1   sp_text                    2171 non-null   object\n",
      " 2   Agricultural_Economics     2171 non-null   int64 \n",
      " 3   Agriculture_Biotechnology  2171 non-null   int64 \n",
      " 4   Crop_production            2171 non-null   int64 \n",
      " 5   Environmental_Sciences     2171 non-null   int64 \n",
      " 6   Food_Technology            2171 non-null   int64 \n",
      " 7   Horticulture               2171 non-null   int64 \n",
      " 8   Livestock_production       2171 non-null   int64 \n",
      " 9   Natural_Resources          2171 non-null   int64 \n",
      " 10  Plant_Protection           2171 non-null   int64 \n",
      "dtypes: int64(10), object(1)\n",
      "memory usage: 186.7+ KB\n"
     ]
    }
   ],
   "source": [
    "train_balanced = pd.concat([train_balanced,df3], ignore_index=True)\n",
    "train_balanced.info()"
   ]
  },
  {
   "cell_type": "code",
   "execution_count": null,
   "metadata": {
    "colab": {
     "base_uri": "https://localhost:8080/"
    },
    "executionInfo": {
     "elapsed": 387,
     "status": "ok",
     "timestamp": 1662845969323,
     "user": {
      "displayName": "Razan HL",
      "userId": "00189607576210306079"
     },
     "user_tz": -180
    },
    "id": "PPZDu8kn1lNd",
    "outputId": "20f84a0e-7fb4-4a3a-8ac2-efdbfdc887f2"
   },
   "outputs": [
    {
     "name": "stdout",
     "output_type": "stream",
     "text": [
      "<class 'pandas.core.frame.DataFrame'>\n",
      "Int64Index: 11035 entries, 0 to 13205\n",
      "Data columns (total 11 columns):\n",
      " #   Column                     Non-Null Count  Dtype \n",
      "---  ------                     --------------  ----- \n",
      " 0   ids                        11035 non-null  int64 \n",
      " 1   sp_text                    11035 non-null  object\n",
      " 2   Agricultural_Economics     11035 non-null  int64 \n",
      " 3   Agriculture_Biotechnology  11035 non-null  int64 \n",
      " 4   Crop_production            11035 non-null  int64 \n",
      " 5   Environmental_Sciences     11035 non-null  int64 \n",
      " 6   Food_Technology            11035 non-null  int64 \n",
      " 7   Horticulture               11035 non-null  int64 \n",
      " 8   Livestock_production       11035 non-null  int64 \n",
      " 9   Natural_Resources          11035 non-null  int64 \n",
      " 10  Plant_Protection           11035 non-null  int64 \n",
      "dtypes: int64(10), object(1)\n",
      "memory usage: 1.0+ MB\n"
     ]
    }
   ],
   "source": [
    "splited_train.drop(df3.index, inplace = True)\n",
    "splited_train.info()"
   ]
  },
  {
   "cell_type": "code",
   "execution_count": null,
   "metadata": {
    "colab": {
     "base_uri": "https://localhost:8080/",
     "height": 176
    },
    "executionInfo": {
     "elapsed": 26,
     "status": "ok",
     "timestamp": 1662845970257,
     "user": {
      "displayName": "Razan HL",
      "userId": "00189607576210306079"
     },
     "user_tz": -180
    },
    "id": "2Pu4Hn50SM4W",
    "outputId": "f28081eb-597f-4d0d-963a-6f4dee6029fc"
   },
   "outputs": [
    {
     "data": {
      "text/html": [
       "\n",
       "  <div id=\"df-49567a7f-b4d7-4cca-9ebb-2f0e71802042\">\n",
       "    <div class=\"colab-df-container\">\n",
       "      <div>\n",
       "<style scoped>\n",
       "    .dataframe tbody tr th:only-of-type {\n",
       "        vertical-align: middle;\n",
       "    }\n",
       "\n",
       "    .dataframe tbody tr th {\n",
       "        vertical-align: top;\n",
       "    }\n",
       "\n",
       "    .dataframe thead th {\n",
       "        text-align: right;\n",
       "    }\n",
       "</style>\n",
       "<table border=\"1\" class=\"dataframe\">\n",
       "  <thead>\n",
       "    <tr style=\"text-align: right;\">\n",
       "      <th></th>\n",
       "      <th>ids</th>\n",
       "      <th>Agricultural_Economics</th>\n",
       "      <th>Agriculture_Biotechnology</th>\n",
       "      <th>Crop_production</th>\n",
       "      <th>Environmental_Sciences</th>\n",
       "      <th>Food_Technology</th>\n",
       "      <th>Horticulture</th>\n",
       "      <th>Natural_Resources</th>\n",
       "      <th>Plant_Protection</th>\n",
       "    </tr>\n",
       "    <tr>\n",
       "      <th>Livestock_production</th>\n",
       "      <th></th>\n",
       "      <th></th>\n",
       "      <th></th>\n",
       "      <th></th>\n",
       "      <th></th>\n",
       "      <th></th>\n",
       "      <th></th>\n",
       "      <th></th>\n",
       "      <th></th>\n",
       "    </tr>\n",
       "  </thead>\n",
       "  <tbody>\n",
       "    <tr>\n",
       "      <th>1</th>\n",
       "      <td>556880</td>\n",
       "      <td>16</td>\n",
       "      <td>0</td>\n",
       "      <td>0</td>\n",
       "      <td>18</td>\n",
       "      <td>11</td>\n",
       "      <td>0</td>\n",
       "      <td>0</td>\n",
       "      <td>0</td>\n",
       "    </tr>\n",
       "  </tbody>\n",
       "</table>\n",
       "</div>\n",
       "      <button class=\"colab-df-convert\" onclick=\"convertToInteractive('df-49567a7f-b4d7-4cca-9ebb-2f0e71802042')\"\n",
       "              title=\"Convert this dataframe to an interactive table.\"\n",
       "              style=\"display:none;\">\n",
       "        \n",
       "  <svg xmlns=\"http://www.w3.org/2000/svg\" height=\"24px\"viewBox=\"0 0 24 24\"\n",
       "       width=\"24px\">\n",
       "    <path d=\"M0 0h24v24H0V0z\" fill=\"none\"/>\n",
       "    <path d=\"M18.56 5.44l.94 2.06.94-2.06 2.06-.94-2.06-.94-.94-2.06-.94 2.06-2.06.94zm-11 1L8.5 8.5l.94-2.06 2.06-.94-2.06-.94L8.5 2.5l-.94 2.06-2.06.94zm10 10l.94 2.06.94-2.06 2.06-.94-2.06-.94-.94-2.06-.94 2.06-2.06.94z\"/><path d=\"M17.41 7.96l-1.37-1.37c-.4-.4-.92-.59-1.43-.59-.52 0-1.04.2-1.43.59L10.3 9.45l-7.72 7.72c-.78.78-.78 2.05 0 2.83L4 21.41c.39.39.9.59 1.41.59.51 0 1.02-.2 1.41-.59l7.78-7.78 2.81-2.81c.8-.78.8-2.07 0-2.86zM5.41 20L4 18.59l7.72-7.72 1.47 1.35L5.41 20z\"/>\n",
       "  </svg>\n",
       "      </button>\n",
       "      \n",
       "  <style>\n",
       "    .colab-df-container {\n",
       "      display:flex;\n",
       "      flex-wrap:wrap;\n",
       "      gap: 12px;\n",
       "    }\n",
       "\n",
       "    .colab-df-convert {\n",
       "      background-color: #E8F0FE;\n",
       "      border: none;\n",
       "      border-radius: 50%;\n",
       "      cursor: pointer;\n",
       "      display: none;\n",
       "      fill: #1967D2;\n",
       "      height: 32px;\n",
       "      padding: 0 0 0 0;\n",
       "      width: 32px;\n",
       "    }\n",
       "\n",
       "    .colab-df-convert:hover {\n",
       "      background-color: #E2EBFA;\n",
       "      box-shadow: 0px 1px 2px rgba(60, 64, 67, 0.3), 0px 1px 3px 1px rgba(60, 64, 67, 0.15);\n",
       "      fill: #174EA6;\n",
       "    }\n",
       "\n",
       "    [theme=dark] .colab-df-convert {\n",
       "      background-color: #3B4455;\n",
       "      fill: #D2E3FC;\n",
       "    }\n",
       "\n",
       "    [theme=dark] .colab-df-convert:hover {\n",
       "      background-color: #434B5C;\n",
       "      box-shadow: 0px 1px 3px 1px rgba(0, 0, 0, 0.15);\n",
       "      filter: drop-shadow(0px 1px 2px rgba(0, 0, 0, 0.3));\n",
       "      fill: #FFFFFF;\n",
       "    }\n",
       "  </style>\n",
       "\n",
       "      <script>\n",
       "        const buttonEl =\n",
       "          document.querySelector('#df-49567a7f-b4d7-4cca-9ebb-2f0e71802042 button.colab-df-convert');\n",
       "        buttonEl.style.display =\n",
       "          google.colab.kernel.accessAllowed ? 'block' : 'none';\n",
       "\n",
       "        async function convertToInteractive(key) {\n",
       "          const element = document.querySelector('#df-49567a7f-b4d7-4cca-9ebb-2f0e71802042');\n",
       "          const dataTable =\n",
       "            await google.colab.kernel.invokeFunction('convertToInteractive',\n",
       "                                                     [key], {});\n",
       "          if (!dataTable) return;\n",
       "\n",
       "          const docLinkHtml = 'Like what you see? Visit the ' +\n",
       "            '<a target=\"_blank\" href=https://colab.research.google.com/notebooks/data_table.ipynb>data table notebook</a>'\n",
       "            + ' to learn more about interactive tables.';\n",
       "          element.innerHTML = '';\n",
       "          dataTable['output_type'] = 'display_data';\n",
       "          await google.colab.output.renderOutput(dataTable, element);\n",
       "          const docLink = document.createElement('div');\n",
       "          docLink.innerHTML = docLinkHtml;\n",
       "          element.appendChild(docLink);\n",
       "        }\n",
       "      </script>\n",
       "    </div>\n",
       "  </div>\n",
       "  "
      ],
      "text/plain": [
       "                         ids  Agricultural_Economics  \\\n",
       "Livestock_production                                   \n",
       "1                     556880                      16   \n",
       "\n",
       "                      Agriculture_Biotechnology  Crop_production  \\\n",
       "Livestock_production                                               \n",
       "1                                             0                0   \n",
       "\n",
       "                      Environmental_Sciences  Food_Technology  Horticulture  \\\n",
       "Livestock_production                                                          \n",
       "1                                         18               11             0   \n",
       "\n",
       "                      Natural_Resources  Plant_Protection  \n",
       "Livestock_production                                       \n",
       "1                                     0                 0  "
      ]
     },
     "execution_count": 28,
     "metadata": {},
     "output_type": "execute_result"
    }
   ],
   "source": [
    "df4 = splited_train[splited_train['Livestock_production'] == 1]\n",
    "df4.groupby(['Livestock_production']).sum()"
   ]
  },
  {
   "cell_type": "code",
   "execution_count": null,
   "metadata": {
    "colab": {
     "base_uri": "https://localhost:8080/"
    },
    "executionInfo": {
     "elapsed": 23,
     "status": "ok",
     "timestamp": 1662845970259,
     "user": {
      "displayName": "Razan HL",
      "userId": "00189607576210306079"
     },
     "user_tz": -180
    },
    "id": "pHDifXGT2L8f",
    "outputId": "c89c72c8-209c-4be3-c9ad-8a5f78c7e5e8"
   },
   "outputs": [
    {
     "name": "stdout",
     "output_type": "stream",
     "text": [
      "<class 'pandas.core.frame.DataFrame'>\n",
      "Int64Index: 1207 entries, 13 to 13169\n",
      "Data columns (total 11 columns):\n",
      " #   Column                     Non-Null Count  Dtype \n",
      "---  ------                     --------------  ----- \n",
      " 0   ids                        1207 non-null   int64 \n",
      " 1   sp_text                    1207 non-null   object\n",
      " 2   Agricultural_Economics     1207 non-null   int64 \n",
      " 3   Agriculture_Biotechnology  1207 non-null   int64 \n",
      " 4   Crop_production            1207 non-null   int64 \n",
      " 5   Environmental_Sciences     1207 non-null   int64 \n",
      " 6   Food_Technology            1207 non-null   int64 \n",
      " 7   Horticulture               1207 non-null   int64 \n",
      " 8   Livestock_production       1207 non-null   int64 \n",
      " 9   Natural_Resources          1207 non-null   int64 \n",
      " 10  Plant_Protection           1207 non-null   int64 \n",
      "dtypes: int64(10), object(1)\n",
      "memory usage: 113.2+ KB\n"
     ]
    }
   ],
   "source": [
    "df4.info()"
   ]
  },
  {
   "cell_type": "code",
   "execution_count": null,
   "metadata": {
    "colab": {
     "base_uri": "https://localhost:8080/"
    },
    "executionInfo": {
     "elapsed": 8,
     "status": "ok",
     "timestamp": 1662845973242,
     "user": {
      "displayName": "Razan HL",
      "userId": "00189607576210306079"
     },
     "user_tz": -180
    },
    "id": "AqUfe-SO2Lww",
    "outputId": "17b94202-5333-4442-aa62-7b4be6a7e49f"
   },
   "outputs": [
    {
     "name": "stdout",
     "output_type": "stream",
     "text": [
      "<class 'pandas.core.frame.DataFrame'>\n",
      "Int64Index: 583 entries, 745 to 12168\n",
      "Data columns (total 11 columns):\n",
      " #   Column                     Non-Null Count  Dtype \n",
      "---  ------                     --------------  ----- \n",
      " 0   ids                        583 non-null    int64 \n",
      " 1   sp_text                    583 non-null    object\n",
      " 2   Agricultural_Economics     583 non-null    int64 \n",
      " 3   Agriculture_Biotechnology  583 non-null    int64 \n",
      " 4   Crop_production            583 non-null    int64 \n",
      " 5   Environmental_Sciences     583 non-null    int64 \n",
      " 6   Food_Technology            583 non-null    int64 \n",
      " 7   Horticulture               583 non-null    int64 \n",
      " 8   Livestock_production       583 non-null    int64 \n",
      " 9   Natural_Resources          583 non-null    int64 \n",
      " 10  Plant_Protection           583 non-null    int64 \n",
      "dtypes: int64(10), object(1)\n",
      "memory usage: 54.7+ KB\n"
     ]
    }
   ],
   "source": [
    "df4 = df4[df4['Agricultural_Economics'] == 0]\n",
    "df4 = df4[df4['Environmental_Sciences'] == 0]\n",
    "df4 = df4[df4['Food_Technology'] == 0]\n",
    "df4 = df4.sample(583,random_state=45)\n",
    "df4.info()"
   ]
  },
  {
   "cell_type": "code",
   "execution_count": null,
   "metadata": {
    "colab": {
     "base_uri": "https://localhost:8080/"
    },
    "executionInfo": {
     "elapsed": 19,
     "status": "ok",
     "timestamp": 1662845977217,
     "user": {
      "displayName": "Razan HL",
      "userId": "00189607576210306079"
     },
     "user_tz": -180
    },
    "id": "fo3Xe0gQ2LoO",
    "outputId": "c7837a2d-9373-4e6b-ba4d-e0bd7752a4c5"
   },
   "outputs": [
    {
     "name": "stdout",
     "output_type": "stream",
     "text": [
      "<class 'pandas.core.frame.DataFrame'>\n",
      "RangeIndex: 2754 entries, 0 to 2753\n",
      "Data columns (total 11 columns):\n",
      " #   Column                     Non-Null Count  Dtype \n",
      "---  ------                     --------------  ----- \n",
      " 0   ids                        2754 non-null   int64 \n",
      " 1   sp_text                    2754 non-null   object\n",
      " 2   Agricultural_Economics     2754 non-null   int64 \n",
      " 3   Agriculture_Biotechnology  2754 non-null   int64 \n",
      " 4   Crop_production            2754 non-null   int64 \n",
      " 5   Environmental_Sciences     2754 non-null   int64 \n",
      " 6   Food_Technology            2754 non-null   int64 \n",
      " 7   Horticulture               2754 non-null   int64 \n",
      " 8   Livestock_production       2754 non-null   int64 \n",
      " 9   Natural_Resources          2754 non-null   int64 \n",
      " 10  Plant_Protection           2754 non-null   int64 \n",
      "dtypes: int64(10), object(1)\n",
      "memory usage: 236.8+ KB\n"
     ]
    }
   ],
   "source": [
    "train_balanced = pd.concat([train_balanced,df4], ignore_index=True)\n",
    "train_balanced.info()"
   ]
  },
  {
   "cell_type": "code",
   "execution_count": null,
   "metadata": {
    "colab": {
     "base_uri": "https://localhost:8080/"
    },
    "executionInfo": {
     "elapsed": 393,
     "status": "ok",
     "timestamp": 1662845983672,
     "user": {
      "displayName": "Razan HL",
      "userId": "00189607576210306079"
     },
     "user_tz": -180
    },
    "id": "kFg1KGTA2Lih",
    "outputId": "ffab171b-1c35-42d4-f402-2413eaf32b14"
   },
   "outputs": [
    {
     "name": "stdout",
     "output_type": "stream",
     "text": [
      "<class 'pandas.core.frame.DataFrame'>\n",
      "Int64Index: 10452 entries, 0 to 13205\n",
      "Data columns (total 11 columns):\n",
      " #   Column                     Non-Null Count  Dtype \n",
      "---  ------                     --------------  ----- \n",
      " 0   ids                        10452 non-null  int64 \n",
      " 1   sp_text                    10452 non-null  object\n",
      " 2   Agricultural_Economics     10452 non-null  int64 \n",
      " 3   Agriculture_Biotechnology  10452 non-null  int64 \n",
      " 4   Crop_production            10452 non-null  int64 \n",
      " 5   Environmental_Sciences     10452 non-null  int64 \n",
      " 6   Food_Technology            10452 non-null  int64 \n",
      " 7   Horticulture               10452 non-null  int64 \n",
      " 8   Livestock_production       10452 non-null  int64 \n",
      " 9   Natural_Resources          10452 non-null  int64 \n",
      " 10  Plant_Protection           10452 non-null  int64 \n",
      "dtypes: int64(10), object(1)\n",
      "memory usage: 979.9+ KB\n"
     ]
    }
   ],
   "source": [
    "splited_train.drop(df4.index, inplace = True)\n",
    "splited_train.info()"
   ]
  },
  {
   "cell_type": "code",
   "execution_count": null,
   "metadata": {
    "colab": {
     "base_uri": "https://localhost:8080/",
     "height": 176
    },
    "executionInfo": {
     "elapsed": 17,
     "status": "ok",
     "timestamp": 1662845988534,
     "user": {
      "displayName": "Razan HL",
      "userId": "00189607576210306079"
     },
     "user_tz": -180
    },
    "id": "TBZ_w2k2Sh3_",
    "outputId": "1b4fe659-cd84-42ae-f0a7-c6047473e0e5"
   },
   "outputs": [
    {
     "data": {
      "text/html": [
       "\n",
       "  <div id=\"df-42748ee5-4e85-45e6-be55-4090855f5f5a\">\n",
       "    <div class=\"colab-df-container\">\n",
       "      <div>\n",
       "<style scoped>\n",
       "    .dataframe tbody tr th:only-of-type {\n",
       "        vertical-align: middle;\n",
       "    }\n",
       "\n",
       "    .dataframe tbody tr th {\n",
       "        vertical-align: top;\n",
       "    }\n",
       "\n",
       "    .dataframe thead th {\n",
       "        text-align: right;\n",
       "    }\n",
       "</style>\n",
       "<table border=\"1\" class=\"dataframe\">\n",
       "  <thead>\n",
       "    <tr style=\"text-align: right;\">\n",
       "      <th></th>\n",
       "      <th>ids</th>\n",
       "      <th>Agricultural_Economics</th>\n",
       "      <th>Agriculture_Biotechnology</th>\n",
       "      <th>Crop_production</th>\n",
       "      <th>Food_Technology</th>\n",
       "      <th>Horticulture</th>\n",
       "      <th>Livestock_production</th>\n",
       "      <th>Natural_Resources</th>\n",
       "      <th>Plant_Protection</th>\n",
       "    </tr>\n",
       "    <tr>\n",
       "      <th>Environmental_Sciences</th>\n",
       "      <th></th>\n",
       "      <th></th>\n",
       "      <th></th>\n",
       "      <th></th>\n",
       "      <th></th>\n",
       "      <th></th>\n",
       "      <th></th>\n",
       "      <th></th>\n",
       "      <th></th>\n",
       "    </tr>\n",
       "  </thead>\n",
       "  <tbody>\n",
       "    <tr>\n",
       "      <th>1</th>\n",
       "      <td>912761</td>\n",
       "      <td>90</td>\n",
       "      <td>0</td>\n",
       "      <td>47</td>\n",
       "      <td>20</td>\n",
       "      <td>68</td>\n",
       "      <td>18</td>\n",
       "      <td>280</td>\n",
       "      <td>26</td>\n",
       "    </tr>\n",
       "  </tbody>\n",
       "</table>\n",
       "</div>\n",
       "      <button class=\"colab-df-convert\" onclick=\"convertToInteractive('df-42748ee5-4e85-45e6-be55-4090855f5f5a')\"\n",
       "              title=\"Convert this dataframe to an interactive table.\"\n",
       "              style=\"display:none;\">\n",
       "        \n",
       "  <svg xmlns=\"http://www.w3.org/2000/svg\" height=\"24px\"viewBox=\"0 0 24 24\"\n",
       "       width=\"24px\">\n",
       "    <path d=\"M0 0h24v24H0V0z\" fill=\"none\"/>\n",
       "    <path d=\"M18.56 5.44l.94 2.06.94-2.06 2.06-.94-2.06-.94-.94-2.06-.94 2.06-2.06.94zm-11 1L8.5 8.5l.94-2.06 2.06-.94-2.06-.94L8.5 2.5l-.94 2.06-2.06.94zm10 10l.94 2.06.94-2.06 2.06-.94-2.06-.94-.94-2.06-.94 2.06-2.06.94z\"/><path d=\"M17.41 7.96l-1.37-1.37c-.4-.4-.92-.59-1.43-.59-.52 0-1.04.2-1.43.59L10.3 9.45l-7.72 7.72c-.78.78-.78 2.05 0 2.83L4 21.41c.39.39.9.59 1.41.59.51 0 1.02-.2 1.41-.59l7.78-7.78 2.81-2.81c.8-.78.8-2.07 0-2.86zM5.41 20L4 18.59l7.72-7.72 1.47 1.35L5.41 20z\"/>\n",
       "  </svg>\n",
       "      </button>\n",
       "      \n",
       "  <style>\n",
       "    .colab-df-container {\n",
       "      display:flex;\n",
       "      flex-wrap:wrap;\n",
       "      gap: 12px;\n",
       "    }\n",
       "\n",
       "    .colab-df-convert {\n",
       "      background-color: #E8F0FE;\n",
       "      border: none;\n",
       "      border-radius: 50%;\n",
       "      cursor: pointer;\n",
       "      display: none;\n",
       "      fill: #1967D2;\n",
       "      height: 32px;\n",
       "      padding: 0 0 0 0;\n",
       "      width: 32px;\n",
       "    }\n",
       "\n",
       "    .colab-df-convert:hover {\n",
       "      background-color: #E2EBFA;\n",
       "      box-shadow: 0px 1px 2px rgba(60, 64, 67, 0.3), 0px 1px 3px 1px rgba(60, 64, 67, 0.15);\n",
       "      fill: #174EA6;\n",
       "    }\n",
       "\n",
       "    [theme=dark] .colab-df-convert {\n",
       "      background-color: #3B4455;\n",
       "      fill: #D2E3FC;\n",
       "    }\n",
       "\n",
       "    [theme=dark] .colab-df-convert:hover {\n",
       "      background-color: #434B5C;\n",
       "      box-shadow: 0px 1px 3px 1px rgba(0, 0, 0, 0.15);\n",
       "      filter: drop-shadow(0px 1px 2px rgba(0, 0, 0, 0.3));\n",
       "      fill: #FFFFFF;\n",
       "    }\n",
       "  </style>\n",
       "\n",
       "      <script>\n",
       "        const buttonEl =\n",
       "          document.querySelector('#df-42748ee5-4e85-45e6-be55-4090855f5f5a button.colab-df-convert');\n",
       "        buttonEl.style.display =\n",
       "          google.colab.kernel.accessAllowed ? 'block' : 'none';\n",
       "\n",
       "        async function convertToInteractive(key) {\n",
       "          const element = document.querySelector('#df-42748ee5-4e85-45e6-be55-4090855f5f5a');\n",
       "          const dataTable =\n",
       "            await google.colab.kernel.invokeFunction('convertToInteractive',\n",
       "                                                     [key], {});\n",
       "          if (!dataTable) return;\n",
       "\n",
       "          const docLinkHtml = 'Like what you see? Visit the ' +\n",
       "            '<a target=\"_blank\" href=https://colab.research.google.com/notebooks/data_table.ipynb>data table notebook</a>'\n",
       "            + ' to learn more about interactive tables.';\n",
       "          element.innerHTML = '';\n",
       "          dataTable['output_type'] = 'display_data';\n",
       "          await google.colab.output.renderOutput(dataTable, element);\n",
       "          const docLink = document.createElement('div');\n",
       "          docLink.innerHTML = docLinkHtml;\n",
       "          element.appendChild(docLink);\n",
       "        }\n",
       "      </script>\n",
       "    </div>\n",
       "  </div>\n",
       "  "
      ],
      "text/plain": [
       "                           ids  Agricultural_Economics  \\\n",
       "Environmental_Sciences                                   \n",
       "1                       912761                      90   \n",
       "\n",
       "                        Agriculture_Biotechnology  Crop_production  \\\n",
       "Environmental_Sciences                                               \n",
       "1                                               0               47   \n",
       "\n",
       "                        Food_Technology  Horticulture  Livestock_production  \\\n",
       "Environmental_Sciences                                                        \n",
       "1                                    20            68                    18   \n",
       "\n",
       "                        Natural_Resources  Plant_Protection  \n",
       "Environmental_Sciences                                       \n",
       "1                                     280                26  "
      ]
     },
     "execution_count": 33,
     "metadata": {},
     "output_type": "execute_result"
    }
   ],
   "source": [
    "df5 = splited_train[splited_train['Environmental_Sciences'] == 1]\n",
    "df5.groupby(['Environmental_Sciences']).sum()"
   ]
  },
  {
   "cell_type": "code",
   "execution_count": null,
   "metadata": {
    "colab": {
     "base_uri": "https://localhost:8080/"
    },
    "executionInfo": {
     "elapsed": 11,
     "status": "ok",
     "timestamp": 1662845989743,
     "user": {
      "displayName": "Razan HL",
      "userId": "00189607576210306079"
     },
     "user_tz": -180
    },
    "id": "DBYrK92N3oYy",
    "outputId": "c487d4d0-067a-4539-d40f-8cffecf7b806"
   },
   "outputs": [
    {
     "name": "stdout",
     "output_type": "stream",
     "text": [
      "<class 'pandas.core.frame.DataFrame'>\n",
      "Int64Index: 1733 entries, 175 to 13108\n",
      "Data columns (total 11 columns):\n",
      " #   Column                     Non-Null Count  Dtype \n",
      "---  ------                     --------------  ----- \n",
      " 0   ids                        1733 non-null   int64 \n",
      " 1   sp_text                    1733 non-null   object\n",
      " 2   Agricultural_Economics     1733 non-null   int64 \n",
      " 3   Agriculture_Biotechnology  1733 non-null   int64 \n",
      " 4   Crop_production            1733 non-null   int64 \n",
      " 5   Environmental_Sciences     1733 non-null   int64 \n",
      " 6   Food_Technology            1733 non-null   int64 \n",
      " 7   Horticulture               1733 non-null   int64 \n",
      " 8   Livestock_production       1733 non-null   int64 \n",
      " 9   Natural_Resources          1733 non-null   int64 \n",
      " 10  Plant_Protection           1733 non-null   int64 \n",
      "dtypes: int64(10), object(1)\n",
      "memory usage: 162.5+ KB\n"
     ]
    }
   ],
   "source": [
    "df5.info()"
   ]
  },
  {
   "cell_type": "code",
   "execution_count": null,
   "metadata": {
    "colab": {
     "base_uri": "https://localhost:8080/"
    },
    "executionInfo": {
     "elapsed": 459,
     "status": "ok",
     "timestamp": 1662846000552,
     "user": {
      "displayName": "Razan HL",
      "userId": "00189607576210306079"
     },
     "user_tz": -180
    },
    "id": "9pMwtPrI3oVu",
    "outputId": "d5a3aae1-f3f7-4faf-eb8f-aeff95dc36bf"
   },
   "outputs": [
    {
     "name": "stdout",
     "output_type": "stream",
     "text": [
      "<class 'pandas.core.frame.DataFrame'>\n",
      "Int64Index: 698 entries, 13108 to 11808\n",
      "Data columns (total 11 columns):\n",
      " #   Column                     Non-Null Count  Dtype \n",
      "---  ------                     --------------  ----- \n",
      " 0   ids                        698 non-null    int64 \n",
      " 1   sp_text                    698 non-null    object\n",
      " 2   Agricultural_Economics     698 non-null    int64 \n",
      " 3   Agriculture_Biotechnology  698 non-null    int64 \n",
      " 4   Crop_production            698 non-null    int64 \n",
      " 5   Environmental_Sciences     698 non-null    int64 \n",
      " 6   Food_Technology            698 non-null    int64 \n",
      " 7   Horticulture               698 non-null    int64 \n",
      " 8   Livestock_production       698 non-null    int64 \n",
      " 9   Natural_Resources          698 non-null    int64 \n",
      " 10  Plant_Protection           698 non-null    int64 \n",
      "dtypes: int64(10), object(1)\n",
      "memory usage: 65.4+ KB\n"
     ]
    }
   ],
   "source": [
    "df5 = df5[df5['Agricultural_Economics'] == 0]\n",
    "df5 = df5[df5['Crop_production'] == 0]\n",
    "df5 = df5[df5['Food_Technology'] == 0]\n",
    "df5 = df5[df5['Food_Technology'] == 0]\n",
    "df5 = df5[df5['Horticulture'] == 0]\n",
    "df5 = df5[df5['Livestock_production'] == 0]\n",
    "df5 = df5[df5['Natural_Resources'] == 0]\n",
    "df5 = df5[df5['Plant_Protection'] == 0]\n",
    "\n",
    "df5 = df5.sample(698,random_state=45)\n",
    "df5.info()"
   ]
  },
  {
   "cell_type": "code",
   "execution_count": null,
   "metadata": {
    "colab": {
     "base_uri": "https://localhost:8080/"
    },
    "executionInfo": {
     "elapsed": 7,
     "status": "ok",
     "timestamp": 1662846002450,
     "user": {
      "displayName": "Razan HL",
      "userId": "00189607576210306079"
     },
     "user_tz": -180
    },
    "id": "DOJqXAL73oSl",
    "outputId": "3c5a2c2e-8932-4002-ee14-fb563f1e53cf"
   },
   "outputs": [
    {
     "name": "stdout",
     "output_type": "stream",
     "text": [
      "<class 'pandas.core.frame.DataFrame'>\n",
      "RangeIndex: 3452 entries, 0 to 3451\n",
      "Data columns (total 11 columns):\n",
      " #   Column                     Non-Null Count  Dtype \n",
      "---  ------                     --------------  ----- \n",
      " 0   ids                        3452 non-null   int64 \n",
      " 1   sp_text                    3452 non-null   object\n",
      " 2   Agricultural_Economics     3452 non-null   int64 \n",
      " 3   Agriculture_Biotechnology  3452 non-null   int64 \n",
      " 4   Crop_production            3452 non-null   int64 \n",
      " 5   Environmental_Sciences     3452 non-null   int64 \n",
      " 6   Food_Technology            3452 non-null   int64 \n",
      " 7   Horticulture               3452 non-null   int64 \n",
      " 8   Livestock_production       3452 non-null   int64 \n",
      " 9   Natural_Resources          3452 non-null   int64 \n",
      " 10  Plant_Protection           3452 non-null   int64 \n",
      "dtypes: int64(10), object(1)\n",
      "memory usage: 296.8+ KB\n"
     ]
    }
   ],
   "source": [
    "train_balanced = pd.concat([train_balanced,df5], ignore_index=True)\n",
    "train_balanced.info()"
   ]
  },
  {
   "cell_type": "code",
   "execution_count": null,
   "metadata": {
    "colab": {
     "base_uri": "https://localhost:8080/"
    },
    "executionInfo": {
     "elapsed": 354,
     "status": "ok",
     "timestamp": 1662846007120,
     "user": {
      "displayName": "Razan HL",
      "userId": "00189607576210306079"
     },
     "user_tz": -180
    },
    "id": "7SEQeKDt3oMD",
    "outputId": "3ba4013c-534b-4d2a-a268-1e03367cf93b"
   },
   "outputs": [
    {
     "name": "stdout",
     "output_type": "stream",
     "text": [
      "<class 'pandas.core.frame.DataFrame'>\n",
      "Int64Index: 9754 entries, 0 to 13205\n",
      "Data columns (total 11 columns):\n",
      " #   Column                     Non-Null Count  Dtype \n",
      "---  ------                     --------------  ----- \n",
      " 0   ids                        9754 non-null   int64 \n",
      " 1   sp_text                    9754 non-null   object\n",
      " 2   Agricultural_Economics     9754 non-null   int64 \n",
      " 3   Agriculture_Biotechnology  9754 non-null   int64 \n",
      " 4   Crop_production            9754 non-null   int64 \n",
      " 5   Environmental_Sciences     9754 non-null   int64 \n",
      " 6   Food_Technology            9754 non-null   int64 \n",
      " 7   Horticulture               9754 non-null   int64 \n",
      " 8   Livestock_production       9754 non-null   int64 \n",
      " 9   Natural_Resources          9754 non-null   int64 \n",
      " 10  Plant_Protection           9754 non-null   int64 \n",
      "dtypes: int64(10), object(1)\n",
      "memory usage: 914.4+ KB\n"
     ]
    }
   ],
   "source": [
    "splited_train.drop(df5.index, inplace = True)\n",
    "splited_train.info()"
   ]
  },
  {
   "cell_type": "code",
   "execution_count": null,
   "metadata": {
    "colab": {
     "base_uri": "https://localhost:8080/",
     "height": 176
    },
    "executionInfo": {
     "elapsed": 392,
     "status": "ok",
     "timestamp": 1662846009905,
     "user": {
      "displayName": "Razan HL",
      "userId": "00189607576210306079"
     },
     "user_tz": -180
    },
    "id": "HMBTH1MvShi4",
    "outputId": "8290de86-7f40-40ee-e119-b13f94d7d4f6"
   },
   "outputs": [
    {
     "data": {
      "text/html": [
       "\n",
       "  <div id=\"df-85d9a37b-465f-41a4-aa87-0514da1a64b3\">\n",
       "    <div class=\"colab-df-container\">\n",
       "      <div>\n",
       "<style scoped>\n",
       "    .dataframe tbody tr th:only-of-type {\n",
       "        vertical-align: middle;\n",
       "    }\n",
       "\n",
       "    .dataframe tbody tr th {\n",
       "        vertical-align: top;\n",
       "    }\n",
       "\n",
       "    .dataframe thead th {\n",
       "        text-align: right;\n",
       "    }\n",
       "</style>\n",
       "<table border=\"1\" class=\"dataframe\">\n",
       "  <thead>\n",
       "    <tr style=\"text-align: right;\">\n",
       "      <th></th>\n",
       "      <th>ids</th>\n",
       "      <th>Agricultural_Economics</th>\n",
       "      <th>Agriculture_Biotechnology</th>\n",
       "      <th>Crop_production</th>\n",
       "      <th>Environmental_Sciences</th>\n",
       "      <th>Food_Technology</th>\n",
       "      <th>Horticulture</th>\n",
       "      <th>Livestock_production</th>\n",
       "      <th>Plant_Protection</th>\n",
       "    </tr>\n",
       "    <tr>\n",
       "      <th>Natural_Resources</th>\n",
       "      <th></th>\n",
       "      <th></th>\n",
       "      <th></th>\n",
       "      <th></th>\n",
       "      <th></th>\n",
       "      <th></th>\n",
       "      <th></th>\n",
       "      <th></th>\n",
       "      <th></th>\n",
       "    </tr>\n",
       "  </thead>\n",
       "  <tbody>\n",
       "    <tr>\n",
       "      <th>1</th>\n",
       "      <td>1628786</td>\n",
       "      <td>0</td>\n",
       "      <td>0</td>\n",
       "      <td>1396</td>\n",
       "      <td>280</td>\n",
       "      <td>0</td>\n",
       "      <td>903</td>\n",
       "      <td>0</td>\n",
       "      <td>13</td>\n",
       "    </tr>\n",
       "  </tbody>\n",
       "</table>\n",
       "</div>\n",
       "      <button class=\"colab-df-convert\" onclick=\"convertToInteractive('df-85d9a37b-465f-41a4-aa87-0514da1a64b3')\"\n",
       "              title=\"Convert this dataframe to an interactive table.\"\n",
       "              style=\"display:none;\">\n",
       "        \n",
       "  <svg xmlns=\"http://www.w3.org/2000/svg\" height=\"24px\"viewBox=\"0 0 24 24\"\n",
       "       width=\"24px\">\n",
       "    <path d=\"M0 0h24v24H0V0z\" fill=\"none\"/>\n",
       "    <path d=\"M18.56 5.44l.94 2.06.94-2.06 2.06-.94-2.06-.94-.94-2.06-.94 2.06-2.06.94zm-11 1L8.5 8.5l.94-2.06 2.06-.94-2.06-.94L8.5 2.5l-.94 2.06-2.06.94zm10 10l.94 2.06.94-2.06 2.06-.94-2.06-.94-.94-2.06-.94 2.06-2.06.94z\"/><path d=\"M17.41 7.96l-1.37-1.37c-.4-.4-.92-.59-1.43-.59-.52 0-1.04.2-1.43.59L10.3 9.45l-7.72 7.72c-.78.78-.78 2.05 0 2.83L4 21.41c.39.39.9.59 1.41.59.51 0 1.02-.2 1.41-.59l7.78-7.78 2.81-2.81c.8-.78.8-2.07 0-2.86zM5.41 20L4 18.59l7.72-7.72 1.47 1.35L5.41 20z\"/>\n",
       "  </svg>\n",
       "      </button>\n",
       "      \n",
       "  <style>\n",
       "    .colab-df-container {\n",
       "      display:flex;\n",
       "      flex-wrap:wrap;\n",
       "      gap: 12px;\n",
       "    }\n",
       "\n",
       "    .colab-df-convert {\n",
       "      background-color: #E8F0FE;\n",
       "      border: none;\n",
       "      border-radius: 50%;\n",
       "      cursor: pointer;\n",
       "      display: none;\n",
       "      fill: #1967D2;\n",
       "      height: 32px;\n",
       "      padding: 0 0 0 0;\n",
       "      width: 32px;\n",
       "    }\n",
       "\n",
       "    .colab-df-convert:hover {\n",
       "      background-color: #E2EBFA;\n",
       "      box-shadow: 0px 1px 2px rgba(60, 64, 67, 0.3), 0px 1px 3px 1px rgba(60, 64, 67, 0.15);\n",
       "      fill: #174EA6;\n",
       "    }\n",
       "\n",
       "    [theme=dark] .colab-df-convert {\n",
       "      background-color: #3B4455;\n",
       "      fill: #D2E3FC;\n",
       "    }\n",
       "\n",
       "    [theme=dark] .colab-df-convert:hover {\n",
       "      background-color: #434B5C;\n",
       "      box-shadow: 0px 1px 3px 1px rgba(0, 0, 0, 0.15);\n",
       "      filter: drop-shadow(0px 1px 2px rgba(0, 0, 0, 0.3));\n",
       "      fill: #FFFFFF;\n",
       "    }\n",
       "  </style>\n",
       "\n",
       "      <script>\n",
       "        const buttonEl =\n",
       "          document.querySelector('#df-85d9a37b-465f-41a4-aa87-0514da1a64b3 button.colab-df-convert');\n",
       "        buttonEl.style.display =\n",
       "          google.colab.kernel.accessAllowed ? 'block' : 'none';\n",
       "\n",
       "        async function convertToInteractive(key) {\n",
       "          const element = document.querySelector('#df-85d9a37b-465f-41a4-aa87-0514da1a64b3');\n",
       "          const dataTable =\n",
       "            await google.colab.kernel.invokeFunction('convertToInteractive',\n",
       "                                                     [key], {});\n",
       "          if (!dataTable) return;\n",
       "\n",
       "          const docLinkHtml = 'Like what you see? Visit the ' +\n",
       "            '<a target=\"_blank\" href=https://colab.research.google.com/notebooks/data_table.ipynb>data table notebook</a>'\n",
       "            + ' to learn more about interactive tables.';\n",
       "          element.innerHTML = '';\n",
       "          dataTable['output_type'] = 'display_data';\n",
       "          await google.colab.output.renderOutput(dataTable, element);\n",
       "          const docLink = document.createElement('div');\n",
       "          docLink.innerHTML = docLinkHtml;\n",
       "          element.appendChild(docLink);\n",
       "        }\n",
       "      </script>\n",
       "    </div>\n",
       "  </div>\n",
       "  "
      ],
      "text/plain": [
       "                       ids  Agricultural_Economics  Agriculture_Biotechnology  \\\n",
       "Natural_Resources                                                               \n",
       "1                  1628786                       0                          0   \n",
       "\n",
       "                   Crop_production  Environmental_Sciences  Food_Technology  \\\n",
       "Natural_Resources                                                             \n",
       "1                             1396                     280                0   \n",
       "\n",
       "                   Horticulture  Livestock_production  Plant_Protection  \n",
       "Natural_Resources                                                        \n",
       "1                           903                     0                13  "
      ]
     },
     "execution_count": 38,
     "metadata": {},
     "output_type": "execute_result"
    }
   ],
   "source": [
    "df6 = splited_train[splited_train['Natural_Resources'] == 1]\n",
    "df6.groupby(['Natural_Resources']).sum()"
   ]
  },
  {
   "cell_type": "code",
   "execution_count": null,
   "metadata": {
    "colab": {
     "base_uri": "https://localhost:8080/"
    },
    "executionInfo": {
     "elapsed": 434,
     "status": "ok",
     "timestamp": 1662846012994,
     "user": {
      "displayName": "Razan HL",
      "userId": "00189607576210306079"
     },
     "user_tz": -180
    },
    "id": "4jWzrGi55zzC",
    "outputId": "3a55ebf7-7ae4-4c04-a912-49b84f01fe98"
   },
   "outputs": [
    {
     "name": "stdout",
     "output_type": "stream",
     "text": [
      "<class 'pandas.core.frame.DataFrame'>\n",
      "Int64Index: 3152 entries, 56 to 13189\n",
      "Data columns (total 11 columns):\n",
      " #   Column                     Non-Null Count  Dtype \n",
      "---  ------                     --------------  ----- \n",
      " 0   ids                        3152 non-null   int64 \n",
      " 1   sp_text                    3152 non-null   object\n",
      " 2   Agricultural_Economics     3152 non-null   int64 \n",
      " 3   Agriculture_Biotechnology  3152 non-null   int64 \n",
      " 4   Crop_production            3152 non-null   int64 \n",
      " 5   Environmental_Sciences     3152 non-null   int64 \n",
      " 6   Food_Technology            3152 non-null   int64 \n",
      " 7   Horticulture               3152 non-null   int64 \n",
      " 8   Livestock_production       3152 non-null   int64 \n",
      " 9   Natural_Resources          3152 non-null   int64 \n",
      " 10  Plant_Protection           3152 non-null   int64 \n",
      "dtypes: int64(10), object(1)\n",
      "memory usage: 295.5+ KB\n"
     ]
    }
   ],
   "source": [
    "df6.info()"
   ]
  },
  {
   "cell_type": "code",
   "execution_count": null,
   "metadata": {
    "colab": {
     "base_uri": "https://localhost:8080/"
    },
    "executionInfo": {
     "elapsed": 11,
     "status": "ok",
     "timestamp": 1662846017281,
     "user": {
      "displayName": "Razan HL",
      "userId": "00189607576210306079"
     },
     "user_tz": -180
    },
    "id": "4MH5Sqcv5zwB",
    "outputId": "ca93107a-8646-4bb0-dd79-ea13f0b1e338"
   },
   "outputs": [
    {
     "name": "stdout",
     "output_type": "stream",
     "text": [
      "<class 'pandas.core.frame.DataFrame'>\n",
      "Int64Index: 609 entries, 7369 to 6065\n",
      "Data columns (total 11 columns):\n",
      " #   Column                     Non-Null Count  Dtype \n",
      "---  ------                     --------------  ----- \n",
      " 0   ids                        609 non-null    int64 \n",
      " 1   sp_text                    609 non-null    object\n",
      " 2   Agricultural_Economics     609 non-null    int64 \n",
      " 3   Agriculture_Biotechnology  609 non-null    int64 \n",
      " 4   Crop_production            609 non-null    int64 \n",
      " 5   Environmental_Sciences     609 non-null    int64 \n",
      " 6   Food_Technology            609 non-null    int64 \n",
      " 7   Horticulture               609 non-null    int64 \n",
      " 8   Livestock_production       609 non-null    int64 \n",
      " 9   Natural_Resources          609 non-null    int64 \n",
      " 10  Plant_Protection           609 non-null    int64 \n",
      "dtypes: int64(10), object(1)\n",
      "memory usage: 57.1+ KB\n"
     ]
    }
   ],
   "source": [
    "df6 = df6[df6['Environmental_Sciences'] == 0]\n",
    "df6 = df6[df6['Horticulture'] == 0]\n",
    "df6 = df6[df6['Plant_Protection'] == 0]\n",
    "\n",
    "df6 = df6.sample(609,random_state=45)\n",
    "df6.info()"
   ]
  },
  {
   "cell_type": "code",
   "execution_count": null,
   "metadata": {
    "colab": {
     "base_uri": "https://localhost:8080/"
    },
    "executionInfo": {
     "elapsed": 10,
     "status": "ok",
     "timestamp": 1662846020440,
     "user": {
      "displayName": "Razan HL",
      "userId": "00189607576210306079"
     },
     "user_tz": -180
    },
    "id": "BMEiRqZG5ztZ",
    "outputId": "62ec92ab-4dbc-46f0-9fa1-5c165f4edffe"
   },
   "outputs": [
    {
     "name": "stdout",
     "output_type": "stream",
     "text": [
      "<class 'pandas.core.frame.DataFrame'>\n",
      "RangeIndex: 4061 entries, 0 to 4060\n",
      "Data columns (total 11 columns):\n",
      " #   Column                     Non-Null Count  Dtype \n",
      "---  ------                     --------------  ----- \n",
      " 0   ids                        4061 non-null   int64 \n",
      " 1   sp_text                    4061 non-null   object\n",
      " 2   Agricultural_Economics     4061 non-null   int64 \n",
      " 3   Agriculture_Biotechnology  4061 non-null   int64 \n",
      " 4   Crop_production            4061 non-null   int64 \n",
      " 5   Environmental_Sciences     4061 non-null   int64 \n",
      " 6   Food_Technology            4061 non-null   int64 \n",
      " 7   Horticulture               4061 non-null   int64 \n",
      " 8   Livestock_production       4061 non-null   int64 \n",
      " 9   Natural_Resources          4061 non-null   int64 \n",
      " 10  Plant_Protection           4061 non-null   int64 \n",
      "dtypes: int64(10), object(1)\n",
      "memory usage: 349.1+ KB\n"
     ]
    }
   ],
   "source": [
    "train_balanced = pd.concat([train_balanced,df6], ignore_index=True)\n",
    "train_balanced.info()"
   ]
  },
  {
   "cell_type": "code",
   "execution_count": null,
   "metadata": {
    "colab": {
     "base_uri": "https://localhost:8080/"
    },
    "executionInfo": {
     "elapsed": 8,
     "status": "ok",
     "timestamp": 1662846025659,
     "user": {
      "displayName": "Razan HL",
      "userId": "00189607576210306079"
     },
     "user_tz": -180
    },
    "id": "isl3-apV5zmM",
    "outputId": "f463a2c4-74b3-4119-a078-e622d4898d92"
   },
   "outputs": [
    {
     "name": "stdout",
     "output_type": "stream",
     "text": [
      "<class 'pandas.core.frame.DataFrame'>\n",
      "Int64Index: 9145 entries, 0 to 13205\n",
      "Data columns (total 11 columns):\n",
      " #   Column                     Non-Null Count  Dtype \n",
      "---  ------                     --------------  ----- \n",
      " 0   ids                        9145 non-null   int64 \n",
      " 1   sp_text                    9145 non-null   object\n",
      " 2   Agricultural_Economics     9145 non-null   int64 \n",
      " 3   Agriculture_Biotechnology  9145 non-null   int64 \n",
      " 4   Crop_production            9145 non-null   int64 \n",
      " 5   Environmental_Sciences     9145 non-null   int64 \n",
      " 6   Food_Technology            9145 non-null   int64 \n",
      " 7   Horticulture               9145 non-null   int64 \n",
      " 8   Livestock_production       9145 non-null   int64 \n",
      " 9   Natural_Resources          9145 non-null   int64 \n",
      " 10  Plant_Protection           9145 non-null   int64 \n",
      "dtypes: int64(10), object(1)\n",
      "memory usage: 857.3+ KB\n"
     ]
    }
   ],
   "source": [
    "splited_train.drop(df6.index, inplace = True)\n",
    "splited_train.info()"
   ]
  },
  {
   "cell_type": "code",
   "execution_count": null,
   "metadata": {
    "colab": {
     "base_uri": "https://localhost:8080/",
     "height": 176
    },
    "executionInfo": {
     "elapsed": 9,
     "status": "ok",
     "timestamp": 1662846032297,
     "user": {
      "displayName": "Razan HL",
      "userId": "00189607576210306079"
     },
     "user_tz": -180
    },
    "id": "4L0IrdtHShff",
    "outputId": "b233a970-fc62-4e0b-db9f-7255b7038078"
   },
   "outputs": [
    {
     "data": {
      "text/html": [
       "\n",
       "  <div id=\"df-95932044-496c-406c-ab09-a885aac63d52\">\n",
       "    <div class=\"colab-df-container\">\n",
       "      <div>\n",
       "<style scoped>\n",
       "    .dataframe tbody tr th:only-of-type {\n",
       "        vertical-align: middle;\n",
       "    }\n",
       "\n",
       "    .dataframe tbody tr th {\n",
       "        vertical-align: top;\n",
       "    }\n",
       "\n",
       "    .dataframe thead th {\n",
       "        text-align: right;\n",
       "    }\n",
       "</style>\n",
       "<table border=\"1\" class=\"dataframe\">\n",
       "  <thead>\n",
       "    <tr style=\"text-align: right;\">\n",
       "      <th></th>\n",
       "      <th>ids</th>\n",
       "      <th>Agricultural_Economics</th>\n",
       "      <th>Agriculture_Biotechnology</th>\n",
       "      <th>Crop_production</th>\n",
       "      <th>Environmental_Sciences</th>\n",
       "      <th>Food_Technology</th>\n",
       "      <th>Livestock_production</th>\n",
       "      <th>Natural_Resources</th>\n",
       "      <th>Plant_Protection</th>\n",
       "    </tr>\n",
       "    <tr>\n",
       "      <th>Horticulture</th>\n",
       "      <th></th>\n",
       "      <th></th>\n",
       "      <th></th>\n",
       "      <th></th>\n",
       "      <th></th>\n",
       "      <th></th>\n",
       "      <th></th>\n",
       "      <th></th>\n",
       "      <th></th>\n",
       "    </tr>\n",
       "  </thead>\n",
       "  <tbody>\n",
       "    <tr>\n",
       "      <th>1</th>\n",
       "      <td>1385765</td>\n",
       "      <td>0</td>\n",
       "      <td>0</td>\n",
       "      <td>27</td>\n",
       "      <td>68</td>\n",
       "      <td>24</td>\n",
       "      <td>0</td>\n",
       "      <td>903</td>\n",
       "      <td>367</td>\n",
       "    </tr>\n",
       "  </tbody>\n",
       "</table>\n",
       "</div>\n",
       "      <button class=\"colab-df-convert\" onclick=\"convertToInteractive('df-95932044-496c-406c-ab09-a885aac63d52')\"\n",
       "              title=\"Convert this dataframe to an interactive table.\"\n",
       "              style=\"display:none;\">\n",
       "        \n",
       "  <svg xmlns=\"http://www.w3.org/2000/svg\" height=\"24px\"viewBox=\"0 0 24 24\"\n",
       "       width=\"24px\">\n",
       "    <path d=\"M0 0h24v24H0V0z\" fill=\"none\"/>\n",
       "    <path d=\"M18.56 5.44l.94 2.06.94-2.06 2.06-.94-2.06-.94-.94-2.06-.94 2.06-2.06.94zm-11 1L8.5 8.5l.94-2.06 2.06-.94-2.06-.94L8.5 2.5l-.94 2.06-2.06.94zm10 10l.94 2.06.94-2.06 2.06-.94-2.06-.94-.94-2.06-.94 2.06-2.06.94z\"/><path d=\"M17.41 7.96l-1.37-1.37c-.4-.4-.92-.59-1.43-.59-.52 0-1.04.2-1.43.59L10.3 9.45l-7.72 7.72c-.78.78-.78 2.05 0 2.83L4 21.41c.39.39.9.59 1.41.59.51 0 1.02-.2 1.41-.59l7.78-7.78 2.81-2.81c.8-.78.8-2.07 0-2.86zM5.41 20L4 18.59l7.72-7.72 1.47 1.35L5.41 20z\"/>\n",
       "  </svg>\n",
       "      </button>\n",
       "      \n",
       "  <style>\n",
       "    .colab-df-container {\n",
       "      display:flex;\n",
       "      flex-wrap:wrap;\n",
       "      gap: 12px;\n",
       "    }\n",
       "\n",
       "    .colab-df-convert {\n",
       "      background-color: #E8F0FE;\n",
       "      border: none;\n",
       "      border-radius: 50%;\n",
       "      cursor: pointer;\n",
       "      display: none;\n",
       "      fill: #1967D2;\n",
       "      height: 32px;\n",
       "      padding: 0 0 0 0;\n",
       "      width: 32px;\n",
       "    }\n",
       "\n",
       "    .colab-df-convert:hover {\n",
       "      background-color: #E2EBFA;\n",
       "      box-shadow: 0px 1px 2px rgba(60, 64, 67, 0.3), 0px 1px 3px 1px rgba(60, 64, 67, 0.15);\n",
       "      fill: #174EA6;\n",
       "    }\n",
       "\n",
       "    [theme=dark] .colab-df-convert {\n",
       "      background-color: #3B4455;\n",
       "      fill: #D2E3FC;\n",
       "    }\n",
       "\n",
       "    [theme=dark] .colab-df-convert:hover {\n",
       "      background-color: #434B5C;\n",
       "      box-shadow: 0px 1px 3px 1px rgba(0, 0, 0, 0.15);\n",
       "      filter: drop-shadow(0px 1px 2px rgba(0, 0, 0, 0.3));\n",
       "      fill: #FFFFFF;\n",
       "    }\n",
       "  </style>\n",
       "\n",
       "      <script>\n",
       "        const buttonEl =\n",
       "          document.querySelector('#df-95932044-496c-406c-ab09-a885aac63d52 button.colab-df-convert');\n",
       "        buttonEl.style.display =\n",
       "          google.colab.kernel.accessAllowed ? 'block' : 'none';\n",
       "\n",
       "        async function convertToInteractive(key) {\n",
       "          const element = document.querySelector('#df-95932044-496c-406c-ab09-a885aac63d52');\n",
       "          const dataTable =\n",
       "            await google.colab.kernel.invokeFunction('convertToInteractive',\n",
       "                                                     [key], {});\n",
       "          if (!dataTable) return;\n",
       "\n",
       "          const docLinkHtml = 'Like what you see? Visit the ' +\n",
       "            '<a target=\"_blank\" href=https://colab.research.google.com/notebooks/data_table.ipynb>data table notebook</a>'\n",
       "            + ' to learn more about interactive tables.';\n",
       "          element.innerHTML = '';\n",
       "          dataTable['output_type'] = 'display_data';\n",
       "          await google.colab.output.renderOutput(dataTable, element);\n",
       "          const docLink = document.createElement('div');\n",
       "          docLink.innerHTML = docLinkHtml;\n",
       "          element.appendChild(docLink);\n",
       "        }\n",
       "      </script>\n",
       "    </div>\n",
       "  </div>\n",
       "  "
      ],
      "text/plain": [
       "                  ids  Agricultural_Economics  Agriculture_Biotechnology  \\\n",
       "Horticulture                                                               \n",
       "1             1385765                       0                          0   \n",
       "\n",
       "              Crop_production  Environmental_Sciences  Food_Technology  \\\n",
       "Horticulture                                                             \n",
       "1                          27                      68               24   \n",
       "\n",
       "              Livestock_production  Natural_Resources  Plant_Protection  \n",
       "Horticulture                                                             \n",
       "1                                0                903               367  "
      ]
     },
     "execution_count": 43,
     "metadata": {},
     "output_type": "execute_result"
    }
   ],
   "source": [
    "df7 = splited_train[splited_train['Horticulture'] == 1]\n",
    "df7.groupby(['Horticulture']).sum()"
   ]
  },
  {
   "cell_type": "code",
   "execution_count": null,
   "metadata": {
    "colab": {
     "base_uri": "https://localhost:8080/"
    },
    "executionInfo": {
     "elapsed": 10,
     "status": "ok",
     "timestamp": 1662846034379,
     "user": {
      "displayName": "Razan HL",
      "userId": "00189607576210306079"
     },
     "user_tz": -180
    },
    "id": "s33GQ3Ah6zJX",
    "outputId": "ea9a0536-01a3-4390-d8da-ed547386974c"
   },
   "outputs": [
    {
     "name": "stdout",
     "output_type": "stream",
     "text": [
      "<class 'pandas.core.frame.DataFrame'>\n",
      "Int64Index: 2601 entries, 27 to 13067\n",
      "Data columns (total 11 columns):\n",
      " #   Column                     Non-Null Count  Dtype \n",
      "---  ------                     --------------  ----- \n",
      " 0   ids                        2601 non-null   int64 \n",
      " 1   sp_text                    2601 non-null   object\n",
      " 2   Agricultural_Economics     2601 non-null   int64 \n",
      " 3   Agriculture_Biotechnology  2601 non-null   int64 \n",
      " 4   Crop_production            2601 non-null   int64 \n",
      " 5   Environmental_Sciences     2601 non-null   int64 \n",
      " 6   Food_Technology            2601 non-null   int64 \n",
      " 7   Horticulture               2601 non-null   int64 \n",
      " 8   Livestock_production       2601 non-null   int64 \n",
      " 9   Natural_Resources          2601 non-null   int64 \n",
      " 10  Plant_Protection           2601 non-null   int64 \n",
      "dtypes: int64(10), object(1)\n",
      "memory usage: 243.8+ KB\n"
     ]
    }
   ],
   "source": [
    "df7.info()"
   ]
  },
  {
   "cell_type": "code",
   "execution_count": null,
   "metadata": {
    "colab": {
     "base_uri": "https://localhost:8080/"
    },
    "executionInfo": {
     "elapsed": 8,
     "status": "ok",
     "timestamp": 1662846036484,
     "user": {
      "displayName": "Razan HL",
      "userId": "00189607576210306079"
     },
     "user_tz": -180
    },
    "id": "rfoYdnz46zGe",
    "outputId": "ba95e992-1c4c-4bf0-9341-c20b8795f5eb"
   },
   "outputs": [
    {
     "name": "stdout",
     "output_type": "stream",
     "text": [
      "<class 'pandas.core.frame.DataFrame'>\n",
      "Int64Index: 534 entries, 4329 to 4598\n",
      "Data columns (total 11 columns):\n",
      " #   Column                     Non-Null Count  Dtype \n",
      "---  ------                     --------------  ----- \n",
      " 0   ids                        534 non-null    int64 \n",
      " 1   sp_text                    534 non-null    object\n",
      " 2   Agricultural_Economics     534 non-null    int64 \n",
      " 3   Agriculture_Biotechnology  534 non-null    int64 \n",
      " 4   Crop_production            534 non-null    int64 \n",
      " 5   Environmental_Sciences     534 non-null    int64 \n",
      " 6   Food_Technology            534 non-null    int64 \n",
      " 7   Horticulture               534 non-null    int64 \n",
      " 8   Livestock_production       534 non-null    int64 \n",
      " 9   Natural_Resources          534 non-null    int64 \n",
      " 10  Plant_Protection           534 non-null    int64 \n",
      "dtypes: int64(10), object(1)\n",
      "memory usage: 50.1+ KB\n"
     ]
    }
   ],
   "source": [
    "df7 = df7[df7['Crop_production'] == 0]\n",
    "df7 = df7[df7['Environmental_Sciences'] == 0]\n",
    "df7 = df7[df7['Food_Technology'] == 0]\n",
    "df7 = df7[df7['Natural_Resources'] == 0]\n",
    "df7 = df7[df7['Plant_Protection'] == 0]\n",
    "\n",
    "df7 = df7.sample(534,random_state=45)\n",
    "df7.info()"
   ]
  },
  {
   "cell_type": "code",
   "execution_count": null,
   "metadata": {
    "colab": {
     "base_uri": "https://localhost:8080/"
    },
    "executionInfo": {
     "elapsed": 7,
     "status": "ok",
     "timestamp": 1662846039826,
     "user": {
      "displayName": "Razan HL",
      "userId": "00189607576210306079"
     },
     "user_tz": -180
    },
    "id": "4XGg6Wkq6zDe",
    "outputId": "56127479-31f6-4678-b648-f20b57d9b6f6"
   },
   "outputs": [
    {
     "name": "stdout",
     "output_type": "stream",
     "text": [
      "<class 'pandas.core.frame.DataFrame'>\n",
      "RangeIndex: 4595 entries, 0 to 4594\n",
      "Data columns (total 11 columns):\n",
      " #   Column                     Non-Null Count  Dtype \n",
      "---  ------                     --------------  ----- \n",
      " 0   ids                        4595 non-null   int64 \n",
      " 1   sp_text                    4595 non-null   object\n",
      " 2   Agricultural_Economics     4595 non-null   int64 \n",
      " 3   Agriculture_Biotechnology  4595 non-null   int64 \n",
      " 4   Crop_production            4595 non-null   int64 \n",
      " 5   Environmental_Sciences     4595 non-null   int64 \n",
      " 6   Food_Technology            4595 non-null   int64 \n",
      " 7   Horticulture               4595 non-null   int64 \n",
      " 8   Livestock_production       4595 non-null   int64 \n",
      " 9   Natural_Resources          4595 non-null   int64 \n",
      " 10  Plant_Protection           4595 non-null   int64 \n",
      "dtypes: int64(10), object(1)\n",
      "memory usage: 395.0+ KB\n"
     ]
    }
   ],
   "source": [
    "train_balanced = pd.concat([train_balanced,df7], ignore_index=True)\n",
    "train_balanced.info()"
   ]
  },
  {
   "cell_type": "code",
   "execution_count": null,
   "metadata": {
    "colab": {
     "base_uri": "https://localhost:8080/"
    },
    "executionInfo": {
     "elapsed": 417,
     "status": "ok",
     "timestamp": 1662846043690,
     "user": {
      "displayName": "Razan HL",
      "userId": "00189607576210306079"
     },
     "user_tz": -180
    },
    "id": "ApBKBWNi6zAH",
    "outputId": "470f868a-efa1-4b5d-f2ef-da96f8e6aa9c"
   },
   "outputs": [
    {
     "name": "stdout",
     "output_type": "stream",
     "text": [
      "<class 'pandas.core.frame.DataFrame'>\n",
      "Int64Index: 8611 entries, 0 to 13205\n",
      "Data columns (total 11 columns):\n",
      " #   Column                     Non-Null Count  Dtype \n",
      "---  ------                     --------------  ----- \n",
      " 0   ids                        8611 non-null   int64 \n",
      " 1   sp_text                    8611 non-null   object\n",
      " 2   Agricultural_Economics     8611 non-null   int64 \n",
      " 3   Agriculture_Biotechnology  8611 non-null   int64 \n",
      " 4   Crop_production            8611 non-null   int64 \n",
      " 5   Environmental_Sciences     8611 non-null   int64 \n",
      " 6   Food_Technology            8611 non-null   int64 \n",
      " 7   Horticulture               8611 non-null   int64 \n",
      " 8   Livestock_production       8611 non-null   int64 \n",
      " 9   Natural_Resources          8611 non-null   int64 \n",
      " 10  Plant_Protection           8611 non-null   int64 \n",
      "dtypes: int64(10), object(1)\n",
      "memory usage: 807.3+ KB\n"
     ]
    }
   ],
   "source": [
    "splited_train.drop(df7.index, inplace = True)\n",
    "splited_train.info()"
   ]
  },
  {
   "cell_type": "code",
   "execution_count": null,
   "metadata": {
    "colab": {
     "base_uri": "https://localhost:8080/",
     "height": 176
    },
    "executionInfo": {
     "elapsed": 16,
     "status": "ok",
     "timestamp": 1662846049530,
     "user": {
      "displayName": "Razan HL",
      "userId": "00189607576210306079"
     },
     "user_tz": -180
    },
    "id": "PbkXwqkaSM1Y",
    "outputId": "60b3cbdb-d5c7-4fbd-d804-6eff37fdef95"
   },
   "outputs": [
    {
     "data": {
      "text/html": [
       "\n",
       "  <div id=\"df-5a7a3cf7-5c37-4db1-b041-4867f1ae4035\">\n",
       "    <div class=\"colab-df-container\">\n",
       "      <div>\n",
       "<style scoped>\n",
       "    .dataframe tbody tr th:only-of-type {\n",
       "        vertical-align: middle;\n",
       "    }\n",
       "\n",
       "    .dataframe tbody tr th {\n",
       "        vertical-align: top;\n",
       "    }\n",
       "\n",
       "    .dataframe thead th {\n",
       "        text-align: right;\n",
       "    }\n",
       "</style>\n",
       "<table border=\"1\" class=\"dataframe\">\n",
       "  <thead>\n",
       "    <tr style=\"text-align: right;\">\n",
       "      <th></th>\n",
       "      <th>ids</th>\n",
       "      <th>Agricultural_Economics</th>\n",
       "      <th>Agriculture_Biotechnology</th>\n",
       "      <th>Crop_production</th>\n",
       "      <th>Environmental_Sciences</th>\n",
       "      <th>Food_Technology</th>\n",
       "      <th>Horticulture</th>\n",
       "      <th>Livestock_production</th>\n",
       "      <th>Natural_Resources</th>\n",
       "    </tr>\n",
       "    <tr>\n",
       "      <th>Plant_Protection</th>\n",
       "      <th></th>\n",
       "      <th></th>\n",
       "      <th></th>\n",
       "      <th></th>\n",
       "      <th></th>\n",
       "      <th></th>\n",
       "      <th></th>\n",
       "      <th></th>\n",
       "      <th></th>\n",
       "    </tr>\n",
       "  </thead>\n",
       "  <tbody>\n",
       "    <tr>\n",
       "      <th>1</th>\n",
       "      <td>710897</td>\n",
       "      <td>0</td>\n",
       "      <td>0</td>\n",
       "      <td>221</td>\n",
       "      <td>26</td>\n",
       "      <td>0</td>\n",
       "      <td>367</td>\n",
       "      <td>0</td>\n",
       "      <td>13</td>\n",
       "    </tr>\n",
       "  </tbody>\n",
       "</table>\n",
       "</div>\n",
       "      <button class=\"colab-df-convert\" onclick=\"convertToInteractive('df-5a7a3cf7-5c37-4db1-b041-4867f1ae4035')\"\n",
       "              title=\"Convert this dataframe to an interactive table.\"\n",
       "              style=\"display:none;\">\n",
       "        \n",
       "  <svg xmlns=\"http://www.w3.org/2000/svg\" height=\"24px\"viewBox=\"0 0 24 24\"\n",
       "       width=\"24px\">\n",
       "    <path d=\"M0 0h24v24H0V0z\" fill=\"none\"/>\n",
       "    <path d=\"M18.56 5.44l.94 2.06.94-2.06 2.06-.94-2.06-.94-.94-2.06-.94 2.06-2.06.94zm-11 1L8.5 8.5l.94-2.06 2.06-.94-2.06-.94L8.5 2.5l-.94 2.06-2.06.94zm10 10l.94 2.06.94-2.06 2.06-.94-2.06-.94-.94-2.06-.94 2.06-2.06.94z\"/><path d=\"M17.41 7.96l-1.37-1.37c-.4-.4-.92-.59-1.43-.59-.52 0-1.04.2-1.43.59L10.3 9.45l-7.72 7.72c-.78.78-.78 2.05 0 2.83L4 21.41c.39.39.9.59 1.41.59.51 0 1.02-.2 1.41-.59l7.78-7.78 2.81-2.81c.8-.78.8-2.07 0-2.86zM5.41 20L4 18.59l7.72-7.72 1.47 1.35L5.41 20z\"/>\n",
       "  </svg>\n",
       "      </button>\n",
       "      \n",
       "  <style>\n",
       "    .colab-df-container {\n",
       "      display:flex;\n",
       "      flex-wrap:wrap;\n",
       "      gap: 12px;\n",
       "    }\n",
       "\n",
       "    .colab-df-convert {\n",
       "      background-color: #E8F0FE;\n",
       "      border: none;\n",
       "      border-radius: 50%;\n",
       "      cursor: pointer;\n",
       "      display: none;\n",
       "      fill: #1967D2;\n",
       "      height: 32px;\n",
       "      padding: 0 0 0 0;\n",
       "      width: 32px;\n",
       "    }\n",
       "\n",
       "    .colab-df-convert:hover {\n",
       "      background-color: #E2EBFA;\n",
       "      box-shadow: 0px 1px 2px rgba(60, 64, 67, 0.3), 0px 1px 3px 1px rgba(60, 64, 67, 0.15);\n",
       "      fill: #174EA6;\n",
       "    }\n",
       "\n",
       "    [theme=dark] .colab-df-convert {\n",
       "      background-color: #3B4455;\n",
       "      fill: #D2E3FC;\n",
       "    }\n",
       "\n",
       "    [theme=dark] .colab-df-convert:hover {\n",
       "      background-color: #434B5C;\n",
       "      box-shadow: 0px 1px 3px 1px rgba(0, 0, 0, 0.15);\n",
       "      filter: drop-shadow(0px 1px 2px rgba(0, 0, 0, 0.3));\n",
       "      fill: #FFFFFF;\n",
       "    }\n",
       "  </style>\n",
       "\n",
       "      <script>\n",
       "        const buttonEl =\n",
       "          document.querySelector('#df-5a7a3cf7-5c37-4db1-b041-4867f1ae4035 button.colab-df-convert');\n",
       "        buttonEl.style.display =\n",
       "          google.colab.kernel.accessAllowed ? 'block' : 'none';\n",
       "\n",
       "        async function convertToInteractive(key) {\n",
       "          const element = document.querySelector('#df-5a7a3cf7-5c37-4db1-b041-4867f1ae4035');\n",
       "          const dataTable =\n",
       "            await google.colab.kernel.invokeFunction('convertToInteractive',\n",
       "                                                     [key], {});\n",
       "          if (!dataTable) return;\n",
       "\n",
       "          const docLinkHtml = 'Like what you see? Visit the ' +\n",
       "            '<a target=\"_blank\" href=https://colab.research.google.com/notebooks/data_table.ipynb>data table notebook</a>'\n",
       "            + ' to learn more about interactive tables.';\n",
       "          element.innerHTML = '';\n",
       "          dataTable['output_type'] = 'display_data';\n",
       "          await google.colab.output.renderOutput(dataTable, element);\n",
       "          const docLink = document.createElement('div');\n",
       "          docLink.innerHTML = docLinkHtml;\n",
       "          element.appendChild(docLink);\n",
       "        }\n",
       "      </script>\n",
       "    </div>\n",
       "  </div>\n",
       "  "
      ],
      "text/plain": [
       "                     ids  Agricultural_Economics  Agriculture_Biotechnology  \\\n",
       "Plant_Protection                                                              \n",
       "1                 710897                       0                          0   \n",
       "\n",
       "                  Crop_production  Environmental_Sciences  Food_Technology  \\\n",
       "Plant_Protection                                                             \n",
       "1                             221                      26                0   \n",
       "\n",
       "                  Horticulture  Livestock_production  Natural_Resources  \n",
       "Plant_Protection                                                         \n",
       "1                          367                     0                 13  "
      ]
     },
     "execution_count": 48,
     "metadata": {},
     "output_type": "execute_result"
    }
   ],
   "source": [
    "df8 = splited_train[splited_train['Plant_Protection'] == 1]\n",
    "df8.groupby(['Plant_Protection']).sum()"
   ]
  },
  {
   "cell_type": "code",
   "execution_count": null,
   "metadata": {
    "colab": {
     "base_uri": "https://localhost:8080/"
    },
    "executionInfo": {
     "elapsed": 7,
     "status": "ok",
     "timestamp": 1662846051536,
     "user": {
      "displayName": "Razan HL",
      "userId": "00189607576210306079"
     },
     "user_tz": -180
    },
    "id": "Unf_ojmr5zf9",
    "outputId": "fa1f7610-d588-4b5f-a912-c2a3f4d2c05b"
   },
   "outputs": [
    {
     "name": "stdout",
     "output_type": "stream",
     "text": [
      "<class 'pandas.core.frame.DataFrame'>\n",
      "Int64Index: 1566 entries, 0 to 13027\n",
      "Data columns (total 11 columns):\n",
      " #   Column                     Non-Null Count  Dtype \n",
      "---  ------                     --------------  ----- \n",
      " 0   ids                        1566 non-null   int64 \n",
      " 1   sp_text                    1566 non-null   object\n",
      " 2   Agricultural_Economics     1566 non-null   int64 \n",
      " 3   Agriculture_Biotechnology  1566 non-null   int64 \n",
      " 4   Crop_production            1566 non-null   int64 \n",
      " 5   Environmental_Sciences     1566 non-null   int64 \n",
      " 6   Food_Technology            1566 non-null   int64 \n",
      " 7   Horticulture               1566 non-null   int64 \n",
      " 8   Livestock_production       1566 non-null   int64 \n",
      " 9   Natural_Resources          1566 non-null   int64 \n",
      " 10  Plant_Protection           1566 non-null   int64 \n",
      "dtypes: int64(10), object(1)\n",
      "memory usage: 146.8+ KB\n"
     ]
    }
   ],
   "source": [
    "df8.info()"
   ]
  },
  {
   "cell_type": "code",
   "execution_count": null,
   "metadata": {
    "colab": {
     "base_uri": "https://localhost:8080/"
    },
    "executionInfo": {
     "elapsed": 10,
     "status": "ok",
     "timestamp": 1662846056715,
     "user": {
      "displayName": "Razan HL",
      "userId": "00189607576210306079"
     },
     "user_tz": -180
    },
    "id": "oZ14te6k8LZd",
    "outputId": "f1e2212e-0b51-49fe-835b-bc0f3af524a3"
   },
   "outputs": [
    {
     "name": "stdout",
     "output_type": "stream",
     "text": [
      "<class 'pandas.core.frame.DataFrame'>\n",
      "Int64Index: 691 entries, 5730 to 9105\n",
      "Data columns (total 11 columns):\n",
      " #   Column                     Non-Null Count  Dtype \n",
      "---  ------                     --------------  ----- \n",
      " 0   ids                        691 non-null    int64 \n",
      " 1   sp_text                    691 non-null    object\n",
      " 2   Agricultural_Economics     691 non-null    int64 \n",
      " 3   Agriculture_Biotechnology  691 non-null    int64 \n",
      " 4   Crop_production            691 non-null    int64 \n",
      " 5   Environmental_Sciences     691 non-null    int64 \n",
      " 6   Food_Technology            691 non-null    int64 \n",
      " 7   Horticulture               691 non-null    int64 \n",
      " 8   Livestock_production       691 non-null    int64 \n",
      " 9   Natural_Resources          691 non-null    int64 \n",
      " 10  Plant_Protection           691 non-null    int64 \n",
      "dtypes: int64(10), object(1)\n",
      "memory usage: 64.8+ KB\n"
     ]
    }
   ],
   "source": [
    "df8 = df8[df8['Crop_production'] == 0]\n",
    "df8 = df8[df8['Horticulture'] == 0]\n",
    "df8 = df8[df8['Environmental_Sciences'] == 0]\n",
    "df8 = df8[df8['Natural_Resources'] == 0]\n",
    "\n",
    "df8 = df8.sample(691,random_state=45)\n",
    "df8.info()"
   ]
  },
  {
   "cell_type": "code",
   "execution_count": null,
   "metadata": {
    "colab": {
     "base_uri": "https://localhost:8080/"
    },
    "executionInfo": {
     "elapsed": 8,
     "status": "ok",
     "timestamp": 1662846058679,
     "user": {
      "displayName": "Razan HL",
      "userId": "00189607576210306079"
     },
     "user_tz": -180
    },
    "id": "_0xwcnU78LWS",
    "outputId": "183c6445-c37a-44fa-a9a9-4a4465b2311b"
   },
   "outputs": [
    {
     "name": "stdout",
     "output_type": "stream",
     "text": [
      "<class 'pandas.core.frame.DataFrame'>\n",
      "RangeIndex: 5286 entries, 0 to 5285\n",
      "Data columns (total 11 columns):\n",
      " #   Column                     Non-Null Count  Dtype \n",
      "---  ------                     --------------  ----- \n",
      " 0   ids                        5286 non-null   int64 \n",
      " 1   sp_text                    5286 non-null   object\n",
      " 2   Agricultural_Economics     5286 non-null   int64 \n",
      " 3   Agriculture_Biotechnology  5286 non-null   int64 \n",
      " 4   Crop_production            5286 non-null   int64 \n",
      " 5   Environmental_Sciences     5286 non-null   int64 \n",
      " 6   Food_Technology            5286 non-null   int64 \n",
      " 7   Horticulture               5286 non-null   int64 \n",
      " 8   Livestock_production       5286 non-null   int64 \n",
      " 9   Natural_Resources          5286 non-null   int64 \n",
      " 10  Plant_Protection           5286 non-null   int64 \n",
      "dtypes: int64(10), object(1)\n",
      "memory usage: 454.4+ KB\n"
     ]
    }
   ],
   "source": [
    "train_balanced = pd.concat([train_balanced,df8], ignore_index=True)\n",
    "train_balanced.info()"
   ]
  },
  {
   "cell_type": "code",
   "execution_count": null,
   "metadata": {
    "colab": {
     "base_uri": "https://localhost:8080/"
    },
    "executionInfo": {
     "elapsed": 7,
     "status": "ok",
     "timestamp": 1662846061604,
     "user": {
      "displayName": "Razan HL",
      "userId": "00189607576210306079"
     },
     "user_tz": -180
    },
    "id": "uV6-1jYsTQNV",
    "outputId": "4936c476-8de1-4adb-ae6d-84d4754f7350"
   },
   "outputs": [
    {
     "name": "stdout",
     "output_type": "stream",
     "text": [
      "<class 'pandas.core.frame.DataFrame'>\n",
      "Int64Index: 7920 entries, 14 to 13205\n",
      "Data columns (total 11 columns):\n",
      " #   Column                     Non-Null Count  Dtype \n",
      "---  ------                     --------------  ----- \n",
      " 0   ids                        7920 non-null   int64 \n",
      " 1   sp_text                    7920 non-null   object\n",
      " 2   Agricultural_Economics     7920 non-null   int64 \n",
      " 3   Agriculture_Biotechnology  7920 non-null   int64 \n",
      " 4   Crop_production            7920 non-null   int64 \n",
      " 5   Environmental_Sciences     7920 non-null   int64 \n",
      " 6   Food_Technology            7920 non-null   int64 \n",
      " 7   Horticulture               7920 non-null   int64 \n",
      " 8   Livestock_production       7920 non-null   int64 \n",
      " 9   Natural_Resources          7920 non-null   int64 \n",
      " 10  Plant_Protection           7920 non-null   int64 \n",
      "dtypes: int64(10), object(1)\n",
      "memory usage: 742.5+ KB\n"
     ]
    }
   ],
   "source": [
    "splited_train.drop(df8.index, inplace = True)\n",
    "splited_train.info()"
   ]
  },
  {
   "cell_type": "code",
   "execution_count": null,
   "metadata": {
    "colab": {
     "base_uri": "https://localhost:8080/",
     "height": 176
    },
    "executionInfo": {
     "elapsed": 25,
     "status": "ok",
     "timestamp": 1662846070131,
     "user": {
      "displayName": "Razan HL",
      "userId": "00189607576210306079"
     },
     "user_tz": -180
    },
    "id": "hgkEPsL6TQId",
    "outputId": "dd4cf87f-652c-44fc-b54c-02eb62d82df7"
   },
   "outputs": [
    {
     "data": {
      "text/html": [
       "\n",
       "  <div id=\"df-dcfa5449-f978-4418-b5cc-39e5b2028882\">\n",
       "    <div class=\"colab-df-container\">\n",
       "      <div>\n",
       "<style scoped>\n",
       "    .dataframe tbody tr th:only-of-type {\n",
       "        vertical-align: middle;\n",
       "    }\n",
       "\n",
       "    .dataframe tbody tr th {\n",
       "        vertical-align: top;\n",
       "    }\n",
       "\n",
       "    .dataframe thead th {\n",
       "        text-align: right;\n",
       "    }\n",
       "</style>\n",
       "<table border=\"1\" class=\"dataframe\">\n",
       "  <thead>\n",
       "    <tr style=\"text-align: right;\">\n",
       "      <th></th>\n",
       "      <th>ids</th>\n",
       "      <th>Agricultural_Economics</th>\n",
       "      <th>Agriculture_Biotechnology</th>\n",
       "      <th>Environmental_Sciences</th>\n",
       "      <th>Food_Technology</th>\n",
       "      <th>Horticulture</th>\n",
       "      <th>Livestock_production</th>\n",
       "      <th>Natural_Resources</th>\n",
       "      <th>Plant_Protection</th>\n",
       "    </tr>\n",
       "    <tr>\n",
       "      <th>Crop_production</th>\n",
       "      <th></th>\n",
       "      <th></th>\n",
       "      <th></th>\n",
       "      <th></th>\n",
       "      <th></th>\n",
       "      <th></th>\n",
       "      <th></th>\n",
       "      <th></th>\n",
       "      <th></th>\n",
       "    </tr>\n",
       "  </thead>\n",
       "  <tbody>\n",
       "    <tr>\n",
       "      <th>1</th>\n",
       "      <td>1105689</td>\n",
       "      <td>0</td>\n",
       "      <td>0</td>\n",
       "      <td>47</td>\n",
       "      <td>16</td>\n",
       "      <td>27</td>\n",
       "      <td>0</td>\n",
       "      <td>986</td>\n",
       "      <td>221</td>\n",
       "    </tr>\n",
       "  </tbody>\n",
       "</table>\n",
       "</div>\n",
       "      <button class=\"colab-df-convert\" onclick=\"convertToInteractive('df-dcfa5449-f978-4418-b5cc-39e5b2028882')\"\n",
       "              title=\"Convert this dataframe to an interactive table.\"\n",
       "              style=\"display:none;\">\n",
       "        \n",
       "  <svg xmlns=\"http://www.w3.org/2000/svg\" height=\"24px\"viewBox=\"0 0 24 24\"\n",
       "       width=\"24px\">\n",
       "    <path d=\"M0 0h24v24H0V0z\" fill=\"none\"/>\n",
       "    <path d=\"M18.56 5.44l.94 2.06.94-2.06 2.06-.94-2.06-.94-.94-2.06-.94 2.06-2.06.94zm-11 1L8.5 8.5l.94-2.06 2.06-.94-2.06-.94L8.5 2.5l-.94 2.06-2.06.94zm10 10l.94 2.06.94-2.06 2.06-.94-2.06-.94-.94-2.06-.94 2.06-2.06.94z\"/><path d=\"M17.41 7.96l-1.37-1.37c-.4-.4-.92-.59-1.43-.59-.52 0-1.04.2-1.43.59L10.3 9.45l-7.72 7.72c-.78.78-.78 2.05 0 2.83L4 21.41c.39.39.9.59 1.41.59.51 0 1.02-.2 1.41-.59l7.78-7.78 2.81-2.81c.8-.78.8-2.07 0-2.86zM5.41 20L4 18.59l7.72-7.72 1.47 1.35L5.41 20z\"/>\n",
       "  </svg>\n",
       "      </button>\n",
       "      \n",
       "  <style>\n",
       "    .colab-df-container {\n",
       "      display:flex;\n",
       "      flex-wrap:wrap;\n",
       "      gap: 12px;\n",
       "    }\n",
       "\n",
       "    .colab-df-convert {\n",
       "      background-color: #E8F0FE;\n",
       "      border: none;\n",
       "      border-radius: 50%;\n",
       "      cursor: pointer;\n",
       "      display: none;\n",
       "      fill: #1967D2;\n",
       "      height: 32px;\n",
       "      padding: 0 0 0 0;\n",
       "      width: 32px;\n",
       "    }\n",
       "\n",
       "    .colab-df-convert:hover {\n",
       "      background-color: #E2EBFA;\n",
       "      box-shadow: 0px 1px 2px rgba(60, 64, 67, 0.3), 0px 1px 3px 1px rgba(60, 64, 67, 0.15);\n",
       "      fill: #174EA6;\n",
       "    }\n",
       "\n",
       "    [theme=dark] .colab-df-convert {\n",
       "      background-color: #3B4455;\n",
       "      fill: #D2E3FC;\n",
       "    }\n",
       "\n",
       "    [theme=dark] .colab-df-convert:hover {\n",
       "      background-color: #434B5C;\n",
       "      box-shadow: 0px 1px 3px 1px rgba(0, 0, 0, 0.15);\n",
       "      filter: drop-shadow(0px 1px 2px rgba(0, 0, 0, 0.3));\n",
       "      fill: #FFFFFF;\n",
       "    }\n",
       "  </style>\n",
       "\n",
       "      <script>\n",
       "        const buttonEl =\n",
       "          document.querySelector('#df-dcfa5449-f978-4418-b5cc-39e5b2028882 button.colab-df-convert');\n",
       "        buttonEl.style.display =\n",
       "          google.colab.kernel.accessAllowed ? 'block' : 'none';\n",
       "\n",
       "        async function convertToInteractive(key) {\n",
       "          const element = document.querySelector('#df-dcfa5449-f978-4418-b5cc-39e5b2028882');\n",
       "          const dataTable =\n",
       "            await google.colab.kernel.invokeFunction('convertToInteractive',\n",
       "                                                     [key], {});\n",
       "          if (!dataTable) return;\n",
       "\n",
       "          const docLinkHtml = 'Like what you see? Visit the ' +\n",
       "            '<a target=\"_blank\" href=https://colab.research.google.com/notebooks/data_table.ipynb>data table notebook</a>'\n",
       "            + ' to learn more about interactive tables.';\n",
       "          element.innerHTML = '';\n",
       "          dataTable['output_type'] = 'display_data';\n",
       "          await google.colab.output.renderOutput(dataTable, element);\n",
       "          const docLink = document.createElement('div');\n",
       "          docLink.innerHTML = docLinkHtml;\n",
       "          element.appendChild(docLink);\n",
       "        }\n",
       "      </script>\n",
       "    </div>\n",
       "  </div>\n",
       "  "
      ],
      "text/plain": [
       "                     ids  Agricultural_Economics  Agriculture_Biotechnology  \\\n",
       "Crop_production                                                               \n",
       "1                1105689                       0                          0   \n",
       "\n",
       "                 Environmental_Sciences  Food_Technology  Horticulture  \\\n",
       "Crop_production                                                          \n",
       "1                                    47               16            27   \n",
       "\n",
       "                 Livestock_production  Natural_Resources  Plant_Protection  \n",
       "Crop_production                                                             \n",
       "1                                   0                986               221  "
      ]
     },
     "execution_count": 53,
     "metadata": {},
     "output_type": "execute_result"
    }
   ],
   "source": [
    "df9 = splited_train[splited_train['Crop_production'] == 1]\n",
    "df9.groupby(['Crop_production']).sum()"
   ]
  },
  {
   "cell_type": "code",
   "execution_count": null,
   "metadata": {
    "id": "Yd_RIicbTQFA"
   },
   "outputs": [],
   "source": [
    "df9.info()"
   ]
  },
  {
   "cell_type": "code",
   "execution_count": null,
   "metadata": {
    "colab": {
     "base_uri": "https://localhost:8080/"
    },
    "executionInfo": {
     "elapsed": 11,
     "status": "ok",
     "timestamp": 1662846171620,
     "user": {
      "displayName": "Razan HL",
      "userId": "00189607576210306079"
     },
     "user_tz": -180
    },
    "id": "76-WDtnw9ewt",
    "outputId": "1c8fea4b-59d6-49cc-d5f3-62bd9b4aeca1"
   },
   "outputs": [
    {
     "name": "stdout",
     "output_type": "stream",
     "text": [
      "<class 'pandas.core.frame.DataFrame'>\n",
      "Int64Index: 212 entries, 9875 to 9437\n",
      "Data columns (total 11 columns):\n",
      " #   Column                     Non-Null Count  Dtype \n",
      "---  ------                     --------------  ----- \n",
      " 0   ids                        212 non-null    int64 \n",
      " 1   sp_text                    212 non-null    object\n",
      " 2   Agricultural_Economics     212 non-null    int64 \n",
      " 3   Agriculture_Biotechnology  212 non-null    int64 \n",
      " 4   Crop_production            212 non-null    int64 \n",
      " 5   Environmental_Sciences     212 non-null    int64 \n",
      " 6   Food_Technology            212 non-null    int64 \n",
      " 7   Horticulture               212 non-null    int64 \n",
      " 8   Livestock_production       212 non-null    int64 \n",
      " 9   Natural_Resources          212 non-null    int64 \n",
      " 10  Plant_Protection           212 non-null    int64 \n",
      "dtypes: int64(10), object(1)\n",
      "memory usage: 19.9+ KB\n"
     ]
    }
   ],
   "source": [
    "df9 = df9[df9['Environmental_Sciences'] == 0]\n",
    "df9 = df9[df9['Food_Technology'] == 0]\n",
    "df9 = df9[df9['Horticulture'] == 0]\n",
    "df9 = df9[df9['Natural_Resources'] == 0] \n",
    "df9 = df9[df9['Plant_Protection'] == 0]\n",
    "\n",
    "df9 = df9.sample(212,random_state=45)\n",
    "df9.info()"
   ]
  },
  {
   "cell_type": "code",
   "execution_count": null,
   "metadata": {
    "colab": {
     "base_uri": "https://localhost:8080/"
    },
    "executionInfo": {
     "elapsed": 569,
     "status": "ok",
     "timestamp": 1662846186605,
     "user": {
      "displayName": "Razan HL",
      "userId": "00189607576210306079"
     },
     "user_tz": -180
    },
    "id": "x2ytyEPX9erH",
    "outputId": "b070a905-b49d-41a2-8a9b-e8b85c56715a"
   },
   "outputs": [
    {
     "name": "stdout",
     "output_type": "stream",
     "text": [
      "<class 'pandas.core.frame.DataFrame'>\n",
      "RangeIndex: 5498 entries, 0 to 5497\n",
      "Data columns (total 11 columns):\n",
      " #   Column                     Non-Null Count  Dtype \n",
      "---  ------                     --------------  ----- \n",
      " 0   ids                        5498 non-null   int64 \n",
      " 1   sp_text                    5498 non-null   object\n",
      " 2   Agricultural_Economics     5498 non-null   int64 \n",
      " 3   Agriculture_Biotechnology  5498 non-null   int64 \n",
      " 4   Crop_production            5498 non-null   int64 \n",
      " 5   Environmental_Sciences     5498 non-null   int64 \n",
      " 6   Food_Technology            5498 non-null   int64 \n",
      " 7   Horticulture               5498 non-null   int64 \n",
      " 8   Livestock_production       5498 non-null   int64 \n",
      " 9   Natural_Resources          5498 non-null   int64 \n",
      " 10  Plant_Protection           5498 non-null   int64 \n",
      "dtypes: int64(10), object(1)\n",
      "memory usage: 472.6+ KB\n"
     ]
    }
   ],
   "source": [
    "train_balanced = pd.concat([train_balanced,df9], ignore_index=True)\n",
    "train_balanced.info()"
   ]
  },
  {
   "cell_type": "code",
   "execution_count": null,
   "metadata": {
    "colab": {
     "base_uri": "https://localhost:8080/"
    },
    "executionInfo": {
     "elapsed": 934,
     "status": "ok",
     "timestamp": 1662846194607,
     "user": {
      "displayName": "Razan HL",
      "userId": "00189607576210306079"
     },
     "user_tz": -180
    },
    "id": "1iu4Sb3Ee9sM",
    "outputId": "58c61f23-1df5-456c-f7ec-3b4a61b4d9ad"
   },
   "outputs": [
    {
     "name": "stdout",
     "output_type": "stream",
     "text": [
      "<class 'pandas.core.frame.DataFrame'>\n",
      "Int64Index: 7708 entries, 14 to 13205\n",
      "Data columns (total 11 columns):\n",
      " #   Column                     Non-Null Count  Dtype \n",
      "---  ------                     --------------  ----- \n",
      " 0   ids                        7708 non-null   int64 \n",
      " 1   sp_text                    7708 non-null   object\n",
      " 2   Agricultural_Economics     7708 non-null   int64 \n",
      " 3   Agriculture_Biotechnology  7708 non-null   int64 \n",
      " 4   Crop_production            7708 non-null   int64 \n",
      " 5   Environmental_Sciences     7708 non-null   int64 \n",
      " 6   Food_Technology            7708 non-null   int64 \n",
      " 7   Horticulture               7708 non-null   int64 \n",
      " 8   Livestock_production       7708 non-null   int64 \n",
      " 9   Natural_Resources          7708 non-null   int64 \n",
      " 10  Plant_Protection           7708 non-null   int64 \n",
      "dtypes: int64(10), object(1)\n",
      "memory usage: 722.6+ KB\n"
     ]
    }
   ],
   "source": [
    "splited_train.drop(df9.index, inplace = True)\n",
    "splited_train.info()"
   ]
  },
  {
   "cell_type": "code",
   "execution_count": null,
   "metadata": {
    "colab": {
     "base_uri": "https://localhost:8080/"
    },
    "executionInfo": {
     "elapsed": 9,
     "status": "ok",
     "timestamp": 1662846206303,
     "user": {
      "displayName": "Razan HL",
      "userId": "00189607576210306079"
     },
     "user_tz": -180
    },
    "id": "JzRoLN6o-_xS",
    "outputId": "caa93925-54df-4798-f8d0-014bb3432b01"
   },
   "outputs": [
    {
     "name": "stdout",
     "output_type": "stream",
     "text": [
      "0    4761\n",
      "1     737\n",
      "Name: Agricultural_Economics, dtype: int64 \n",
      "---\n",
      "0    4761\n",
      "1     737\n",
      "Name: Agriculture_Biotechnology, dtype: int64 \n",
      "---\n",
      "0    4761\n",
      "1     737\n",
      "Name: Crop_production, dtype: int64 \n",
      "---\n",
      "0    4761\n",
      "1     737\n",
      "Name: Environmental_Sciences, dtype: int64 \n",
      "---\n",
      "0    4761\n",
      "1     737\n",
      "Name: Food_Technology, dtype: int64 \n",
      "---\n",
      "0    4761\n",
      "1     737\n",
      "Name: Horticulture, dtype: int64 \n",
      "---\n",
      "0    4761\n",
      "1     737\n",
      "Name: Livestock_production, dtype: int64 \n",
      "---\n",
      "0    4761\n",
      "1     737\n",
      "Name: Natural_Resources, dtype: int64 \n",
      "---\n",
      "0    4761\n",
      "1     737\n",
      "Name: Plant_Protection, dtype: int64 \n",
      "---\n"
     ]
    }
   ],
   "source": [
    "# Balanced train dataset\n",
    "print(train_balanced.Agricultural_Economics.value_counts(), '\\n---')\n",
    "print(train_balanced.Agriculture_Biotechnology.value_counts(), '\\n---')\n",
    "print(train_balanced.Crop_production.value_counts(), '\\n---')\n",
    "print(train_balanced.Environmental_Sciences.value_counts(), '\\n---')\n",
    "print(train_balanced.Food_Technology.value_counts(), '\\n---')\n",
    "print(train_balanced.Horticulture.value_counts(), '\\n---')\n",
    "print(train_balanced.Livestock_production.value_counts(), '\\n---')\n",
    "print(train_balanced.Natural_Resources.value_counts(), '\\n---')\n",
    "print(train_balanced.Plant_Protection.value_counts(), '\\n---')"
   ]
  },
  {
   "cell_type": "code",
   "execution_count": null,
   "metadata": {
    "id": "1CPeOpyk_dKI"
   },
   "outputs": [],
   "source": [
    "train_balanced.to_csv('/content/drive/MyDrive/balanced_train.csv', header= True)"
   ]
  },
  {
   "cell_type": "code",
   "execution_count": null,
   "metadata": {
    "colab": {
     "base_uri": "https://localhost:8080/"
    },
    "executionInfo": {
     "elapsed": 346,
     "status": "ok",
     "timestamp": 1662846233150,
     "user": {
      "displayName": "Razan HL",
      "userId": "00189607576210306079"
     },
     "user_tz": -180
    },
    "id": "FQJUwTG9_-qD",
    "outputId": "0517743e-3706-4bbc-b948-fa3e9dca26b8"
   },
   "outputs": [
    {
     "name": "stdout",
     "output_type": "stream",
     "text": [
      "<class 'pandas.core.frame.DataFrame'>\n",
      "RangeIndex: 5498 entries, 0 to 5497\n",
      "Data columns (total 11 columns):\n",
      " #   Column                     Non-Null Count  Dtype \n",
      "---  ------                     --------------  ----- \n",
      " 0   ids                        5498 non-null   int64 \n",
      " 1   sp_text                    5498 non-null   object\n",
      " 2   Agricultural_Economics     5498 non-null   int64 \n",
      " 3   Agriculture_Biotechnology  5498 non-null   int64 \n",
      " 4   Crop_production            5498 non-null   int64 \n",
      " 5   Environmental_Sciences     5498 non-null   int64 \n",
      " 6   Food_Technology            5498 non-null   int64 \n",
      " 7   Horticulture               5498 non-null   int64 \n",
      " 8   Livestock_production       5498 non-null   int64 \n",
      " 9   Natural_Resources          5498 non-null   int64 \n",
      " 10  Plant_Protection           5498 non-null   int64 \n",
      "dtypes: int64(10), object(1)\n",
      "memory usage: 472.6+ KB\n"
     ]
    }
   ],
   "source": [
    "train_balanced.info()"
   ]
  },
  {
   "cell_type": "code",
   "execution_count": null,
   "metadata": {
    "colab": {
     "base_uri": "https://localhost:8080/"
    },
    "executionInfo": {
     "elapsed": 651,
     "status": "ok",
     "timestamp": 1662840363234,
     "user": {
      "displayName": "Razan HL",
      "userId": "00189607576210306079"
     },
     "user_tz": -180
    },
    "id": "hYZj6JToM1_m",
    "outputId": "c672d75f-0ba6-4fbb-f615-0eafde7f40c6"
   },
   "outputs": [
    {
     "name": "stdout",
     "output_type": "stream",
     "text": [
      "<class 'pandas.core.frame.DataFrame'>\n",
      "Int64Index: 200 entries, 2 to 996\n",
      "Data columns (total 10 columns):\n",
      " #   Column                     Non-Null Count  Dtype \n",
      "---  ------                     --------------  ----- \n",
      " 0   Agricultural_Economics     200 non-null    int64 \n",
      " 1   Agriculture_Biotechnology  200 non-null    int64 \n",
      " 2   Crop_production            200 non-null    int64 \n",
      " 3   Environmental_Sciences     200 non-null    int64 \n",
      " 4   Food_Technology            200 non-null    int64 \n",
      " 5   Horticulture               200 non-null    int64 \n",
      " 6   Livestock_production       200 non-null    int64 \n",
      " 7   Natural_Resources          200 non-null    int64 \n",
      " 8   Plant_Protection           200 non-null    int64 \n",
      " 9   split_txt                  200 non-null    object\n",
      "dtypes: int64(9), object(1)\n",
      "memory usage: 17.2+ KB\n"
     ]
    }
   ],
   "source": [
    "val_dataset.info()"
   ]
  },
  {
   "cell_type": "code",
   "execution_count": null,
   "metadata": {
    "colab": {
     "base_uri": "https://localhost:8080/"
    },
    "executionInfo": {
     "elapsed": 625,
     "status": "ok",
     "timestamp": 1662840735938,
     "user": {
      "displayName": "Razan HL",
      "userId": "00189607576210306079"
     },
     "user_tz": -180
    },
    "id": "YzfPbpwGBmpv",
    "outputId": "19682d6c-7239-4717-de18-27eff3ebc622"
   },
   "outputs": [
    {
     "data": {
      "text/plain": [
       "(3516, 3516)"
      ]
     },
     "execution_count": 121,
     "metadata": {},
     "output_type": "execute_result"
    }
   ],
   "source": [
    "val_l = []\n",
    "label1, label2, label3, label4, label5, label6, label7, label8, label9 = [], [],[],[],[],[],[],[],[]\n",
    "index_l =[]\n",
    "for idx,row in val_dataset.iterrows():\n",
    "  for l in row['split_txt']:\n",
    "    val_l.append(l)\n",
    "    label1.append(row['Agricultural_Economics'])\n",
    "    label2.append(row['Agriculture_Biotechnology'])\n",
    "    label3.append(row['Crop_production'])\n",
    "    label4.append(row['Environmental_Sciences'])\n",
    "    label5.append(row['Food_Technology'])\n",
    "    label6.append(row['Horticulture'])\n",
    "    label7.append(row['Livestock_production'])\n",
    "    label8.append(row['Natural_Resources'])\n",
    "    label9.append(row['Plant_Protection'])\n",
    "    index_l.append(idx)\n",
    "len(val_l), len(index_l)"
   ]
  },
  {
   "cell_type": "code",
   "execution_count": null,
   "metadata": {
    "colab": {
     "base_uri": "https://localhost:8080/",
     "height": 687
    },
    "executionInfo": {
     "elapsed": 990,
     "status": "ok",
     "timestamp": 1662843532504,
     "user": {
      "displayName": "Razan HL",
      "userId": "00189607576210306079"
     },
     "user_tz": -180
    },
    "id": "r3DIL-9aBmqH",
    "outputId": "b492cd36-e545-4d50-d8f4-e86827dacfd8",
    "scrolled": true
   },
   "outputs": [],
   "source": [
    "splited_val = pd.DataFrame({\"ids\": index_l, \"sp_text\": val_l, \n",
    "                              \"Agricultural_Economics\": label1, \n",
    "                              \"Agriculture_Biotechnology\": label2,\n",
    "                              \"Crop_production\": label3,\n",
    "                              \"Environmental_Sciences\": label4,\n",
    "                              \"Food_Technology\": label5,\n",
    "                              \"Horticulture\": label6,\n",
    "                              \"Livestock_production\": label7,\n",
    "                              \"Natural_Resources\": label8,\n",
    "                              \"Plant_Protection\": label9})\n",
    "splited_val.head()"
   ]
  },
  {
   "cell_type": "code",
   "execution_count": null,
   "metadata": {
    "colab": {
     "base_uri": "https://localhost:8080/"
    },
    "executionInfo": {
     "elapsed": 372,
     "status": "ok",
     "timestamp": 1662843537305,
     "user": {
      "displayName": "Razan HL",
      "userId": "00189607576210306079"
     },
     "user_tz": -180
    },
    "id": "kqHwRZcnBmqI",
    "outputId": "ed08c7c6-8ba0-4474-d4bd-5a4c10d7981a"
   },
   "outputs": [
    {
     "name": "stdout",
     "output_type": "stream",
     "text": [
      "<class 'pandas.core.frame.DataFrame'>\n",
      "RangeIndex: 3516 entries, 0 to 3515\n",
      "Data columns (total 11 columns):\n",
      " #   Column                     Non-Null Count  Dtype \n",
      "---  ------                     --------------  ----- \n",
      " 0   ids                        3516 non-null   int64 \n",
      " 1   sp_text                    3516 non-null   object\n",
      " 2   Agricultural_Economics     3516 non-null   int64 \n",
      " 3   Agriculture_Biotechnology  3516 non-null   int64 \n",
      " 4   Crop_production            3516 non-null   int64 \n",
      " 5   Environmental_Sciences     3516 non-null   int64 \n",
      " 6   Food_Technology            3516 non-null   int64 \n",
      " 7   Horticulture               3516 non-null   int64 \n",
      " 8   Livestock_production       3516 non-null   int64 \n",
      " 9   Natural_Resources          3516 non-null   int64 \n",
      " 10  Plant_Protection           3516 non-null   int64 \n",
      "dtypes: int64(10), object(1)\n",
      "memory usage: 302.3+ KB\n"
     ]
    }
   ],
   "source": [
    "splited_val.info()"
   ]
  },
  {
   "cell_type": "code",
   "execution_count": null,
   "metadata": {
    "colab": {
     "base_uri": "https://localhost:8080/"
    },
    "executionInfo": {
     "elapsed": 755,
     "status": "ok",
     "timestamp": 1662843542855,
     "user": {
      "displayName": "Razan HL",
      "userId": "00189607576210306079"
     },
     "user_tz": -180
    },
    "id": "vIiC3m8IBmqI",
    "outputId": "e8e3740b-31be-486f-b363-12506c8b094a"
   },
   "outputs": [
    {
     "name": "stdout",
     "output_type": "stream",
     "text": [
      "654\n",
      "158\n",
      "784\n",
      "543\n",
      "277\n",
      "619\n",
      "282\n",
      "728\n",
      "481\n"
     ]
    }
   ],
   "source": [
    "print(splited_val.Agricultural_Economics.value_counts()[1])\n",
    "print(splited_val.Agriculture_Biotechnology.value_counts()[1])\n",
    "print(splited_val.Crop_production.value_counts()[1])\n",
    "print(splited_val.Environmental_Sciences.value_counts()[1])\n",
    "print(splited_val.Food_Technology.value_counts()[1])\n",
    "print(splited_val.Horticulture.value_counts()[1])\n",
    "print(splited_val.Livestock_production.value_counts()[1])\n",
    "print(splited_val.Natural_Resources.value_counts()[1])\n",
    "print(splited_val.Plant_Protection.value_counts()[1])\n",
    "# splited_val.groupby(['Agricultural_Economics']).sum().describe()"
   ]
  },
  {
   "cell_type": "code",
   "execution_count": null,
   "metadata": {
    "colab": {
     "base_uri": "https://localhost:8080/",
     "height": 176
    },
    "executionInfo": {
     "elapsed": 519,
     "status": "ok",
     "timestamp": 1662843548462,
     "user": {
      "displayName": "Razan HL",
      "userId": "00189607576210306079"
     },
     "user_tz": -180
    },
    "id": "MLwmnNUKCXQC",
    "outputId": "2bffd009-fa7f-4af9-a5bd-9c0989dcde43"
   },
   "outputs": [
    {
     "data": {
      "text/html": [
       "\n",
       "  <div id=\"df-49cb6d3f-999b-4466-bc75-ec03b81ec636\">\n",
       "    <div class=\"colab-df-container\">\n",
       "      <div>\n",
       "<style scoped>\n",
       "    .dataframe tbody tr th:only-of-type {\n",
       "        vertical-align: middle;\n",
       "    }\n",
       "\n",
       "    .dataframe tbody tr th {\n",
       "        vertical-align: top;\n",
       "    }\n",
       "\n",
       "    .dataframe thead th {\n",
       "        text-align: right;\n",
       "    }\n",
       "</style>\n",
       "<table border=\"1\" class=\"dataframe\">\n",
       "  <thead>\n",
       "    <tr style=\"text-align: right;\">\n",
       "      <th></th>\n",
       "      <th>ids</th>\n",
       "      <th>Agricultural_Economics</th>\n",
       "      <th>Crop_production</th>\n",
       "      <th>Environmental_Sciences</th>\n",
       "      <th>Food_Technology</th>\n",
       "      <th>Horticulture</th>\n",
       "      <th>Livestock_production</th>\n",
       "      <th>Natural_Resources</th>\n",
       "      <th>Plant_Protection</th>\n",
       "    </tr>\n",
       "    <tr>\n",
       "      <th>Agriculture_Biotechnology</th>\n",
       "      <th></th>\n",
       "      <th></th>\n",
       "      <th></th>\n",
       "      <th></th>\n",
       "      <th></th>\n",
       "      <th></th>\n",
       "      <th></th>\n",
       "      <th></th>\n",
       "      <th></th>\n",
       "    </tr>\n",
       "  </thead>\n",
       "  <tbody>\n",
       "    <tr>\n",
       "      <th>1</th>\n",
       "      <td>54595</td>\n",
       "      <td>0</td>\n",
       "      <td>0</td>\n",
       "      <td>17</td>\n",
       "      <td>16</td>\n",
       "      <td>32</td>\n",
       "      <td>10</td>\n",
       "      <td>0</td>\n",
       "      <td>39</td>\n",
       "    </tr>\n",
       "  </tbody>\n",
       "</table>\n",
       "</div>\n",
       "      <button class=\"colab-df-convert\" onclick=\"convertToInteractive('df-49cb6d3f-999b-4466-bc75-ec03b81ec636')\"\n",
       "              title=\"Convert this dataframe to an interactive table.\"\n",
       "              style=\"display:none;\">\n",
       "        \n",
       "  <svg xmlns=\"http://www.w3.org/2000/svg\" height=\"24px\"viewBox=\"0 0 24 24\"\n",
       "       width=\"24px\">\n",
       "    <path d=\"M0 0h24v24H0V0z\" fill=\"none\"/>\n",
       "    <path d=\"M18.56 5.44l.94 2.06.94-2.06 2.06-.94-2.06-.94-.94-2.06-.94 2.06-2.06.94zm-11 1L8.5 8.5l.94-2.06 2.06-.94-2.06-.94L8.5 2.5l-.94 2.06-2.06.94zm10 10l.94 2.06.94-2.06 2.06-.94-2.06-.94-.94-2.06-.94 2.06-2.06.94z\"/><path d=\"M17.41 7.96l-1.37-1.37c-.4-.4-.92-.59-1.43-.59-.52 0-1.04.2-1.43.59L10.3 9.45l-7.72 7.72c-.78.78-.78 2.05 0 2.83L4 21.41c.39.39.9.59 1.41.59.51 0 1.02-.2 1.41-.59l7.78-7.78 2.81-2.81c.8-.78.8-2.07 0-2.86zM5.41 20L4 18.59l7.72-7.72 1.47 1.35L5.41 20z\"/>\n",
       "  </svg>\n",
       "      </button>\n",
       "      \n",
       "  <style>\n",
       "    .colab-df-container {\n",
       "      display:flex;\n",
       "      flex-wrap:wrap;\n",
       "      gap: 12px;\n",
       "    }\n",
       "\n",
       "    .colab-df-convert {\n",
       "      background-color: #E8F0FE;\n",
       "      border: none;\n",
       "      border-radius: 50%;\n",
       "      cursor: pointer;\n",
       "      display: none;\n",
       "      fill: #1967D2;\n",
       "      height: 32px;\n",
       "      padding: 0 0 0 0;\n",
       "      width: 32px;\n",
       "    }\n",
       "\n",
       "    .colab-df-convert:hover {\n",
       "      background-color: #E2EBFA;\n",
       "      box-shadow: 0px 1px 2px rgba(60, 64, 67, 0.3), 0px 1px 3px 1px rgba(60, 64, 67, 0.15);\n",
       "      fill: #174EA6;\n",
       "    }\n",
       "\n",
       "    [theme=dark] .colab-df-convert {\n",
       "      background-color: #3B4455;\n",
       "      fill: #D2E3FC;\n",
       "    }\n",
       "\n",
       "    [theme=dark] .colab-df-convert:hover {\n",
       "      background-color: #434B5C;\n",
       "      box-shadow: 0px 1px 3px 1px rgba(0, 0, 0, 0.15);\n",
       "      filter: drop-shadow(0px 1px 2px rgba(0, 0, 0, 0.3));\n",
       "      fill: #FFFFFF;\n",
       "    }\n",
       "  </style>\n",
       "\n",
       "      <script>\n",
       "        const buttonEl =\n",
       "          document.querySelector('#df-49cb6d3f-999b-4466-bc75-ec03b81ec636 button.colab-df-convert');\n",
       "        buttonEl.style.display =\n",
       "          google.colab.kernel.accessAllowed ? 'block' : 'none';\n",
       "\n",
       "        async function convertToInteractive(key) {\n",
       "          const element = document.querySelector('#df-49cb6d3f-999b-4466-bc75-ec03b81ec636');\n",
       "          const dataTable =\n",
       "            await google.colab.kernel.invokeFunction('convertToInteractive',\n",
       "                                                     [key], {});\n",
       "          if (!dataTable) return;\n",
       "\n",
       "          const docLinkHtml = 'Like what you see? Visit the ' +\n",
       "            '<a target=\"_blank\" href=https://colab.research.google.com/notebooks/data_table.ipynb>data table notebook</a>'\n",
       "            + ' to learn more about interactive tables.';\n",
       "          element.innerHTML = '';\n",
       "          dataTable['output_type'] = 'display_data';\n",
       "          await google.colab.output.renderOutput(dataTable, element);\n",
       "          const docLink = document.createElement('div');\n",
       "          docLink.innerHTML = docLinkHtml;\n",
       "          element.appendChild(docLink);\n",
       "        }\n",
       "      </script>\n",
       "    </div>\n",
       "  </div>\n",
       "  "
      ],
      "text/plain": [
       "                             ids  Agricultural_Economics  Crop_production  \\\n",
       "Agriculture_Biotechnology                                                   \n",
       "1                          54595                       0                0   \n",
       "\n",
       "                           Environmental_Sciences  Food_Technology  \\\n",
       "Agriculture_Biotechnology                                            \n",
       "1                                              17               16   \n",
       "\n",
       "                           Horticulture  Livestock_production  \\\n",
       "Agriculture_Biotechnology                                       \n",
       "1                                    32                    10   \n",
       "\n",
       "                           Natural_Resources  Plant_Protection  \n",
       "Agriculture_Biotechnology                                       \n",
       "1                                          0                39  "
      ]
     },
     "execution_count": 194,
     "metadata": {},
     "output_type": "execute_result"
    }
   ],
   "source": [
    "df1 = splited_val[splited_val['Agriculture_Biotechnology'] == 1]\n",
    "df1.groupby(['Agriculture_Biotechnology']).sum()"
   ]
  },
  {
   "cell_type": "code",
   "execution_count": null,
   "metadata": {
    "id": "vYK5ZEjZCXG5"
   },
   "outputs": [],
   "source": [
    "splited_val.drop(df1.index, inplace = True)"
   ]
  },
  {
   "cell_type": "code",
   "execution_count": null,
   "metadata": {
    "colab": {
     "base_uri": "https://localhost:8080/",
     "height": 176
    },
    "executionInfo": {
     "elapsed": 20,
     "status": "ok",
     "timestamp": 1662843558756,
     "user": {
      "displayName": "Razan HL",
      "userId": "00189607576210306079"
     },
     "user_tz": -180
    },
    "id": "xM4AmaWoCW_8",
    "outputId": "078ee996-84f5-4a00-ea7a-9068d47ebe94"
   },
   "outputs": [
    {
     "data": {
      "text/html": [
       "\n",
       "  <div id=\"df-aea805f6-1655-4e15-a0b2-0a8f3814d698\">\n",
       "    <div class=\"colab-df-container\">\n",
       "      <div>\n",
       "<style scoped>\n",
       "    .dataframe tbody tr th:only-of-type {\n",
       "        vertical-align: middle;\n",
       "    }\n",
       "\n",
       "    .dataframe tbody tr th {\n",
       "        vertical-align: top;\n",
       "    }\n",
       "\n",
       "    .dataframe thead th {\n",
       "        text-align: right;\n",
       "    }\n",
       "</style>\n",
       "<table border=\"1\" class=\"dataframe\">\n",
       "  <thead>\n",
       "    <tr style=\"text-align: right;\">\n",
       "      <th></th>\n",
       "      <th>ids</th>\n",
       "      <th>Agriculture_Biotechnology</th>\n",
       "      <th>Crop_production</th>\n",
       "      <th>Environmental_Sciences</th>\n",
       "      <th>Food_Technology</th>\n",
       "      <th>Horticulture</th>\n",
       "      <th>Livestock_production</th>\n",
       "      <th>Natural_Resources</th>\n",
       "      <th>Plant_Protection</th>\n",
       "    </tr>\n",
       "    <tr>\n",
       "      <th>Agricultural_Economics</th>\n",
       "      <th></th>\n",
       "      <th></th>\n",
       "      <th></th>\n",
       "      <th></th>\n",
       "      <th></th>\n",
       "      <th></th>\n",
       "      <th></th>\n",
       "      <th></th>\n",
       "      <th></th>\n",
       "    </tr>\n",
       "  </thead>\n",
       "  <tbody>\n",
       "    <tr>\n",
       "      <th>1</th>\n",
       "      <td>294387</td>\n",
       "      <td>0</td>\n",
       "      <td>0</td>\n",
       "      <td>24</td>\n",
       "      <td>0</td>\n",
       "      <td>0</td>\n",
       "      <td>0</td>\n",
       "      <td>0</td>\n",
       "      <td>0</td>\n",
       "    </tr>\n",
       "  </tbody>\n",
       "</table>\n",
       "</div>\n",
       "      <button class=\"colab-df-convert\" onclick=\"convertToInteractive('df-aea805f6-1655-4e15-a0b2-0a8f3814d698')\"\n",
       "              title=\"Convert this dataframe to an interactive table.\"\n",
       "              style=\"display:none;\">\n",
       "        \n",
       "  <svg xmlns=\"http://www.w3.org/2000/svg\" height=\"24px\"viewBox=\"0 0 24 24\"\n",
       "       width=\"24px\">\n",
       "    <path d=\"M0 0h24v24H0V0z\" fill=\"none\"/>\n",
       "    <path d=\"M18.56 5.44l.94 2.06.94-2.06 2.06-.94-2.06-.94-.94-2.06-.94 2.06-2.06.94zm-11 1L8.5 8.5l.94-2.06 2.06-.94-2.06-.94L8.5 2.5l-.94 2.06-2.06.94zm10 10l.94 2.06.94-2.06 2.06-.94-2.06-.94-.94-2.06-.94 2.06-2.06.94z\"/><path d=\"M17.41 7.96l-1.37-1.37c-.4-.4-.92-.59-1.43-.59-.52 0-1.04.2-1.43.59L10.3 9.45l-7.72 7.72c-.78.78-.78 2.05 0 2.83L4 21.41c.39.39.9.59 1.41.59.51 0 1.02-.2 1.41-.59l7.78-7.78 2.81-2.81c.8-.78.8-2.07 0-2.86zM5.41 20L4 18.59l7.72-7.72 1.47 1.35L5.41 20z\"/>\n",
       "  </svg>\n",
       "      </button>\n",
       "      \n",
       "  <style>\n",
       "    .colab-df-container {\n",
       "      display:flex;\n",
       "      flex-wrap:wrap;\n",
       "      gap: 12px;\n",
       "    }\n",
       "\n",
       "    .colab-df-convert {\n",
       "      background-color: #E8F0FE;\n",
       "      border: none;\n",
       "      border-radius: 50%;\n",
       "      cursor: pointer;\n",
       "      display: none;\n",
       "      fill: #1967D2;\n",
       "      height: 32px;\n",
       "      padding: 0 0 0 0;\n",
       "      width: 32px;\n",
       "    }\n",
       "\n",
       "    .colab-df-convert:hover {\n",
       "      background-color: #E2EBFA;\n",
       "      box-shadow: 0px 1px 2px rgba(60, 64, 67, 0.3), 0px 1px 3px 1px rgba(60, 64, 67, 0.15);\n",
       "      fill: #174EA6;\n",
       "    }\n",
       "\n",
       "    [theme=dark] .colab-df-convert {\n",
       "      background-color: #3B4455;\n",
       "      fill: #D2E3FC;\n",
       "    }\n",
       "\n",
       "    [theme=dark] .colab-df-convert:hover {\n",
       "      background-color: #434B5C;\n",
       "      box-shadow: 0px 1px 3px 1px rgba(0, 0, 0, 0.15);\n",
       "      filter: drop-shadow(0px 1px 2px rgba(0, 0, 0, 0.3));\n",
       "      fill: #FFFFFF;\n",
       "    }\n",
       "  </style>\n",
       "\n",
       "      <script>\n",
       "        const buttonEl =\n",
       "          document.querySelector('#df-aea805f6-1655-4e15-a0b2-0a8f3814d698 button.colab-df-convert');\n",
       "        buttonEl.style.display =\n",
       "          google.colab.kernel.accessAllowed ? 'block' : 'none';\n",
       "\n",
       "        async function convertToInteractive(key) {\n",
       "          const element = document.querySelector('#df-aea805f6-1655-4e15-a0b2-0a8f3814d698');\n",
       "          const dataTable =\n",
       "            await google.colab.kernel.invokeFunction('convertToInteractive',\n",
       "                                                     [key], {});\n",
       "          if (!dataTable) return;\n",
       "\n",
       "          const docLinkHtml = 'Like what you see? Visit the ' +\n",
       "            '<a target=\"_blank\" href=https://colab.research.google.com/notebooks/data_table.ipynb>data table notebook</a>'\n",
       "            + ' to learn more about interactive tables.';\n",
       "          element.innerHTML = '';\n",
       "          dataTable['output_type'] = 'display_data';\n",
       "          await google.colab.output.renderOutput(dataTable, element);\n",
       "          const docLink = document.createElement('div');\n",
       "          docLink.innerHTML = docLinkHtml;\n",
       "          element.appendChild(docLink);\n",
       "        }\n",
       "      </script>\n",
       "    </div>\n",
       "  </div>\n",
       "  "
      ],
      "text/plain": [
       "                           ids  Agriculture_Biotechnology  Crop_production  \\\n",
       "Agricultural_Economics                                                       \n",
       "1                       294387                          0                0   \n",
       "\n",
       "                        Environmental_Sciences  Food_Technology  Horticulture  \\\n",
       "Agricultural_Economics                                                          \n",
       "1                                           24                0             0   \n",
       "\n",
       "                        Livestock_production  Natural_Resources  \\\n",
       "Agricultural_Economics                                            \n",
       "1                                          0                  0   \n",
       "\n",
       "                        Plant_Protection  \n",
       "Agricultural_Economics                    \n",
       "1                                      0  "
      ]
     },
     "execution_count": 196,
     "metadata": {},
     "output_type": "execute_result"
    }
   ],
   "source": [
    "df2 = splited_val[splited_val['Agricultural_Economics'] == 1]\n",
    "df2.groupby(['Agricultural_Economics']).sum()"
   ]
  },
  {
   "cell_type": "code",
   "execution_count": null,
   "metadata": {
    "colab": {
     "base_uri": "https://localhost:8080/"
    },
    "executionInfo": {
     "elapsed": 394,
     "status": "ok",
     "timestamp": 1662843564262,
     "user": {
      "displayName": "Razan HL",
      "userId": "00189607576210306079"
     },
     "user_tz": -180
    },
    "id": "JPqEwUyBDqT6",
    "outputId": "fbec9c78-1b6f-44cb-8013-70a5f41873c2"
   },
   "outputs": [
    {
     "name": "stdout",
     "output_type": "stream",
     "text": [
      "<class 'pandas.core.frame.DataFrame'>\n",
      "Int64Index: 158 entries, 2849 to 2382\n",
      "Data columns (total 11 columns):\n",
      " #   Column                     Non-Null Count  Dtype \n",
      "---  ------                     --------------  ----- \n",
      " 0   ids                        158 non-null    int64 \n",
      " 1   sp_text                    158 non-null    object\n",
      " 2   Agricultural_Economics     158 non-null    int64 \n",
      " 3   Agriculture_Biotechnology  158 non-null    int64 \n",
      " 4   Crop_production            158 non-null    int64 \n",
      " 5   Environmental_Sciences     158 non-null    int64 \n",
      " 6   Food_Technology            158 non-null    int64 \n",
      " 7   Horticulture               158 non-null    int64 \n",
      " 8   Livestock_production       158 non-null    int64 \n",
      " 9   Natural_Resources          158 non-null    int64 \n",
      " 10  Plant_Protection           158 non-null    int64 \n",
      "dtypes: int64(10), object(1)\n",
      "memory usage: 14.8+ KB\n"
     ]
    }
   ],
   "source": [
    "df2 = df2[df2['Environmental_Sciences'] == 0]\n",
    "df2 = df2.sample(158,random_state=45)\n",
    "df2.info()"
   ]
  },
  {
   "cell_type": "code",
   "execution_count": null,
   "metadata": {
    "colab": {
     "base_uri": "https://localhost:8080/"
    },
    "executionInfo": {
     "elapsed": 542,
     "status": "ok",
     "timestamp": 1662843607042,
     "user": {
      "displayName": "Razan HL",
      "userId": "00189607576210306079"
     },
     "user_tz": -180
    },
    "id": "c28e0pbMDqOs",
    "outputId": "78473969-afdb-4a8f-9a67-48272e6cab94"
   },
   "outputs": [
    {
     "name": "stdout",
     "output_type": "stream",
     "text": [
      "<class 'pandas.core.frame.DataFrame'>\n",
      "RangeIndex: 316 entries, 0 to 315\n",
      "Data columns (total 11 columns):\n",
      " #   Column                     Non-Null Count  Dtype \n",
      "---  ------                     --------------  ----- \n",
      " 0   ids                        316 non-null    int64 \n",
      " 1   sp_text                    316 non-null    object\n",
      " 2   Agricultural_Economics     316 non-null    int64 \n",
      " 3   Agriculture_Biotechnology  316 non-null    int64 \n",
      " 4   Crop_production            316 non-null    int64 \n",
      " 5   Environmental_Sciences     316 non-null    int64 \n",
      " 6   Food_Technology            316 non-null    int64 \n",
      " 7   Horticulture               316 non-null    int64 \n",
      " 8   Livestock_production       316 non-null    int64 \n",
      " 9   Natural_Resources          316 non-null    int64 \n",
      " 10  Plant_Protection           316 non-null    int64 \n",
      "dtypes: int64(10), object(1)\n",
      "memory usage: 27.3+ KB\n"
     ]
    }
   ],
   "source": [
    "val_balanced = pd.concat([df1,df2], ignore_index=True)\n",
    "val_balanced.info()"
   ]
  },
  {
   "cell_type": "code",
   "execution_count": null,
   "metadata": {
    "id": "wDKQvw9FDqLU"
   },
   "outputs": [],
   "source": [
    "splited_val.drop(df2.index, inplace = True)"
   ]
  },
  {
   "cell_type": "code",
   "execution_count": null,
   "metadata": {
    "colab": {
     "base_uri": "https://localhost:8080/",
     "height": 176
    },
    "executionInfo": {
     "elapsed": 702,
     "status": "ok",
     "timestamp": 1662843620262,
     "user": {
      "displayName": "Razan HL",
      "userId": "00189607576210306079"
     },
     "user_tz": -180
    },
    "id": "7K7ECAzqEyPA",
    "outputId": "51f6177c-1acd-451e-87b2-dc5819499844"
   },
   "outputs": [
    {
     "data": {
      "text/html": [
       "\n",
       "  <div id=\"df-f90052af-129b-45f5-be68-c57c8f27d78b\">\n",
       "    <div class=\"colab-df-container\">\n",
       "      <div>\n",
       "<style scoped>\n",
       "    .dataframe tbody tr th:only-of-type {\n",
       "        vertical-align: middle;\n",
       "    }\n",
       "\n",
       "    .dataframe tbody tr th {\n",
       "        vertical-align: top;\n",
       "    }\n",
       "\n",
       "    .dataframe thead th {\n",
       "        text-align: right;\n",
       "    }\n",
       "</style>\n",
       "<table border=\"1\" class=\"dataframe\">\n",
       "  <thead>\n",
       "    <tr style=\"text-align: right;\">\n",
       "      <th></th>\n",
       "      <th>ids</th>\n",
       "      <th>Agricultural_Economics</th>\n",
       "      <th>Agriculture_Biotechnology</th>\n",
       "      <th>Crop_production</th>\n",
       "      <th>Environmental_Sciences</th>\n",
       "      <th>Horticulture</th>\n",
       "      <th>Livestock_production</th>\n",
       "      <th>Natural_Resources</th>\n",
       "      <th>Plant_Protection</th>\n",
       "    </tr>\n",
       "    <tr>\n",
       "      <th>Food_Technology</th>\n",
       "      <th></th>\n",
       "      <th></th>\n",
       "      <th></th>\n",
       "      <th></th>\n",
       "      <th></th>\n",
       "      <th></th>\n",
       "      <th></th>\n",
       "      <th></th>\n",
       "      <th></th>\n",
       "    </tr>\n",
       "  </thead>\n",
       "  <tbody>\n",
       "    <tr>\n",
       "      <th>1</th>\n",
       "      <td>165639</td>\n",
       "      <td>0</td>\n",
       "      <td>0</td>\n",
       "      <td>9</td>\n",
       "      <td>17</td>\n",
       "      <td>9</td>\n",
       "      <td>0</td>\n",
       "      <td>21</td>\n",
       "      <td>0</td>\n",
       "    </tr>\n",
       "  </tbody>\n",
       "</table>\n",
       "</div>\n",
       "      <button class=\"colab-df-convert\" onclick=\"convertToInteractive('df-f90052af-129b-45f5-be68-c57c8f27d78b')\"\n",
       "              title=\"Convert this dataframe to an interactive table.\"\n",
       "              style=\"display:none;\">\n",
       "        \n",
       "  <svg xmlns=\"http://www.w3.org/2000/svg\" height=\"24px\"viewBox=\"0 0 24 24\"\n",
       "       width=\"24px\">\n",
       "    <path d=\"M0 0h24v24H0V0z\" fill=\"none\"/>\n",
       "    <path d=\"M18.56 5.44l.94 2.06.94-2.06 2.06-.94-2.06-.94-.94-2.06-.94 2.06-2.06.94zm-11 1L8.5 8.5l.94-2.06 2.06-.94-2.06-.94L8.5 2.5l-.94 2.06-2.06.94zm10 10l.94 2.06.94-2.06 2.06-.94-2.06-.94-.94-2.06-.94 2.06-2.06.94z\"/><path d=\"M17.41 7.96l-1.37-1.37c-.4-.4-.92-.59-1.43-.59-.52 0-1.04.2-1.43.59L10.3 9.45l-7.72 7.72c-.78.78-.78 2.05 0 2.83L4 21.41c.39.39.9.59 1.41.59.51 0 1.02-.2 1.41-.59l7.78-7.78 2.81-2.81c.8-.78.8-2.07 0-2.86zM5.41 20L4 18.59l7.72-7.72 1.47 1.35L5.41 20z\"/>\n",
       "  </svg>\n",
       "      </button>\n",
       "      \n",
       "  <style>\n",
       "    .colab-df-container {\n",
       "      display:flex;\n",
       "      flex-wrap:wrap;\n",
       "      gap: 12px;\n",
       "    }\n",
       "\n",
       "    .colab-df-convert {\n",
       "      background-color: #E8F0FE;\n",
       "      border: none;\n",
       "      border-radius: 50%;\n",
       "      cursor: pointer;\n",
       "      display: none;\n",
       "      fill: #1967D2;\n",
       "      height: 32px;\n",
       "      padding: 0 0 0 0;\n",
       "      width: 32px;\n",
       "    }\n",
       "\n",
       "    .colab-df-convert:hover {\n",
       "      background-color: #E2EBFA;\n",
       "      box-shadow: 0px 1px 2px rgba(60, 64, 67, 0.3), 0px 1px 3px 1px rgba(60, 64, 67, 0.15);\n",
       "      fill: #174EA6;\n",
       "    }\n",
       "\n",
       "    [theme=dark] .colab-df-convert {\n",
       "      background-color: #3B4455;\n",
       "      fill: #D2E3FC;\n",
       "    }\n",
       "\n",
       "    [theme=dark] .colab-df-convert:hover {\n",
       "      background-color: #434B5C;\n",
       "      box-shadow: 0px 1px 3px 1px rgba(0, 0, 0, 0.15);\n",
       "      filter: drop-shadow(0px 1px 2px rgba(0, 0, 0, 0.3));\n",
       "      fill: #FFFFFF;\n",
       "    }\n",
       "  </style>\n",
       "\n",
       "      <script>\n",
       "        const buttonEl =\n",
       "          document.querySelector('#df-f90052af-129b-45f5-be68-c57c8f27d78b button.colab-df-convert');\n",
       "        buttonEl.style.display =\n",
       "          google.colab.kernel.accessAllowed ? 'block' : 'none';\n",
       "\n",
       "        async function convertToInteractive(key) {\n",
       "          const element = document.querySelector('#df-f90052af-129b-45f5-be68-c57c8f27d78b');\n",
       "          const dataTable =\n",
       "            await google.colab.kernel.invokeFunction('convertToInteractive',\n",
       "                                                     [key], {});\n",
       "          if (!dataTable) return;\n",
       "\n",
       "          const docLinkHtml = 'Like what you see? Visit the ' +\n",
       "            '<a target=\"_blank\" href=https://colab.research.google.com/notebooks/data_table.ipynb>data table notebook</a>'\n",
       "            + ' to learn more about interactive tables.';\n",
       "          element.innerHTML = '';\n",
       "          dataTable['output_type'] = 'display_data';\n",
       "          await google.colab.output.renderOutput(dataTable, element);\n",
       "          const docLink = document.createElement('div');\n",
       "          docLink.innerHTML = docLinkHtml;\n",
       "          element.appendChild(docLink);\n",
       "        }\n",
       "      </script>\n",
       "    </div>\n",
       "  </div>\n",
       "  "
      ],
      "text/plain": [
       "                    ids  Agricultural_Economics  Agriculture_Biotechnology  \\\n",
       "Food_Technology                                                              \n",
       "1                165639                       0                          0   \n",
       "\n",
       "                 Crop_production  Environmental_Sciences  Horticulture  \\\n",
       "Food_Technology                                                          \n",
       "1                              9                      17             9   \n",
       "\n",
       "                 Livestock_production  Natural_Resources  Plant_Protection  \n",
       "Food_Technology                                                             \n",
       "1                                   0                 21                 0  "
      ]
     },
     "execution_count": 203,
     "metadata": {},
     "output_type": "execute_result"
    }
   ],
   "source": [
    "df3 = splited_val[splited_val['Food_Technology'] == 1]\n",
    "df3.groupby(['Food_Technology']).sum()"
   ]
  },
  {
   "cell_type": "code",
   "execution_count": null,
   "metadata": {
    "colab": {
     "base_uri": "https://localhost:8080/"
    },
    "executionInfo": {
     "elapsed": 9,
     "status": "ok",
     "timestamp": 1662843623857,
     "user": {
      "displayName": "Razan HL",
      "userId": "00189607576210306079"
     },
     "user_tz": -180
    },
    "id": "ZSRUNNUiEyPB",
    "outputId": "ba5ee886-3aef-4d85-bd5b-7de60c6f2fec"
   },
   "outputs": [
    {
     "name": "stdout",
     "output_type": "stream",
     "text": [
      "<class 'pandas.core.frame.DataFrame'>\n",
      "Int64Index: 261 entries, 66 to 3494\n",
      "Data columns (total 11 columns):\n",
      " #   Column                     Non-Null Count  Dtype \n",
      "---  ------                     --------------  ----- \n",
      " 0   ids                        261 non-null    int64 \n",
      " 1   sp_text                    261 non-null    object\n",
      " 2   Agricultural_Economics     261 non-null    int64 \n",
      " 3   Agriculture_Biotechnology  261 non-null    int64 \n",
      " 4   Crop_production            261 non-null    int64 \n",
      " 5   Environmental_Sciences     261 non-null    int64 \n",
      " 6   Food_Technology            261 non-null    int64 \n",
      " 7   Horticulture               261 non-null    int64 \n",
      " 8   Livestock_production       261 non-null    int64 \n",
      " 9   Natural_Resources          261 non-null    int64 \n",
      " 10  Plant_Protection           261 non-null    int64 \n",
      "dtypes: int64(10), object(1)\n",
      "memory usage: 24.5+ KB\n"
     ]
    }
   ],
   "source": [
    "df3.info()"
   ]
  },
  {
   "cell_type": "code",
   "execution_count": null,
   "metadata": {
    "colab": {
     "base_uri": "https://localhost:8080/"
    },
    "executionInfo": {
     "elapsed": 407,
     "status": "ok",
     "timestamp": 1662843628547,
     "user": {
      "displayName": "Razan HL",
      "userId": "00189607576210306079"
     },
     "user_tz": -180
    },
    "id": "SGcEti7bEyPC",
    "outputId": "89fe625c-6ffa-4713-ae2b-6d7943745fe9"
   },
   "outputs": [
    {
     "name": "stdout",
     "output_type": "stream",
     "text": [
      "<class 'pandas.core.frame.DataFrame'>\n",
      "Int64Index: 142 entries, 3358 to 2585\n",
      "Data columns (total 11 columns):\n",
      " #   Column                     Non-Null Count  Dtype \n",
      "---  ------                     --------------  ----- \n",
      " 0   ids                        142 non-null    int64 \n",
      " 1   sp_text                    142 non-null    object\n",
      " 2   Agricultural_Economics     142 non-null    int64 \n",
      " 3   Agriculture_Biotechnology  142 non-null    int64 \n",
      " 4   Crop_production            142 non-null    int64 \n",
      " 5   Environmental_Sciences     142 non-null    int64 \n",
      " 6   Food_Technology            142 non-null    int64 \n",
      " 7   Horticulture               142 non-null    int64 \n",
      " 8   Livestock_production       142 non-null    int64 \n",
      " 9   Natural_Resources          142 non-null    int64 \n",
      " 10  Plant_Protection           142 non-null    int64 \n",
      "dtypes: int64(10), object(1)\n",
      "memory usage: 13.3+ KB\n"
     ]
    }
   ],
   "source": [
    "df3 = df3[df3['Crop_production'] == 0]\n",
    "df3 = df3[df3['Environmental_Sciences'] == 0]\n",
    "df3 = df3[df3['Horticulture'] == 0]\n",
    "df3 = df3[df3['Natural_Resources'] == 0]\n",
    "df3 = df3.sample(142,random_state=45)\n",
    "df3.info()"
   ]
  },
  {
   "cell_type": "code",
   "execution_count": null,
   "metadata": {
    "colab": {
     "base_uri": "https://localhost:8080/"
    },
    "executionInfo": {
     "elapsed": 459,
     "status": "ok",
     "timestamp": 1662843635177,
     "user": {
      "displayName": "Razan HL",
      "userId": "00189607576210306079"
     },
     "user_tz": -180
    },
    "id": "LeaCuqV8EyPD",
    "outputId": "c4552071-5eb7-4c26-e992-2a7c5ad40060"
   },
   "outputs": [
    {
     "name": "stdout",
     "output_type": "stream",
     "text": [
      "<class 'pandas.core.frame.DataFrame'>\n",
      "RangeIndex: 458 entries, 0 to 457\n",
      "Data columns (total 11 columns):\n",
      " #   Column                     Non-Null Count  Dtype \n",
      "---  ------                     --------------  ----- \n",
      " 0   ids                        458 non-null    int64 \n",
      " 1   sp_text                    458 non-null    object\n",
      " 2   Agricultural_Economics     458 non-null    int64 \n",
      " 3   Agriculture_Biotechnology  458 non-null    int64 \n",
      " 4   Crop_production            458 non-null    int64 \n",
      " 5   Environmental_Sciences     458 non-null    int64 \n",
      " 6   Food_Technology            458 non-null    int64 \n",
      " 7   Horticulture               458 non-null    int64 \n",
      " 8   Livestock_production       458 non-null    int64 \n",
      " 9   Natural_Resources          458 non-null    int64 \n",
      " 10  Plant_Protection           458 non-null    int64 \n",
      "dtypes: int64(10), object(1)\n",
      "memory usage: 39.5+ KB\n"
     ]
    }
   ],
   "source": [
    "val_balanced = pd.concat([val_balanced,df3], ignore_index=True)\n",
    "val_balanced.info()"
   ]
  },
  {
   "cell_type": "code",
   "execution_count": null,
   "metadata": {
    "colab": {
     "base_uri": "https://localhost:8080/"
    },
    "executionInfo": {
     "elapsed": 375,
     "status": "ok",
     "timestamp": 1662843637166,
     "user": {
      "displayName": "Razan HL",
      "userId": "00189607576210306079"
     },
     "user_tz": -180
    },
    "id": "s3siC-sMEyPD",
    "outputId": "d17f848e-7b5a-47a8-ad0e-74c354bf4150"
   },
   "outputs": [
    {
     "name": "stdout",
     "output_type": "stream",
     "text": [
      "<class 'pandas.core.frame.DataFrame'>\n",
      "Int64Index: 3058 entries, 0 to 3515\n",
      "Data columns (total 11 columns):\n",
      " #   Column                     Non-Null Count  Dtype \n",
      "---  ------                     --------------  ----- \n",
      " 0   ids                        3058 non-null   int64 \n",
      " 1   sp_text                    3058 non-null   object\n",
      " 2   Agricultural_Economics     3058 non-null   int64 \n",
      " 3   Agriculture_Biotechnology  3058 non-null   int64 \n",
      " 4   Crop_production            3058 non-null   int64 \n",
      " 5   Environmental_Sciences     3058 non-null   int64 \n",
      " 6   Food_Technology            3058 non-null   int64 \n",
      " 7   Horticulture               3058 non-null   int64 \n",
      " 8   Livestock_production       3058 non-null   int64 \n",
      " 9   Natural_Resources          3058 non-null   int64 \n",
      " 10  Plant_Protection           3058 non-null   int64 \n",
      "dtypes: int64(10), object(1)\n",
      "memory usage: 286.7+ KB\n"
     ]
    }
   ],
   "source": [
    "splited_val.drop(df3.index, inplace = True)\n",
    "splited_val.info()"
   ]
  },
  {
   "cell_type": "code",
   "execution_count": null,
   "metadata": {
    "colab": {
     "base_uri": "https://localhost:8080/",
     "height": 176
    },
    "executionInfo": {
     "elapsed": 463,
     "status": "ok",
     "timestamp": 1662843641162,
     "user": {
      "displayName": "Razan HL",
      "userId": "00189607576210306079"
     },
     "user_tz": -180
    },
    "id": "-ia33wzCGI0r",
    "outputId": "f712efbd-4b1f-421a-c890-fd70e60ffaa3"
   },
   "outputs": [
    {
     "data": {
      "text/html": [
       "\n",
       "  <div id=\"df-d59e0502-bf05-4226-bc6f-25c8cfc4a8eb\">\n",
       "    <div class=\"colab-df-container\">\n",
       "      <div>\n",
       "<style scoped>\n",
       "    .dataframe tbody tr th:only-of-type {\n",
       "        vertical-align: middle;\n",
       "    }\n",
       "\n",
       "    .dataframe tbody tr th {\n",
       "        vertical-align: top;\n",
       "    }\n",
       "\n",
       "    .dataframe thead th {\n",
       "        text-align: right;\n",
       "    }\n",
       "</style>\n",
       "<table border=\"1\" class=\"dataframe\">\n",
       "  <thead>\n",
       "    <tr style=\"text-align: right;\">\n",
       "      <th></th>\n",
       "      <th>ids</th>\n",
       "      <th>Agricultural_Economics</th>\n",
       "      <th>Agriculture_Biotechnology</th>\n",
       "      <th>Crop_production</th>\n",
       "      <th>Environmental_Sciences</th>\n",
       "      <th>Food_Technology</th>\n",
       "      <th>Horticulture</th>\n",
       "      <th>Natural_Resources</th>\n",
       "      <th>Plant_Protection</th>\n",
       "    </tr>\n",
       "    <tr>\n",
       "      <th>Livestock_production</th>\n",
       "      <th></th>\n",
       "      <th></th>\n",
       "      <th></th>\n",
       "      <th></th>\n",
       "      <th></th>\n",
       "      <th></th>\n",
       "      <th></th>\n",
       "      <th></th>\n",
       "      <th></th>\n",
       "    </tr>\n",
       "  </thead>\n",
       "  <tbody>\n",
       "    <tr>\n",
       "      <th>1</th>\n",
       "      <td>173483</td>\n",
       "      <td>0</td>\n",
       "      <td>0</td>\n",
       "      <td>0</td>\n",
       "      <td>9</td>\n",
       "      <td>0</td>\n",
       "      <td>0</td>\n",
       "      <td>0</td>\n",
       "      <td>0</td>\n",
       "    </tr>\n",
       "  </tbody>\n",
       "</table>\n",
       "</div>\n",
       "      <button class=\"colab-df-convert\" onclick=\"convertToInteractive('df-d59e0502-bf05-4226-bc6f-25c8cfc4a8eb')\"\n",
       "              title=\"Convert this dataframe to an interactive table.\"\n",
       "              style=\"display:none;\">\n",
       "        \n",
       "  <svg xmlns=\"http://www.w3.org/2000/svg\" height=\"24px\"viewBox=\"0 0 24 24\"\n",
       "       width=\"24px\">\n",
       "    <path d=\"M0 0h24v24H0V0z\" fill=\"none\"/>\n",
       "    <path d=\"M18.56 5.44l.94 2.06.94-2.06 2.06-.94-2.06-.94-.94-2.06-.94 2.06-2.06.94zm-11 1L8.5 8.5l.94-2.06 2.06-.94-2.06-.94L8.5 2.5l-.94 2.06-2.06.94zm10 10l.94 2.06.94-2.06 2.06-.94-2.06-.94-.94-2.06-.94 2.06-2.06.94z\"/><path d=\"M17.41 7.96l-1.37-1.37c-.4-.4-.92-.59-1.43-.59-.52 0-1.04.2-1.43.59L10.3 9.45l-7.72 7.72c-.78.78-.78 2.05 0 2.83L4 21.41c.39.39.9.59 1.41.59.51 0 1.02-.2 1.41-.59l7.78-7.78 2.81-2.81c.8-.78.8-2.07 0-2.86zM5.41 20L4 18.59l7.72-7.72 1.47 1.35L5.41 20z\"/>\n",
       "  </svg>\n",
       "      </button>\n",
       "      \n",
       "  <style>\n",
       "    .colab-df-container {\n",
       "      display:flex;\n",
       "      flex-wrap:wrap;\n",
       "      gap: 12px;\n",
       "    }\n",
       "\n",
       "    .colab-df-convert {\n",
       "      background-color: #E8F0FE;\n",
       "      border: none;\n",
       "      border-radius: 50%;\n",
       "      cursor: pointer;\n",
       "      display: none;\n",
       "      fill: #1967D2;\n",
       "      height: 32px;\n",
       "      padding: 0 0 0 0;\n",
       "      width: 32px;\n",
       "    }\n",
       "\n",
       "    .colab-df-convert:hover {\n",
       "      background-color: #E2EBFA;\n",
       "      box-shadow: 0px 1px 2px rgba(60, 64, 67, 0.3), 0px 1px 3px 1px rgba(60, 64, 67, 0.15);\n",
       "      fill: #174EA6;\n",
       "    }\n",
       "\n",
       "    [theme=dark] .colab-df-convert {\n",
       "      background-color: #3B4455;\n",
       "      fill: #D2E3FC;\n",
       "    }\n",
       "\n",
       "    [theme=dark] .colab-df-convert:hover {\n",
       "      background-color: #434B5C;\n",
       "      box-shadow: 0px 1px 3px 1px rgba(0, 0, 0, 0.15);\n",
       "      filter: drop-shadow(0px 1px 2px rgba(0, 0, 0, 0.3));\n",
       "      fill: #FFFFFF;\n",
       "    }\n",
       "  </style>\n",
       "\n",
       "      <script>\n",
       "        const buttonEl =\n",
       "          document.querySelector('#df-d59e0502-bf05-4226-bc6f-25c8cfc4a8eb button.colab-df-convert');\n",
       "        buttonEl.style.display =\n",
       "          google.colab.kernel.accessAllowed ? 'block' : 'none';\n",
       "\n",
       "        async function convertToInteractive(key) {\n",
       "          const element = document.querySelector('#df-d59e0502-bf05-4226-bc6f-25c8cfc4a8eb');\n",
       "          const dataTable =\n",
       "            await google.colab.kernel.invokeFunction('convertToInteractive',\n",
       "                                                     [key], {});\n",
       "          if (!dataTable) return;\n",
       "\n",
       "          const docLinkHtml = 'Like what you see? Visit the ' +\n",
       "            '<a target=\"_blank\" href=https://colab.research.google.com/notebooks/data_table.ipynb>data table notebook</a>'\n",
       "            + ' to learn more about interactive tables.';\n",
       "          element.innerHTML = '';\n",
       "          dataTable['output_type'] = 'display_data';\n",
       "          await google.colab.output.renderOutput(dataTable, element);\n",
       "          const docLink = document.createElement('div');\n",
       "          docLink.innerHTML = docLinkHtml;\n",
       "          element.appendChild(docLink);\n",
       "        }\n",
       "      </script>\n",
       "    </div>\n",
       "  </div>\n",
       "  "
      ],
      "text/plain": [
       "                         ids  Agricultural_Economics  \\\n",
       "Livestock_production                                   \n",
       "1                     173483                       0   \n",
       "\n",
       "                      Agriculture_Biotechnology  Crop_production  \\\n",
       "Livestock_production                                               \n",
       "1                                             0                0   \n",
       "\n",
       "                      Environmental_Sciences  Food_Technology  Horticulture  \\\n",
       "Livestock_production                                                          \n",
       "1                                          9                0             0   \n",
       "\n",
       "                      Natural_Resources  Plant_Protection  \n",
       "Livestock_production                                       \n",
       "1                                     0                 0  "
      ]
     },
     "execution_count": 208,
     "metadata": {},
     "output_type": "execute_result"
    }
   ],
   "source": [
    "df4 = splited_val[splited_val['Livestock_production'] == 1]\n",
    "df4.groupby(['Livestock_production']).sum()"
   ]
  },
  {
   "cell_type": "code",
   "execution_count": null,
   "metadata": {
    "colab": {
     "base_uri": "https://localhost:8080/"
    },
    "executionInfo": {
     "elapsed": 446,
     "status": "ok",
     "timestamp": 1662843643628,
     "user": {
      "displayName": "Razan HL",
      "userId": "00189607576210306079"
     },
     "user_tz": -180
    },
    "id": "zjaor-kRGI0s",
    "outputId": "cf7a9104-441f-4849-e942-52574a7c8d4f"
   },
   "outputs": [
    {
     "name": "stdout",
     "output_type": "stream",
     "text": [
      "<class 'pandas.core.frame.DataFrame'>\n",
      "Int64Index: 272 entries, 1180 to 3296\n",
      "Data columns (total 11 columns):\n",
      " #   Column                     Non-Null Count  Dtype \n",
      "---  ------                     --------------  ----- \n",
      " 0   ids                        272 non-null    int64 \n",
      " 1   sp_text                    272 non-null    object\n",
      " 2   Agricultural_Economics     272 non-null    int64 \n",
      " 3   Agriculture_Biotechnology  272 non-null    int64 \n",
      " 4   Crop_production            272 non-null    int64 \n",
      " 5   Environmental_Sciences     272 non-null    int64 \n",
      " 6   Food_Technology            272 non-null    int64 \n",
      " 7   Horticulture               272 non-null    int64 \n",
      " 8   Livestock_production       272 non-null    int64 \n",
      " 9   Natural_Resources          272 non-null    int64 \n",
      " 10  Plant_Protection           272 non-null    int64 \n",
      "dtypes: int64(10), object(1)\n",
      "memory usage: 25.5+ KB\n"
     ]
    }
   ],
   "source": [
    "df4.info()"
   ]
  },
  {
   "cell_type": "code",
   "execution_count": null,
   "metadata": {
    "colab": {
     "base_uri": "https://localhost:8080/"
    },
    "executionInfo": {
     "elapsed": 651,
     "status": "ok",
     "timestamp": 1662843646737,
     "user": {
      "displayName": "Razan HL",
      "userId": "00189607576210306079"
     },
     "user_tz": -180
    },
    "id": "C-QRO3rMGI0s",
    "outputId": "2e44b562-4b41-4517-aba7-8bd3d2a7fef3"
   },
   "outputs": [
    {
     "name": "stdout",
     "output_type": "stream",
     "text": [
      "<class 'pandas.core.frame.DataFrame'>\n",
      "Int64Index: 148 entries, 3227 to 2660\n",
      "Data columns (total 11 columns):\n",
      " #   Column                     Non-Null Count  Dtype \n",
      "---  ------                     --------------  ----- \n",
      " 0   ids                        148 non-null    int64 \n",
      " 1   sp_text                    148 non-null    object\n",
      " 2   Agricultural_Economics     148 non-null    int64 \n",
      " 3   Agriculture_Biotechnology  148 non-null    int64 \n",
      " 4   Crop_production            148 non-null    int64 \n",
      " 5   Environmental_Sciences     148 non-null    int64 \n",
      " 6   Food_Technology            148 non-null    int64 \n",
      " 7   Horticulture               148 non-null    int64 \n",
      " 8   Livestock_production       148 non-null    int64 \n",
      " 9   Natural_Resources          148 non-null    int64 \n",
      " 10  Plant_Protection           148 non-null    int64 \n",
      "dtypes: int64(10), object(1)\n",
      "memory usage: 13.9+ KB\n"
     ]
    }
   ],
   "source": [
    "df4 = df4[df4['Environmental_Sciences'] == 0]\n",
    "df4 = df4.sample(148,random_state=45)\n",
    "df4.info()"
   ]
  },
  {
   "cell_type": "code",
   "execution_count": null,
   "metadata": {
    "colab": {
     "base_uri": "https://localhost:8080/"
    },
    "executionInfo": {
     "elapsed": 797,
     "status": "ok",
     "timestamp": 1662843651614,
     "user": {
      "displayName": "Razan HL",
      "userId": "00189607576210306079"
     },
     "user_tz": -180
    },
    "id": "WqOLKoAcGI0u",
    "outputId": "b4dad5da-2dee-4d94-a091-93c9ea9c0aa5"
   },
   "outputs": [
    {
     "name": "stdout",
     "output_type": "stream",
     "text": [
      "<class 'pandas.core.frame.DataFrame'>\n",
      "RangeIndex: 606 entries, 0 to 605\n",
      "Data columns (total 11 columns):\n",
      " #   Column                     Non-Null Count  Dtype \n",
      "---  ------                     --------------  ----- \n",
      " 0   ids                        606 non-null    int64 \n",
      " 1   sp_text                    606 non-null    object\n",
      " 2   Agricultural_Economics     606 non-null    int64 \n",
      " 3   Agriculture_Biotechnology  606 non-null    int64 \n",
      " 4   Crop_production            606 non-null    int64 \n",
      " 5   Environmental_Sciences     606 non-null    int64 \n",
      " 6   Food_Technology            606 non-null    int64 \n",
      " 7   Horticulture               606 non-null    int64 \n",
      " 8   Livestock_production       606 non-null    int64 \n",
      " 9   Natural_Resources          606 non-null    int64 \n",
      " 10  Plant_Protection           606 non-null    int64 \n",
      "dtypes: int64(10), object(1)\n",
      "memory usage: 52.2+ KB\n"
     ]
    }
   ],
   "source": [
    "val_balanced = pd.concat([val_balanced,df4], ignore_index=True)\n",
    "val_balanced.info()"
   ]
  },
  {
   "cell_type": "code",
   "execution_count": null,
   "metadata": {
    "colab": {
     "base_uri": "https://localhost:8080/"
    },
    "executionInfo": {
     "elapsed": 408,
     "status": "ok",
     "timestamp": 1662843656013,
     "user": {
      "displayName": "Razan HL",
      "userId": "00189607576210306079"
     },
     "user_tz": -180
    },
    "id": "y_yUOuDVGI0v",
    "outputId": "364582a1-5d8c-4811-8781-68334f092635"
   },
   "outputs": [
    {
     "name": "stdout",
     "output_type": "stream",
     "text": [
      "<class 'pandas.core.frame.DataFrame'>\n",
      "Int64Index: 2910 entries, 0 to 3515\n",
      "Data columns (total 11 columns):\n",
      " #   Column                     Non-Null Count  Dtype \n",
      "---  ------                     --------------  ----- \n",
      " 0   ids                        2910 non-null   int64 \n",
      " 1   sp_text                    2910 non-null   object\n",
      " 2   Agricultural_Economics     2910 non-null   int64 \n",
      " 3   Agriculture_Biotechnology  2910 non-null   int64 \n",
      " 4   Crop_production            2910 non-null   int64 \n",
      " 5   Environmental_Sciences     2910 non-null   int64 \n",
      " 6   Food_Technology            2910 non-null   int64 \n",
      " 7   Horticulture               2910 non-null   int64 \n",
      " 8   Livestock_production       2910 non-null   int64 \n",
      " 9   Natural_Resources          2910 non-null   int64 \n",
      " 10  Plant_Protection           2910 non-null   int64 \n",
      "dtypes: int64(10), object(1)\n",
      "memory usage: 272.8+ KB\n"
     ]
    }
   ],
   "source": [
    "splited_val.drop(df4.index, inplace = True)\n",
    "splited_val.info()"
   ]
  },
  {
   "cell_type": "code",
   "execution_count": null,
   "metadata": {
    "colab": {
     "base_uri": "https://localhost:8080/",
     "height": 176
    },
    "executionInfo": {
     "elapsed": 1037,
     "status": "ok",
     "timestamp": 1662843662250,
     "user": {
      "displayName": "Razan HL",
      "userId": "00189607576210306079"
     },
     "user_tz": -180
    },
    "id": "OcNtSgZhGI0v",
    "outputId": "c270b2bb-b27b-41c1-8750-0daaa754a17c"
   },
   "outputs": [
    {
     "data": {
      "text/html": [
       "\n",
       "  <div id=\"df-5e9a4aaa-9375-4489-bfbc-f0daacf7af92\">\n",
       "    <div class=\"colab-df-container\">\n",
       "      <div>\n",
       "<style scoped>\n",
       "    .dataframe tbody tr th:only-of-type {\n",
       "        vertical-align: middle;\n",
       "    }\n",
       "\n",
       "    .dataframe tbody tr th {\n",
       "        vertical-align: top;\n",
       "    }\n",
       "\n",
       "    .dataframe thead th {\n",
       "        text-align: right;\n",
       "    }\n",
       "</style>\n",
       "<table border=\"1\" class=\"dataframe\">\n",
       "  <thead>\n",
       "    <tr style=\"text-align: right;\">\n",
       "      <th></th>\n",
       "      <th>ids</th>\n",
       "      <th>Agricultural_Economics</th>\n",
       "      <th>Agriculture_Biotechnology</th>\n",
       "      <th>Crop_production</th>\n",
       "      <th>Food_Technology</th>\n",
       "      <th>Horticulture</th>\n",
       "      <th>Livestock_production</th>\n",
       "      <th>Natural_Resources</th>\n",
       "      <th>Plant_Protection</th>\n",
       "    </tr>\n",
       "    <tr>\n",
       "      <th>Environmental_Sciences</th>\n",
       "      <th></th>\n",
       "      <th></th>\n",
       "      <th></th>\n",
       "      <th></th>\n",
       "      <th></th>\n",
       "      <th></th>\n",
       "      <th></th>\n",
       "      <th></th>\n",
       "      <th></th>\n",
       "    </tr>\n",
       "  </thead>\n",
       "  <tbody>\n",
       "    <tr>\n",
       "      <th>1</th>\n",
       "      <td>263194</td>\n",
       "      <td>24</td>\n",
       "      <td>0</td>\n",
       "      <td>0</td>\n",
       "      <td>17</td>\n",
       "      <td>10</td>\n",
       "      <td>9</td>\n",
       "      <td>19</td>\n",
       "      <td>35</td>\n",
       "    </tr>\n",
       "  </tbody>\n",
       "</table>\n",
       "</div>\n",
       "      <button class=\"colab-df-convert\" onclick=\"convertToInteractive('df-5e9a4aaa-9375-4489-bfbc-f0daacf7af92')\"\n",
       "              title=\"Convert this dataframe to an interactive table.\"\n",
       "              style=\"display:none;\">\n",
       "        \n",
       "  <svg xmlns=\"http://www.w3.org/2000/svg\" height=\"24px\"viewBox=\"0 0 24 24\"\n",
       "       width=\"24px\">\n",
       "    <path d=\"M0 0h24v24H0V0z\" fill=\"none\"/>\n",
       "    <path d=\"M18.56 5.44l.94 2.06.94-2.06 2.06-.94-2.06-.94-.94-2.06-.94 2.06-2.06.94zm-11 1L8.5 8.5l.94-2.06 2.06-.94-2.06-.94L8.5 2.5l-.94 2.06-2.06.94zm10 10l.94 2.06.94-2.06 2.06-.94-2.06-.94-.94-2.06-.94 2.06-2.06.94z\"/><path d=\"M17.41 7.96l-1.37-1.37c-.4-.4-.92-.59-1.43-.59-.52 0-1.04.2-1.43.59L10.3 9.45l-7.72 7.72c-.78.78-.78 2.05 0 2.83L4 21.41c.39.39.9.59 1.41.59.51 0 1.02-.2 1.41-.59l7.78-7.78 2.81-2.81c.8-.78.8-2.07 0-2.86zM5.41 20L4 18.59l7.72-7.72 1.47 1.35L5.41 20z\"/>\n",
       "  </svg>\n",
       "      </button>\n",
       "      \n",
       "  <style>\n",
       "    .colab-df-container {\n",
       "      display:flex;\n",
       "      flex-wrap:wrap;\n",
       "      gap: 12px;\n",
       "    }\n",
       "\n",
       "    .colab-df-convert {\n",
       "      background-color: #E8F0FE;\n",
       "      border: none;\n",
       "      border-radius: 50%;\n",
       "      cursor: pointer;\n",
       "      display: none;\n",
       "      fill: #1967D2;\n",
       "      height: 32px;\n",
       "      padding: 0 0 0 0;\n",
       "      width: 32px;\n",
       "    }\n",
       "\n",
       "    .colab-df-convert:hover {\n",
       "      background-color: #E2EBFA;\n",
       "      box-shadow: 0px 1px 2px rgba(60, 64, 67, 0.3), 0px 1px 3px 1px rgba(60, 64, 67, 0.15);\n",
       "      fill: #174EA6;\n",
       "    }\n",
       "\n",
       "    [theme=dark] .colab-df-convert {\n",
       "      background-color: #3B4455;\n",
       "      fill: #D2E3FC;\n",
       "    }\n",
       "\n",
       "    [theme=dark] .colab-df-convert:hover {\n",
       "      background-color: #434B5C;\n",
       "      box-shadow: 0px 1px 3px 1px rgba(0, 0, 0, 0.15);\n",
       "      filter: drop-shadow(0px 1px 2px rgba(0, 0, 0, 0.3));\n",
       "      fill: #FFFFFF;\n",
       "    }\n",
       "  </style>\n",
       "\n",
       "      <script>\n",
       "        const buttonEl =\n",
       "          document.querySelector('#df-5e9a4aaa-9375-4489-bfbc-f0daacf7af92 button.colab-df-convert');\n",
       "        buttonEl.style.display =\n",
       "          google.colab.kernel.accessAllowed ? 'block' : 'none';\n",
       "\n",
       "        async function convertToInteractive(key) {\n",
       "          const element = document.querySelector('#df-5e9a4aaa-9375-4489-bfbc-f0daacf7af92');\n",
       "          const dataTable =\n",
       "            await google.colab.kernel.invokeFunction('convertToInteractive',\n",
       "                                                     [key], {});\n",
       "          if (!dataTable) return;\n",
       "\n",
       "          const docLinkHtml = 'Like what you see? Visit the ' +\n",
       "            '<a target=\"_blank\" href=https://colab.research.google.com/notebooks/data_table.ipynb>data table notebook</a>'\n",
       "            + ' to learn more about interactive tables.';\n",
       "          element.innerHTML = '';\n",
       "          dataTable['output_type'] = 'display_data';\n",
       "          await google.colab.output.renderOutput(dataTable, element);\n",
       "          const docLink = document.createElement('div');\n",
       "          docLink.innerHTML = docLinkHtml;\n",
       "          element.appendChild(docLink);\n",
       "        }\n",
       "      </script>\n",
       "    </div>\n",
       "  </div>\n",
       "  "
      ],
      "text/plain": [
       "                           ids  Agricultural_Economics  \\\n",
       "Environmental_Sciences                                   \n",
       "1                       263194                      24   \n",
       "\n",
       "                        Agriculture_Biotechnology  Crop_production  \\\n",
       "Environmental_Sciences                                               \n",
       "1                                               0                0   \n",
       "\n",
       "                        Food_Technology  Horticulture  Livestock_production  \\\n",
       "Environmental_Sciences                                                        \n",
       "1                                    17            10                     9   \n",
       "\n",
       "                        Natural_Resources  Plant_Protection  \n",
       "Environmental_Sciences                                       \n",
       "1                                      19                35  "
      ]
     },
     "execution_count": 213,
     "metadata": {},
     "output_type": "execute_result"
    }
   ],
   "source": [
    "df5 = splited_val[splited_val['Environmental_Sciences'] == 1]\n",
    "df5.groupby(['Environmental_Sciences']).sum()"
   ]
  },
  {
   "cell_type": "code",
   "execution_count": null,
   "metadata": {
    "colab": {
     "base_uri": "https://localhost:8080/"
    },
    "executionInfo": {
     "elapsed": 14,
     "status": "ok",
     "timestamp": 1662843666350,
     "user": {
      "displayName": "Razan HL",
      "userId": "00189607576210306079"
     },
     "user_tz": -180
    },
    "id": "Iz0hgjyFGI0v",
    "outputId": "a835dd78-f64e-4b3c-ff37-e52a23ce9579"
   },
   "outputs": [
    {
     "name": "stdout",
     "output_type": "stream",
     "text": [
      "<class 'pandas.core.frame.DataFrame'>\n",
      "Int64Index: 526 entries, 196 to 3348\n",
      "Data columns (total 11 columns):\n",
      " #   Column                     Non-Null Count  Dtype \n",
      "---  ------                     --------------  ----- \n",
      " 0   ids                        526 non-null    int64 \n",
      " 1   sp_text                    526 non-null    object\n",
      " 2   Agricultural_Economics     526 non-null    int64 \n",
      " 3   Agriculture_Biotechnology  526 non-null    int64 \n",
      " 4   Crop_production            526 non-null    int64 \n",
      " 5   Environmental_Sciences     526 non-null    int64 \n",
      " 6   Food_Technology            526 non-null    int64 \n",
      " 7   Horticulture               526 non-null    int64 \n",
      " 8   Livestock_production       526 non-null    int64 \n",
      " 9   Natural_Resources          526 non-null    int64 \n",
      " 10  Plant_Protection           526 non-null    int64 \n",
      "dtypes: int64(10), object(1)\n",
      "memory usage: 49.3+ KB\n"
     ]
    }
   ],
   "source": [
    "df5.info()"
   ]
  },
  {
   "cell_type": "code",
   "execution_count": null,
   "metadata": {
    "colab": {
     "base_uri": "https://localhost:8080/"
    },
    "executionInfo": {
     "elapsed": 686,
     "status": "ok",
     "timestamp": 1662843671356,
     "user": {
      "displayName": "Razan HL",
      "userId": "00189607576210306079"
     },
     "user_tz": -180
    },
    "id": "NnCV6P9-GI0w",
    "outputId": "d29db2cc-462c-4bd3-975e-fdf7f74c97a9"
   },
   "outputs": [
    {
     "name": "stdout",
     "output_type": "stream",
     "text": [
      "<class 'pandas.core.frame.DataFrame'>\n",
      "Int64Index: 141 entries, 942 to 2444\n",
      "Data columns (total 11 columns):\n",
      " #   Column                     Non-Null Count  Dtype \n",
      "---  ------                     --------------  ----- \n",
      " 0   ids                        141 non-null    int64 \n",
      " 1   sp_text                    141 non-null    object\n",
      " 2   Agricultural_Economics     141 non-null    int64 \n",
      " 3   Agriculture_Biotechnology  141 non-null    int64 \n",
      " 4   Crop_production            141 non-null    int64 \n",
      " 5   Environmental_Sciences     141 non-null    int64 \n",
      " 6   Food_Technology            141 non-null    int64 \n",
      " 7   Horticulture               141 non-null    int64 \n",
      " 8   Livestock_production       141 non-null    int64 \n",
      " 9   Natural_Resources          141 non-null    int64 \n",
      " 10  Plant_Protection           141 non-null    int64 \n",
      "dtypes: int64(10), object(1)\n",
      "memory usage: 13.2+ KB\n"
     ]
    }
   ],
   "source": [
    "df5 = df5[df5['Agricultural_Economics'] == 0]\n",
    "df5 = df5[df5['Food_Technology'] == 0]\n",
    "df5 = df5[df5['Horticulture'] == 0]\n",
    "df5 = df5[df5['Livestock_production'] == 0]\n",
    "df5 = df5[df5['Natural_Resources'] == 0]\n",
    "df5 = df5[df5['Plant_Protection'] == 0]\n",
    "\n",
    "df5 = df5.sample(141,random_state=45)\n",
    "df5.info()"
   ]
  },
  {
   "cell_type": "code",
   "execution_count": null,
   "metadata": {
    "colab": {
     "base_uri": "https://localhost:8080/"
    },
    "executionInfo": {
     "elapsed": 388,
     "status": "ok",
     "timestamp": 1662843699905,
     "user": {
      "displayName": "Razan HL",
      "userId": "00189607576210306079"
     },
     "user_tz": -180
    },
    "id": "GOefkEkAGI0w",
    "outputId": "fb466701-fb55-479d-c83c-f06bf0b7c01b"
   },
   "outputs": [
    {
     "name": "stdout",
     "output_type": "stream",
     "text": [
      "<class 'pandas.core.frame.DataFrame'>\n",
      "RangeIndex: 747 entries, 0 to 746\n",
      "Data columns (total 11 columns):\n",
      " #   Column                     Non-Null Count  Dtype \n",
      "---  ------                     --------------  ----- \n",
      " 0   ids                        747 non-null    int64 \n",
      " 1   sp_text                    747 non-null    object\n",
      " 2   Agricultural_Economics     747 non-null    int64 \n",
      " 3   Agriculture_Biotechnology  747 non-null    int64 \n",
      " 4   Crop_production            747 non-null    int64 \n",
      " 5   Environmental_Sciences     747 non-null    int64 \n",
      " 6   Food_Technology            747 non-null    int64 \n",
      " 7   Horticulture               747 non-null    int64 \n",
      " 8   Livestock_production       747 non-null    int64 \n",
      " 9   Natural_Resources          747 non-null    int64 \n",
      " 10  Plant_Protection           747 non-null    int64 \n",
      "dtypes: int64(10), object(1)\n",
      "memory usage: 64.3+ KB\n"
     ]
    }
   ],
   "source": [
    "val_balanced = pd.concat([val_balanced,df5], ignore_index=True)\n",
    "val_balanced.info()"
   ]
  },
  {
   "cell_type": "code",
   "execution_count": null,
   "metadata": {
    "colab": {
     "base_uri": "https://localhost:8080/"
    },
    "executionInfo": {
     "elapsed": 376,
     "status": "ok",
     "timestamp": 1662843707481,
     "user": {
      "displayName": "Razan HL",
      "userId": "00189607576210306079"
     },
     "user_tz": -180
    },
    "id": "TUY0x85EGI0w",
    "outputId": "ab3a398e-e815-44b1-de4c-3b62ed1229e4"
   },
   "outputs": [
    {
     "name": "stdout",
     "output_type": "stream",
     "text": [
      "<class 'pandas.core.frame.DataFrame'>\n",
      "Int64Index: 2769 entries, 0 to 3515\n",
      "Data columns (total 11 columns):\n",
      " #   Column                     Non-Null Count  Dtype \n",
      "---  ------                     --------------  ----- \n",
      " 0   ids                        2769 non-null   int64 \n",
      " 1   sp_text                    2769 non-null   object\n",
      " 2   Agricultural_Economics     2769 non-null   int64 \n",
      " 3   Agriculture_Biotechnology  2769 non-null   int64 \n",
      " 4   Crop_production            2769 non-null   int64 \n",
      " 5   Environmental_Sciences     2769 non-null   int64 \n",
      " 6   Food_Technology            2769 non-null   int64 \n",
      " 7   Horticulture               2769 non-null   int64 \n",
      " 8   Livestock_production       2769 non-null   int64 \n",
      " 9   Natural_Resources          2769 non-null   int64 \n",
      " 10  Plant_Protection           2769 non-null   int64 \n",
      "dtypes: int64(10), object(1)\n",
      "memory usage: 259.6+ KB\n"
     ]
    }
   ],
   "source": [
    "splited_val.drop(df5.index, inplace = True)\n",
    "splited_val.info()"
   ]
  },
  {
   "cell_type": "code",
   "execution_count": null,
   "metadata": {
    "colab": {
     "base_uri": "https://localhost:8080/",
     "height": 176
    },
    "executionInfo": {
     "elapsed": 365,
     "status": "ok",
     "timestamp": 1662844325334,
     "user": {
      "displayName": "Razan HL",
      "userId": "00189607576210306079"
     },
     "user_tz": -180
    },
    "id": "hp87wHyWINu1",
    "outputId": "58cbe292-16a2-465f-dff9-09db7698aafa"
   },
   "outputs": [
    {
     "data": {
      "text/html": [
       "\n",
       "  <div id=\"df-cd192ef4-987e-40d4-82e4-4e5c183f9273\">\n",
       "    <div class=\"colab-df-container\">\n",
       "      <div>\n",
       "<style scoped>\n",
       "    .dataframe tbody tr th:only-of-type {\n",
       "        vertical-align: middle;\n",
       "    }\n",
       "\n",
       "    .dataframe tbody tr th {\n",
       "        vertical-align: top;\n",
       "    }\n",
       "\n",
       "    .dataframe thead th {\n",
       "        text-align: right;\n",
       "    }\n",
       "</style>\n",
       "<table border=\"1\" class=\"dataframe\">\n",
       "  <thead>\n",
       "    <tr style=\"text-align: right;\">\n",
       "      <th></th>\n",
       "      <th>ids</th>\n",
       "      <th>Agricultural_Economics</th>\n",
       "      <th>Agriculture_Biotechnology</th>\n",
       "      <th>Crop_production</th>\n",
       "      <th>Environmental_Sciences</th>\n",
       "      <th>Food_Technology</th>\n",
       "      <th>Horticulture</th>\n",
       "      <th>Livestock_production</th>\n",
       "      <th>Plant_Protection</th>\n",
       "    </tr>\n",
       "    <tr>\n",
       "      <th>Natural_Resources</th>\n",
       "      <th></th>\n",
       "      <th></th>\n",
       "      <th></th>\n",
       "      <th></th>\n",
       "      <th></th>\n",
       "      <th></th>\n",
       "      <th></th>\n",
       "      <th></th>\n",
       "      <th></th>\n",
       "    </tr>\n",
       "  </thead>\n",
       "  <tbody>\n",
       "    <tr>\n",
       "      <th>1</th>\n",
       "      <td>343685</td>\n",
       "      <td>0</td>\n",
       "      <td>0</td>\n",
       "      <td>435</td>\n",
       "      <td>19</td>\n",
       "      <td>21</td>\n",
       "      <td>163</td>\n",
       "      <td>0</td>\n",
       "      <td>0</td>\n",
       "    </tr>\n",
       "  </tbody>\n",
       "</table>\n",
       "</div>\n",
       "      <button class=\"colab-df-convert\" onclick=\"convertToInteractive('df-cd192ef4-987e-40d4-82e4-4e5c183f9273')\"\n",
       "              title=\"Convert this dataframe to an interactive table.\"\n",
       "              style=\"display:none;\">\n",
       "        \n",
       "  <svg xmlns=\"http://www.w3.org/2000/svg\" height=\"24px\"viewBox=\"0 0 24 24\"\n",
       "       width=\"24px\">\n",
       "    <path d=\"M0 0h24v24H0V0z\" fill=\"none\"/>\n",
       "    <path d=\"M18.56 5.44l.94 2.06.94-2.06 2.06-.94-2.06-.94-.94-2.06-.94 2.06-2.06.94zm-11 1L8.5 8.5l.94-2.06 2.06-.94-2.06-.94L8.5 2.5l-.94 2.06-2.06.94zm10 10l.94 2.06.94-2.06 2.06-.94-2.06-.94-.94-2.06-.94 2.06-2.06.94z\"/><path d=\"M17.41 7.96l-1.37-1.37c-.4-.4-.92-.59-1.43-.59-.52 0-1.04.2-1.43.59L10.3 9.45l-7.72 7.72c-.78.78-.78 2.05 0 2.83L4 21.41c.39.39.9.59 1.41.59.51 0 1.02-.2 1.41-.59l7.78-7.78 2.81-2.81c.8-.78.8-2.07 0-2.86zM5.41 20L4 18.59l7.72-7.72 1.47 1.35L5.41 20z\"/>\n",
       "  </svg>\n",
       "      </button>\n",
       "      \n",
       "  <style>\n",
       "    .colab-df-container {\n",
       "      display:flex;\n",
       "      flex-wrap:wrap;\n",
       "      gap: 12px;\n",
       "    }\n",
       "\n",
       "    .colab-df-convert {\n",
       "      background-color: #E8F0FE;\n",
       "      border: none;\n",
       "      border-radius: 50%;\n",
       "      cursor: pointer;\n",
       "      display: none;\n",
       "      fill: #1967D2;\n",
       "      height: 32px;\n",
       "      padding: 0 0 0 0;\n",
       "      width: 32px;\n",
       "    }\n",
       "\n",
       "    .colab-df-convert:hover {\n",
       "      background-color: #E2EBFA;\n",
       "      box-shadow: 0px 1px 2px rgba(60, 64, 67, 0.3), 0px 1px 3px 1px rgba(60, 64, 67, 0.15);\n",
       "      fill: #174EA6;\n",
       "    }\n",
       "\n",
       "    [theme=dark] .colab-df-convert {\n",
       "      background-color: #3B4455;\n",
       "      fill: #D2E3FC;\n",
       "    }\n",
       "\n",
       "    [theme=dark] .colab-df-convert:hover {\n",
       "      background-color: #434B5C;\n",
       "      box-shadow: 0px 1px 3px 1px rgba(0, 0, 0, 0.15);\n",
       "      filter: drop-shadow(0px 1px 2px rgba(0, 0, 0, 0.3));\n",
       "      fill: #FFFFFF;\n",
       "    }\n",
       "  </style>\n",
       "\n",
       "      <script>\n",
       "        const buttonEl =\n",
       "          document.querySelector('#df-cd192ef4-987e-40d4-82e4-4e5c183f9273 button.colab-df-convert');\n",
       "        buttonEl.style.display =\n",
       "          google.colab.kernel.accessAllowed ? 'block' : 'none';\n",
       "\n",
       "        async function convertToInteractive(key) {\n",
       "          const element = document.querySelector('#df-cd192ef4-987e-40d4-82e4-4e5c183f9273');\n",
       "          const dataTable =\n",
       "            await google.colab.kernel.invokeFunction('convertToInteractive',\n",
       "                                                     [key], {});\n",
       "          if (!dataTable) return;\n",
       "\n",
       "          const docLinkHtml = 'Like what you see? Visit the ' +\n",
       "            '<a target=\"_blank\" href=https://colab.research.google.com/notebooks/data_table.ipynb>data table notebook</a>'\n",
       "            + ' to learn more about interactive tables.';\n",
       "          element.innerHTML = '';\n",
       "          dataTable['output_type'] = 'display_data';\n",
       "          await google.colab.output.renderOutput(dataTable, element);\n",
       "          const docLink = document.createElement('div');\n",
       "          docLink.innerHTML = docLinkHtml;\n",
       "          element.appendChild(docLink);\n",
       "        }\n",
       "      </script>\n",
       "    </div>\n",
       "  </div>\n",
       "  "
      ],
      "text/plain": [
       "                      ids  Agricultural_Economics  Agriculture_Biotechnology  \\\n",
       "Natural_Resources                                                              \n",
       "1                  343685                       0                          0   \n",
       "\n",
       "                   Crop_production  Environmental_Sciences  Food_Technology  \\\n",
       "Natural_Resources                                                             \n",
       "1                              435                      19               21   \n",
       "\n",
       "                   Horticulture  Livestock_production  Plant_Protection  \n",
       "Natural_Resources                                                        \n",
       "1                           163                     0                 0  "
      ]
     },
     "execution_count": 232,
     "metadata": {},
     "output_type": "execute_result"
    }
   ],
   "source": [
    "df6 = splited_val[splited_val['Natural_Resources'] == 1]\n",
    "df6.groupby(['Natural_Resources']).sum()"
   ]
  },
  {
   "cell_type": "code",
   "execution_count": null,
   "metadata": {
    "colab": {
     "base_uri": "https://localhost:8080/"
    },
    "executionInfo": {
     "elapsed": 350,
     "status": "ok",
     "timestamp": 1662844329932,
     "user": {
      "displayName": "Razan HL",
      "userId": "00189607576210306079"
     },
     "user_tz": -180
    },
    "id": "CJ9P6AJ1INu2",
    "outputId": "947963f2-f100-4a6b-b990-5ef1a710e351"
   },
   "outputs": [
    {
     "name": "stdout",
     "output_type": "stream",
     "text": [
      "<class 'pandas.core.frame.DataFrame'>\n",
      "Int64Index: 728 entries, 0 to 3480\n",
      "Data columns (total 11 columns):\n",
      " #   Column                     Non-Null Count  Dtype \n",
      "---  ------                     --------------  ----- \n",
      " 0   ids                        728 non-null    int64 \n",
      " 1   sp_text                    728 non-null    object\n",
      " 2   Agricultural_Economics     728 non-null    int64 \n",
      " 3   Agriculture_Biotechnology  728 non-null    int64 \n",
      " 4   Crop_production            728 non-null    int64 \n",
      " 5   Environmental_Sciences     728 non-null    int64 \n",
      " 6   Food_Technology            728 non-null    int64 \n",
      " 7   Horticulture               728 non-null    int64 \n",
      " 8   Livestock_production       728 non-null    int64 \n",
      " 9   Natural_Resources          728 non-null    int64 \n",
      " 10  Plant_Protection           728 non-null    int64 \n",
      "dtypes: int64(10), object(1)\n",
      "memory usage: 68.2+ KB\n"
     ]
    }
   ],
   "source": [
    "df6.info()"
   ]
  },
  {
   "cell_type": "code",
   "execution_count": null,
   "metadata": {
    "colab": {
     "base_uri": "https://localhost:8080/"
    },
    "executionInfo": {
     "elapsed": 504,
     "status": "ok",
     "timestamp": 1662844335086,
     "user": {
      "displayName": "Razan HL",
      "userId": "00189607576210306079"
     },
     "user_tz": -180
    },
    "id": "aE24-LyNINu3",
    "outputId": "85e8f938-0918-49a1-99ba-8f7513416ac0"
   },
   "outputs": [
    {
     "name": "stdout",
     "output_type": "stream",
     "text": [
      "<class 'pandas.core.frame.DataFrame'>\n",
      "Int64Index: 158 entries, 2728 to 1316\n",
      "Data columns (total 11 columns):\n",
      " #   Column                     Non-Null Count  Dtype \n",
      "---  ------                     --------------  ----- \n",
      " 0   ids                        158 non-null    int64 \n",
      " 1   sp_text                    158 non-null    object\n",
      " 2   Agricultural_Economics     158 non-null    int64 \n",
      " 3   Agriculture_Biotechnology  158 non-null    int64 \n",
      " 4   Crop_production            158 non-null    int64 \n",
      " 5   Environmental_Sciences     158 non-null    int64 \n",
      " 6   Food_Technology            158 non-null    int64 \n",
      " 7   Horticulture               158 non-null    int64 \n",
      " 8   Livestock_production       158 non-null    int64 \n",
      " 9   Natural_Resources          158 non-null    int64 \n",
      " 10  Plant_Protection           158 non-null    int64 \n",
      "dtypes: int64(10), object(1)\n",
      "memory usage: 14.8+ KB\n"
     ]
    }
   ],
   "source": [
    "# df6 = df6[df6['Crop_production'] == 0]\n",
    "df6 = df6[df6['Environmental_Sciences'] == 0]\n",
    "df6 = df6[df6['Food_Technology'] == 0]\n",
    "df6 = df6[df6['Horticulture'] == 0]\n",
    "\n",
    "df6 = df6.sample(158,random_state=45)\n",
    "df6.info()"
   ]
  },
  {
   "cell_type": "code",
   "execution_count": null,
   "metadata": {
    "id": "BTeaRcptPxds"
   },
   "outputs": [],
   "source": []
  },
  {
   "cell_type": "code",
   "execution_count": null,
   "metadata": {
    "colab": {
     "base_uri": "https://localhost:8080/"
    },
    "executionInfo": {
     "elapsed": 456,
     "status": "ok",
     "timestamp": 1662844393458,
     "user": {
      "displayName": "Razan HL",
      "userId": "00189607576210306079"
     },
     "user_tz": -180
    },
    "id": "-OpAkkvpINu3",
    "outputId": "08f74dbc-05c7-4913-be89-fc3acd15e5ee"
   },
   "outputs": [
    {
     "name": "stdout",
     "output_type": "stream",
     "text": [
      "<class 'pandas.core.frame.DataFrame'>\n",
      "RangeIndex: 905 entries, 0 to 904\n",
      "Data columns (total 11 columns):\n",
      " #   Column                     Non-Null Count  Dtype \n",
      "---  ------                     --------------  ----- \n",
      " 0   ids                        905 non-null    int64 \n",
      " 1   sp_text                    905 non-null    object\n",
      " 2   Agricultural_Economics     905 non-null    int64 \n",
      " 3   Agriculture_Biotechnology  905 non-null    int64 \n",
      " 4   Crop_production            905 non-null    int64 \n",
      " 5   Environmental_Sciences     905 non-null    int64 \n",
      " 6   Food_Technology            905 non-null    int64 \n",
      " 7   Horticulture               905 non-null    int64 \n",
      " 8   Livestock_production       905 non-null    int64 \n",
      " 9   Natural_Resources          905 non-null    int64 \n",
      " 10  Plant_Protection           905 non-null    int64 \n",
      "dtypes: int64(10), object(1)\n",
      "memory usage: 77.9+ KB\n"
     ]
    }
   ],
   "source": [
    "val_balanced = pd.concat([val_balanced,df6], ignore_index=True)\n",
    "val_balanced.info()"
   ]
  },
  {
   "cell_type": "code",
   "execution_count": null,
   "metadata": {
    "colab": {
     "base_uri": "https://localhost:8080/"
    },
    "executionInfo": {
     "elapsed": 381,
     "status": "ok",
     "timestamp": 1662844411909,
     "user": {
      "displayName": "Razan HL",
      "userId": "00189607576210306079"
     },
     "user_tz": -180
    },
    "id": "NLZjm66EINu4",
    "outputId": "4c79d800-092d-4d49-a455-21d876e0f8c5"
   },
   "outputs": [
    {
     "name": "stdout",
     "output_type": "stream",
     "text": [
      "<class 'pandas.core.frame.DataFrame'>\n",
      "Int64Index: 2611 entries, 0 to 3515\n",
      "Data columns (total 11 columns):\n",
      " #   Column                     Non-Null Count  Dtype \n",
      "---  ------                     --------------  ----- \n",
      " 0   ids                        2611 non-null   int64 \n",
      " 1   sp_text                    2611 non-null   object\n",
      " 2   Agricultural_Economics     2611 non-null   int64 \n",
      " 3   Agriculture_Biotechnology  2611 non-null   int64 \n",
      " 4   Crop_production            2611 non-null   int64 \n",
      " 5   Environmental_Sciences     2611 non-null   int64 \n",
      " 6   Food_Technology            2611 non-null   int64 \n",
      " 7   Horticulture               2611 non-null   int64 \n",
      " 8   Livestock_production       2611 non-null   int64 \n",
      " 9   Natural_Resources          2611 non-null   int64 \n",
      " 10  Plant_Protection           2611 non-null   int64 \n",
      "dtypes: int64(10), object(1)\n",
      "memory usage: 244.8+ KB\n"
     ]
    }
   ],
   "source": [
    "splited_val.drop(df6.index, inplace = True)\n",
    "splited_val.info()"
   ]
  },
  {
   "cell_type": "code",
   "execution_count": null,
   "metadata": {
    "colab": {
     "base_uri": "https://localhost:8080/",
     "height": 176
    },
    "executionInfo": {
     "elapsed": 428,
     "status": "ok",
     "timestamp": 1662844436572,
     "user": {
      "displayName": "Razan HL",
      "userId": "00189607576210306079"
     },
     "user_tz": -180
    },
    "id": "gB3M6VCTINu4",
    "outputId": "6749b0dd-5670-4a85-9733-c654d0aef353"
   },
   "outputs": [
    {
     "data": {
      "text/html": [
       "\n",
       "  <div id=\"df-cd741d40-b777-4c4c-a0ac-f0c27c8f77ff\">\n",
       "    <div class=\"colab-df-container\">\n",
       "      <div>\n",
       "<style scoped>\n",
       "    .dataframe tbody tr th:only-of-type {\n",
       "        vertical-align: middle;\n",
       "    }\n",
       "\n",
       "    .dataframe tbody tr th {\n",
       "        vertical-align: top;\n",
       "    }\n",
       "\n",
       "    .dataframe thead th {\n",
       "        text-align: right;\n",
       "    }\n",
       "</style>\n",
       "<table border=\"1\" class=\"dataframe\">\n",
       "  <thead>\n",
       "    <tr style=\"text-align: right;\">\n",
       "      <th></th>\n",
       "      <th>ids</th>\n",
       "      <th>Agricultural_Economics</th>\n",
       "      <th>Agriculture_Biotechnology</th>\n",
       "      <th>Crop_production</th>\n",
       "      <th>Environmental_Sciences</th>\n",
       "      <th>Food_Technology</th>\n",
       "      <th>Livestock_production</th>\n",
       "      <th>Natural_Resources</th>\n",
       "      <th>Plant_Protection</th>\n",
       "    </tr>\n",
       "    <tr>\n",
       "      <th>Horticulture</th>\n",
       "      <th></th>\n",
       "      <th></th>\n",
       "      <th></th>\n",
       "      <th></th>\n",
       "      <th></th>\n",
       "      <th></th>\n",
       "      <th></th>\n",
       "      <th></th>\n",
       "      <th></th>\n",
       "    </tr>\n",
       "  </thead>\n",
       "  <tbody>\n",
       "    <tr>\n",
       "      <th>1</th>\n",
       "      <td>239509</td>\n",
       "      <td>0</td>\n",
       "      <td>0</td>\n",
       "      <td>0</td>\n",
       "      <td>10</td>\n",
       "      <td>9</td>\n",
       "      <td>0</td>\n",
       "      <td>163</td>\n",
       "      <td>80</td>\n",
       "    </tr>\n",
       "  </tbody>\n",
       "</table>\n",
       "</div>\n",
       "      <button class=\"colab-df-convert\" onclick=\"convertToInteractive('df-cd741d40-b777-4c4c-a0ac-f0c27c8f77ff')\"\n",
       "              title=\"Convert this dataframe to an interactive table.\"\n",
       "              style=\"display:none;\">\n",
       "        \n",
       "  <svg xmlns=\"http://www.w3.org/2000/svg\" height=\"24px\"viewBox=\"0 0 24 24\"\n",
       "       width=\"24px\">\n",
       "    <path d=\"M0 0h24v24H0V0z\" fill=\"none\"/>\n",
       "    <path d=\"M18.56 5.44l.94 2.06.94-2.06 2.06-.94-2.06-.94-.94-2.06-.94 2.06-2.06.94zm-11 1L8.5 8.5l.94-2.06 2.06-.94-2.06-.94L8.5 2.5l-.94 2.06-2.06.94zm10 10l.94 2.06.94-2.06 2.06-.94-2.06-.94-.94-2.06-.94 2.06-2.06.94z\"/><path d=\"M17.41 7.96l-1.37-1.37c-.4-.4-.92-.59-1.43-.59-.52 0-1.04.2-1.43.59L10.3 9.45l-7.72 7.72c-.78.78-.78 2.05 0 2.83L4 21.41c.39.39.9.59 1.41.59.51 0 1.02-.2 1.41-.59l7.78-7.78 2.81-2.81c.8-.78.8-2.07 0-2.86zM5.41 20L4 18.59l7.72-7.72 1.47 1.35L5.41 20z\"/>\n",
       "  </svg>\n",
       "      </button>\n",
       "      \n",
       "  <style>\n",
       "    .colab-df-container {\n",
       "      display:flex;\n",
       "      flex-wrap:wrap;\n",
       "      gap: 12px;\n",
       "    }\n",
       "\n",
       "    .colab-df-convert {\n",
       "      background-color: #E8F0FE;\n",
       "      border: none;\n",
       "      border-radius: 50%;\n",
       "      cursor: pointer;\n",
       "      display: none;\n",
       "      fill: #1967D2;\n",
       "      height: 32px;\n",
       "      padding: 0 0 0 0;\n",
       "      width: 32px;\n",
       "    }\n",
       "\n",
       "    .colab-df-convert:hover {\n",
       "      background-color: #E2EBFA;\n",
       "      box-shadow: 0px 1px 2px rgba(60, 64, 67, 0.3), 0px 1px 3px 1px rgba(60, 64, 67, 0.15);\n",
       "      fill: #174EA6;\n",
       "    }\n",
       "\n",
       "    [theme=dark] .colab-df-convert {\n",
       "      background-color: #3B4455;\n",
       "      fill: #D2E3FC;\n",
       "    }\n",
       "\n",
       "    [theme=dark] .colab-df-convert:hover {\n",
       "      background-color: #434B5C;\n",
       "      box-shadow: 0px 1px 3px 1px rgba(0, 0, 0, 0.15);\n",
       "      filter: drop-shadow(0px 1px 2px rgba(0, 0, 0, 0.3));\n",
       "      fill: #FFFFFF;\n",
       "    }\n",
       "  </style>\n",
       "\n",
       "      <script>\n",
       "        const buttonEl =\n",
       "          document.querySelector('#df-cd741d40-b777-4c4c-a0ac-f0c27c8f77ff button.colab-df-convert');\n",
       "        buttonEl.style.display =\n",
       "          google.colab.kernel.accessAllowed ? 'block' : 'none';\n",
       "\n",
       "        async function convertToInteractive(key) {\n",
       "          const element = document.querySelector('#df-cd741d40-b777-4c4c-a0ac-f0c27c8f77ff');\n",
       "          const dataTable =\n",
       "            await google.colab.kernel.invokeFunction('convertToInteractive',\n",
       "                                                     [key], {});\n",
       "          if (!dataTable) return;\n",
       "\n",
       "          const docLinkHtml = 'Like what you see? Visit the ' +\n",
       "            '<a target=\"_blank\" href=https://colab.research.google.com/notebooks/data_table.ipynb>data table notebook</a>'\n",
       "            + ' to learn more about interactive tables.';\n",
       "          element.innerHTML = '';\n",
       "          dataTable['output_type'] = 'display_data';\n",
       "          await google.colab.output.renderOutput(dataTable, element);\n",
       "          const docLink = document.createElement('div');\n",
       "          docLink.innerHTML = docLinkHtml;\n",
       "          element.appendChild(docLink);\n",
       "        }\n",
       "      </script>\n",
       "    </div>\n",
       "  </div>\n",
       "  "
      ],
      "text/plain": [
       "                 ids  Agricultural_Economics  Agriculture_Biotechnology  \\\n",
       "Horticulture                                                              \n",
       "1             239509                       0                          0   \n",
       "\n",
       "              Crop_production  Environmental_Sciences  Food_Technology  \\\n",
       "Horticulture                                                             \n",
       "1                           0                      10                9   \n",
       "\n",
       "              Livestock_production  Natural_Resources  Plant_Protection  \n",
       "Horticulture                                                             \n",
       "1                                0                163                80  "
      ]
     },
     "execution_count": 238,
     "metadata": {},
     "output_type": "execute_result"
    }
   ],
   "source": [
    "df7 = splited_val[splited_val['Horticulture'] == 1]\n",
    "df7.groupby(['Horticulture']).sum()"
   ]
  },
  {
   "cell_type": "code",
   "execution_count": null,
   "metadata": {
    "colab": {
     "base_uri": "https://localhost:8080/"
    },
    "executionInfo": {
     "elapsed": 400,
     "status": "ok",
     "timestamp": 1662844444480,
     "user": {
      "displayName": "Razan HL",
      "userId": "00189607576210306079"
     },
     "user_tz": -180
    },
    "id": "2d3iyUD1INu5",
    "outputId": "8762d4c1-8661-4bc4-df95-ad89744e1377"
   },
   "outputs": [
    {
     "name": "stdout",
     "output_type": "stream",
     "text": [
      "<class 'pandas.core.frame.DataFrame'>\n",
      "Int64Index: 587 entries, 0 to 3218\n",
      "Data columns (total 11 columns):\n",
      " #   Column                     Non-Null Count  Dtype \n",
      "---  ------                     --------------  ----- \n",
      " 0   ids                        587 non-null    int64 \n",
      " 1   sp_text                    587 non-null    object\n",
      " 2   Agricultural_Economics     587 non-null    int64 \n",
      " 3   Agriculture_Biotechnology  587 non-null    int64 \n",
      " 4   Crop_production            587 non-null    int64 \n",
      " 5   Environmental_Sciences     587 non-null    int64 \n",
      " 6   Food_Technology            587 non-null    int64 \n",
      " 7   Horticulture               587 non-null    int64 \n",
      " 8   Livestock_production       587 non-null    int64 \n",
      " 9   Natural_Resources          587 non-null    int64 \n",
      " 10  Plant_Protection           587 non-null    int64 \n",
      "dtypes: int64(10), object(1)\n",
      "memory usage: 55.0+ KB\n"
     ]
    }
   ],
   "source": [
    "df7.info()"
   ]
  },
  {
   "cell_type": "code",
   "execution_count": null,
   "metadata": {
    "colab": {
     "base_uri": "https://localhost:8080/"
    },
    "executionInfo": {
     "elapsed": 451,
     "status": "ok",
     "timestamp": 1662844565661,
     "user": {
      "displayName": "Razan HL",
      "userId": "00189607576210306079"
     },
     "user_tz": -180
    },
    "id": "u5zMeD7wINu6",
    "outputId": "c1508d2a-5a67-4bf4-d7cd-b18c55d173aa"
   },
   "outputs": [
    {
     "name": "stdout",
     "output_type": "stream",
     "text": [
      "<class 'pandas.core.frame.DataFrame'>\n",
      "Int64Index: 126 entries, 1122 to 966\n",
      "Data columns (total 11 columns):\n",
      " #   Column                     Non-Null Count  Dtype \n",
      "---  ------                     --------------  ----- \n",
      " 0   ids                        126 non-null    int64 \n",
      " 1   sp_text                    126 non-null    object\n",
      " 2   Agricultural_Economics     126 non-null    int64 \n",
      " 3   Agriculture_Biotechnology  126 non-null    int64 \n",
      " 4   Crop_production            126 non-null    int64 \n",
      " 5   Environmental_Sciences     126 non-null    int64 \n",
      " 6   Food_Technology            126 non-null    int64 \n",
      " 7   Horticulture               126 non-null    int64 \n",
      " 8   Livestock_production       126 non-null    int64 \n",
      " 9   Natural_Resources          126 non-null    int64 \n",
      " 10  Plant_Protection           126 non-null    int64 \n",
      "dtypes: int64(10), object(1)\n",
      "memory usage: 11.8+ KB\n"
     ]
    }
   ],
   "source": [
    "df7 = df7[df7['Environmental_Sciences'] == 0]\n",
    "df7 = df7[df7['Food_Technology'] == 0]\n",
    "df7 = df7[df7['Natural_Resources'] == 0]\n",
    "df7 = df7[df7['Plant_Protection'] == 0]\n",
    "\n",
    "df7 = df7.sample(126,random_state=45)\n",
    "df7.info()"
   ]
  },
  {
   "cell_type": "code",
   "execution_count": null,
   "metadata": {
    "colab": {
     "base_uri": "https://localhost:8080/"
    },
    "executionInfo": {
     "elapsed": 420,
     "status": "ok",
     "timestamp": 1662844574443,
     "user": {
      "displayName": "Razan HL",
      "userId": "00189607576210306079"
     },
     "user_tz": -180
    },
    "id": "F-HcIPyvINu6",
    "outputId": "df92f1c2-8e00-4991-cb6e-ca29b680e4a4"
   },
   "outputs": [
    {
     "name": "stdout",
     "output_type": "stream",
     "text": [
      "<class 'pandas.core.frame.DataFrame'>\n",
      "RangeIndex: 1031 entries, 0 to 1030\n",
      "Data columns (total 11 columns):\n",
      " #   Column                     Non-Null Count  Dtype \n",
      "---  ------                     --------------  ----- \n",
      " 0   ids                        1031 non-null   int64 \n",
      " 1   sp_text                    1031 non-null   object\n",
      " 2   Agricultural_Economics     1031 non-null   int64 \n",
      " 3   Agriculture_Biotechnology  1031 non-null   int64 \n",
      " 4   Crop_production            1031 non-null   int64 \n",
      " 5   Environmental_Sciences     1031 non-null   int64 \n",
      " 6   Food_Technology            1031 non-null   int64 \n",
      " 7   Horticulture               1031 non-null   int64 \n",
      " 8   Livestock_production       1031 non-null   int64 \n",
      " 9   Natural_Resources          1031 non-null   int64 \n",
      " 10  Plant_Protection           1031 non-null   int64 \n",
      "dtypes: int64(10), object(1)\n",
      "memory usage: 88.7+ KB\n"
     ]
    }
   ],
   "source": [
    "val_balanced = pd.concat([val_balanced,df7], ignore_index=True)\n",
    "val_balanced.info()"
   ]
  },
  {
   "cell_type": "code",
   "execution_count": null,
   "metadata": {
    "colab": {
     "base_uri": "https://localhost:8080/"
    },
    "executionInfo": {
     "elapsed": 419,
     "status": "ok",
     "timestamp": 1662844601140,
     "user": {
      "displayName": "Razan HL",
      "userId": "00189607576210306079"
     },
     "user_tz": -180
    },
    "id": "9lxKWCckINu7",
    "outputId": "4facab14-7c16-428c-db40-44a45d5e0934"
   },
   "outputs": [
    {
     "name": "stdout",
     "output_type": "stream",
     "text": [
      "<class 'pandas.core.frame.DataFrame'>\n",
      "Int64Index: 2485 entries, 0 to 3515\n",
      "Data columns (total 11 columns):\n",
      " #   Column                     Non-Null Count  Dtype \n",
      "---  ------                     --------------  ----- \n",
      " 0   ids                        2485 non-null   int64 \n",
      " 1   sp_text                    2485 non-null   object\n",
      " 2   Agricultural_Economics     2485 non-null   int64 \n",
      " 3   Agriculture_Biotechnology  2485 non-null   int64 \n",
      " 4   Crop_production            2485 non-null   int64 \n",
      " 5   Environmental_Sciences     2485 non-null   int64 \n",
      " 6   Food_Technology            2485 non-null   int64 \n",
      " 7   Horticulture               2485 non-null   int64 \n",
      " 8   Livestock_production       2485 non-null   int64 \n",
      " 9   Natural_Resources          2485 non-null   int64 \n",
      " 10  Plant_Protection           2485 non-null   int64 \n",
      "dtypes: int64(10), object(1)\n",
      "memory usage: 233.0+ KB\n"
     ]
    }
   ],
   "source": [
    "splited_val.drop(df7.index, inplace = True)\n",
    "splited_val.info()"
   ]
  },
  {
   "cell_type": "code",
   "execution_count": null,
   "metadata": {
    "colab": {
     "base_uri": "https://localhost:8080/",
     "height": 176
    },
    "executionInfo": {
     "elapsed": 568,
     "status": "ok",
     "timestamp": 1662844609218,
     "user": {
      "displayName": "Razan HL",
      "userId": "00189607576210306079"
     },
     "user_tz": -180
    },
    "id": "p7wzqkrAINu7",
    "outputId": "44394f95-5533-4ce0-9d64-9540f9ae260c"
   },
   "outputs": [
    {
     "data": {
      "text/html": [
       "\n",
       "  <div id=\"df-f70eb5fc-fa39-420a-a6b1-bd676d2b272a\">\n",
       "    <div class=\"colab-df-container\">\n",
       "      <div>\n",
       "<style scoped>\n",
       "    .dataframe tbody tr th:only-of-type {\n",
       "        vertical-align: middle;\n",
       "    }\n",
       "\n",
       "    .dataframe tbody tr th {\n",
       "        vertical-align: top;\n",
       "    }\n",
       "\n",
       "    .dataframe thead th {\n",
       "        text-align: right;\n",
       "    }\n",
       "</style>\n",
       "<table border=\"1\" class=\"dataframe\">\n",
       "  <thead>\n",
       "    <tr style=\"text-align: right;\">\n",
       "      <th></th>\n",
       "      <th>ids</th>\n",
       "      <th>Agricultural_Economics</th>\n",
       "      <th>Agriculture_Biotechnology</th>\n",
       "      <th>Crop_production</th>\n",
       "      <th>Environmental_Sciences</th>\n",
       "      <th>Food_Technology</th>\n",
       "      <th>Horticulture</th>\n",
       "      <th>Livestock_production</th>\n",
       "      <th>Natural_Resources</th>\n",
       "    </tr>\n",
       "    <tr>\n",
       "      <th>Plant_Protection</th>\n",
       "      <th></th>\n",
       "      <th></th>\n",
       "      <th></th>\n",
       "      <th></th>\n",
       "      <th></th>\n",
       "      <th></th>\n",
       "      <th></th>\n",
       "      <th></th>\n",
       "      <th></th>\n",
       "    </tr>\n",
       "  </thead>\n",
       "  <tbody>\n",
       "    <tr>\n",
       "      <th>1</th>\n",
       "      <td>207331</td>\n",
       "      <td>0</td>\n",
       "      <td>0</td>\n",
       "      <td>65</td>\n",
       "      <td>35</td>\n",
       "      <td>0</td>\n",
       "      <td>80</td>\n",
       "      <td>0</td>\n",
       "      <td>0</td>\n",
       "    </tr>\n",
       "  </tbody>\n",
       "</table>\n",
       "</div>\n",
       "      <button class=\"colab-df-convert\" onclick=\"convertToInteractive('df-f70eb5fc-fa39-420a-a6b1-bd676d2b272a')\"\n",
       "              title=\"Convert this dataframe to an interactive table.\"\n",
       "              style=\"display:none;\">\n",
       "        \n",
       "  <svg xmlns=\"http://www.w3.org/2000/svg\" height=\"24px\"viewBox=\"0 0 24 24\"\n",
       "       width=\"24px\">\n",
       "    <path d=\"M0 0h24v24H0V0z\" fill=\"none\"/>\n",
       "    <path d=\"M18.56 5.44l.94 2.06.94-2.06 2.06-.94-2.06-.94-.94-2.06-.94 2.06-2.06.94zm-11 1L8.5 8.5l.94-2.06 2.06-.94-2.06-.94L8.5 2.5l-.94 2.06-2.06.94zm10 10l.94 2.06.94-2.06 2.06-.94-2.06-.94-.94-2.06-.94 2.06-2.06.94z\"/><path d=\"M17.41 7.96l-1.37-1.37c-.4-.4-.92-.59-1.43-.59-.52 0-1.04.2-1.43.59L10.3 9.45l-7.72 7.72c-.78.78-.78 2.05 0 2.83L4 21.41c.39.39.9.59 1.41.59.51 0 1.02-.2 1.41-.59l7.78-7.78 2.81-2.81c.8-.78.8-2.07 0-2.86zM5.41 20L4 18.59l7.72-7.72 1.47 1.35L5.41 20z\"/>\n",
       "  </svg>\n",
       "      </button>\n",
       "      \n",
       "  <style>\n",
       "    .colab-df-container {\n",
       "      display:flex;\n",
       "      flex-wrap:wrap;\n",
       "      gap: 12px;\n",
       "    }\n",
       "\n",
       "    .colab-df-convert {\n",
       "      background-color: #E8F0FE;\n",
       "      border: none;\n",
       "      border-radius: 50%;\n",
       "      cursor: pointer;\n",
       "      display: none;\n",
       "      fill: #1967D2;\n",
       "      height: 32px;\n",
       "      padding: 0 0 0 0;\n",
       "      width: 32px;\n",
       "    }\n",
       "\n",
       "    .colab-df-convert:hover {\n",
       "      background-color: #E2EBFA;\n",
       "      box-shadow: 0px 1px 2px rgba(60, 64, 67, 0.3), 0px 1px 3px 1px rgba(60, 64, 67, 0.15);\n",
       "      fill: #174EA6;\n",
       "    }\n",
       "\n",
       "    [theme=dark] .colab-df-convert {\n",
       "      background-color: #3B4455;\n",
       "      fill: #D2E3FC;\n",
       "    }\n",
       "\n",
       "    [theme=dark] .colab-df-convert:hover {\n",
       "      background-color: #434B5C;\n",
       "      box-shadow: 0px 1px 3px 1px rgba(0, 0, 0, 0.15);\n",
       "      filter: drop-shadow(0px 1px 2px rgba(0, 0, 0, 0.3));\n",
       "      fill: #FFFFFF;\n",
       "    }\n",
       "  </style>\n",
       "\n",
       "      <script>\n",
       "        const buttonEl =\n",
       "          document.querySelector('#df-f70eb5fc-fa39-420a-a6b1-bd676d2b272a button.colab-df-convert');\n",
       "        buttonEl.style.display =\n",
       "          google.colab.kernel.accessAllowed ? 'block' : 'none';\n",
       "\n",
       "        async function convertToInteractive(key) {\n",
       "          const element = document.querySelector('#df-f70eb5fc-fa39-420a-a6b1-bd676d2b272a');\n",
       "          const dataTable =\n",
       "            await google.colab.kernel.invokeFunction('convertToInteractive',\n",
       "                                                     [key], {});\n",
       "          if (!dataTable) return;\n",
       "\n",
       "          const docLinkHtml = 'Like what you see? Visit the ' +\n",
       "            '<a target=\"_blank\" href=https://colab.research.google.com/notebooks/data_table.ipynb>data table notebook</a>'\n",
       "            + ' to learn more about interactive tables.';\n",
       "          element.innerHTML = '';\n",
       "          dataTable['output_type'] = 'display_data';\n",
       "          await google.colab.output.renderOutput(dataTable, element);\n",
       "          const docLink = document.createElement('div');\n",
       "          docLink.innerHTML = docLinkHtml;\n",
       "          element.appendChild(docLink);\n",
       "        }\n",
       "      </script>\n",
       "    </div>\n",
       "  </div>\n",
       "  "
      ],
      "text/plain": [
       "                     ids  Agricultural_Economics  Agriculture_Biotechnology  \\\n",
       "Plant_Protection                                                              \n",
       "1                 207331                       0                          0   \n",
       "\n",
       "                  Crop_production  Environmental_Sciences  Food_Technology  \\\n",
       "Plant_Protection                                                             \n",
       "1                              65                      35                0   \n",
       "\n",
       "                  Horticulture  Livestock_production  Natural_Resources  \n",
       "Plant_Protection                                                         \n",
       "1                           80                     0                  0  "
      ]
     },
     "execution_count": 247,
     "metadata": {},
     "output_type": "execute_result"
    }
   ],
   "source": [
    "df8 = splited_val[splited_val['Plant_Protection'] == 1]\n",
    "df8.groupby(['Plant_Protection']).sum()"
   ]
  },
  {
   "cell_type": "code",
   "execution_count": null,
   "metadata": {
    "colab": {
     "base_uri": "https://localhost:8080/"
    },
    "executionInfo": {
     "elapsed": 467,
     "status": "ok",
     "timestamp": 1662844620494,
     "user": {
      "displayName": "Razan HL",
      "userId": "00189607576210306079"
     },
     "user_tz": -180
    },
    "id": "-9NgDw-wINu8",
    "outputId": "12aab709-d2ff-463a-a8fb-30725c7e5dce"
   },
   "outputs": [
    {
     "name": "stdout",
     "output_type": "stream",
     "text": [
      "<class 'pandas.core.frame.DataFrame'>\n",
      "Int64Index: 442 entries, 83 to 3310\n",
      "Data columns (total 11 columns):\n",
      " #   Column                     Non-Null Count  Dtype \n",
      "---  ------                     --------------  ----- \n",
      " 0   ids                        442 non-null    int64 \n",
      " 1   sp_text                    442 non-null    object\n",
      " 2   Agricultural_Economics     442 non-null    int64 \n",
      " 3   Agriculture_Biotechnology  442 non-null    int64 \n",
      " 4   Crop_production            442 non-null    int64 \n",
      " 5   Environmental_Sciences     442 non-null    int64 \n",
      " 6   Food_Technology            442 non-null    int64 \n",
      " 7   Horticulture               442 non-null    int64 \n",
      " 8   Livestock_production       442 non-null    int64 \n",
      " 9   Natural_Resources          442 non-null    int64 \n",
      " 10  Plant_Protection           442 non-null    int64 \n",
      "dtypes: int64(10), object(1)\n",
      "memory usage: 41.4+ KB\n"
     ]
    }
   ],
   "source": [
    "df8.info()"
   ]
  },
  {
   "cell_type": "code",
   "execution_count": null,
   "metadata": {
    "colab": {
     "base_uri": "https://localhost:8080/"
    },
    "executionInfo": {
     "elapsed": 9,
     "status": "ok",
     "timestamp": 1662844679935,
     "user": {
      "displayName": "Razan HL",
      "userId": "00189607576210306079"
     },
     "user_tz": -180
    },
    "id": "U3gez-BFINu8",
    "outputId": "7df9607b-00fc-4c18-94f3-cc0e1d3a4f27"
   },
   "outputs": [
    {
     "name": "stdout",
     "output_type": "stream",
     "text": [
      "<class 'pandas.core.frame.DataFrame'>\n",
      "Int64Index: 119 entries, 1093 to 2687\n",
      "Data columns (total 11 columns):\n",
      " #   Column                     Non-Null Count  Dtype \n",
      "---  ------                     --------------  ----- \n",
      " 0   ids                        119 non-null    int64 \n",
      " 1   sp_text                    119 non-null    object\n",
      " 2   Agricultural_Economics     119 non-null    int64 \n",
      " 3   Agriculture_Biotechnology  119 non-null    int64 \n",
      " 4   Crop_production            119 non-null    int64 \n",
      " 5   Environmental_Sciences     119 non-null    int64 \n",
      " 6   Food_Technology            119 non-null    int64 \n",
      " 7   Horticulture               119 non-null    int64 \n",
      " 8   Livestock_production       119 non-null    int64 \n",
      " 9   Natural_Resources          119 non-null    int64 \n",
      " 10  Plant_Protection           119 non-null    int64 \n",
      "dtypes: int64(10), object(1)\n",
      "memory usage: 11.2+ KB\n"
     ]
    }
   ],
   "source": [
    "df8 = df8[df8['Crop_production'] == 0]\n",
    "df8 = df8[df8['Horticulture'] == 0]\n",
    "df8 = df8[df8['Environmental_Sciences'] == 0]\n",
    "\n",
    "df8 = df8.sample(119,random_state=45)\n",
    "df8.info()"
   ]
  },
  {
   "cell_type": "code",
   "execution_count": null,
   "metadata": {
    "colab": {
     "base_uri": "https://localhost:8080/"
    },
    "executionInfo": {
     "elapsed": 380,
     "status": "ok",
     "timestamp": 1662844687410,
     "user": {
      "displayName": "Razan HL",
      "userId": "00189607576210306079"
     },
     "user_tz": -180
    },
    "id": "OJ9xE1QuINu9",
    "outputId": "765ae7a1-091a-4996-9ae2-92d7bf5921cc"
   },
   "outputs": [
    {
     "name": "stdout",
     "output_type": "stream",
     "text": [
      "<class 'pandas.core.frame.DataFrame'>\n",
      "RangeIndex: 1150 entries, 0 to 1149\n",
      "Data columns (total 11 columns):\n",
      " #   Column                     Non-Null Count  Dtype \n",
      "---  ------                     --------------  ----- \n",
      " 0   ids                        1150 non-null   int64 \n",
      " 1   sp_text                    1150 non-null   object\n",
      " 2   Agricultural_Economics     1150 non-null   int64 \n",
      " 3   Agriculture_Biotechnology  1150 non-null   int64 \n",
      " 4   Crop_production            1150 non-null   int64 \n",
      " 5   Environmental_Sciences     1150 non-null   int64 \n",
      " 6   Food_Technology            1150 non-null   int64 \n",
      " 7   Horticulture               1150 non-null   int64 \n",
      " 8   Livestock_production       1150 non-null   int64 \n",
      " 9   Natural_Resources          1150 non-null   int64 \n",
      " 10  Plant_Protection           1150 non-null   int64 \n",
      "dtypes: int64(10), object(1)\n",
      "memory usage: 99.0+ KB\n"
     ]
    }
   ],
   "source": [
    "val_balanced = pd.concat([val_balanced,df8], ignore_index=True)\n",
    "val_balanced.info()"
   ]
  },
  {
   "cell_type": "code",
   "execution_count": null,
   "metadata": {
    "colab": {
     "base_uri": "https://localhost:8080/"
    },
    "executionInfo": {
     "elapsed": 9,
     "status": "ok",
     "timestamp": 1662844688975,
     "user": {
      "displayName": "Razan HL",
      "userId": "00189607576210306079"
     },
     "user_tz": -180
    },
    "id": "UQna_dAdINu-",
    "outputId": "33d19ae5-08c9-4ff2-90bf-a7ce2c5eac36"
   },
   "outputs": [
    {
     "name": "stdout",
     "output_type": "stream",
     "text": [
      "<class 'pandas.core.frame.DataFrame'>\n",
      "Int64Index: 2366 entries, 0 to 3515\n",
      "Data columns (total 11 columns):\n",
      " #   Column                     Non-Null Count  Dtype \n",
      "---  ------                     --------------  ----- \n",
      " 0   ids                        2366 non-null   int64 \n",
      " 1   sp_text                    2366 non-null   object\n",
      " 2   Agricultural_Economics     2366 non-null   int64 \n",
      " 3   Agriculture_Biotechnology  2366 non-null   int64 \n",
      " 4   Crop_production            2366 non-null   int64 \n",
      " 5   Environmental_Sciences     2366 non-null   int64 \n",
      " 6   Food_Technology            2366 non-null   int64 \n",
      " 7   Horticulture               2366 non-null   int64 \n",
      " 8   Livestock_production       2366 non-null   int64 \n",
      " 9   Natural_Resources          2366 non-null   int64 \n",
      " 10  Plant_Protection           2366 non-null   int64 \n",
      "dtypes: int64(10), object(1)\n",
      "memory usage: 221.8+ KB\n"
     ]
    }
   ],
   "source": [
    "splited_val.drop(df8.index, inplace = True)\n",
    "splited_val.info()"
   ]
  },
  {
   "cell_type": "code",
   "execution_count": null,
   "metadata": {
    "colab": {
     "base_uri": "https://localhost:8080/",
     "height": 176
    },
    "executionInfo": {
     "elapsed": 440,
     "status": "ok",
     "timestamp": 1662844715297,
     "user": {
      "displayName": "Razan HL",
      "userId": "00189607576210306079"
     },
     "user_tz": -180
    },
    "id": "F3XLVFqAINu-",
    "outputId": "8085e959-23d8-491f-995d-72d7b0c0ddc4"
   },
   "outputs": [
    {
     "data": {
      "text/html": [
       "\n",
       "  <div id=\"df-b2c787b4-e792-4896-a8c5-7362d7ecebb9\">\n",
       "    <div class=\"colab-df-container\">\n",
       "      <div>\n",
       "<style scoped>\n",
       "    .dataframe tbody tr th:only-of-type {\n",
       "        vertical-align: middle;\n",
       "    }\n",
       "\n",
       "    .dataframe tbody tr th {\n",
       "        vertical-align: top;\n",
       "    }\n",
       "\n",
       "    .dataframe thead th {\n",
       "        text-align: right;\n",
       "    }\n",
       "</style>\n",
       "<table border=\"1\" class=\"dataframe\">\n",
       "  <thead>\n",
       "    <tr style=\"text-align: right;\">\n",
       "      <th></th>\n",
       "      <th>ids</th>\n",
       "      <th>Agricultural_Economics</th>\n",
       "      <th>Agriculture_Biotechnology</th>\n",
       "      <th>Environmental_Sciences</th>\n",
       "      <th>Food_Technology</th>\n",
       "      <th>Horticulture</th>\n",
       "      <th>Livestock_production</th>\n",
       "      <th>Natural_Resources</th>\n",
       "      <th>Plant_Protection</th>\n",
       "    </tr>\n",
       "    <tr>\n",
       "      <th>Crop_production</th>\n",
       "      <th></th>\n",
       "      <th></th>\n",
       "      <th></th>\n",
       "      <th></th>\n",
       "      <th></th>\n",
       "      <th></th>\n",
       "      <th></th>\n",
       "      <th></th>\n",
       "      <th></th>\n",
       "    </tr>\n",
       "  </thead>\n",
       "  <tbody>\n",
       "    <tr>\n",
       "      <th>1</th>\n",
       "      <td>277557</td>\n",
       "      <td>0</td>\n",
       "      <td>0</td>\n",
       "      <td>0</td>\n",
       "      <td>9</td>\n",
       "      <td>0</td>\n",
       "      <td>0</td>\n",
       "      <td>301</td>\n",
       "      <td>65</td>\n",
       "    </tr>\n",
       "  </tbody>\n",
       "</table>\n",
       "</div>\n",
       "      <button class=\"colab-df-convert\" onclick=\"convertToInteractive('df-b2c787b4-e792-4896-a8c5-7362d7ecebb9')\"\n",
       "              title=\"Convert this dataframe to an interactive table.\"\n",
       "              style=\"display:none;\">\n",
       "        \n",
       "  <svg xmlns=\"http://www.w3.org/2000/svg\" height=\"24px\"viewBox=\"0 0 24 24\"\n",
       "       width=\"24px\">\n",
       "    <path d=\"M0 0h24v24H0V0z\" fill=\"none\"/>\n",
       "    <path d=\"M18.56 5.44l.94 2.06.94-2.06 2.06-.94-2.06-.94-.94-2.06-.94 2.06-2.06.94zm-11 1L8.5 8.5l.94-2.06 2.06-.94-2.06-.94L8.5 2.5l-.94 2.06-2.06.94zm10 10l.94 2.06.94-2.06 2.06-.94-2.06-.94-.94-2.06-.94 2.06-2.06.94z\"/><path d=\"M17.41 7.96l-1.37-1.37c-.4-.4-.92-.59-1.43-.59-.52 0-1.04.2-1.43.59L10.3 9.45l-7.72 7.72c-.78.78-.78 2.05 0 2.83L4 21.41c.39.39.9.59 1.41.59.51 0 1.02-.2 1.41-.59l7.78-7.78 2.81-2.81c.8-.78.8-2.07 0-2.86zM5.41 20L4 18.59l7.72-7.72 1.47 1.35L5.41 20z\"/>\n",
       "  </svg>\n",
       "      </button>\n",
       "      \n",
       "  <style>\n",
       "    .colab-df-container {\n",
       "      display:flex;\n",
       "      flex-wrap:wrap;\n",
       "      gap: 12px;\n",
       "    }\n",
       "\n",
       "    .colab-df-convert {\n",
       "      background-color: #E8F0FE;\n",
       "      border: none;\n",
       "      border-radius: 50%;\n",
       "      cursor: pointer;\n",
       "      display: none;\n",
       "      fill: #1967D2;\n",
       "      height: 32px;\n",
       "      padding: 0 0 0 0;\n",
       "      width: 32px;\n",
       "    }\n",
       "\n",
       "    .colab-df-convert:hover {\n",
       "      background-color: #E2EBFA;\n",
       "      box-shadow: 0px 1px 2px rgba(60, 64, 67, 0.3), 0px 1px 3px 1px rgba(60, 64, 67, 0.15);\n",
       "      fill: #174EA6;\n",
       "    }\n",
       "\n",
       "    [theme=dark] .colab-df-convert {\n",
       "      background-color: #3B4455;\n",
       "      fill: #D2E3FC;\n",
       "    }\n",
       "\n",
       "    [theme=dark] .colab-df-convert:hover {\n",
       "      background-color: #434B5C;\n",
       "      box-shadow: 0px 1px 3px 1px rgba(0, 0, 0, 0.15);\n",
       "      filter: drop-shadow(0px 1px 2px rgba(0, 0, 0, 0.3));\n",
       "      fill: #FFFFFF;\n",
       "    }\n",
       "  </style>\n",
       "\n",
       "      <script>\n",
       "        const buttonEl =\n",
       "          document.querySelector('#df-b2c787b4-e792-4896-a8c5-7362d7ecebb9 button.colab-df-convert');\n",
       "        buttonEl.style.display =\n",
       "          google.colab.kernel.accessAllowed ? 'block' : 'none';\n",
       "\n",
       "        async function convertToInteractive(key) {\n",
       "          const element = document.querySelector('#df-b2c787b4-e792-4896-a8c5-7362d7ecebb9');\n",
       "          const dataTable =\n",
       "            await google.colab.kernel.invokeFunction('convertToInteractive',\n",
       "                                                     [key], {});\n",
       "          if (!dataTable) return;\n",
       "\n",
       "          const docLinkHtml = 'Like what you see? Visit the ' +\n",
       "            '<a target=\"_blank\" href=https://colab.research.google.com/notebooks/data_table.ipynb>data table notebook</a>'\n",
       "            + ' to learn more about interactive tables.';\n",
       "          element.innerHTML = '';\n",
       "          dataTable['output_type'] = 'display_data';\n",
       "          await google.colab.output.renderOutput(dataTable, element);\n",
       "          const docLink = document.createElement('div');\n",
       "          docLink.innerHTML = docLinkHtml;\n",
       "          element.appendChild(docLink);\n",
       "        }\n",
       "      </script>\n",
       "    </div>\n",
       "  </div>\n",
       "  "
      ],
      "text/plain": [
       "                    ids  Agricultural_Economics  Agriculture_Biotechnology  \\\n",
       "Crop_production                                                              \n",
       "1                277557                       0                          0   \n",
       "\n",
       "                 Environmental_Sciences  Food_Technology  Horticulture  \\\n",
       "Crop_production                                                          \n",
       "1                                     0                9             0   \n",
       "\n",
       "                 Livestock_production  Natural_Resources  Plant_Protection  \n",
       "Crop_production                                                             \n",
       "1                                   0                301                65  "
      ]
     },
     "execution_count": 253,
     "metadata": {},
     "output_type": "execute_result"
    }
   ],
   "source": [
    "df9 = splited_val[splited_val['Crop_production'] == 1]\n",
    "df9.groupby(['Crop_production']).sum()"
   ]
  },
  {
   "cell_type": "code",
   "execution_count": null,
   "metadata": {
    "colab": {
     "base_uri": "https://localhost:8080/"
    },
    "executionInfo": {
     "elapsed": 411,
     "status": "ok",
     "timestamp": 1662844719487,
     "user": {
      "displayName": "Razan HL",
      "userId": "00189607576210306079"
     },
     "user_tz": -180
    },
    "id": "8NiEHLSqINu_",
    "outputId": "612469a8-b524-4c1a-cb47-1a57be99dca1"
   },
   "outputs": [
    {
     "name": "stdout",
     "output_type": "stream",
     "text": [
      "<class 'pandas.core.frame.DataFrame'>\n",
      "Int64Index: 650 entries, 41 to 3478\n",
      "Data columns (total 11 columns):\n",
      " #   Column                     Non-Null Count  Dtype \n",
      "---  ------                     --------------  ----- \n",
      " 0   ids                        650 non-null    int64 \n",
      " 1   sp_text                    650 non-null    object\n",
      " 2   Agricultural_Economics     650 non-null    int64 \n",
      " 3   Agriculture_Biotechnology  650 non-null    int64 \n",
      " 4   Crop_production            650 non-null    int64 \n",
      " 5   Environmental_Sciences     650 non-null    int64 \n",
      " 6   Food_Technology            650 non-null    int64 \n",
      " 7   Horticulture               650 non-null    int64 \n",
      " 8   Livestock_production       650 non-null    int64 \n",
      " 9   Natural_Resources          650 non-null    int64 \n",
      " 10  Plant_Protection           650 non-null    int64 \n",
      "dtypes: int64(10), object(1)\n",
      "memory usage: 60.9+ KB\n"
     ]
    }
   ],
   "source": [
    "df9.info()"
   ]
  },
  {
   "cell_type": "code",
   "execution_count": null,
   "metadata": {
    "colab": {
     "base_uri": "https://localhost:8080/"
    },
    "executionInfo": {
     "elapsed": 465,
     "status": "ok",
     "timestamp": 1662844802423,
     "user": {
      "displayName": "Razan HL",
      "userId": "00189607576210306079"
     },
     "user_tz": -180
    },
    "id": "zCrcKH_hINu_",
    "outputId": "8125384e-b614-40ac-84dc-46f3fd3e12f7"
   },
   "outputs": [
    {
     "name": "stdout",
     "output_type": "stream",
     "text": [
      "<class 'pandas.core.frame.DataFrame'>\n",
      "Int64Index: 24 entries, 2248 to 554\n",
      "Data columns (total 11 columns):\n",
      " #   Column                     Non-Null Count  Dtype \n",
      "---  ------                     --------------  ----- \n",
      " 0   ids                        24 non-null     int64 \n",
      " 1   sp_text                    24 non-null     object\n",
      " 2   Agricultural_Economics     24 non-null     int64 \n",
      " 3   Agriculture_Biotechnology  24 non-null     int64 \n",
      " 4   Crop_production            24 non-null     int64 \n",
      " 5   Environmental_Sciences     24 non-null     int64 \n",
      " 6   Food_Technology            24 non-null     int64 \n",
      " 7   Horticulture               24 non-null     int64 \n",
      " 8   Livestock_production       24 non-null     int64 \n",
      " 9   Natural_Resources          24 non-null     int64 \n",
      " 10  Plant_Protection           24 non-null     int64 \n",
      "dtypes: int64(10), object(1)\n",
      "memory usage: 2.2+ KB\n"
     ]
    }
   ],
   "source": [
    "df9 = df9[df9['Food_Technology'] == 0]\n",
    "df9 = df9[df9['Natural_Resources'] == 0]\n",
    "df9 = df9[df9['Plant_Protection'] == 0]\n",
    "\n",
    "df9 = df9.sample(24,random_state=45)\n",
    "df9.info()"
   ]
  },
  {
   "cell_type": "code",
   "execution_count": null,
   "metadata": {
    "colab": {
     "base_uri": "https://localhost:8080/"
    },
    "executionInfo": {
     "elapsed": 10,
     "status": "ok",
     "timestamp": 1662844810727,
     "user": {
      "displayName": "Razan HL",
      "userId": "00189607576210306079"
     },
     "user_tz": -180
    },
    "id": "NMInRoNeINvA",
    "outputId": "c121ed3f-9785-42ff-c1e6-77493d7f14a9"
   },
   "outputs": [
    {
     "name": "stdout",
     "output_type": "stream",
     "text": [
      "<class 'pandas.core.frame.DataFrame'>\n",
      "RangeIndex: 1174 entries, 0 to 1173\n",
      "Data columns (total 11 columns):\n",
      " #   Column                     Non-Null Count  Dtype \n",
      "---  ------                     --------------  ----- \n",
      " 0   ids                        1174 non-null   int64 \n",
      " 1   sp_text                    1174 non-null   object\n",
      " 2   Agricultural_Economics     1174 non-null   int64 \n",
      " 3   Agriculture_Biotechnology  1174 non-null   int64 \n",
      " 4   Crop_production            1174 non-null   int64 \n",
      " 5   Environmental_Sciences     1174 non-null   int64 \n",
      " 6   Food_Technology            1174 non-null   int64 \n",
      " 7   Horticulture               1174 non-null   int64 \n",
      " 8   Livestock_production       1174 non-null   int64 \n",
      " 9   Natural_Resources          1174 non-null   int64 \n",
      " 10  Plant_Protection           1174 non-null   int64 \n",
      "dtypes: int64(10), object(1)\n",
      "memory usage: 101.0+ KB\n"
     ]
    }
   ],
   "source": [
    "val_balanced = pd.concat([val_balanced,df9], ignore_index=True)\n",
    "val_balanced.info()"
   ]
  },
  {
   "cell_type": "code",
   "execution_count": null,
   "metadata": {
    "colab": {
     "base_uri": "https://localhost:8080/"
    },
    "executionInfo": {
     "elapsed": 344,
     "status": "ok",
     "timestamp": 1662844816044,
     "user": {
      "displayName": "Razan HL",
      "userId": "00189607576210306079"
     },
     "user_tz": -180
    },
    "id": "xqHBGMZ7INvB",
    "outputId": "2d775c1e-7c3b-49e3-cdee-294434780d85"
   },
   "outputs": [
    {
     "name": "stdout",
     "output_type": "stream",
     "text": [
      "<class 'pandas.core.frame.DataFrame'>\n",
      "Int64Index: 2342 entries, 0 to 3515\n",
      "Data columns (total 11 columns):\n",
      " #   Column                     Non-Null Count  Dtype \n",
      "---  ------                     --------------  ----- \n",
      " 0   ids                        2342 non-null   int64 \n",
      " 1   sp_text                    2342 non-null   object\n",
      " 2   Agricultural_Economics     2342 non-null   int64 \n",
      " 3   Agriculture_Biotechnology  2342 non-null   int64 \n",
      " 4   Crop_production            2342 non-null   int64 \n",
      " 5   Environmental_Sciences     2342 non-null   int64 \n",
      " 6   Food_Technology            2342 non-null   int64 \n",
      " 7   Horticulture               2342 non-null   int64 \n",
      " 8   Livestock_production       2342 non-null   int64 \n",
      " 9   Natural_Resources          2342 non-null   int64 \n",
      " 10  Plant_Protection           2342 non-null   int64 \n",
      "dtypes: int64(10), object(1)\n",
      "memory usage: 219.6+ KB\n"
     ]
    }
   ],
   "source": [
    "splited_val.drop(df9.index, inplace = True)\n",
    "splited_val.info()"
   ]
  },
  {
   "cell_type": "code",
   "execution_count": null,
   "metadata": {
    "colab": {
     "base_uri": "https://localhost:8080/"
    },
    "executionInfo": {
     "elapsed": 593,
     "status": "ok",
     "timestamp": 1662844818771,
     "user": {
      "displayName": "Razan HL",
      "userId": "00189607576210306079"
     },
     "user_tz": -180
    },
    "id": "1AAQkx3ZINvB",
    "outputId": "3ad82204-0b75-4838-ee12-a6d98aab0b62"
   },
   "outputs": [
    {
     "name": "stdout",
     "output_type": "stream",
     "text": [
      "0    1016\n",
      "1     158\n",
      "Name: Agricultural_Economics, dtype: int64 \n",
      "---\n",
      "0    1016\n",
      "1     158\n",
      "Name: Agriculture_Biotechnology, dtype: int64 \n",
      "---\n",
      "0    1016\n",
      "1     158\n",
      "Name: Crop_production, dtype: int64 \n",
      "---\n",
      "0    1016\n",
      "1     158\n",
      "Name: Environmental_Sciences, dtype: int64 \n",
      "---\n",
      "0    1016\n",
      "1     158\n",
      "Name: Food_Technology, dtype: int64 \n",
      "---\n",
      "0    1016\n",
      "1     158\n",
      "Name: Horticulture, dtype: int64 \n",
      "---\n",
      "0    1016\n",
      "1     158\n",
      "Name: Livestock_production, dtype: int64 \n",
      "---\n",
      "0    1016\n",
      "1     158\n",
      "Name: Natural_Resources, dtype: int64 \n",
      "---\n",
      "0    1016\n",
      "1     158\n",
      "Name: Plant_Protection, dtype: int64 \n",
      "---\n"
     ]
    }
   ],
   "source": [
    "# Balanced validation dataset\n",
    "print(val_balanced.Agricultural_Economics.value_counts(), '\\n---')\n",
    "print(val_balanced.Agriculture_Biotechnology.value_counts(), '\\n---')\n",
    "print(val_balanced.Crop_production.value_counts(), '\\n---')\n",
    "print(val_balanced.Environmental_Sciences.value_counts(), '\\n---')\n",
    "print(val_balanced.Food_Technology.value_counts(), '\\n---')\n",
    "print(val_balanced.Horticulture.value_counts(), '\\n---')\n",
    "print(val_balanced.Livestock_production.value_counts(), '\\n---')\n",
    "print(val_balanced.Natural_Resources.value_counts(), '\\n---')\n",
    "print(val_balanced.Plant_Protection.value_counts(), '\\n---')"
   ]
  },
  {
   "cell_type": "code",
   "execution_count": null,
   "metadata": {
    "id": "07dz7okWINvC"
   },
   "outputs": [],
   "source": [
    "val_balanced.to_csv('/content/drive/MyDrive/balanced_validation.csv', header= True)"
   ]
  },
  {
   "cell_type": "markdown",
   "metadata": {
    "id": "c0TDtdmfDuCL"
   },
   "source": [
    "# Oversampling (train set, validation set):"
   ]
  },
  {
   "cell_type": "code",
   "execution_count": null,
   "metadata": {
    "colab": {
     "base_uri": "https://localhost:8080/"
    },
    "executionInfo": {
     "elapsed": 470,
     "status": "ok",
     "timestamp": 1669196349025,
     "user": {
      "displayName": "Razan HL",
      "userId": "00189607576210306079"
     },
     "user_tz": -180
    },
    "id": "SY71p5nHe8-B",
    "outputId": "4ad7f766-b390-4451-ccf7-baeaba653403"
   },
   "outputs": [
    {
     "name": "stdout",
     "output_type": "stream",
     "text": [
      "1532 Agricultural_Economics\n",
      "446 Agriculture_Biotechnology\n",
      "2528 Crop_production\n",
      "1456 Environmental_Sciences\n",
      "739 Food_Technolog\n",
      "2308 Horticulture\n",
      "1035 Livestock_production\n",
      "2543 Natural_Resources\n",
      "1358 Plant_Protection\n"
     ]
    }
   ],
   "source": [
    "def print_catigories(my_dataset):\n",
    "  print(my_dataset.Agricultural_Economics.value_counts()[1], 'Agricultural_Economics')\n",
    "  print(my_dataset.Agriculture_Biotechnology.value_counts()[1], 'Agriculture_Biotechnology')\n",
    "  print(my_dataset.Crop_production.value_counts()[1],'Crop_production')\n",
    "  print(my_dataset.Environmental_Sciences.value_counts()[1], 'Environmental_Sciences')\n",
    "  print(my_dataset.Food_Technology.value_counts()[1], 'Food_Technolog')\n",
    "  print(my_dataset.Horticulture.value_counts()[1], 'Horticulture')\n",
    "  print(my_dataset.Livestock_production.value_counts()[1], 'Livestock_production')\n",
    "  print(my_dataset.Natural_Resources.value_counts()[1], 'Natural_Resources')\n",
    "  print(my_dataset.Plant_Protection.value_counts()[1], 'Plant_Protection')\n",
    "\n",
    "print_catigories(splited_train)\n",
    "# splited_train.groupby(['Agricultural_Economics']).sum().describe()"
   ]
  },
  {
   "cell_type": "code",
   "execution_count": null,
   "metadata": {
    "colab": {
     "base_uri": "https://localhost:8080/"
    },
    "executionInfo": {
     "elapsed": 569,
     "status": "ok",
     "timestamp": 1669197727118,
     "user": {
      "displayName": "Razan HL",
      "userId": "00189607576210306079"
     },
     "user_tz": -180
    },
    "id": "nDpHbn82DsXN",
    "outputId": "5511f156-f131-4a27-93e0-9052eb351f72"
   },
   "outputs": [
    {
     "data": {
      "text/html": [
       "\n",
       "  <div id=\"df-88a088a8-8c54-4a42-b3ee-43ee2313c686\">\n",
       "    <div class=\"colab-df-container\">\n",
       "      <div>\n",
       "<style scoped>\n",
       "    .dataframe tbody tr th:only-of-type {\n",
       "        vertical-align: middle;\n",
       "    }\n",
       "\n",
       "    .dataframe tbody tr th {\n",
       "        vertical-align: top;\n",
       "    }\n",
       "\n",
       "    .dataframe thead th {\n",
       "        text-align: right;\n",
       "    }\n",
       "</style>\n",
       "<table border=\"1\" class=\"dataframe\">\n",
       "  <thead>\n",
       "    <tr style=\"text-align: right;\">\n",
       "      <th></th>\n",
       "      <th>ids</th>\n",
       "      <th>Agricultural_Economics</th>\n",
       "      <th>Crop_production</th>\n",
       "      <th>Environmental_Sciences</th>\n",
       "      <th>Food_Technology</th>\n",
       "      <th>Horticulture</th>\n",
       "      <th>Livestock_production</th>\n",
       "      <th>Natural_Resources</th>\n",
       "      <th>Plant_Protection</th>\n",
       "    </tr>\n",
       "    <tr>\n",
       "      <th>Agriculture_Biotechnology</th>\n",
       "      <th></th>\n",
       "      <th></th>\n",
       "      <th></th>\n",
       "      <th></th>\n",
       "      <th></th>\n",
       "      <th></th>\n",
       "      <th></th>\n",
       "      <th></th>\n",
       "      <th></th>\n",
       "    </tr>\n",
       "  </thead>\n",
       "  <tbody>\n",
       "    <tr>\n",
       "      <th>1</th>\n",
       "      <td>154809</td>\n",
       "      <td>0</td>\n",
       "      <td>56</td>\n",
       "      <td>40</td>\n",
       "      <td>37</td>\n",
       "      <td>79</td>\n",
       "      <td>65</td>\n",
       "      <td>73</td>\n",
       "      <td>63</td>\n",
       "    </tr>\n",
       "  </tbody>\n",
       "</table>\n",
       "</div>\n",
       "      <button class=\"colab-df-convert\" onclick=\"convertToInteractive('df-88a088a8-8c54-4a42-b3ee-43ee2313c686')\"\n",
       "              title=\"Convert this dataframe to an interactive table.\"\n",
       "              style=\"display:none;\">\n",
       "        \n",
       "  <svg xmlns=\"http://www.w3.org/2000/svg\" height=\"24px\"viewBox=\"0 0 24 24\"\n",
       "       width=\"24px\">\n",
       "    <path d=\"M0 0h24v24H0V0z\" fill=\"none\"/>\n",
       "    <path d=\"M18.56 5.44l.94 2.06.94-2.06 2.06-.94-2.06-.94-.94-2.06-.94 2.06-2.06.94zm-11 1L8.5 8.5l.94-2.06 2.06-.94-2.06-.94L8.5 2.5l-.94 2.06-2.06.94zm10 10l.94 2.06.94-2.06 2.06-.94-2.06-.94-.94-2.06-.94 2.06-2.06.94z\"/><path d=\"M17.41 7.96l-1.37-1.37c-.4-.4-.92-.59-1.43-.59-.52 0-1.04.2-1.43.59L10.3 9.45l-7.72 7.72c-.78.78-.78 2.05 0 2.83L4 21.41c.39.39.9.59 1.41.59.51 0 1.02-.2 1.41-.59l7.78-7.78 2.81-2.81c.8-.78.8-2.07 0-2.86zM5.41 20L4 18.59l7.72-7.72 1.47 1.35L5.41 20z\"/>\n",
       "  </svg>\n",
       "      </button>\n",
       "      \n",
       "  <style>\n",
       "    .colab-df-container {\n",
       "      display:flex;\n",
       "      flex-wrap:wrap;\n",
       "      gap: 12px;\n",
       "    }\n",
       "\n",
       "    .colab-df-convert {\n",
       "      background-color: #E8F0FE;\n",
       "      border: none;\n",
       "      border-radius: 50%;\n",
       "      cursor: pointer;\n",
       "      display: none;\n",
       "      fill: #1967D2;\n",
       "      height: 32px;\n",
       "      padding: 0 0 0 0;\n",
       "      width: 32px;\n",
       "    }\n",
       "\n",
       "    .colab-df-convert:hover {\n",
       "      background-color: #E2EBFA;\n",
       "      box-shadow: 0px 1px 2px rgba(60, 64, 67, 0.3), 0px 1px 3px 1px rgba(60, 64, 67, 0.15);\n",
       "      fill: #174EA6;\n",
       "    }\n",
       "\n",
       "    [theme=dark] .colab-df-convert {\n",
       "      background-color: #3B4455;\n",
       "      fill: #D2E3FC;\n",
       "    }\n",
       "\n",
       "    [theme=dark] .colab-df-convert:hover {\n",
       "      background-color: #434B5C;\n",
       "      box-shadow: 0px 1px 3px 1px rgba(0, 0, 0, 0.15);\n",
       "      filter: drop-shadow(0px 1px 2px rgba(0, 0, 0, 0.3));\n",
       "      fill: #FFFFFF;\n",
       "    }\n",
       "  </style>\n",
       "\n",
       "      <script>\n",
       "        const buttonEl =\n",
       "          document.querySelector('#df-88a088a8-8c54-4a42-b3ee-43ee2313c686 button.colab-df-convert');\n",
       "        buttonEl.style.display =\n",
       "          google.colab.kernel.accessAllowed ? 'block' : 'none';\n",
       "\n",
       "        async function convertToInteractive(key) {\n",
       "          const element = document.querySelector('#df-88a088a8-8c54-4a42-b3ee-43ee2313c686');\n",
       "          const dataTable =\n",
       "            await google.colab.kernel.invokeFunction('convertToInteractive',\n",
       "                                                     [key], {});\n",
       "          if (!dataTable) return;\n",
       "\n",
       "          const docLinkHtml = 'Like what you see? Visit the ' +\n",
       "            '<a target=\"_blank\" href=https://colab.research.google.com/notebooks/data_table.ipynb>data table notebook</a>'\n",
       "            + ' to learn more about interactive tables.';\n",
       "          element.innerHTML = '';\n",
       "          dataTable['output_type'] = 'display_data';\n",
       "          await google.colab.output.renderOutput(dataTable, element);\n",
       "          const docLink = document.createElement('div');\n",
       "          docLink.innerHTML = docLinkHtml;\n",
       "          element.appendChild(docLink);\n",
       "        }\n",
       "      </script>\n",
       "    </div>\n",
       "  </div>\n",
       "  "
      ],
      "text/plain": [
       "                              ids  Agricultural_Economics  Crop_production  \\\n",
       "Agriculture_Biotechnology                                                    \n",
       "1                          154809                       0               56   \n",
       "\n",
       "                           Environmental_Sciences  Food_Technology  \\\n",
       "Agriculture_Biotechnology                                            \n",
       "1                                              40               37   \n",
       "\n",
       "                           Horticulture  Livestock_production  \\\n",
       "Agriculture_Biotechnology                                       \n",
       "1                                    79                    65   \n",
       "\n",
       "                           Natural_Resources  Plant_Protection  \n",
       "Agriculture_Biotechnology                                       \n",
       "1                                         73                63  "
      ]
     },
     "execution_count": 128,
     "metadata": {},
     "output_type": "execute_result"
    }
   ],
   "source": [
    "df1 = splited_train[splited_train['Agriculture_Biotechnology'] == 1]\n",
    "df1.groupby(['Agriculture_Biotechnology']).sum()"
   ]
  },
  {
   "cell_type": "code",
   "execution_count": null,
   "metadata": {
    "colab": {
     "base_uri": "https://localhost:8080/"
    },
    "executionInfo": {
     "elapsed": 499,
     "status": "ok",
     "timestamp": 1669196987172,
     "user": {
      "displayName": "Razan HL",
      "userId": "00189607576210306079"
     },
     "user_tz": -180
    },
    "id": "SYeY3G-d2Mdx",
    "outputId": "46a5aa84-800f-493a-d3ae-22d4cc19aacb"
   },
   "outputs": [
    {
     "name": "stdout",
     "output_type": "stream",
     "text": [
      "<class 'pandas.core.frame.DataFrame'>\n",
      "Int64Index: 317 entries, 103 to 10751\n",
      "Data columns (total 11 columns):\n",
      " #   Column                     Non-Null Count  Dtype \n",
      "---  ------                     --------------  ----- \n",
      " 0   ids                        317 non-null    int64 \n",
      " 1   sp_text                    317 non-null    object\n",
      " 2   Agricultural_Economics     317 non-null    int64 \n",
      " 3   Agriculture_Biotechnology  317 non-null    int64 \n",
      " 4   Crop_production            317 non-null    int64 \n",
      " 5   Environmental_Sciences     317 non-null    int64 \n",
      " 6   Food_Technology            317 non-null    int64 \n",
      " 7   Horticulture               317 non-null    int64 \n",
      " 8   Livestock_production       317 non-null    int64 \n",
      " 9   Natural_Resources          317 non-null    int64 \n",
      " 10  Plant_Protection           317 non-null    int64 \n",
      "dtypes: int64(10), object(1)\n",
      "memory usage: 29.7+ KB\n"
     ]
    }
   ],
   "source": [
    "df1 = df1[df1['Natural_Resources'] == 0]\n",
    "df1 = df1[df1['Crop_production'] == 0]\n",
    "df1.info()"
   ]
  },
  {
   "cell_type": "code",
   "execution_count": null,
   "metadata": {
    "id": "3VHKy6q92MQS"
   },
   "outputs": [],
   "source": [
    "df1 = df1.sample(n= (2500 - 450) , replace=True)\n"
   ]
  },
  {
   "cell_type": "code",
   "execution_count": null,
   "metadata": {
    "colab": {
     "base_uri": "https://localhost:8080/"
    },
    "executionInfo": {
     "elapsed": 10,
     "status": "ok",
     "timestamp": 1669197738856,
     "user": {
      "displayName": "Razan HL",
      "userId": "00189607576210306079"
     },
     "user_tz": -180
    },
    "id": "2etvwPi_2MMf",
    "outputId": "70666fda-d254-4111-90d3-dfc89054da40"
   },
   "outputs": [
    {
     "name": "stdout",
     "output_type": "stream",
     "text": [
      "<class 'pandas.core.frame.DataFrame'>\n",
      "Int64Index: 12808 entries, 0 to 2290\n",
      "Data columns (total 11 columns):\n",
      " #   Column                     Non-Null Count  Dtype \n",
      "---  ------                     --------------  ----- \n",
      " 0   ids                        12808 non-null  int64 \n",
      " 1   sp_text                    12808 non-null  object\n",
      " 2   Agricultural_Economics     12808 non-null  int64 \n",
      " 3   Agriculture_Biotechnology  12808 non-null  int64 \n",
      " 4   Crop_production            12808 non-null  int64 \n",
      " 5   Environmental_Sciences     12808 non-null  int64 \n",
      " 6   Food_Technology            12808 non-null  int64 \n",
      " 7   Horticulture               12808 non-null  int64 \n",
      " 8   Livestock_production       12808 non-null  int64 \n",
      " 9   Natural_Resources          12808 non-null  int64 \n",
      " 10  Plant_Protection           12808 non-null  int64 \n",
      "dtypes: int64(10), object(1)\n",
      "memory usage: 1.2+ MB\n"
     ]
    }
   ],
   "source": [
    "my_dataset = pd.concat([splited_train,df1], axis= 0)\n",
    "my_dataset.info()"
   ]
  },
  {
   "cell_type": "code",
   "execution_count": null,
   "metadata": {
    "colab": {
     "base_uri": "https://localhost:8080/"
    },
    "executionInfo": {
     "elapsed": 739,
     "status": "ok",
     "timestamp": 1669197743459,
     "user": {
      "displayName": "Razan HL",
      "userId": "00189607576210306079"
     },
     "user_tz": -180
    },
    "id": "eSZ_bvpF2MJU",
    "outputId": "394227c0-24d0-4ce3-fb50-ff580a92e0f7"
   },
   "outputs": [
    {
     "name": "stdout",
     "output_type": "stream",
     "text": [
      "1532 Agricultural_Economics\n",
      "2496 Agriculture_Biotechnology\n",
      "2796 Crop_production\n",
      "1624 Environmental_Sciences\n",
      "915 Food_Technolog\n",
      "2669 Horticulture\n",
      "1343 Livestock_production\n",
      "2851 Natural_Resources\n",
      "1631 Plant_Protection\n"
     ]
    }
   ],
   "source": [
    "print_catigories(my_dataset)"
   ]
  },
  {
   "cell_type": "code",
   "execution_count": null,
   "metadata": {
    "colab": {
     "base_uri": "https://localhost:8080/"
    },
    "executionInfo": {
     "elapsed": 719,
     "status": "ok",
     "timestamp": 1669197771682,
     "user": {
      "displayName": "Razan HL",
      "userId": "00189607576210306079"
     },
     "user_tz": -180
    },
    "id": "HrEm-YDB2MDh",
    "outputId": "df664b3f-5a9e-4c83-f6da-91a5cc157002"
   },
   "outputs": [
    {
     "data": {
      "text/html": [
       "\n",
       "  <div id=\"df-8f839e21-cde4-44bb-a54c-aa6ca1869a74\">\n",
       "    <div class=\"colab-df-container\">\n",
       "      <div>\n",
       "<style scoped>\n",
       "    .dataframe tbody tr th:only-of-type {\n",
       "        vertical-align: middle;\n",
       "    }\n",
       "\n",
       "    .dataframe tbody tr th {\n",
       "        vertical-align: top;\n",
       "    }\n",
       "\n",
       "    .dataframe thead th {\n",
       "        text-align: right;\n",
       "    }\n",
       "</style>\n",
       "<table border=\"1\" class=\"dataframe\">\n",
       "  <thead>\n",
       "    <tr style=\"text-align: right;\">\n",
       "      <th></th>\n",
       "      <th>ids</th>\n",
       "      <th>Agricultural_Economics</th>\n",
       "      <th>Agriculture_Biotechnology</th>\n",
       "      <th>Crop_production</th>\n",
       "      <th>Environmental_Sciences</th>\n",
       "      <th>Food_Technology</th>\n",
       "      <th>Horticulture</th>\n",
       "      <th>Natural_Resources</th>\n",
       "      <th>Plant_Protection</th>\n",
       "    </tr>\n",
       "    <tr>\n",
       "      <th>Livestock_production</th>\n",
       "      <th></th>\n",
       "      <th></th>\n",
       "      <th></th>\n",
       "      <th></th>\n",
       "      <th></th>\n",
       "      <th></th>\n",
       "      <th></th>\n",
       "      <th></th>\n",
       "      <th></th>\n",
       "    </tr>\n",
       "  </thead>\n",
       "  <tbody>\n",
       "    <tr>\n",
       "      <th>1</th>\n",
       "      <td>313923</td>\n",
       "      <td>0</td>\n",
       "      <td>65</td>\n",
       "      <td>0</td>\n",
       "      <td>18</td>\n",
       "      <td>0</td>\n",
       "      <td>0</td>\n",
       "      <td>0</td>\n",
       "      <td>0</td>\n",
       "    </tr>\n",
       "  </tbody>\n",
       "</table>\n",
       "</div>\n",
       "      <button class=\"colab-df-convert\" onclick=\"convertToInteractive('df-8f839e21-cde4-44bb-a54c-aa6ca1869a74')\"\n",
       "              title=\"Convert this dataframe to an interactive table.\"\n",
       "              style=\"display:none;\">\n",
       "        \n",
       "  <svg xmlns=\"http://www.w3.org/2000/svg\" height=\"24px\"viewBox=\"0 0 24 24\"\n",
       "       width=\"24px\">\n",
       "    <path d=\"M0 0h24v24H0V0z\" fill=\"none\"/>\n",
       "    <path d=\"M18.56 5.44l.94 2.06.94-2.06 2.06-.94-2.06-.94-.94-2.06-.94 2.06-2.06.94zm-11 1L8.5 8.5l.94-2.06 2.06-.94-2.06-.94L8.5 2.5l-.94 2.06-2.06.94zm10 10l.94 2.06.94-2.06 2.06-.94-2.06-.94-.94-2.06-.94 2.06-2.06.94z\"/><path d=\"M17.41 7.96l-1.37-1.37c-.4-.4-.92-.59-1.43-.59-.52 0-1.04.2-1.43.59L10.3 9.45l-7.72 7.72c-.78.78-.78 2.05 0 2.83L4 21.41c.39.39.9.59 1.41.59.51 0 1.02-.2 1.41-.59l7.78-7.78 2.81-2.81c.8-.78.8-2.07 0-2.86zM5.41 20L4 18.59l7.72-7.72 1.47 1.35L5.41 20z\"/>\n",
       "  </svg>\n",
       "      </button>\n",
       "      \n",
       "  <style>\n",
       "    .colab-df-container {\n",
       "      display:flex;\n",
       "      flex-wrap:wrap;\n",
       "      gap: 12px;\n",
       "    }\n",
       "\n",
       "    .colab-df-convert {\n",
       "      background-color: #E8F0FE;\n",
       "      border: none;\n",
       "      border-radius: 50%;\n",
       "      cursor: pointer;\n",
       "      display: none;\n",
       "      fill: #1967D2;\n",
       "      height: 32px;\n",
       "      padding: 0 0 0 0;\n",
       "      width: 32px;\n",
       "    }\n",
       "\n",
       "    .colab-df-convert:hover {\n",
       "      background-color: #E2EBFA;\n",
       "      box-shadow: 0px 1px 2px rgba(60, 64, 67, 0.3), 0px 1px 3px 1px rgba(60, 64, 67, 0.15);\n",
       "      fill: #174EA6;\n",
       "    }\n",
       "\n",
       "    [theme=dark] .colab-df-convert {\n",
       "      background-color: #3B4455;\n",
       "      fill: #D2E3FC;\n",
       "    }\n",
       "\n",
       "    [theme=dark] .colab-df-convert:hover {\n",
       "      background-color: #434B5C;\n",
       "      box-shadow: 0px 1px 3px 1px rgba(0, 0, 0, 0.15);\n",
       "      filter: drop-shadow(0px 1px 2px rgba(0, 0, 0, 0.3));\n",
       "      fill: #FFFFFF;\n",
       "    }\n",
       "  </style>\n",
       "\n",
       "      <script>\n",
       "        const buttonEl =\n",
       "          document.querySelector('#df-8f839e21-cde4-44bb-a54c-aa6ca1869a74 button.colab-df-convert');\n",
       "        buttonEl.style.display =\n",
       "          google.colab.kernel.accessAllowed ? 'block' : 'none';\n",
       "\n",
       "        async function convertToInteractive(key) {\n",
       "          const element = document.querySelector('#df-8f839e21-cde4-44bb-a54c-aa6ca1869a74');\n",
       "          const dataTable =\n",
       "            await google.colab.kernel.invokeFunction('convertToInteractive',\n",
       "                                                     [key], {});\n",
       "          if (!dataTable) return;\n",
       "\n",
       "          const docLinkHtml = 'Like what you see? Visit the ' +\n",
       "            '<a target=\"_blank\" href=https://colab.research.google.com/notebooks/data_table.ipynb>data table notebook</a>'\n",
       "            + ' to learn more about interactive tables.';\n",
       "          element.innerHTML = '';\n",
       "          dataTable['output_type'] = 'display_data';\n",
       "          await google.colab.output.renderOutput(dataTable, element);\n",
       "          const docLink = document.createElement('div');\n",
       "          docLink.innerHTML = docLinkHtml;\n",
       "          element.appendChild(docLink);\n",
       "        }\n",
       "      </script>\n",
       "    </div>\n",
       "  </div>\n",
       "  "
      ],
      "text/plain": [
       "                         ids  Agricultural_Economics  \\\n",
       "Livestock_production                                   \n",
       "1                     313923                       0   \n",
       "\n",
       "                      Agriculture_Biotechnology  Crop_production  \\\n",
       "Livestock_production                                               \n",
       "1                                            65                0   \n",
       "\n",
       "                      Environmental_Sciences  Food_Technology  Horticulture  \\\n",
       "Livestock_production                                                          \n",
       "1                                         18                0             0   \n",
       "\n",
       "                      Natural_Resources  Plant_Protection  \n",
       "Livestock_production                                       \n",
       "1                                     0                 0  "
      ]
     },
     "execution_count": 132,
     "metadata": {},
     "output_type": "execute_result"
    }
   ],
   "source": [
    "df1 = splited_train[splited_train['Livestock_production'] == 1]\n",
    "df1.groupby(['Livestock_production']).sum()"
   ]
  },
  {
   "cell_type": "code",
   "execution_count": null,
   "metadata": {
    "colab": {
     "base_uri": "https://localhost:8080/"
    },
    "executionInfo": {
     "elapsed": 398,
     "status": "ok",
     "timestamp": 1669197780743,
     "user": {
      "displayName": "Razan HL",
      "userId": "00189607576210306079"
     },
     "user_tz": -180
    },
    "id": "daDvuNyT2MAK",
    "outputId": "a7fc7082-3bf5-452d-8e04-8bfb6939b37f"
   },
   "outputs": [
    {
     "name": "stdout",
     "output_type": "stream",
     "text": [
      "1532 Agricultural_Economics\n",
      "2567 Agriculture_Biotechnology\n",
      "2796 Crop_production\n",
      "1639 Environmental_Sciences\n",
      "915 Food_Technolog\n",
      "2669 Horticulture\n",
      "2493 Livestock_production\n",
      "2851 Natural_Resources\n",
      "1631 Plant_Protection\n"
     ]
    }
   ],
   "source": [
    "df1 = df1.sample(n= (2550 - 1400), replace=True)\n",
    "my_dataset = pd.concat([my_dataset,df1], axis= 0)\n",
    "print_catigories(my_dataset)"
   ]
  },
  {
   "cell_type": "code",
   "execution_count": null,
   "metadata": {
    "colab": {
     "base_uri": "https://localhost:8080/"
    },
    "executionInfo": {
     "elapsed": 524,
     "status": "ok",
     "timestamp": 1669197794682,
     "user": {
      "displayName": "Razan HL",
      "userId": "00189607576210306079"
     },
     "user_tz": -180
    },
    "id": "5mNaFyFG5qF4",
    "outputId": "f47216bb-0b4f-40ee-94c9-35ecb51620f7"
   },
   "outputs": [
    {
     "data": {
      "text/html": [
       "\n",
       "  <div id=\"df-43391a75-7053-43b4-8d6f-17ea59bed35e\">\n",
       "    <div class=\"colab-df-container\">\n",
       "      <div>\n",
       "<style scoped>\n",
       "    .dataframe tbody tr th:only-of-type {\n",
       "        vertical-align: middle;\n",
       "    }\n",
       "\n",
       "    .dataframe tbody tr th {\n",
       "        vertical-align: top;\n",
       "    }\n",
       "\n",
       "    .dataframe thead th {\n",
       "        text-align: right;\n",
       "    }\n",
       "</style>\n",
       "<table border=\"1\" class=\"dataframe\">\n",
       "  <thead>\n",
       "    <tr style=\"text-align: right;\">\n",
       "      <th></th>\n",
       "      <th>ids</th>\n",
       "      <th>Agricultural_Economics</th>\n",
       "      <th>Agriculture_Biotechnology</th>\n",
       "      <th>Crop_production</th>\n",
       "      <th>Environmental_Sciences</th>\n",
       "      <th>Horticulture</th>\n",
       "      <th>Livestock_production</th>\n",
       "      <th>Natural_Resources</th>\n",
       "      <th>Plant_Protection</th>\n",
       "    </tr>\n",
       "    <tr>\n",
       "      <th>Food_Technology</th>\n",
       "      <th></th>\n",
       "      <th></th>\n",
       "      <th></th>\n",
       "      <th></th>\n",
       "      <th></th>\n",
       "      <th></th>\n",
       "      <th></th>\n",
       "      <th></th>\n",
       "      <th></th>\n",
       "    </tr>\n",
       "  </thead>\n",
       "  <tbody>\n",
       "    <tr>\n",
       "      <th>1</th>\n",
       "      <td>239623</td>\n",
       "      <td>0</td>\n",
       "      <td>37</td>\n",
       "      <td>16</td>\n",
       "      <td>20</td>\n",
       "      <td>21</td>\n",
       "      <td>0</td>\n",
       "      <td>21</td>\n",
       "      <td>0</td>\n",
       "    </tr>\n",
       "  </tbody>\n",
       "</table>\n",
       "</div>\n",
       "      <button class=\"colab-df-convert\" onclick=\"convertToInteractive('df-43391a75-7053-43b4-8d6f-17ea59bed35e')\"\n",
       "              title=\"Convert this dataframe to an interactive table.\"\n",
       "              style=\"display:none;\">\n",
       "        \n",
       "  <svg xmlns=\"http://www.w3.org/2000/svg\" height=\"24px\"viewBox=\"0 0 24 24\"\n",
       "       width=\"24px\">\n",
       "    <path d=\"M0 0h24v24H0V0z\" fill=\"none\"/>\n",
       "    <path d=\"M18.56 5.44l.94 2.06.94-2.06 2.06-.94-2.06-.94-.94-2.06-.94 2.06-2.06.94zm-11 1L8.5 8.5l.94-2.06 2.06-.94-2.06-.94L8.5 2.5l-.94 2.06-2.06.94zm10 10l.94 2.06.94-2.06 2.06-.94-2.06-.94-.94-2.06-.94 2.06-2.06.94z\"/><path d=\"M17.41 7.96l-1.37-1.37c-.4-.4-.92-.59-1.43-.59-.52 0-1.04.2-1.43.59L10.3 9.45l-7.72 7.72c-.78.78-.78 2.05 0 2.83L4 21.41c.39.39.9.59 1.41.59.51 0 1.02-.2 1.41-.59l7.78-7.78 2.81-2.81c.8-.78.8-2.07 0-2.86zM5.41 20L4 18.59l7.72-7.72 1.47 1.35L5.41 20z\"/>\n",
       "  </svg>\n",
       "      </button>\n",
       "      \n",
       "  <style>\n",
       "    .colab-df-container {\n",
       "      display:flex;\n",
       "      flex-wrap:wrap;\n",
       "      gap: 12px;\n",
       "    }\n",
       "\n",
       "    .colab-df-convert {\n",
       "      background-color: #E8F0FE;\n",
       "      border: none;\n",
       "      border-radius: 50%;\n",
       "      cursor: pointer;\n",
       "      display: none;\n",
       "      fill: #1967D2;\n",
       "      height: 32px;\n",
       "      padding: 0 0 0 0;\n",
       "      width: 32px;\n",
       "    }\n",
       "\n",
       "    .colab-df-convert:hover {\n",
       "      background-color: #E2EBFA;\n",
       "      box-shadow: 0px 1px 2px rgba(60, 64, 67, 0.3), 0px 1px 3px 1px rgba(60, 64, 67, 0.15);\n",
       "      fill: #174EA6;\n",
       "    }\n",
       "\n",
       "    [theme=dark] .colab-df-convert {\n",
       "      background-color: #3B4455;\n",
       "      fill: #D2E3FC;\n",
       "    }\n",
       "\n",
       "    [theme=dark] .colab-df-convert:hover {\n",
       "      background-color: #434B5C;\n",
       "      box-shadow: 0px 1px 3px 1px rgba(0, 0, 0, 0.15);\n",
       "      filter: drop-shadow(0px 1px 2px rgba(0, 0, 0, 0.3));\n",
       "      fill: #FFFFFF;\n",
       "    }\n",
       "  </style>\n",
       "\n",
       "      <script>\n",
       "        const buttonEl =\n",
       "          document.querySelector('#df-43391a75-7053-43b4-8d6f-17ea59bed35e button.colab-df-convert');\n",
       "        buttonEl.style.display =\n",
       "          google.colab.kernel.accessAllowed ? 'block' : 'none';\n",
       "\n",
       "        async function convertToInteractive(key) {\n",
       "          const element = document.querySelector('#df-43391a75-7053-43b4-8d6f-17ea59bed35e');\n",
       "          const dataTable =\n",
       "            await google.colab.kernel.invokeFunction('convertToInteractive',\n",
       "                                                     [key], {});\n",
       "          if (!dataTable) return;\n",
       "\n",
       "          const docLinkHtml = 'Like what you see? Visit the ' +\n",
       "            '<a target=\"_blank\" href=https://colab.research.google.com/notebooks/data_table.ipynb>data table notebook</a>'\n",
       "            + ' to learn more about interactive tables.';\n",
       "          element.innerHTML = '';\n",
       "          dataTable['output_type'] = 'display_data';\n",
       "          await google.colab.output.renderOutput(dataTable, element);\n",
       "          const docLink = document.createElement('div');\n",
       "          docLink.innerHTML = docLinkHtml;\n",
       "          element.appendChild(docLink);\n",
       "        }\n",
       "      </script>\n",
       "    </div>\n",
       "  </div>\n",
       "  "
      ],
      "text/plain": [
       "                    ids  Agricultural_Economics  Agriculture_Biotechnology  \\\n",
       "Food_Technology                                                              \n",
       "1                239623                       0                         37   \n",
       "\n",
       "                 Crop_production  Environmental_Sciences  Horticulture  \\\n",
       "Food_Technology                                                          \n",
       "1                             16                      20            21   \n",
       "\n",
       "                 Livestock_production  Natural_Resources  Plant_Protection  \n",
       "Food_Technology                                                             \n",
       "1                                   0                 21                 0  "
      ]
     },
     "execution_count": 134,
     "metadata": {},
     "output_type": "execute_result"
    }
   ],
   "source": [
    "df1 = splited_train[splited_train['Food_Technology'] == 1]\n",
    "df1.groupby(['Food_Technology']).sum()"
   ]
  },
  {
   "cell_type": "code",
   "execution_count": null,
   "metadata": {
    "id": "-8dXgs6b5p__"
   },
   "outputs": [],
   "source": [
    "df1 = df1[df1['Natural_Resources'] == 0]\n",
    "df1 = df1[df1['Crop_production'] == 0]\n",
    "df1 = df1[df1['Horticulture'] == 0]\n",
    "df1 = df1[df1['Livestock_production'] == 0]"
   ]
  },
  {
   "cell_type": "code",
   "execution_count": null,
   "metadata": {
    "colab": {
     "base_uri": "https://localhost:8080/"
    },
    "executionInfo": {
     "elapsed": 8,
     "status": "ok",
     "timestamp": 1669197801362,
     "user": {
      "displayName": "Razan HL",
      "userId": "00189607576210306079"
     },
     "user_tz": -180
    },
    "id": "1Kj5KD195p8w",
    "outputId": "8bd9caa7-217b-4de7-b208-389bd84bfe60"
   },
   "outputs": [
    {
     "name": "stdout",
     "output_type": "stream",
     "text": [
      "1532 Agricultural_Economics\n",
      "2651 Agriculture_Biotechnology\n",
      "2796 Crop_production\n",
      "1686 Environmental_Sciences\n",
      "2465 Food_Technolog\n",
      "2669 Horticulture\n",
      "2493 Livestock_production\n",
      "2851 Natural_Resources\n",
      "1631 Plant_Protection\n"
     ]
    }
   ],
   "source": [
    "df1 = df1.sample(n= (2550 -1000), replace=True)\n",
    "my_dataset = pd.concat([my_dataset,df1], axis= 0)\n",
    "print_catigories(my_dataset)"
   ]
  },
  {
   "cell_type": "code",
   "execution_count": null,
   "metadata": {
    "colab": {
     "base_uri": "https://localhost:8080/"
    },
    "executionInfo": {
     "elapsed": 411,
     "status": "ok",
     "timestamp": 1669197822994,
     "user": {
      "displayName": "Razan HL",
      "userId": "00189607576210306079"
     },
     "user_tz": -180
    },
    "id": "BpjlCBiZ2L9S",
    "outputId": "57812376-ee2e-4de3-db54-095143da5f54"
   },
   "outputs": [
    {
     "data": {
      "text/html": [
       "\n",
       "  <div id=\"df-9a031cf6-d03f-4cf9-b4a2-f830659ec1bb\">\n",
       "    <div class=\"colab-df-container\">\n",
       "      <div>\n",
       "<style scoped>\n",
       "    .dataframe tbody tr th:only-of-type {\n",
       "        vertical-align: middle;\n",
       "    }\n",
       "\n",
       "    .dataframe tbody tr th {\n",
       "        vertical-align: top;\n",
       "    }\n",
       "\n",
       "    .dataframe thead th {\n",
       "        text-align: right;\n",
       "    }\n",
       "</style>\n",
       "<table border=\"1\" class=\"dataframe\">\n",
       "  <thead>\n",
       "    <tr style=\"text-align: right;\">\n",
       "      <th></th>\n",
       "      <th>ids</th>\n",
       "      <th>Agricultural_Economics</th>\n",
       "      <th>Agriculture_Biotechnology</th>\n",
       "      <th>Crop_production</th>\n",
       "      <th>Environmental_Sciences</th>\n",
       "      <th>Food_Technology</th>\n",
       "      <th>Horticulture</th>\n",
       "      <th>Livestock_production</th>\n",
       "      <th>Natural_Resources</th>\n",
       "    </tr>\n",
       "    <tr>\n",
       "      <th>Plant_Protection</th>\n",
       "      <th></th>\n",
       "      <th></th>\n",
       "      <th></th>\n",
       "      <th></th>\n",
       "      <th></th>\n",
       "      <th></th>\n",
       "      <th></th>\n",
       "      <th></th>\n",
       "      <th></th>\n",
       "    </tr>\n",
       "  </thead>\n",
       "  <tbody>\n",
       "    <tr>\n",
       "      <th>1</th>\n",
       "      <td>494560</td>\n",
       "      <td>0</td>\n",
       "      <td>63</td>\n",
       "      <td>195</td>\n",
       "      <td>39</td>\n",
       "      <td>0</td>\n",
       "      <td>269</td>\n",
       "      <td>0</td>\n",
       "      <td>0</td>\n",
       "    </tr>\n",
       "  </tbody>\n",
       "</table>\n",
       "</div>\n",
       "      <button class=\"colab-df-convert\" onclick=\"convertToInteractive('df-9a031cf6-d03f-4cf9-b4a2-f830659ec1bb')\"\n",
       "              title=\"Convert this dataframe to an interactive table.\"\n",
       "              style=\"display:none;\">\n",
       "        \n",
       "  <svg xmlns=\"http://www.w3.org/2000/svg\" height=\"24px\"viewBox=\"0 0 24 24\"\n",
       "       width=\"24px\">\n",
       "    <path d=\"M0 0h24v24H0V0z\" fill=\"none\"/>\n",
       "    <path d=\"M18.56 5.44l.94 2.06.94-2.06 2.06-.94-2.06-.94-.94-2.06-.94 2.06-2.06.94zm-11 1L8.5 8.5l.94-2.06 2.06-.94-2.06-.94L8.5 2.5l-.94 2.06-2.06.94zm10 10l.94 2.06.94-2.06 2.06-.94-2.06-.94-.94-2.06-.94 2.06-2.06.94z\"/><path d=\"M17.41 7.96l-1.37-1.37c-.4-.4-.92-.59-1.43-.59-.52 0-1.04.2-1.43.59L10.3 9.45l-7.72 7.72c-.78.78-.78 2.05 0 2.83L4 21.41c.39.39.9.59 1.41.59.51 0 1.02-.2 1.41-.59l7.78-7.78 2.81-2.81c.8-.78.8-2.07 0-2.86zM5.41 20L4 18.59l7.72-7.72 1.47 1.35L5.41 20z\"/>\n",
       "  </svg>\n",
       "      </button>\n",
       "      \n",
       "  <style>\n",
       "    .colab-df-container {\n",
       "      display:flex;\n",
       "      flex-wrap:wrap;\n",
       "      gap: 12px;\n",
       "    }\n",
       "\n",
       "    .colab-df-convert {\n",
       "      background-color: #E8F0FE;\n",
       "      border: none;\n",
       "      border-radius: 50%;\n",
       "      cursor: pointer;\n",
       "      display: none;\n",
       "      fill: #1967D2;\n",
       "      height: 32px;\n",
       "      padding: 0 0 0 0;\n",
       "      width: 32px;\n",
       "    }\n",
       "\n",
       "    .colab-df-convert:hover {\n",
       "      background-color: #E2EBFA;\n",
       "      box-shadow: 0px 1px 2px rgba(60, 64, 67, 0.3), 0px 1px 3px 1px rgba(60, 64, 67, 0.15);\n",
       "      fill: #174EA6;\n",
       "    }\n",
       "\n",
       "    [theme=dark] .colab-df-convert {\n",
       "      background-color: #3B4455;\n",
       "      fill: #D2E3FC;\n",
       "    }\n",
       "\n",
       "    [theme=dark] .colab-df-convert:hover {\n",
       "      background-color: #434B5C;\n",
       "      box-shadow: 0px 1px 3px 1px rgba(0, 0, 0, 0.15);\n",
       "      filter: drop-shadow(0px 1px 2px rgba(0, 0, 0, 0.3));\n",
       "      fill: #FFFFFF;\n",
       "    }\n",
       "  </style>\n",
       "\n",
       "      <script>\n",
       "        const buttonEl =\n",
       "          document.querySelector('#df-9a031cf6-d03f-4cf9-b4a2-f830659ec1bb button.colab-df-convert');\n",
       "        buttonEl.style.display =\n",
       "          google.colab.kernel.accessAllowed ? 'block' : 'none';\n",
       "\n",
       "        async function convertToInteractive(key) {\n",
       "          const element = document.querySelector('#df-9a031cf6-d03f-4cf9-b4a2-f830659ec1bb');\n",
       "          const dataTable =\n",
       "            await google.colab.kernel.invokeFunction('convertToInteractive',\n",
       "                                                     [key], {});\n",
       "          if (!dataTable) return;\n",
       "\n",
       "          const docLinkHtml = 'Like what you see? Visit the ' +\n",
       "            '<a target=\"_blank\" href=https://colab.research.google.com/notebooks/data_table.ipynb>data table notebook</a>'\n",
       "            + ' to learn more about interactive tables.';\n",
       "          element.innerHTML = '';\n",
       "          dataTable['output_type'] = 'display_data';\n",
       "          await google.colab.output.renderOutput(dataTable, element);\n",
       "          const docLink = document.createElement('div');\n",
       "          docLink.innerHTML = docLinkHtml;\n",
       "          element.appendChild(docLink);\n",
       "        }\n",
       "      </script>\n",
       "    </div>\n",
       "  </div>\n",
       "  "
      ],
      "text/plain": [
       "                     ids  Agricultural_Economics  Agriculture_Biotechnology  \\\n",
       "Plant_Protection                                                              \n",
       "1                 494560                       0                         63   \n",
       "\n",
       "                  Crop_production  Environmental_Sciences  Food_Technology  \\\n",
       "Plant_Protection                                                             \n",
       "1                             195                      39                0   \n",
       "\n",
       "                  Horticulture  Livestock_production  Natural_Resources  \n",
       "Plant_Protection                                                         \n",
       "1                          269                     0                  0  "
      ]
     },
     "execution_count": 137,
     "metadata": {},
     "output_type": "execute_result"
    }
   ],
   "source": [
    "df1 = splited_train[splited_train['Plant_Protection'] == 1]\n",
    "df1.groupby(['Plant_Protection']).sum()"
   ]
  },
  {
   "cell_type": "code",
   "execution_count": null,
   "metadata": {
    "id": "bLHZVdWA9znf"
   },
   "outputs": [],
   "source": [
    "df1 = df1[df1['Natural_Resources'] == 0]\n",
    "df1 = df1[df1['Crop_production'] == 0]\n",
    "df1 = df1[df1['Horticulture'] == 0]\n",
    "df1 = df1[df1['Agriculture_Biotechnology'] == 0]"
   ]
  },
  {
   "cell_type": "code",
   "execution_count": null,
   "metadata": {
    "colab": {
     "base_uri": "https://localhost:8080/"
    },
    "executionInfo": {
     "elapsed": 1353,
     "status": "ok",
     "timestamp": 1669197833738,
     "user": {
      "displayName": "Razan HL",
      "userId": "00189607576210306079"
     },
     "user_tz": -180
    },
    "id": "FDx7fOJO9zjJ",
    "outputId": "d812974c-74c9-496d-b12e-1c9d06086a53"
   },
   "outputs": [
    {
     "name": "stdout",
     "output_type": "stream",
     "text": [
      "1532 Agricultural_Economics\n",
      "2651 Agriculture_Biotechnology\n",
      "2796 Crop_production\n",
      "1724 Environmental_Sciences\n",
      "2465 Food_Technolog\n",
      "2669 Horticulture\n",
      "2493 Livestock_production\n",
      "2851 Natural_Resources\n",
      "2411 Plant_Protection\n"
     ]
    }
   ],
   "source": [
    "df1 = df1.sample(n= (2550 -1770), replace=True)\n",
    "my_dataset = pd.concat([my_dataset,df1], axis= 0)\n",
    "print_catigories(my_dataset)"
   ]
  },
  {
   "cell_type": "code",
   "execution_count": null,
   "metadata": {
    "colab": {
     "base_uri": "https://localhost:8080/"
    },
    "executionInfo": {
     "elapsed": 1333,
     "status": "ok",
     "timestamp": 1669197851951,
     "user": {
      "displayName": "Razan HL",
      "userId": "00189607576210306079"
     },
     "user_tz": -180
    },
    "id": "GZyZPJUu-DeU",
    "outputId": "b204f6a1-f5fd-459d-8361-a21f544a1de0"
   },
   "outputs": [
    {
     "data": {
      "text/html": [
       "\n",
       "  <div id=\"df-abdc49bb-8643-4984-a4f1-7449ded82d00\">\n",
       "    <div class=\"colab-df-container\">\n",
       "      <div>\n",
       "<style scoped>\n",
       "    .dataframe tbody tr th:only-of-type {\n",
       "        vertical-align: middle;\n",
       "    }\n",
       "\n",
       "    .dataframe tbody tr th {\n",
       "        vertical-align: top;\n",
       "    }\n",
       "\n",
       "    .dataframe thead th {\n",
       "        text-align: right;\n",
       "    }\n",
       "</style>\n",
       "<table border=\"1\" class=\"dataframe\">\n",
       "  <thead>\n",
       "    <tr style=\"text-align: right;\">\n",
       "      <th></th>\n",
       "      <th>ids</th>\n",
       "      <th>Agricultural_Economics</th>\n",
       "      <th>Agriculture_Biotechnology</th>\n",
       "      <th>Crop_production</th>\n",
       "      <th>Food_Technology</th>\n",
       "      <th>Horticulture</th>\n",
       "      <th>Livestock_production</th>\n",
       "      <th>Natural_Resources</th>\n",
       "      <th>Plant_Protection</th>\n",
       "    </tr>\n",
       "    <tr>\n",
       "      <th>Environmental_Sciences</th>\n",
       "      <th></th>\n",
       "      <th></th>\n",
       "      <th></th>\n",
       "      <th></th>\n",
       "      <th></th>\n",
       "      <th></th>\n",
       "      <th></th>\n",
       "      <th></th>\n",
       "      <th></th>\n",
       "    </tr>\n",
       "  </thead>\n",
       "  <tbody>\n",
       "    <tr>\n",
       "      <th>1</th>\n",
       "      <td>419566</td>\n",
       "      <td>66</td>\n",
       "      <td>40</td>\n",
       "      <td>47</td>\n",
       "      <td>20</td>\n",
       "      <td>20</td>\n",
       "      <td>18</td>\n",
       "      <td>163</td>\n",
       "      <td>39</td>\n",
       "    </tr>\n",
       "  </tbody>\n",
       "</table>\n",
       "</div>\n",
       "      <button class=\"colab-df-convert\" onclick=\"convertToInteractive('df-abdc49bb-8643-4984-a4f1-7449ded82d00')\"\n",
       "              title=\"Convert this dataframe to an interactive table.\"\n",
       "              style=\"display:none;\">\n",
       "        \n",
       "  <svg xmlns=\"http://www.w3.org/2000/svg\" height=\"24px\"viewBox=\"0 0 24 24\"\n",
       "       width=\"24px\">\n",
       "    <path d=\"M0 0h24v24H0V0z\" fill=\"none\"/>\n",
       "    <path d=\"M18.56 5.44l.94 2.06.94-2.06 2.06-.94-2.06-.94-.94-2.06-.94 2.06-2.06.94zm-11 1L8.5 8.5l.94-2.06 2.06-.94-2.06-.94L8.5 2.5l-.94 2.06-2.06.94zm10 10l.94 2.06.94-2.06 2.06-.94-2.06-.94-.94-2.06-.94 2.06-2.06.94z\"/><path d=\"M17.41 7.96l-1.37-1.37c-.4-.4-.92-.59-1.43-.59-.52 0-1.04.2-1.43.59L10.3 9.45l-7.72 7.72c-.78.78-.78 2.05 0 2.83L4 21.41c.39.39.9.59 1.41.59.51 0 1.02-.2 1.41-.59l7.78-7.78 2.81-2.81c.8-.78.8-2.07 0-2.86zM5.41 20L4 18.59l7.72-7.72 1.47 1.35L5.41 20z\"/>\n",
       "  </svg>\n",
       "      </button>\n",
       "      \n",
       "  <style>\n",
       "    .colab-df-container {\n",
       "      display:flex;\n",
       "      flex-wrap:wrap;\n",
       "      gap: 12px;\n",
       "    }\n",
       "\n",
       "    .colab-df-convert {\n",
       "      background-color: #E8F0FE;\n",
       "      border: none;\n",
       "      border-radius: 50%;\n",
       "      cursor: pointer;\n",
       "      display: none;\n",
       "      fill: #1967D2;\n",
       "      height: 32px;\n",
       "      padding: 0 0 0 0;\n",
       "      width: 32px;\n",
       "    }\n",
       "\n",
       "    .colab-df-convert:hover {\n",
       "      background-color: #E2EBFA;\n",
       "      box-shadow: 0px 1px 2px rgba(60, 64, 67, 0.3), 0px 1px 3px 1px rgba(60, 64, 67, 0.15);\n",
       "      fill: #174EA6;\n",
       "    }\n",
       "\n",
       "    [theme=dark] .colab-df-convert {\n",
       "      background-color: #3B4455;\n",
       "      fill: #D2E3FC;\n",
       "    }\n",
       "\n",
       "    [theme=dark] .colab-df-convert:hover {\n",
       "      background-color: #434B5C;\n",
       "      box-shadow: 0px 1px 3px 1px rgba(0, 0, 0, 0.15);\n",
       "      filter: drop-shadow(0px 1px 2px rgba(0, 0, 0, 0.3));\n",
       "      fill: #FFFFFF;\n",
       "    }\n",
       "  </style>\n",
       "\n",
       "      <script>\n",
       "        const buttonEl =\n",
       "          document.querySelector('#df-abdc49bb-8643-4984-a4f1-7449ded82d00 button.colab-df-convert');\n",
       "        buttonEl.style.display =\n",
       "          google.colab.kernel.accessAllowed ? 'block' : 'none';\n",
       "\n",
       "        async function convertToInteractive(key) {\n",
       "          const element = document.querySelector('#df-abdc49bb-8643-4984-a4f1-7449ded82d00');\n",
       "          const dataTable =\n",
       "            await google.colab.kernel.invokeFunction('convertToInteractive',\n",
       "                                                     [key], {});\n",
       "          if (!dataTable) return;\n",
       "\n",
       "          const docLinkHtml = 'Like what you see? Visit the ' +\n",
       "            '<a target=\"_blank\" href=https://colab.research.google.com/notebooks/data_table.ipynb>data table notebook</a>'\n",
       "            + ' to learn more about interactive tables.';\n",
       "          element.innerHTML = '';\n",
       "          dataTable['output_type'] = 'display_data';\n",
       "          await google.colab.output.renderOutput(dataTable, element);\n",
       "          const docLink = document.createElement('div');\n",
       "          docLink.innerHTML = docLinkHtml;\n",
       "          element.appendChild(docLink);\n",
       "        }\n",
       "      </script>\n",
       "    </div>\n",
       "  </div>\n",
       "  "
      ],
      "text/plain": [
       "                           ids  Agricultural_Economics  \\\n",
       "Environmental_Sciences                                   \n",
       "1                       419566                      66   \n",
       "\n",
       "                        Agriculture_Biotechnology  Crop_production  \\\n",
       "Environmental_Sciences                                               \n",
       "1                                              40               47   \n",
       "\n",
       "                        Food_Technology  Horticulture  Livestock_production  \\\n",
       "Environmental_Sciences                                                        \n",
       "1                                    20            20                    18   \n",
       "\n",
       "                        Natural_Resources  Plant_Protection  \n",
       "Environmental_Sciences                                       \n",
       "1                                     163                39  "
      ]
     },
     "execution_count": 140,
     "metadata": {},
     "output_type": "execute_result"
    }
   ],
   "source": [
    "df1 = splited_train[splited_train['Environmental_Sciences'] == 1]\n",
    "df1.groupby(['Environmental_Sciences']).sum()"
   ]
  },
  {
   "cell_type": "code",
   "execution_count": null,
   "metadata": {
    "id": "Zwvoi2J4-DVM"
   },
   "outputs": [],
   "source": [
    "df1 = df1[df1['Natural_Resources'] == 0]\n",
    "# df1 = df1[df1['Crop_production'] == 0]\n",
    "df1 = df1[df1['Horticulture'] == 0]\n",
    "# df1 = df1[df1['Food_Technology'] == 0]\n",
    "# df1 = df1[df1['Plant_Protection'] == 0]"
   ]
  },
  {
   "cell_type": "code",
   "execution_count": null,
   "metadata": {
    "colab": {
     "base_uri": "https://localhost:8080/"
    },
    "executionInfo": {
     "elapsed": 508,
     "status": "ok",
     "timestamp": 1669197908475,
     "user": {
      "displayName": "Razan HL",
      "userId": "00189607576210306079"
     },
     "user_tz": -180
    },
    "id": "y3YKQRnO-OhL",
    "outputId": "c3781f38-81e6-49c6-e824-ad2d3d823e5a"
   },
   "outputs": [
    {
     "name": "stdout",
     "output_type": "stream",
     "text": [
      "1576 Agricultural_Economics\n",
      "2663 Agriculture_Biotechnology\n",
      "2826 Crop_production\n",
      "2574 Environmental_Sciences\n",
      "2477 Food_Technolog\n",
      "2669 Horticulture\n",
      "2511 Livestock_production\n",
      "2851 Natural_Resources\n",
      "2438 Plant_Protection\n"
     ]
    }
   ],
   "source": [
    "df1 = df1.sample(n= (2550 - 1700), replace=True)\n",
    "my_dataset = pd.concat([my_dataset,df1], axis= 0)\n",
    "print_catigories(my_dataset)"
   ]
  },
  {
   "cell_type": "code",
   "execution_count": null,
   "metadata": {
    "colab": {
     "base_uri": "https://localhost:8080/"
    },
    "executionInfo": {
     "elapsed": 689,
     "status": "ok",
     "timestamp": 1669197922939,
     "user": {
      "displayName": "Razan HL",
      "userId": "00189607576210306079"
     },
     "user_tz": -180
    },
    "id": "UFIFbUMM-Odp",
    "outputId": "5b42b752-9658-4f63-9db7-220a97afbda5"
   },
   "outputs": [
    {
     "data": {
      "text/html": [
       "\n",
       "  <div id=\"df-15a19022-5b8a-473c-bf26-6929a86faee4\">\n",
       "    <div class=\"colab-df-container\">\n",
       "      <div>\n",
       "<style scoped>\n",
       "    .dataframe tbody tr th:only-of-type {\n",
       "        vertical-align: middle;\n",
       "    }\n",
       "\n",
       "    .dataframe tbody tr th {\n",
       "        vertical-align: top;\n",
       "    }\n",
       "\n",
       "    .dataframe thead th {\n",
       "        text-align: right;\n",
       "    }\n",
       "</style>\n",
       "<table border=\"1\" class=\"dataframe\">\n",
       "  <thead>\n",
       "    <tr style=\"text-align: right;\">\n",
       "      <th></th>\n",
       "      <th>ids</th>\n",
       "      <th>Agriculture_Biotechnology</th>\n",
       "      <th>Crop_production</th>\n",
       "      <th>Environmental_Sciences</th>\n",
       "      <th>Food_Technology</th>\n",
       "      <th>Horticulture</th>\n",
       "      <th>Livestock_production</th>\n",
       "      <th>Natural_Resources</th>\n",
       "      <th>Plant_Protection</th>\n",
       "    </tr>\n",
       "    <tr>\n",
       "      <th>Agricultural_Economics</th>\n",
       "      <th></th>\n",
       "      <th></th>\n",
       "      <th></th>\n",
       "      <th></th>\n",
       "      <th></th>\n",
       "      <th></th>\n",
       "      <th></th>\n",
       "      <th></th>\n",
       "      <th></th>\n",
       "    </tr>\n",
       "  </thead>\n",
       "  <tbody>\n",
       "    <tr>\n",
       "      <th>1</th>\n",
       "      <td>530415</td>\n",
       "      <td>0</td>\n",
       "      <td>0</td>\n",
       "      <td>66</td>\n",
       "      <td>0</td>\n",
       "      <td>0</td>\n",
       "      <td>0</td>\n",
       "      <td>0</td>\n",
       "      <td>0</td>\n",
       "    </tr>\n",
       "  </tbody>\n",
       "</table>\n",
       "</div>\n",
       "      <button class=\"colab-df-convert\" onclick=\"convertToInteractive('df-15a19022-5b8a-473c-bf26-6929a86faee4')\"\n",
       "              title=\"Convert this dataframe to an interactive table.\"\n",
       "              style=\"display:none;\">\n",
       "        \n",
       "  <svg xmlns=\"http://www.w3.org/2000/svg\" height=\"24px\"viewBox=\"0 0 24 24\"\n",
       "       width=\"24px\">\n",
       "    <path d=\"M0 0h24v24H0V0z\" fill=\"none\"/>\n",
       "    <path d=\"M18.56 5.44l.94 2.06.94-2.06 2.06-.94-2.06-.94-.94-2.06-.94 2.06-2.06.94zm-11 1L8.5 8.5l.94-2.06 2.06-.94-2.06-.94L8.5 2.5l-.94 2.06-2.06.94zm10 10l.94 2.06.94-2.06 2.06-.94-2.06-.94-.94-2.06-.94 2.06-2.06.94z\"/><path d=\"M17.41 7.96l-1.37-1.37c-.4-.4-.92-.59-1.43-.59-.52 0-1.04.2-1.43.59L10.3 9.45l-7.72 7.72c-.78.78-.78 2.05 0 2.83L4 21.41c.39.39.9.59 1.41.59.51 0 1.02-.2 1.41-.59l7.78-7.78 2.81-2.81c.8-.78.8-2.07 0-2.86zM5.41 20L4 18.59l7.72-7.72 1.47 1.35L5.41 20z\"/>\n",
       "  </svg>\n",
       "      </button>\n",
       "      \n",
       "  <style>\n",
       "    .colab-df-container {\n",
       "      display:flex;\n",
       "      flex-wrap:wrap;\n",
       "      gap: 12px;\n",
       "    }\n",
       "\n",
       "    .colab-df-convert {\n",
       "      background-color: #E8F0FE;\n",
       "      border: none;\n",
       "      border-radius: 50%;\n",
       "      cursor: pointer;\n",
       "      display: none;\n",
       "      fill: #1967D2;\n",
       "      height: 32px;\n",
       "      padding: 0 0 0 0;\n",
       "      width: 32px;\n",
       "    }\n",
       "\n",
       "    .colab-df-convert:hover {\n",
       "      background-color: #E2EBFA;\n",
       "      box-shadow: 0px 1px 2px rgba(60, 64, 67, 0.3), 0px 1px 3px 1px rgba(60, 64, 67, 0.15);\n",
       "      fill: #174EA6;\n",
       "    }\n",
       "\n",
       "    [theme=dark] .colab-df-convert {\n",
       "      background-color: #3B4455;\n",
       "      fill: #D2E3FC;\n",
       "    }\n",
       "\n",
       "    [theme=dark] .colab-df-convert:hover {\n",
       "      background-color: #434B5C;\n",
       "      box-shadow: 0px 1px 3px 1px rgba(0, 0, 0, 0.15);\n",
       "      filter: drop-shadow(0px 1px 2px rgba(0, 0, 0, 0.3));\n",
       "      fill: #FFFFFF;\n",
       "    }\n",
       "  </style>\n",
       "\n",
       "      <script>\n",
       "        const buttonEl =\n",
       "          document.querySelector('#df-15a19022-5b8a-473c-bf26-6929a86faee4 button.colab-df-convert');\n",
       "        buttonEl.style.display =\n",
       "          google.colab.kernel.accessAllowed ? 'block' : 'none';\n",
       "\n",
       "        async function convertToInteractive(key) {\n",
       "          const element = document.querySelector('#df-15a19022-5b8a-473c-bf26-6929a86faee4');\n",
       "          const dataTable =\n",
       "            await google.colab.kernel.invokeFunction('convertToInteractive',\n",
       "                                                     [key], {});\n",
       "          if (!dataTable) return;\n",
       "\n",
       "          const docLinkHtml = 'Like what you see? Visit the ' +\n",
       "            '<a target=\"_blank\" href=https://colab.research.google.com/notebooks/data_table.ipynb>data table notebook</a>'\n",
       "            + ' to learn more about interactive tables.';\n",
       "          element.innerHTML = '';\n",
       "          dataTable['output_type'] = 'display_data';\n",
       "          await google.colab.output.renderOutput(dataTable, element);\n",
       "          const docLink = document.createElement('div');\n",
       "          docLink.innerHTML = docLinkHtml;\n",
       "          element.appendChild(docLink);\n",
       "        }\n",
       "      </script>\n",
       "    </div>\n",
       "  </div>\n",
       "  "
      ],
      "text/plain": [
       "                           ids  Agriculture_Biotechnology  Crop_production  \\\n",
       "Agricultural_Economics                                                       \n",
       "1                       530415                          0                0   \n",
       "\n",
       "                        Environmental_Sciences  Food_Technology  Horticulture  \\\n",
       "Agricultural_Economics                                                          \n",
       "1                                           66                0             0   \n",
       "\n",
       "                        Livestock_production  Natural_Resources  \\\n",
       "Agricultural_Economics                                            \n",
       "1                                          0                  0   \n",
       "\n",
       "                        Plant_Protection  \n",
       "Agricultural_Economics                    \n",
       "1                                      0  "
      ]
     },
     "execution_count": 144,
     "metadata": {},
     "output_type": "execute_result"
    }
   ],
   "source": [
    "df1 = splited_train[splited_train['Agricultural_Economics'] == 1]\n",
    "df1.groupby(['Agricultural_Economics']).sum()"
   ]
  },
  {
   "cell_type": "code",
   "execution_count": null,
   "metadata": {
    "id": "b1wMA5di2Lvp"
   },
   "outputs": [],
   "source": [
    "# df1 = df1[df1['Livestock_production'] == 0]\n",
    "df1 = df1[df1['Environmental_Sciences'] == 0]"
   ]
  },
  {
   "cell_type": "code",
   "execution_count": null,
   "metadata": {
    "colab": {
     "base_uri": "https://localhost:8080/"
    },
    "executionInfo": {
     "elapsed": 429,
     "status": "ok",
     "timestamp": 1669197947160,
     "user": {
      "displayName": "Razan HL",
      "userId": "00189607576210306079"
     },
     "user_tz": -180
    },
    "id": "pxCcvIVj-WbA",
    "outputId": "32fcff3b-e607-4e33-e70e-92db012140fb"
   },
   "outputs": [
    {
     "name": "stdout",
     "output_type": "stream",
     "text": [
      "2656 Agricultural_Economics\n",
      "2663 Agriculture_Biotechnology\n",
      "2826 Crop_production\n",
      "2574 Environmental_Sciences\n",
      "2477 Food_Technolog\n",
      "2669 Horticulture\n",
      "2511 Livestock_production\n",
      "2851 Natural_Resources\n",
      "2438 Plant_Protection\n"
     ]
    }
   ],
   "source": [
    "df1 = df1.sample(n= (2650 -1570), replace=True)\n",
    "my_dataset = pd.concat([my_dataset,df1], axis= 0)\n",
    "print_catigories(my_dataset)"
   ]
  },
  {
   "cell_type": "code",
   "execution_count": null,
   "metadata": {
    "colab": {
     "base_uri": "https://localhost:8080/"
    },
    "executionInfo": {
     "elapsed": 12,
     "status": "ok",
     "timestamp": 1669198066562,
     "user": {
      "displayName": "Razan HL",
      "userId": "00189607576210306079"
     },
     "user_tz": -180
    },
    "id": "c3sbPebo6tcX",
    "outputId": "c4b69903-1f50-473e-8922-fc4d70b02932"
   },
   "outputs": [
    {
     "name": "stdout",
     "output_type": "stream",
     "text": [
      "39 Agricultural_Economics\n",
      "13 Agriculture_Biotechnology\n",
      "35 Environmental_Sciences\n",
      "21 Food_Technolog\n",
      "62 Horticulture\n",
      "24 Livestock_production\n",
      "28 Plant_Protection\n"
     ]
    }
   ],
   "source": [
    "df1 = splited_train[splited_train['Natural_Resources'] == 0]\n",
    "df1 = df1[df1['Crop_production'] == 0]\n",
    "\n",
    "df1 = df1.sample(n= (200), replace=True)\n",
    "# print_catigories(df1)\n",
    "# df1.groupby(['Horticulture']).sum()\n",
    "print(df1.Agricultural_Economics.value_counts()[1], 'Agricultural_Economics')\n",
    "print(df1.Agriculture_Biotechnology.value_counts()[1], 'Agriculture_Biotechnology')\n",
    "# print(df1.Crop_production.value_counts()[1],'Crop_production')\n",
    "print(df1.Environmental_Sciences.value_counts()[1], 'Environmental_Sciences')\n",
    "print(df1.Food_Technology.value_counts()[1], 'Food_Technolog')\n",
    "print(df1.Horticulture.value_counts()[1], 'Horticulture')\n",
    "print(df1.Livestock_production.value_counts()[1], 'Livestock_production')\n",
    "# print(df1.Natural_Resources.value_counts()[1], 'Natural_Resources')\n",
    "print(df1.Plant_Protection.value_counts()[1], 'Plant_Protection')"
   ]
  },
  {
   "cell_type": "code",
   "execution_count": null,
   "metadata": {
    "colab": {
     "base_uri": "https://localhost:8080/"
    },
    "executionInfo": {
     "elapsed": 510,
     "status": "ok",
     "timestamp": 1669198140189,
     "user": {
      "displayName": "Razan HL",
      "userId": "00189607576210306079"
     },
     "user_tz": -180
    },
    "id": "MBijQhnT6tSw",
    "outputId": "195436a9-7e36-4730-9aa3-94cd152d75ac"
   },
   "outputs": [
    {
     "name": "stdout",
     "output_type": "stream",
     "text": [
      "2695 Agricultural_Economics\n",
      "2676 Agriculture_Biotechnology\n",
      "2826 Crop_production\n",
      "2609 Environmental_Sciences\n",
      "2498 Food_Technolog\n",
      "2731 Horticulture\n",
      "2535 Livestock_production\n",
      "2851 Natural_Resources\n",
      "2466 Plant_Protection\n"
     ]
    }
   ],
   "source": [
    "my_dataset = pd.concat([my_dataset,df1], axis= 0)\n",
    "print_catigories(my_dataset)"
   ]
  },
  {
   "cell_type": "code",
   "execution_count": null,
   "metadata": {
    "id": "f4b_P5pj-Y0y"
   },
   "outputs": [],
   "source": [
    "my_dataset.to_csv('/content/drive/MyDrive/oversampled_balanced2.csv')"
   ]
  },
  {
   "cell_type": "markdown",
   "metadata": {
    "id": "FVHOAMv9bt-T"
   },
   "source": [
    "# Preparing Undersampled Data"
   ]
  },
  {
   "cell_type": "code",
   "execution_count": null,
   "metadata": {
    "colab": {
     "base_uri": "https://localhost:8080/",
     "height": 739
    },
    "executionInfo": {
     "elapsed": 479,
     "status": "ok",
     "timestamp": 1664182340671,
     "user": {
      "displayName": "Razan HL",
      "userId": "00189607576210306079"
     },
     "user_tz": -180
    },
    "id": "mlcHFfg_A3DX",
    "outputId": "187a8646-f2c4-4853-e7fb-fb6058beb0cb",
    "scrolled": true
   },
   "outputs": [],
   "source": [
    "train_dataset = pd.read_csv('/content/drive/MyDrive/balanced_train.csv')\n",
    "train_dataset.head()"
   ]
  },
  {
   "cell_type": "code",
   "execution_count": null,
   "metadata": {
    "colab": {
     "base_uri": "https://localhost:8080/"
    },
    "executionInfo": {
     "elapsed": 556,
     "status": "ok",
     "timestamp": 1664182351901,
     "user": {
      "displayName": "Razan HL",
      "userId": "00189607576210306079"
     },
     "user_tz": -180
    },
    "id": "nyrWZSjL-kb0",
    "outputId": "9d6d1452-94fc-4b87-b468-add57fe5e9b8"
   },
   "outputs": [
    {
     "name": "stdout",
     "output_type": "stream",
     "text": [
      "<class 'pandas.core.frame.DataFrame'>\n",
      "RangeIndex: 5498 entries, 0 to 5497\n",
      "Data columns (total 12 columns):\n",
      " #   Column                     Non-Null Count  Dtype \n",
      "---  ------                     --------------  ----- \n",
      " 0   Unnamed: 0                 5498 non-null   int64 \n",
      " 1   ids                        5498 non-null   int64 \n",
      " 2   sp_text                    5498 non-null   object\n",
      " 3   Agricultural_Economics     5498 non-null   int64 \n",
      " 4   Agriculture_Biotechnology  5498 non-null   int64 \n",
      " 5   Crop_production            5498 non-null   int64 \n",
      " 6   Environmental_Sciences     5498 non-null   int64 \n",
      " 7   Food_Technology            5498 non-null   int64 \n",
      " 8   Horticulture               5498 non-null   int64 \n",
      " 9   Livestock_production       5498 non-null   int64 \n",
      " 10  Natural_Resources          5498 non-null   int64 \n",
      " 11  Plant_Protection           5498 non-null   int64 \n",
      "dtypes: int64(11), object(1)\n",
      "memory usage: 515.6+ KB\n"
     ]
    }
   ],
   "source": [
    "train_dataset.info()"
   ]
  },
  {
   "cell_type": "code",
   "execution_count": null,
   "metadata": {
    "colab": {
     "base_uri": "https://localhost:8080/",
     "height": 704
    },
    "executionInfo": {
     "elapsed": 466,
     "status": "ok",
     "timestamp": 1664192914355,
     "user": {
      "displayName": "Razan HL",
      "userId": "00189607576210306079"
     },
     "user_tz": -180
    },
    "id": "NaEIPq7W4ZDa",
    "outputId": "c43cd385-d1da-4cc6-ebf9-22c962783192",
    "scrolled": true
   },
   "outputs": [],
   "source": [
    "# Shuffling dataset\n",
    "train_dataset = train_dataset.sample(frac = 1).reset_index(drop=True)\n",
    "train_dataset.head()"
   ]
  },
  {
   "cell_type": "code",
   "execution_count": null,
   "metadata": {
    "colab": {
     "base_uri": "https://localhost:8080/"
    },
    "executionInfo": {
     "elapsed": 311,
     "status": "ok",
     "timestamp": 1664182371888,
     "user": {
      "displayName": "Razan HL",
      "userId": "00189607576210306079"
     },
     "user_tz": -180
    },
    "id": "KPDPvCijcbEz",
    "outputId": "50c1e2cf-a8f8-43e0-b335-8e85794c2149"
   },
   "outputs": [
    {
     "name": "stdout",
     "output_type": "stream",
     "text": [
      "0    4761\n",
      "1     737\n",
      "Name: Agricultural_Economics, dtype: int64 \n",
      "---\n",
      "0    4761\n",
      "1     737\n",
      "Name: Agriculture_Biotechnology, dtype: int64 \n",
      "---\n",
      "0    4761\n",
      "1     737\n",
      "Name: Crop_production, dtype: int64 \n",
      "---\n",
      "0    4761\n",
      "1     737\n",
      "Name: Environmental_Sciences, dtype: int64 \n",
      "---\n",
      "0    4761\n",
      "1     737\n",
      "Name: Food_Technology, dtype: int64 \n",
      "---\n",
      "0    4761\n",
      "1     737\n",
      "Name: Horticulture, dtype: int64 \n",
      "---\n",
      "0    4761\n",
      "1     737\n",
      "Name: Livestock_production, dtype: int64 \n",
      "---\n",
      "0    4761\n",
      "1     737\n",
      "Name: Natural_Resources, dtype: int64 \n",
      "---\n",
      "0    4761\n",
      "1     737\n",
      "Name: Plant_Protection, dtype: int64 \n",
      "---\n"
     ]
    }
   ],
   "source": [
    "print(train_dataset.Agricultural_Economics.value_counts(), '\\n---')\n",
    "print(train_dataset.Agriculture_Biotechnology.value_counts(), '\\n---')\n",
    "print(train_dataset.Crop_production.value_counts(), '\\n---')\n",
    "print(train_dataset.Environmental_Sciences.value_counts(), '\\n---')\n",
    "print(train_dataset.Food_Technology.value_counts(), '\\n---')\n",
    "print(train_dataset.Horticulture.value_counts(), '\\n---')\n",
    "print(train_dataset.Livestock_production.value_counts(), '\\n---')\n",
    "print(train_dataset.Natural_Resources.value_counts(), '\\n---')\n",
    "print(train_dataset.Plant_Protection.value_counts(), '\\n---')"
   ]
  },
  {
   "cell_type": "code",
   "execution_count": null,
   "metadata": {
    "colab": {
     "base_uri": "https://localhost:8080/",
     "height": 722
    },
    "executionInfo": {
     "elapsed": 447,
     "status": "ok",
     "timestamp": 1664182377041,
     "user": {
      "displayName": "Razan HL",
      "userId": "00189607576210306079"
     },
     "user_tz": -180
    },
    "id": "kzT-jLUdTi6J",
    "outputId": "10b90af1-b82e-4c33-ba5c-1388057d8416"
   },
   "outputs": [],
   "source": [
    "val_dataset = pd.read_csv('/content/drive/MyDrive/balanced_validation.csv')\n",
    "val_dataset.head()"
   ]
  },
  {
   "cell_type": "code",
   "execution_count": null,
   "metadata": {
    "colab": {
     "base_uri": "https://localhost:8080/"
    },
    "executionInfo": {
     "elapsed": 605,
     "status": "ok",
     "timestamp": 1664182383863,
     "user": {
      "displayName": "Razan HL",
      "userId": "00189607576210306079"
     },
     "user_tz": -180
    },
    "id": "Dg1L8b2qTitA",
    "outputId": "0fae172e-8d2e-4426-ca20-a90f403412d3"
   },
   "outputs": [
    {
     "name": "stdout",
     "output_type": "stream",
     "text": [
      "<class 'pandas.core.frame.DataFrame'>\n",
      "RangeIndex: 1174 entries, 0 to 1173\n",
      "Data columns (total 12 columns):\n",
      " #   Column                     Non-Null Count  Dtype \n",
      "---  ------                     --------------  ----- \n",
      " 0   Unnamed: 0                 1174 non-null   int64 \n",
      " 1   ids                        1174 non-null   int64 \n",
      " 2   sp_text                    1174 non-null   object\n",
      " 3   Agricultural_Economics     1174 non-null   int64 \n",
      " 4   Agriculture_Biotechnology  1174 non-null   int64 \n",
      " 5   Crop_production            1174 non-null   int64 \n",
      " 6   Environmental_Sciences     1174 non-null   int64 \n",
      " 7   Food_Technology            1174 non-null   int64 \n",
      " 8   Horticulture               1174 non-null   int64 \n",
      " 9   Livestock_production       1174 non-null   int64 \n",
      " 10  Natural_Resources          1174 non-null   int64 \n",
      " 11  Plant_Protection           1174 non-null   int64 \n",
      "dtypes: int64(11), object(1)\n",
      "memory usage: 110.2+ KB\n"
     ]
    }
   ],
   "source": [
    "val_dataset.info()"
   ]
  },
  {
   "cell_type": "code",
   "execution_count": null,
   "metadata": {
    "colab": {
     "base_uri": "https://localhost:8080/"
    },
    "executionInfo": {
     "elapsed": 380,
     "status": "ok",
     "timestamp": 1664182395911,
     "user": {
      "displayName": "Razan HL",
      "userId": "00189607576210306079"
     },
     "user_tz": -180
    },
    "id": "t6JTY7s6A3AP",
    "outputId": "71a3e353-ab3e-4309-8cad-155d8a13d604"
   },
   "outputs": [
    {
     "name": "stdout",
     "output_type": "stream",
     "text": [
      "0    1016\n",
      "1     158\n",
      "Name: Agricultural_Economics, dtype: int64 \n",
      "---\n",
      "0    1016\n",
      "1     158\n",
      "Name: Agriculture_Biotechnology, dtype: int64 \n",
      "---\n",
      "0    1016\n",
      "1     158\n",
      "Name: Crop_production, dtype: int64 \n",
      "---\n",
      "0    1016\n",
      "1     158\n",
      "Name: Environmental_Sciences, dtype: int64 \n",
      "---\n",
      "0    1016\n",
      "1     158\n",
      "Name: Food_Technology, dtype: int64 \n",
      "---\n",
      "0    1016\n",
      "1     158\n",
      "Name: Horticulture, dtype: int64 \n",
      "---\n",
      "0    1016\n",
      "1     158\n",
      "Name: Livestock_production, dtype: int64 \n",
      "---\n",
      "0    1016\n",
      "1     158\n",
      "Name: Natural_Resources, dtype: int64 \n",
      "---\n",
      "0    1016\n",
      "1     158\n",
      "Name: Plant_Protection, dtype: int64 \n",
      "---\n"
     ]
    }
   ],
   "source": [
    "print(val_dataset.Agricultural_Economics.value_counts(), '\\n---')\n",
    "print(val_dataset.Agriculture_Biotechnology.value_counts(), '\\n---')\n",
    "print(val_dataset.Crop_production.value_counts(), '\\n---')\n",
    "print(val_dataset.Environmental_Sciences.value_counts(), '\\n---')\n",
    "print(val_dataset.Food_Technology.value_counts(), '\\n---')\n",
    "print(val_dataset.Horticulture.value_counts(), '\\n---')\n",
    "print(val_dataset.Livestock_production.value_counts(), '\\n---')\n",
    "print(val_dataset.Natural_Resources.value_counts(), '\\n---')\n",
    "print(val_dataset.Plant_Protection.value_counts(), '\\n---')"
   ]
  },
  {
   "cell_type": "code",
   "execution_count": null,
   "metadata": {
    "colab": {
     "base_uri": "https://localhost:8080/",
     "height": 739
    },
    "executionInfo": {
     "elapsed": 523,
     "status": "ok",
     "timestamp": 1664192945385,
     "user": {
      "displayName": "Razan HL",
      "userId": "00189607576210306079"
     },
     "user_tz": -180
    },
    "id": "sxe4U_Cy3v7O",
    "outputId": "7c5c1987-eab5-41de-c11e-d0c07c4eb48f",
    "scrolled": true
   },
   "outputs": [],
   "source": [
    "# Suffling validation dataset:\n",
    "val_dataset = val_dataset.sample(frac = 1).reset_index(drop=True)\n",
    "val_dataset.head()"
   ]
  },
  {
   "cell_type": "markdown",
   "metadata": {
    "id": "KVoTc5X0FiQZ"
   },
   "source": [
    "# Preparing Oversampled Data"
   ]
  },
  {
   "cell_type": "code",
   "execution_count": null,
   "metadata": {
    "colab": {
     "base_uri": "https://localhost:8080/",
     "height": 652
    },
    "executionInfo": {
     "elapsed": 1773,
     "status": "ok",
     "timestamp": 1669314394154,
     "user": {
      "displayName": "Razan HL",
      "userId": "00189607576210306079"
     },
     "user_tz": -180
    },
    "id": "JgNQrwRoFp-E",
    "outputId": "e745d3e1-3b0c-4f90-dd77-2fb1632fd477",
    "scrolled": true
   },
   "outputs": [],
   "source": [
    "train_dataset =pd.read_csv('/content/drive/MyDrive/oversampled_balanced2.csv')\n",
    "train_dataset.head()"
   ]
  },
  {
   "cell_type": "code",
   "execution_count": null,
   "metadata": {
    "colab": {
     "base_uri": "https://localhost:8080/"
    },
    "executionInfo": {
     "elapsed": 509,
     "status": "ok",
     "timestamp": 1669314399182,
     "user": {
      "displayName": "Razan HL",
      "userId": "00189607576210306079"
     },
     "user_tz": -180
    },
    "id": "s_ErdLI-GLgG",
    "outputId": "d3ea60dd-3b65-49d7-d4eb-b865cb48e291"
   },
   "outputs": [
    {
     "name": "stdout",
     "output_type": "stream",
     "text": [
      "<class 'pandas.core.frame.DataFrame'>\n",
      "RangeIndex: 18418 entries, 0 to 18417\n",
      "Data columns (total 12 columns):\n",
      " #   Column                     Non-Null Count  Dtype \n",
      "---  ------                     --------------  ----- \n",
      " 0   Unnamed: 0                 18418 non-null  int64 \n",
      " 1   ids                        18418 non-null  int64 \n",
      " 2   sp_text                    18418 non-null  object\n",
      " 3   Agricultural_Economics     18418 non-null  int64 \n",
      " 4   Agriculture_Biotechnology  18418 non-null  int64 \n",
      " 5   Crop_production            18418 non-null  int64 \n",
      " 6   Environmental_Sciences     18418 non-null  int64 \n",
      " 7   Food_Technology            18418 non-null  int64 \n",
      " 8   Horticulture               18418 non-null  int64 \n",
      " 9   Livestock_production       18418 non-null  int64 \n",
      " 10  Natural_Resources          18418 non-null  int64 \n",
      " 11  Plant_Protection           18418 non-null  int64 \n",
      "dtypes: int64(11), object(1)\n",
      "memory usage: 1.7+ MB\n"
     ]
    }
   ],
   "source": [
    "train_dataset.info()"
   ]
  },
  {
   "cell_type": "code",
   "execution_count": null,
   "metadata": {
    "id": "t_MfqvoZGLdW"
   },
   "outputs": [],
   "source": [
    "# train_dataset = articles #.sample(frac= 1, random_state= 42).reset_index(drop=True)\n",
    "# train_dataset.head()"
   ]
  },
  {
   "cell_type": "code",
   "execution_count": null,
   "metadata": {
    "colab": {
     "base_uri": "https://localhost:8080/"
    },
    "executionInfo": {
     "elapsed": 8,
     "status": "ok",
     "timestamp": 1664427645787,
     "user": {
      "displayName": "Razan HL",
      "userId": "00189607576210306079"
     },
     "user_tz": -180
    },
    "id": "Xulnqp9qFp7W",
    "outputId": "eb2ede8a-433b-449f-fa16-ca37022473b7"
   },
   "outputs": [
    {
     "data": {
      "text/plain": [
       "((22917, 12), (5729, 12))"
      ]
     },
     "execution_count": 7,
     "metadata": {},
     "output_type": "execute_result"
    }
   ],
   "source": [
    "# train_dataset = articles.sample(frac=0.8 , random_state= 45)\n",
    "# val_dataset = articles.drop(axis=0, index=train_dataset.index)\n",
    "# train_dataset.shape, val_dataset.shape"
   ]
  },
  {
   "cell_type": "code",
   "execution_count": null,
   "metadata": {
    "id": "PIDR7_DhFpo_"
   },
   "outputs": [],
   "source": [
    "# train_dataset = train_dataset.reset_index(drop=True)\n",
    "# val_dataset = val_dataset.reset_index(drop=True)"
   ]
  },
  {
   "cell_type": "code",
   "execution_count": null,
   "metadata": {
    "colab": {
     "base_uri": "https://localhost:8080/"
    },
    "executionInfo": {
     "elapsed": 16986,
     "status": "ok",
     "timestamp": 1669199342288,
     "user": {
      "displayName": "Razan HL",
      "userId": "00189607576210306079"
     },
     "user_tz": -180
    },
    "id": "qjIJ1EqIBmqr",
    "outputId": "b49aee71-30e2-466b-dd57-4005df237346"
   },
   "outputs": [
    {
     "name": "stdout",
     "output_type": "stream",
     "text": [
      "Looking in indexes: https://pypi.org/simple, https://us-python.pkg.dev/colab-wheels/public/simple/\n",
      "Collecting nlpaug\n",
      "  Downloading nlpaug-1.1.11-py3-none-any.whl (410 kB)\n",
      "\u001b[K     |████████████████████████████████| 410 kB 8.6 MB/s \n",
      "\u001b[?25hRequirement already satisfied: gdown>=4.0.0 in /usr/local/lib/python3.7/dist-packages (from nlpaug) (4.4.0)\n",
      "Requirement already satisfied: numpy>=1.16.2 in /usr/local/lib/python3.7/dist-packages (from nlpaug) (1.21.6)\n",
      "Requirement already satisfied: requests>=2.22.0 in /usr/local/lib/python3.7/dist-packages (from nlpaug) (2.23.0)\n",
      "Requirement already satisfied: pandas>=1.2.0 in /usr/local/lib/python3.7/dist-packages (from nlpaug) (1.3.5)\n",
      "Requirement already satisfied: filelock in /usr/local/lib/python3.7/dist-packages (from gdown>=4.0.0->nlpaug) (3.8.0)\n",
      "Requirement already satisfied: beautifulsoup4 in /usr/local/lib/python3.7/dist-packages (from gdown>=4.0.0->nlpaug) (4.6.3)\n",
      "Requirement already satisfied: six in /usr/local/lib/python3.7/dist-packages (from gdown>=4.0.0->nlpaug) (1.15.0)\n",
      "Requirement already satisfied: tqdm in /usr/local/lib/python3.7/dist-packages (from gdown>=4.0.0->nlpaug) (4.64.1)\n",
      "Requirement already satisfied: pytz>=2017.3 in /usr/local/lib/python3.7/dist-packages (from pandas>=1.2.0->nlpaug) (2022.6)\n",
      "Requirement already satisfied: python-dateutil>=2.7.3 in /usr/local/lib/python3.7/dist-packages (from pandas>=1.2.0->nlpaug) (2.8.2)\n",
      "Requirement already satisfied: urllib3!=1.25.0,!=1.25.1,<1.26,>=1.21.1 in /usr/local/lib/python3.7/dist-packages (from requests>=2.22.0->nlpaug) (1.24.3)\n",
      "Requirement already satisfied: chardet<4,>=3.0.2 in /usr/local/lib/python3.7/dist-packages (from requests>=2.22.0->nlpaug) (3.0.4)\n",
      "Requirement already satisfied: idna<3,>=2.5 in /usr/local/lib/python3.7/dist-packages (from requests>=2.22.0->nlpaug) (2.10)\n",
      "Requirement already satisfied: certifi>=2017.4.17 in /usr/local/lib/python3.7/dist-packages (from requests>=2.22.0->nlpaug) (2022.9.24)\n",
      "Requirement already satisfied: PySocks!=1.5.7,>=1.5.6 in /usr/local/lib/python3.7/dist-packages (from requests>=2.22.0->nlpaug) (1.7.1)\n",
      "Installing collected packages: nlpaug\n",
      "Successfully installed nlpaug-1.1.11\n"
     ]
    }
   ],
   "source": [
    "!pip install nlpaug\n",
    "import nlpaug.augmenter.word.context_word_embs as aug"
   ]
  },
  {
   "cell_type": "code",
   "execution_count": null,
   "metadata": {
    "colab": {
     "base_uri": "https://localhost:8080/",
     "height": 209,
     "referenced_widgets": [
      "ef13309950c84c47b9b565f8abb85492",
      "784e02aeab0b4dd3a14a0cfd0fdedeeb",
      "50158591bb494ea9aca6146331f9c068",
      "f21e37cca7284c238d2d7d0814d78e0c",
      "176ff52726e34c2ebf47f47f0a13e20b",
      "91380dc5159f4cb1bae572fc6b8c7d47",
      "d63ac36539004fa29efe643609dc5dc2",
      "e8567064e1554b0a838c18ce3e066b68",
      "f632b477240c4e75840f299264bcf6d1",
      "6b7c846d51b840eeba87f0a5ddbd90a1",
      "72aa4cd2a3f84facb890ff7bddda5d50",
      "c049d6503f9f4e1f8019dc8b8a6d90b6",
      "e1a08100862744658298a977b776768c",
      "a7deda49f4a54240a1a95e190abb92ef",
      "f68fbde1cb204976a7e2dfa800298346",
      "860bd8036b71429195abf7e874279f84",
      "e2ddeebf39f7456da8186866b9948f5d",
      "5c2864442a0c419f9f88d492cf3d71d7",
      "f4e741373e9444be8fa654a4980cc1a0",
      "9bfd75f67703467d8ba1260f67bf894f",
      "0ec007b8a7104a1b9992470147d31f1b",
      "0ff44b756aaf49f199aa75ea7ffa7e61",
      "e5fccb23862d4488a1bd75c4f661d74a",
      "d0ce754e60384484a48807d7ecd85741",
      "83ee48d358854d52886c22420f83c1be",
      "8724ec5be9f24f2d8eb099593a254b16",
      "8fe8b826370f4b45b96e2ac0b4f584c8",
      "48b57ea6820542e1a874f269ab62c34a",
      "2dc651ddcbd640598668c8a847d8173d",
      "ecf48b9498f449be840ac4dce9182bfc",
      "f71302abb22d412da9383475625d533f",
      "7994ba616ae840bbaa01c3435d018d4c",
      "48d094cf3b9d4e61b91c22d1f77610d3",
      "5b7958c5b499456ebcbad5fc86d6dccc",
      "851ca3039bb84020902de21d2afbc638",
      "7ff7f22d1d2a417d97361d71c171551b",
      "fb28a669a7be4a7dbd8c00ae036ae75c",
      "017de591235b474288fdc73fced9e232",
      "b8eb5856d3a44ee6b22dd8b8223bee70",
      "164691d3cbca4136a875acd58664dc50",
      "48bd3bf1ecd6400b8d20aeb8abe1837e",
      "26890014340f46a88899f4df9e431519",
      "712a8c946eba493096ff367bad6c6447",
      "d3a991a218ed4dfd816ec831def73c8c",
      "b7b6148d4df0483583b5244ba123d9d0",
      "637f8c2f65f245f292dc94f48b77d9c1",
      "4c4a0b5900954d3aa58fc784d0957c77",
      "99d63ace3f7e47f9ab93dddc41a14c78",
      "819e407d275c419aa0621cb37f1d6103",
      "1852e215d13f4887a61d3c43bee7ce2c",
      "6dc878aa6d0e4320948b4421ce9462b0",
      "f81099febf7d40abadecbe2855618b62",
      "ea31abf9349c44d0ab3eed2a2ab80a30",
      "22586f99b64546c782150b411eb5b1fd",
      "512724d5d94e4661a381ec60f677f72b",
      "ad1eff9946c848fd918fc79d3f48c773",
      "410d927560354a23b18668321ea8c2cf",
      "e65ead98751e45a1a2eab67074890cf1",
      "4c66ddfcb6544d15a0aa8c192828da22",
      "94c598c92ec44713ac88d02f95ec0833",
      "189f3eded86544c78b4960bc2388606c",
      "08ad6956bcd548d88ecb080924a63e02",
      "45710512d6b94ebf881c4e4360130d58",
      "0e058f2e38644802994245787290df69",
      "7186caa3fd5d4523acefe6710b4cac7b",
      "1c50a4b48d3342fa85f976cdab5f7ba5"
     ]
    },
    "executionInfo": {
     "elapsed": 34904,
     "status": "ok",
     "timestamp": 1669199377163,
     "user": {
      "displayName": "Razan HL",
      "userId": "00189607576210306079"
     },
     "user_tz": -180
    },
    "id": "8aaGmC5aBmoc",
    "outputId": "8d603335-05b5-443f-f310-d51886e0127a"
   },
   "outputs": [],
   "source": [
    "augmenter = aug.ContextualWordEmbsAug(model_path= 'aubmindlab/bert-base-arabertv2', action='substitute')"
   ]
  },
  {
   "cell_type": "code",
   "execution_count": null,
   "metadata": {
    "id": "RJfedqepBmjC"
   },
   "outputs": [],
   "source": [
    "def get_augmented_text(sample, n):\n",
    "  return augmenter.augment(sample, n)"
   ]
  },
  {
   "cell_type": "code",
   "execution_count": null,
   "metadata": {
    "colab": {
     "base_uri": "https://localhost:8080/"
    },
    "executionInfo": {
     "elapsed": 1145,
     "status": "ok",
     "timestamp": 1669199616555,
     "user": {
      "displayName": "Razan HL",
      "userId": "00189607576210306079"
     },
     "user_tz": -180
    },
    "id": "Ek-5nLfMBmba",
    "outputId": "bfa42f40-cfbf-4a69-a9d2-528e76a7c5ac",
    "scrolled": true
   },
   "outputs": [],
   "source": [
    "li = articles['sp_text'].value_counts()\n",
    "li[[1]]"
   ]
  },
  {
   "cell_type": "code",
   "execution_count": null,
   "metadata": {
    "colab": {
     "base_uri": "https://localhost:8080/"
    },
    "executionInfo": {
     "elapsed": 187200,
     "status": "ok",
     "timestamp": 1669199949699,
     "user": {
      "displayName": "Razan HL",
      "userId": "00189607576210306079"
     },
     "user_tz": -180
    },
    "id": "3HCf5BzGBmT6",
    "outputId": "966d747c-5ae2-4411-f135-d76705909a06"
   },
   "outputs": [],
   "source": [
    "for x in range(10):\n",
    "  jj = get_augmented_text(articles['sp_text'][x],1)\n"
   ]
  },
  {
   "cell_type": "markdown",
   "metadata": {
    "id": "5PwmO47YFJP2"
   },
   "source": [
    "# Training Model:"
   ]
  },
  {
   "cell_type": "code",
   "execution_count": null,
   "metadata": {
    "colab": {
     "base_uri": "https://localhost:8080/"
    },
    "executionInfo": {
     "elapsed": 9,
     "status": "ok",
     "timestamp": 1669671113130,
     "user": {
      "displayName": "Razan HL",
      "userId": "00189607576210306079"
     },
     "user_tz": -180
    },
    "id": "E41ECrQnLt87",
    "outputId": "22cdb24f-aa27-4031-b90a-f3c2e52120e7"
   },
   "outputs": [
    {
     "data": {
      "text/plain": [
       "9"
      ]
     },
     "execution_count": 5,
     "metadata": {},
     "output_type": "execute_result"
    }
   ],
   "source": [
    "target_list =['Agricultural_Economics',\t'Agriculture_Biotechnology',\t'Crop_production',\t\n",
    "              'Environmental_Sciences',\t'Food_Technology',\t'Horticulture',\t'Livestock_production',\n",
    "              'Natural_Resources',\t'Plant_Protection']\n",
    "len(target_list)"
   ]
  },
  {
   "cell_type": "code",
   "execution_count": null,
   "metadata": {
    "id": "1B9v8TBXb11H"
   },
   "outputs": [],
   "source": [
    "# hyperparameters\n",
    "MAX_LEN = 256\n",
    "TRAIN_BATCH_SIZE = 32\n",
    "VALID_BATCH_SIZE = 32\n",
    "EPOCHS = 10\n",
    "LEARNING_RATE = 1e-05"
   ]
  },
  {
   "cell_type": "code",
   "execution_count": null,
   "metadata": {
    "colab": {
     "base_uri": "https://localhost:8080/",
     "height": 284,
     "referenced_widgets": [
      "454f0fade0594ee5bba42d553d1133d9",
      "8a81d3b08ca445019358b8b9768fc87d",
      "9536eae0c23b43fbb1d4e4ce9baadd77",
      "96b7c7265c44481aad23e30015e111e8",
      "1ae020693f4d47a0b4c29cfd74d79669",
      "f33a466365ae4f6188f4155137ce8b66",
      "120e2c0aecc3469c9c41120a2616e8fb",
      "ed9725eddfb147c39a370f763f533c14",
      "37ee363981364a83a2947e318f75618c",
      "556444942bab4de790fe87bff426961c",
      "68537bc79f3e4023871452d74799dbf9",
      "f647592b74dc432ca07757b1de149ccc",
      "35eb39ddbaf642fd80ae56e34f006cb6",
      "d34c544e96434d7a9be1cf3715f44c96",
      "fd2745482f89452780a71a78bc53d090",
      "1f5a00e701b34ced90840b6066f02405",
      "ef700e3e581e48f2a1a6b9ef308da491",
      "56300f15f1da4b249f906a076eb79d33",
      "3b8d764a89444255a848725d24a879e3",
      "96d8efa5309441d59543a3ea139d2189",
      "4af60b305d3e4d5fbaf014fc5100f5fa",
      "7538e887ce0a41f49432fe3ef49b3e8e",
      "cd64c3da20854c47ac44d3898ca721c9",
      "dd7a1661756746f2ab23cdc942b875a0",
      "78cf9ec4f65843b2a9c5b392b753b412",
      "9450e6d439834136a5fef70392fb6495",
      "ea70c052d6f5476f8e499ed4a981462c",
      "ca293ec7e2d54bdfb3124c8df55ca3ed",
      "0dd4b9d785cd4377a8bfa9b9adb5af49",
      "bb134f3393c1418e92b3bb8ab4500457",
      "bbc337d09c2f46be9bd5d739581b39ff",
      "ab60297ee0cd42878f3a95de014b7444",
      "2512417dbee74db589f9dcdd56463966",
      "1a6de2836ab84c3aa96617a04e6a9230",
      "320d15f58fcc4bc494b2150c1ae25a6f",
      "9ccb58468ae346028db8d9033c56b3ed",
      "a2e83ab849aa4e748b54a0ae6075a091",
      "a1ad2c3bd8634e799e44d20889f8d674",
      "b6c65ac932b54351a499066c2bb1154a",
      "58d53d61b3b3460caa2792db1b21b1e9",
      "17cfdc51f3e3497e891bbb40c1d872ac",
      "53f68e4e0eb1492aa8a22047e464e199",
      "edd45f082abb4d81b820087082990787",
      "69941a9648344517be6ad697f5c04602",
      "3b2d0d4223a04403994a6264db098231",
      "45623268cc224464b23c426ab2e56bab",
      "1a09f235251a4090b3abd270c7e9f9d1",
      "de60f713150443dca5148c69d3284e99",
      "f9bb8a3b0c8c4e1a8216a82c4804a1e1",
      "7a8ecb7fe9034b5298c9bc7e7b13b331",
      "0cc479e743974f189cdd558b1e392d2f",
      "db4c0b238713452c8bf898b54d5bec97",
      "cfb0abf0b7b24910a83c9d40fb3098f7",
      "469fa424edc34bc399c13482c41bd364",
      "6f9bf682b50c42b9b55dad8bbf088778",
      "43900f67ec004ac18f175dd2bb5febdf",
      "35f9b9a040034fca9556dee5cbaf468f",
      "f1aca7f50e1645f39d623cbe2061d07d",
      "573c8d7b9b0343dfa9200404645eb464",
      "3e26cb9454e945edbd00a5e55f61e60c",
      "5d5be4ada78d42f5b4cd7e025e9e170e",
      "c70db464697b4fee84938b734085d601",
      "76c2c2ce1e694c0a93cebb65aeef7715",
      "aa230bf31ad846d0ab059d609c4dae04",
      "befe5189a2ce422d86095a614e962332",
      "e36ad3355fde45149cd79aadc06973de"
     ]
    },
    "executionInfo": {
     "elapsed": 43807,
     "status": "ok",
     "timestamp": 1669671158559,
     "user": {
      "displayName": "Razan HL",
      "userId": "00189607576210306079"
     },
     "user_tz": -180
    },
    "id": "P6TfF0EtWqH1",
    "outputId": "c053e734-249b-469c-f66c-6f04b2cd652a"
   },
   "outputs": [],
   "source": [
    "from transformers import AutoModel, AutoTokenizer\n",
    "model_name = \"aubmindlab/bert-base-arabertv2\"\n",
    "# arabert_prep = ArabertPreprocessor(model_name=model_name)\n",
    "arabert_model = AutoModel.from_pretrained(model_name, return_dict=True)\n",
    "tokenizer = AutoTokenizer.from_pretrained(model_name)"
   ]
  },
  {
   "cell_type": "code",
   "execution_count": null,
   "metadata": {
    "id": "bUbhbpctb1vw"
   },
   "outputs": [],
   "source": [
    "class ClassificationDataset(torch.utils.data.Dataset):\n",
    "\n",
    "    def __init__(self, df, tokenizer, max_len):\n",
    "        self.tokenizer = tokenizer\n",
    "        self.df = df\n",
    "        self.txt = self.df['sp_text']\n",
    "        self.targets = self.df[target_list].values\n",
    "        self.max_len = max_len\n",
    "\n",
    "    def __len__(self):\n",
    "        return len(self.txt)\n",
    "\n",
    "    def __getitem__(self, index):\n",
    "        txt = str(self.txt[index])\n",
    "        txt = \" \".join(txt.split())\n",
    "\n",
    "        inputs = self.tokenizer.encode_plus(\n",
    "            txt,\n",
    "            None, # to tokenize only one sentence not 2\n",
    "            add_special_tokens=True,\n",
    "            max_length=self.max_len,\n",
    "            padding='max_length',\n",
    "            return_token_type_ids=True,\n",
    "            truncation=True,\n",
    "            return_attention_mask=True,\n",
    "            return_tensors='pt'\n",
    "        )\n",
    "\n",
    "        return {\n",
    "            'input_ids': inputs['input_ids'].flatten(),\n",
    "            'attention_mask': inputs['attention_mask'].flatten(),\n",
    "            'token_type_ids': inputs[\"token_type_ids\"].flatten(),\n",
    "            'targets': torch.FloatTensor(self.targets[index])\n",
    "        }"
   ]
  },
  {
   "cell_type": "code",
   "execution_count": null,
   "metadata": {
    "id": "qzR-m95IOlcg"
   },
   "outputs": [],
   "source": [
    "train_data = ClassificationDataset(train_dataset, tokenizer, MAX_LEN)\n",
    "valid_data = ClassificationDataset(splited_validation, tokenizer, MAX_LEN)"
   ]
  },
  {
   "cell_type": "code",
   "execution_count": null,
   "metadata": {
    "id": "PH9DlEulSqdD"
   },
   "outputs": [],
   "source": [
    "train_data_loader = torch.utils.data.DataLoader(train_data, \n",
    "    batch_size=TRAIN_BATCH_SIZE,\n",
    "    shuffle=True,\n",
    "    num_workers=0\n",
    ")\n",
    "\n",
    "val_data_loader = torch.utils.data.DataLoader(valid_data, \n",
    "    batch_size=VALID_BATCH_SIZE,\n",
    "    shuffle=False,\n",
    "    num_workers=0\n",
    ")"
   ]
  },
  {
   "cell_type": "code",
   "execution_count": null,
   "metadata": {
    "colab": {
     "base_uri": "https://localhost:8080/"
    },
    "executionInfo": {
     "elapsed": 450,
     "status": "ok",
     "timestamp": 1669671158984,
     "user": {
      "displayName": "Razan HL",
      "userId": "00189607576210306079"
     },
     "user_tz": -180
    },
    "id": "6g4GmJnAVhab",
    "outputId": "48b1e063-92b3-4282-c9f8-1c24827ae7b2"
   },
   "outputs": [
    {
     "data": {
      "text/plain": [
       "device(type='cpu')"
      ]
     },
     "execution_count": 8,
     "metadata": {},
     "output_type": "execute_result"
    }
   ],
   "source": [
    "device = torch.device('cuda') if torch.cuda.is_available() else torch.device('cpu')\n",
    "device"
   ]
  },
  {
   "cell_type": "code",
   "execution_count": null,
   "metadata": {
    "id": "ckI0sKxcVhXd"
   },
   "outputs": [],
   "source": [
    "def load_ckp(checkpoint_fpath, model, optimizer, device):\n",
    "    \"\"\"\n",
    "    checkpoint_path: path to save checkpoint\n",
    "    model: model that we want to load checkpoint parameters into       \n",
    "    optimizer: optimizer we defined in previous training\n",
    "    \"\"\"\n",
    "    # load check point\n",
    "    checkpoint = torch.load(checkpoint_fpath, map_location= device)\n",
    "    # initialize state_dict from checkpoint to model\n",
    "    model.load_state_dict(checkpoint['state_dict'])\n",
    "    # initialize optimizer from checkpoint to optimizer\n",
    "    optimizer.load_state_dict(checkpoint['optimizer'])\n",
    "    # initialize valid_loss_min from checkpoint to valid_loss_min\n",
    "    valid_loss_min = checkpoint['valid_loss_min']\n",
    "    # return model, optimizer, epoch value, min validation loss \n",
    "    return model, optimizer, checkpoint['epoch'], valid_loss_min  #.item()\n",
    "\n",
    "# def save_ckp(state, is_best, checkpoint_path, best_model_path):\n",
    "#     \"\"\"\n",
    "#     state: checkpoint we want to save\n",
    "#     is_best: is this the best checkpoint; min validation loss\n",
    "#     checkpoint_path: path to save checkpoint\n",
    "#     best_model_path: path to save best model\n",
    "#     \"\"\"\n",
    "#     f_path = checkpoint_path\n",
    "#     # save checkpoint data to the path given, checkpoint_path\n",
    "#     torch.save(state, f_path)\n",
    "#     # if it is a best model, min validation loss\n",
    "#     if is_best:\n",
    "#         best_fpath = best_model_path\n",
    "#         # copy that checkpoint file to best path given, best_model_path\n",
    "#         shutil.copyfile(f_path, best_fpath)"
   ]
  },
  {
   "cell_type": "code",
   "execution_count": null,
   "metadata": {
    "id": "TQZ9sFcUYUU8"
   },
   "outputs": [],
   "source": [
    "class BERTClass(torch.nn.Module):\n",
    "    def __init__(self):\n",
    "        super(BERTClass, self).__init__()\n",
    "        self.model = arabert_model\n",
    "        self.dropout = torch.nn.Dropout(0.3)\n",
    "        self.linear = torch.nn.Linear(768, 9)\n",
    "    \n",
    "    def forward(self, input_ids, attn_mask, token_type_ids):\n",
    "        output = self.model(\n",
    "            input_ids, \n",
    "            attention_mask=attn_mask, \n",
    "            token_type_ids=token_type_ids\n",
    "        )\n",
    "        output_dropout = self.dropout(output.pooler_output)\n",
    "        output = self.linear(output_dropout)\n",
    "        return output\n"
   ]
  },
  {
   "cell_type": "code",
   "execution_count": null,
   "metadata": {
    "id": "zTu_I5-ZW4wT"
   },
   "outputs": [],
   "source": [
    "model = BERTClass()\n",
    "model.to(device)"
   ]
  },
  {
   "cell_type": "code",
   "execution_count": null,
   "metadata": {
    "id": "gSz5neV4YU1j"
   },
   "outputs": [],
   "source": [
    "def loss_fn(outputs, targets):\n",
    "    return torch.nn.BCEWithLogitsLoss()(outputs, targets)\n",
    "\n",
    "optimizer = torch.optim.Adam(params =model.parameters(), lr=LEARNING_RATE)\n"
   ]
  },
  {
   "cell_type": "code",
   "execution_count": null,
   "metadata": {
    "id": "YLQACCvI3HRX"
   },
   "outputs": [],
   "source": [
    "def accuracy_fn(targets, outputs):\n",
    "  y_pred=[]\n",
    "  for sample in outputs:\n",
    "    y_pred.append([1 if i>=0.5 else 0 for i in sample] )\n",
    "  y_pred = np.array(y_pred)\n",
    "  y_labels = np.array(targets)\n",
    "  report = classification_report(y_labels, y_pred,target_names=target_list, zero_division=1)\n",
    "  acc = accuracy_score(y_labels, y_pred)\n",
    "  f1 = f1_score(y_labels, y_pred, average='macro', zero_division=1)\n",
    "  per = precision_score(y_labels, y_pred, average='macro', zero_division=1)\n",
    "  recall = recall_score(y_labels, y_pred,average='macro', zero_division=1)\n",
    "  # cm = multilabel_confusion_matrix(y_labels, y_pred, samplewise=True)\n",
    "  return (report, acc, f1, per, recall)\n",
    "  "
   ]
  },
  {
   "cell_type": "code",
   "execution_count": null,
   "metadata": {
    "id": "RrKYn130YUSj"
   },
   "outputs": [],
   "source": [
    "\n",
    "def train_model(n_epochs, training_loader, validation_loader, model, \n",
    "                optimizer, checkpoint_path):\n",
    "   \n",
    "  # initialize tracker for minimum validation loss\n",
    "  valid_loss_min = np.Inf\n",
    "   \n",
    " \n",
    "  for epoch in range(1, n_epochs+1):\n",
    "    start_training_time = datetime.now()\n",
    "    train_loss = 0\n",
    "    valid_loss = 0\n",
    "    val_targets=[]\n",
    "    val_outputs=[]\n",
    "\n",
    "    model.train()\n",
    "    print('_____________ Epoch {}: Training Start _____________'.format(epoch))\n",
    "    print('Training started at: {}'.format(start_training_time))\n",
    "    for batch_idx, data in enumerate(training_loader):\n",
    "        ids = data['input_ids'].to(device, dtype = torch.long)\n",
    "        mask = data['attention_mask'].to(device, dtype = torch.long)\n",
    "        token_type_ids = data['token_type_ids'].to(device, dtype = torch.long)\n",
    "        targets = data['targets'].to(device, dtype = torch.float)\n",
    "\n",
    "        outputs = model(ids, mask, token_type_ids)\n",
    "\n",
    "        optimizer.zero_grad()\n",
    "        loss = loss_fn(outputs, targets)\n",
    "        \n",
    "        # optimizer.zero_grad()\n",
    "        loss.backward()\n",
    "        optimizer.step()\n",
    "        train_loss += loss.item()\n",
    "        # train_loss = train_loss + ((1 / (batch_idx + 1)) * (loss.item() - train_loss))\n",
    "        #print('after loss data in training', loss.item(), train_loss)\n",
    "    \n",
    "    print('\\n_____________ Epoch {}: Training End _____________'.format(epoch))\n",
    "    end_training_time = datetime.now()\n",
    "    print('Training took: {}'.format(end_training_time - start_training_time))\n",
    "\n",
    "    print('\\n_____________ Epoch {}: Validation Start _____________'.format(epoch))\n",
    "    start_validation_time = datetime.now()\n",
    "    print('Validation started at: {}'.format(start_training_time))\n",
    " \n",
    "    model.eval()\n",
    "   \n",
    "    with torch.no_grad():\n",
    "      for batch_idx, data in enumerate(validation_loader, 0):\n",
    "            ids = data['input_ids'].to(device, dtype = torch.long)\n",
    "            mask = data['attention_mask'].to(device, dtype = torch.long)\n",
    "            token_type_ids = data['token_type_ids'].to(device, dtype = torch.long)\n",
    "            targets = data['targets'].to(device, dtype = torch.float)\n",
    "            outputs = model(ids, mask, token_type_ids)\n",
    "\n",
    "            loss = loss_fn(outputs, targets)\n",
    "            valid_loss += loss.item()\n",
    "            # valid_loss = valid_loss + ((1 / (batch_idx + 1)) * (loss.item() - valid_loss))\n",
    "            val_targets.extend(targets.cpu().detach().numpy().tolist())\n",
    "            val_outputs.extend(torch.sigmoid(outputs).cpu().detach().numpy().tolist())\n",
    "      # report, acc, f1, per, recall, cm = accuracy_fn(val_targets, val_outputs)\n",
    "      \n",
    "\n",
    "      print('\\n_____________ Epoch {}: Validation End _____________'.format(epoch))\n",
    "      # calculate average losses\n",
    "      #print('before cal avg train loss', train_loss)\n",
    "      train_loss = train_loss/len(training_loader)\n",
    "      valid_loss = valid_loss/len(validation_loader)\n",
    "      # print training/validation statistics \n",
    "      print('Epoch: {} \\tAvgerage Training Loss: {:.6f} \\tAverage Validation Loss: {:.6f}'.format(\n",
    "            epoch, \n",
    "            train_loss,\n",
    "            valid_loss\n",
    "            ))\n",
    "      \n",
    "      # create checkpoint variable and add important data\n",
    "      checkpoint = {\n",
    "            'epoch': epoch + 1,\n",
    "            'valid_loss_min': valid_loss,\n",
    "            'state_dict': model.state_dict(),\n",
    "            'optimizer': optimizer.state_dict()\n",
    "      }\n",
    "        \n",
    "        # save checkpoint\n",
    "      # save_ckp(checkpoint, False, checkpoint_path, best_model_path)\n",
    "        \n",
    "      ## save the model if validation loss has decreased\n",
    "      if valid_loss <= valid_loss_min:\n",
    "        print('Validation loss decreased ({:.6f} --> {:.6f}).  Saving model ...'.format(valid_loss_min,valid_loss))\n",
    "        # save checkpoint as best model\n",
    "        torch.save(checkpoint, checkpoint_path)\n",
    "#     # if it is a best model, min validation loss\n",
    "#     if is_best:\n",
    "#         best_fpath = best_model_path\n",
    "        # save_ckp(checkpoint, True, checkpoint_path, best_model_path)\n",
    "        valid_loss_min = valid_loss\n",
    "    report, acc, f1, per, recall = accuracy_fn(val_targets, val_outputs)\n",
    "    print(report)\n",
    "    print('Model Accuracy: ', acc)\n",
    "    print('Total F1_score: ', f1)\n",
    "    print('Total Percision', per)\n",
    "    print('Total Recall', recall)\n",
    "    end_validation_time = datetime.now()\n",
    "    print('\\n Validation took: {}'.format(end_validation_time - start_validation_time))\n",
    "\n",
    "    print('_____________ Epoch {}  Done _____________\\n'.format(epoch))\n",
    "\n",
    "  return model"
   ]
  },
  {
   "cell_type": "code",
   "execution_count": null,
   "metadata": {
    "id": "rZUdtLZiwCi3"
   },
   "outputs": [],
   "source": [
    "# loading trained model\n",
    "model, optimizer, epoch_num, min_valid_loss = load_ckp('/content/drive/MyDrive/araBERTv2/curr_ckpt.ckpt', model,  optimizer)"
   ]
  },
  {
   "cell_type": "code",
   "execution_count": null,
   "metadata": {
    "colab": {
     "base_uri": "https://localhost:8080/"
    },
    "executionInfo": {
     "elapsed": 3253482,
     "status": "ok",
     "timestamp": 1669209725731,
     "user": {
      "displayName": "Razan HL",
      "userId": "00189607576210306079"
     },
     "user_tz": -180
    },
    "id": "Mf1F2-55OlP9",
    "outputId": "3d93de32-4e31-41cf-8f8a-3fa8360b3ba9"
   },
   "outputs": [
    {
     "name": "stdout",
     "output_type": "stream",
     "text": [
      "_____________ Epoch 1: Training Start _____________\n",
      "Training started at: 2022-11-23 11:05:04.068316\n",
      "\n",
      "_____________ Epoch 1: Training End _____________\n",
      "Training took: 0:12:54.809403\n",
      "\n",
      "_____________ Epoch 1: Validation Start _____________\n",
      "Validation started at: 2022-11-23 11:05:04.068316\n",
      "\n",
      "_____________ Epoch 1: Validation End _____________\n",
      "Epoch: 1 \tAvgerage Training Loss: 0.260127 \tAverage Validation Loss: 0.170761\n",
      "Validation loss decreased (inf --> 0.170761).  Saving model ...\n",
      "                           precision    recall  f1-score   support\n",
      "\n",
      "   Agricultural_Economics       1.00      0.84      0.91       523\n",
      "Agriculture_Biotechnology       0.56      0.66      0.60       137\n",
      "          Crop_production       0.86      0.74      0.80       578\n",
      "   Environmental_Sciences       0.88      0.71      0.79       327\n",
      "          Food_Technology       0.82      0.96      0.88       185\n",
      "             Horticulture       0.87      0.68      0.76       607\n",
      "     Livestock_production       0.96      0.87      0.91       188\n",
      "        Natural_Resources       0.65      0.82      0.73       518\n",
      "         Plant_Protection       0.93      0.95      0.94       248\n",
      "\n",
      "                micro avg       0.83      0.79      0.81      3311\n",
      "                macro avg       0.84      0.80      0.81      3311\n",
      "             weighted avg       0.85      0.79      0.81      3311\n",
      "              samples avg       0.86      0.81      0.80      3311\n",
      "\n",
      "Model Accuracy:  0.661759154397886\n",
      "Total F1_score:  0.813482813289649\n",
      "Total Percision 0.8359152943441658\n",
      "Total Recall 0.8029560016241065\n",
      "\n",
      " Validation took: 0:00:45.826491\n",
      "_____________ Epoch 1  Done _____________\n",
      "\n",
      "_____________ Epoch 2: Training Start _____________\n",
      "Training started at: 2022-11-23 11:18:44.704351\n",
      "\n",
      "_____________ Epoch 2: Training End _____________\n",
      "Training took: 0:12:57.043936\n",
      "\n",
      "_____________ Epoch 2: Validation Start _____________\n",
      "Validation started at: 2022-11-23 11:18:44.704351\n",
      "\n",
      "_____________ Epoch 2: Validation End _____________\n",
      "Epoch: 2 \tAvgerage Training Loss: 0.132030 \tAverage Validation Loss: 0.103628\n",
      "Validation loss decreased (0.170761 --> 0.103628).  Saving model ...\n",
      "                           precision    recall  f1-score   support\n",
      "\n",
      "   Agricultural_Economics       1.00      0.90      0.95       523\n",
      "Agriculture_Biotechnology       0.78      0.66      0.71       137\n",
      "          Crop_production       0.91      0.85      0.88       578\n",
      "   Environmental_Sciences       0.91      0.79      0.85       327\n",
      "          Food_Technology       0.94      0.95      0.94       185\n",
      "             Horticulture       0.92      0.85      0.88       607\n",
      "     Livestock_production       0.98      0.94      0.96       188\n",
      "        Natural_Resources       0.87      0.74      0.80       518\n",
      "         Plant_Protection       0.98      0.96      0.97       248\n",
      "\n",
      "                micro avg       0.93      0.85      0.88      3311\n",
      "                macro avg       0.92      0.85      0.88      3311\n",
      "             weighted avg       0.92      0.85      0.88      3311\n",
      "              samples avg       0.94      0.87      0.88      3311\n",
      "\n",
      "Model Accuracy:  0.786711966779917\n",
      "Total F1_score:  0.8822266956207196\n",
      "Total Percision 0.9200574889956419\n",
      "Total Recall 0.8487767074937828\n",
      "\n",
      " Validation took: 0:00:45.706262\n",
      "_____________ Epoch 2  Done _____________\n",
      "\n",
      "_____________ Epoch 3: Training Start _____________\n",
      "Training started at: 2022-11-23 11:32:27.454666\n",
      "\n",
      "_____________ Epoch 3: Training End _____________\n",
      "Training took: 0:12:57.534163\n",
      "\n",
      "_____________ Epoch 3: Validation Start _____________\n",
      "Validation started at: 2022-11-23 11:32:27.454666\n",
      "\n",
      "_____________ Epoch 3: Validation End _____________\n",
      "Epoch: 3 \tAvgerage Training Loss: 0.082551 \tAverage Validation Loss: 0.084552\n",
      "Validation loss decreased (0.103628 --> 0.084552).  Saving model ...\n",
      "                           precision    recall  f1-score   support\n",
      "\n",
      "   Agricultural_Economics       1.00      0.92      0.96       523\n",
      "Agriculture_Biotechnology       0.86      0.69      0.77       137\n",
      "          Crop_production       0.89      0.95      0.92       578\n",
      "   Environmental_Sciences       0.91      0.91      0.91       327\n",
      "          Food_Technology       0.99      0.87      0.93       185\n",
      "             Horticulture       0.96      0.84      0.90       607\n",
      "     Livestock_production       0.94      0.98      0.96       188\n",
      "        Natural_Resources       0.83      0.90      0.86       518\n",
      "         Plant_Protection       0.96      0.99      0.97       248\n",
      "\n",
      "                micro avg       0.92      0.90      0.91      3311\n",
      "                macro avg       0.93      0.89      0.91      3311\n",
      "             weighted avg       0.93      0.90      0.91      3311\n",
      "              samples avg       0.94      0.92      0.91      3311\n",
      "\n",
      "Model Accuracy:  0.8384295960739901\n",
      "Total F1_score:  0.9086097157998749\n",
      "Total Percision 0.9275736627782233\n",
      "Total Recall 0.8942848925671699\n",
      "\n",
      " Validation took: 0:00:45.990675\n",
      "_____________ Epoch 3  Done _____________\n",
      "\n",
      "_____________ Epoch 4: Training Start _____________\n",
      "Training started at: 2022-11-23 11:46:10.979618\n",
      "\n",
      "_____________ Epoch 4: Training End _____________\n",
      "Training took: 0:12:57.621363\n",
      "\n",
      "_____________ Epoch 4: Validation Start _____________\n",
      "Validation started at: 2022-11-23 11:46:10.979618\n",
      "\n",
      "_____________ Epoch 4: Validation End _____________\n",
      "Epoch: 4 \tAvgerage Training Loss: 0.057933 \tAverage Validation Loss: 0.071087\n",
      "Validation loss decreased (0.084552 --> 0.071087).  Saving model ...\n",
      "                           precision    recall  f1-score   support\n",
      "\n",
      "   Agricultural_Economics       1.00      0.91      0.95       523\n",
      "Agriculture_Biotechnology       0.87      0.65      0.74       137\n",
      "          Crop_production       0.96      0.89      0.92       578\n",
      "   Environmental_Sciences       0.91      0.92      0.92       327\n",
      "          Food_Technology       0.99      0.91      0.95       185\n",
      "             Horticulture       0.90      0.93      0.91       607\n",
      "     Livestock_production       0.98      0.98      0.98       188\n",
      "        Natural_Resources       0.89      0.90      0.89       518\n",
      "         Plant_Protection       0.99      0.98      0.98       248\n",
      "\n",
      "                micro avg       0.94      0.91      0.92      3311\n",
      "                macro avg       0.94      0.90      0.92      3311\n",
      "             weighted avg       0.94      0.91      0.92      3311\n",
      "              samples avg       0.95      0.93      0.93      3311\n",
      "\n",
      "Model Accuracy:  0.8618346545866364\n",
      "Total F1_score:  0.9178003892763221\n",
      "Total Percision 0.9427211126349544\n",
      "Total Recall 0.8976121897862017\n",
      "\n",
      " Validation took: 0:00:46.515288\n",
      "_____________ Epoch 4  Done _____________\n",
      "\n",
      "_____________ Epoch 5: Training Start _____________\n",
      "Training started at: 2022-11-23 11:59:55.116406\n",
      "\n",
      "_____________ Epoch 5: Training End _____________\n",
      "Training took: 0:12:57.286952\n",
      "\n",
      "_____________ Epoch 5: Validation Start _____________\n",
      "Validation started at: 2022-11-23 11:59:55.116406\n",
      "\n",
      "_____________ Epoch 5: Validation End _____________\n",
      "Epoch: 5 \tAvgerage Training Loss: 0.040863 \tAverage Validation Loss: 0.064233\n",
      "Validation loss decreased (0.071087 --> 0.064233).  Saving model ...\n",
      "                           precision    recall  f1-score   support\n",
      "\n",
      "   Agricultural_Economics       1.00      0.94      0.97       523\n",
      "Agriculture_Biotechnology       0.82      0.72      0.77       137\n",
      "          Crop_production       0.95      0.91      0.93       578\n",
      "   Environmental_Sciences       0.92      0.94      0.93       327\n",
      "          Food_Technology       0.99      0.91      0.95       185\n",
      "             Horticulture       0.93      0.93      0.93       607\n",
      "     Livestock_production       0.99      0.98      0.99       188\n",
      "        Natural_Resources       0.86      0.96      0.91       518\n",
      "         Plant_Protection       1.00      0.98      0.99       248\n",
      "\n",
      "                micro avg       0.94      0.93      0.93      3311\n",
      "                macro avg       0.94      0.92      0.93      3311\n",
      "             weighted avg       0.94      0.93      0.93      3311\n",
      "              samples avg       0.95      0.94      0.94      3311\n",
      "\n",
      "Model Accuracy:  0.8818422046055115\n",
      "Total F1_score:  0.9281525906380147\n",
      "Total Percision 0.9406050812499223\n",
      "Total Recall 0.9178655733412651\n",
      "\n",
      " Validation took: 0:00:45.928486\n",
      "_____________ Epoch 5  Done _____________\n",
      "\n",
      "_____________ Epoch 6: Training Start _____________\n",
      "Training started at: 2022-11-23 12:13:38.331968\n",
      "\n",
      "_____________ Epoch 6: Training End _____________\n",
      "Training took: 0:12:57.972698\n",
      "\n",
      "_____________ Epoch 6: Validation Start _____________\n",
      "Validation started at: 2022-11-23 12:13:38.331968\n",
      "\n",
      "_____________ Epoch 6: Validation End _____________\n",
      "Epoch: 6 \tAvgerage Training Loss: 0.032188 \tAverage Validation Loss: 0.059507\n",
      "Validation loss decreased (0.064233 --> 0.059507).  Saving model ...\n",
      "                           precision    recall  f1-score   support\n",
      "\n",
      "   Agricultural_Economics       0.99      0.99      0.99       523\n",
      "Agriculture_Biotechnology       0.90      0.67      0.77       137\n",
      "          Crop_production       0.95      0.93      0.94       578\n",
      "   Environmental_Sciences       0.91      0.94      0.93       327\n",
      "          Food_Technology       0.99      0.92      0.96       185\n",
      "             Horticulture       0.95      0.92      0.93       607\n",
      "     Livestock_production       1.00      0.97      0.99       188\n",
      "        Natural_Resources       0.85      0.99      0.91       518\n",
      "         Plant_Protection       0.98      0.99      0.99       248\n",
      "\n",
      "                micro avg       0.94      0.94      0.94      3311\n",
      "                macro avg       0.95      0.93      0.93      3311\n",
      "             weighted avg       0.94      0.94      0.94      3311\n",
      "              samples avg       0.95      0.95      0.95      3311\n",
      "\n",
      "Model Accuracy:  0.8984522461306154\n",
      "Total F1_score:  0.933713934274151\n",
      "Total Percision 0.9477071603797521\n",
      "Total Recall 0.92512171279523\n",
      "\n",
      " Validation took: 0:00:46.246899\n",
      "_____________ Epoch 6  Done _____________\n",
      "\n",
      "_____________ Epoch 7: Training Start _____________\n",
      "Training started at: 2022-11-23 12:27:22.551702\n",
      "\n",
      "_____________ Epoch 7: Training End _____________\n",
      "Training took: 0:12:57.442542\n",
      "\n",
      "_____________ Epoch 7: Validation Start _____________\n",
      "Validation started at: 2022-11-23 12:27:22.551702\n",
      "\n",
      "_____________ Epoch 7: Validation End _____________\n",
      "Epoch: 7 \tAvgerage Training Loss: 0.025117 \tAverage Validation Loss: 0.059768\n",
      "                           precision    recall  f1-score   support\n",
      "\n",
      "   Agricultural_Economics       1.00      0.97      0.98       523\n",
      "Agriculture_Biotechnology       0.98      0.62      0.76       137\n",
      "          Crop_production       0.91      0.95      0.93       578\n",
      "   Environmental_Sciences       0.95      0.90      0.92       327\n",
      "          Food_Technology       0.98      0.94      0.96       185\n",
      "             Horticulture       0.94      0.93      0.93       607\n",
      "     Livestock_production       1.00      0.98      0.99       188\n",
      "        Natural_Resources       0.91      0.98      0.94       518\n",
      "         Plant_Protection       0.99      0.99      0.99       248\n",
      "\n",
      "                micro avg       0.95      0.94      0.94      3311\n",
      "                macro avg       0.96      0.92      0.93      3311\n",
      "             weighted avg       0.95      0.94      0.94      3311\n",
      "              samples avg       0.96      0.95      0.95      3311\n",
      "\n",
      "Model Accuracy:  0.9078897697244243\n",
      "Total F1_score:  0.934397232247803\n",
      "Total Percision 0.9613214035769803\n",
      "Total Recall 0.9170748877424229\n",
      "\n",
      " Validation took: 0:00:39.417286\n",
      "_____________ Epoch 7  Done _____________\n",
      "\n",
      "_____________ Epoch 8: Training Start _____________\n",
      "Training started at: 2022-11-23 12:40:59.411741\n",
      "\n",
      "_____________ Epoch 8: Training End _____________\n",
      "Training took: 0:12:57.234511\n",
      "\n",
      "_____________ Epoch 8: Validation Start _____________\n",
      "Validation started at: 2022-11-23 12:40:59.411741\n",
      "\n",
      "_____________ Epoch 8: Validation End _____________\n",
      "Epoch: 8 \tAvgerage Training Loss: 0.019141 \tAverage Validation Loss: 0.057333\n",
      "Validation loss decreased (0.059507 --> 0.057333).  Saving model ...\n",
      "                           precision    recall  f1-score   support\n",
      "\n",
      "   Agricultural_Economics       1.00      0.99      0.99       523\n",
      "Agriculture_Biotechnology       0.94      0.65      0.77       137\n",
      "          Crop_production       0.96      0.93      0.94       578\n",
      "   Environmental_Sciences       0.92      0.94      0.93       327\n",
      "          Food_Technology       0.95      0.97      0.96       185\n",
      "             Horticulture       0.95      0.93      0.94       607\n",
      "     Livestock_production       1.00      0.97      0.98       188\n",
      "        Natural_Resources       0.91      1.00      0.95       518\n",
      "         Plant_Protection       1.00      0.99      0.99       248\n",
      "\n",
      "                micro avg       0.95      0.95      0.95      3311\n",
      "                macro avg       0.96      0.93      0.94      3311\n",
      "             weighted avg       0.95      0.95      0.95      3311\n",
      "              samples avg       0.96      0.96      0.95      3311\n",
      "\n",
      "Model Accuracy:  0.9203473008682521\n",
      "Total F1_score:  0.9397824059239342\n",
      "Total Percision 0.9570314979226866\n",
      "Total Recall 0.92898873107284\n",
      "\n",
      " Validation took: 0:00:46.587973\n",
      "_____________ Epoch 8  Done _____________\n",
      "\n",
      "_____________ Epoch 9: Training Start _____________\n",
      "Training started at: 2022-11-23 12:54:43.234368\n",
      "\n",
      "_____________ Epoch 9: Training End _____________\n",
      "Training took: 0:12:57.813317\n",
      "\n",
      "_____________ Epoch 9: Validation Start _____________\n",
      "Validation started at: 2022-11-23 12:54:43.234368\n",
      "\n",
      "_____________ Epoch 9: Validation End _____________\n",
      "Epoch: 9 \tAvgerage Training Loss: 0.015739 \tAverage Validation Loss: 0.058159\n",
      "                           precision    recall  f1-score   support\n",
      "\n",
      "   Agricultural_Economics       1.00      0.99      1.00       523\n",
      "Agriculture_Biotechnology       0.93      0.66      0.77       137\n",
      "          Crop_production       0.93      0.95      0.94       578\n",
      "   Environmental_Sciences       0.95      0.92      0.93       327\n",
      "          Food_Technology       1.00      0.92      0.96       185\n",
      "             Horticulture       0.95      0.94      0.95       607\n",
      "     Livestock_production       0.99      0.98      0.99       188\n",
      "        Natural_Resources       0.90      0.98      0.94       518\n",
      "         Plant_Protection       0.97      0.99      0.98       248\n",
      "\n",
      "                micro avg       0.95      0.95      0.95      3311\n",
      "                macro avg       0.96      0.93      0.94      3311\n",
      "             weighted avg       0.95      0.95      0.95      3311\n",
      "              samples avg       0.96      0.96      0.95      3311\n",
      "\n",
      "Model Accuracy:  0.9192147980369951\n",
      "Total F1_score:  0.9392401371989462\n",
      "Total Percision 0.9572639571879914\n",
      "Total Recall 0.9268726425757605\n",
      "\n",
      " Validation took: 0:00:39.361750\n",
      "_____________ Epoch 9  Done _____________\n",
      "\n",
      "_____________ Epoch 10: Training Start _____________\n",
      "Training started at: 2022-11-23 13:08:20.413703\n",
      "\n",
      "_____________ Epoch 10: Training End _____________\n",
      "Training took: 0:12:57.465820\n",
      "\n",
      "_____________ Epoch 10: Validation Start _____________\n",
      "Validation started at: 2022-11-23 13:08:20.413703\n",
      "\n",
      "_____________ Epoch 10: Validation End _____________\n",
      "Epoch: 10 \tAvgerage Training Loss: 0.012707 \tAverage Validation Loss: 0.055539\n",
      "Validation loss decreased (0.057333 --> 0.055539).  Saving model ...\n",
      "                           precision    recall  f1-score   support\n",
      "\n",
      "   Agricultural_Economics       0.99      0.99      0.99       523\n",
      "Agriculture_Biotechnology       0.97      0.65      0.78       137\n",
      "          Crop_production       0.96      0.94      0.95       578\n",
      "   Environmental_Sciences       0.96      0.92      0.94       327\n",
      "          Food_Technology       0.96      0.95      0.95       185\n",
      "             Horticulture       0.94      0.95      0.94       607\n",
      "     Livestock_production       1.00      0.97      0.99       188\n",
      "        Natural_Resources       0.91      1.00      0.95       518\n",
      "         Plant_Protection       1.00      0.99      0.99       248\n",
      "\n",
      "                micro avg       0.96      0.95      0.95      3311\n",
      "                macro avg       0.96      0.93      0.94      3311\n",
      "             weighted avg       0.96      0.95      0.95      3311\n",
      "              samples avg       0.96      0.96      0.96      3311\n",
      "\n",
      "Model Accuracy:  0.9290298225745565\n",
      "Total F1_score:  0.9434108490973697\n",
      "Total Percision 0.96486283833018\n",
      "Total Recall 0.9294913949473774\n",
      "\n",
      " Validation took: 0:00:45.972720\n",
      "_____________ Epoch 10  Done _____________\n",
      "\n"
     ]
    }
   ],
   "source": [
    "#  27/9/2022\n",
    "ckpt_path = \"/content/drive/MyDrive/araBERTv2/curr_ckpt.ckpt\"\n",
    "# best_model_path = \"/content/drive/MyDrive/araBERTv2/best_model.pt\"\n",
    "trained_model = train_model(EPOCHS, train_data_loader, val_data_loader, model, optimizer, ckpt_path)"
   ]
  },
  {
   "cell_type": "code",
   "execution_count": null,
   "metadata": {
    "id": "CPCiOyBQHT9F"
   },
   "outputs": [],
   "source": [
    "torch.save(model.state_dict(), '/content/drive/MyDrive/araBERTv2/arabert_classifier.pt')"
   ]
  },
  {
   "cell_type": "code",
   "execution_count": null,
   "metadata": {
    "colab": {
     "base_uri": "https://localhost:8080/",
     "height": 1000
    },
    "executionInfo": {
     "elapsed": 822133,
     "status": "error",
     "timestamp": 1669324199900,
     "user": {
      "displayName": "Razan HL",
      "userId": "00189607576210306079"
     },
     "user_tz": -180
    },
    "id": "iyFE1hSt9c9x",
    "outputId": "dd970a06-f512-4db0-de12-e786b64066a0"
   },
   "outputs": [
    {
     "name": "stdout",
     "output_type": "stream",
     "text": [
      "_____________ Epoch 1: Training Start _____________\n",
      "Training started at: 2022-11-24 18:29:49.308992\n",
      "\n",
      "_____________ Epoch 1: Training End _____________\n",
      "Training took: 0:14:29.911097\n",
      "\n",
      "_____________ Epoch 1: Validation Start _____________\n",
      "Validation started at: 2022-11-24 18:29:49.308992\n",
      "\n",
      "_____________ Epoch 1: Validation End _____________\n",
      "Epoch: 1 \tAvgerage Training Loss: 0.011803 \tAverage Validation Loss: 0.060696\n",
      "Validation loss decreased (inf --> 0.060696).  Saving model ...\n",
      "                           precision    recall  f1-score   support\n",
      "\n",
      "   Agricultural_Economics       1.00      0.99      1.00       523\n",
      "Agriculture_Biotechnology       0.95      0.67      0.79       137\n",
      "          Crop_production       0.95      0.94      0.95       578\n",
      "   Environmental_Sciences       0.94      0.94      0.94       327\n",
      "          Food_Technology       0.99      0.91      0.95       185\n",
      "             Horticulture       0.94      0.93      0.93       607\n",
      "     Livestock_production       0.99      0.99      0.99       188\n",
      "        Natural_Resources       0.90      1.00      0.95       518\n",
      "         Plant_Protection       0.98      0.99      0.99       248\n",
      "\n",
      "                micro avg       0.95      0.95      0.95      3311\n",
      "                macro avg       0.96      0.93      0.94      3311\n",
      "             weighted avg       0.95      0.95      0.95      3311\n",
      "              samples avg       0.96      0.96      0.96      3311\n",
      "\n",
      "Model Accuracy:  0.9252548131370328\n",
      "Total F1_score:  0.9423758319507586\n",
      "Total Percision 0.959820897226591\n",
      "Total Recall 0.931102816608692\n",
      "\n",
      " Validation took: 0:00:54.133743\n",
      "_____________ Epoch 1  Done _____________\n",
      "\n",
      "_____________ Epoch 2: Training Start _____________\n",
      "Training started at: 2022-11-24 18:45:13.355411\n",
      "\n",
      "_____________ Epoch 2: Training End _____________\n",
      "Training took: 0:14:47.170847\n",
      "\n",
      "_____________ Epoch 2: Validation Start _____________\n",
      "Validation started at: 2022-11-24 18:45:13.355411\n",
      "\n",
      "_____________ Epoch 2: Validation End _____________\n",
      "Epoch: 2 \tAvgerage Training Loss: 0.009171 \tAverage Validation Loss: 0.064896\n",
      "                           precision    recall  f1-score   support\n",
      "\n",
      "   Agricultural_Economics       1.00      0.99      0.99       523\n",
      "Agriculture_Biotechnology       0.97      0.62      0.76       137\n",
      "          Crop_production       0.96      0.95      0.95       578\n",
      "   Environmental_Sciences       0.91      0.94      0.93       327\n",
      "          Food_Technology       0.99      0.86      0.92       185\n",
      "             Horticulture       0.94      0.94      0.94       607\n",
      "     Livestock_production       0.96      0.99      0.98       188\n",
      "        Natural_Resources       0.90      1.00      0.95       518\n",
      "         Plant_Protection       0.99      0.99      0.99       248\n",
      "\n",
      "                micro avg       0.95      0.95      0.95      3311\n",
      "                macro avg       0.96      0.92      0.93      3311\n",
      "             weighted avg       0.95      0.95      0.95      3311\n",
      "              samples avg       0.96      0.96      0.95      3311\n",
      "\n",
      "Model Accuracy:  0.9229898074745186\n",
      "Total F1_score:  0.9344335195745964\n",
      "Total Percision 0.9581542985725968\n",
      "Total Recall 0.9207763611404629\n",
      "\n",
      " Validation took: 0:00:46.255904\n",
      "_____________ Epoch 2  Done _____________\n",
      "\n",
      "_____________ Epoch 3: Training Start _____________\n",
      "Training started at: 2022-11-24 19:00:46.782293\n",
      "\n",
      "_____________ Epoch 3: Training End _____________\n",
      "Training took: 0:14:48.165428\n",
      "\n",
      "_____________ Epoch 3: Validation Start _____________\n",
      "Validation started at: 2022-11-24 19:00:46.782293\n",
      "\n",
      "_____________ Epoch 3: Validation End _____________\n",
      "Epoch: 3 \tAvgerage Training Loss: 0.006917 \tAverage Validation Loss: 0.060813\n",
      "                           precision    recall  f1-score   support\n",
      "\n",
      "   Agricultural_Economics       1.00      0.99      1.00       523\n",
      "Agriculture_Biotechnology       0.97      0.65      0.78       137\n",
      "          Crop_production       0.97      0.92      0.94       578\n",
      "   Environmental_Sciences       0.94      0.93      0.93       327\n",
      "          Food_Technology       0.99      0.92      0.96       185\n",
      "             Horticulture       0.92      0.95      0.94       607\n",
      "     Livestock_production       0.99      0.98      0.99       188\n",
      "        Natural_Resources       0.90      1.00      0.95       518\n",
      "         Plant_Protection       1.00      0.99      0.99       248\n",
      "\n",
      "                micro avg       0.95      0.95      0.95      3311\n",
      "                macro avg       0.96      0.93      0.94      3311\n",
      "             weighted avg       0.96      0.95      0.95      3311\n",
      "              samples avg       0.96      0.96      0.96      3311\n",
      "\n",
      "Model Accuracy:  0.922234805587014\n",
      "Total F1_score:  0.9411252943280053\n",
      "Total Percision 0.9631442287685468\n",
      "Total Recall 0.9269859991091897\n",
      "\n",
      " Validation took: 0:00:46.021138\n",
      "_____________ Epoch 3  Done _____________\n",
      "\n",
      "_____________ Epoch 4: Training Start _____________\n",
      "Training started at: 2022-11-24 19:16:20.969000\n",
      "\n",
      "_____________ Epoch 4: Training End _____________\n",
      "Training took: 0:14:48.959265\n",
      "\n",
      "_____________ Epoch 4: Validation Start _____________\n",
      "Validation started at: 2022-11-24 19:16:20.969000\n",
      "\n",
      "_____________ Epoch 4: Validation End _____________\n",
      "Epoch: 4 \tAvgerage Training Loss: 0.006882 \tAverage Validation Loss: 0.059803\n",
      "Validation loss decreased (0.060696 --> 0.059803).  Saving model ...\n",
      "                           precision    recall  f1-score   support\n",
      "\n",
      "   Agricultural_Economics       1.00      0.99      1.00       523\n",
      "Agriculture_Biotechnology       0.96      0.65      0.77       137\n",
      "          Crop_production       0.95      0.94      0.94       578\n",
      "   Environmental_Sciences       0.91      0.95      0.93       327\n",
      "          Food_Technology       0.99      0.96      0.97       185\n",
      "             Horticulture       0.96      0.93      0.95       607\n",
      "     Livestock_production       0.99      0.98      0.99       188\n",
      "        Natural_Resources       0.92      1.00      0.96       518\n",
      "         Plant_Protection       1.00      0.98      0.99       248\n",
      "\n",
      "                micro avg       0.96      0.95      0.96      3311\n",
      "                macro avg       0.96      0.93      0.94      3311\n",
      "             weighted avg       0.96      0.95      0.95      3311\n",
      "              samples avg       0.96      0.96      0.96      3311\n",
      "\n",
      "Model Accuracy:  0.9278973197432994\n",
      "Total F1_score:  0.9446848022649024\n",
      "Total Percision 0.9646321589379357\n",
      "Total Recall 0.9318319741891337\n",
      "\n",
      " Validation took: 0:00:52.527833\n",
      "_____________ Epoch 4  Done _____________\n",
      "\n",
      "_____________ Epoch 5: Training Start _____________\n",
      "Training started at: 2022-11-24 19:32:02.456230\n",
      "\n",
      "_____________ Epoch 5: Training End _____________\n",
      "Training took: 0:14:48.097965\n",
      "\n",
      "_____________ Epoch 5: Validation Start _____________\n",
      "Validation started at: 2022-11-24 19:32:02.456230\n",
      "\n",
      "_____________ Epoch 5: Validation End _____________\n",
      "Epoch: 5 \tAvgerage Training Loss: 0.006436 \tAverage Validation Loss: 0.069279\n",
      "                           precision    recall  f1-score   support\n",
      "\n",
      "   Agricultural_Economics       1.00      0.98      0.99       523\n",
      "Agriculture_Biotechnology       0.94      0.67      0.78       137\n",
      "          Crop_production       0.93      0.96      0.94       578\n",
      "   Environmental_Sciences       0.93      0.93      0.93       327\n",
      "          Food_Technology       1.00      0.92      0.96       185\n",
      "             Horticulture       0.94      0.93      0.94       607\n",
      "     Livestock_production       0.99      0.98      0.99       188\n",
      "        Natural_Resources       0.91      1.00      0.95       518\n",
      "         Plant_Protection       0.99      0.99      0.99       248\n",
      "\n",
      "                micro avg       0.95      0.95      0.95      3311\n",
      "                macro avg       0.96      0.93      0.94      3311\n",
      "             weighted avg       0.95      0.95      0.95      3311\n",
      "              samples avg       0.96      0.96      0.96      3311\n",
      "\n",
      "Model Accuracy:  0.9248773121932805\n",
      "Total F1_score:  0.9416704520152128\n",
      "Total Percision 0.9587312622012496\n",
      "Total Recall 0.9305096615411966\n",
      "\n",
      " Validation took: 0:00:46.121805\n",
      "_____________ Epoch 5  Done _____________\n",
      "\n",
      "_____________ Epoch 6: Training Start _____________\n",
      "Training started at: 2022-11-24 19:47:36.676161\n",
      "\n",
      "_____________ Epoch 6: Training End _____________\n",
      "Training took: 0:14:48.808450\n",
      "\n",
      "_____________ Epoch 6: Validation Start _____________\n",
      "Validation started at: 2022-11-24 19:47:36.676161\n",
      "\n",
      "_____________ Epoch 6: Validation End _____________\n",
      "Epoch: 6 \tAvgerage Training Loss: 0.004960 \tAverage Validation Loss: 0.064255\n",
      "                           precision    recall  f1-score   support\n",
      "\n",
      "   Agricultural_Economics       1.00      0.99      0.99       523\n",
      "Agriculture_Biotechnology       0.97      0.63      0.76       137\n",
      "          Crop_production       0.96      0.93      0.95       578\n",
      "   Environmental_Sciences       0.96      0.92      0.94       327\n",
      "          Food_Technology       0.98      0.97      0.98       185\n",
      "             Horticulture       0.93      0.96      0.94       607\n",
      "     Livestock_production       0.99      0.98      0.99       188\n",
      "        Natural_Resources       0.91      1.00      0.95       518\n",
      "         Plant_Protection       0.99      0.99      0.99       248\n",
      "\n",
      "                micro avg       0.96      0.95      0.95      3311\n",
      "                macro avg       0.97      0.93      0.94      3311\n",
      "             weighted avg       0.96      0.95      0.95      3311\n",
      "              samples avg       0.96      0.96      0.96      3311\n",
      "\n",
      "Model Accuracy:  0.9282748206870517\n",
      "Total F1_score:  0.9435343308565192\n",
      "Total Percision 0.9654552447011098\n",
      "Total Recall 0.9302244501110457\n",
      "\n",
      " Validation took: 0:00:46.216297\n",
      "_____________ Epoch 6  Done _____________\n",
      "\n",
      "_____________ Epoch 7: Training Start _____________\n",
      "Training started at: 2022-11-24 20:03:11.701033\n",
      "\n",
      "_____________ Epoch 7: Training End _____________\n",
      "Training took: 0:14:49.060250\n",
      "\n",
      "_____________ Epoch 7: Validation Start _____________\n",
      "Validation started at: 2022-11-24 20:03:11.701033\n",
      "\n",
      "_____________ Epoch 7: Validation End _____________\n",
      "Epoch: 7 \tAvgerage Training Loss: 0.005301 \tAverage Validation Loss: 0.068865\n",
      "                           precision    recall  f1-score   support\n",
      "\n",
      "   Agricultural_Economics       1.00      0.98      0.99       523\n",
      "Agriculture_Biotechnology       0.96      0.69      0.80       137\n",
      "          Crop_production       0.96      0.93      0.94       578\n",
      "   Environmental_Sciences       0.90      0.96      0.93       327\n",
      "          Food_Technology       1.00      0.93      0.96       185\n",
      "             Horticulture       0.95      0.92      0.93       607\n",
      "     Livestock_production       0.99      0.99      0.99       188\n",
      "        Natural_Resources       0.94      0.99      0.96       518\n",
      "         Plant_Protection       1.00      0.99      0.99       248\n",
      "\n",
      "                micro avg       0.96      0.95      0.95      3311\n",
      "                macro avg       0.97      0.93      0.95      3311\n",
      "             weighted avg       0.96      0.95      0.95      3311\n",
      "              samples avg       0.96      0.96      0.96      3311\n",
      "\n",
      "Model Accuracy:  0.9267648169120423\n",
      "Total F1_score:  0.9455008517154757\n",
      "Total Percision 0.9656299139587551\n",
      "Total Recall 0.931240072718474\n",
      "\n",
      " Validation took: 0:00:45.968453\n",
      "_____________ Epoch 7  Done _____________\n",
      "\n",
      "_____________ Epoch 8: Training Start _____________\n",
      "Training started at: 2022-11-24 20:18:46.729903\n",
      "\n",
      "_____________ Epoch 8: Training End _____________\n",
      "Training took: 0:14:48.890841\n",
      "\n",
      "_____________ Epoch 8: Validation Start _____________\n",
      "Validation started at: 2022-11-24 20:18:46.729903\n",
      "\n",
      "_____________ Epoch 8: Validation End _____________\n",
      "Epoch: 8 \tAvgerage Training Loss: 0.004772 \tAverage Validation Loss: 0.066806\n",
      "                           precision    recall  f1-score   support\n",
      "\n",
      "   Agricultural_Economics       1.00      0.99      1.00       523\n",
      "Agriculture_Biotechnology       0.98      0.64      0.78       137\n",
      "          Crop_production       0.96      0.95      0.95       578\n",
      "   Environmental_Sciences       0.93      0.93      0.93       327\n",
      "          Food_Technology       0.98      0.95      0.96       185\n",
      "             Horticulture       0.95      0.93      0.94       607\n",
      "     Livestock_production       1.00      0.98      0.99       188\n",
      "        Natural_Resources       0.90      1.00      0.95       518\n",
      "         Plant_Protection       1.00      0.99      1.00       248\n",
      "\n",
      "                micro avg       0.96      0.95      0.95      3311\n",
      "                macro avg       0.97      0.93      0.94      3311\n",
      "             weighted avg       0.96      0.95      0.95      3311\n",
      "              samples avg       0.96      0.96      0.96      3311\n",
      "\n",
      "Model Accuracy:  0.9282748206870517\n",
      "Total F1_score:  0.9438390193201127\n",
      "Total Percision 0.9652963048858373\n",
      "Total Recall 0.9308002567492937\n",
      "\n",
      " Validation took: 0:00:46.017850\n",
      "_____________ Epoch 8  Done _____________\n",
      "\n",
      "_____________ Epoch 9: Training Start _____________\n",
      "Training started at: 2022-11-24 20:34:21.640206\n",
      "\n",
      "_____________ Epoch 9: Training End _____________\n",
      "Training took: 0:14:49.488337\n",
      "\n",
      "_____________ Epoch 9: Validation Start _____________\n",
      "Validation started at: 2022-11-24 20:34:21.640206\n",
      "\n",
      "_____________ Epoch 9: Validation End _____________\n",
      "Epoch: 9 \tAvgerage Training Loss: 0.003283 \tAverage Validation Loss: 0.069692\n",
      "                           precision    recall  f1-score   support\n",
      "\n",
      "   Agricultural_Economics       1.00      0.99      0.99       523\n",
      "Agriculture_Biotechnology       0.95      0.67      0.79       137\n",
      "          Crop_production       0.96      0.93      0.95       578\n",
      "   Environmental_Sciences       0.94      0.93      0.93       327\n",
      "          Food_Technology       0.99      0.95      0.97       185\n",
      "             Horticulture       0.93      0.94      0.94       607\n",
      "     Livestock_production       1.00      0.98      0.99       188\n",
      "        Natural_Resources       0.91      1.00      0.95       518\n",
      "         Plant_Protection       0.99      0.99      0.99       248\n",
      "\n",
      "                micro avg       0.96      0.95      0.95      3311\n",
      "                macro avg       0.96      0.93      0.94      3311\n",
      "             weighted avg       0.96      0.95      0.95      3311\n",
      "              samples avg       0.96      0.96      0.96      3311\n",
      "\n",
      "Model Accuracy:  0.927519818799547\n",
      "Total F1_score:  0.9449390959576522\n",
      "Total Percision 0.9637404348450167\n",
      "Total Recall 0.9319987052559596\n",
      "\n",
      " Validation took: 0:00:45.955186\n",
      "_____________ Epoch 9  Done _____________\n",
      "\n",
      "_____________ Epoch 10: Training Start _____________\n",
      "Training started at: 2022-11-24 20:49:57.083857\n",
      "\n",
      "_____________ Epoch 10: Training End _____________\n",
      "Training took: 0:14:49.409420\n",
      "\n",
      "_____________ Epoch 10: Validation Start _____________\n",
      "Validation started at: 2022-11-24 20:49:57.083857\n",
      "\n",
      "_____________ Epoch 10: Training End _____________\n",
      "Training took: 0:14:49.409420\n",
      "\n",
      "_____________ Epoch 10: Validation Start _____________\n",
      "Validation started at: 2022-11-24 20:49:57.083857\n",
      "\n",
      "_____________ Epoch 10: Validation End _____________\n",
      "Epoch: 10 \tAvgerage Training Loss: 0.003379 \tAverage Validation Loss: 0.071969\n",
      "                           precision    recall  f1-score   support\n",
      "\n",
      "   Agricultural_Economics       0.99      1.00      0.99       523\n",
      "Agriculture_Biotechnology       0.96      0.65      0.77       137\n",
      "          Crop_production       0.96      0.93      0.95       578\n",
      "   Environmental_Sciences       0.96      0.94      0.95       327\n",
      "          Food_Technology       0.97      0.94      0.95       185\n",
      "             Horticulture       0.96      0.92      0.94       607\n",
      "     Livestock_production       0.97      0.99      0.98       188\n",
      "        Natural_Resources       0.90      1.00      0.95       518\n",
      "         Plant_Protection       0.98      0.99      0.99       248\n",
      "\n",
      "                micro avg       0.96      0.95      0.95      3311\n",
      "                macro avg       0.96      0.93      0.94      3311\n",
      "             weighted avg       0.96      0.95      0.95      3311\n",
      "              samples avg       0.96      0.96      0.95      3311\n",
      "\n",
      "Model Accuracy:  0.9248773121932805\n",
      "Total F1_score:  0.9411941013404752\n",
      "Total Percision 0.9605169829811536\n",
      "Total Recall 0.9293324883242035\n",
      "\n",
      " Validation took: 0:00:46.521522\n",
      "_____________ Epoch 10  Done _____________\n",
      "\n",
      "_____________ Epoch 11: Training Start _____________\n",
      "Training started at: 2022-11-24 21:05:33.014932\n",
      "\n",
      "_____________ Epoch 10: Validation End _____________\n",
      "Epoch: 10 \tAvgerage Training Loss: 0.003379 \tAverage Validation Loss: 0.071969\n",
      "                           precision    recall  f1-score   support\n",
      "\n",
      "   Agricultural_Economics       0.99      1.00      0.99       523\n",
      "Agriculture_Biotechnology       0.96      0.65      0.77       137\n",
      "          Crop_production       0.96      0.93      0.95       578\n",
      "   Environmental_Sciences       0.96      0.94      0.95       327\n",
      "          Food_Technology       0.97      0.94      0.95       185\n",
      "             Horticulture       0.96      0.92      0.94       607\n",
      "     Livestock_production       0.97      0.99      0.98       188\n",
      "        Natural_Resources       0.90      1.00      0.95       518\n",
      "         Plant_Protection       0.98      0.99      0.99       248\n",
      "\n",
      "                micro avg       0.96      0.95      0.95      3311\n",
      "                macro avg       0.96      0.93      0.94      3311\n",
      "             weighted avg       0.96      0.95      0.95      3311\n",
      "              samples avg       0.96      0.96      0.95      3311\n",
      "\n",
      "Model Accuracy:  0.9248773121932805\n",
      "Total F1_score:  0.9411941013404752\n",
      "Total Percision 0.9605169829811536\n",
      "Total Recall 0.9293324883242035\n",
      "\n",
      " Validation took: 0:00:46.521522\n",
      "_____________ Epoch 10  Done _____________\n",
      "\n",
      "_____________ Epoch 11: Training Start _____________\n",
      "Training started at: 2022-11-24 21:05:33.014932\n"
     ]
    },
    {
     "ename": "KeyboardInterrupt",
     "evalue": "ignored",
     "output_type": "error",
     "traceback": [
      "\u001b[0;31m---------------------------------------------------------------------------\u001b[0m",
      "\u001b[0;31mKeyboardInterrupt\u001b[0m                         Traceback (most recent call last)",
      "\u001b[0;32m<ipython-input-38-cd370aac82ee>\u001b[0m in \u001b[0;36m<module>\u001b[0;34m\u001b[0m\n\u001b[1;32m      2\u001b[0m \u001b[0mckpt_path\u001b[0m \u001b[0;34m=\u001b[0m \u001b[0;34m\"/content/drive/MyDrive/araBERTv2/test2/curr_ckpt\"\u001b[0m\u001b[0;34m\u001b[0m\u001b[0;34m\u001b[0m\u001b[0m\n\u001b[1;32m      3\u001b[0m \u001b[0;31m# best_model_path = \"/content/drive/MyDrive/araBERTv2/test2/best_model.pt\"\u001b[0m\u001b[0;34m\u001b[0m\u001b[0;34m\u001b[0m\u001b[0;34m\u001b[0m\u001b[0m\n\u001b[0;32m----> 4\u001b[0;31m \u001b[0mtrained_model\u001b[0m \u001b[0;34m=\u001b[0m \u001b[0mtrain_model\u001b[0m\u001b[0;34m(\u001b[0m\u001b[0mepoch_num\u001b[0m\u001b[0;34m,\u001b[0m \u001b[0mtrain_data_loader\u001b[0m\u001b[0;34m,\u001b[0m \u001b[0mval_data_loader\u001b[0m\u001b[0;34m,\u001b[0m \u001b[0mmodel\u001b[0m\u001b[0;34m,\u001b[0m \u001b[0moptimizer\u001b[0m\u001b[0;34m,\u001b[0m \u001b[0mckpt_path\u001b[0m\u001b[0;34m)\u001b[0m\u001b[0;34m\u001b[0m\u001b[0;34m\u001b[0m\u001b[0m\n\u001b[0m",
      "\u001b[0;32m<ipython-input-36-6161e554e95b>\u001b[0m in \u001b[0;36mtrain_model\u001b[0;34m(n_epochs, training_loader, validation_loader, model, optimizer, checkpoint_path)\u001b[0m\n\u001b[1;32m     28\u001b[0m \u001b[0;34m\u001b[0m\u001b[0m\n\u001b[1;32m     29\u001b[0m         \u001b[0;31m# optimizer.zero_grad()\u001b[0m\u001b[0;34m\u001b[0m\u001b[0;34m\u001b[0m\u001b[0;34m\u001b[0m\u001b[0m\n\u001b[0;32m---> 30\u001b[0;31m         \u001b[0mloss\u001b[0m\u001b[0;34m.\u001b[0m\u001b[0mbackward\u001b[0m\u001b[0;34m(\u001b[0m\u001b[0;34m)\u001b[0m\u001b[0;34m\u001b[0m\u001b[0;34m\u001b[0m\u001b[0m\n\u001b[0m\u001b[1;32m     31\u001b[0m         \u001b[0moptimizer\u001b[0m\u001b[0;34m.\u001b[0m\u001b[0mstep\u001b[0m\u001b[0;34m(\u001b[0m\u001b[0;34m)\u001b[0m\u001b[0;34m\u001b[0m\u001b[0;34m\u001b[0m\u001b[0m\n\u001b[1;32m     32\u001b[0m         \u001b[0mtrain_loss\u001b[0m \u001b[0;34m+=\u001b[0m \u001b[0mloss\u001b[0m\u001b[0;34m.\u001b[0m\u001b[0mitem\u001b[0m\u001b[0;34m(\u001b[0m\u001b[0;34m)\u001b[0m\u001b[0;34m\u001b[0m\u001b[0;34m\u001b[0m\u001b[0m\n",
      "\u001b[0;32m/usr/local/lib/python3.7/dist-packages/torch/_tensor.py\u001b[0m in \u001b[0;36mbackward\u001b[0;34m(self, gradient, retain_graph, create_graph, inputs)\u001b[0m\n\u001b[1;32m    394\u001b[0m                 \u001b[0mcreate_graph\u001b[0m\u001b[0;34m=\u001b[0m\u001b[0mcreate_graph\u001b[0m\u001b[0;34m,\u001b[0m\u001b[0;34m\u001b[0m\u001b[0;34m\u001b[0m\u001b[0m\n\u001b[1;32m    395\u001b[0m                 inputs=inputs)\n\u001b[0;32m--> 396\u001b[0;31m         \u001b[0mtorch\u001b[0m\u001b[0;34m.\u001b[0m\u001b[0mautograd\u001b[0m\u001b[0;34m.\u001b[0m\u001b[0mbackward\u001b[0m\u001b[0;34m(\u001b[0m\u001b[0mself\u001b[0m\u001b[0;34m,\u001b[0m \u001b[0mgradient\u001b[0m\u001b[0;34m,\u001b[0m \u001b[0mretain_graph\u001b[0m\u001b[0;34m,\u001b[0m \u001b[0mcreate_graph\u001b[0m\u001b[0;34m,\u001b[0m \u001b[0minputs\u001b[0m\u001b[0;34m=\u001b[0m\u001b[0minputs\u001b[0m\u001b[0;34m)\u001b[0m\u001b[0;34m\u001b[0m\u001b[0;34m\u001b[0m\u001b[0m\n\u001b[0m\u001b[1;32m    397\u001b[0m \u001b[0;34m\u001b[0m\u001b[0m\n\u001b[1;32m    398\u001b[0m     \u001b[0;32mdef\u001b[0m \u001b[0mregister_hook\u001b[0m\u001b[0;34m(\u001b[0m\u001b[0mself\u001b[0m\u001b[0;34m,\u001b[0m \u001b[0mhook\u001b[0m\u001b[0;34m)\u001b[0m\u001b[0;34m:\u001b[0m\u001b[0;34m\u001b[0m\u001b[0;34m\u001b[0m\u001b[0m\n",
      "\u001b[0;32m/usr/local/lib/python3.7/dist-packages/torch/autograd/__init__.py\u001b[0m in \u001b[0;36mbackward\u001b[0;34m(tensors, grad_tensors, retain_graph, create_graph, grad_variables, inputs)\u001b[0m\n\u001b[1;32m    173\u001b[0m     Variable._execution_engine.run_backward(  # Calls into the C++ engine to run the backward pass\n\u001b[1;32m    174\u001b[0m         \u001b[0mtensors\u001b[0m\u001b[0;34m,\u001b[0m \u001b[0mgrad_tensors_\u001b[0m\u001b[0;34m,\u001b[0m \u001b[0mretain_graph\u001b[0m\u001b[0;34m,\u001b[0m \u001b[0mcreate_graph\u001b[0m\u001b[0;34m,\u001b[0m \u001b[0minputs\u001b[0m\u001b[0;34m,\u001b[0m\u001b[0;34m\u001b[0m\u001b[0;34m\u001b[0m\u001b[0m\n\u001b[0;32m--> 175\u001b[0;31m         allow_unreachable=True, accumulate_grad=True)  # Calls into the C++ engine to run the backward pass\n\u001b[0m\u001b[1;32m    176\u001b[0m \u001b[0;34m\u001b[0m\u001b[0m\n\u001b[1;32m    177\u001b[0m def grad(\n",
      "\u001b[0;31mKeyboardInterrupt\u001b[0m: "
     ]
    },
    {
     "ename": "KeyboardInterrupt",
     "evalue": "ignored",
     "output_type": "error",
     "traceback": [
      "\u001b[0;31m---------------------------------------------------------------------------\u001b[0m",
      "\u001b[0;31mKeyboardInterrupt\u001b[0m                         Traceback (most recent call last)",
      "\u001b[0;32m<ipython-input-38-cd370aac82ee>\u001b[0m in \u001b[0;36m<module>\u001b[0;34m\u001b[0m\n\u001b[1;32m      2\u001b[0m \u001b[0mckpt_path\u001b[0m \u001b[0;34m=\u001b[0m \u001b[0;34m\"/content/drive/MyDrive/araBERTv2/test2/curr_ckpt\"\u001b[0m\u001b[0;34m\u001b[0m\u001b[0;34m\u001b[0m\u001b[0m\n\u001b[1;32m      3\u001b[0m \u001b[0;31m# best_model_path = \"/content/drive/MyDrive/araBERTv2/test2/best_model.pt\"\u001b[0m\u001b[0;34m\u001b[0m\u001b[0;34m\u001b[0m\u001b[0;34m\u001b[0m\u001b[0m\n\u001b[0;32m----> 4\u001b[0;31m \u001b[0mtrained_model\u001b[0m \u001b[0;34m=\u001b[0m \u001b[0mtrain_model\u001b[0m\u001b[0;34m(\u001b[0m\u001b[0mepoch_num\u001b[0m\u001b[0;34m,\u001b[0m \u001b[0mtrain_data_loader\u001b[0m\u001b[0;34m,\u001b[0m \u001b[0mval_data_loader\u001b[0m\u001b[0;34m,\u001b[0m \u001b[0mmodel\u001b[0m\u001b[0;34m,\u001b[0m \u001b[0moptimizer\u001b[0m\u001b[0;34m,\u001b[0m \u001b[0mckpt_path\u001b[0m\u001b[0;34m)\u001b[0m\u001b[0;34m\u001b[0m\u001b[0;34m\u001b[0m\u001b[0m\n\u001b[0m",
      "\u001b[0;32m<ipython-input-36-6161e554e95b>\u001b[0m in \u001b[0;36mtrain_model\u001b[0;34m(n_epochs, training_loader, validation_loader, model, optimizer, checkpoint_path)\u001b[0m\n\u001b[1;32m     28\u001b[0m \u001b[0;34m\u001b[0m\u001b[0m\n\u001b[1;32m     29\u001b[0m         \u001b[0;31m# optimizer.zero_grad()\u001b[0m\u001b[0;34m\u001b[0m\u001b[0;34m\u001b[0m\u001b[0;34m\u001b[0m\u001b[0m\n\u001b[0;32m---> 30\u001b[0;31m         \u001b[0mloss\u001b[0m\u001b[0;34m.\u001b[0m\u001b[0mbackward\u001b[0m\u001b[0;34m(\u001b[0m\u001b[0;34m)\u001b[0m\u001b[0;34m\u001b[0m\u001b[0;34m\u001b[0m\u001b[0m\n\u001b[0m\u001b[1;32m     31\u001b[0m         \u001b[0moptimizer\u001b[0m\u001b[0;34m.\u001b[0m\u001b[0mstep\u001b[0m\u001b[0;34m(\u001b[0m\u001b[0;34m)\u001b[0m\u001b[0;34m\u001b[0m\u001b[0;34m\u001b[0m\u001b[0m\n\u001b[1;32m     32\u001b[0m         \u001b[0mtrain_loss\u001b[0m \u001b[0;34m+=\u001b[0m \u001b[0mloss\u001b[0m\u001b[0;34m.\u001b[0m\u001b[0mitem\u001b[0m\u001b[0;34m(\u001b[0m\u001b[0;34m)\u001b[0m\u001b[0;34m\u001b[0m\u001b[0;34m\u001b[0m\u001b[0m\n",
      "\u001b[0;32m/usr/local/lib/python3.7/dist-packages/torch/_tensor.py\u001b[0m in \u001b[0;36mbackward\u001b[0;34m(self, gradient, retain_graph, create_graph, inputs)\u001b[0m\n\u001b[1;32m    394\u001b[0m                 \u001b[0mcreate_graph\u001b[0m\u001b[0;34m=\u001b[0m\u001b[0mcreate_graph\u001b[0m\u001b[0;34m,\u001b[0m\u001b[0;34m\u001b[0m\u001b[0;34m\u001b[0m\u001b[0m\n\u001b[1;32m    395\u001b[0m                 inputs=inputs)\n\u001b[0;32m--> 396\u001b[0;31m         \u001b[0mtorch\u001b[0m\u001b[0;34m.\u001b[0m\u001b[0mautograd\u001b[0m\u001b[0;34m.\u001b[0m\u001b[0mbackward\u001b[0m\u001b[0;34m(\u001b[0m\u001b[0mself\u001b[0m\u001b[0;34m,\u001b[0m \u001b[0mgradient\u001b[0m\u001b[0;34m,\u001b[0m \u001b[0mretain_graph\u001b[0m\u001b[0;34m,\u001b[0m \u001b[0mcreate_graph\u001b[0m\u001b[0;34m,\u001b[0m \u001b[0minputs\u001b[0m\u001b[0;34m=\u001b[0m\u001b[0minputs\u001b[0m\u001b[0;34m)\u001b[0m\u001b[0;34m\u001b[0m\u001b[0;34m\u001b[0m\u001b[0m\n\u001b[0m\u001b[1;32m    397\u001b[0m \u001b[0;34m\u001b[0m\u001b[0m\n\u001b[1;32m    398\u001b[0m     \u001b[0;32mdef\u001b[0m \u001b[0mregister_hook\u001b[0m\u001b[0;34m(\u001b[0m\u001b[0mself\u001b[0m\u001b[0;34m,\u001b[0m \u001b[0mhook\u001b[0m\u001b[0;34m)\u001b[0m\u001b[0;34m:\u001b[0m\u001b[0;34m\u001b[0m\u001b[0;34m\u001b[0m\u001b[0m\n",
      "\u001b[0;32m/usr/local/lib/python3.7/dist-packages/torch/autograd/__init__.py\u001b[0m in \u001b[0;36mbackward\u001b[0;34m(tensors, grad_tensors, retain_graph, create_graph, grad_variables, inputs)\u001b[0m\n\u001b[1;32m    173\u001b[0m     Variable._execution_engine.run_backward(  # Calls into the C++ engine to run the backward pass\n\u001b[1;32m    174\u001b[0m         \u001b[0mtensors\u001b[0m\u001b[0;34m,\u001b[0m \u001b[0mgrad_tensors_\u001b[0m\u001b[0;34m,\u001b[0m \u001b[0mretain_graph\u001b[0m\u001b[0;34m,\u001b[0m \u001b[0mcreate_graph\u001b[0m\u001b[0;34m,\u001b[0m \u001b[0minputs\u001b[0m\u001b[0;34m,\u001b[0m\u001b[0;34m\u001b[0m\u001b[0;34m\u001b[0m\u001b[0m\n\u001b[0;32m--> 175\u001b[0;31m         allow_unreachable=True, accumulate_grad=True)  # Calls into the C++ engine to run the backward pass\n\u001b[0m\u001b[1;32m    176\u001b[0m \u001b[0;34m\u001b[0m\u001b[0m\n\u001b[1;32m    177\u001b[0m def grad(\n",
      "\u001b[0;31mKeyboardInterrupt\u001b[0m: "
     ]
    }
   ],
   "source": [
    "# 28/9/2022\n",
    "ckpt_path = \"/content/drive/MyDrive/araBERTv2/test2/curr_ckpt\"\n",
    "# best_model_path = \"/content/drive/MyDrive/araBERTv2/test2/best_model.pt\"\n",
    "trained_model = train_model(epoch_num, train_data_loader, val_data_loader, model, optimizer, ckpt_path)"
   ]
  },
  {
   "cell_type": "code",
   "execution_count": null,
   "metadata": {
    "id": "ToUscirRXAtd"
   },
   "outputs": [],
   "source": [
    "torch.save(model.state_dict(), '/content/drive/MyDrive/araBERTv2/arabert_classifier2.pt')"
   ]
  },
  {
   "cell_type": "code",
   "execution_count": null,
   "metadata": {
    "id": "AAvK89DFVY3f"
   },
   "outputs": [],
   "source": [
    "# loading trained model\n",
    "model, optimizer, epoch_num, min_valid_loss = load_ckp('/content/drive/MyDrive/araBERTv2/curr_ckpt.ckpt', model,  optimizer)"
   ]
  },
  {
   "cell_type": "markdown",
   "metadata": {
    "id": "z38wSlwDgu2E"
   },
   "source": [
    "# Loading best model"
   ]
  },
  {
   "cell_type": "code",
   "execution_count": null,
   "metadata": {
    "id": "HvIS8WthNybT"
   },
   "outputs": [],
   "source": [
    "# model, optimizer, epoch_num, min_valid_loss = load_ckp('/content/drive/MyDrive/araBERTv2/curr_ckpt.ckpt', model,  optimizer, device)"
   ]
  },
  {
   "cell_type": "code",
   "execution_count": null,
   "metadata": {
    "id": "cA1pS4P4KOgB"
   },
   "outputs": [],
   "source": [
    "bert_model = BERTClass()\n",
    "bert_model.load_state_dict(torch.load('/content/drive/MyDrive/araBERTv2/arabert_classifier.pt', map_location=device))\n",
    "bert_model.eval()"
   ]
  },
  {
   "cell_type": "code",
   "execution_count": null,
   "metadata": {
    "id": "lGDTu3ebXSd9"
   },
   "outputs": [],
   "source": [
    "# device = torch.device('cpu')\n"
   ]
  },
  {
   "cell_type": "code",
   "execution_count": null,
   "metadata": {
    "colab": {
     "base_uri": "https://localhost:8080/"
    },
    "executionInfo": {
     "elapsed": 858,
     "status": "ok",
     "timestamp": 1662788056297,
     "user": {
      "displayName": "Razan HL",
      "userId": "00189607576210306079"
     },
     "user_tz": -180
    },
    "id": "yI_MDVUIsvsG",
    "outputId": "7c434271-c624-41fb-c8a7-b95d07feb8c4"
   },
   "outputs": [
    {
     "name": "stdout",
     "output_type": "stream",
     "text": [
      "odict_keys(['model.embeddings.position_ids', 'model.embeddings.word_embeddings.weight', 'model.embeddings.position_embeddings.weight', 'model.embeddings.token_type_embeddings.weight', 'model.embeddings.LayerNorm.weight', 'model.embeddings.LayerNorm.bias', 'model.encoder.layer.0.attention.self.query.weight', 'model.encoder.layer.0.attention.self.query.bias', 'model.encoder.layer.0.attention.self.key.weight', 'model.encoder.layer.0.attention.self.key.bias', 'model.encoder.layer.0.attention.self.value.weight', 'model.encoder.layer.0.attention.self.value.bias', 'model.encoder.layer.0.attention.output.dense.weight', 'model.encoder.layer.0.attention.output.dense.bias', 'model.encoder.layer.0.attention.output.LayerNorm.weight', 'model.encoder.layer.0.attention.output.LayerNorm.bias', 'model.encoder.layer.0.intermediate.dense.weight', 'model.encoder.layer.0.intermediate.dense.bias', 'model.encoder.layer.0.output.dense.weight', 'model.encoder.layer.0.output.dense.bias', 'model.encoder.layer.0.output.LayerNorm.weight', 'model.encoder.layer.0.output.LayerNorm.bias', 'model.encoder.layer.1.attention.self.query.weight', 'model.encoder.layer.1.attention.self.query.bias', 'model.encoder.layer.1.attention.self.key.weight', 'model.encoder.layer.1.attention.self.key.bias', 'model.encoder.layer.1.attention.self.value.weight', 'model.encoder.layer.1.attention.self.value.bias', 'model.encoder.layer.1.attention.output.dense.weight', 'model.encoder.layer.1.attention.output.dense.bias', 'model.encoder.layer.1.attention.output.LayerNorm.weight', 'model.encoder.layer.1.attention.output.LayerNorm.bias', 'model.encoder.layer.1.intermediate.dense.weight', 'model.encoder.layer.1.intermediate.dense.bias', 'model.encoder.layer.1.output.dense.weight', 'model.encoder.layer.1.output.dense.bias', 'model.encoder.layer.1.output.LayerNorm.weight', 'model.encoder.layer.1.output.LayerNorm.bias', 'model.encoder.layer.2.attention.self.query.weight', 'model.encoder.layer.2.attention.self.query.bias', 'model.encoder.layer.2.attention.self.key.weight', 'model.encoder.layer.2.attention.self.key.bias', 'model.encoder.layer.2.attention.self.value.weight', 'model.encoder.layer.2.attention.self.value.bias', 'model.encoder.layer.2.attention.output.dense.weight', 'model.encoder.layer.2.attention.output.dense.bias', 'model.encoder.layer.2.attention.output.LayerNorm.weight', 'model.encoder.layer.2.attention.output.LayerNorm.bias', 'model.encoder.layer.2.intermediate.dense.weight', 'model.encoder.layer.2.intermediate.dense.bias', 'model.encoder.layer.2.output.dense.weight', 'model.encoder.layer.2.output.dense.bias', 'model.encoder.layer.2.output.LayerNorm.weight', 'model.encoder.layer.2.output.LayerNorm.bias', 'model.encoder.layer.3.attention.self.query.weight', 'model.encoder.layer.3.attention.self.query.bias', 'model.encoder.layer.3.attention.self.key.weight', 'model.encoder.layer.3.attention.self.key.bias', 'model.encoder.layer.3.attention.self.value.weight', 'model.encoder.layer.3.attention.self.value.bias', 'model.encoder.layer.3.attention.output.dense.weight', 'model.encoder.layer.3.attention.output.dense.bias', 'model.encoder.layer.3.attention.output.LayerNorm.weight', 'model.encoder.layer.3.attention.output.LayerNorm.bias', 'model.encoder.layer.3.intermediate.dense.weight', 'model.encoder.layer.3.intermediate.dense.bias', 'model.encoder.layer.3.output.dense.weight', 'model.encoder.layer.3.output.dense.bias', 'model.encoder.layer.3.output.LayerNorm.weight', 'model.encoder.layer.3.output.LayerNorm.bias', 'model.encoder.layer.4.attention.self.query.weight', 'model.encoder.layer.4.attention.self.query.bias', 'model.encoder.layer.4.attention.self.key.weight', 'model.encoder.layer.4.attention.self.key.bias', 'model.encoder.layer.4.attention.self.value.weight', 'model.encoder.layer.4.attention.self.value.bias', 'model.encoder.layer.4.attention.output.dense.weight', 'model.encoder.layer.4.attention.output.dense.bias', 'model.encoder.layer.4.attention.output.LayerNorm.weight', 'model.encoder.layer.4.attention.output.LayerNorm.bias', 'model.encoder.layer.4.intermediate.dense.weight', 'model.encoder.layer.4.intermediate.dense.bias', 'model.encoder.layer.4.output.dense.weight', 'model.encoder.layer.4.output.dense.bias', 'model.encoder.layer.4.output.LayerNorm.weight', 'model.encoder.layer.4.output.LayerNorm.bias', 'model.encoder.layer.5.attention.self.query.weight', 'model.encoder.layer.5.attention.self.query.bias', 'model.encoder.layer.5.attention.self.key.weight', 'model.encoder.layer.5.attention.self.key.bias', 'model.encoder.layer.5.attention.self.value.weight', 'model.encoder.layer.5.attention.self.value.bias', 'model.encoder.layer.5.attention.output.dense.weight', 'model.encoder.layer.5.attention.output.dense.bias', 'model.encoder.layer.5.attention.output.LayerNorm.weight', 'model.encoder.layer.5.attention.output.LayerNorm.bias', 'model.encoder.layer.5.intermediate.dense.weight', 'model.encoder.layer.5.intermediate.dense.bias', 'model.encoder.layer.5.output.dense.weight', 'model.encoder.layer.5.output.dense.bias', 'model.encoder.layer.5.output.LayerNorm.weight', 'model.encoder.layer.5.output.LayerNorm.bias', 'model.encoder.layer.6.attention.self.query.weight', 'model.encoder.layer.6.attention.self.query.bias', 'model.encoder.layer.6.attention.self.key.weight', 'model.encoder.layer.6.attention.self.key.bias', 'model.encoder.layer.6.attention.self.value.weight', 'model.encoder.layer.6.attention.self.value.bias', 'model.encoder.layer.6.attention.output.dense.weight', 'model.encoder.layer.6.attention.output.dense.bias', 'model.encoder.layer.6.attention.output.LayerNorm.weight', 'model.encoder.layer.6.attention.output.LayerNorm.bias', 'model.encoder.layer.6.intermediate.dense.weight', 'model.encoder.layer.6.intermediate.dense.bias', 'model.encoder.layer.6.output.dense.weight', 'model.encoder.layer.6.output.dense.bias', 'model.encoder.layer.6.output.LayerNorm.weight', 'model.encoder.layer.6.output.LayerNorm.bias', 'model.encoder.layer.7.attention.self.query.weight', 'model.encoder.layer.7.attention.self.query.bias', 'model.encoder.layer.7.attention.self.key.weight', 'model.encoder.layer.7.attention.self.key.bias', 'model.encoder.layer.7.attention.self.value.weight', 'model.encoder.layer.7.attention.self.value.bias', 'model.encoder.layer.7.attention.output.dense.weight', 'model.encoder.layer.7.attention.output.dense.bias', 'model.encoder.layer.7.attention.output.LayerNorm.weight', 'model.encoder.layer.7.attention.output.LayerNorm.bias', 'model.encoder.layer.7.intermediate.dense.weight', 'model.encoder.layer.7.intermediate.dense.bias', 'model.encoder.layer.7.output.dense.weight', 'model.encoder.layer.7.output.dense.bias', 'model.encoder.layer.7.output.LayerNorm.weight', 'model.encoder.layer.7.output.LayerNorm.bias', 'model.encoder.layer.8.attention.self.query.weight', 'model.encoder.layer.8.attention.self.query.bias', 'model.encoder.layer.8.attention.self.key.weight', 'model.encoder.layer.8.attention.self.key.bias', 'model.encoder.layer.8.attention.self.value.weight', 'model.encoder.layer.8.attention.self.value.bias', 'model.encoder.layer.8.attention.output.dense.weight', 'model.encoder.layer.8.attention.output.dense.bias', 'model.encoder.layer.8.attention.output.LayerNorm.weight', 'model.encoder.layer.8.attention.output.LayerNorm.bias', 'model.encoder.layer.8.intermediate.dense.weight', 'model.encoder.layer.8.intermediate.dense.bias', 'model.encoder.layer.8.output.dense.weight', 'model.encoder.layer.8.output.dense.bias', 'model.encoder.layer.8.output.LayerNorm.weight', 'model.encoder.layer.8.output.LayerNorm.bias', 'model.encoder.layer.9.attention.self.query.weight', 'model.encoder.layer.9.attention.self.query.bias', 'model.encoder.layer.9.attention.self.key.weight', 'model.encoder.layer.9.attention.self.key.bias', 'model.encoder.layer.9.attention.self.value.weight', 'model.encoder.layer.9.attention.self.value.bias', 'model.encoder.layer.9.attention.output.dense.weight', 'model.encoder.layer.9.attention.output.dense.bias', 'model.encoder.layer.9.attention.output.LayerNorm.weight', 'model.encoder.layer.9.attention.output.LayerNorm.bias', 'model.encoder.layer.9.intermediate.dense.weight', 'model.encoder.layer.9.intermediate.dense.bias', 'model.encoder.layer.9.output.dense.weight', 'model.encoder.layer.9.output.dense.bias', 'model.encoder.layer.9.output.LayerNorm.weight', 'model.encoder.layer.9.output.LayerNorm.bias', 'model.encoder.layer.10.attention.self.query.weight', 'model.encoder.layer.10.attention.self.query.bias', 'model.encoder.layer.10.attention.self.key.weight', 'model.encoder.layer.10.attention.self.key.bias', 'model.encoder.layer.10.attention.self.value.weight', 'model.encoder.layer.10.attention.self.value.bias', 'model.encoder.layer.10.attention.output.dense.weight', 'model.encoder.layer.10.attention.output.dense.bias', 'model.encoder.layer.10.attention.output.LayerNorm.weight', 'model.encoder.layer.10.attention.output.LayerNorm.bias', 'model.encoder.layer.10.intermediate.dense.weight', 'model.encoder.layer.10.intermediate.dense.bias', 'model.encoder.layer.10.output.dense.weight', 'model.encoder.layer.10.output.dense.bias', 'model.encoder.layer.10.output.LayerNorm.weight', 'model.encoder.layer.10.output.LayerNorm.bias', 'model.encoder.layer.11.attention.self.query.weight', 'model.encoder.layer.11.attention.self.query.bias', 'model.encoder.layer.11.attention.self.key.weight', 'model.encoder.layer.11.attention.self.key.bias', 'model.encoder.layer.11.attention.self.value.weight', 'model.encoder.layer.11.attention.self.value.bias', 'model.encoder.layer.11.attention.output.dense.weight', 'model.encoder.layer.11.attention.output.dense.bias', 'model.encoder.layer.11.attention.output.LayerNorm.weight', 'model.encoder.layer.11.attention.output.LayerNorm.bias', 'model.encoder.layer.11.intermediate.dense.weight', 'model.encoder.layer.11.intermediate.dense.bias', 'model.encoder.layer.11.output.dense.weight', 'model.encoder.layer.11.output.dense.bias', 'model.encoder.layer.11.output.LayerNorm.weight', 'model.encoder.layer.11.output.LayerNorm.bias', 'model.pooler.dense.weight', 'model.pooler.dense.bias', 'linear.weight', 'linear.bias'])\n"
     ]
    }
   ],
   "source": [
    "# state_dict = torch.load('/content/drive/MyDrive/araBERTv2/arabert_classifier.pt')\n",
    "# print(state_dict.keys())"
   ]
  },
  {
   "cell_type": "code",
   "execution_count": null,
   "metadata": {
    "id": "8BxAt0i_x1Qr"
   },
   "outputs": [],
   "source": [
    "# Prediction fuction\n",
    "def arabert_predict(sample, this_model):\n",
    "  encodings = tokenizer.encode_plus(\n",
    "    sample,\n",
    "    None,\n",
    "    add_special_tokens=True,\n",
    "    max_length= 256,\n",
    "    padding='max_length',\n",
    "    return_token_type_ids=True,\n",
    "    truncation=True,\n",
    "    return_attention_mask=True,\n",
    "    return_tensors='pt'\n",
    "  )\n",
    "  this_model.eval()\n",
    "  with torch.no_grad():\n",
    "    input_ids = encodings['input_ids'].to(device, dtype=torch.long)\n",
    "    attention_mask = encodings['attention_mask'].to(device, dtype=torch.long)\n",
    "    token_type_ids = encodings['token_type_ids'].to(device, dtype=torch.long)\n",
    "    output = this_model(input_ids, attention_mask, token_type_ids)\n",
    "    final_output = torch.sigmoid(output).cpu().detach().numpy().tolist()\n",
    "    # print(train_dataset.columns[1:].to_list()[(np.argmax(final_output, axis=1)).astype(int)])\n",
    "    predictions = []\n",
    "    for idx, label in enumerate(target_list):\n",
    "      if (final_output[0][idx] > 0.5):\n",
    "        predictions.append((label,round(final_output[0][idx]*100, 2)))  # round(preds[idx]*100, 2\n",
    "    # dd = []\n",
    "    # for x in final_output[0]:\n",
    "    #   if (x > 0.5):\n",
    "    #     dd.append(1)\n",
    "    #   else:\n",
    "    #     dd.append(0)\n",
    "    return (predictions)"
   ]
  },
  {
   "cell_type": "code",
   "execution_count": null,
   "metadata": {
    "colab": {
     "base_uri": "https://localhost:8080/",
     "height": 127
    },
    "executionInfo": {
     "elapsed": 864,
     "status": "ok",
     "timestamp": 1669671448948,
     "user": {
      "displayName": "Razan HL",
      "userId": "00189607576210306079"
     },
     "user_tz": -180
    },
    "id": "o1SbBAvZ4dDd",
    "outputId": "2e187712-c79a-4d0f-89ca-acb10fab9b77"
   },
   "outputs": [],
   "source": [
    "sample = articles.abstract[770]\n",
    "sample"
   ]
  },
  {
   "cell_type": "code",
   "execution_count": null,
   "metadata": {
    "colab": {
     "base_uri": "https://localhost:8080/"
    },
    "executionInfo": {
     "elapsed": 470,
     "status": "ok",
     "timestamp": 1669671456042,
     "user": {
      "displayName": "Razan HL",
      "userId": "00189607576210306079"
     },
     "user_tz": -180
    },
    "id": "ssQJ0h6544K3",
    "outputId": "6f7ed10e-c026-4129-c2f5-47989dc814e4"
   },
   "outputs": [],
   "source": [
    "articles.iloc[770]"
   ]
  },
  {
   "cell_type": "code",
   "execution_count": null,
   "metadata": {
    "colab": {
     "base_uri": "https://localhost:8080/"
    },
    "executionInfo": {
     "elapsed": 2068,
     "status": "ok",
     "timestamp": 1669672430780,
     "user": {
      "displayName": "Razan HL",
      "userId": "00189607576210306079"
     },
     "user_tz": -180
    },
    "id": "47NQs9lb439r",
    "outputId": "86396f5d-5378-4526-e18f-cf51cfcc0fa3"
   },
   "outputs": [
    {
     "data": {
      "text/plain": [
       "[('Agriculture_Biotechnology', 99.01), ('Food_Technology', 99.56)]"
      ]
     },
     "execution_count": 38,
     "metadata": {},
     "output_type": "execute_result"
    }
   ],
   "source": [
    "arabert_predict(sample, bert_model)"
   ]
  },
  {
   "cell_type": "code",
   "execution_count": null,
   "metadata": {
    "colab": {
     "base_uri": "https://localhost:8080/"
    },
    "executionInfo": {
     "elapsed": 756,
     "status": "ok",
     "timestamp": 1669672492321,
     "user": {
      "displayName": "Razan HL",
      "userId": "00189607576210306079"
     },
     "user_tz": -180
    },
    "id": "G0lCeN2CZe3H",
    "outputId": "c681e0eb-02ae-4052-f6b7-a25e88cf0a9e"
   },
   "outputs": [],
   "source": [
    "sample2 = articles.abstract[575]\n",
    "articles.iloc[575]"
   ]
  },
  {
   "cell_type": "code",
   "execution_count": null,
   "metadata": {
    "colab": {
     "base_uri": "https://localhost:8080/"
    },
    "executionInfo": {
     "elapsed": 1849,
     "status": "ok",
     "timestamp": 1669672499287,
     "user": {
      "displayName": "Razan HL",
      "userId": "00189607576210306079"
     },
     "user_tz": -180
    },
    "id": "yQnb5TnLZex_",
    "outputId": "0848e9ef-6c77-4769-deb5-f3aa8d6fb0dd"
   },
   "outputs": [
    {
     "data": {
      "text/plain": [
       "[('Livestock_production', 99.34)]"
      ]
     },
     "execution_count": 42,
     "metadata": {},
     "output_type": "execute_result"
    }
   ],
   "source": [
    "arabert_predict(sample2, bert_model)"
   ]
  },
  {
   "cell_type": "code",
   "execution_count": null,
   "metadata": {
    "colab": {
     "base_uri": "https://localhost:8080/"
    },
    "executionInfo": {
     "elapsed": 8,
     "status": "ok",
     "timestamp": 1669210218734,
     "user": {
      "displayName": "Razan HL",
      "userId": "00189607576210306079"
     },
     "user_tz": -180
    },
    "id": "YzG4u3DNZeul",
    "outputId": "ca18c4d2-355c-47c9-e8bb-742a787038d4"
   },
   "outputs": [],
   "source": [
    "sample3 = splited_test.sp_text[821]\n",
    "splited_test.iloc[821]"
   ]
  },
  {
   "cell_type": "code",
   "execution_count": null,
   "metadata": {
    "colab": {
     "base_uri": "https://localhost:8080/"
    },
    "executionInfo": {
     "elapsed": 1344,
     "status": "ok",
     "timestamp": 1669210229030,
     "user": {
      "displayName": "Razan HL",
      "userId": "00189607576210306079"
     },
     "user_tz": -180
    },
    "id": "XlR-oqvqZeZf",
    "outputId": "72023ad2-daf3-41ce-a6bd-0d447d0a0b1c"
   },
   "outputs": [
    {
     "data": {
      "text/plain": [
       "[('Crop_production', 99.56), ('Natural_Resources', 99.41)]"
      ]
     },
     "execution_count": 65,
     "metadata": {},
     "output_type": "execute_result"
    }
   ],
   "source": [
    "arabert_predict(sample3, trained_model)"
   ]
  },
  {
   "cell_type": "markdown",
   "metadata": {
    "id": "VmsbeaRXsev8"
   },
   "source": [
    "# Model Evaluation:"
   ]
  },
  {
   "cell_type": "code",
   "execution_count": null,
   "metadata": {
    "id": "v-TxPxnOtpt0"
   },
   "outputs": [],
   "source": [
    "target_list =['Agricultural_Economics',\t'Agriculture_Biotechnology',\t'Crop_production',\t\n",
    "              'Environmental_Sciences',\t'Food_Technology',\t'Horticulture',\t'Livestock_production',\n",
    "              'Natural_Resources',\t'Plant_Protection']\n",
    "len(target_list)"
   ]
  },
  {
   "cell_type": "code",
   "execution_count": null,
   "metadata": {
    "colab": {
     "base_uri": "https://localhost:8080/"
    },
    "executionInfo": {
     "elapsed": 13,
     "status": "ok",
     "timestamp": 1669667152354,
     "user": {
      "displayName": "Razan HL",
      "userId": "00189607576210306079"
     },
     "user_tz": -180
    },
    "id": "nSU51vmMsmtq",
    "outputId": "b7394f22-e98a-49a6-b294-aa278adbf62b"
   },
   "outputs": [
    {
     "data": {
      "text/plain": [
       "array([[0, 0, 0, ..., 0, 0, 0],\n",
       "       [0, 0, 0, ..., 0, 0, 0],\n",
       "       [0, 0, 0, ..., 0, 0, 0],\n",
       "       ...,\n",
       "       [1, 0, 0, ..., 0, 0, 0],\n",
       "       [1, 0, 0, ..., 0, 0, 0],\n",
       "       [1, 0, 0, ..., 0, 0, 0]])"
      ]
     },
     "execution_count": 83,
     "metadata": {},
     "output_type": "execute_result"
    }
   ],
   "source": [
    "y_pred = []\n",
    "y_test = splited_test[target_list].values\n",
    "y_test"
   ]
  },
  {
   "cell_type": "code",
   "execution_count": null,
   "metadata": {
    "colab": {
     "base_uri": "https://localhost:8080/"
    },
    "executionInfo": {
     "elapsed": 832,
     "status": "ok",
     "timestamp": 1669667265493,
     "user": {
      "displayName": "Razan HL",
      "userId": "00189607576210306079"
     },
     "user_tz": -180
    },
    "id": "BsW9av8szQan",
    "outputId": "54a6151b-3a72-444b-8ed4-33d37dff84ce"
   },
   "outputs": [
    {
     "data": {
      "text/plain": [
       "3407"
      ]
     },
     "execution_count": 88,
     "metadata": {},
     "output_type": "execute_result"
    }
   ],
   "source": [
    "len(y_pred)\n"
   ]
  },
  {
   "cell_type": "code",
   "execution_count": null,
   "metadata": {
    "id": "RnwqngkFsmqV"
   },
   "outputs": [],
   "source": [
    "for txt in splited_test.sp_text:\n",
    "  y_pred.append(arabert_predict(txt, model))"
   ]
  },
  {
   "cell_type": "code",
   "execution_count": null,
   "metadata": {
    "colab": {
     "base_uri": "https://localhost:8080/"
    },
    "executionInfo": {
     "elapsed": 576,
     "status": "ok",
     "timestamp": 1669667379615,
     "user": {
      "displayName": "Razan HL",
      "userId": "00189607576210306079"
     },
     "user_tz": -180
    },
    "id": "BsG1b6ZxsmnH",
    "outputId": "a3669ca6-1b79-4701-867a-5f087a3e0fc6"
   },
   "outputs": [
    {
     "name": "stdout",
     "output_type": "stream",
     "text": [
      "                           precision    recall  f1-score   support\n",
      "\n",
      "   Agricultural_Economics       0.99      0.97      0.98       501\n",
      "Agriculture_Biotechnology       0.88      0.85      0.87       153\n",
      "          Crop_production       0.94      0.78      0.85       596\n",
      "   Environmental_Sciences       0.92      0.91      0.91       486\n",
      "          Food_Technology       0.93      0.94      0.94       464\n",
      "             Horticulture       0.86      0.94      0.90       714\n",
      "     Livestock_production       0.94      0.97      0.96       219\n",
      "        Natural_Resources       0.88      0.95      0.91       786\n",
      "         Plant_Protection       0.96      0.92      0.94       471\n",
      "\n",
      "                micro avg       0.92      0.92      0.92      4390\n",
      "                macro avg       0.92      0.91      0.92      4390\n",
      "             weighted avg       0.92      0.92      0.92      4390\n",
      "              samples avg       0.93      0.93      0.92      4390\n",
      "\n",
      "Model Accuracy:  0.8649838567654828\n",
      "Total F1_score:  0.9178772161616647\n",
      "Total Percision 0.9240251241778543\n",
      "Total Recall 0.9143818433502621\n"
     ]
    }
   ],
   "source": [
    "report, acc, f1, per, recall = accuracy_fn(y_test, y_pred)\n",
    "print(report)\n",
    "print('Model Accuracy: ', acc)\n",
    "print('Total F1_score: ', f1)\n",
    "print('Total Percision', per)\n",
    "print('Total Recall', recall)"
   ]
  },
  {
   "cell_type": "code",
   "execution_count": null,
   "metadata": {
    "id": "0CZSOcgVsmhi"
   },
   "outputs": [],
   "source": []
  }
 ],
 "metadata": {
  "colab": {
   "authorship_tag": "ABX9TyNuT470E7MmG2Jlf7eJyhlB",
   "collapsed_sections": [
    "8Waz1MhmadPj",
    "c0TDtdmfDuCL",
    "FVHOAMv9bt-T",
    "KVoTc5X0FiQZ"
   ],
   "mount_file_id": "10WsRNBAcU7WEa8jGK4vy6sz146sNEyN8",
   "provenance": []
  },
  "gpuClass": "standard",
  "kernelspec": {
   "display_name": "Python 3 (ipykernel)",
   "language": "python",
   "name": "python3"
  },
  "language_info": {
   "codemirror_mode": {
    "name": "ipython",
    "version": 3
   },
   "file_extension": ".py",
   "mimetype": "text/x-python",
   "name": "python",
   "nbconvert_exporter": "python",
   "pygments_lexer": "ipython3",
   "version": "3.9.7"
  },
  "widgets": {
   "application/vnd.jupyter.widget-state+json": {
    "017de591235b474288fdc73fced9e232": {
     "model_module": "@jupyter-widgets/base",
     "model_module_version": "1.2.0",
     "model_name": "LayoutModel",
     "state": {
      "_model_module": "@jupyter-widgets/base",
      "_model_module_version": "1.2.0",
      "_model_name": "LayoutModel",
      "_view_count": null,
      "_view_module": "@jupyter-widgets/base",
      "_view_module_version": "1.2.0",
      "_view_name": "LayoutView",
      "align_content": null,
      "align_items": null,
      "align_self": null,
      "border": null,
      "bottom": null,
      "display": null,
      "flex": null,
      "flex_flow": null,
      "grid_area": null,
      "grid_auto_columns": null,
      "grid_auto_flow": null,
      "grid_auto_rows": null,
      "grid_column": null,
      "grid_gap": null,
      "grid_row": null,
      "grid_template_areas": null,
      "grid_template_columns": null,
      "grid_template_rows": null,
      "height": null,
      "justify_content": null,
      "justify_items": null,
      "left": null,
      "margin": null,
      "max_height": null,
      "max_width": null,
      "min_height": null,
      "min_width": null,
      "object_fit": null,
      "object_position": null,
      "order": null,
      "overflow": null,
      "overflow_x": null,
      "overflow_y": null,
      "padding": null,
      "right": null,
      "top": null,
      "visibility": null,
      "width": null
     }
    },
    "08ad6956bcd548d88ecb080924a63e02": {
     "model_module": "@jupyter-widgets/controls",
     "model_module_version": "1.5.0",
     "model_name": "DescriptionStyleModel",
     "state": {
      "_model_module": "@jupyter-widgets/controls",
      "_model_module_version": "1.5.0",
      "_model_name": "DescriptionStyleModel",
      "_view_count": null,
      "_view_module": "@jupyter-widgets/base",
      "_view_module_version": "1.2.0",
      "_view_name": "StyleView",
      "description_width": ""
     }
    },
    "0cc479e743974f189cdd558b1e392d2f": {
     "model_module": "@jupyter-widgets/controls",
     "model_module_version": "1.5.0",
     "model_name": "DescriptionStyleModel",
     "state": {
      "_model_module": "@jupyter-widgets/controls",
      "_model_module_version": "1.5.0",
      "_model_name": "DescriptionStyleModel",
      "_view_count": null,
      "_view_module": "@jupyter-widgets/base",
      "_view_module_version": "1.2.0",
      "_view_name": "StyleView",
      "description_width": ""
     }
    },
    "0dd4b9d785cd4377a8bfa9b9adb5af49": {
     "model_module": "@jupyter-widgets/controls",
     "model_module_version": "1.5.0",
     "model_name": "DescriptionStyleModel",
     "state": {
      "_model_module": "@jupyter-widgets/controls",
      "_model_module_version": "1.5.0",
      "_model_name": "DescriptionStyleModel",
      "_view_count": null,
      "_view_module": "@jupyter-widgets/base",
      "_view_module_version": "1.2.0",
      "_view_name": "StyleView",
      "description_width": ""
     }
    },
    "0e058f2e38644802994245787290df69": {
     "model_module": "@jupyter-widgets/controls",
     "model_module_version": "1.5.0",
     "model_name": "ProgressStyleModel",
     "state": {
      "_model_module": "@jupyter-widgets/controls",
      "_model_module_version": "1.5.0",
      "_model_name": "ProgressStyleModel",
      "_view_count": null,
      "_view_module": "@jupyter-widgets/base",
      "_view_module_version": "1.2.0",
      "_view_name": "StyleView",
      "bar_color": null,
      "description_width": ""
     }
    },
    "0ec007b8a7104a1b9992470147d31f1b": {
     "model_module": "@jupyter-widgets/base",
     "model_module_version": "1.2.0",
     "model_name": "LayoutModel",
     "state": {
      "_model_module": "@jupyter-widgets/base",
      "_model_module_version": "1.2.0",
      "_model_name": "LayoutModel",
      "_view_count": null,
      "_view_module": "@jupyter-widgets/base",
      "_view_module_version": "1.2.0",
      "_view_name": "LayoutView",
      "align_content": null,
      "align_items": null,
      "align_self": null,
      "border": null,
      "bottom": null,
      "display": null,
      "flex": null,
      "flex_flow": null,
      "grid_area": null,
      "grid_auto_columns": null,
      "grid_auto_flow": null,
      "grid_auto_rows": null,
      "grid_column": null,
      "grid_gap": null,
      "grid_row": null,
      "grid_template_areas": null,
      "grid_template_columns": null,
      "grid_template_rows": null,
      "height": null,
      "justify_content": null,
      "justify_items": null,
      "left": null,
      "margin": null,
      "max_height": null,
      "max_width": null,
      "min_height": null,
      "min_width": null,
      "object_fit": null,
      "object_position": null,
      "order": null,
      "overflow": null,
      "overflow_x": null,
      "overflow_y": null,
      "padding": null,
      "right": null,
      "top": null,
      "visibility": null,
      "width": null
     }
    },
    "0ff44b756aaf49f199aa75ea7ffa7e61": {
     "model_module": "@jupyter-widgets/controls",
     "model_module_version": "1.5.0",
     "model_name": "DescriptionStyleModel",
     "state": {
      "_model_module": "@jupyter-widgets/controls",
      "_model_module_version": "1.5.0",
      "_model_name": "DescriptionStyleModel",
      "_view_count": null,
      "_view_module": "@jupyter-widgets/base",
      "_view_module_version": "1.2.0",
      "_view_name": "StyleView",
      "description_width": ""
     }
    },
    "120e2c0aecc3469c9c41120a2616e8fb": {
     "model_module": "@jupyter-widgets/controls",
     "model_module_version": "1.5.0",
     "model_name": "DescriptionStyleModel",
     "state": {
      "_model_module": "@jupyter-widgets/controls",
      "_model_module_version": "1.5.0",
      "_model_name": "DescriptionStyleModel",
      "_view_count": null,
      "_view_module": "@jupyter-widgets/base",
      "_view_module_version": "1.2.0",
      "_view_name": "StyleView",
      "description_width": ""
     }
    },
    "164691d3cbca4136a875acd58664dc50": {
     "model_module": "@jupyter-widgets/controls",
     "model_module_version": "1.5.0",
     "model_name": "DescriptionStyleModel",
     "state": {
      "_model_module": "@jupyter-widgets/controls",
      "_model_module_version": "1.5.0",
      "_model_name": "DescriptionStyleModel",
      "_view_count": null,
      "_view_module": "@jupyter-widgets/base",
      "_view_module_version": "1.2.0",
      "_view_name": "StyleView",
      "description_width": ""
     }
    },
    "176ff52726e34c2ebf47f47f0a13e20b": {
     "model_module": "@jupyter-widgets/base",
     "model_module_version": "1.2.0",
     "model_name": "LayoutModel",
     "state": {
      "_model_module": "@jupyter-widgets/base",
      "_model_module_version": "1.2.0",
      "_model_name": "LayoutModel",
      "_view_count": null,
      "_view_module": "@jupyter-widgets/base",
      "_view_module_version": "1.2.0",
      "_view_name": "LayoutView",
      "align_content": null,
      "align_items": null,
      "align_self": null,
      "border": null,
      "bottom": null,
      "display": null,
      "flex": null,
      "flex_flow": null,
      "grid_area": null,
      "grid_auto_columns": null,
      "grid_auto_flow": null,
      "grid_auto_rows": null,
      "grid_column": null,
      "grid_gap": null,
      "grid_row": null,
      "grid_template_areas": null,
      "grid_template_columns": null,
      "grid_template_rows": null,
      "height": null,
      "justify_content": null,
      "justify_items": null,
      "left": null,
      "margin": null,
      "max_height": null,
      "max_width": null,
      "min_height": null,
      "min_width": null,
      "object_fit": null,
      "object_position": null,
      "order": null,
      "overflow": null,
      "overflow_x": null,
      "overflow_y": null,
      "padding": null,
      "right": null,
      "top": null,
      "visibility": null,
      "width": null
     }
    },
    "17cfdc51f3e3497e891bbb40c1d872ac": {
     "model_module": "@jupyter-widgets/base",
     "model_module_version": "1.2.0",
     "model_name": "LayoutModel",
     "state": {
      "_model_module": "@jupyter-widgets/base",
      "_model_module_version": "1.2.0",
      "_model_name": "LayoutModel",
      "_view_count": null,
      "_view_module": "@jupyter-widgets/base",
      "_view_module_version": "1.2.0",
      "_view_name": "LayoutView",
      "align_content": null,
      "align_items": null,
      "align_self": null,
      "border": null,
      "bottom": null,
      "display": null,
      "flex": null,
      "flex_flow": null,
      "grid_area": null,
      "grid_auto_columns": null,
      "grid_auto_flow": null,
      "grid_auto_rows": null,
      "grid_column": null,
      "grid_gap": null,
      "grid_row": null,
      "grid_template_areas": null,
      "grid_template_columns": null,
      "grid_template_rows": null,
      "height": null,
      "justify_content": null,
      "justify_items": null,
      "left": null,
      "margin": null,
      "max_height": null,
      "max_width": null,
      "min_height": null,
      "min_width": null,
      "object_fit": null,
      "object_position": null,
      "order": null,
      "overflow": null,
      "overflow_x": null,
      "overflow_y": null,
      "padding": null,
      "right": null,
      "top": null,
      "visibility": null,
      "width": null
     }
    },
    "1852e215d13f4887a61d3c43bee7ce2c": {
     "model_module": "@jupyter-widgets/base",
     "model_module_version": "1.2.0",
     "model_name": "LayoutModel",
     "state": {
      "_model_module": "@jupyter-widgets/base",
      "_model_module_version": "1.2.0",
      "_model_name": "LayoutModel",
      "_view_count": null,
      "_view_module": "@jupyter-widgets/base",
      "_view_module_version": "1.2.0",
      "_view_name": "LayoutView",
      "align_content": null,
      "align_items": null,
      "align_self": null,
      "border": null,
      "bottom": null,
      "display": null,
      "flex": null,
      "flex_flow": null,
      "grid_area": null,
      "grid_auto_columns": null,
      "grid_auto_flow": null,
      "grid_auto_rows": null,
      "grid_column": null,
      "grid_gap": null,
      "grid_row": null,
      "grid_template_areas": null,
      "grid_template_columns": null,
      "grid_template_rows": null,
      "height": null,
      "justify_content": null,
      "justify_items": null,
      "left": null,
      "margin": null,
      "max_height": null,
      "max_width": null,
      "min_height": null,
      "min_width": null,
      "object_fit": null,
      "object_position": null,
      "order": null,
      "overflow": null,
      "overflow_x": null,
      "overflow_y": null,
      "padding": null,
      "right": null,
      "top": null,
      "visibility": null,
      "width": null
     }
    },
    "189f3eded86544c78b4960bc2388606c": {
     "model_module": "@jupyter-widgets/base",
     "model_module_version": "1.2.0",
     "model_name": "LayoutModel",
     "state": {
      "_model_module": "@jupyter-widgets/base",
      "_model_module_version": "1.2.0",
      "_model_name": "LayoutModel",
      "_view_count": null,
      "_view_module": "@jupyter-widgets/base",
      "_view_module_version": "1.2.0",
      "_view_name": "LayoutView",
      "align_content": null,
      "align_items": null,
      "align_self": null,
      "border": null,
      "bottom": null,
      "display": null,
      "flex": null,
      "flex_flow": null,
      "grid_area": null,
      "grid_auto_columns": null,
      "grid_auto_flow": null,
      "grid_auto_rows": null,
      "grid_column": null,
      "grid_gap": null,
      "grid_row": null,
      "grid_template_areas": null,
      "grid_template_columns": null,
      "grid_template_rows": null,
      "height": null,
      "justify_content": null,
      "justify_items": null,
      "left": null,
      "margin": null,
      "max_height": null,
      "max_width": null,
      "min_height": null,
      "min_width": null,
      "object_fit": null,
      "object_position": null,
      "order": null,
      "overflow": null,
      "overflow_x": null,
      "overflow_y": null,
      "padding": null,
      "right": null,
      "top": null,
      "visibility": null,
      "width": null
     }
    },
    "1a09f235251a4090b3abd270c7e9f9d1": {
     "model_module": "@jupyter-widgets/controls",
     "model_module_version": "1.5.0",
     "model_name": "FloatProgressModel",
     "state": {
      "_dom_classes": [],
      "_model_module": "@jupyter-widgets/controls",
      "_model_module_version": "1.5.0",
      "_model_name": "FloatProgressModel",
      "_view_count": null,
      "_view_module": "@jupyter-widgets/controls",
      "_view_module_version": "1.5.0",
      "_view_name": "ProgressView",
      "bar_style": "success",
      "description": "",
      "description_tooltip": null,
      "layout": "IPY_MODEL_db4c0b238713452c8bf898b54d5bec97",
      "max": 2306039,
      "min": 0,
      "orientation": "horizontal",
      "style": "IPY_MODEL_cfb0abf0b7b24910a83c9d40fb3098f7",
      "value": 2306039
     }
    },
    "1a6de2836ab84c3aa96617a04e6a9230": {
     "model_module": "@jupyter-widgets/controls",
     "model_module_version": "1.5.0",
     "model_name": "HBoxModel",
     "state": {
      "_dom_classes": [],
      "_model_module": "@jupyter-widgets/controls",
      "_model_module_version": "1.5.0",
      "_model_name": "HBoxModel",
      "_view_count": null,
      "_view_module": "@jupyter-widgets/controls",
      "_view_module_version": "1.5.0",
      "_view_name": "HBoxView",
      "box_style": "",
      "children": [
       "IPY_MODEL_320d15f58fcc4bc494b2150c1ae25a6f",
       "IPY_MODEL_9ccb58468ae346028db8d9033c56b3ed",
       "IPY_MODEL_a2e83ab849aa4e748b54a0ae6075a091"
      ],
      "layout": "IPY_MODEL_a1ad2c3bd8634e799e44d20889f8d674"
     }
    },
    "1ae020693f4d47a0b4c29cfd74d79669": {
     "model_module": "@jupyter-widgets/base",
     "model_module_version": "1.2.0",
     "model_name": "LayoutModel",
     "state": {
      "_model_module": "@jupyter-widgets/base",
      "_model_module_version": "1.2.0",
      "_model_name": "LayoutModel",
      "_view_count": null,
      "_view_module": "@jupyter-widgets/base",
      "_view_module_version": "1.2.0",
      "_view_name": "LayoutView",
      "align_content": null,
      "align_items": null,
      "align_self": null,
      "border": null,
      "bottom": null,
      "display": null,
      "flex": null,
      "flex_flow": null,
      "grid_area": null,
      "grid_auto_columns": null,
      "grid_auto_flow": null,
      "grid_auto_rows": null,
      "grid_column": null,
      "grid_gap": null,
      "grid_row": null,
      "grid_template_areas": null,
      "grid_template_columns": null,
      "grid_template_rows": null,
      "height": null,
      "justify_content": null,
      "justify_items": null,
      "left": null,
      "margin": null,
      "max_height": null,
      "max_width": null,
      "min_height": null,
      "min_width": null,
      "object_fit": null,
      "object_position": null,
      "order": null,
      "overflow": null,
      "overflow_x": null,
      "overflow_y": null,
      "padding": null,
      "right": null,
      "top": null,
      "visibility": null,
      "width": null
     }
    },
    "1c50a4b48d3342fa85f976cdab5f7ba5": {
     "model_module": "@jupyter-widgets/controls",
     "model_module_version": "1.5.0",
     "model_name": "DescriptionStyleModel",
     "state": {
      "_model_module": "@jupyter-widgets/controls",
      "_model_module_version": "1.5.0",
      "_model_name": "DescriptionStyleModel",
      "_view_count": null,
      "_view_module": "@jupyter-widgets/base",
      "_view_module_version": "1.2.0",
      "_view_name": "StyleView",
      "description_width": ""
     }
    },
    "1f5a00e701b34ced90840b6066f02405": {
     "model_module": "@jupyter-widgets/base",
     "model_module_version": "1.2.0",
     "model_name": "LayoutModel",
     "state": {
      "_model_module": "@jupyter-widgets/base",
      "_model_module_version": "1.2.0",
      "_model_name": "LayoutModel",
      "_view_count": null,
      "_view_module": "@jupyter-widgets/base",
      "_view_module_version": "1.2.0",
      "_view_name": "LayoutView",
      "align_content": null,
      "align_items": null,
      "align_self": null,
      "border": null,
      "bottom": null,
      "display": null,
      "flex": null,
      "flex_flow": null,
      "grid_area": null,
      "grid_auto_columns": null,
      "grid_auto_flow": null,
      "grid_auto_rows": null,
      "grid_column": null,
      "grid_gap": null,
      "grid_row": null,
      "grid_template_areas": null,
      "grid_template_columns": null,
      "grid_template_rows": null,
      "height": null,
      "justify_content": null,
      "justify_items": null,
      "left": null,
      "margin": null,
      "max_height": null,
      "max_width": null,
      "min_height": null,
      "min_width": null,
      "object_fit": null,
      "object_position": null,
      "order": null,
      "overflow": null,
      "overflow_x": null,
      "overflow_y": null,
      "padding": null,
      "right": null,
      "top": null,
      "visibility": null,
      "width": null
     }
    },
    "22586f99b64546c782150b411eb5b1fd": {
     "model_module": "@jupyter-widgets/base",
     "model_module_version": "1.2.0",
     "model_name": "LayoutModel",
     "state": {
      "_model_module": "@jupyter-widgets/base",
      "_model_module_version": "1.2.0",
      "_model_name": "LayoutModel",
      "_view_count": null,
      "_view_module": "@jupyter-widgets/base",
      "_view_module_version": "1.2.0",
      "_view_name": "LayoutView",
      "align_content": null,
      "align_items": null,
      "align_self": null,
      "border": null,
      "bottom": null,
      "display": null,
      "flex": null,
      "flex_flow": null,
      "grid_area": null,
      "grid_auto_columns": null,
      "grid_auto_flow": null,
      "grid_auto_rows": null,
      "grid_column": null,
      "grid_gap": null,
      "grid_row": null,
      "grid_template_areas": null,
      "grid_template_columns": null,
      "grid_template_rows": null,
      "height": null,
      "justify_content": null,
      "justify_items": null,
      "left": null,
      "margin": null,
      "max_height": null,
      "max_width": null,
      "min_height": null,
      "min_width": null,
      "object_fit": null,
      "object_position": null,
      "order": null,
      "overflow": null,
      "overflow_x": null,
      "overflow_y": null,
      "padding": null,
      "right": null,
      "top": null,
      "visibility": null,
      "width": null
     }
    },
    "2512417dbee74db589f9dcdd56463966": {
     "model_module": "@jupyter-widgets/controls",
     "model_module_version": "1.5.0",
     "model_name": "DescriptionStyleModel",
     "state": {
      "_model_module": "@jupyter-widgets/controls",
      "_model_module_version": "1.5.0",
      "_model_name": "DescriptionStyleModel",
      "_view_count": null,
      "_view_module": "@jupyter-widgets/base",
      "_view_module_version": "1.2.0",
      "_view_name": "StyleView",
      "description_width": ""
     }
    },
    "26890014340f46a88899f4df9e431519": {
     "model_module": "@jupyter-widgets/controls",
     "model_module_version": "1.5.0",
     "model_name": "ProgressStyleModel",
     "state": {
      "_model_module": "@jupyter-widgets/controls",
      "_model_module_version": "1.5.0",
      "_model_name": "ProgressStyleModel",
      "_view_count": null,
      "_view_module": "@jupyter-widgets/base",
      "_view_module_version": "1.2.0",
      "_view_name": "StyleView",
      "bar_color": null,
      "description_width": ""
     }
    },
    "2dc651ddcbd640598668c8a847d8173d": {
     "model_module": "@jupyter-widgets/controls",
     "model_module_version": "1.5.0",
     "model_name": "DescriptionStyleModel",
     "state": {
      "_model_module": "@jupyter-widgets/controls",
      "_model_module_version": "1.5.0",
      "_model_name": "DescriptionStyleModel",
      "_view_count": null,
      "_view_module": "@jupyter-widgets/base",
      "_view_module_version": "1.2.0",
      "_view_name": "StyleView",
      "description_width": ""
     }
    },
    "320d15f58fcc4bc494b2150c1ae25a6f": {
     "model_module": "@jupyter-widgets/controls",
     "model_module_version": "1.5.0",
     "model_name": "HTMLModel",
     "state": {
      "_dom_classes": [],
      "_model_module": "@jupyter-widgets/controls",
      "_model_module_version": "1.5.0",
      "_model_name": "HTMLModel",
      "_view_count": null,
      "_view_module": "@jupyter-widgets/controls",
      "_view_module_version": "1.5.0",
      "_view_name": "HTMLView",
      "description": "",
      "description_tooltip": null,
      "layout": "IPY_MODEL_b6c65ac932b54351a499066c2bb1154a",
      "placeholder": "​",
      "style": "IPY_MODEL_58d53d61b3b3460caa2792db1b21b1e9",
      "value": "Downloading: 100%"
     }
    },
    "35eb39ddbaf642fd80ae56e34f006cb6": {
     "model_module": "@jupyter-widgets/controls",
     "model_module_version": "1.5.0",
     "model_name": "HTMLModel",
     "state": {
      "_dom_classes": [],
      "_model_module": "@jupyter-widgets/controls",
      "_model_module_version": "1.5.0",
      "_model_name": "HTMLModel",
      "_view_count": null,
      "_view_module": "@jupyter-widgets/controls",
      "_view_module_version": "1.5.0",
      "_view_name": "HTMLView",
      "description": "",
      "description_tooltip": null,
      "layout": "IPY_MODEL_ef700e3e581e48f2a1a6b9ef308da491",
      "placeholder": "​",
      "style": "IPY_MODEL_56300f15f1da4b249f906a076eb79d33",
      "value": "Downloading: 100%"
     }
    },
    "35f9b9a040034fca9556dee5cbaf468f": {
     "model_module": "@jupyter-widgets/controls",
     "model_module_version": "1.5.0",
     "model_name": "HTMLModel",
     "state": {
      "_dom_classes": [],
      "_model_module": "@jupyter-widgets/controls",
      "_model_module_version": "1.5.0",
      "_model_name": "HTMLModel",
      "_view_count": null,
      "_view_module": "@jupyter-widgets/controls",
      "_view_module_version": "1.5.0",
      "_view_name": "HTMLView",
      "description": "",
      "description_tooltip": null,
      "layout": "IPY_MODEL_5d5be4ada78d42f5b4cd7e025e9e170e",
      "placeholder": "​",
      "style": "IPY_MODEL_c70db464697b4fee84938b734085d601",
      "value": "Downloading: 100%"
     }
    },
    "37ee363981364a83a2947e318f75618c": {
     "model_module": "@jupyter-widgets/controls",
     "model_module_version": "1.5.0",
     "model_name": "ProgressStyleModel",
     "state": {
      "_model_module": "@jupyter-widgets/controls",
      "_model_module_version": "1.5.0",
      "_model_name": "ProgressStyleModel",
      "_view_count": null,
      "_view_module": "@jupyter-widgets/base",
      "_view_module_version": "1.2.0",
      "_view_name": "StyleView",
      "bar_color": null,
      "description_width": ""
     }
    },
    "3b2d0d4223a04403994a6264db098231": {
     "model_module": "@jupyter-widgets/controls",
     "model_module_version": "1.5.0",
     "model_name": "HBoxModel",
     "state": {
      "_dom_classes": [],
      "_model_module": "@jupyter-widgets/controls",
      "_model_module_version": "1.5.0",
      "_model_name": "HBoxModel",
      "_view_count": null,
      "_view_module": "@jupyter-widgets/controls",
      "_view_module_version": "1.5.0",
      "_view_name": "HBoxView",
      "box_style": "",
      "children": [
       "IPY_MODEL_45623268cc224464b23c426ab2e56bab",
       "IPY_MODEL_1a09f235251a4090b3abd270c7e9f9d1",
       "IPY_MODEL_de60f713150443dca5148c69d3284e99"
      ],
      "layout": "IPY_MODEL_f9bb8a3b0c8c4e1a8216a82c4804a1e1"
     }
    },
    "3b8d764a89444255a848725d24a879e3": {
     "model_module": "@jupyter-widgets/base",
     "model_module_version": "1.2.0",
     "model_name": "LayoutModel",
     "state": {
      "_model_module": "@jupyter-widgets/base",
      "_model_module_version": "1.2.0",
      "_model_name": "LayoutModel",
      "_view_count": null,
      "_view_module": "@jupyter-widgets/base",
      "_view_module_version": "1.2.0",
      "_view_name": "LayoutView",
      "align_content": null,
      "align_items": null,
      "align_self": null,
      "border": null,
      "bottom": null,
      "display": null,
      "flex": null,
      "flex_flow": null,
      "grid_area": null,
      "grid_auto_columns": null,
      "grid_auto_flow": null,
      "grid_auto_rows": null,
      "grid_column": null,
      "grid_gap": null,
      "grid_row": null,
      "grid_template_areas": null,
      "grid_template_columns": null,
      "grid_template_rows": null,
      "height": null,
      "justify_content": null,
      "justify_items": null,
      "left": null,
      "margin": null,
      "max_height": null,
      "max_width": null,
      "min_height": null,
      "min_width": null,
      "object_fit": null,
      "object_position": null,
      "order": null,
      "overflow": null,
      "overflow_x": null,
      "overflow_y": null,
      "padding": null,
      "right": null,
      "top": null,
      "visibility": null,
      "width": null
     }
    },
    "3e26cb9454e945edbd00a5e55f61e60c": {
     "model_module": "@jupyter-widgets/base",
     "model_module_version": "1.2.0",
     "model_name": "LayoutModel",
     "state": {
      "_model_module": "@jupyter-widgets/base",
      "_model_module_version": "1.2.0",
      "_model_name": "LayoutModel",
      "_view_count": null,
      "_view_module": "@jupyter-widgets/base",
      "_view_module_version": "1.2.0",
      "_view_name": "LayoutView",
      "align_content": null,
      "align_items": null,
      "align_self": null,
      "border": null,
      "bottom": null,
      "display": null,
      "flex": null,
      "flex_flow": null,
      "grid_area": null,
      "grid_auto_columns": null,
      "grid_auto_flow": null,
      "grid_auto_rows": null,
      "grid_column": null,
      "grid_gap": null,
      "grid_row": null,
      "grid_template_areas": null,
      "grid_template_columns": null,
      "grid_template_rows": null,
      "height": null,
      "justify_content": null,
      "justify_items": null,
      "left": null,
      "margin": null,
      "max_height": null,
      "max_width": null,
      "min_height": null,
      "min_width": null,
      "object_fit": null,
      "object_position": null,
      "order": null,
      "overflow": null,
      "overflow_x": null,
      "overflow_y": null,
      "padding": null,
      "right": null,
      "top": null,
      "visibility": null,
      "width": null
     }
    },
    "410d927560354a23b18668321ea8c2cf": {
     "model_module": "@jupyter-widgets/controls",
     "model_module_version": "1.5.0",
     "model_name": "HTMLModel",
     "state": {
      "_dom_classes": [],
      "_model_module": "@jupyter-widgets/controls",
      "_model_module_version": "1.5.0",
      "_model_name": "HTMLModel",
      "_view_count": null,
      "_view_module": "@jupyter-widgets/controls",
      "_view_module_version": "1.5.0",
      "_view_name": "HTMLView",
      "description": "",
      "description_tooltip": null,
      "layout": "IPY_MODEL_189f3eded86544c78b4960bc2388606c",
      "placeholder": "​",
      "style": "IPY_MODEL_08ad6956bcd548d88ecb080924a63e02",
      "value": "Downloading: 100%"
     }
    },
    "43900f67ec004ac18f175dd2bb5febdf": {
     "model_module": "@jupyter-widgets/controls",
     "model_module_version": "1.5.0",
     "model_name": "HBoxModel",
     "state": {
      "_dom_classes": [],
      "_model_module": "@jupyter-widgets/controls",
      "_model_module_version": "1.5.0",
      "_model_name": "HBoxModel",
      "_view_count": null,
      "_view_module": "@jupyter-widgets/controls",
      "_view_module_version": "1.5.0",
      "_view_name": "HBoxView",
      "box_style": "",
      "children": [
       "IPY_MODEL_35f9b9a040034fca9556dee5cbaf468f",
       "IPY_MODEL_f1aca7f50e1645f39d623cbe2061d07d",
       "IPY_MODEL_573c8d7b9b0343dfa9200404645eb464"
      ],
      "layout": "IPY_MODEL_3e26cb9454e945edbd00a5e55f61e60c"
     }
    },
    "454f0fade0594ee5bba42d553d1133d9": {
     "model_module": "@jupyter-widgets/controls",
     "model_module_version": "1.5.0",
     "model_name": "HBoxModel",
     "state": {
      "_dom_classes": [],
      "_model_module": "@jupyter-widgets/controls",
      "_model_module_version": "1.5.0",
      "_model_name": "HBoxModel",
      "_view_count": null,
      "_view_module": "@jupyter-widgets/controls",
      "_view_module_version": "1.5.0",
      "_view_name": "HBoxView",
      "box_style": "",
      "children": [
       "IPY_MODEL_8a81d3b08ca445019358b8b9768fc87d",
       "IPY_MODEL_9536eae0c23b43fbb1d4e4ce9baadd77",
       "IPY_MODEL_96b7c7265c44481aad23e30015e111e8"
      ],
      "layout": "IPY_MODEL_1ae020693f4d47a0b4c29cfd74d79669"
     }
    },
    "45623268cc224464b23c426ab2e56bab": {
     "model_module": "@jupyter-widgets/controls",
     "model_module_version": "1.5.0",
     "model_name": "HTMLModel",
     "state": {
      "_dom_classes": [],
      "_model_module": "@jupyter-widgets/controls",
      "_model_module_version": "1.5.0",
      "_model_name": "HTMLModel",
      "_view_count": null,
      "_view_module": "@jupyter-widgets/controls",
      "_view_module_version": "1.5.0",
      "_view_name": "HTMLView",
      "description": "",
      "description_tooltip": null,
      "layout": "IPY_MODEL_7a8ecb7fe9034b5298c9bc7e7b13b331",
      "placeholder": "​",
      "style": "IPY_MODEL_0cc479e743974f189cdd558b1e392d2f",
      "value": "Downloading: 100%"
     }
    },
    "45710512d6b94ebf881c4e4360130d58": {
     "model_module": "@jupyter-widgets/base",
     "model_module_version": "1.2.0",
     "model_name": "LayoutModel",
     "state": {
      "_model_module": "@jupyter-widgets/base",
      "_model_module_version": "1.2.0",
      "_model_name": "LayoutModel",
      "_view_count": null,
      "_view_module": "@jupyter-widgets/base",
      "_view_module_version": "1.2.0",
      "_view_name": "LayoutView",
      "align_content": null,
      "align_items": null,
      "align_self": null,
      "border": null,
      "bottom": null,
      "display": null,
      "flex": null,
      "flex_flow": null,
      "grid_area": null,
      "grid_auto_columns": null,
      "grid_auto_flow": null,
      "grid_auto_rows": null,
      "grid_column": null,
      "grid_gap": null,
      "grid_row": null,
      "grid_template_areas": null,
      "grid_template_columns": null,
      "grid_template_rows": null,
      "height": null,
      "justify_content": null,
      "justify_items": null,
      "left": null,
      "margin": null,
      "max_height": null,
      "max_width": null,
      "min_height": null,
      "min_width": null,
      "object_fit": null,
      "object_position": null,
      "order": null,
      "overflow": null,
      "overflow_x": null,
      "overflow_y": null,
      "padding": null,
      "right": null,
      "top": null,
      "visibility": null,
      "width": null
     }
    },
    "469fa424edc34bc399c13482c41bd364": {
     "model_module": "@jupyter-widgets/base",
     "model_module_version": "1.2.0",
     "model_name": "LayoutModel",
     "state": {
      "_model_module": "@jupyter-widgets/base",
      "_model_module_version": "1.2.0",
      "_model_name": "LayoutModel",
      "_view_count": null,
      "_view_module": "@jupyter-widgets/base",
      "_view_module_version": "1.2.0",
      "_view_name": "LayoutView",
      "align_content": null,
      "align_items": null,
      "align_self": null,
      "border": null,
      "bottom": null,
      "display": null,
      "flex": null,
      "flex_flow": null,
      "grid_area": null,
      "grid_auto_columns": null,
      "grid_auto_flow": null,
      "grid_auto_rows": null,
      "grid_column": null,
      "grid_gap": null,
      "grid_row": null,
      "grid_template_areas": null,
      "grid_template_columns": null,
      "grid_template_rows": null,
      "height": null,
      "justify_content": null,
      "justify_items": null,
      "left": null,
      "margin": null,
      "max_height": null,
      "max_width": null,
      "min_height": null,
      "min_width": null,
      "object_fit": null,
      "object_position": null,
      "order": null,
      "overflow": null,
      "overflow_x": null,
      "overflow_y": null,
      "padding": null,
      "right": null,
      "top": null,
      "visibility": null,
      "width": null
     }
    },
    "48b57ea6820542e1a874f269ab62c34a": {
     "model_module": "@jupyter-widgets/base",
     "model_module_version": "1.2.0",
     "model_name": "LayoutModel",
     "state": {
      "_model_module": "@jupyter-widgets/base",
      "_model_module_version": "1.2.0",
      "_model_name": "LayoutModel",
      "_view_count": null,
      "_view_module": "@jupyter-widgets/base",
      "_view_module_version": "1.2.0",
      "_view_name": "LayoutView",
      "align_content": null,
      "align_items": null,
      "align_self": null,
      "border": null,
      "bottom": null,
      "display": null,
      "flex": null,
      "flex_flow": null,
      "grid_area": null,
      "grid_auto_columns": null,
      "grid_auto_flow": null,
      "grid_auto_rows": null,
      "grid_column": null,
      "grid_gap": null,
      "grid_row": null,
      "grid_template_areas": null,
      "grid_template_columns": null,
      "grid_template_rows": null,
      "height": null,
      "justify_content": null,
      "justify_items": null,
      "left": null,
      "margin": null,
      "max_height": null,
      "max_width": null,
      "min_height": null,
      "min_width": null,
      "object_fit": null,
      "object_position": null,
      "order": null,
      "overflow": null,
      "overflow_x": null,
      "overflow_y": null,
      "padding": null,
      "right": null,
      "top": null,
      "visibility": null,
      "width": null
     }
    },
    "48bd3bf1ecd6400b8d20aeb8abe1837e": {
     "model_module": "@jupyter-widgets/base",
     "model_module_version": "1.2.0",
     "model_name": "LayoutModel",
     "state": {
      "_model_module": "@jupyter-widgets/base",
      "_model_module_version": "1.2.0",
      "_model_name": "LayoutModel",
      "_view_count": null,
      "_view_module": "@jupyter-widgets/base",
      "_view_module_version": "1.2.0",
      "_view_name": "LayoutView",
      "align_content": null,
      "align_items": null,
      "align_self": null,
      "border": null,
      "bottom": null,
      "display": null,
      "flex": null,
      "flex_flow": null,
      "grid_area": null,
      "grid_auto_columns": null,
      "grid_auto_flow": null,
      "grid_auto_rows": null,
      "grid_column": null,
      "grid_gap": null,
      "grid_row": null,
      "grid_template_areas": null,
      "grid_template_columns": null,
      "grid_template_rows": null,
      "height": null,
      "justify_content": null,
      "justify_items": null,
      "left": null,
      "margin": null,
      "max_height": null,
      "max_width": null,
      "min_height": null,
      "min_width": null,
      "object_fit": null,
      "object_position": null,
      "order": null,
      "overflow": null,
      "overflow_x": null,
      "overflow_y": null,
      "padding": null,
      "right": null,
      "top": null,
      "visibility": null,
      "width": null
     }
    },
    "48d094cf3b9d4e61b91c22d1f77610d3": {
     "model_module": "@jupyter-widgets/controls",
     "model_module_version": "1.5.0",
     "model_name": "DescriptionStyleModel",
     "state": {
      "_model_module": "@jupyter-widgets/controls",
      "_model_module_version": "1.5.0",
      "_model_name": "DescriptionStyleModel",
      "_view_count": null,
      "_view_module": "@jupyter-widgets/base",
      "_view_module_version": "1.2.0",
      "_view_name": "StyleView",
      "description_width": ""
     }
    },
    "4af60b305d3e4d5fbaf014fc5100f5fa": {
     "model_module": "@jupyter-widgets/base",
     "model_module_version": "1.2.0",
     "model_name": "LayoutModel",
     "state": {
      "_model_module": "@jupyter-widgets/base",
      "_model_module_version": "1.2.0",
      "_model_name": "LayoutModel",
      "_view_count": null,
      "_view_module": "@jupyter-widgets/base",
      "_view_module_version": "1.2.0",
      "_view_name": "LayoutView",
      "align_content": null,
      "align_items": null,
      "align_self": null,
      "border": null,
      "bottom": null,
      "display": null,
      "flex": null,
      "flex_flow": null,
      "grid_area": null,
      "grid_auto_columns": null,
      "grid_auto_flow": null,
      "grid_auto_rows": null,
      "grid_column": null,
      "grid_gap": null,
      "grid_row": null,
      "grid_template_areas": null,
      "grid_template_columns": null,
      "grid_template_rows": null,
      "height": null,
      "justify_content": null,
      "justify_items": null,
      "left": null,
      "margin": null,
      "max_height": null,
      "max_width": null,
      "min_height": null,
      "min_width": null,
      "object_fit": null,
      "object_position": null,
      "order": null,
      "overflow": null,
      "overflow_x": null,
      "overflow_y": null,
      "padding": null,
      "right": null,
      "top": null,
      "visibility": null,
      "width": null
     }
    },
    "4c4a0b5900954d3aa58fc784d0957c77": {
     "model_module": "@jupyter-widgets/controls",
     "model_module_version": "1.5.0",
     "model_name": "FloatProgressModel",
     "state": {
      "_dom_classes": [],
      "_model_module": "@jupyter-widgets/controls",
      "_model_module_version": "1.5.0",
      "_model_name": "FloatProgressModel",
      "_view_count": null,
      "_view_module": "@jupyter-widgets/controls",
      "_view_module_version": "1.5.0",
      "_view_name": "ProgressView",
      "bar_style": "success",
      "description": "",
      "description_tooltip": null,
      "layout": "IPY_MODEL_f81099febf7d40abadecbe2855618b62",
      "max": 112,
      "min": 0,
      "orientation": "horizontal",
      "style": "IPY_MODEL_ea31abf9349c44d0ab3eed2a2ab80a30",
      "value": 112
     }
    },
    "4c66ddfcb6544d15a0aa8c192828da22": {
     "model_module": "@jupyter-widgets/controls",
     "model_module_version": "1.5.0",
     "model_name": "HTMLModel",
     "state": {
      "_dom_classes": [],
      "_model_module": "@jupyter-widgets/controls",
      "_model_module_version": "1.5.0",
      "_model_name": "HTMLModel",
      "_view_count": null,
      "_view_module": "@jupyter-widgets/controls",
      "_view_module_version": "1.5.0",
      "_view_name": "HTMLView",
      "description": "",
      "description_tooltip": null,
      "layout": "IPY_MODEL_7186caa3fd5d4523acefe6710b4cac7b",
      "placeholder": "​",
      "style": "IPY_MODEL_1c50a4b48d3342fa85f976cdab5f7ba5",
      "value": " 543M/543M [00:23&lt;00:00, 29.8MB/s]"
     }
    },
    "50158591bb494ea9aca6146331f9c068": {
     "model_module": "@jupyter-widgets/controls",
     "model_module_version": "1.5.0",
     "model_name": "FloatProgressModel",
     "state": {
      "_dom_classes": [],
      "_model_module": "@jupyter-widgets/controls",
      "_model_module_version": "1.5.0",
      "_model_name": "FloatProgressModel",
      "_view_count": null,
      "_view_module": "@jupyter-widgets/controls",
      "_view_module_version": "1.5.0",
      "_view_name": "ProgressView",
      "bar_style": "success",
      "description": "",
      "description_tooltip": null,
      "layout": "IPY_MODEL_e8567064e1554b0a838c18ce3e066b68",
      "max": 611,
      "min": 0,
      "orientation": "horizontal",
      "style": "IPY_MODEL_f632b477240c4e75840f299264bcf6d1",
      "value": 611
     }
    },
    "512724d5d94e4661a381ec60f677f72b": {
     "model_module": "@jupyter-widgets/controls",
     "model_module_version": "1.5.0",
     "model_name": "DescriptionStyleModel",
     "state": {
      "_model_module": "@jupyter-widgets/controls",
      "_model_module_version": "1.5.0",
      "_model_name": "DescriptionStyleModel",
      "_view_count": null,
      "_view_module": "@jupyter-widgets/base",
      "_view_module_version": "1.2.0",
      "_view_name": "StyleView",
      "description_width": ""
     }
    },
    "53f68e4e0eb1492aa8a22047e464e199": {
     "model_module": "@jupyter-widgets/controls",
     "model_module_version": "1.5.0",
     "model_name": "ProgressStyleModel",
     "state": {
      "_model_module": "@jupyter-widgets/controls",
      "_model_module_version": "1.5.0",
      "_model_name": "ProgressStyleModel",
      "_view_count": null,
      "_view_module": "@jupyter-widgets/base",
      "_view_module_version": "1.2.0",
      "_view_name": "StyleView",
      "bar_color": null,
      "description_width": ""
     }
    },
    "556444942bab4de790fe87bff426961c": {
     "model_module": "@jupyter-widgets/base",
     "model_module_version": "1.2.0",
     "model_name": "LayoutModel",
     "state": {
      "_model_module": "@jupyter-widgets/base",
      "_model_module_version": "1.2.0",
      "_model_name": "LayoutModel",
      "_view_count": null,
      "_view_module": "@jupyter-widgets/base",
      "_view_module_version": "1.2.0",
      "_view_name": "LayoutView",
      "align_content": null,
      "align_items": null,
      "align_self": null,
      "border": null,
      "bottom": null,
      "display": null,
      "flex": null,
      "flex_flow": null,
      "grid_area": null,
      "grid_auto_columns": null,
      "grid_auto_flow": null,
      "grid_auto_rows": null,
      "grid_column": null,
      "grid_gap": null,
      "grid_row": null,
      "grid_template_areas": null,
      "grid_template_columns": null,
      "grid_template_rows": null,
      "height": null,
      "justify_content": null,
      "justify_items": null,
      "left": null,
      "margin": null,
      "max_height": null,
      "max_width": null,
      "min_height": null,
      "min_width": null,
      "object_fit": null,
      "object_position": null,
      "order": null,
      "overflow": null,
      "overflow_x": null,
      "overflow_y": null,
      "padding": null,
      "right": null,
      "top": null,
      "visibility": null,
      "width": null
     }
    },
    "56300f15f1da4b249f906a076eb79d33": {
     "model_module": "@jupyter-widgets/controls",
     "model_module_version": "1.5.0",
     "model_name": "DescriptionStyleModel",
     "state": {
      "_model_module": "@jupyter-widgets/controls",
      "_model_module_version": "1.5.0",
      "_model_name": "DescriptionStyleModel",
      "_view_count": null,
      "_view_module": "@jupyter-widgets/base",
      "_view_module_version": "1.2.0",
      "_view_name": "StyleView",
      "description_width": ""
     }
    },
    "573c8d7b9b0343dfa9200404645eb464": {
     "model_module": "@jupyter-widgets/controls",
     "model_module_version": "1.5.0",
     "model_name": "HTMLModel",
     "state": {
      "_dom_classes": [],
      "_model_module": "@jupyter-widgets/controls",
      "_model_module_version": "1.5.0",
      "_model_name": "HTMLModel",
      "_view_count": null,
      "_view_module": "@jupyter-widgets/controls",
      "_view_module_version": "1.5.0",
      "_view_name": "HTMLView",
      "description": "",
      "description_tooltip": null,
      "layout": "IPY_MODEL_befe5189a2ce422d86095a614e962332",
      "placeholder": "​",
      "style": "IPY_MODEL_e36ad3355fde45149cd79aadc06973de",
      "value": " 112/112 [00:00&lt;00:00, 2.47kB/s]"
     }
    },
    "58d53d61b3b3460caa2792db1b21b1e9": {
     "model_module": "@jupyter-widgets/controls",
     "model_module_version": "1.5.0",
     "model_name": "DescriptionStyleModel",
     "state": {
      "_model_module": "@jupyter-widgets/controls",
      "_model_module_version": "1.5.0",
      "_model_name": "DescriptionStyleModel",
      "_view_count": null,
      "_view_module": "@jupyter-widgets/base",
      "_view_module_version": "1.2.0",
      "_view_name": "StyleView",
      "description_width": ""
     }
    },
    "5b7958c5b499456ebcbad5fc86d6dccc": {
     "model_module": "@jupyter-widgets/controls",
     "model_module_version": "1.5.0",
     "model_name": "HBoxModel",
     "state": {
      "_dom_classes": [],
      "_model_module": "@jupyter-widgets/controls",
      "_model_module_version": "1.5.0",
      "_model_name": "HBoxModel",
      "_view_count": null,
      "_view_module": "@jupyter-widgets/controls",
      "_view_module_version": "1.5.0",
      "_view_name": "HBoxView",
      "box_style": "",
      "children": [
       "IPY_MODEL_851ca3039bb84020902de21d2afbc638",
       "IPY_MODEL_7ff7f22d1d2a417d97361d71c171551b",
       "IPY_MODEL_fb28a669a7be4a7dbd8c00ae036ae75c"
      ],
      "layout": "IPY_MODEL_017de591235b474288fdc73fced9e232"
     }
    },
    "5c2864442a0c419f9f88d492cf3d71d7": {
     "model_module": "@jupyter-widgets/controls",
     "model_module_version": "1.5.0",
     "model_name": "DescriptionStyleModel",
     "state": {
      "_model_module": "@jupyter-widgets/controls",
      "_model_module_version": "1.5.0",
      "_model_name": "DescriptionStyleModel",
      "_view_count": null,
      "_view_module": "@jupyter-widgets/base",
      "_view_module_version": "1.2.0",
      "_view_name": "StyleView",
      "description_width": ""
     }
    },
    "5d5be4ada78d42f5b4cd7e025e9e170e": {
     "model_module": "@jupyter-widgets/base",
     "model_module_version": "1.2.0",
     "model_name": "LayoutModel",
     "state": {
      "_model_module": "@jupyter-widgets/base",
      "_model_module_version": "1.2.0",
      "_model_name": "LayoutModel",
      "_view_count": null,
      "_view_module": "@jupyter-widgets/base",
      "_view_module_version": "1.2.0",
      "_view_name": "LayoutView",
      "align_content": null,
      "align_items": null,
      "align_self": null,
      "border": null,
      "bottom": null,
      "display": null,
      "flex": null,
      "flex_flow": null,
      "grid_area": null,
      "grid_auto_columns": null,
      "grid_auto_flow": null,
      "grid_auto_rows": null,
      "grid_column": null,
      "grid_gap": null,
      "grid_row": null,
      "grid_template_areas": null,
      "grid_template_columns": null,
      "grid_template_rows": null,
      "height": null,
      "justify_content": null,
      "justify_items": null,
      "left": null,
      "margin": null,
      "max_height": null,
      "max_width": null,
      "min_height": null,
      "min_width": null,
      "object_fit": null,
      "object_position": null,
      "order": null,
      "overflow": null,
      "overflow_x": null,
      "overflow_y": null,
      "padding": null,
      "right": null,
      "top": null,
      "visibility": null,
      "width": null
     }
    },
    "637f8c2f65f245f292dc94f48b77d9c1": {
     "model_module": "@jupyter-widgets/controls",
     "model_module_version": "1.5.0",
     "model_name": "HTMLModel",
     "state": {
      "_dom_classes": [],
      "_model_module": "@jupyter-widgets/controls",
      "_model_module_version": "1.5.0",
      "_model_name": "HTMLModel",
      "_view_count": null,
      "_view_module": "@jupyter-widgets/controls",
      "_view_module_version": "1.5.0",
      "_view_name": "HTMLView",
      "description": "",
      "description_tooltip": null,
      "layout": "IPY_MODEL_1852e215d13f4887a61d3c43bee7ce2c",
      "placeholder": "​",
      "style": "IPY_MODEL_6dc878aa6d0e4320948b4421ce9462b0",
      "value": "Downloading: 100%"
     }
    },
    "68537bc79f3e4023871452d74799dbf9": {
     "model_module": "@jupyter-widgets/controls",
     "model_module_version": "1.5.0",
     "model_name": "DescriptionStyleModel",
     "state": {
      "_model_module": "@jupyter-widgets/controls",
      "_model_module_version": "1.5.0",
      "_model_name": "DescriptionStyleModel",
      "_view_count": null,
      "_view_module": "@jupyter-widgets/base",
      "_view_module_version": "1.2.0",
      "_view_name": "StyleView",
      "description_width": ""
     }
    },
    "69941a9648344517be6ad697f5c04602": {
     "model_module": "@jupyter-widgets/controls",
     "model_module_version": "1.5.0",
     "model_name": "DescriptionStyleModel",
     "state": {
      "_model_module": "@jupyter-widgets/controls",
      "_model_module_version": "1.5.0",
      "_model_name": "DescriptionStyleModel",
      "_view_count": null,
      "_view_module": "@jupyter-widgets/base",
      "_view_module_version": "1.2.0",
      "_view_name": "StyleView",
      "description_width": ""
     }
    },
    "6b7c846d51b840eeba87f0a5ddbd90a1": {
     "model_module": "@jupyter-widgets/base",
     "model_module_version": "1.2.0",
     "model_name": "LayoutModel",
     "state": {
      "_model_module": "@jupyter-widgets/base",
      "_model_module_version": "1.2.0",
      "_model_name": "LayoutModel",
      "_view_count": null,
      "_view_module": "@jupyter-widgets/base",
      "_view_module_version": "1.2.0",
      "_view_name": "LayoutView",
      "align_content": null,
      "align_items": null,
      "align_self": null,
      "border": null,
      "bottom": null,
      "display": null,
      "flex": null,
      "flex_flow": null,
      "grid_area": null,
      "grid_auto_columns": null,
      "grid_auto_flow": null,
      "grid_auto_rows": null,
      "grid_column": null,
      "grid_gap": null,
      "grid_row": null,
      "grid_template_areas": null,
      "grid_template_columns": null,
      "grid_template_rows": null,
      "height": null,
      "justify_content": null,
      "justify_items": null,
      "left": null,
      "margin": null,
      "max_height": null,
      "max_width": null,
      "min_height": null,
      "min_width": null,
      "object_fit": null,
      "object_position": null,
      "order": null,
      "overflow": null,
      "overflow_x": null,
      "overflow_y": null,
      "padding": null,
      "right": null,
      "top": null,
      "visibility": null,
      "width": null
     }
    },
    "6dc878aa6d0e4320948b4421ce9462b0": {
     "model_module": "@jupyter-widgets/controls",
     "model_module_version": "1.5.0",
     "model_name": "DescriptionStyleModel",
     "state": {
      "_model_module": "@jupyter-widgets/controls",
      "_model_module_version": "1.5.0",
      "_model_name": "DescriptionStyleModel",
      "_view_count": null,
      "_view_module": "@jupyter-widgets/base",
      "_view_module_version": "1.2.0",
      "_view_name": "StyleView",
      "description_width": ""
     }
    },
    "6f9bf682b50c42b9b55dad8bbf088778": {
     "model_module": "@jupyter-widgets/controls",
     "model_module_version": "1.5.0",
     "model_name": "DescriptionStyleModel",
     "state": {
      "_model_module": "@jupyter-widgets/controls",
      "_model_module_version": "1.5.0",
      "_model_name": "DescriptionStyleModel",
      "_view_count": null,
      "_view_module": "@jupyter-widgets/base",
      "_view_module_version": "1.2.0",
      "_view_name": "StyleView",
      "description_width": ""
     }
    },
    "712a8c946eba493096ff367bad6c6447": {
     "model_module": "@jupyter-widgets/base",
     "model_module_version": "1.2.0",
     "model_name": "LayoutModel",
     "state": {
      "_model_module": "@jupyter-widgets/base",
      "_model_module_version": "1.2.0",
      "_model_name": "LayoutModel",
      "_view_count": null,
      "_view_module": "@jupyter-widgets/base",
      "_view_module_version": "1.2.0",
      "_view_name": "LayoutView",
      "align_content": null,
      "align_items": null,
      "align_self": null,
      "border": null,
      "bottom": null,
      "display": null,
      "flex": null,
      "flex_flow": null,
      "grid_area": null,
      "grid_auto_columns": null,
      "grid_auto_flow": null,
      "grid_auto_rows": null,
      "grid_column": null,
      "grid_gap": null,
      "grid_row": null,
      "grid_template_areas": null,
      "grid_template_columns": null,
      "grid_template_rows": null,
      "height": null,
      "justify_content": null,
      "justify_items": null,
      "left": null,
      "margin": null,
      "max_height": null,
      "max_width": null,
      "min_height": null,
      "min_width": null,
      "object_fit": null,
      "object_position": null,
      "order": null,
      "overflow": null,
      "overflow_x": null,
      "overflow_y": null,
      "padding": null,
      "right": null,
      "top": null,
      "visibility": null,
      "width": null
     }
    },
    "7186caa3fd5d4523acefe6710b4cac7b": {
     "model_module": "@jupyter-widgets/base",
     "model_module_version": "1.2.0",
     "model_name": "LayoutModel",
     "state": {
      "_model_module": "@jupyter-widgets/base",
      "_model_module_version": "1.2.0",
      "_model_name": "LayoutModel",
      "_view_count": null,
      "_view_module": "@jupyter-widgets/base",
      "_view_module_version": "1.2.0",
      "_view_name": "LayoutView",
      "align_content": null,
      "align_items": null,
      "align_self": null,
      "border": null,
      "bottom": null,
      "display": null,
      "flex": null,
      "flex_flow": null,
      "grid_area": null,
      "grid_auto_columns": null,
      "grid_auto_flow": null,
      "grid_auto_rows": null,
      "grid_column": null,
      "grid_gap": null,
      "grid_row": null,
      "grid_template_areas": null,
      "grid_template_columns": null,
      "grid_template_rows": null,
      "height": null,
      "justify_content": null,
      "justify_items": null,
      "left": null,
      "margin": null,
      "max_height": null,
      "max_width": null,
      "min_height": null,
      "min_width": null,
      "object_fit": null,
      "object_position": null,
      "order": null,
      "overflow": null,
      "overflow_x": null,
      "overflow_y": null,
      "padding": null,
      "right": null,
      "top": null,
      "visibility": null,
      "width": null
     }
    },
    "72aa4cd2a3f84facb890ff7bddda5d50": {
     "model_module": "@jupyter-widgets/controls",
     "model_module_version": "1.5.0",
     "model_name": "DescriptionStyleModel",
     "state": {
      "_model_module": "@jupyter-widgets/controls",
      "_model_module_version": "1.5.0",
      "_model_name": "DescriptionStyleModel",
      "_view_count": null,
      "_view_module": "@jupyter-widgets/base",
      "_view_module_version": "1.2.0",
      "_view_name": "StyleView",
      "description_width": ""
     }
    },
    "7538e887ce0a41f49432fe3ef49b3e8e": {
     "model_module": "@jupyter-widgets/controls",
     "model_module_version": "1.5.0",
     "model_name": "DescriptionStyleModel",
     "state": {
      "_model_module": "@jupyter-widgets/controls",
      "_model_module_version": "1.5.0",
      "_model_name": "DescriptionStyleModel",
      "_view_count": null,
      "_view_module": "@jupyter-widgets/base",
      "_view_module_version": "1.2.0",
      "_view_name": "StyleView",
      "description_width": ""
     }
    },
    "76c2c2ce1e694c0a93cebb65aeef7715": {
     "model_module": "@jupyter-widgets/base",
     "model_module_version": "1.2.0",
     "model_name": "LayoutModel",
     "state": {
      "_model_module": "@jupyter-widgets/base",
      "_model_module_version": "1.2.0",
      "_model_name": "LayoutModel",
      "_view_count": null,
      "_view_module": "@jupyter-widgets/base",
      "_view_module_version": "1.2.0",
      "_view_name": "LayoutView",
      "align_content": null,
      "align_items": null,
      "align_self": null,
      "border": null,
      "bottom": null,
      "display": null,
      "flex": null,
      "flex_flow": null,
      "grid_area": null,
      "grid_auto_columns": null,
      "grid_auto_flow": null,
      "grid_auto_rows": null,
      "grid_column": null,
      "grid_gap": null,
      "grid_row": null,
      "grid_template_areas": null,
      "grid_template_columns": null,
      "grid_template_rows": null,
      "height": null,
      "justify_content": null,
      "justify_items": null,
      "left": null,
      "margin": null,
      "max_height": null,
      "max_width": null,
      "min_height": null,
      "min_width": null,
      "object_fit": null,
      "object_position": null,
      "order": null,
      "overflow": null,
      "overflow_x": null,
      "overflow_y": null,
      "padding": null,
      "right": null,
      "top": null,
      "visibility": null,
      "width": null
     }
    },
    "784e02aeab0b4dd3a14a0cfd0fdedeeb": {
     "model_module": "@jupyter-widgets/controls",
     "model_module_version": "1.5.0",
     "model_name": "HTMLModel",
     "state": {
      "_dom_classes": [],
      "_model_module": "@jupyter-widgets/controls",
      "_model_module_version": "1.5.0",
      "_model_name": "HTMLModel",
      "_view_count": null,
      "_view_module": "@jupyter-widgets/controls",
      "_view_module_version": "1.5.0",
      "_view_name": "HTMLView",
      "description": "",
      "description_tooltip": null,
      "layout": "IPY_MODEL_91380dc5159f4cb1bae572fc6b8c7d47",
      "placeholder": "​",
      "style": "IPY_MODEL_d63ac36539004fa29efe643609dc5dc2",
      "value": "Downloading: 100%"
     }
    },
    "78cf9ec4f65843b2a9c5b392b753b412": {
     "model_module": "@jupyter-widgets/controls",
     "model_module_version": "1.5.0",
     "model_name": "FloatProgressModel",
     "state": {
      "_dom_classes": [],
      "_model_module": "@jupyter-widgets/controls",
      "_model_module_version": "1.5.0",
      "_model_name": "FloatProgressModel",
      "_view_count": null,
      "_view_module": "@jupyter-widgets/controls",
      "_view_module_version": "1.5.0",
      "_view_name": "ProgressView",
      "bar_style": "success",
      "description": "",
      "description_tooltip": null,
      "layout": "IPY_MODEL_bb134f3393c1418e92b3bb8ab4500457",
      "max": 611,
      "min": 0,
      "orientation": "horizontal",
      "style": "IPY_MODEL_bbc337d09c2f46be9bd5d739581b39ff",
      "value": 611
     }
    },
    "7994ba616ae840bbaa01c3435d018d4c": {
     "model_module": "@jupyter-widgets/base",
     "model_module_version": "1.2.0",
     "model_name": "LayoutModel",
     "state": {
      "_model_module": "@jupyter-widgets/base",
      "_model_module_version": "1.2.0",
      "_model_name": "LayoutModel",
      "_view_count": null,
      "_view_module": "@jupyter-widgets/base",
      "_view_module_version": "1.2.0",
      "_view_name": "LayoutView",
      "align_content": null,
      "align_items": null,
      "align_self": null,
      "border": null,
      "bottom": null,
      "display": null,
      "flex": null,
      "flex_flow": null,
      "grid_area": null,
      "grid_auto_columns": null,
      "grid_auto_flow": null,
      "grid_auto_rows": null,
      "grid_column": null,
      "grid_gap": null,
      "grid_row": null,
      "grid_template_areas": null,
      "grid_template_columns": null,
      "grid_template_rows": null,
      "height": null,
      "justify_content": null,
      "justify_items": null,
      "left": null,
      "margin": null,
      "max_height": null,
      "max_width": null,
      "min_height": null,
      "min_width": null,
      "object_fit": null,
      "object_position": null,
      "order": null,
      "overflow": null,
      "overflow_x": null,
      "overflow_y": null,
      "padding": null,
      "right": null,
      "top": null,
      "visibility": null,
      "width": null
     }
    },
    "7a8ecb7fe9034b5298c9bc7e7b13b331": {
     "model_module": "@jupyter-widgets/base",
     "model_module_version": "1.2.0",
     "model_name": "LayoutModel",
     "state": {
      "_model_module": "@jupyter-widgets/base",
      "_model_module_version": "1.2.0",
      "_model_name": "LayoutModel",
      "_view_count": null,
      "_view_module": "@jupyter-widgets/base",
      "_view_module_version": "1.2.0",
      "_view_name": "LayoutView",
      "align_content": null,
      "align_items": null,
      "align_self": null,
      "border": null,
      "bottom": null,
      "display": null,
      "flex": null,
      "flex_flow": null,
      "grid_area": null,
      "grid_auto_columns": null,
      "grid_auto_flow": null,
      "grid_auto_rows": null,
      "grid_column": null,
      "grid_gap": null,
      "grid_row": null,
      "grid_template_areas": null,
      "grid_template_columns": null,
      "grid_template_rows": null,
      "height": null,
      "justify_content": null,
      "justify_items": null,
      "left": null,
      "margin": null,
      "max_height": null,
      "max_width": null,
      "min_height": null,
      "min_width": null,
      "object_fit": null,
      "object_position": null,
      "order": null,
      "overflow": null,
      "overflow_x": null,
      "overflow_y": null,
      "padding": null,
      "right": null,
      "top": null,
      "visibility": null,
      "width": null
     }
    },
    "7ff7f22d1d2a417d97361d71c171551b": {
     "model_module": "@jupyter-widgets/controls",
     "model_module_version": "1.5.0",
     "model_name": "FloatProgressModel",
     "state": {
      "_dom_classes": [],
      "_model_module": "@jupyter-widgets/controls",
      "_model_module_version": "1.5.0",
      "_model_name": "FloatProgressModel",
      "_view_count": null,
      "_view_module": "@jupyter-widgets/controls",
      "_view_module_version": "1.5.0",
      "_view_name": "ProgressView",
      "bar_style": "success",
      "description": "",
      "description_tooltip": null,
      "layout": "IPY_MODEL_48bd3bf1ecd6400b8d20aeb8abe1837e",
      "max": 2306039,
      "min": 0,
      "orientation": "horizontal",
      "style": "IPY_MODEL_26890014340f46a88899f4df9e431519",
      "value": 2306039
     }
    },
    "819e407d275c419aa0621cb37f1d6103": {
     "model_module": "@jupyter-widgets/base",
     "model_module_version": "1.2.0",
     "model_name": "LayoutModel",
     "state": {
      "_model_module": "@jupyter-widgets/base",
      "_model_module_version": "1.2.0",
      "_model_name": "LayoutModel",
      "_view_count": null,
      "_view_module": "@jupyter-widgets/base",
      "_view_module_version": "1.2.0",
      "_view_name": "LayoutView",
      "align_content": null,
      "align_items": null,
      "align_self": null,
      "border": null,
      "bottom": null,
      "display": null,
      "flex": null,
      "flex_flow": null,
      "grid_area": null,
      "grid_auto_columns": null,
      "grid_auto_flow": null,
      "grid_auto_rows": null,
      "grid_column": null,
      "grid_gap": null,
      "grid_row": null,
      "grid_template_areas": null,
      "grid_template_columns": null,
      "grid_template_rows": null,
      "height": null,
      "justify_content": null,
      "justify_items": null,
      "left": null,
      "margin": null,
      "max_height": null,
      "max_width": null,
      "min_height": null,
      "min_width": null,
      "object_fit": null,
      "object_position": null,
      "order": null,
      "overflow": null,
      "overflow_x": null,
      "overflow_y": null,
      "padding": null,
      "right": null,
      "top": null,
      "visibility": null,
      "width": null
     }
    },
    "83ee48d358854d52886c22420f83c1be": {
     "model_module": "@jupyter-widgets/controls",
     "model_module_version": "1.5.0",
     "model_name": "FloatProgressModel",
     "state": {
      "_dom_classes": [],
      "_model_module": "@jupyter-widgets/controls",
      "_model_module_version": "1.5.0",
      "_model_name": "FloatProgressModel",
      "_view_count": null,
      "_view_module": "@jupyter-widgets/controls",
      "_view_module_version": "1.5.0",
      "_view_name": "ProgressView",
      "bar_style": "success",
      "description": "",
      "description_tooltip": null,
      "layout": "IPY_MODEL_ecf48b9498f449be840ac4dce9182bfc",
      "max": 719993,
      "min": 0,
      "orientation": "horizontal",
      "style": "IPY_MODEL_f71302abb22d412da9383475625d533f",
      "value": 719993
     }
    },
    "851ca3039bb84020902de21d2afbc638": {
     "model_module": "@jupyter-widgets/controls",
     "model_module_version": "1.5.0",
     "model_name": "HTMLModel",
     "state": {
      "_dom_classes": [],
      "_model_module": "@jupyter-widgets/controls",
      "_model_module_version": "1.5.0",
      "_model_name": "HTMLModel",
      "_view_count": null,
      "_view_module": "@jupyter-widgets/controls",
      "_view_module_version": "1.5.0",
      "_view_name": "HTMLView",
      "description": "",
      "description_tooltip": null,
      "layout": "IPY_MODEL_b8eb5856d3a44ee6b22dd8b8223bee70",
      "placeholder": "​",
      "style": "IPY_MODEL_164691d3cbca4136a875acd58664dc50",
      "value": "Downloading: 100%"
     }
    },
    "860bd8036b71429195abf7e874279f84": {
     "model_module": "@jupyter-widgets/base",
     "model_module_version": "1.2.0",
     "model_name": "LayoutModel",
     "state": {
      "_model_module": "@jupyter-widgets/base",
      "_model_module_version": "1.2.0",
      "_model_name": "LayoutModel",
      "_view_count": null,
      "_view_module": "@jupyter-widgets/base",
      "_view_module_version": "1.2.0",
      "_view_name": "LayoutView",
      "align_content": null,
      "align_items": null,
      "align_self": null,
      "border": null,
      "bottom": null,
      "display": null,
      "flex": null,
      "flex_flow": null,
      "grid_area": null,
      "grid_auto_columns": null,
      "grid_auto_flow": null,
      "grid_auto_rows": null,
      "grid_column": null,
      "grid_gap": null,
      "grid_row": null,
      "grid_template_areas": null,
      "grid_template_columns": null,
      "grid_template_rows": null,
      "height": null,
      "justify_content": null,
      "justify_items": null,
      "left": null,
      "margin": null,
      "max_height": null,
      "max_width": null,
      "min_height": null,
      "min_width": null,
      "object_fit": null,
      "object_position": null,
      "order": null,
      "overflow": null,
      "overflow_x": null,
      "overflow_y": null,
      "padding": null,
      "right": null,
      "top": null,
      "visibility": null,
      "width": null
     }
    },
    "8724ec5be9f24f2d8eb099593a254b16": {
     "model_module": "@jupyter-widgets/controls",
     "model_module_version": "1.5.0",
     "model_name": "HTMLModel",
     "state": {
      "_dom_classes": [],
      "_model_module": "@jupyter-widgets/controls",
      "_model_module_version": "1.5.0",
      "_model_name": "HTMLModel",
      "_view_count": null,
      "_view_module": "@jupyter-widgets/controls",
      "_view_module_version": "1.5.0",
      "_view_name": "HTMLView",
      "description": "",
      "description_tooltip": null,
      "layout": "IPY_MODEL_7994ba616ae840bbaa01c3435d018d4c",
      "placeholder": "​",
      "style": "IPY_MODEL_48d094cf3b9d4e61b91c22d1f77610d3",
      "value": " 720k/720k [00:00&lt;00:00, 935kB/s]"
     }
    },
    "8a81d3b08ca445019358b8b9768fc87d": {
     "model_module": "@jupyter-widgets/controls",
     "model_module_version": "1.5.0",
     "model_name": "HTMLModel",
     "state": {
      "_dom_classes": [],
      "_model_module": "@jupyter-widgets/controls",
      "_model_module_version": "1.5.0",
      "_model_name": "HTMLModel",
      "_view_count": null,
      "_view_module": "@jupyter-widgets/controls",
      "_view_module_version": "1.5.0",
      "_view_name": "HTMLView",
      "description": "",
      "description_tooltip": null,
      "layout": "IPY_MODEL_f33a466365ae4f6188f4155137ce8b66",
      "placeholder": "​",
      "style": "IPY_MODEL_120e2c0aecc3469c9c41120a2616e8fb",
      "value": "Downloading: 100%"
     }
    },
    "8fe8b826370f4b45b96e2ac0b4f584c8": {
     "model_module": "@jupyter-widgets/base",
     "model_module_version": "1.2.0",
     "model_name": "LayoutModel",
     "state": {
      "_model_module": "@jupyter-widgets/base",
      "_model_module_version": "1.2.0",
      "_model_name": "LayoutModel",
      "_view_count": null,
      "_view_module": "@jupyter-widgets/base",
      "_view_module_version": "1.2.0",
      "_view_name": "LayoutView",
      "align_content": null,
      "align_items": null,
      "align_self": null,
      "border": null,
      "bottom": null,
      "display": null,
      "flex": null,
      "flex_flow": null,
      "grid_area": null,
      "grid_auto_columns": null,
      "grid_auto_flow": null,
      "grid_auto_rows": null,
      "grid_column": null,
      "grid_gap": null,
      "grid_row": null,
      "grid_template_areas": null,
      "grid_template_columns": null,
      "grid_template_rows": null,
      "height": null,
      "justify_content": null,
      "justify_items": null,
      "left": null,
      "margin": null,
      "max_height": null,
      "max_width": null,
      "min_height": null,
      "min_width": null,
      "object_fit": null,
      "object_position": null,
      "order": null,
      "overflow": null,
      "overflow_x": null,
      "overflow_y": null,
      "padding": null,
      "right": null,
      "top": null,
      "visibility": null,
      "width": null
     }
    },
    "91380dc5159f4cb1bae572fc6b8c7d47": {
     "model_module": "@jupyter-widgets/base",
     "model_module_version": "1.2.0",
     "model_name": "LayoutModel",
     "state": {
      "_model_module": "@jupyter-widgets/base",
      "_model_module_version": "1.2.0",
      "_model_name": "LayoutModel",
      "_view_count": null,
      "_view_module": "@jupyter-widgets/base",
      "_view_module_version": "1.2.0",
      "_view_name": "LayoutView",
      "align_content": null,
      "align_items": null,
      "align_self": null,
      "border": null,
      "bottom": null,
      "display": null,
      "flex": null,
      "flex_flow": null,
      "grid_area": null,
      "grid_auto_columns": null,
      "grid_auto_flow": null,
      "grid_auto_rows": null,
      "grid_column": null,
      "grid_gap": null,
      "grid_row": null,
      "grid_template_areas": null,
      "grid_template_columns": null,
      "grid_template_rows": null,
      "height": null,
      "justify_content": null,
      "justify_items": null,
      "left": null,
      "margin": null,
      "max_height": null,
      "max_width": null,
      "min_height": null,
      "min_width": null,
      "object_fit": null,
      "object_position": null,
      "order": null,
      "overflow": null,
      "overflow_x": null,
      "overflow_y": null,
      "padding": null,
      "right": null,
      "top": null,
      "visibility": null,
      "width": null
     }
    },
    "9450e6d439834136a5fef70392fb6495": {
     "model_module": "@jupyter-widgets/controls",
     "model_module_version": "1.5.0",
     "model_name": "HTMLModel",
     "state": {
      "_dom_classes": [],
      "_model_module": "@jupyter-widgets/controls",
      "_model_module_version": "1.5.0",
      "_model_name": "HTMLModel",
      "_view_count": null,
      "_view_module": "@jupyter-widgets/controls",
      "_view_module_version": "1.5.0",
      "_view_name": "HTMLView",
      "description": "",
      "description_tooltip": null,
      "layout": "IPY_MODEL_ab60297ee0cd42878f3a95de014b7444",
      "placeholder": "​",
      "style": "IPY_MODEL_2512417dbee74db589f9dcdd56463966",
      "value": " 611/611 [00:00&lt;00:00, 11.9kB/s]"
     }
    },
    "94c598c92ec44713ac88d02f95ec0833": {
     "model_module": "@jupyter-widgets/base",
     "model_module_version": "1.2.0",
     "model_name": "LayoutModel",
     "state": {
      "_model_module": "@jupyter-widgets/base",
      "_model_module_version": "1.2.0",
      "_model_name": "LayoutModel",
      "_view_count": null,
      "_view_module": "@jupyter-widgets/base",
      "_view_module_version": "1.2.0",
      "_view_name": "LayoutView",
      "align_content": null,
      "align_items": null,
      "align_self": null,
      "border": null,
      "bottom": null,
      "display": null,
      "flex": null,
      "flex_flow": null,
      "grid_area": null,
      "grid_auto_columns": null,
      "grid_auto_flow": null,
      "grid_auto_rows": null,
      "grid_column": null,
      "grid_gap": null,
      "grid_row": null,
      "grid_template_areas": null,
      "grid_template_columns": null,
      "grid_template_rows": null,
      "height": null,
      "justify_content": null,
      "justify_items": null,
      "left": null,
      "margin": null,
      "max_height": null,
      "max_width": null,
      "min_height": null,
      "min_width": null,
      "object_fit": null,
      "object_position": null,
      "order": null,
      "overflow": null,
      "overflow_x": null,
      "overflow_y": null,
      "padding": null,
      "right": null,
      "top": null,
      "visibility": null,
      "width": null
     }
    },
    "9536eae0c23b43fbb1d4e4ce9baadd77": {
     "model_module": "@jupyter-widgets/controls",
     "model_module_version": "1.5.0",
     "model_name": "FloatProgressModel",
     "state": {
      "_dom_classes": [],
      "_model_module": "@jupyter-widgets/controls",
      "_model_module_version": "1.5.0",
      "_model_name": "FloatProgressModel",
      "_view_count": null,
      "_view_module": "@jupyter-widgets/controls",
      "_view_module_version": "1.5.0",
      "_view_name": "ProgressView",
      "bar_style": "success",
      "description": "",
      "description_tooltip": null,
      "layout": "IPY_MODEL_ed9725eddfb147c39a370f763f533c14",
      "max": 384,
      "min": 0,
      "orientation": "horizontal",
      "style": "IPY_MODEL_37ee363981364a83a2947e318f75618c",
      "value": 384
     }
    },
    "96b7c7265c44481aad23e30015e111e8": {
     "model_module": "@jupyter-widgets/controls",
     "model_module_version": "1.5.0",
     "model_name": "HTMLModel",
     "state": {
      "_dom_classes": [],
      "_model_module": "@jupyter-widgets/controls",
      "_model_module_version": "1.5.0",
      "_model_name": "HTMLModel",
      "_view_count": null,
      "_view_module": "@jupyter-widgets/controls",
      "_view_module_version": "1.5.0",
      "_view_name": "HTMLView",
      "description": "",
      "description_tooltip": null,
      "layout": "IPY_MODEL_556444942bab4de790fe87bff426961c",
      "placeholder": "​",
      "style": "IPY_MODEL_68537bc79f3e4023871452d74799dbf9",
      "value": " 384/384 [00:00&lt;00:00, 10.8kB/s]"
     }
    },
    "96d8efa5309441d59543a3ea139d2189": {
     "model_module": "@jupyter-widgets/controls",
     "model_module_version": "1.5.0",
     "model_name": "ProgressStyleModel",
     "state": {
      "_model_module": "@jupyter-widgets/controls",
      "_model_module_version": "1.5.0",
      "_model_name": "ProgressStyleModel",
      "_view_count": null,
      "_view_module": "@jupyter-widgets/base",
      "_view_module_version": "1.2.0",
      "_view_name": "StyleView",
      "bar_color": null,
      "description_width": ""
     }
    },
    "99d63ace3f7e47f9ab93dddc41a14c78": {
     "model_module": "@jupyter-widgets/controls",
     "model_module_version": "1.5.0",
     "model_name": "HTMLModel",
     "state": {
      "_dom_classes": [],
      "_model_module": "@jupyter-widgets/controls",
      "_model_module_version": "1.5.0",
      "_model_name": "HTMLModel",
      "_view_count": null,
      "_view_module": "@jupyter-widgets/controls",
      "_view_module_version": "1.5.0",
      "_view_name": "HTMLView",
      "description": "",
      "description_tooltip": null,
      "layout": "IPY_MODEL_22586f99b64546c782150b411eb5b1fd",
      "placeholder": "​",
      "style": "IPY_MODEL_512724d5d94e4661a381ec60f677f72b",
      "value": " 112/112 [00:00&lt;00:00, 3.03kB/s]"
     }
    },
    "9bfd75f67703467d8ba1260f67bf894f": {
     "model_module": "@jupyter-widgets/controls",
     "model_module_version": "1.5.0",
     "model_name": "ProgressStyleModel",
     "state": {
      "_model_module": "@jupyter-widgets/controls",
      "_model_module_version": "1.5.0",
      "_model_name": "ProgressStyleModel",
      "_view_count": null,
      "_view_module": "@jupyter-widgets/base",
      "_view_module_version": "1.2.0",
      "_view_name": "StyleView",
      "bar_color": null,
      "description_width": ""
     }
    },
    "9ccb58468ae346028db8d9033c56b3ed": {
     "model_module": "@jupyter-widgets/controls",
     "model_module_version": "1.5.0",
     "model_name": "FloatProgressModel",
     "state": {
      "_dom_classes": [],
      "_model_module": "@jupyter-widgets/controls",
      "_model_module_version": "1.5.0",
      "_model_name": "FloatProgressModel",
      "_view_count": null,
      "_view_module": "@jupyter-widgets/controls",
      "_view_module_version": "1.5.0",
      "_view_name": "ProgressView",
      "bar_style": "success",
      "description": "",
      "description_tooltip": null,
      "layout": "IPY_MODEL_17cfdc51f3e3497e891bbb40c1d872ac",
      "max": 719993,
      "min": 0,
      "orientation": "horizontal",
      "style": "IPY_MODEL_53f68e4e0eb1492aa8a22047e464e199",
      "value": 719993
     }
    },
    "a1ad2c3bd8634e799e44d20889f8d674": {
     "model_module": "@jupyter-widgets/base",
     "model_module_version": "1.2.0",
     "model_name": "LayoutModel",
     "state": {
      "_model_module": "@jupyter-widgets/base",
      "_model_module_version": "1.2.0",
      "_model_name": "LayoutModel",
      "_view_count": null,
      "_view_module": "@jupyter-widgets/base",
      "_view_module_version": "1.2.0",
      "_view_name": "LayoutView",
      "align_content": null,
      "align_items": null,
      "align_self": null,
      "border": null,
      "bottom": null,
      "display": null,
      "flex": null,
      "flex_flow": null,
      "grid_area": null,
      "grid_auto_columns": null,
      "grid_auto_flow": null,
      "grid_auto_rows": null,
      "grid_column": null,
      "grid_gap": null,
      "grid_row": null,
      "grid_template_areas": null,
      "grid_template_columns": null,
      "grid_template_rows": null,
      "height": null,
      "justify_content": null,
      "justify_items": null,
      "left": null,
      "margin": null,
      "max_height": null,
      "max_width": null,
      "min_height": null,
      "min_width": null,
      "object_fit": null,
      "object_position": null,
      "order": null,
      "overflow": null,
      "overflow_x": null,
      "overflow_y": null,
      "padding": null,
      "right": null,
      "top": null,
      "visibility": null,
      "width": null
     }
    },
    "a2e83ab849aa4e748b54a0ae6075a091": {
     "model_module": "@jupyter-widgets/controls",
     "model_module_version": "1.5.0",
     "model_name": "HTMLModel",
     "state": {
      "_dom_classes": [],
      "_model_module": "@jupyter-widgets/controls",
      "_model_module_version": "1.5.0",
      "_model_name": "HTMLModel",
      "_view_count": null,
      "_view_module": "@jupyter-widgets/controls",
      "_view_module_version": "1.5.0",
      "_view_name": "HTMLView",
      "description": "",
      "description_tooltip": null,
      "layout": "IPY_MODEL_edd45f082abb4d81b820087082990787",
      "placeholder": "​",
      "style": "IPY_MODEL_69941a9648344517be6ad697f5c04602",
      "value": " 720k/720k [00:01&lt;00:00, 668kB/s]"
     }
    },
    "a7deda49f4a54240a1a95e190abb92ef": {
     "model_module": "@jupyter-widgets/controls",
     "model_module_version": "1.5.0",
     "model_name": "FloatProgressModel",
     "state": {
      "_dom_classes": [],
      "_model_module": "@jupyter-widgets/controls",
      "_model_module_version": "1.5.0",
      "_model_name": "FloatProgressModel",
      "_view_count": null,
      "_view_module": "@jupyter-widgets/controls",
      "_view_module_version": "1.5.0",
      "_view_name": "ProgressView",
      "bar_style": "success",
      "description": "",
      "description_tooltip": null,
      "layout": "IPY_MODEL_f4e741373e9444be8fa654a4980cc1a0",
      "max": 384,
      "min": 0,
      "orientation": "horizontal",
      "style": "IPY_MODEL_9bfd75f67703467d8ba1260f67bf894f",
      "value": 384
     }
    },
    "aa230bf31ad846d0ab059d609c4dae04": {
     "model_module": "@jupyter-widgets/controls",
     "model_module_version": "1.5.0",
     "model_name": "ProgressStyleModel",
     "state": {
      "_model_module": "@jupyter-widgets/controls",
      "_model_module_version": "1.5.0",
      "_model_name": "ProgressStyleModel",
      "_view_count": null,
      "_view_module": "@jupyter-widgets/base",
      "_view_module_version": "1.2.0",
      "_view_name": "StyleView",
      "bar_color": null,
      "description_width": ""
     }
    },
    "ab60297ee0cd42878f3a95de014b7444": {
     "model_module": "@jupyter-widgets/base",
     "model_module_version": "1.2.0",
     "model_name": "LayoutModel",
     "state": {
      "_model_module": "@jupyter-widgets/base",
      "_model_module_version": "1.2.0",
      "_model_name": "LayoutModel",
      "_view_count": null,
      "_view_module": "@jupyter-widgets/base",
      "_view_module_version": "1.2.0",
      "_view_name": "LayoutView",
      "align_content": null,
      "align_items": null,
      "align_self": null,
      "border": null,
      "bottom": null,
      "display": null,
      "flex": null,
      "flex_flow": null,
      "grid_area": null,
      "grid_auto_columns": null,
      "grid_auto_flow": null,
      "grid_auto_rows": null,
      "grid_column": null,
      "grid_gap": null,
      "grid_row": null,
      "grid_template_areas": null,
      "grid_template_columns": null,
      "grid_template_rows": null,
      "height": null,
      "justify_content": null,
      "justify_items": null,
      "left": null,
      "margin": null,
      "max_height": null,
      "max_width": null,
      "min_height": null,
      "min_width": null,
      "object_fit": null,
      "object_position": null,
      "order": null,
      "overflow": null,
      "overflow_x": null,
      "overflow_y": null,
      "padding": null,
      "right": null,
      "top": null,
      "visibility": null,
      "width": null
     }
    },
    "ad1eff9946c848fd918fc79d3f48c773": {
     "model_module": "@jupyter-widgets/controls",
     "model_module_version": "1.5.0",
     "model_name": "HBoxModel",
     "state": {
      "_dom_classes": [],
      "_model_module": "@jupyter-widgets/controls",
      "_model_module_version": "1.5.0",
      "_model_name": "HBoxModel",
      "_view_count": null,
      "_view_module": "@jupyter-widgets/controls",
      "_view_module_version": "1.5.0",
      "_view_name": "HBoxView",
      "box_style": "",
      "children": [
       "IPY_MODEL_410d927560354a23b18668321ea8c2cf",
       "IPY_MODEL_e65ead98751e45a1a2eab67074890cf1",
       "IPY_MODEL_4c66ddfcb6544d15a0aa8c192828da22"
      ],
      "layout": "IPY_MODEL_94c598c92ec44713ac88d02f95ec0833"
     }
    },
    "b6c65ac932b54351a499066c2bb1154a": {
     "model_module": "@jupyter-widgets/base",
     "model_module_version": "1.2.0",
     "model_name": "LayoutModel",
     "state": {
      "_model_module": "@jupyter-widgets/base",
      "_model_module_version": "1.2.0",
      "_model_name": "LayoutModel",
      "_view_count": null,
      "_view_module": "@jupyter-widgets/base",
      "_view_module_version": "1.2.0",
      "_view_name": "LayoutView",
      "align_content": null,
      "align_items": null,
      "align_self": null,
      "border": null,
      "bottom": null,
      "display": null,
      "flex": null,
      "flex_flow": null,
      "grid_area": null,
      "grid_auto_columns": null,
      "grid_auto_flow": null,
      "grid_auto_rows": null,
      "grid_column": null,
      "grid_gap": null,
      "grid_row": null,
      "grid_template_areas": null,
      "grid_template_columns": null,
      "grid_template_rows": null,
      "height": null,
      "justify_content": null,
      "justify_items": null,
      "left": null,
      "margin": null,
      "max_height": null,
      "max_width": null,
      "min_height": null,
      "min_width": null,
      "object_fit": null,
      "object_position": null,
      "order": null,
      "overflow": null,
      "overflow_x": null,
      "overflow_y": null,
      "padding": null,
      "right": null,
      "top": null,
      "visibility": null,
      "width": null
     }
    },
    "b7b6148d4df0483583b5244ba123d9d0": {
     "model_module": "@jupyter-widgets/controls",
     "model_module_version": "1.5.0",
     "model_name": "HBoxModel",
     "state": {
      "_dom_classes": [],
      "_model_module": "@jupyter-widgets/controls",
      "_model_module_version": "1.5.0",
      "_model_name": "HBoxModel",
      "_view_count": null,
      "_view_module": "@jupyter-widgets/controls",
      "_view_module_version": "1.5.0",
      "_view_name": "HBoxView",
      "box_style": "",
      "children": [
       "IPY_MODEL_637f8c2f65f245f292dc94f48b77d9c1",
       "IPY_MODEL_4c4a0b5900954d3aa58fc784d0957c77",
       "IPY_MODEL_99d63ace3f7e47f9ab93dddc41a14c78"
      ],
      "layout": "IPY_MODEL_819e407d275c419aa0621cb37f1d6103"
     }
    },
    "b8eb5856d3a44ee6b22dd8b8223bee70": {
     "model_module": "@jupyter-widgets/base",
     "model_module_version": "1.2.0",
     "model_name": "LayoutModel",
     "state": {
      "_model_module": "@jupyter-widgets/base",
      "_model_module_version": "1.2.0",
      "_model_name": "LayoutModel",
      "_view_count": null,
      "_view_module": "@jupyter-widgets/base",
      "_view_module_version": "1.2.0",
      "_view_name": "LayoutView",
      "align_content": null,
      "align_items": null,
      "align_self": null,
      "border": null,
      "bottom": null,
      "display": null,
      "flex": null,
      "flex_flow": null,
      "grid_area": null,
      "grid_auto_columns": null,
      "grid_auto_flow": null,
      "grid_auto_rows": null,
      "grid_column": null,
      "grid_gap": null,
      "grid_row": null,
      "grid_template_areas": null,
      "grid_template_columns": null,
      "grid_template_rows": null,
      "height": null,
      "justify_content": null,
      "justify_items": null,
      "left": null,
      "margin": null,
      "max_height": null,
      "max_width": null,
      "min_height": null,
      "min_width": null,
      "object_fit": null,
      "object_position": null,
      "order": null,
      "overflow": null,
      "overflow_x": null,
      "overflow_y": null,
      "padding": null,
      "right": null,
      "top": null,
      "visibility": null,
      "width": null
     }
    },
    "bb134f3393c1418e92b3bb8ab4500457": {
     "model_module": "@jupyter-widgets/base",
     "model_module_version": "1.2.0",
     "model_name": "LayoutModel",
     "state": {
      "_model_module": "@jupyter-widgets/base",
      "_model_module_version": "1.2.0",
      "_model_name": "LayoutModel",
      "_view_count": null,
      "_view_module": "@jupyter-widgets/base",
      "_view_module_version": "1.2.0",
      "_view_name": "LayoutView",
      "align_content": null,
      "align_items": null,
      "align_self": null,
      "border": null,
      "bottom": null,
      "display": null,
      "flex": null,
      "flex_flow": null,
      "grid_area": null,
      "grid_auto_columns": null,
      "grid_auto_flow": null,
      "grid_auto_rows": null,
      "grid_column": null,
      "grid_gap": null,
      "grid_row": null,
      "grid_template_areas": null,
      "grid_template_columns": null,
      "grid_template_rows": null,
      "height": null,
      "justify_content": null,
      "justify_items": null,
      "left": null,
      "margin": null,
      "max_height": null,
      "max_width": null,
      "min_height": null,
      "min_width": null,
      "object_fit": null,
      "object_position": null,
      "order": null,
      "overflow": null,
      "overflow_x": null,
      "overflow_y": null,
      "padding": null,
      "right": null,
      "top": null,
      "visibility": null,
      "width": null
     }
    },
    "bbc337d09c2f46be9bd5d739581b39ff": {
     "model_module": "@jupyter-widgets/controls",
     "model_module_version": "1.5.0",
     "model_name": "ProgressStyleModel",
     "state": {
      "_model_module": "@jupyter-widgets/controls",
      "_model_module_version": "1.5.0",
      "_model_name": "ProgressStyleModel",
      "_view_count": null,
      "_view_module": "@jupyter-widgets/base",
      "_view_module_version": "1.2.0",
      "_view_name": "StyleView",
      "bar_color": null,
      "description_width": ""
     }
    },
    "befe5189a2ce422d86095a614e962332": {
     "model_module": "@jupyter-widgets/base",
     "model_module_version": "1.2.0",
     "model_name": "LayoutModel",
     "state": {
      "_model_module": "@jupyter-widgets/base",
      "_model_module_version": "1.2.0",
      "_model_name": "LayoutModel",
      "_view_count": null,
      "_view_module": "@jupyter-widgets/base",
      "_view_module_version": "1.2.0",
      "_view_name": "LayoutView",
      "align_content": null,
      "align_items": null,
      "align_self": null,
      "border": null,
      "bottom": null,
      "display": null,
      "flex": null,
      "flex_flow": null,
      "grid_area": null,
      "grid_auto_columns": null,
      "grid_auto_flow": null,
      "grid_auto_rows": null,
      "grid_column": null,
      "grid_gap": null,
      "grid_row": null,
      "grid_template_areas": null,
      "grid_template_columns": null,
      "grid_template_rows": null,
      "height": null,
      "justify_content": null,
      "justify_items": null,
      "left": null,
      "margin": null,
      "max_height": null,
      "max_width": null,
      "min_height": null,
      "min_width": null,
      "object_fit": null,
      "object_position": null,
      "order": null,
      "overflow": null,
      "overflow_x": null,
      "overflow_y": null,
      "padding": null,
      "right": null,
      "top": null,
      "visibility": null,
      "width": null
     }
    },
    "c049d6503f9f4e1f8019dc8b8a6d90b6": {
     "model_module": "@jupyter-widgets/controls",
     "model_module_version": "1.5.0",
     "model_name": "HBoxModel",
     "state": {
      "_dom_classes": [],
      "_model_module": "@jupyter-widgets/controls",
      "_model_module_version": "1.5.0",
      "_model_name": "HBoxModel",
      "_view_count": null,
      "_view_module": "@jupyter-widgets/controls",
      "_view_module_version": "1.5.0",
      "_view_name": "HBoxView",
      "box_style": "",
      "children": [
       "IPY_MODEL_e1a08100862744658298a977b776768c",
       "IPY_MODEL_a7deda49f4a54240a1a95e190abb92ef",
       "IPY_MODEL_f68fbde1cb204976a7e2dfa800298346"
      ],
      "layout": "IPY_MODEL_860bd8036b71429195abf7e874279f84"
     }
    },
    "c70db464697b4fee84938b734085d601": {
     "model_module": "@jupyter-widgets/controls",
     "model_module_version": "1.5.0",
     "model_name": "DescriptionStyleModel",
     "state": {
      "_model_module": "@jupyter-widgets/controls",
      "_model_module_version": "1.5.0",
      "_model_name": "DescriptionStyleModel",
      "_view_count": null,
      "_view_module": "@jupyter-widgets/base",
      "_view_module_version": "1.2.0",
      "_view_name": "StyleView",
      "description_width": ""
     }
    },
    "ca293ec7e2d54bdfb3124c8df55ca3ed": {
     "model_module": "@jupyter-widgets/base",
     "model_module_version": "1.2.0",
     "model_name": "LayoutModel",
     "state": {
      "_model_module": "@jupyter-widgets/base",
      "_model_module_version": "1.2.0",
      "_model_name": "LayoutModel",
      "_view_count": null,
      "_view_module": "@jupyter-widgets/base",
      "_view_module_version": "1.2.0",
      "_view_name": "LayoutView",
      "align_content": null,
      "align_items": null,
      "align_self": null,
      "border": null,
      "bottom": null,
      "display": null,
      "flex": null,
      "flex_flow": null,
      "grid_area": null,
      "grid_auto_columns": null,
      "grid_auto_flow": null,
      "grid_auto_rows": null,
      "grid_column": null,
      "grid_gap": null,
      "grid_row": null,
      "grid_template_areas": null,
      "grid_template_columns": null,
      "grid_template_rows": null,
      "height": null,
      "justify_content": null,
      "justify_items": null,
      "left": null,
      "margin": null,
      "max_height": null,
      "max_width": null,
      "min_height": null,
      "min_width": null,
      "object_fit": null,
      "object_position": null,
      "order": null,
      "overflow": null,
      "overflow_x": null,
      "overflow_y": null,
      "padding": null,
      "right": null,
      "top": null,
      "visibility": null,
      "width": null
     }
    },
    "cd64c3da20854c47ac44d3898ca721c9": {
     "model_module": "@jupyter-widgets/controls",
     "model_module_version": "1.5.0",
     "model_name": "HBoxModel",
     "state": {
      "_dom_classes": [],
      "_model_module": "@jupyter-widgets/controls",
      "_model_module_version": "1.5.0",
      "_model_name": "HBoxModel",
      "_view_count": null,
      "_view_module": "@jupyter-widgets/controls",
      "_view_module_version": "1.5.0",
      "_view_name": "HBoxView",
      "box_style": "",
      "children": [
       "IPY_MODEL_dd7a1661756746f2ab23cdc942b875a0",
       "IPY_MODEL_78cf9ec4f65843b2a9c5b392b753b412",
       "IPY_MODEL_9450e6d439834136a5fef70392fb6495"
      ],
      "layout": "IPY_MODEL_ea70c052d6f5476f8e499ed4a981462c"
     }
    },
    "cfb0abf0b7b24910a83c9d40fb3098f7": {
     "model_module": "@jupyter-widgets/controls",
     "model_module_version": "1.5.0",
     "model_name": "ProgressStyleModel",
     "state": {
      "_model_module": "@jupyter-widgets/controls",
      "_model_module_version": "1.5.0",
      "_model_name": "ProgressStyleModel",
      "_view_count": null,
      "_view_module": "@jupyter-widgets/base",
      "_view_module_version": "1.2.0",
      "_view_name": "StyleView",
      "bar_color": null,
      "description_width": ""
     }
    },
    "d0ce754e60384484a48807d7ecd85741": {
     "model_module": "@jupyter-widgets/controls",
     "model_module_version": "1.5.0",
     "model_name": "HTMLModel",
     "state": {
      "_dom_classes": [],
      "_model_module": "@jupyter-widgets/controls",
      "_model_module_version": "1.5.0",
      "_model_name": "HTMLModel",
      "_view_count": null,
      "_view_module": "@jupyter-widgets/controls",
      "_view_module_version": "1.5.0",
      "_view_name": "HTMLView",
      "description": "",
      "description_tooltip": null,
      "layout": "IPY_MODEL_48b57ea6820542e1a874f269ab62c34a",
      "placeholder": "​",
      "style": "IPY_MODEL_2dc651ddcbd640598668c8a847d8173d",
      "value": "Downloading: 100%"
     }
    },
    "d34c544e96434d7a9be1cf3715f44c96": {
     "model_module": "@jupyter-widgets/controls",
     "model_module_version": "1.5.0",
     "model_name": "FloatProgressModel",
     "state": {
      "_dom_classes": [],
      "_model_module": "@jupyter-widgets/controls",
      "_model_module_version": "1.5.0",
      "_model_name": "FloatProgressModel",
      "_view_count": null,
      "_view_module": "@jupyter-widgets/controls",
      "_view_module_version": "1.5.0",
      "_view_name": "ProgressView",
      "bar_style": "success",
      "description": "",
      "description_tooltip": null,
      "layout": "IPY_MODEL_3b8d764a89444255a848725d24a879e3",
      "max": 543490667,
      "min": 0,
      "orientation": "horizontal",
      "style": "IPY_MODEL_96d8efa5309441d59543a3ea139d2189",
      "value": 543490667
     }
    },
    "d3a991a218ed4dfd816ec831def73c8c": {
     "model_module": "@jupyter-widgets/controls",
     "model_module_version": "1.5.0",
     "model_name": "DescriptionStyleModel",
     "state": {
      "_model_module": "@jupyter-widgets/controls",
      "_model_module_version": "1.5.0",
      "_model_name": "DescriptionStyleModel",
      "_view_count": null,
      "_view_module": "@jupyter-widgets/base",
      "_view_module_version": "1.2.0",
      "_view_name": "StyleView",
      "description_width": ""
     }
    },
    "d63ac36539004fa29efe643609dc5dc2": {
     "model_module": "@jupyter-widgets/controls",
     "model_module_version": "1.5.0",
     "model_name": "DescriptionStyleModel",
     "state": {
      "_model_module": "@jupyter-widgets/controls",
      "_model_module_version": "1.5.0",
      "_model_name": "DescriptionStyleModel",
      "_view_count": null,
      "_view_module": "@jupyter-widgets/base",
      "_view_module_version": "1.2.0",
      "_view_name": "StyleView",
      "description_width": ""
     }
    },
    "db4c0b238713452c8bf898b54d5bec97": {
     "model_module": "@jupyter-widgets/base",
     "model_module_version": "1.2.0",
     "model_name": "LayoutModel",
     "state": {
      "_model_module": "@jupyter-widgets/base",
      "_model_module_version": "1.2.0",
      "_model_name": "LayoutModel",
      "_view_count": null,
      "_view_module": "@jupyter-widgets/base",
      "_view_module_version": "1.2.0",
      "_view_name": "LayoutView",
      "align_content": null,
      "align_items": null,
      "align_self": null,
      "border": null,
      "bottom": null,
      "display": null,
      "flex": null,
      "flex_flow": null,
      "grid_area": null,
      "grid_auto_columns": null,
      "grid_auto_flow": null,
      "grid_auto_rows": null,
      "grid_column": null,
      "grid_gap": null,
      "grid_row": null,
      "grid_template_areas": null,
      "grid_template_columns": null,
      "grid_template_rows": null,
      "height": null,
      "justify_content": null,
      "justify_items": null,
      "left": null,
      "margin": null,
      "max_height": null,
      "max_width": null,
      "min_height": null,
      "min_width": null,
      "object_fit": null,
      "object_position": null,
      "order": null,
      "overflow": null,
      "overflow_x": null,
      "overflow_y": null,
      "padding": null,
      "right": null,
      "top": null,
      "visibility": null,
      "width": null
     }
    },
    "dd7a1661756746f2ab23cdc942b875a0": {
     "model_module": "@jupyter-widgets/controls",
     "model_module_version": "1.5.0",
     "model_name": "HTMLModel",
     "state": {
      "_dom_classes": [],
      "_model_module": "@jupyter-widgets/controls",
      "_model_module_version": "1.5.0",
      "_model_name": "HTMLModel",
      "_view_count": null,
      "_view_module": "@jupyter-widgets/controls",
      "_view_module_version": "1.5.0",
      "_view_name": "HTMLView",
      "description": "",
      "description_tooltip": null,
      "layout": "IPY_MODEL_ca293ec7e2d54bdfb3124c8df55ca3ed",
      "placeholder": "​",
      "style": "IPY_MODEL_0dd4b9d785cd4377a8bfa9b9adb5af49",
      "value": "Downloading: 100%"
     }
    },
    "de60f713150443dca5148c69d3284e99": {
     "model_module": "@jupyter-widgets/controls",
     "model_module_version": "1.5.0",
     "model_name": "HTMLModel",
     "state": {
      "_dom_classes": [],
      "_model_module": "@jupyter-widgets/controls",
      "_model_module_version": "1.5.0",
      "_model_name": "HTMLModel",
      "_view_count": null,
      "_view_module": "@jupyter-widgets/controls",
      "_view_module_version": "1.5.0",
      "_view_name": "HTMLView",
      "description": "",
      "description_tooltip": null,
      "layout": "IPY_MODEL_469fa424edc34bc399c13482c41bd364",
      "placeholder": "​",
      "style": "IPY_MODEL_6f9bf682b50c42b9b55dad8bbf088778",
      "value": " 2.31M/2.31M [00:01&lt;00:00, 1.86MB/s]"
     }
    },
    "e1a08100862744658298a977b776768c": {
     "model_module": "@jupyter-widgets/controls",
     "model_module_version": "1.5.0",
     "model_name": "HTMLModel",
     "state": {
      "_dom_classes": [],
      "_model_module": "@jupyter-widgets/controls",
      "_model_module_version": "1.5.0",
      "_model_name": "HTMLModel",
      "_view_count": null,
      "_view_module": "@jupyter-widgets/controls",
      "_view_module_version": "1.5.0",
      "_view_name": "HTMLView",
      "description": "",
      "description_tooltip": null,
      "layout": "IPY_MODEL_e2ddeebf39f7456da8186866b9948f5d",
      "placeholder": "​",
      "style": "IPY_MODEL_5c2864442a0c419f9f88d492cf3d71d7",
      "value": "Downloading: 100%"
     }
    },
    "e2ddeebf39f7456da8186866b9948f5d": {
     "model_module": "@jupyter-widgets/base",
     "model_module_version": "1.2.0",
     "model_name": "LayoutModel",
     "state": {
      "_model_module": "@jupyter-widgets/base",
      "_model_module_version": "1.2.0",
      "_model_name": "LayoutModel",
      "_view_count": null,
      "_view_module": "@jupyter-widgets/base",
      "_view_module_version": "1.2.0",
      "_view_name": "LayoutView",
      "align_content": null,
      "align_items": null,
      "align_self": null,
      "border": null,
      "bottom": null,
      "display": null,
      "flex": null,
      "flex_flow": null,
      "grid_area": null,
      "grid_auto_columns": null,
      "grid_auto_flow": null,
      "grid_auto_rows": null,
      "grid_column": null,
      "grid_gap": null,
      "grid_row": null,
      "grid_template_areas": null,
      "grid_template_columns": null,
      "grid_template_rows": null,
      "height": null,
      "justify_content": null,
      "justify_items": null,
      "left": null,
      "margin": null,
      "max_height": null,
      "max_width": null,
      "min_height": null,
      "min_width": null,
      "object_fit": null,
      "object_position": null,
      "order": null,
      "overflow": null,
      "overflow_x": null,
      "overflow_y": null,
      "padding": null,
      "right": null,
      "top": null,
      "visibility": null,
      "width": null
     }
    },
    "e36ad3355fde45149cd79aadc06973de": {
     "model_module": "@jupyter-widgets/controls",
     "model_module_version": "1.5.0",
     "model_name": "DescriptionStyleModel",
     "state": {
      "_model_module": "@jupyter-widgets/controls",
      "_model_module_version": "1.5.0",
      "_model_name": "DescriptionStyleModel",
      "_view_count": null,
      "_view_module": "@jupyter-widgets/base",
      "_view_module_version": "1.2.0",
      "_view_name": "StyleView",
      "description_width": ""
     }
    },
    "e5fccb23862d4488a1bd75c4f661d74a": {
     "model_module": "@jupyter-widgets/controls",
     "model_module_version": "1.5.0",
     "model_name": "HBoxModel",
     "state": {
      "_dom_classes": [],
      "_model_module": "@jupyter-widgets/controls",
      "_model_module_version": "1.5.0",
      "_model_name": "HBoxModel",
      "_view_count": null,
      "_view_module": "@jupyter-widgets/controls",
      "_view_module_version": "1.5.0",
      "_view_name": "HBoxView",
      "box_style": "",
      "children": [
       "IPY_MODEL_d0ce754e60384484a48807d7ecd85741",
       "IPY_MODEL_83ee48d358854d52886c22420f83c1be",
       "IPY_MODEL_8724ec5be9f24f2d8eb099593a254b16"
      ],
      "layout": "IPY_MODEL_8fe8b826370f4b45b96e2ac0b4f584c8"
     }
    },
    "e65ead98751e45a1a2eab67074890cf1": {
     "model_module": "@jupyter-widgets/controls",
     "model_module_version": "1.5.0",
     "model_name": "FloatProgressModel",
     "state": {
      "_dom_classes": [],
      "_model_module": "@jupyter-widgets/controls",
      "_model_module_version": "1.5.0",
      "_model_name": "FloatProgressModel",
      "_view_count": null,
      "_view_module": "@jupyter-widgets/controls",
      "_view_module_version": "1.5.0",
      "_view_name": "ProgressView",
      "bar_style": "success",
      "description": "",
      "description_tooltip": null,
      "layout": "IPY_MODEL_45710512d6b94ebf881c4e4360130d58",
      "max": 543490667,
      "min": 0,
      "orientation": "horizontal",
      "style": "IPY_MODEL_0e058f2e38644802994245787290df69",
      "value": 543490667
     }
    },
    "e8567064e1554b0a838c18ce3e066b68": {
     "model_module": "@jupyter-widgets/base",
     "model_module_version": "1.2.0",
     "model_name": "LayoutModel",
     "state": {
      "_model_module": "@jupyter-widgets/base",
      "_model_module_version": "1.2.0",
      "_model_name": "LayoutModel",
      "_view_count": null,
      "_view_module": "@jupyter-widgets/base",
      "_view_module_version": "1.2.0",
      "_view_name": "LayoutView",
      "align_content": null,
      "align_items": null,
      "align_self": null,
      "border": null,
      "bottom": null,
      "display": null,
      "flex": null,
      "flex_flow": null,
      "grid_area": null,
      "grid_auto_columns": null,
      "grid_auto_flow": null,
      "grid_auto_rows": null,
      "grid_column": null,
      "grid_gap": null,
      "grid_row": null,
      "grid_template_areas": null,
      "grid_template_columns": null,
      "grid_template_rows": null,
      "height": null,
      "justify_content": null,
      "justify_items": null,
      "left": null,
      "margin": null,
      "max_height": null,
      "max_width": null,
      "min_height": null,
      "min_width": null,
      "object_fit": null,
      "object_position": null,
      "order": null,
      "overflow": null,
      "overflow_x": null,
      "overflow_y": null,
      "padding": null,
      "right": null,
      "top": null,
      "visibility": null,
      "width": null
     }
    },
    "ea31abf9349c44d0ab3eed2a2ab80a30": {
     "model_module": "@jupyter-widgets/controls",
     "model_module_version": "1.5.0",
     "model_name": "ProgressStyleModel",
     "state": {
      "_model_module": "@jupyter-widgets/controls",
      "_model_module_version": "1.5.0",
      "_model_name": "ProgressStyleModel",
      "_view_count": null,
      "_view_module": "@jupyter-widgets/base",
      "_view_module_version": "1.2.0",
      "_view_name": "StyleView",
      "bar_color": null,
      "description_width": ""
     }
    },
    "ea70c052d6f5476f8e499ed4a981462c": {
     "model_module": "@jupyter-widgets/base",
     "model_module_version": "1.2.0",
     "model_name": "LayoutModel",
     "state": {
      "_model_module": "@jupyter-widgets/base",
      "_model_module_version": "1.2.0",
      "_model_name": "LayoutModel",
      "_view_count": null,
      "_view_module": "@jupyter-widgets/base",
      "_view_module_version": "1.2.0",
      "_view_name": "LayoutView",
      "align_content": null,
      "align_items": null,
      "align_self": null,
      "border": null,
      "bottom": null,
      "display": null,
      "flex": null,
      "flex_flow": null,
      "grid_area": null,
      "grid_auto_columns": null,
      "grid_auto_flow": null,
      "grid_auto_rows": null,
      "grid_column": null,
      "grid_gap": null,
      "grid_row": null,
      "grid_template_areas": null,
      "grid_template_columns": null,
      "grid_template_rows": null,
      "height": null,
      "justify_content": null,
      "justify_items": null,
      "left": null,
      "margin": null,
      "max_height": null,
      "max_width": null,
      "min_height": null,
      "min_width": null,
      "object_fit": null,
      "object_position": null,
      "order": null,
      "overflow": null,
      "overflow_x": null,
      "overflow_y": null,
      "padding": null,
      "right": null,
      "top": null,
      "visibility": null,
      "width": null
     }
    },
    "ecf48b9498f449be840ac4dce9182bfc": {
     "model_module": "@jupyter-widgets/base",
     "model_module_version": "1.2.0",
     "model_name": "LayoutModel",
     "state": {
      "_model_module": "@jupyter-widgets/base",
      "_model_module_version": "1.2.0",
      "_model_name": "LayoutModel",
      "_view_count": null,
      "_view_module": "@jupyter-widgets/base",
      "_view_module_version": "1.2.0",
      "_view_name": "LayoutView",
      "align_content": null,
      "align_items": null,
      "align_self": null,
      "border": null,
      "bottom": null,
      "display": null,
      "flex": null,
      "flex_flow": null,
      "grid_area": null,
      "grid_auto_columns": null,
      "grid_auto_flow": null,
      "grid_auto_rows": null,
      "grid_column": null,
      "grid_gap": null,
      "grid_row": null,
      "grid_template_areas": null,
      "grid_template_columns": null,
      "grid_template_rows": null,
      "height": null,
      "justify_content": null,
      "justify_items": null,
      "left": null,
      "margin": null,
      "max_height": null,
      "max_width": null,
      "min_height": null,
      "min_width": null,
      "object_fit": null,
      "object_position": null,
      "order": null,
      "overflow": null,
      "overflow_x": null,
      "overflow_y": null,
      "padding": null,
      "right": null,
      "top": null,
      "visibility": null,
      "width": null
     }
    },
    "ed9725eddfb147c39a370f763f533c14": {
     "model_module": "@jupyter-widgets/base",
     "model_module_version": "1.2.0",
     "model_name": "LayoutModel",
     "state": {
      "_model_module": "@jupyter-widgets/base",
      "_model_module_version": "1.2.0",
      "_model_name": "LayoutModel",
      "_view_count": null,
      "_view_module": "@jupyter-widgets/base",
      "_view_module_version": "1.2.0",
      "_view_name": "LayoutView",
      "align_content": null,
      "align_items": null,
      "align_self": null,
      "border": null,
      "bottom": null,
      "display": null,
      "flex": null,
      "flex_flow": null,
      "grid_area": null,
      "grid_auto_columns": null,
      "grid_auto_flow": null,
      "grid_auto_rows": null,
      "grid_column": null,
      "grid_gap": null,
      "grid_row": null,
      "grid_template_areas": null,
      "grid_template_columns": null,
      "grid_template_rows": null,
      "height": null,
      "justify_content": null,
      "justify_items": null,
      "left": null,
      "margin": null,
      "max_height": null,
      "max_width": null,
      "min_height": null,
      "min_width": null,
      "object_fit": null,
      "object_position": null,
      "order": null,
      "overflow": null,
      "overflow_x": null,
      "overflow_y": null,
      "padding": null,
      "right": null,
      "top": null,
      "visibility": null,
      "width": null
     }
    },
    "edd45f082abb4d81b820087082990787": {
     "model_module": "@jupyter-widgets/base",
     "model_module_version": "1.2.0",
     "model_name": "LayoutModel",
     "state": {
      "_model_module": "@jupyter-widgets/base",
      "_model_module_version": "1.2.0",
      "_model_name": "LayoutModel",
      "_view_count": null,
      "_view_module": "@jupyter-widgets/base",
      "_view_module_version": "1.2.0",
      "_view_name": "LayoutView",
      "align_content": null,
      "align_items": null,
      "align_self": null,
      "border": null,
      "bottom": null,
      "display": null,
      "flex": null,
      "flex_flow": null,
      "grid_area": null,
      "grid_auto_columns": null,
      "grid_auto_flow": null,
      "grid_auto_rows": null,
      "grid_column": null,
      "grid_gap": null,
      "grid_row": null,
      "grid_template_areas": null,
      "grid_template_columns": null,
      "grid_template_rows": null,
      "height": null,
      "justify_content": null,
      "justify_items": null,
      "left": null,
      "margin": null,
      "max_height": null,
      "max_width": null,
      "min_height": null,
      "min_width": null,
      "object_fit": null,
      "object_position": null,
      "order": null,
      "overflow": null,
      "overflow_x": null,
      "overflow_y": null,
      "padding": null,
      "right": null,
      "top": null,
      "visibility": null,
      "width": null
     }
    },
    "ef13309950c84c47b9b565f8abb85492": {
     "model_module": "@jupyter-widgets/controls",
     "model_module_version": "1.5.0",
     "model_name": "HBoxModel",
     "state": {
      "_dom_classes": [],
      "_model_module": "@jupyter-widgets/controls",
      "_model_module_version": "1.5.0",
      "_model_name": "HBoxModel",
      "_view_count": null,
      "_view_module": "@jupyter-widgets/controls",
      "_view_module_version": "1.5.0",
      "_view_name": "HBoxView",
      "box_style": "",
      "children": [
       "IPY_MODEL_784e02aeab0b4dd3a14a0cfd0fdedeeb",
       "IPY_MODEL_50158591bb494ea9aca6146331f9c068",
       "IPY_MODEL_f21e37cca7284c238d2d7d0814d78e0c"
      ],
      "layout": "IPY_MODEL_176ff52726e34c2ebf47f47f0a13e20b"
     }
    },
    "ef700e3e581e48f2a1a6b9ef308da491": {
     "model_module": "@jupyter-widgets/base",
     "model_module_version": "1.2.0",
     "model_name": "LayoutModel",
     "state": {
      "_model_module": "@jupyter-widgets/base",
      "_model_module_version": "1.2.0",
      "_model_name": "LayoutModel",
      "_view_count": null,
      "_view_module": "@jupyter-widgets/base",
      "_view_module_version": "1.2.0",
      "_view_name": "LayoutView",
      "align_content": null,
      "align_items": null,
      "align_self": null,
      "border": null,
      "bottom": null,
      "display": null,
      "flex": null,
      "flex_flow": null,
      "grid_area": null,
      "grid_auto_columns": null,
      "grid_auto_flow": null,
      "grid_auto_rows": null,
      "grid_column": null,
      "grid_gap": null,
      "grid_row": null,
      "grid_template_areas": null,
      "grid_template_columns": null,
      "grid_template_rows": null,
      "height": null,
      "justify_content": null,
      "justify_items": null,
      "left": null,
      "margin": null,
      "max_height": null,
      "max_width": null,
      "min_height": null,
      "min_width": null,
      "object_fit": null,
      "object_position": null,
      "order": null,
      "overflow": null,
      "overflow_x": null,
      "overflow_y": null,
      "padding": null,
      "right": null,
      "top": null,
      "visibility": null,
      "width": null
     }
    },
    "f1aca7f50e1645f39d623cbe2061d07d": {
     "model_module": "@jupyter-widgets/controls",
     "model_module_version": "1.5.0",
     "model_name": "FloatProgressModel",
     "state": {
      "_dom_classes": [],
      "_model_module": "@jupyter-widgets/controls",
      "_model_module_version": "1.5.0",
      "_model_name": "FloatProgressModel",
      "_view_count": null,
      "_view_module": "@jupyter-widgets/controls",
      "_view_module_version": "1.5.0",
      "_view_name": "ProgressView",
      "bar_style": "success",
      "description": "",
      "description_tooltip": null,
      "layout": "IPY_MODEL_76c2c2ce1e694c0a93cebb65aeef7715",
      "max": 112,
      "min": 0,
      "orientation": "horizontal",
      "style": "IPY_MODEL_aa230bf31ad846d0ab059d609c4dae04",
      "value": 112
     }
    },
    "f21e37cca7284c238d2d7d0814d78e0c": {
     "model_module": "@jupyter-widgets/controls",
     "model_module_version": "1.5.0",
     "model_name": "HTMLModel",
     "state": {
      "_dom_classes": [],
      "_model_module": "@jupyter-widgets/controls",
      "_model_module_version": "1.5.0",
      "_model_name": "HTMLModel",
      "_view_count": null,
      "_view_module": "@jupyter-widgets/controls",
      "_view_module_version": "1.5.0",
      "_view_name": "HTMLView",
      "description": "",
      "description_tooltip": null,
      "layout": "IPY_MODEL_6b7c846d51b840eeba87f0a5ddbd90a1",
      "placeholder": "​",
      "style": "IPY_MODEL_72aa4cd2a3f84facb890ff7bddda5d50",
      "value": " 611/611 [00:00&lt;00:00, 7.68kB/s]"
     }
    },
    "f33a466365ae4f6188f4155137ce8b66": {
     "model_module": "@jupyter-widgets/base",
     "model_module_version": "1.2.0",
     "model_name": "LayoutModel",
     "state": {
      "_model_module": "@jupyter-widgets/base",
      "_model_module_version": "1.2.0",
      "_model_name": "LayoutModel",
      "_view_count": null,
      "_view_module": "@jupyter-widgets/base",
      "_view_module_version": "1.2.0",
      "_view_name": "LayoutView",
      "align_content": null,
      "align_items": null,
      "align_self": null,
      "border": null,
      "bottom": null,
      "display": null,
      "flex": null,
      "flex_flow": null,
      "grid_area": null,
      "grid_auto_columns": null,
      "grid_auto_flow": null,
      "grid_auto_rows": null,
      "grid_column": null,
      "grid_gap": null,
      "grid_row": null,
      "grid_template_areas": null,
      "grid_template_columns": null,
      "grid_template_rows": null,
      "height": null,
      "justify_content": null,
      "justify_items": null,
      "left": null,
      "margin": null,
      "max_height": null,
      "max_width": null,
      "min_height": null,
      "min_width": null,
      "object_fit": null,
      "object_position": null,
      "order": null,
      "overflow": null,
      "overflow_x": null,
      "overflow_y": null,
      "padding": null,
      "right": null,
      "top": null,
      "visibility": null,
      "width": null
     }
    },
    "f4e741373e9444be8fa654a4980cc1a0": {
     "model_module": "@jupyter-widgets/base",
     "model_module_version": "1.2.0",
     "model_name": "LayoutModel",
     "state": {
      "_model_module": "@jupyter-widgets/base",
      "_model_module_version": "1.2.0",
      "_model_name": "LayoutModel",
      "_view_count": null,
      "_view_module": "@jupyter-widgets/base",
      "_view_module_version": "1.2.0",
      "_view_name": "LayoutView",
      "align_content": null,
      "align_items": null,
      "align_self": null,
      "border": null,
      "bottom": null,
      "display": null,
      "flex": null,
      "flex_flow": null,
      "grid_area": null,
      "grid_auto_columns": null,
      "grid_auto_flow": null,
      "grid_auto_rows": null,
      "grid_column": null,
      "grid_gap": null,
      "grid_row": null,
      "grid_template_areas": null,
      "grid_template_columns": null,
      "grid_template_rows": null,
      "height": null,
      "justify_content": null,
      "justify_items": null,
      "left": null,
      "margin": null,
      "max_height": null,
      "max_width": null,
      "min_height": null,
      "min_width": null,
      "object_fit": null,
      "object_position": null,
      "order": null,
      "overflow": null,
      "overflow_x": null,
      "overflow_y": null,
      "padding": null,
      "right": null,
      "top": null,
      "visibility": null,
      "width": null
     }
    },
    "f632b477240c4e75840f299264bcf6d1": {
     "model_module": "@jupyter-widgets/controls",
     "model_module_version": "1.5.0",
     "model_name": "ProgressStyleModel",
     "state": {
      "_model_module": "@jupyter-widgets/controls",
      "_model_module_version": "1.5.0",
      "_model_name": "ProgressStyleModel",
      "_view_count": null,
      "_view_module": "@jupyter-widgets/base",
      "_view_module_version": "1.2.0",
      "_view_name": "StyleView",
      "bar_color": null,
      "description_width": ""
     }
    },
    "f647592b74dc432ca07757b1de149ccc": {
     "model_module": "@jupyter-widgets/controls",
     "model_module_version": "1.5.0",
     "model_name": "HBoxModel",
     "state": {
      "_dom_classes": [],
      "_model_module": "@jupyter-widgets/controls",
      "_model_module_version": "1.5.0",
      "_model_name": "HBoxModel",
      "_view_count": null,
      "_view_module": "@jupyter-widgets/controls",
      "_view_module_version": "1.5.0",
      "_view_name": "HBoxView",
      "box_style": "",
      "children": [
       "IPY_MODEL_35eb39ddbaf642fd80ae56e34f006cb6",
       "IPY_MODEL_d34c544e96434d7a9be1cf3715f44c96",
       "IPY_MODEL_fd2745482f89452780a71a78bc53d090"
      ],
      "layout": "IPY_MODEL_1f5a00e701b34ced90840b6066f02405"
     }
    },
    "f68fbde1cb204976a7e2dfa800298346": {
     "model_module": "@jupyter-widgets/controls",
     "model_module_version": "1.5.0",
     "model_name": "HTMLModel",
     "state": {
      "_dom_classes": [],
      "_model_module": "@jupyter-widgets/controls",
      "_model_module_version": "1.5.0",
      "_model_name": "HTMLModel",
      "_view_count": null,
      "_view_module": "@jupyter-widgets/controls",
      "_view_module_version": "1.5.0",
      "_view_name": "HTMLView",
      "description": "",
      "description_tooltip": null,
      "layout": "IPY_MODEL_0ec007b8a7104a1b9992470147d31f1b",
      "placeholder": "​",
      "style": "IPY_MODEL_0ff44b756aaf49f199aa75ea7ffa7e61",
      "value": " 384/384 [00:00&lt;00:00, 9.99kB/s]"
     }
    },
    "f71302abb22d412da9383475625d533f": {
     "model_module": "@jupyter-widgets/controls",
     "model_module_version": "1.5.0",
     "model_name": "ProgressStyleModel",
     "state": {
      "_model_module": "@jupyter-widgets/controls",
      "_model_module_version": "1.5.0",
      "_model_name": "ProgressStyleModel",
      "_view_count": null,
      "_view_module": "@jupyter-widgets/base",
      "_view_module_version": "1.2.0",
      "_view_name": "StyleView",
      "bar_color": null,
      "description_width": ""
     }
    },
    "f81099febf7d40abadecbe2855618b62": {
     "model_module": "@jupyter-widgets/base",
     "model_module_version": "1.2.0",
     "model_name": "LayoutModel",
     "state": {
      "_model_module": "@jupyter-widgets/base",
      "_model_module_version": "1.2.0",
      "_model_name": "LayoutModel",
      "_view_count": null,
      "_view_module": "@jupyter-widgets/base",
      "_view_module_version": "1.2.0",
      "_view_name": "LayoutView",
      "align_content": null,
      "align_items": null,
      "align_self": null,
      "border": null,
      "bottom": null,
      "display": null,
      "flex": null,
      "flex_flow": null,
      "grid_area": null,
      "grid_auto_columns": null,
      "grid_auto_flow": null,
      "grid_auto_rows": null,
      "grid_column": null,
      "grid_gap": null,
      "grid_row": null,
      "grid_template_areas": null,
      "grid_template_columns": null,
      "grid_template_rows": null,
      "height": null,
      "justify_content": null,
      "justify_items": null,
      "left": null,
      "margin": null,
      "max_height": null,
      "max_width": null,
      "min_height": null,
      "min_width": null,
      "object_fit": null,
      "object_position": null,
      "order": null,
      "overflow": null,
      "overflow_x": null,
      "overflow_y": null,
      "padding": null,
      "right": null,
      "top": null,
      "visibility": null,
      "width": null
     }
    },
    "f9bb8a3b0c8c4e1a8216a82c4804a1e1": {
     "model_module": "@jupyter-widgets/base",
     "model_module_version": "1.2.0",
     "model_name": "LayoutModel",
     "state": {
      "_model_module": "@jupyter-widgets/base",
      "_model_module_version": "1.2.0",
      "_model_name": "LayoutModel",
      "_view_count": null,
      "_view_module": "@jupyter-widgets/base",
      "_view_module_version": "1.2.0",
      "_view_name": "LayoutView",
      "align_content": null,
      "align_items": null,
      "align_self": null,
      "border": null,
      "bottom": null,
      "display": null,
      "flex": null,
      "flex_flow": null,
      "grid_area": null,
      "grid_auto_columns": null,
      "grid_auto_flow": null,
      "grid_auto_rows": null,
      "grid_column": null,
      "grid_gap": null,
      "grid_row": null,
      "grid_template_areas": null,
      "grid_template_columns": null,
      "grid_template_rows": null,
      "height": null,
      "justify_content": null,
      "justify_items": null,
      "left": null,
      "margin": null,
      "max_height": null,
      "max_width": null,
      "min_height": null,
      "min_width": null,
      "object_fit": null,
      "object_position": null,
      "order": null,
      "overflow": null,
      "overflow_x": null,
      "overflow_y": null,
      "padding": null,
      "right": null,
      "top": null,
      "visibility": null,
      "width": null
     }
    },
    "fb28a669a7be4a7dbd8c00ae036ae75c": {
     "model_module": "@jupyter-widgets/controls",
     "model_module_version": "1.5.0",
     "model_name": "HTMLModel",
     "state": {
      "_dom_classes": [],
      "_model_module": "@jupyter-widgets/controls",
      "_model_module_version": "1.5.0",
      "_model_name": "HTMLModel",
      "_view_count": null,
      "_view_module": "@jupyter-widgets/controls",
      "_view_module_version": "1.5.0",
      "_view_name": "HTMLView",
      "description": "",
      "description_tooltip": null,
      "layout": "IPY_MODEL_712a8c946eba493096ff367bad6c6447",
      "placeholder": "​",
      "style": "IPY_MODEL_d3a991a218ed4dfd816ec831def73c8c",
      "value": " 2.31M/2.31M [00:00&lt;00:00, 2.39MB/s]"
     }
    },
    "fd2745482f89452780a71a78bc53d090": {
     "model_module": "@jupyter-widgets/controls",
     "model_module_version": "1.5.0",
     "model_name": "HTMLModel",
     "state": {
      "_dom_classes": [],
      "_model_module": "@jupyter-widgets/controls",
      "_model_module_version": "1.5.0",
      "_model_name": "HTMLModel",
      "_view_count": null,
      "_view_module": "@jupyter-widgets/controls",
      "_view_module_version": "1.5.0",
      "_view_name": "HTMLView",
      "description": "",
      "description_tooltip": null,
      "layout": "IPY_MODEL_4af60b305d3e4d5fbaf014fc5100f5fa",
      "placeholder": "​",
      "style": "IPY_MODEL_7538e887ce0a41f49432fe3ef49b3e8e",
      "value": " 543M/543M [00:26&lt;00:00, 34.7MB/s]"
     }
    }
   }
  }
 },
 "nbformat": 4,
 "nbformat_minor": 1
}
