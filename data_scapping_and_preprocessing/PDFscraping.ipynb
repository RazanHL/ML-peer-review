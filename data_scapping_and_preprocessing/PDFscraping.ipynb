{
 "cells": [
  {
   "cell_type": "markdown",
   "id": "1ca9479d",
   "metadata": {},
   "source": [
    "## PDF files scraping, downloading, and merging"
   ]
  },
  {
   "cell_type": "code",
   "execution_count": 1,
   "id": "d08382b2",
   "metadata": {},
   "outputs": [],
   "source": [
    "import requests\n",
    "from bs4 import BeautifulSoup\n",
    "import os"
   ]
  },
  {
   "cell_type": "code",
   "execution_count": 2,
   "id": "f890617d",
   "metadata": {},
   "outputs": [],
   "source": [
    "def get_page_source(url):\n",
    "    r = requests.get(url)\n",
    "    return r.text"
   ]
  },
  {
   "cell_type": "code",
   "execution_count": 4,
   "id": "5847d736",
   "metadata": {},
   "outputs": [],
   "source": [
    "def get_all_pdfs_url(html):\n",
    "    soup = BeautifulSoup(html, \"html.parser\")\n",
    "    all_links = soup.find_all('a')\n",
    "    all_files = []\n",
    "    for i,link in enumerate(all_links):\n",
    "        pdf_link = (link.get('href')[:])\n",
    "        if (pdf_link.endswith('.pdf')):\n",
    "            all_files.append(pdf_link)\n",
    "    return all_files"
   ]
  },
  {
   "cell_type": "code",
   "execution_count": 5,
   "id": "0623b7be",
   "metadata": {},
   "outputs": [],
   "source": [
    "def download_all_pdf_files(all_files_links, url):\n",
    "    for index, link in enumerate(all_files_links, 1):\n",
    "        if (link.startswith('http')):\n",
    "            print(\"{}.pdf\".format(index))\n",
    "            content = requests.get(link, stream=True).content\n",
    "            try:           \n",
    "                with open ('pdf/artic{}.pdf'.format(index), 'wb') as filey:\n",
    "                    filey.write(content)\n",
    "            except:\n",
    "                print(\"writing pdf file {} failed.\".format(index))\n",
    "        else:\n",
    "            print(\"{}.pdf\".format(index))\n",
    "            content = requests.get(url + link, stream=True).content\n",
    "            try:           \n",
    "                with open ('pdf/artic{}.pdf'.format(index), 'wb') as filey:\n",
    "                    filey.write(content)\n",
    "            except:\n",
    "                print(\"writing pdf file {} failed.\".format(index))\n",
    "        "
   ]
  },
  {
   "cell_type": "code",
   "execution_count": 2,
   "id": "29db28ca",
   "metadata": {},
   "outputs": [],
   "source": [
    "def convert_pdf_to_txt(fPath):\n",
    "    if fPath.endswith('.pdf'):\n",
    "        os.system('pdftotext {}'.format(fPath))\n",
    "        print('a file has been converted!')\n",
    "    else:\n",
    "        filepaths  = [os.path.join(fPath, name) for name in os.listdir(fPath) if name.endswith('.pdf')]\n",
    "        for file in filepaths:\n",
    "            os.system('pdftotext {}'.format(file))\n",
    "            print('{} file has been converted!'.format(file))\n",
    "    return fPath"
   ]
  },
  {
   "cell_type": "code",
   "execution_count": 33,
   "id": "d60d3fba",
   "metadata": {},
   "outputs": [],
   "source": [
    "def merge_txt_files(folder_path, merged_file_name):\n",
    "    merged_file = merged_file_name\n",
    "    filepaths  = [os.path.join(folder_path, name) for name in os.listdir(folder_path) if name.endswith('.txt')]\n",
    "    print(filepaths)\n",
    "    merged_txt = ''\n",
    "    for index, file in enumerate(filepaths, 1):\n",
    "        \n",
    "        try:\n",
    "            with open(file,'r') as f:\n",
    "                content = f.read()\n",
    "                merged_txt = merged_txt + content\n",
    "                print(content)\n",
    "        except:\n",
    "            print(\"merging txt file failed.\")\n",
    "\n",
    "    with open('{}\\{}'.format(folder_path, merged_file), 'w') as fout:\n",
    "        fout.write(merged_txt)\n",
    "\n",
    "    return merged_txt"
   ]
  },
  {
   "cell_type": "code",
   "execution_count": 2,
   "id": "6b9d04d8",
   "metadata": {},
   "outputs": [],
   "source": [
    "def main():\n",
    "    URL = \"http://www.cs.brandeis.edu/~cs134/\"\n",
    "#     URL = \"https://ajpp.asplantprotection.org/ar/%d9%85%d8%ac%d9%84%d8%af-39%d8%8c-%d8%b9%d8%af%d8%af-4%d8%8c-%d9%83%d8%a7%d9%86%d9%88%d9%86-%d8%a7%d9%84%d8%a3%d9%88%d9%84-%d8%af%d9%8a%d8%b3%d9%85%d8%a8%d8%b1-2021/\"\n",
    "#     html = get_page_source(URL)\n",
    "#     pdfs = get_all_pdfs_url(html)\n",
    "    \n",
    "#     print(html)\n",
    "#     print(pdfs)\n",
    "#     merge_pdf_files('D:/python/pdf/')\n",
    "\n",
    "#     download_all_pdf_files(pdfs, URL)\n",
    "# rr = r'D:\\python\\articles'\n",
    "# merge_txt_files(rr, 'merger.txt')\n",
    "\n",
    "if __name__ == \"__main__\":\n",
    "    main()"
   ]
  },
  {
   "cell_type": "code",
   "execution_count": 6,
   "id": "4614bbd4",
   "metadata": {},
   "outputs": [
    {
     "name": "stdout",
     "output_type": "stream",
     "text": [
      "a file has been converted!\n"
     ]
    },
    {
     "data": {
      "text/plain": [
       "'D:\\\\python\\\\myProjects\\\\55.pdf'"
      ]
     },
     "execution_count": 6,
     "metadata": {},
     "output_type": "execute_result"
    }
   ],
   "source": [
    "convert_pdf_to_txt(r'D:\\python\\myProjects\\55.pdf')"
   ]
  },
  {
   "cell_type": "code",
   "execution_count": 3,
   "id": "bfc70cd2",
   "metadata": {},
   "outputs": [
    {
     "data": {
      "text/plain": [
       "0"
      ]
     },
     "execution_count": 3,
     "metadata": {},
     "output_type": "execute_result"
    }
   ],
   "source": [
    "fPath = r'D:\\python\\11.pdf'\n",
    "os.system('pdftotext {}'.format(fPath))"
   ]
  },
  {
   "cell_type": "code",
   "execution_count": null,
   "id": "8bc9a272",
   "metadata": {},
   "outputs": [],
   "source": []
  }
 ],
 "metadata": {
  "kernelspec": {
   "display_name": "Python 3 (ipykernel)",
   "language": "python",
   "name": "python3"
  },
  "language_info": {
   "codemirror_mode": {
    "name": "ipython",
    "version": 3
   },
   "file_extension": ".py",
   "mimetype": "text/x-python",
   "name": "python",
   "nbconvert_exporter": "python",
   "pygments_lexer": "ipython3",
   "version": "3.9.7"
  }
 },
 "nbformat": 4,
 "nbformat_minor": 5
}
