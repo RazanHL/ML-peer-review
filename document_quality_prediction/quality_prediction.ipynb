{
 "cells": [
  {
   "cell_type": "markdown",
   "metadata": {
    "id": "GN1yjDYhdnFL"
   },
   "source": [
    "# Importing Requerments:"
   ]
  },
  {
   "cell_type": "code",
   "execution_count": 1,
   "metadata": {
    "colab": {
     "base_uri": "https://localhost:8080/"
    },
    "executionInfo": {
     "elapsed": 73365,
     "status": "ok",
     "timestamp": 1679210693946,
     "user": {
      "displayName": "Razan HL",
      "userId": "00189607576210306079"
     },
     "user_tz": -180
    },
    "id": "7hWvl7HRLYUl",
    "outputId": "54155f45-d547-4337-977f-1220a9b28904"
   },
   "outputs": [
    {
     "name": "stdout",
     "output_type": "stream",
     "text": [
      "Drive already mounted at /content/drive; to attempt to forcibly remount, call drive.mount(\"/content/drive\", force_remount=True).\n"
     ]
    }
   ],
   "source": [
    "from google.colab import drive\n",
    "drive.mount('/content/drive')"
   ]
  },
  {
   "cell_type": "code",
   "execution_count": 4,
   "metadata": {
    "executionInfo": {
     "elapsed": 1149,
     "status": "ok",
     "timestamp": 1679210730416,
     "user": {
      "displayName": "Razan HL",
      "userId": "00189607576210306079"
     },
     "user_tz": -180
    },
    "id": "6V8OwS5VxO08"
   },
   "outputs": [],
   "source": [
    "\n",
    "from datetime import datetime\n",
    "import pandas as pd\n",
    "import numpy as np\n",
    "import sys\n",
    "import statistics as st\n",
    "import matplotlib.pyplot as plt\n",
    "import seaborn as sns\n",
    "from sklearn.metrics import r2_score, mean_squared_error, mean_absolute_error, median_absolute_error, mean_absolute_percentage_error"
   ]
  },
  {
   "cell_type": "code",
   "execution_count": 5,
   "metadata": {
    "executionInfo": {
     "elapsed": 7,
     "status": "ok",
     "timestamp": 1679210735982,
     "user": {
      "displayName": "Razan HL",
      "userId": "00189607576210306079"
     },
     "user_tz": -180
    },
    "id": "OYxe3Kvrhf5O"
   },
   "outputs": [],
   "source": [
    "from sklearn.feature_extraction.text import TfidfVectorizer, CountVectorizer\n",
    "from sklearn.model_selection import train_test_split"
   ]
  },
  {
   "cell_type": "code",
   "execution_count": 6,
   "metadata": {
    "executionInfo": {
     "elapsed": 7,
     "status": "ok",
     "timestamp": 1679210737136,
     "user": {
      "displayName": "Razan HL",
      "userId": "00189607576210306079"
     },
     "user_tz": -180
    },
    "id": "NQY9sMH9lETU"
   },
   "outputs": [],
   "source": [
    "from sklearn.preprocessing import MinMaxScaler, StandardScaler\n",
    "from sklearn.compose import TransformedTargetRegressor\n",
    "from sklearn.model_selection import RandomizedSearchCV\n",
    "from xgboost import XGBRegressor \n",
    "from sklearn.tree import DecisionTreeRegressor\n",
    "from sklearn.ensemble import RandomForestRegressor"
   ]
  },
  {
   "cell_type": "markdown",
   "metadata": {
    "id": "y9sQt6V4WrTG"
   },
   "source": [
    "# Quality check: Statistical feature extraction:"
   ]
  },
  {
   "cell_type": "code",
   "execution_count": null,
   "metadata": {
    "id": "-0FxQru4p-D1"
   },
   "outputs": [],
   "source": [
    "regression_dataset['all_authors'] = None\n",
    "for index in range(len(regression_dataset)):\n",
    "  if (str(regression_dataset.co_Author[index]) != 'nan'):\n",
    "    regression_dataset.co_Author[index] = regression_dataset.co_Author[index].replace('،', ',')\n",
    "    regression_dataset.all_authors[index] = regression_dataset.Author[index]+', '+ regression_dataset.co_Author[index]\n",
    "  else:\n",
    "    regression_dataset.all_authors[index] = regression_dataset.Author[index]"
   ]
  },
  {
   "cell_type": "code",
   "execution_count": null,
   "metadata": {
    "id": "sc7YoSU7qs2v"
   },
   "outputs": [],
   "source": [
    "def find_match(author):\n",
    "  count=0\n",
    "  for y in regression_dataset.all_authors:\n",
    "    if (author.strip() in y):\n",
    "      count+=1\n",
    "  return(count)"
   ]
  },
  {
   "cell_type": "code",
   "execution_count": null,
   "metadata": {
    "id": "6JrwpjRzq0vz"
   },
   "outputs": [],
   "source": [
    "regression_dataset['max_publication_authors'] = None\n",
    "for i,x in enumerate(regression_dataset.all_authors):\n",
    "  auths = x.split(',')\n",
    "  pub_freq = []\n",
    "  for a in auths:\n",
    "    pub_freq.append(find_match(a))\n",
    "  regression_dataset.max_publication_authors[i] = max(pub_freq)"
   ]
  },
  {
   "cell_type": "code",
   "execution_count": null,
   "metadata": {
    "id": "OKsqIkopq9L2"
   },
   "outputs": [],
   "source": [
    "def paper_parser(paper):\n",
    "  paragraphs = paper.split('\\n')\n",
    "  title_end = 0\n",
    "  abstract_ind = 0\n",
    "  keywords_ind = 0\n",
    "  en_abs_ind = 0\n",
    "  en_key_ind = 0\n",
    "  intro_ind = 0\n",
    "  ref_ind = 0\n",
    "  end_ref =0\n",
    "  end_abstract =0\n",
    "  eng_end_abstract =0\n",
    "  keywords_end=0\n",
    "  for i, line in enumerate(paragraphs):\n",
    "    if ('ملخص' in line and abstract_ind ==0):\n",
    "      abstract_ind = i \n",
    "      continue\n",
    "    elif ('خلاصة' in line and abstract_ind ==0):\n",
    "      abstract_ind = i \n",
    "      continue\n",
    "    elif ('مستخلص' in line and abstract_ind ==0):\n",
    "      abstract_ind = i \n",
    "      continue\n",
    "    if ('مفتاحي' in line and keywords_ind ==0): \n",
    "      keywords_ind = i\n",
    "      continue\n",
    "    elif ('الكلمات الدالة' in line and keywords_ind ==0): \n",
    "      keywords_ind = i\n",
    "      continue \n",
    "    elif ('كلمات دالة' in line and keywords_ind ==0): \n",
    "      keywords_ind = i\n",
    "      continue\n",
    "    if ('abstract' in line and en_abs_ind ==0):\n",
    "      en_abs_ind = i\n",
    "      continue\n",
    "    elif ('absract' in line and en_abs_ind ==0):\n",
    "      en_abs_ind = i\n",
    "      continue\n",
    "    if ('keyword' in line and en_key_ind ==0):\n",
    "      en_key_ind = i\n",
    "      continue\n",
    "    elif ('key w' in line and en_key_ind ==0):\n",
    "      en_key_ind = i\n",
    "      continue\n",
    "    if ('مقدمة' in line and intro_ind ==0):\n",
    "      intro_ind = i\n",
    "      continue\n",
    "    if ('مراجع' in line):\n",
    "      ref_ind = i\n",
    "      continue\n",
    "    elif ('مصادر' in line and ref_ind ==0):\n",
    "      ref_ind = i\n",
    "      continue    \n",
    "    elif ('reference' in line):\n",
    "      ref_ind = i\n",
    "      continue\n",
    "    def get_paragraph(start_idx, end_idx):\n",
    "      parag = ''\n",
    "      for i in range(start_idx, end_idx):\n",
    "        parag = parag +' '+ paragraphs[i]\n",
    "      return parag\n",
    "    \n",
    "  if (abstract_ind == 0): print('No Arabic Abstract Found!')\n",
    "  if (keywords_ind == 0): \n",
    "    print('No Arabic keywords Found!')\n",
    "    keywords_end = 0\n",
    "    if(en_abs_ind != 0 and en_abs_ind < ref_ind):\n",
    "      end_abstract = en_abs_ind\n",
    "    else:\n",
    "      end_abstract = intro_ind\n",
    "  else:\n",
    "    keywords_end = keywords_ind+1\n",
    "    end_abstract = keywords_ind\n",
    "  if (en_abs_ind == 0): \n",
    "    print('No English Abstract Found!')\n",
    "    title_end = abstract_ind\n",
    "  else:\n",
    "    title_end = min(abstract_ind, en_abs_ind)\n",
    "  if (en_key_ind == 0): \n",
    "    print('No English keywords Found!')\n",
    "    en_key_end = 0\n",
    "    if(en_abs_ind < ref_ind and en_abs_ind < abstract_ind):\n",
    "      eng_end_abstract = abstract_ind\n",
    "    elif (en_abs_ind < ref_ind and en_abs_ind < intro_ind):\n",
    "      eng_end_abstract = intro_ind\n",
    "    else:\n",
    "      eng_end_abstract = len(paragraphs)\n",
    "  else:\n",
    "    eng_end_abstract = en_key_ind\n",
    "    en_key_end = en_key_ind +1\n",
    "  if (en_abs_ind > ref_ind):\n",
    "    end_ref = en_abs_ind -1\n",
    "  else:\n",
    "    end_ref =len(paragraphs)\n",
    "\n",
    "\n",
    "  title = get_paragraph(0, title_end)    \n",
    "  abstract = get_paragraph(abstract_ind+1, end_abstract)\n",
    "  key_words = get_paragraph(keywords_ind, keywords_end)    \n",
    "  en_abstract = get_paragraph(en_abs_ind +1, eng_end_abstract)   \n",
    "  en_keyword = get_paragraph(en_key_ind, en_key_end) \n",
    "  introduction = get_paragraph(intro_ind +1, ref_ind)\n",
    "  references = get_paragraph(ref_ind+1, end_ref)\n",
    "\n",
    "  indexes = [abstract_ind, keywords_ind, en_abs_ind, en_key_ind, intro_ind, ref_ind]\n",
    "  return(indexes, title, abstract, key_words, en_abstract, en_keyword, introduction, references)"
   ]
  },
  {
   "cell_type": "code",
   "execution_count": null,
   "metadata": {
    "id": "s6Amc7uJq0tG"
   },
   "outputs": [],
   "source": [
    "regression_dataset['title'] = None\n",
    "regression_dataset['abstract'] = None\n",
    "regression_dataset['key_words'] = None\n",
    "regression_dataset['en_abstract'] = None\n",
    "regression_dataset['en_keyword'] = None\n",
    "regression_dataset['introduction'] = None\n",
    "regression_dataset['references'] = None"
   ]
  },
  {
   "cell_type": "code",
   "execution_count": null,
   "metadata": {
    "id": "-W7K1u0mrXGK"
   },
   "outputs": [],
   "source": [
    "for i, pap in enumerate(regression_dataset.full_text):\n",
    "  print('index: ', i)\n",
    "  x, regression_dataset['title'][i], regression_dataset['abstract'][i],\\\n",
    "  regression_dataset['key_words'][i], regression_dataset['en_abstract'][i],\\\n",
    "  regression_dataset['en_keyword'][i], regression_dataset['introduction'][i],\\\n",
    "  regression_dataset['references'][i] = paper_parser(pap)"
   ]
  },
  {
   "cell_type": "code",
   "execution_count": null,
   "metadata": {
    "id": "Xnlvqs-SrXBq"
   },
   "outputs": [],
   "source": [
    "def get_latest_reference_year(references):\n",
    "  pattern = re.compile(r'\\d\\d\\d\\d')\n",
    "  references_years = pattern.findall(references)\n",
    "  years = [int(year) for year in references_years if (int(year) > 1950 and int(year)< 2025)]\n",
    "  if (len(years) > 0 ):\n",
    "    return (len(years), max(years), min(years), round(st.mean(years),2), round(st.median(years),2))\n",
    "  else: \n",
    "    print('empty')\n",
    "    return (0, 0, 0, 0, 0)\n",
    "  "
   ]
  },
  {
   "cell_type": "code",
   "execution_count": null,
   "metadata": {
    "id": "HKixAerWsGC_"
   },
   "outputs": [],
   "source": [
    "regression_dataset['num_references'] = None\n",
    "regression_dataset['latest_reference'] = None\n",
    "regression_dataset['oldest_reference'] = None\n",
    "regression_dataset['meadian_reference'] = None\n",
    "\n",
    "for i, ref in enumerate(regression_dataset.references):\n",
    "  counts, maxim, minim, means, medians = get_latest_reference_year(ref)\n",
    "  regression_dataset.num_references[i] = counts\n",
    "  regression_dataset.latest_reference[i] = maxim\n",
    "  regression_dataset.oldest_reference[i] = minim \n",
    "  regression_dataset.meadian_reference[i] = medians"
   ]
  },
  {
   "cell_type": "code",
   "execution_count": null,
   "metadata": {
    "id": "sYExfmRcsF8W"
   },
   "outputs": [],
   "source": [
    "# number of figurs & tabels\n",
    "def get_figurs(paper_txt):\n",
    "  pattern1 = re.compile(r'شكل*\\s*.\\d')\n",
    "  pattern2 = re.compile(r'شكل*\\sرقم*.\\d')\n",
    "  pattern3 = re.compile(r'جدول*\\s*.\\d')  # *.\\d\n",
    "  pattern4 = re.compile(r'جدول*\\sرقم*.\\d')  \n",
    "  pattern5 = re.compile(r'مخطط*\\s*.\\d')  \n",
    "  pattern6 = re.compile(r'مخطط*\\sرقم*.\\d')  \n",
    "\n",
    "\n",
    "  figurs = pattern1.findall(paper_txt)\n",
    "  figurs2 = pattern2.findall(paper_txt)\n",
    "  tabels = pattern3.findall(paper_txt)\n",
    "  tabels2 = pattern4.findall(paper_txt)\n",
    "  charts = pattern5.findall(paper_txt)\n",
    "  charts2 = pattern6.findall(paper_txt)\n",
    "\n",
    "  join = lambda x: ' '.join(x)\n",
    "  figurs = join(figurs) + join(figurs2) \n",
    "  tabels = join(tabels) + join(tabels2)\n",
    "  charts = join(charts) + join(charts2)\n",
    "\n",
    "  pattern4 = re.compile(r'\\d')\n",
    "  fig_num = pattern4.findall(figurs)\n",
    "  tab_num = pattern4.findall(tabels)\n",
    "  chr_num = pattern4.findall(charts)\n",
    "\n",
    "  if len(fig_num)>0: max_fig = int(max(fig_num))\n",
    "  else: max_fig = 0\n",
    "  if len(tab_num)>0: max_tab = int(max(tab_num))\n",
    "  else: max_tab = 0\n",
    "  if len(chr_num)>0: max_chrt = int(max(chr_num))\n",
    "  else: max_chrt = 0\n",
    "\n",
    "  return (max_fig, max_tab, max_chrt)"
   ]
  },
  {
   "cell_type": "code",
   "execution_count": null,
   "metadata": {
    "id": "GINjiILjsfdy"
   },
   "outputs": [],
   "source": [
    "regression_dataset['num_figurs'] = None\n",
    "regression_dataset['num_tables'] = None\n",
    "regression_dataset['num_charts'] = None\n",
    "\n",
    "for i, introd in enumerate(regression_dataset.introduction):\n",
    "  x, y, z = get_figurs(introd)\n",
    "  regression_dataset['num_figurs'][i] = x\n",
    "  regression_dataset['num_tables'][i] = y\n",
    "  regression_dataset['num_charts'][i] = z"
   ]
  },
  {
   "cell_type": "code",
   "execution_count": null,
   "metadata": {
    "id": "JQM-hlslczs6"
   },
   "outputs": [],
   "source": [
    "# fill null values with 0\n",
    "regression_dataset['co_Author'] = regression_dataset['co_Author'].fillna(0)\n",
    "df1 = regression_dataset[regression_dataset['co_Author'].isnull()]"
   ]
  },
  {
   "cell_type": "code",
   "execution_count": null,
   "metadata": {
    "id": "6G9GmhXYQxof"
   },
   "outputs": [],
   "source": [
    "def num_authors(names):\n",
    "  if(names == 0):\n",
    "    return 1\n",
    "  else:\n",
    "    return(len(names.split(',')) +1)"
   ]
  },
  {
   "cell_type": "code",
   "execution_count": null,
   "metadata": {
    "id": "Kg21Ey6HQ2cm"
   },
   "outputs": [],
   "source": [
    "regression_dataset['num_authors'] = regression_dataset['co_Author'].map(num_authors)"
   ]
  },
  {
   "cell_type": "code",
   "execution_count": null,
   "metadata": {
    "id": "-W5pPDXddEqe"
   },
   "outputs": [],
   "source": [
    "def avg_recent_references(latest,oldest,median):\n",
    "  a = latest - median\n",
    "  b = latest - oldest\n",
    "  return (a/b)"
   ]
  },
  {
   "cell_type": "code",
   "execution_count": null,
   "metadata": {
    "colab": {
     "base_uri": "https://localhost:8080/"
    },
    "executionInfo": {
     "elapsed": 729,
     "status": "ok",
     "timestamp": 1668877758926,
     "user": {
      "displayName": "Razan HL",
      "userId": "00189607576210306079"
     },
     "user_tz": -180
    },
    "id": "rOhEP-CRdEmv",
    "outputId": "4323ffa5-a2de-49c4-edba-6039676e524e"
   },
   "outputs": [],
   "source": [
    "regression_dataset['avg_recent_references']= None\n",
    "for i, x in enumerate(regression_dataset.latest_reference):\n",
    "  oldest = regression_dataset.oldest_reference[i]\n",
    "  mid = regression_dataset.meadian_reference[i]\n",
    "  regression_dataset['avg_recent_references'][i]= avg_recent_references(x, oldest, mid)"
   ]
  },
  {
   "cell_type": "code",
   "execution_count": null,
   "metadata": {
    "id": "dwUmxs2UAYR5"
   },
   "outputs": [],
   "source": [
    "regression_dataset['avg_recent_references']"
   ]
  },
  {
   "cell_type": "code",
   "execution_count": null,
   "metadata": {
    "id": "oo2AxcExCaNQ"
   },
   "outputs": [],
   "source": [
    "leng = lambda x: len(x.split())\n",
    "regression_dataset['paper_len'] = regression_dataset['full_text'].map(leng)"
   ]
  },
  {
   "cell_type": "code",
   "execution_count": null,
   "metadata": {
    "id": "NG2jtsS6EZJf"
   },
   "outputs": [],
   "source": [
    "# english/arabic words average\n",
    "def ar_counter(text):\n",
    "    ar_text = re.findall(r'[\\u0600-\\u06ff]+', str(text))\n",
    "    return len(ar_text)\n",
    "\n",
    "def en_counter(text):\n",
    "  en_text = re.findall(r\"[a-z]['\\w]*\", str(text))\n",
    "  return len(en_text)\n",
    "\n",
    "regression_dataset['ar_word_count'] = regression_dataset['full_text'].map(ar_counter)\n",
    "regression_dataset['en_word_count'] = regression_dataset['full_text'].map(en_counter)"
   ]
  },
  {
   "cell_type": "code",
   "execution_count": null,
   "metadata": {
    "id": "a2FXFq4-W7ge"
   },
   "outputs": [],
   "source": [
    "regression_dataset['ar_word_avg'] = None\n",
    "for i,x in enumerate(regression_dataset['ar_word_count']):\n",
    "  regression_dataset['ar_word_avg'][i] = float(x)/float(regression_dataset['paper_len'][i])\n",
    "regression_dataset['en_word_avg'] = None\n",
    "for i,x in enumerate(regression_dataset['en_word_count']):\n",
    "  regression_dataset['en_word_avg'][i] = float(x)/float(regression_dataset['paper_len'][i])\n"
   ]
  },
  {
   "cell_type": "code",
   "execution_count": null,
   "metadata": {
    "id": "UNZcPxRjXP1M"
   },
   "outputs": [],
   "source": [
    "def num_sentences(paper):\n",
    "  sentences = paper.split('.')\n",
    "  counter = 0\n",
    "  for sent in sentences:\n",
    "    if (len(sent.split()) >3):\n",
    "      counter += 1\n",
    "  return counter\n",
    "\n",
    "regression_dataset['num_sentences'] = regression_dataset['full_text'].map(num_sentences)"
   ]
  },
  {
   "cell_type": "code",
   "execution_count": null,
   "metadata": {
    "id": "VAqrieluZnjs"
   },
   "outputs": [],
   "source": [
    "def avg_words_per_sentence(paper):\n",
    "  sentences = paper.split('.')\n",
    "  counter = 0\n",
    "  len_list = 0\n",
    "  for sent in sentences:\n",
    "    if (len(sent.split()) >3):\n",
    "      counter += 1\n",
    "      len_list += (len(sent.split()))\n",
    "  return (len_list / counter)"
   ]
  },
  {
   "cell_type": "code",
   "execution_count": null,
   "metadata": {
    "id": "kEdmv1ndZdiF"
   },
   "outputs": [],
   "source": [
    "regression_dataset['avg_words_per_sentence'] = regression_dataset['full_text'].map(avg_words_per_sentence)"
   ]
  },
  {
   "cell_type": "code",
   "execution_count": null,
   "metadata": {
    "id": "NEEki-0FdEu4"
   },
   "outputs": [],
   "source": [
    "regression_dataset.info()"
   ]
  },
  {
   "cell_type": "code",
   "execution_count": null,
   "metadata": {
    "id": "1ji4uphHE3oP"
   },
   "outputs": [],
   "source": [
    "\n",
    "def ref_mention_count(paper, oldest_ref, latest_ref):\n",
    "  count = 0\n",
    "  for ref in range(oldest_ref, latest_ref+1):\n",
    "    count += paper.count(str(ref))\n",
    "  return count\n",
    "\n",
    "regression_dataset['ref_mention_count'] = None\n",
    "for i,x in enumerate(regression_dataset.full_text):\n",
    "  oldest = int(regression_dataset['oldest_reference'][i])\n",
    "  latest = int(regression_dataset['latest_reference'][i])\n",
    "  regression_dataset['ref_mention_count'][i] = ref_mention_count(x, oldest, latest)\n"
   ]
  },
  {
   "cell_type": "code",
   "execution_count": null,
   "metadata": {
    "id": "Mq4STpll-yzx"
   },
   "outputs": [],
   "source": [
    "regression_dataset['num_publication'] = None\n",
    "for i,author in enumerate(regression_dataset.all_authors):\n",
    "  names = author.split(',')\n",
    "  count = 0\n",
    "  for name in names:\n",
    "    for line in regression_dataset.all_authors:\n",
    "      if name in line:\n",
    "        count += 1\n",
    "  regression_dataset['num_publication'][i] = count\n",
    "print(count)"
   ]
  },
  {
   "cell_type": "code",
   "execution_count": null,
   "metadata": {
    "id": "UGv-GEi5LqAE"
   },
   "outputs": [],
   "source": [
    "regression_dataset.to_csv(r'/content/drive/MyDrive/decision_data4.csv')"
   ]
  },
  {
   "cell_type": "markdown",
   "metadata": {
    "id": "s2U9TzZxeFOl"
   },
   "source": [
    "# Dataset pre-processing:"
   ]
  },
  {
   "cell_type": "code",
   "execution_count": null,
   "metadata": {
    "id": "wjhNisNqj4Di"
   },
   "outputs": [],
   "source": [
    "# statistical features\n",
    "stat_dataset = pd.read_csv(r'/content/drive/MyDrive/decision_data4.csv')\n",
    "stat_dataset.info()"
   ]
  },
  {
   "cell_type": "code",
   "execution_count": null,
   "metadata": {
    "id": "fxUuKLgrnEAC"
   },
   "outputs": [],
   "source": [
    "stat_regression = stat_dataset.drop(columns=['Unnamed: 0', 'Unnamed: 0.1','Unnamed: 0.2', 'Article_ID', 'folder', 'ar_en', 'Country',\n",
    "                                                   'Title', 'Author', 'Author_certificate', 'Author_specification',\n",
    "                                                   'work', 'co_Author', 'Email', 'contact', 'Scope', 'Scope_specific',\n",
    "                                                   'Received_date', 'Reviewer1', 'Reviewer2', 'Reviewer3', 'Rev1_score',\n",
    "                                                   'Rev2_score', 'Rev3_score', 'Volume', 'Issue', 'Date_of_editor_decision',\n",
    "                                                   'full_text', 'all_authors', 'max_publication_authors', 'title', 'abstract',\n",
    "                                                   'key_words', 'en_abstract', 'en_keyword', 'introduction', 'references', \n",
    "                                                   'clean_txt', 'clean_no_stem'], axis =1)"
   ]
  },
  {
   "cell_type": "code",
   "execution_count": 189,
   "metadata": {
    "colab": {
     "base_uri": "https://localhost:8080/"
    },
    "executionInfo": {
     "elapsed": 353,
     "status": "ok",
     "timestamp": 1679220455742,
     "user": {
      "displayName": "Razan HL",
      "userId": "00189607576210306079"
     },
     "user_tz": -180
    },
    "id": "cLhF03XVnGzo",
    "outputId": "a8838199-b10d-4100-dc53-24c59f8d4541"
   },
   "outputs": [
    {
     "name": "stdout",
     "output_type": "stream",
     "text": [
      "<class 'pandas.core.frame.DataFrame'>\n",
      "RangeIndex: 1040 entries, 0 to 1039\n",
      "Data columns (total 20 columns):\n",
      " #   Column                  Non-Null Count  Dtype  \n",
      "---  ------                  --------------  -----  \n",
      " 0   Score                   1040 non-null   float64\n",
      " 1   Result                  1040 non-null   int64  \n",
      " 2   num_references          1040 non-null   int64  \n",
      " 3   latest_reference        1040 non-null   int64  \n",
      " 4   oldest_reference        1040 non-null   int64  \n",
      " 5   meadian_reference       1040 non-null   float64\n",
      " 6   num_figurs              1040 non-null   int64  \n",
      " 7   num_tables              1040 non-null   int64  \n",
      " 8   num_charts              1040 non-null   int64  \n",
      " 9   num_authors             1040 non-null   int64  \n",
      " 10  avg_recent_references   1040 non-null   float64\n",
      " 11  paper_len               1040 non-null   int64  \n",
      " 12  ar_word_count           1040 non-null   int64  \n",
      " 13  en_word_count           1040 non-null   int64  \n",
      " 14  ar_word_avg             1040 non-null   float64\n",
      " 15  en_word_avg             1040 non-null   float64\n",
      " 16  num_sentences           1040 non-null   int64  \n",
      " 17  avg_words_per_sentence  1040 non-null   float64\n",
      " 18  ref_mention_count       1040 non-null   int64  \n",
      " 19  num_publication         1040 non-null   int64  \n",
      "dtypes: float64(6), int64(14)\n",
      "memory usage: 162.6 KB\n"
     ]
    }
   ],
   "source": [
    "stat_regression.info()"
   ]
  },
  {
   "cell_type": "code",
   "execution_count": 190,
   "metadata": {
    "colab": {
     "base_uri": "https://localhost:8080/"
    },
    "executionInfo": {
     "elapsed": 379,
     "status": "ok",
     "timestamp": 1679220465431,
     "user": {
      "displayName": "Razan HL",
      "userId": "00189607576210306079"
     },
     "user_tz": -180
    },
    "id": "Cjr1LB_BBxPK",
    "outputId": "8af8d7df-62bc-43d4-e69b-c058c0d98391"
   },
   "outputs": [
    {
     "data": {
      "text/plain": [
       "((832, 20), (208, 20))"
      ]
     },
     "execution_count": 190,
     "metadata": {},
     "output_type": "execute_result"
    }
   ],
   "source": [
    "train_set = stat_regression.sample(frac=0.8, random_state= 46).reset_index(drop=True)\n",
    "test_set = stat_regression.drop(axis=0, index=train_set.index).reset_index(drop=True)\n",
    "train_set.shape , test_set.shape"
   ]
  },
  {
   "cell_type": "code",
   "execution_count": 37,
   "metadata": {
    "colab": {
     "base_uri": "https://localhost:8080/",
     "height": 297
    },
    "executionInfo": {
     "elapsed": 683,
     "status": "ok",
     "timestamp": 1679211872620,
     "user": {
      "displayName": "Razan HL",
      "userId": "00189607576210306079"
     },
     "user_tz": -180
    },
    "id": "Wr93pILHIYhI",
    "outputId": "e52ecc47-30e3-46c7-bec8-8f9beb4f01f9"
   },
   "outputs": [
    {
     "data": {
      "text/plain": [
       "<Axes: xlabel='Score', ylabel='Density'>"
      ]
     },
     "execution_count": 37,
     "metadata": {},
     "output_type": "execute_result"
    },
    {
     "data": {
      "image/png": "[encoded data removed]",
      "text/plain": [
       "<Figure size 432x288 with 1 Axes>"
      ]
     },
     "metadata": {
      "needs_background": "light"
     },
     "output_type": "display_data"
    }
   ],
   "source": [
    "## plot y distribution\n",
    "import seaborn \n",
    "seaborn.kdeplot(train_set['Score'], legend = \"train\")\n",
    "seaborn.kdeplot(test_set['Score'], legend = \"test\")\n"
   ]
  },
  {
   "cell_type": "code",
   "execution_count": null,
   "metadata": {
    "id": "VKTL2iU-aOjV"
   },
   "outputs": [],
   "source": [
    "!pip install smogn"
   ]
  },
  {
   "cell_type": "code",
   "execution_count": 12,
   "metadata": {
    "executionInfo": {
     "elapsed": 14,
     "status": "ok",
     "timestamp": 1679210790070,
     "user": {
      "displayName": "Razan HL",
      "userId": "00189607576210306079"
     },
     "user_tz": -180
    },
    "id": "F0ZHDs7HHT3m"
   },
   "outputs": [],
   "source": [
    "import smogn"
   ]
  },
  {
   "cell_type": "code",
   "execution_count": 192,
   "metadata": {
    "colab": {
     "base_uri": "https://localhost:8080/"
    },
    "executionInfo": {
     "elapsed": 2258,
     "status": "ok",
     "timestamp": 1679220483706,
     "user": {
      "displayName": "Razan HL",
      "userId": "00189607576210306079"
     },
     "user_tz": -180
    },
    "id": "1I3sIzeoHT0e",
    "outputId": "60394caf-7dda-4644-cbea-e80cad8237fd"
   },
   "outputs": [
    {
     "name": "stderr",
     "output_type": "stream",
     "text": [
      "dist_matrix: 100%|##########| 21/21 [00:00<00:00, 48.09it/s]\n",
      "synth_matrix: 100%|##########| 21/21 [00:01<00:00, 19.78it/s]\n",
      "r_index: 100%|##########| 18/18 [00:00<00:00, 135.76it/s]\n"
     ]
    }
   ],
   "source": [
    "train_reg_smogn = smogn.smoter( data = train_set,y = 'Score', samp_method='extreme', replace=True)\n",
    "test_reg_smogn = smogn.smoter( data = test_set,y = 'Score', samp_method='extreme', replace=True)"
   ]
  },
  {
   "cell_type": "code",
   "execution_count": 193,
   "metadata": {
    "colab": {
     "base_uri": "https://localhost:8080/"
    },
    "executionInfo": {
     "elapsed": 325,
     "status": "ok",
     "timestamp": 1679220498172,
     "user": {
      "displayName": "Razan HL",
      "userId": "00189607576210306079"
     },
     "user_tz": -180
    },
    "id": "GyHpAY0FDtw6",
    "outputId": "45b79c6c-3754-4d06-9bc0-9559a5fcfde3"
   },
   "outputs": [
    {
     "data": {
      "text/plain": [
       "((832, 20), (1399, 20))"
      ]
     },
     "execution_count": 193,
     "metadata": {},
     "output_type": "execute_result"
    }
   ],
   "source": [
    "train_reg_smogn = train_reg_smogn.reset_index(drop=True)\n",
    "test_reg_smogn = test_reg_smogn.reset_index(drop=True)\n",
    "\n",
    "train_set.shape, train_reg_smogn.shape"
   ]
  },
  {
   "cell_type": "code",
   "execution_count": 140,
   "metadata": {
    "colab": {
     "base_uri": "https://localhost:8080/",
     "height": 297
    },
    "executionInfo": {
     "elapsed": 1024,
     "status": "ok",
     "timestamp": 1679218738020,
     "user": {
      "displayName": "Razan HL",
      "userId": "00189607576210306079"
     },
     "user_tz": -180
    },
    "id": "5PH0aActoOyR",
    "outputId": "402c1650-1a20-4120-d08d-e48994846efd"
   },
   "outputs": [
    {
     "data": {
      "text/plain": [
       "<Axes: xlabel='Score', ylabel='Density'>"
      ]
     },
     "execution_count": 140,
     "metadata": {},
     "output_type": "execute_result"
    },
    {
     "data": {
      "image/png": "[encoded data removed]",
      "text/plain": [
       "<Figure size 432x288 with 1 Axes>"
      ]
     },
     "metadata": {
      "needs_background": "light"
     },
     "output_type": "display_data"
    }
   ],
   "source": [
    "seaborn.kdeplot(train_set['Score'], legend = \"Original\")\n",
    "seaborn.kdeplot(train_reg_smogn['Score'], legend = \"Modified\")"
   ]
  },
  {
   "cell_type": "code",
   "execution_count": 141,
   "metadata": {
    "colab": {
     "base_uri": "https://localhost:8080/",
     "height": 297
    },
    "executionInfo": {
     "elapsed": 938,
     "status": "ok",
     "timestamp": 1679218748841,
     "user": {
      "displayName": "Razan HL",
      "userId": "00189607576210306079"
     },
     "user_tz": -180
    },
    "id": "o_i_P0cSFPoL",
    "outputId": "2e5e63c1-38a3-48d1-972a-1c06ad96d20d"
   },
   "outputs": [
    {
     "data": {
      "text/plain": [
       "<Axes: xlabel='Score', ylabel='Density'>"
      ]
     },
     "execution_count": 141,
     "metadata": {},
     "output_type": "execute_result"
    },
    {
     "data": {
      "image/png": "[encoded data removed]",
      "text/plain": [
       "<Figure size 432x288 with 1 Axes>"
      ]
     },
     "metadata": {
      "needs_background": "light"
     },
     "output_type": "display_data"
    }
   ],
   "source": [
    "seaborn.kdeplot(test_set['Score'], legend = \"Original\")\n",
    "# seaborn.kdeplot(test_reg_smogn['Score'], legend = \"Modified\")"
   ]
  },
  {
   "cell_type": "code",
   "execution_count": 194,
   "metadata": {
    "executionInfo": {
     "elapsed": 361,
     "status": "ok",
     "timestamp": 1679220518053,
     "user": {
      "displayName": "Razan HL",
      "userId": "00189607576210306079"
     },
     "user_tz": -180
    },
    "id": "uDUfOBypGQhD"
   },
   "outputs": [],
   "source": [
    "# smoter for train & test set:\n",
    "X_train = train_reg_smogn.drop(columns=['Score', 'Result'], axis =1)\n",
    "y_train= train_reg_smogn.Score\n",
    "X_test = test_reg_smogn.drop(columns=['Score', 'Result'], axis =1)\n",
    "y_test= test_reg_smogn.Score\n"
   ]
  },
  {
   "cell_type": "code",
   "execution_count": 142,
   "metadata": {
    "executionInfo": {
     "elapsed": 403,
     "status": "ok",
     "timestamp": 1679218754463,
     "user": {
      "displayName": "Razan HL",
      "userId": "00189607576210306079"
     },
     "user_tz": -180
    },
    "id": "RKs_bI3gemL9"
   },
   "outputs": [],
   "source": [
    "# # smoter for train set only:\n",
    "X_train = train_reg_smogn.drop(columns=['Score', 'Result'], axis =1)\n",
    "y_train= train_reg_smogn.Score\n",
    "X_test = test_set.drop(columns=['Score', 'Result'], axis =1)\n",
    "y_test= test_set.Score"
   ]
  },
  {
   "cell_type": "markdown",
   "metadata": {
    "id": "OC-7xQn5yLQG"
   },
   "source": [
    "# LGBMRegressor:\n"
   ]
  },
  {
   "cell_type": "code",
   "execution_count": 16,
   "metadata": {
    "executionInfo": {
     "elapsed": 10,
     "status": "ok",
     "timestamp": 1679210918837,
     "user": {
      "displayName": "Razan HL",
      "userId": "00189607576210306079"
     },
     "user_tz": -180
    },
    "id": "5Z7FerrccQop"
   },
   "outputs": [],
   "source": [
    "from lightgbm import LGBMRegressor\n",
    "lgbm = LGBMRegressor()"
   ]
  },
  {
   "cell_type": "code",
   "execution_count": 62,
   "metadata": {
    "executionInfo": {
     "elapsed": 5,
     "status": "ok",
     "timestamp": 1679212404653,
     "user": {
      "displayName": "Razan HL",
      "userId": "00189607576210306079"
     },
     "user_tz": -180
    },
    "id": "QF_8Xx6McQor"
   },
   "outputs": [],
   "source": [
    "lgbm_scaled = TransformedTargetRegressor(regressor=LGBMRegressor(), transformer=MinMaxScaler())\n",
    "lgbm_scaled_model = lgbm_scaled.fit(X_train, y_train)"
   ]
  },
  {
   "cell_type": "markdown",
   "metadata": {
    "id": "_Q2GuUs8ixra"
   },
   "source": [
    "smoter for train set only:"
   ]
  },
  {
   "cell_type": "code",
   "execution_count": 63,
   "metadata": {
    "colab": {
     "base_uri": "https://localhost:8080/"
    },
    "executionInfo": {
     "elapsed": 3783,
     "status": "ok",
     "timestamp": 1679212419764,
     "user": {
      "displayName": "Razan HL",
      "userId": "00189607576210306079"
     },
     "user_tz": -180
    },
    "id": "arDgnR-ZiLaL",
    "outputId": "1b7af84c-054e-4022-afc1-89d81ec44fc9"
   },
   "outputs": [
    {
     "data": {
      "text/plain": [
       "(0.9635947111852419, 0.7393700744070013)"
      ]
     },
     "execution_count": 63,
     "metadata": {},
     "output_type": "execute_result"
    }
   ],
   "source": [
    "# with scaling\n",
    "y_pred = lgbm_scaled_model.predict(X_test)\n",
    "lgbm_scaled_model.score(X_train, y_train), lgbm_scaled_model.score(X_test, y_test)"
   ]
  },
  {
   "cell_type": "code",
   "execution_count": 64,
   "metadata": {
    "colab": {
     "base_uri": "https://localhost:8080/"
    },
    "executionInfo": {
     "elapsed": 1557,
     "status": "ok",
     "timestamp": 1679212429318,
     "user": {
      "displayName": "Razan HL",
      "userId": "00189607576210306079"
     },
     "user_tz": -180
    },
    "id": "Y3lBEdNH0SVn",
    "outputId": "125cd514-f5f9-4915-93a9-e712bc87d987"
   },
   "outputs": [
    {
     "data": {
      "text/plain": [
       "(0.9635947118269553, 0.7393700714784125)"
      ]
     },
     "execution_count": 64,
     "metadata": {},
     "output_type": "execute_result"
    }
   ],
   "source": [
    "# no Scaling\n",
    "lgbm_model = lgbm.fit(X_train, y_train)\n",
    "y_pred2 = lgbm_model.predict(X_test)\n",
    "lgbm_model.score(X_train, y_train), lgbm_model.score(X_test, y_test)"
   ]
  },
  {
   "cell_type": "code",
   "execution_count": 65,
   "metadata": {
    "colab": {
     "base_uri": "https://localhost:8080/"
    },
    "executionInfo": {
     "elapsed": 11,
     "status": "ok",
     "timestamp": 1679212437497,
     "user": {
      "displayName": "Razan HL",
      "userId": "00189607576210306079"
     },
     "user_tz": -180
    },
    "id": "IIAQTfIWiZCl",
    "outputId": "5791de8f-cbd5-44c1-ae83-48cdaacb1f73"
   },
   "outputs": [
    {
     "data": {
      "text/plain": [
       "(0.43050874075763407, 0.4305087431763568)"
      ]
     },
     "execution_count": 65,
     "metadata": {},
     "output_type": "execute_result"
    }
   ],
   "source": [
    "RMSE_1 = (mean_squared_error(y_test, y_pred))**(1/2)\n",
    "RMSE_2 = (mean_squared_error(y_test, y_pred2))**(1/2)\n",
    "RMSE_1, RMSE_2 "
   ]
  },
  {
   "cell_type": "code",
   "execution_count": 72,
   "metadata": {
    "colab": {
     "base_uri": "https://localhost:8080/"
    },
    "executionInfo": {
     "elapsed": 3126,
     "status": "ok",
     "timestamp": 1679212518164,
     "user": {
      "displayName": "Razan HL",
      "userId": "00189607576210306079"
     },
     "user_tz": -180
    },
    "id": "bdFEyRiviY9m",
    "outputId": "10c39c3f-bbbb-4c1a-c36b-3a04f58e7c14"
   },
   "outputs": [
    {
     "data": {
      "text/plain": [
       "(4.118100315121855, 3.7331372552352935)"
      ]
     },
     "execution_count": 72,
     "metadata": {},
     "output_type": "execute_result"
    }
   ],
   "source": [
    "predicted = lgbm_model.predict([X_test.loc[0]]) \n",
    "real = y_test[0]\n",
    "predicted[0], real"
   ]
  },
  {
   "cell_type": "code",
   "execution_count": 121,
   "metadata": {
    "colab": {
     "base_uri": "https://localhost:8080/"
    },
    "executionInfo": {
     "elapsed": 898,
     "status": "ok",
     "timestamp": 1679217154719,
     "user": {
      "displayName": "Razan HL",
      "userId": "00189607576210306079"
     },
     "user_tz": -180
    },
    "id": "xB5Yauq1jDJX",
    "outputId": "3035632f-ad07-4c89-a6ed-417797422f8b"
   },
   "outputs": [
    {
     "data": {
      "text/plain": [
       "(2.138128295719558, 1.9566666670000004)"
      ]
     },
     "execution_count": 121,
     "metadata": {},
     "output_type": "execute_result"
    }
   ],
   "source": [
    "predicted = lgbm_model.predict([X_test.loc[33]]) \n",
    "real = y_test[33]\n",
    "predicted[0], real"
   ]
  },
  {
   "cell_type": "code",
   "execution_count": 68,
   "metadata": {
    "colab": {
     "base_uri": "https://localhost:8080/"
    },
    "executionInfo": {
     "elapsed": 2846,
     "status": "ok",
     "timestamp": 1679212481735,
     "user": {
      "displayName": "Razan HL",
      "userId": "00189607576210306079"
     },
     "user_tz": -180
    },
    "id": "9dFn3i91jDJY",
    "outputId": "907ca626-5c7e-4718-d2d7-7812d3a9764f"
   },
   "outputs": [
    {
     "data": {
      "text/plain": [
       "(3.7266126873480094, 4.092527472384616)"
      ]
     },
     "execution_count": 68,
     "metadata": {},
     "output_type": "execute_result"
    }
   ],
   "source": [
    "predicted = lgbm_model.predict([X_test.loc[30]]) \n",
    "real = y_test[30]\n",
    "predicted[0], real"
   ]
  },
  {
   "cell_type": "code",
   "execution_count": 69,
   "metadata": {
    "colab": {
     "base_uri": "https://localhost:8080/"
    },
    "executionInfo": {
     "elapsed": 6,
     "status": "ok",
     "timestamp": 1679212487443,
     "user": {
      "displayName": "Razan HL",
      "userId": "00189607576210306079"
     },
     "user_tz": -180
    },
    "id": "9s_3RqZRjDJZ",
    "outputId": "dbed4bcd-98e3-42af-83b0-24136934ab01"
   },
   "outputs": [
    {
     "data": {
      "text/plain": [
       "(4.263698559771855, 4.716333333111111)"
      ]
     },
     "execution_count": 69,
     "metadata": {},
     "output_type": "execute_result"
    }
   ],
   "source": [
    "predicted = lgbm_model.predict([X_test.loc[49]]) \n",
    "real = y_test[49]\n",
    "predicted[0], real"
   ]
  },
  {
   "cell_type": "code",
   "execution_count": 70,
   "metadata": {
    "colab": {
     "base_uri": "https://localhost:8080/"
    },
    "executionInfo": {
     "elapsed": 9,
     "status": "ok",
     "timestamp": 1679212493480,
     "user": {
      "displayName": "Razan HL",
      "userId": "00189607576210306079"
     },
     "user_tz": -180
    },
    "id": "r1exNlxJjDJa",
    "outputId": "d09d9a8e-ea6d-43a0-cf57-e3a8420f4c27"
   },
   "outputs": [
    {
     "data": {
      "text/plain": [
       "(2.3637381411472806, 2.303333333)"
      ]
     },
     "execution_count": 70,
     "metadata": {},
     "output_type": "execute_result"
    }
   ],
   "source": [
    "predicted = lgbm_model.predict([X_test.loc[50]]) \n",
    "real = y_test[50]\n",
    "predicted[0], real"
   ]
  },
  {
   "cell_type": "code",
   "execution_count": null,
   "metadata": {
    "id": "Et-PYasWjDJb"
   },
   "outputs": [],
   "source": [
    "feature_importances_lgbm = pd.DataFrame(lgbm_model.feature_importances_, index = X_train.columns, columns = ['importance']).sort_values('importance', ascending=False)\n"
   ]
  },
  {
   "cell_type": "code",
   "execution_count": 75,
   "metadata": {
    "colab": {
     "base_uri": "https://localhost:8080/",
     "height": 613
    },
    "executionInfo": {
     "elapsed": 1262,
     "status": "ok",
     "timestamp": 1679212704424,
     "user": {
      "displayName": "Razan HL",
      "userId": "00189607576210306079"
     },
     "user_tz": -180
    },
    "id": "P3S9fKDnjDJb",
    "outputId": "d316bcf2-79c4-438c-825f-865c108fad65"
   },
   "outputs": [
    {
     "data": {
      "text/html": [
       "\n",
       "  <div id=\"df-b403baac-f7b4-442d-847b-a7cb47592832\">\n",
       "    <div class=\"colab-df-container\">\n",
       "      <div>\n",
       "<style scoped>\n",
       "    .dataframe tbody tr th:only-of-type {\n",
       "        vertical-align: middle;\n",
       "    }\n",
       "\n",
       "    .dataframe tbody tr th {\n",
       "        vertical-align: top;\n",
       "    }\n",
       "\n",
       "    .dataframe thead th {\n",
       "        text-align: right;\n",
       "    }\n",
       "</style>\n",
       "<table border=\"1\" class=\"dataframe\">\n",
       "  <thead>\n",
       "    <tr style=\"text-align: right;\">\n",
       "      <th></th>\n",
       "      <th>importance</th>\n",
       "      <th>feature</th>\n",
       "    </tr>\n",
       "  </thead>\n",
       "  <tbody>\n",
       "    <tr>\n",
       "      <th>avg_recent_references</th>\n",
       "      <td>268</td>\n",
       "      <td>avg_recent_references</td>\n",
       "    </tr>\n",
       "    <tr>\n",
       "      <th>paper_len</th>\n",
       "      <td>234</td>\n",
       "      <td>paper_len</td>\n",
       "    </tr>\n",
       "    <tr>\n",
       "      <th>avg_words_per_sentence</th>\n",
       "      <td>231</td>\n",
       "      <td>avg_words_per_sentence</td>\n",
       "    </tr>\n",
       "    <tr>\n",
       "      <th>ar_word_count</th>\n",
       "      <td>216</td>\n",
       "      <td>ar_word_count</td>\n",
       "    </tr>\n",
       "    <tr>\n",
       "      <th>meadian_reference</th>\n",
       "      <td>204</td>\n",
       "      <td>meadian_reference</td>\n",
       "    </tr>\n",
       "    <tr>\n",
       "      <th>num_sentences</th>\n",
       "      <td>201</td>\n",
       "      <td>num_sentences</td>\n",
       "    </tr>\n",
       "    <tr>\n",
       "      <th>en_word_count</th>\n",
       "      <td>200</td>\n",
       "      <td>en_word_count</td>\n",
       "    </tr>\n",
       "    <tr>\n",
       "      <th>ar_word_avg</th>\n",
       "      <td>197</td>\n",
       "      <td>ar_word_avg</td>\n",
       "    </tr>\n",
       "    <tr>\n",
       "      <th>oldest_reference</th>\n",
       "      <td>180</td>\n",
       "      <td>oldest_reference</td>\n",
       "    </tr>\n",
       "    <tr>\n",
       "      <th>ref_mention_count</th>\n",
       "      <td>178</td>\n",
       "      <td>ref_mention_count</td>\n",
       "    </tr>\n",
       "    <tr>\n",
       "      <th>en_word_avg</th>\n",
       "      <td>163</td>\n",
       "      <td>en_word_avg</td>\n",
       "    </tr>\n",
       "    <tr>\n",
       "      <th>num_publication</th>\n",
       "      <td>156</td>\n",
       "      <td>num_publication</td>\n",
       "    </tr>\n",
       "    <tr>\n",
       "      <th>num_references</th>\n",
       "      <td>154</td>\n",
       "      <td>num_references</td>\n",
       "    </tr>\n",
       "    <tr>\n",
       "      <th>num_tables</th>\n",
       "      <td>126</td>\n",
       "      <td>num_tables</td>\n",
       "    </tr>\n",
       "    <tr>\n",
       "      <th>latest_reference</th>\n",
       "      <td>119</td>\n",
       "      <td>latest_reference</td>\n",
       "    </tr>\n",
       "    <tr>\n",
       "      <th>num_authors</th>\n",
       "      <td>101</td>\n",
       "      <td>num_authors</td>\n",
       "    </tr>\n",
       "    <tr>\n",
       "      <th>num_figurs</th>\n",
       "      <td>69</td>\n",
       "      <td>num_figurs</td>\n",
       "    </tr>\n",
       "    <tr>\n",
       "      <th>num_charts</th>\n",
       "      <td>3</td>\n",
       "      <td>num_charts</td>\n",
       "    </tr>\n",
       "  </tbody>\n",
       "</table>\n",
       "</div>\n",
       "      <button class=\"colab-df-convert\" onclick=\"convertToInteractive('df-b403baac-f7b4-442d-847b-a7cb47592832')\"\n",
       "              title=\"Convert this dataframe to an interactive table.\"\n",
       "              style=\"display:none;\">\n",
       "        \n",
       "  <svg xmlns=\"http://www.w3.org/2000/svg\" height=\"24px\"viewBox=\"0 0 24 24\"\n",
       "       width=\"24px\">\n",
       "    <path d=\"M0 0h24v24H0V0z\" fill=\"none\"/>\n",
       "    <path d=\"M18.56 5.44l.94 2.06.94-2.06 2.06-.94-2.06-.94-.94-2.06-.94 2.06-2.06.94zm-11 1L8.5 8.5l.94-2.06 2.06-.94-2.06-.94L8.5 2.5l-.94 2.06-2.06.94zm10 10l.94 2.06.94-2.06 2.06-.94-2.06-.94-.94-2.06-.94 2.06-2.06.94z\"/><path d=\"M17.41 7.96l-1.37-1.37c-.4-.4-.92-.59-1.43-.59-.52 0-1.04.2-1.43.59L10.3 9.45l-7.72 7.72c-.78.78-.78 2.05 0 2.83L4 21.41c.39.39.9.59 1.41.59.51 0 1.02-.2 1.41-.59l7.78-7.78 2.81-2.81c.8-.78.8-2.07 0-2.86zM5.41 20L4 18.59l7.72-7.72 1.47 1.35L5.41 20z\"/>\n",
       "  </svg>\n",
       "      </button>\n",
       "      \n",
       "  <style>\n",
       "    .colab-df-container {\n",
       "      display:flex;\n",
       "      flex-wrap:wrap;\n",
       "      gap: 12px;\n",
       "    }\n",
       "\n",
       "    .colab-df-convert {\n",
       "      background-color: #E8F0FE;\n",
       "      border: none;\n",
       "      border-radius: 50%;\n",
       "      cursor: pointer;\n",
       "      display: none;\n",
       "      fill: #1967D2;\n",
       "      height: 32px;\n",
       "      padding: 0 0 0 0;\n",
       "      width: 32px;\n",
       "    }\n",
       "\n",
       "    .colab-df-convert:hover {\n",
       "      background-color: #E2EBFA;\n",
       "      box-shadow: 0px 1px 2px rgba(60, 64, 67, 0.3), 0px 1px 3px 1px rgba(60, 64, 67, 0.15);\n",
       "      fill: #174EA6;\n",
       "    }\n",
       "\n",
       "    [theme=dark] .colab-df-convert {\n",
       "      background-color: #3B4455;\n",
       "      fill: #D2E3FC;\n",
       "    }\n",
       "\n",
       "    [theme=dark] .colab-df-convert:hover {\n",
       "      background-color: #434B5C;\n",
       "      box-shadow: 0px 1px 3px 1px rgba(0, 0, 0, 0.15);\n",
       "      filter: drop-shadow(0px 1px 2px rgba(0, 0, 0, 0.3));\n",
       "      fill: #FFFFFF;\n",
       "    }\n",
       "  </style>\n",
       "\n",
       "      <script>\n",
       "        const buttonEl =\n",
       "          document.querySelector('#df-b403baac-f7b4-442d-847b-a7cb47592832 button.colab-df-convert');\n",
       "        buttonEl.style.display =\n",
       "          google.colab.kernel.accessAllowed ? 'block' : 'none';\n",
       "\n",
       "        async function convertToInteractive(key) {\n",
       "          const element = document.querySelector('#df-b403baac-f7b4-442d-847b-a7cb47592832');\n",
       "          const dataTable =\n",
       "            await google.colab.kernel.invokeFunction('convertToInteractive',\n",
       "                                                     [key], {});\n",
       "          if (!dataTable) return;\n",
       "\n",
       "          const docLinkHtml = 'Like what you see? Visit the ' +\n",
       "            '<a target=\"_blank\" href=https://colab.research.google.com/notebooks/data_table.ipynb>data table notebook</a>'\n",
       "            + ' to learn more about interactive tables.';\n",
       "          element.innerHTML = '';\n",
       "          dataTable['output_type'] = 'display_data';\n",
       "          await google.colab.output.renderOutput(dataTable, element);\n",
       "          const docLink = document.createElement('div');\n",
       "          docLink.innerHTML = docLinkHtml;\n",
       "          element.appendChild(docLink);\n",
       "        }\n",
       "      </script>\n",
       "    </div>\n",
       "  </div>\n",
       "  "
      ],
      "text/plain": [
       "                        importance                 feature\n",
       "avg_recent_references          268   avg_recent_references\n",
       "paper_len                      234               paper_len\n",
       "avg_words_per_sentence         231  avg_words_per_sentence\n",
       "ar_word_count                  216           ar_word_count\n",
       "meadian_reference              204       meadian_reference\n",
       "num_sentences                  201           num_sentences\n",
       "en_word_count                  200           en_word_count\n",
       "ar_word_avg                    197             ar_word_avg\n",
       "oldest_reference               180        oldest_reference\n",
       "ref_mention_count              178       ref_mention_count\n",
       "en_word_avg                    163             en_word_avg\n",
       "num_publication                156         num_publication\n",
       "num_references                 154          num_references\n",
       "num_tables                     126              num_tables\n",
       "latest_reference               119        latest_reference\n",
       "num_authors                    101             num_authors\n",
       "num_figurs                      69              num_figurs\n",
       "num_charts                       3              num_charts"
      ]
     },
     "execution_count": 75,
     "metadata": {},
     "output_type": "execute_result"
    }
   ],
   "source": [
    "feature_importances_lgbm['feature'] = feature_importances_lgbm.index\n",
    "feature_importances_lgbm"
   ]
  },
  {
   "cell_type": "code",
   "execution_count": 76,
   "metadata": {
    "colab": {
     "base_uri": "https://localhost:8080/",
     "height": 592
    },
    "executionInfo": {
     "elapsed": 41,
     "status": "ok",
     "timestamp": 1679212731644,
     "user": {
      "displayName": "Razan HL",
      "userId": "00189607576210306079"
     },
     "user_tz": -180
    },
    "id": "ToqOFEfQjDJc",
    "outputId": "008c068c-b9dc-4277-c2f3-650fd6d86bbc"
   },
   "outputs": [
    {
     "data": {
      "image/png": "[encoded data removed]",
      "text/plain": [
       "<Figure size 1080x720 with 1 Axes>"
      ]
     },
     "metadata": {
      "needs_background": "light"
     },
     "output_type": "display_data"
    }
   ],
   "source": [
    "fig, ax = plt.subplots(figsize=(15, 10))\n",
    "\n",
    "ax.barh(feature_importances_lgbm.feature, feature_importances_lgbm.importance, height=0.55, align=\"edge\", color=\"#07a2a2\");\n",
    "plt.show()"
   ]
  },
  {
   "cell_type": "code",
   "execution_count": null,
   "metadata": {
    "id": "ScPUH4OEiY1R"
   },
   "outputs": [],
   "source": []
  },
  {
   "cell_type": "code",
   "execution_count": null,
   "metadata": {
    "id": "KYaVS10CikSe"
   },
   "outputs": [],
   "source": []
  },
  {
   "cell_type": "code",
   "execution_count": null,
   "metadata": {
    "id": "Z4FpkqsEikPR"
   },
   "outputs": [],
   "source": []
  },
  {
   "cell_type": "markdown",
   "metadata": {
    "id": "JaGEgIN_isrx"
   },
   "source": [
    "smoter for train & test set"
   ]
  },
  {
   "cell_type": "code",
   "execution_count": null,
   "metadata": {
    "colab": {
     "base_uri": "https://localhost:8080/"
    },
    "executionInfo": {
     "elapsed": 467,
     "status": "ok",
     "timestamp": 1678344095814,
     "user": {
      "displayName": "Razan HL",
      "userId": "00189607576210306079"
     },
     "user_tz": -180
    },
    "id": "Hkm-lDMnGnP6",
    "outputId": "5bdbfcab-02f9-4e99-e229-900d2ae68d9b"
   },
   "outputs": [
    {
     "data": {
      "text/plain": [
       "(0.9554707076935761, 0.7646003413446891)"
      ]
     },
     "execution_count": 48,
     "metadata": {},
     "output_type": "execute_result"
    }
   ],
   "source": [
    "# with scaling\n",
    "y_pred = lgbm_scaled_model.predict(X_test)\n",
    "lgbm_scaled_model.score(X_train, y_train), lgbm_scaled_model.score(X_test, y_test)"
   ]
  },
  {
   "cell_type": "code",
   "execution_count": null,
   "metadata": {
    "colab": {
     "base_uri": "https://localhost:8080/"
    },
    "executionInfo": {
     "elapsed": 2742,
     "status": "ok",
     "timestamp": 1678344134232,
     "user": {
      "displayName": "Razan HL",
      "userId": "00189607576210306079"
     },
     "user_tz": -180
    },
    "id": "EddwUsmwGvdx",
    "outputId": "b15bc28c-f70a-40c8-a3a9-1c1d57dc2f95"
   },
   "outputs": [
    {
     "data": {
      "text/plain": [
       "(0.9554707082425147, 0.7646003392012015)"
      ]
     },
     "execution_count": 49,
     "metadata": {},
     "output_type": "execute_result"
    }
   ],
   "source": [
    "# no Scaling\n",
    "lgbm_model = lgbm.fit(X_train, y_train)\n",
    "y_pred2 = lgbm_model.predict(X_test)\n",
    "lgbm_model.score(X_train, y_train), lgbm_model.score(X_test, y_test)"
   ]
  },
  {
   "cell_type": "code",
   "execution_count": null,
   "metadata": {
    "colab": {
     "base_uri": "https://localhost:8080/"
    },
    "executionInfo": {
     "elapsed": 439,
     "status": "ok",
     "timestamp": 1678360153981,
     "user": {
      "displayName": "Razan HL",
      "userId": "00189607576210306079"
     },
     "user_tz": -180
    },
    "id": "uO_4rg_EDuZv",
    "outputId": "943d7166-9fc7-42a9-9a31-9c27987878a7"
   },
   "outputs": [
    {
     "data": {
      "text/plain": [
       "(0.48443945546079864, 0.48443945869880184)"
      ]
     },
     "execution_count": 20,
     "metadata": {},
     "output_type": "execute_result"
    }
   ],
   "source": [
    "RMSE_1 = (mean_squared_error(y_test, y_pred))**(1/2)\n",
    "RMSE_2 = (mean_squared_error(y_test, y_pred2))**(1/2)\n",
    "RMSE_1, RMSE_2 "
   ]
  },
  {
   "cell_type": "code",
   "execution_count": null,
   "metadata": {
    "colab": {
     "base_uri": "https://localhost:8080/"
    },
    "executionInfo": {
     "elapsed": 657,
     "status": "ok",
     "timestamp": 1678359319061,
     "user": {
      "displayName": "Razan HL",
      "userId": "00189607576210306079"
     },
     "user_tz": -180
    },
    "id": "M_c_bc-CHC-K",
    "outputId": "d7aa6251-647b-4240-e1c5-b3c7c7ef3864"
   },
   "outputs": [
    {
     "data": {
      "text/plain": [
       "(3.893969387389412, 3.7331372552352935)"
      ]
     },
     "execution_count": 17,
     "metadata": {},
     "output_type": "execute_result"
    }
   ],
   "source": [
    "predicted = lgbm_model.predict([X_test.loc[0]]) \n",
    "real = y_test[0]\n",
    "predicted[0], real"
   ]
  },
  {
   "cell_type": "code",
   "execution_count": null,
   "metadata": {
    "colab": {
     "base_uri": "https://localhost:8080/"
    },
    "executionInfo": {
     "elapsed": 365,
     "status": "ok",
     "timestamp": 1678360384564,
     "user": {
      "displayName": "Razan HL",
      "userId": "00189607576210306079"
     },
     "user_tz": -180
    },
    "id": "Fh1jbaeXvkq4",
    "outputId": "619047c9-8e71-4bed-b6f7-7f69768738e5"
   },
   "outputs": [
    {
     "data": {
      "text/plain": [
       "(3.635312866382812, 4.029999999999999)"
      ]
     },
     "execution_count": 21,
     "metadata": {},
     "output_type": "execute_result"
    }
   ],
   "source": [
    "predicted = lgbm_model.predict([X_test.loc[3]]) \n",
    "real = y_test[3]\n",
    "predicted[0], real"
   ]
  },
  {
   "cell_type": "code",
   "execution_count": null,
   "metadata": {
    "colab": {
     "base_uri": "https://localhost:8080/"
    },
    "executionInfo": {
     "elapsed": 393,
     "status": "ok",
     "timestamp": 1678344400863,
     "user": {
      "displayName": "Razan HL",
      "userId": "00189607576210306079"
     },
     "user_tz": -180
    },
    "id": "vCdupzKWcr5r",
    "outputId": "025e92c5-321b-4fd1-87d8-74c1a68bb3cd"
   },
   "outputs": [
    {
     "data": {
      "text/plain": [
       "(3.79320689674686, 3.7258085106382977)"
      ]
     },
     "execution_count": 59,
     "metadata": {},
     "output_type": "execute_result"
    }
   ],
   "source": [
    "predicted = lgbm_model.predict([X_test.loc[30]]) \n",
    "real = y_test[30]\n",
    "predicted[0], real"
   ]
  },
  {
   "cell_type": "code",
   "execution_count": null,
   "metadata": {
    "colab": {
     "base_uri": "https://localhost:8080/"
    },
    "executionInfo": {
     "elapsed": 9,
     "status": "ok",
     "timestamp": 1678344359305,
     "user": {
      "displayName": "Razan HL",
      "userId": "00189607576210306079"
     },
     "user_tz": -180
    },
    "id": "hLWWcBEBsuVv",
    "outputId": "17053dcf-6482-4990-aa46-b7f0691bff92"
   },
   "outputs": [
    {
     "data": {
      "text/plain": [
       "(2.651539950216789, 2.8716666666666666)"
      ]
     },
     "execution_count": 57,
     "metadata": {},
     "output_type": "execute_result"
    }
   ],
   "source": [
    "predicted = lgbm_model.predict([X_test.loc[49]]) \n",
    "real = y_test[49]\n",
    "predicted[0], real"
   ]
  },
  {
   "cell_type": "code",
   "execution_count": null,
   "metadata": {
    "colab": {
     "base_uri": "https://localhost:8080/"
    },
    "executionInfo": {
     "elapsed": 1032,
     "status": "ok",
     "timestamp": 1678344350171,
     "user": {
      "displayName": "Razan HL",
      "userId": "00189607576210306079"
     },
     "user_tz": -180
    },
    "id": "5BUvVDm_p-Yp",
    "outputId": "b749c0f7-edcc-469f-f266-ee69626e9605"
   },
   "outputs": [
    {
     "data": {
      "text/plain": [
       "(3.602211312939166, 3.108587570288136)"
      ]
     },
     "execution_count": 56,
     "metadata": {},
     "output_type": "execute_result"
    }
   ],
   "source": [
    "predicted = lgbm_model.predict([X_test.loc[50]]) \n",
    "real = y_test[50]\n",
    "predicted[0], real"
   ]
  },
  {
   "cell_type": "code",
   "execution_count": null,
   "metadata": {
    "id": "YhhHTr64HTxT"
   },
   "outputs": [],
   "source": [
    "feature_importances_lgbm = pd.DataFrame(lgbm_model.feature_importances_, index = X_train.columns, columns = ['importance']).sort_values('importance', ascending=False)\n",
    "feature_importances_lgbm"
   ]
  },
  {
   "cell_type": "code",
   "execution_count": null,
   "metadata": {
    "colab": {
     "base_uri": "https://localhost:8080/",
     "height": 613
    },
    "executionInfo": {
     "elapsed": 947,
     "status": "ok",
     "timestamp": 1678344426793,
     "user": {
      "displayName": "Razan HL",
      "userId": "00189607576210306079"
     },
     "user_tz": -180
    },
    "id": "840EGyzJImeI",
    "outputId": "2e176b0a-3342-4252-a886-5984a6393cba"
   },
   "outputs": [
    {
     "data": {
      "text/html": [
       "\n",
       "  <div id=\"df-b362a3b5-1dc5-4c60-90c9-4f01792a9656\">\n",
       "    <div class=\"colab-df-container\">\n",
       "      <div>\n",
       "<style scoped>\n",
       "    .dataframe tbody tr th:only-of-type {\n",
       "        vertical-align: middle;\n",
       "    }\n",
       "\n",
       "    .dataframe tbody tr th {\n",
       "        vertical-align: top;\n",
       "    }\n",
       "\n",
       "    .dataframe thead th {\n",
       "        text-align: right;\n",
       "    }\n",
       "</style>\n",
       "<table border=\"1\" class=\"dataframe\">\n",
       "  <thead>\n",
       "    <tr style=\"text-align: right;\">\n",
       "      <th></th>\n",
       "      <th>importance</th>\n",
       "      <th>feature</th>\n",
       "    </tr>\n",
       "  </thead>\n",
       "  <tbody>\n",
       "    <tr>\n",
       "      <th>avg_recent_references</th>\n",
       "      <td>274</td>\n",
       "      <td>avg_recent_references</td>\n",
       "    </tr>\n",
       "    <tr>\n",
       "      <th>avg_words_per_sentence</th>\n",
       "      <td>236</td>\n",
       "      <td>avg_words_per_sentence</td>\n",
       "    </tr>\n",
       "    <tr>\n",
       "      <th>ar_word_count</th>\n",
       "      <td>222</td>\n",
       "      <td>ar_word_count</td>\n",
       "    </tr>\n",
       "    <tr>\n",
       "      <th>en_word_count</th>\n",
       "      <td>221</td>\n",
       "      <td>en_word_count</td>\n",
       "    </tr>\n",
       "    <tr>\n",
       "      <th>ref_mention_count</th>\n",
       "      <td>212</td>\n",
       "      <td>ref_mention_count</td>\n",
       "    </tr>\n",
       "    <tr>\n",
       "      <th>ar_word_avg</th>\n",
       "      <td>203</td>\n",
       "      <td>ar_word_avg</td>\n",
       "    </tr>\n",
       "    <tr>\n",
       "      <th>paper_len</th>\n",
       "      <td>197</td>\n",
       "      <td>paper_len</td>\n",
       "    </tr>\n",
       "    <tr>\n",
       "      <th>meadian_reference</th>\n",
       "      <td>192</td>\n",
       "      <td>meadian_reference</td>\n",
       "    </tr>\n",
       "    <tr>\n",
       "      <th>oldest_reference</th>\n",
       "      <td>185</td>\n",
       "      <td>oldest_reference</td>\n",
       "    </tr>\n",
       "    <tr>\n",
       "      <th>num_sentences</th>\n",
       "      <td>181</td>\n",
       "      <td>num_sentences</td>\n",
       "    </tr>\n",
       "    <tr>\n",
       "      <th>en_word_avg</th>\n",
       "      <td>180</td>\n",
       "      <td>en_word_avg</td>\n",
       "    </tr>\n",
       "    <tr>\n",
       "      <th>num_publication</th>\n",
       "      <td>150</td>\n",
       "      <td>num_publication</td>\n",
       "    </tr>\n",
       "    <tr>\n",
       "      <th>num_references</th>\n",
       "      <td>148</td>\n",
       "      <td>num_references</td>\n",
       "    </tr>\n",
       "    <tr>\n",
       "      <th>num_tables</th>\n",
       "      <td>138</td>\n",
       "      <td>num_tables</td>\n",
       "    </tr>\n",
       "    <tr>\n",
       "      <th>latest_reference</th>\n",
       "      <td>113</td>\n",
       "      <td>latest_reference</td>\n",
       "    </tr>\n",
       "    <tr>\n",
       "      <th>num_authors</th>\n",
       "      <td>80</td>\n",
       "      <td>num_authors</td>\n",
       "    </tr>\n",
       "    <tr>\n",
       "      <th>num_figurs</th>\n",
       "      <td>65</td>\n",
       "      <td>num_figurs</td>\n",
       "    </tr>\n",
       "    <tr>\n",
       "      <th>num_charts</th>\n",
       "      <td>3</td>\n",
       "      <td>num_charts</td>\n",
       "    </tr>\n",
       "  </tbody>\n",
       "</table>\n",
       "</div>\n",
       "      <button class=\"colab-df-convert\" onclick=\"convertToInteractive('df-b362a3b5-1dc5-4c60-90c9-4f01792a9656')\"\n",
       "              title=\"Convert this dataframe to an interactive table.\"\n",
       "              style=\"display:none;\">\n",
       "        \n",
       "  <svg xmlns=\"http://www.w3.org/2000/svg\" height=\"24px\"viewBox=\"0 0 24 24\"\n",
       "       width=\"24px\">\n",
       "    <path d=\"M0 0h24v24H0V0z\" fill=\"none\"/>\n",
       "    <path d=\"M18.56 5.44l.94 2.06.94-2.06 2.06-.94-2.06-.94-.94-2.06-.94 2.06-2.06.94zm-11 1L8.5 8.5l.94-2.06 2.06-.94-2.06-.94L8.5 2.5l-.94 2.06-2.06.94zm10 10l.94 2.06.94-2.06 2.06-.94-2.06-.94-.94-2.06-.94 2.06-2.06.94z\"/><path d=\"M17.41 7.96l-1.37-1.37c-.4-.4-.92-.59-1.43-.59-.52 0-1.04.2-1.43.59L10.3 9.45l-7.72 7.72c-.78.78-.78 2.05 0 2.83L4 21.41c.39.39.9.59 1.41.59.51 0 1.02-.2 1.41-.59l7.78-7.78 2.81-2.81c.8-.78.8-2.07 0-2.86zM5.41 20L4 18.59l7.72-7.72 1.47 1.35L5.41 20z\"/>\n",
       "  </svg>\n",
       "      </button>\n",
       "      \n",
       "  <style>\n",
       "    .colab-df-container {\n",
       "      display:flex;\n",
       "      flex-wrap:wrap;\n",
       "      gap: 12px;\n",
       "    }\n",
       "\n",
       "    .colab-df-convert {\n",
       "      background-color: #E8F0FE;\n",
       "      border: none;\n",
       "      border-radius: 50%;\n",
       "      cursor: pointer;\n",
       "      display: none;\n",
       "      fill: #1967D2;\n",
       "      height: 32px;\n",
       "      padding: 0 0 0 0;\n",
       "      width: 32px;\n",
       "    }\n",
       "\n",
       "    .colab-df-convert:hover {\n",
       "      background-color: #E2EBFA;\n",
       "      box-shadow: 0px 1px 2px rgba(60, 64, 67, 0.3), 0px 1px 3px 1px rgba(60, 64, 67, 0.15);\n",
       "      fill: #174EA6;\n",
       "    }\n",
       "\n",
       "    [theme=dark] .colab-df-convert {\n",
       "      background-color: #3B4455;\n",
       "      fill: #D2E3FC;\n",
       "    }\n",
       "\n",
       "    [theme=dark] .colab-df-convert:hover {\n",
       "      background-color: #434B5C;\n",
       "      box-shadow: 0px 1px 3px 1px rgba(0, 0, 0, 0.15);\n",
       "      filter: drop-shadow(0px 1px 2px rgba(0, 0, 0, 0.3));\n",
       "      fill: #FFFFFF;\n",
       "    }\n",
       "  </style>\n",
       "\n",
       "      <script>\n",
       "        const buttonEl =\n",
       "          document.querySelector('#df-b362a3b5-1dc5-4c60-90c9-4f01792a9656 button.colab-df-convert');\n",
       "        buttonEl.style.display =\n",
       "          google.colab.kernel.accessAllowed ? 'block' : 'none';\n",
       "\n",
       "        async function convertToInteractive(key) {\n",
       "          const element = document.querySelector('#df-b362a3b5-1dc5-4c60-90c9-4f01792a9656');\n",
       "          const dataTable =\n",
       "            await google.colab.kernel.invokeFunction('convertToInteractive',\n",
       "                                                     [key], {});\n",
       "          if (!dataTable) return;\n",
       "\n",
       "          const docLinkHtml = 'Like what you see? Visit the ' +\n",
       "            '<a target=\"_blank\" href=https://colab.research.google.com/notebooks/data_table.ipynb>data table notebook</a>'\n",
       "            + ' to learn more about interactive tables.';\n",
       "          element.innerHTML = '';\n",
       "          dataTable['output_type'] = 'display_data';\n",
       "          await google.colab.output.renderOutput(dataTable, element);\n",
       "          const docLink = document.createElement('div');\n",
       "          docLink.innerHTML = docLinkHtml;\n",
       "          element.appendChild(docLink);\n",
       "        }\n",
       "      </script>\n",
       "    </div>\n",
       "  </div>\n",
       "  "
      ],
      "text/plain": [
       "                        importance                 feature\n",
       "avg_recent_references          274   avg_recent_references\n",
       "avg_words_per_sentence         236  avg_words_per_sentence\n",
       "ar_word_count                  222           ar_word_count\n",
       "en_word_count                  221           en_word_count\n",
       "ref_mention_count              212       ref_mention_count\n",
       "ar_word_avg                    203             ar_word_avg\n",
       "paper_len                      197               paper_len\n",
       "meadian_reference              192       meadian_reference\n",
       "oldest_reference               185        oldest_reference\n",
       "num_sentences                  181           num_sentences\n",
       "en_word_avg                    180             en_word_avg\n",
       "num_publication                150         num_publication\n",
       "num_references                 148          num_references\n",
       "num_tables                     138              num_tables\n",
       "latest_reference               113        latest_reference\n",
       "num_authors                     80             num_authors\n",
       "num_figurs                      65              num_figurs\n",
       "num_charts                       3              num_charts"
      ]
     },
     "execution_count": 61,
     "metadata": {},
     "output_type": "execute_result"
    }
   ],
   "source": [
    "feature_importances_lgbm['feature'] = feature_importances_lgbm.index\n",
    "feature_importances_lgbm"
   ]
  },
  {
   "cell_type": "code",
   "execution_count": null,
   "metadata": {
    "colab": {
     "base_uri": "https://localhost:8080/",
     "height": 592
    },
    "executionInfo": {
     "elapsed": 549,
     "status": "ok",
     "timestamp": 1678344476686,
     "user": {
      "displayName": "Razan HL",
      "userId": "00189607576210306079"
     },
     "user_tz": -180
    },
    "id": "UwVpAI2UOyxC",
    "outputId": "596cc9ff-8858-4073-b004-ee71af541ca6"
   },
   "outputs": [
    {
     "data": {
      "image/png": "[encoded data removed]",
      "text/plain": [
       "<Figure size 1080x720 with 1 Axes>"
      ]
     },
     "metadata": {
      "needs_background": "light"
     },
     "output_type": "display_data"
    }
   ],
   "source": [
    "fig, ax = plt.subplots(figsize=(15, 10))\n",
    "\n",
    "ax.barh(feature_importances_lgbm.feature, feature_importances_lgbm.importance, height=0.55, align=\"edge\", color=\"#07a2a2\");\n",
    "plt.show()"
   ]
  },
  {
   "cell_type": "code",
   "execution_count": null,
   "metadata": {
    "id": "1CmG7gHFV91u"
   },
   "outputs": [],
   "source": []
  },
  {
   "cell_type": "code",
   "execution_count": null,
   "metadata": {
    "id": "66tVn8-ZZnjV"
   },
   "outputs": [],
   "source": []
  },
  {
   "cell_type": "markdown",
   "metadata": {
    "id": "WN3E0L7VyDzX"
   },
   "source": [
    "# XGBRegressor:"
   ]
  },
  {
   "cell_type": "markdown",
   "metadata": {
    "id": "5vE9GpzBjmOQ"
   },
   "source": [
    "smoter for train set only:"
   ]
  },
  {
   "cell_type": "code",
   "execution_count": 77,
   "metadata": {
    "colab": {
     "base_uri": "https://localhost:8080/"
    },
    "executionInfo": {
     "elapsed": 52906,
     "status": "ok",
     "timestamp": 1679212856703,
     "user": {
      "displayName": "Razan HL",
      "userId": "00189607576210306079"
     },
     "user_tz": -180
    },
    "id": "UQUNTDFbfUqK",
    "outputId": "537a6218-4b09-40ad-d07b-daeded5d066d"
   },
   "outputs": [
    {
     "data": {
      "text/plain": [
       "(0.9995841344698821, 0.8137039839022491)"
      ]
     },
     "execution_count": 77,
     "metadata": {},
     "output_type": "execute_result"
    }
   ],
   "source": [
    "parameters = {\n",
    "    'max_depth': [3, 5, 10],\n",
    "    'n_estimators': [100, 150, 200, 500, 700],\n",
    "    'learning_rate': [0.05, 0.1, 0.25, 1]\n",
    "    }\n",
    "xgbm = XGBRegressor()\n",
    "xgbm_cv = RandomizedSearchCV(xgbm, parameters, scoring = 'r2')\n",
    "xgbm_cv.fit(X_train, y_train)\n",
    "xgbm_cv.score(X_train, y_train), xgbm_cv.score(X_test, y_test)"
   ]
  },
  {
   "cell_type": "code",
   "execution_count": 78,
   "metadata": {
    "colab": {
     "base_uri": "https://localhost:8080/"
    },
    "executionInfo": {
     "elapsed": 42,
     "status": "ok",
     "timestamp": 1679212861712,
     "user": {
      "displayName": "Razan HL",
      "userId": "00189607576210306079"
     },
     "user_tz": -180
    },
    "id": "vT7BWg7-yabP",
    "outputId": "fa022076-7b6e-4911-f807-9c7eb9985a31"
   },
   "outputs": [
    {
     "data": {
      "text/plain": [
       "{'n_estimators': 700, 'max_depth': 5, 'learning_rate': 0.1}"
      ]
     },
     "execution_count": 78,
     "metadata": {},
     "output_type": "execute_result"
    }
   ],
   "source": [
    "xgbm_cv.best_params_ "
   ]
  },
  {
   "cell_type": "code",
   "execution_count": 79,
   "metadata": {
    "colab": {
     "base_uri": "https://localhost:8080/"
    },
    "executionInfo": {
     "elapsed": 9492,
     "status": "ok",
     "timestamp": 1679212891325,
     "user": {
      "displayName": "Razan HL",
      "userId": "00189607576210306079"
     },
     "user_tz": -180
    },
    "id": "R2RZOK2KgQRX",
    "outputId": "ee96050a-38d5-4807-d145-ca8da4ffcc34"
   },
   "outputs": [
    {
     "data": {
      "text/plain": [
       "(0.826783628899986, 0.9999713731433432)"
      ]
     },
     "execution_count": 79,
     "metadata": {},
     "output_type": "execute_result"
    }
   ],
   "source": [
    "xgbm_cv = XGBRegressor(n_estimators= 700, learning_rate=0.1, max_depth=10)\n",
    "# with scaling:\n",
    "regression_xgbm_cv = TransformedTargetRegressor(regressor=xgbm_cv, transformer=MinMaxScaler())\n",
    "\n",
    "regression_xgbm_cv.fit(X_train, y_train)\n",
    "y_pred = regression_xgbm_cv.predict(X_test)\n",
    "regression_xgbm_cv.score(X_test, y_test), regression_xgbm_cv.score(X_train, y_train)"
   ]
  },
  {
   "cell_type": "code",
   "execution_count": 94,
   "metadata": {
    "colab": {
     "base_uri": "https://localhost:8080/"
    },
    "executionInfo": {
     "elapsed": 3212,
     "status": "ok",
     "timestamp": 1679214949509,
     "user": {
      "displayName": "Razan HL",
      "userId": "00189607576210306079"
     },
     "user_tz": -180
    },
    "id": "ns86nvGPgQKK",
    "outputId": "22f3c4fd-68d8-48cc-c349-c7ff3b3d99f2"
   },
   "outputs": [
    {
     "data": {
      "text/plain": [
       "(0.8058538216699973, 0.9999979015071316)"
      ]
     },
     "execution_count": 94,
     "metadata": {},
     "output_type": "execute_result"
    }
   ],
   "source": [
    "# no scaling:\n",
    "xgbm_cv.fit(X_train, y_train)\n",
    "y_pred2 = xgbm_cv.predict(X_test)\n",
    "xgbm_cv.score(X_test, y_test), xgbm_cv.score(X_train, y_train)"
   ]
  },
  {
   "cell_type": "code",
   "execution_count": 95,
   "metadata": {
    "colab": {
     "base_uri": "https://localhost:8080/"
    },
    "executionInfo": {
     "elapsed": 524,
     "status": "ok",
     "timestamp": 1679214968520,
     "user": {
      "displayName": "Razan HL",
      "userId": "00189607576210306079"
     },
     "user_tz": -180
    },
    "id": "S0AfUAr8gYe5",
    "outputId": "fe90dae6-13db-489a-9482-4e769e028969"
   },
   "outputs": [
    {
     "data": {
      "text/plain": [
       "(0.35096539825694384, 0.37156453642135234)"
      ]
     },
     "execution_count": 95,
     "metadata": {},
     "output_type": "execute_result"
    }
   ],
   "source": [
    "RMSE_cv_1 = (mean_squared_error(y_test, y_pred))**(1/2)\n",
    "RMSE_cv_2 = (mean_squared_error(y_test, y_pred2))**(1/2)\n",
    "RMSE_cv_1, RMSE_cv_2 "
   ]
  },
  {
   "cell_type": "code",
   "execution_count": 96,
   "metadata": {
    "colab": {
     "base_uri": "https://localhost:8080/"
    },
    "executionInfo": {
     "elapsed": 460,
     "status": "ok",
     "timestamp": 1679214975957,
     "user": {
      "displayName": "Razan HL",
      "userId": "00189607576210306079"
     },
     "user_tz": -180
    },
    "id": "OWFx3PbDgYZq",
    "outputId": "0725276b-73b0-4aa2-f8ff-8acddeecfed2"
   },
   "outputs": [
    {
     "data": {
      "text/plain": [
       "(4.1826754, 3.7331372552352935)"
      ]
     },
     "execution_count": 96,
     "metadata": {},
     "output_type": "execute_result"
    }
   ],
   "source": [
    "predicted = xgbm_cv.predict(X_test[0:1]) \n",
    "real = y_test[0]\n",
    "predicted[0], real"
   ]
  },
  {
   "cell_type": "code",
   "execution_count": 122,
   "metadata": {
    "colab": {
     "base_uri": "https://localhost:8080/"
    },
    "executionInfo": {
     "elapsed": 731,
     "status": "ok",
     "timestamp": 1679217529729,
     "user": {
      "displayName": "Razan HL",
      "userId": "00189607576210306079"
     },
     "user_tz": -180
    },
    "id": "RJJh8upAgnyk",
    "outputId": "35f817a6-21e4-4f72-9117-2c2d10e840ee"
   },
   "outputs": [
    {
     "data": {
      "text/plain": [
       "(1.956656, 1.9566666670000004)"
      ]
     },
     "execution_count": 122,
     "metadata": {},
     "output_type": "execute_result"
    }
   ],
   "source": [
    "predicted = xgbm_cv.predict(X_test.loc[33:34]) \n",
    "real = y_test[33]\n",
    "predicted[0], real"
   ]
  },
  {
   "cell_type": "code",
   "execution_count": 98,
   "metadata": {
    "colab": {
     "base_uri": "https://localhost:8080/"
    },
    "executionInfo": {
     "elapsed": 970,
     "status": "ok",
     "timestamp": 1679214996890,
     "user": {
      "displayName": "Razan HL",
      "userId": "00189607576210306079"
     },
     "user_tz": -180
    },
    "id": "D0bfh_VMgnva",
    "outputId": "971c1779-1a80-47f5-d6c2-9065b5d541c1"
   },
   "outputs": [
    {
     "data": {
      "text/plain": [
       "(4.091426, 4.092527472384616)"
      ]
     },
     "execution_count": 98,
     "metadata": {},
     "output_type": "execute_result"
    }
   ],
   "source": [
    "predicted = xgbm_cv.predict(X_test.loc[30:31]) \n",
    "real = y_test[30]\n",
    "predicted[0], real"
   ]
  },
  {
   "cell_type": "code",
   "execution_count": 99,
   "metadata": {
    "colab": {
     "base_uri": "https://localhost:8080/"
    },
    "executionInfo": {
     "elapsed": 612,
     "status": "ok",
     "timestamp": 1679215004383,
     "user": {
      "displayName": "Razan HL",
      "userId": "00189607576210306079"
     },
     "user_tz": -180
    },
    "id": "Vv5uiLrfgnqy",
    "outputId": "d5cfcfdf-bf16-4ffb-d854-15b228f45c50"
   },
   "outputs": [
    {
     "data": {
      "text/plain": [
       "(4.7148504, 4.716333333111111)"
      ]
     },
     "execution_count": 99,
     "metadata": {},
     "output_type": "execute_result"
    }
   ],
   "source": [
    "predicted = xgbm_cv.predict(X_test.loc[49:50]) \n",
    "real = y_test[49]\n",
    "predicted[0], real"
   ]
  },
  {
   "cell_type": "code",
   "execution_count": 100,
   "metadata": {
    "colab": {
     "base_uri": "https://localhost:8080/"
    },
    "executionInfo": {
     "elapsed": 767,
     "status": "ok",
     "timestamp": 1679215015917,
     "user": {
      "displayName": "Razan HL",
      "userId": "00189607576210306079"
     },
     "user_tz": -180
    },
    "id": "AYdXoQzkgnlk",
    "outputId": "a3a3e7aa-bedb-4f15-ec2d-1b72e1dbac65"
   },
   "outputs": [
    {
     "data": {
      "text/plain": [
       "(2.3041782, 2.303333333)"
      ]
     },
     "execution_count": 100,
     "metadata": {},
     "output_type": "execute_result"
    }
   ],
   "source": [
    "predicted = xgbm_cv.predict(X_test.loc[50:51]) \n",
    "real = y_test[50]\n",
    "predicted[0], real"
   ]
  },
  {
   "cell_type": "code",
   "execution_count": null,
   "metadata": {
    "id": "UV84ZhESkJX5"
   },
   "outputs": [],
   "source": [
    "# xgbm_cv.feature_importances_\n",
    "feature_importances_xgbm = pd.DataFrame(xgbm_cv.feature_importances_, index = X_train.columns, columns = ['importance']).sort_values('importance', ascending=False)\n",
    "feature_importances_xgbm"
   ]
  },
  {
   "cell_type": "code",
   "execution_count": 91,
   "metadata": {
    "colab": {
     "base_uri": "https://localhost:8080/",
     "height": 613
    },
    "executionInfo": {
     "elapsed": 807,
     "status": "ok",
     "timestamp": 1679213059666,
     "user": {
      "displayName": "Razan HL",
      "userId": "00189607576210306079"
     },
     "user_tz": -180
    },
    "id": "bF0p8CkAkJX7",
    "outputId": "0d984ed5-7ec4-4112-ced0-cfa3877afa2a"
   },
   "outputs": [
    {
     "data": {
      "text/html": [
       "\n",
       "  <div id=\"df-923a703d-fdc8-4dbd-9f3b-1bc2a88bb070\">\n",
       "    <div class=\"colab-df-container\">\n",
       "      <div>\n",
       "<style scoped>\n",
       "    .dataframe tbody tr th:only-of-type {\n",
       "        vertical-align: middle;\n",
       "    }\n",
       "\n",
       "    .dataframe tbody tr th {\n",
       "        vertical-align: top;\n",
       "    }\n",
       "\n",
       "    .dataframe thead th {\n",
       "        text-align: right;\n",
       "    }\n",
       "</style>\n",
       "<table border=\"1\" class=\"dataframe\">\n",
       "  <thead>\n",
       "    <tr style=\"text-align: right;\">\n",
       "      <th></th>\n",
       "      <th>importance</th>\n",
       "      <th>feature</th>\n",
       "    </tr>\n",
       "  </thead>\n",
       "  <tbody>\n",
       "    <tr>\n",
       "      <th>num_authors</th>\n",
       "      <td>0.237559</td>\n",
       "      <td>num_authors</td>\n",
       "    </tr>\n",
       "    <tr>\n",
       "      <th>avg_recent_references</th>\n",
       "      <td>0.119514</td>\n",
       "      <td>avg_recent_references</td>\n",
       "    </tr>\n",
       "    <tr>\n",
       "      <th>num_publication</th>\n",
       "      <td>0.097708</td>\n",
       "      <td>num_publication</td>\n",
       "    </tr>\n",
       "    <tr>\n",
       "      <th>en_word_count</th>\n",
       "      <td>0.092330</td>\n",
       "      <td>en_word_count</td>\n",
       "    </tr>\n",
       "    <tr>\n",
       "      <th>num_references</th>\n",
       "      <td>0.085529</td>\n",
       "      <td>num_references</td>\n",
       "    </tr>\n",
       "    <tr>\n",
       "      <th>ref_mention_count</th>\n",
       "      <td>0.063897</td>\n",
       "      <td>ref_mention_count</td>\n",
       "    </tr>\n",
       "    <tr>\n",
       "      <th>num_sentences</th>\n",
       "      <td>0.055902</td>\n",
       "      <td>num_sentences</td>\n",
       "    </tr>\n",
       "    <tr>\n",
       "      <th>avg_words_per_sentence</th>\n",
       "      <td>0.045798</td>\n",
       "      <td>avg_words_per_sentence</td>\n",
       "    </tr>\n",
       "    <tr>\n",
       "      <th>ar_word_count</th>\n",
       "      <td>0.031227</td>\n",
       "      <td>ar_word_count</td>\n",
       "    </tr>\n",
       "    <tr>\n",
       "      <th>paper_len</th>\n",
       "      <td>0.029837</td>\n",
       "      <td>paper_len</td>\n",
       "    </tr>\n",
       "    <tr>\n",
       "      <th>en_word_avg</th>\n",
       "      <td>0.025259</td>\n",
       "      <td>en_word_avg</td>\n",
       "    </tr>\n",
       "    <tr>\n",
       "      <th>num_charts</th>\n",
       "      <td>0.021885</td>\n",
       "      <td>num_charts</td>\n",
       "    </tr>\n",
       "    <tr>\n",
       "      <th>num_tables</th>\n",
       "      <td>0.021253</td>\n",
       "      <td>num_tables</td>\n",
       "    </tr>\n",
       "    <tr>\n",
       "      <th>ar_word_avg</th>\n",
       "      <td>0.018244</td>\n",
       "      <td>ar_word_avg</td>\n",
       "    </tr>\n",
       "    <tr>\n",
       "      <th>num_figurs</th>\n",
       "      <td>0.015229</td>\n",
       "      <td>num_figurs</td>\n",
       "    </tr>\n",
       "    <tr>\n",
       "      <th>oldest_reference</th>\n",
       "      <td>0.014469</td>\n",
       "      <td>oldest_reference</td>\n",
       "    </tr>\n",
       "    <tr>\n",
       "      <th>latest_reference</th>\n",
       "      <td>0.012711</td>\n",
       "      <td>latest_reference</td>\n",
       "    </tr>\n",
       "    <tr>\n",
       "      <th>meadian_reference</th>\n",
       "      <td>0.011650</td>\n",
       "      <td>meadian_reference</td>\n",
       "    </tr>\n",
       "  </tbody>\n",
       "</table>\n",
       "</div>\n",
       "      <button class=\"colab-df-convert\" onclick=\"convertToInteractive('df-923a703d-fdc8-4dbd-9f3b-1bc2a88bb070')\"\n",
       "              title=\"Convert this dataframe to an interactive table.\"\n",
       "              style=\"display:none;\">\n",
       "        \n",
       "  <svg xmlns=\"http://www.w3.org/2000/svg\" height=\"24px\"viewBox=\"0 0 24 24\"\n",
       "       width=\"24px\">\n",
       "    <path d=\"M0 0h24v24H0V0z\" fill=\"none\"/>\n",
       "    <path d=\"M18.56 5.44l.94 2.06.94-2.06 2.06-.94-2.06-.94-.94-2.06-.94 2.06-2.06.94zm-11 1L8.5 8.5l.94-2.06 2.06-.94-2.06-.94L8.5 2.5l-.94 2.06-2.06.94zm10 10l.94 2.06.94-2.06 2.06-.94-2.06-.94-.94-2.06-.94 2.06-2.06.94z\"/><path d=\"M17.41 7.96l-1.37-1.37c-.4-.4-.92-.59-1.43-.59-.52 0-1.04.2-1.43.59L10.3 9.45l-7.72 7.72c-.78.78-.78 2.05 0 2.83L4 21.41c.39.39.9.59 1.41.59.51 0 1.02-.2 1.41-.59l7.78-7.78 2.81-2.81c.8-.78.8-2.07 0-2.86zM5.41 20L4 18.59l7.72-7.72 1.47 1.35L5.41 20z\"/>\n",
       "  </svg>\n",
       "      </button>\n",
       "      \n",
       "  <style>\n",
       "    .colab-df-container {\n",
       "      display:flex;\n",
       "      flex-wrap:wrap;\n",
       "      gap: 12px;\n",
       "    }\n",
       "\n",
       "    .colab-df-convert {\n",
       "      background-color: #E8F0FE;\n",
       "      border: none;\n",
       "      border-radius: 50%;\n",
       "      cursor: pointer;\n",
       "      display: none;\n",
       "      fill: #1967D2;\n",
       "      height: 32px;\n",
       "      padding: 0 0 0 0;\n",
       "      width: 32px;\n",
       "    }\n",
       "\n",
       "    .colab-df-convert:hover {\n",
       "      background-color: #E2EBFA;\n",
       "      box-shadow: 0px 1px 2px rgba(60, 64, 67, 0.3), 0px 1px 3px 1px rgba(60, 64, 67, 0.15);\n",
       "      fill: #174EA6;\n",
       "    }\n",
       "\n",
       "    [theme=dark] .colab-df-convert {\n",
       "      background-color: #3B4455;\n",
       "      fill: #D2E3FC;\n",
       "    }\n",
       "\n",
       "    [theme=dark] .colab-df-convert:hover {\n",
       "      background-color: #434B5C;\n",
       "      box-shadow: 0px 1px 3px 1px rgba(0, 0, 0, 0.15);\n",
       "      filter: drop-shadow(0px 1px 2px rgba(0, 0, 0, 0.3));\n",
       "      fill: #FFFFFF;\n",
       "    }\n",
       "  </style>\n",
       "\n",
       "      <script>\n",
       "        const buttonEl =\n",
       "          document.querySelector('#df-923a703d-fdc8-4dbd-9f3b-1bc2a88bb070 button.colab-df-convert');\n",
       "        buttonEl.style.display =\n",
       "          google.colab.kernel.accessAllowed ? 'block' : 'none';\n",
       "\n",
       "        async function convertToInteractive(key) {\n",
       "          const element = document.querySelector('#df-923a703d-fdc8-4dbd-9f3b-1bc2a88bb070');\n",
       "          const dataTable =\n",
       "            await google.colab.kernel.invokeFunction('convertToInteractive',\n",
       "                                                     [key], {});\n",
       "          if (!dataTable) return;\n",
       "\n",
       "          const docLinkHtml = 'Like what you see? Visit the ' +\n",
       "            '<a target=\"_blank\" href=https://colab.research.google.com/notebooks/data_table.ipynb>data table notebook</a>'\n",
       "            + ' to learn more about interactive tables.';\n",
       "          element.innerHTML = '';\n",
       "          dataTable['output_type'] = 'display_data';\n",
       "          await google.colab.output.renderOutput(dataTable, element);\n",
       "          const docLink = document.createElement('div');\n",
       "          docLink.innerHTML = docLinkHtml;\n",
       "          element.appendChild(docLink);\n",
       "        }\n",
       "      </script>\n",
       "    </div>\n",
       "  </div>\n",
       "  "
      ],
      "text/plain": [
       "                        importance                 feature\n",
       "num_authors               0.237559             num_authors\n",
       "avg_recent_references     0.119514   avg_recent_references\n",
       "num_publication           0.097708         num_publication\n",
       "en_word_count             0.092330           en_word_count\n",
       "num_references            0.085529          num_references\n",
       "ref_mention_count         0.063897       ref_mention_count\n",
       "num_sentences             0.055902           num_sentences\n",
       "avg_words_per_sentence    0.045798  avg_words_per_sentence\n",
       "ar_word_count             0.031227           ar_word_count\n",
       "paper_len                 0.029837               paper_len\n",
       "en_word_avg               0.025259             en_word_avg\n",
       "num_charts                0.021885              num_charts\n",
       "num_tables                0.021253              num_tables\n",
       "ar_word_avg               0.018244             ar_word_avg\n",
       "num_figurs                0.015229              num_figurs\n",
       "oldest_reference          0.014469        oldest_reference\n",
       "latest_reference          0.012711        latest_reference\n",
       "meadian_reference         0.011650       meadian_reference"
      ]
     },
     "execution_count": 91,
     "metadata": {},
     "output_type": "execute_result"
    }
   ],
   "source": [
    "feature_importances_xgbm['feature'] = feature_importances_xgbm.index\n",
    "feature_importances_xgbm"
   ]
  },
  {
   "cell_type": "code",
   "execution_count": 92,
   "metadata": {
    "colab": {
     "base_uri": "https://localhost:8080/",
     "height": 592
    },
    "executionInfo": {
     "elapsed": 1006,
     "status": "ok",
     "timestamp": 1679213069337,
     "user": {
      "displayName": "Razan HL",
      "userId": "00189607576210306079"
     },
     "user_tz": -180
    },
    "id": "1lKKiEEtkJX7",
    "outputId": "9acb9795-61d8-477b-fbac-6aa116543cb4"
   },
   "outputs": [
    {
     "data": {
      "image/png": "[encoded data removed]",
      "text/plain": [
       "<Figure size 1080x720 with 1 Axes>"
      ]
     },
     "metadata": {
      "needs_background": "light"
     },
     "output_type": "display_data"
    }
   ],
   "source": [
    "fig, ax = plt.subplots(figsize=(15, 10))\n",
    "ax.barh(feature_importances_xgbm.feature, feature_importances_xgbm.importance, height=0.55, align=\"edge\", color=\"#07a2a2\");\n",
    "plt.show()"
   ]
  },
  {
   "cell_type": "code",
   "execution_count": 102,
   "metadata": {
    "executionInfo": {
     "elapsed": 2473,
     "status": "ok",
     "timestamp": 1679215036911,
     "user": {
      "displayName": "Razan HL",
      "userId": "00189607576210306079"
     },
     "user_tz": -180
    },
    "id": "vj_u-86CkJX8"
   },
   "outputs": [],
   "source": [
    "xgbm_cv.save_model(\"/content/drive/MyDrive/Colab Notebooks/trained_ML_models/xgbm_regressor_palanced2.json\")"
   ]
  },
  {
   "cell_type": "code",
   "execution_count": 103,
   "metadata": {
    "executionInfo": {
     "elapsed": 657,
     "status": "ok",
     "timestamp": 1679215053496,
     "user": {
      "displayName": "Razan HL",
      "userId": "00189607576210306079"
     },
     "user_tz": -180
    },
    "id": "zBk7gX4jkJX9"
   },
   "outputs": [],
   "source": [
    "xgbm2 = XGBRegressor()\n",
    "xgbm2.load_model('/content/drive/MyDrive/Colab Notebooks/trained_ML_models/xgbm_regressor_palanced2.json')"
   ]
  },
  {
   "cell_type": "code",
   "execution_count": 104,
   "metadata": {
    "colab": {
     "base_uri": "https://localhost:8080/"
    },
    "executionInfo": {
     "elapsed": 645,
     "status": "ok",
     "timestamp": 1679215059062,
     "user": {
      "displayName": "Razan HL",
      "userId": "00189607576210306079"
     },
     "user_tz": -180
    },
    "id": "UdV0sewVkJX9",
    "outputId": "646c2d4f-1959-4b5f-977a-33f1a008d159"
   },
   "outputs": [
    {
     "data": {
      "text/plain": [
       "(0.8058538216699973, 0.9999979015071316)"
      ]
     },
     "execution_count": 104,
     "metadata": {},
     "output_type": "execute_result"
    }
   ],
   "source": [
    "xgbm2.score(X_test, y_test), xgbm2.score(X_train, y_train)"
   ]
  },
  {
   "cell_type": "code",
   "execution_count": null,
   "metadata": {
    "id": "4VHielu6gYWi"
   },
   "outputs": [],
   "source": []
  },
  {
   "cell_type": "markdown",
   "metadata": {
    "id": "aZLyHMQOj-oq"
   },
   "source": [
    "smoter for train & test set:"
   ]
  },
  {
   "cell_type": "code",
   "execution_count": null,
   "metadata": {
    "colab": {
     "base_uri": "https://localhost:8080/"
    },
    "executionInfo": {
     "elapsed": 45094,
     "status": "ok",
     "timestamp": 1678361255945,
     "user": {
      "displayName": "Razan HL",
      "userId": "00189607576210306079"
     },
     "user_tz": -180
    },
    "id": "XvbYX4WG4aJ7",
    "outputId": "201a61dd-1c1a-446b-e455-435e38ff41fc"
   },
   "outputs": [
    {
     "data": {
      "text/plain": [
       "(0.9844505972275454, 0.8133335314366905)"
      ]
     },
     "execution_count": 34,
     "metadata": {},
     "output_type": "execute_result"
    }
   ],
   "source": [
    "parameters = {\n",
    "    'max_depth': [3, 5, 10],\n",
    "    'n_estimators': [100, 150, 200, 500, 700],\n",
    "    'learning_rate': [0.05, 0.1, 0.25, 1]\n",
    "    }\n",
    "xgbm = XGBRegressor()\n",
    "xgbm_cv = RandomizedSearchCV(xgbm, parameters, scoring = 'r2')\n",
    "xgbm_cv.fit(X_train, y_train)\n",
    "xgbm_cv.score(X_train, y_train), xgbm_cv.score(X_test, y_test)"
   ]
  },
  {
   "cell_type": "code",
   "execution_count": null,
   "metadata": {
    "colab": {
     "base_uri": "https://localhost:8080/"
    },
    "executionInfo": {
     "elapsed": 345,
     "status": "ok",
     "timestamp": 1678361264070,
     "user": {
      "displayName": "Razan HL",
      "userId": "00189607576210306079"
     },
     "user_tz": -180
    },
    "id": "A3NfjVb64aJ-",
    "outputId": "1b88191d-8ebd-4930-f330-2d744e07c8be"
   },
   "outputs": [
    {
     "data": {
      "text/plain": [
       "{'n_estimators': 500, 'max_depth': 5, 'learning_rate': 0.05}"
      ]
     },
     "execution_count": 35,
     "metadata": {},
     "output_type": "execute_result"
    }
   ],
   "source": [
    "xgbm_cv.best_params_ "
   ]
  },
  {
   "cell_type": "code",
   "execution_count": null,
   "metadata": {
    "colab": {
     "base_uri": "https://localhost:8080/"
    },
    "executionInfo": {
     "elapsed": 12926,
     "status": "ok",
     "timestamp": 1678351230733,
     "user": {
      "displayName": "Razan HL",
      "userId": "00189607576210306079"
     },
     "user_tz": -180
    },
    "id": "0Bcts7GHfUqs",
    "outputId": "1d0ed569-40dc-4677-d0da-a12aa85de4c8"
   },
   "outputs": [
    {
     "data": {
      "text/plain": [
       "(0.8207405703313758, 0.9999661171083648)"
      ]
     },
     "execution_count": 185,
     "metadata": {},
     "output_type": "execute_result"
    }
   ],
   "source": [
    "xgbm_cv = XGBRegressor(n_estimators= 200, learning_rate=0.1, max_depth=10)\n",
    "# with scaling:\n",
    "regression_xgbm_cv = TransformedTargetRegressor(regressor=xgbm_cv, transformer=MinMaxScaler())\n",
    "\n",
    "regression_xgbm_cv.fit(X_train, y_train)\n",
    "y_pred = regression_xgbm_cv.predict(X_test)\n",
    "regression_xgbm_cv.score(X_test, y_test), regression_xgbm_cv.score(X_train, y_train)"
   ]
  },
  {
   "cell_type": "code",
   "execution_count": null,
   "metadata": {
    "colab": {
     "base_uri": "https://localhost:8080/"
    },
    "executionInfo": {
     "elapsed": 1649,
     "status": "ok",
     "timestamp": 1678351261825,
     "user": {
      "displayName": "Razan HL",
      "userId": "00189607576210306079"
     },
     "user_tz": -180
    },
    "id": "aVzTsUrO_xBz",
    "outputId": "c6d692a5-68c7-45dd-e09c-1704cfe369e1"
   },
   "outputs": [
    {
     "data": {
      "text/plain": [
       "(0.8345038682053164, 0.999977022199625)"
      ]
     },
     "execution_count": 186,
     "metadata": {},
     "output_type": "execute_result"
    }
   ],
   "source": [
    "# no scaling:\n",
    "xgbm_cv.fit(X_train, y_train)\n",
    "y_pred2 = xgbm_cv.predict(X_test)\n",
    "xgbm_cv.score(X_test, y_test), xgbm_cv.score(X_train, y_train)\n"
   ]
  },
  {
   "cell_type": "code",
   "execution_count": null,
   "metadata": {
    "colab": {
     "base_uri": "https://localhost:8080/"
    },
    "executionInfo": {
     "elapsed": 460,
     "status": "ok",
     "timestamp": 1678351273673,
     "user": {
      "displayName": "Razan HL",
      "userId": "00189607576210306079"
     },
     "user_tz": -180
    },
    "id": "mCZ3-ufCfUqt",
    "outputId": "089fd486-542d-4e4a-903a-ef821a31e100"
   },
   "outputs": [
    {
     "data": {
      "text/plain": [
       "(0.4864127523068868, 0.46736681326478036)"
      ]
     },
     "execution_count": 187,
     "metadata": {},
     "output_type": "execute_result"
    }
   ],
   "source": [
    "RMSE_cv_1 = (mean_squared_error(y_test, y_pred))**(1/2)\n",
    "RMSE_cv_2 = (mean_squared_error(y_test, y_pred2))**(1/2)\n",
    "RMSE_cv_1, RMSE_cv_2 "
   ]
  },
  {
   "cell_type": "code",
   "execution_count": null,
   "metadata": {
    "colab": {
     "base_uri": "https://localhost:8080/"
    },
    "executionInfo": {
     "elapsed": 754,
     "status": "ok",
     "timestamp": 1678351293484,
     "user": {
      "displayName": "Razan HL",
      "userId": "00189607576210306079"
     },
     "user_tz": -180
    },
    "id": "kAm4SSmIJ-BY",
    "outputId": "b86a3edb-8498-4bdd-c7ed-6126faa8eeed"
   },
   "outputs": [
    {
     "data": {
      "text/plain": [
       "(3.737715, 3.7331372552352935)"
      ]
     },
     "execution_count": 188,
     "metadata": {},
     "output_type": "execute_result"
    }
   ],
   "source": [
    "predicted = xgbm_cv.predict(X_test[0:1]) \n",
    "real = y_test[0]\n",
    "predicted[0], real"
   ]
  },
  {
   "cell_type": "code",
   "execution_count": null,
   "metadata": {
    "colab": {
     "base_uri": "https://localhost:8080/"
    },
    "executionInfo": {
     "elapsed": 1064,
     "status": "ok",
     "timestamp": 1678351342093,
     "user": {
      "displayName": "Razan HL",
      "userId": "00189607576210306079"
     },
     "user_tz": -180
    },
    "id": "T-YxvQsWJ94R",
    "outputId": "64fe545f-e0f8-4650-e488-ff0ca37ce57c"
   },
   "outputs": [
    {
     "data": {
      "text/plain": [
       "(4.0250964, 4.029999999999999)"
      ]
     },
     "execution_count": 190,
     "metadata": {},
     "output_type": "execute_result"
    }
   ],
   "source": [
    "predicted = xgbm_cv.predict(X_test.loc[3:4]) \n",
    "real = y_test[3]\n",
    "predicted[0], real"
   ]
  },
  {
   "cell_type": "code",
   "execution_count": null,
   "metadata": {
    "colab": {
     "base_uri": "https://localhost:8080/"
    },
    "executionInfo": {
     "elapsed": 1140,
     "status": "ok",
     "timestamp": 1678351354178,
     "user": {
      "displayName": "Razan HL",
      "userId": "00189607576210306079"
     },
     "user_tz": -180
    },
    "id": "qGip2OGnJ9yE",
    "outputId": "76cc5156-a290-4e7b-9b78-4521aa30a972"
   },
   "outputs": [
    {
     "data": {
      "text/plain": [
       "(3.726325, 3.7258085106382977)"
      ]
     },
     "execution_count": 191,
     "metadata": {},
     "output_type": "execute_result"
    }
   ],
   "source": [
    "predicted = xgbm_cv.predict(X_test.loc[30:31]) \n",
    "real = y_test[30]\n",
    "predicted[0], real"
   ]
  },
  {
   "cell_type": "code",
   "execution_count": null,
   "metadata": {
    "colab": {
     "base_uri": "https://localhost:8080/"
    },
    "executionInfo": {
     "elapsed": 956,
     "status": "ok",
     "timestamp": 1678351366108,
     "user": {
      "displayName": "Razan HL",
      "userId": "00189607576210306079"
     },
     "user_tz": -180
    },
    "id": "0FvtGuoqJ9s6",
    "outputId": "cc75373b-bd81-4ea1-bdb8-2ff6b47ef6e6"
   },
   "outputs": [
    {
     "data": {
      "text/plain": [
       "(2.8648913, 2.8716666666666666)"
      ]
     },
     "execution_count": 192,
     "metadata": {},
     "output_type": "execute_result"
    }
   ],
   "source": [
    "predicted = xgbm_cv.predict(X_test.loc[49:50]) \n",
    "real = y_test[49]\n",
    "predicted[0], real"
   ]
  },
  {
   "cell_type": "code",
   "execution_count": null,
   "metadata": {
    "colab": {
     "base_uri": "https://localhost:8080/"
    },
    "executionInfo": {
     "elapsed": 459,
     "status": "ok",
     "timestamp": 1678351383594,
     "user": {
      "displayName": "Razan HL",
      "userId": "00189607576210306079"
     },
     "user_tz": -180
    },
    "id": "ZUW34Pg4KG2K",
    "outputId": "af20d545-977b-4559-f0d4-0b44b50b3524"
   },
   "outputs": [
    {
     "data": {
      "text/plain": [
       "(2.9396415, 3.108587570288136)"
      ]
     },
     "execution_count": 193,
     "metadata": {},
     "output_type": "execute_result"
    }
   ],
   "source": [
    "predicted = xgbm_cv.predict(X_test.loc[50:51]) \n",
    "real = y_test[50]\n",
    "predicted[0], real"
   ]
  },
  {
   "cell_type": "code",
   "execution_count": null,
   "metadata": {
    "id": "51HOrJnnJbdw"
   },
   "outputs": [],
   "source": [
    "# xgbm_cv.feature_importances_\n",
    "feature_importances_xgbm = pd.DataFrame(xgbm_cv.feature_importances_, index = X_train.columns, columns = ['importance']).sort_values('importance', ascending=False)\n",
    "feature_importances_xgbm"
   ]
  },
  {
   "cell_type": "code",
   "execution_count": null,
   "metadata": {
    "colab": {
     "base_uri": "https://localhost:8080/",
     "height": 613
    },
    "executionInfo": {
     "elapsed": 336,
     "status": "ok",
     "timestamp": 1678351477572,
     "user": {
      "displayName": "Razan HL",
      "userId": "00189607576210306079"
     },
     "user_tz": -180
    },
    "id": "tinAV4Q7J3_d",
    "outputId": "9f2d85e5-bfff-44dd-a877-b5e894e8621c"
   },
   "outputs": [
    {
     "data": {
      "text/html": [
       "\n",
       "  <div id=\"df-82b20f92-3988-4f27-8235-39a2d9467088\">\n",
       "    <div class=\"colab-df-container\">\n",
       "      <div>\n",
       "<style scoped>\n",
       "    .dataframe tbody tr th:only-of-type {\n",
       "        vertical-align: middle;\n",
       "    }\n",
       "\n",
       "    .dataframe tbody tr th {\n",
       "        vertical-align: top;\n",
       "    }\n",
       "\n",
       "    .dataframe thead th {\n",
       "        text-align: right;\n",
       "    }\n",
       "</style>\n",
       "<table border=\"1\" class=\"dataframe\">\n",
       "  <thead>\n",
       "    <tr style=\"text-align: right;\">\n",
       "      <th></th>\n",
       "      <th>importance</th>\n",
       "      <th>feature</th>\n",
       "    </tr>\n",
       "  </thead>\n",
       "  <tbody>\n",
       "    <tr>\n",
       "      <th>num_authors</th>\n",
       "      <td>0.284293</td>\n",
       "      <td>num_authors</td>\n",
       "    </tr>\n",
       "    <tr>\n",
       "      <th>en_word_count</th>\n",
       "      <td>0.113194</td>\n",
       "      <td>en_word_count</td>\n",
       "    </tr>\n",
       "    <tr>\n",
       "      <th>num_references</th>\n",
       "      <td>0.103218</td>\n",
       "      <td>num_references</td>\n",
       "    </tr>\n",
       "    <tr>\n",
       "      <th>avg_recent_references</th>\n",
       "      <td>0.093516</td>\n",
       "      <td>avg_recent_references</td>\n",
       "    </tr>\n",
       "    <tr>\n",
       "      <th>num_publication</th>\n",
       "      <td>0.092710</td>\n",
       "      <td>num_publication</td>\n",
       "    </tr>\n",
       "    <tr>\n",
       "      <th>ref_mention_count</th>\n",
       "      <td>0.046851</td>\n",
       "      <td>ref_mention_count</td>\n",
       "    </tr>\n",
       "    <tr>\n",
       "      <th>avg_words_per_sentence</th>\n",
       "      <td>0.045675</td>\n",
       "      <td>avg_words_per_sentence</td>\n",
       "    </tr>\n",
       "    <tr>\n",
       "      <th>ar_word_count</th>\n",
       "      <td>0.037009</td>\n",
       "      <td>ar_word_count</td>\n",
       "    </tr>\n",
       "    <tr>\n",
       "      <th>num_tables</th>\n",
       "      <td>0.029902</td>\n",
       "      <td>num_tables</td>\n",
       "    </tr>\n",
       "    <tr>\n",
       "      <th>num_sentences</th>\n",
       "      <td>0.029579</td>\n",
       "      <td>num_sentences</td>\n",
       "    </tr>\n",
       "    <tr>\n",
       "      <th>paper_len</th>\n",
       "      <td>0.025357</td>\n",
       "      <td>paper_len</td>\n",
       "    </tr>\n",
       "    <tr>\n",
       "      <th>en_word_avg</th>\n",
       "      <td>0.017244</td>\n",
       "      <td>en_word_avg</td>\n",
       "    </tr>\n",
       "    <tr>\n",
       "      <th>latest_reference</th>\n",
       "      <td>0.015862</td>\n",
       "      <td>latest_reference</td>\n",
       "    </tr>\n",
       "    <tr>\n",
       "      <th>num_figurs</th>\n",
       "      <td>0.015563</td>\n",
       "      <td>num_figurs</td>\n",
       "    </tr>\n",
       "    <tr>\n",
       "      <th>meadian_reference</th>\n",
       "      <td>0.014634</td>\n",
       "      <td>meadian_reference</td>\n",
       "    </tr>\n",
       "    <tr>\n",
       "      <th>ar_word_avg</th>\n",
       "      <td>0.014212</td>\n",
       "      <td>ar_word_avg</td>\n",
       "    </tr>\n",
       "    <tr>\n",
       "      <th>oldest_reference</th>\n",
       "      <td>0.012849</td>\n",
       "      <td>oldest_reference</td>\n",
       "    </tr>\n",
       "    <tr>\n",
       "      <th>num_charts</th>\n",
       "      <td>0.008331</td>\n",
       "      <td>num_charts</td>\n",
       "    </tr>\n",
       "  </tbody>\n",
       "</table>\n",
       "</div>\n",
       "      <button class=\"colab-df-convert\" onclick=\"convertToInteractive('df-82b20f92-3988-4f27-8235-39a2d9467088')\"\n",
       "              title=\"Convert this dataframe to an interactive table.\"\n",
       "              style=\"display:none;\">\n",
       "        \n",
       "  <svg xmlns=\"http://www.w3.org/2000/svg\" height=\"24px\"viewBox=\"0 0 24 24\"\n",
       "       width=\"24px\">\n",
       "    <path d=\"M0 0h24v24H0V0z\" fill=\"none\"/>\n",
       "    <path d=\"M18.56 5.44l.94 2.06.94-2.06 2.06-.94-2.06-.94-.94-2.06-.94 2.06-2.06.94zm-11 1L8.5 8.5l.94-2.06 2.06-.94-2.06-.94L8.5 2.5l-.94 2.06-2.06.94zm10 10l.94 2.06.94-2.06 2.06-.94-2.06-.94-.94-2.06-.94 2.06-2.06.94z\"/><path d=\"M17.41 7.96l-1.37-1.37c-.4-.4-.92-.59-1.43-.59-.52 0-1.04.2-1.43.59L10.3 9.45l-7.72 7.72c-.78.78-.78 2.05 0 2.83L4 21.41c.39.39.9.59 1.41.59.51 0 1.02-.2 1.41-.59l7.78-7.78 2.81-2.81c.8-.78.8-2.07 0-2.86zM5.41 20L4 18.59l7.72-7.72 1.47 1.35L5.41 20z\"/>\n",
       "  </svg>\n",
       "      </button>\n",
       "      \n",
       "  <style>\n",
       "    .colab-df-container {\n",
       "      display:flex;\n",
       "      flex-wrap:wrap;\n",
       "      gap: 12px;\n",
       "    }\n",
       "\n",
       "    .colab-df-convert {\n",
       "      background-color: #E8F0FE;\n",
       "      border: none;\n",
       "      border-radius: 50%;\n",
       "      cursor: pointer;\n",
       "      display: none;\n",
       "      fill: #1967D2;\n",
       "      height: 32px;\n",
       "      padding: 0 0 0 0;\n",
       "      width: 32px;\n",
       "    }\n",
       "\n",
       "    .colab-df-convert:hover {\n",
       "      background-color: #E2EBFA;\n",
       "      box-shadow: 0px 1px 2px rgba(60, 64, 67, 0.3), 0px 1px 3px 1px rgba(60, 64, 67, 0.15);\n",
       "      fill: #174EA6;\n",
       "    }\n",
       "\n",
       "    [theme=dark] .colab-df-convert {\n",
       "      background-color: #3B4455;\n",
       "      fill: #D2E3FC;\n",
       "    }\n",
       "\n",
       "    [theme=dark] .colab-df-convert:hover {\n",
       "      background-color: #434B5C;\n",
       "      box-shadow: 0px 1px 3px 1px rgba(0, 0, 0, 0.15);\n",
       "      filter: drop-shadow(0px 1px 2px rgba(0, 0, 0, 0.3));\n",
       "      fill: #FFFFFF;\n",
       "    }\n",
       "  </style>\n",
       "\n",
       "      <script>\n",
       "        const buttonEl =\n",
       "          document.querySelector('#df-82b20f92-3988-4f27-8235-39a2d9467088 button.colab-df-convert');\n",
       "        buttonEl.style.display =\n",
       "          google.colab.kernel.accessAllowed ? 'block' : 'none';\n",
       "\n",
       "        async function convertToInteractive(key) {\n",
       "          const element = document.querySelector('#df-82b20f92-3988-4f27-8235-39a2d9467088');\n",
       "          const dataTable =\n",
       "            await google.colab.kernel.invokeFunction('convertToInteractive',\n",
       "                                                     [key], {});\n",
       "          if (!dataTable) return;\n",
       "\n",
       "          const docLinkHtml = 'Like what you see? Visit the ' +\n",
       "            '<a target=\"_blank\" href=https://colab.research.google.com/notebooks/data_table.ipynb>data table notebook</a>'\n",
       "            + ' to learn more about interactive tables.';\n",
       "          element.innerHTML = '';\n",
       "          dataTable['output_type'] = 'display_data';\n",
       "          await google.colab.output.renderOutput(dataTable, element);\n",
       "          const docLink = document.createElement('div');\n",
       "          docLink.innerHTML = docLinkHtml;\n",
       "          element.appendChild(docLink);\n",
       "        }\n",
       "      </script>\n",
       "    </div>\n",
       "  </div>\n",
       "  "
      ],
      "text/plain": [
       "                        importance                 feature\n",
       "num_authors               0.284293             num_authors\n",
       "en_word_count             0.113194           en_word_count\n",
       "num_references            0.103218          num_references\n",
       "avg_recent_references     0.093516   avg_recent_references\n",
       "num_publication           0.092710         num_publication\n",
       "ref_mention_count         0.046851       ref_mention_count\n",
       "avg_words_per_sentence    0.045675  avg_words_per_sentence\n",
       "ar_word_count             0.037009           ar_word_count\n",
       "num_tables                0.029902              num_tables\n",
       "num_sentences             0.029579           num_sentences\n",
       "paper_len                 0.025357               paper_len\n",
       "en_word_avg               0.017244             en_word_avg\n",
       "latest_reference          0.015862        latest_reference\n",
       "num_figurs                0.015563              num_figurs\n",
       "meadian_reference         0.014634       meadian_reference\n",
       "ar_word_avg               0.014212             ar_word_avg\n",
       "oldest_reference          0.012849        oldest_reference\n",
       "num_charts                0.008331              num_charts"
      ]
     },
     "execution_count": 197,
     "metadata": {},
     "output_type": "execute_result"
    }
   ],
   "source": [
    "feature_importances_xgbm['feature'] = feature_importances_xgbm.index\n",
    "feature_importances_xgbm"
   ]
  },
  {
   "cell_type": "code",
   "execution_count": null,
   "metadata": {
    "colab": {
     "base_uri": "https://localhost:8080/",
     "height": 592
    },
    "executionInfo": {
     "elapsed": 934,
     "status": "ok",
     "timestamp": 1678351484169,
     "user": {
      "displayName": "Razan HL",
      "userId": "00189607576210306079"
     },
     "user_tz": -180
    },
    "id": "vkAAp32yKCtF",
    "outputId": "78be5c2b-a99b-4507-8638-65bee7e43358"
   },
   "outputs": [
    {
     "data": {
      "image/png": "[encoded data removed]",
      "text/plain": [
       "<Figure size 1080x720 with 1 Axes>"
      ]
     },
     "metadata": {
      "needs_background": "light"
     },
     "output_type": "display_data"
    }
   ],
   "source": [
    "fig, ax = plt.subplots(figsize=(15, 10))\n",
    "ax.barh(feature_importances_xgbm.feature, feature_importances_xgbm.importance, height=0.55, align=\"edge\", color=\"#07a2a2\");\n",
    "plt.show()"
   ]
  },
  {
   "cell_type": "code",
   "execution_count": null,
   "metadata": {
    "id": "_AwJidRH_Mvy"
   },
   "outputs": [],
   "source": [
    "xgbm_cv.save_model(\"/content/drive/MyDrive/Colab Notebooks/trained_ML_models/xgbm_regressor_palanced.json\")"
   ]
  },
  {
   "cell_type": "code",
   "execution_count": null,
   "metadata": {
    "id": "dYl9tdFGBiPx"
   },
   "outputs": [],
   "source": [
    "xgbm2 = XGBRegressor()\n",
    "xgbm2.load_model('/content/drive/MyDrive/Colab Notebooks/trained_ML_models/xgbm_regressor_palanced.json')"
   ]
  },
  {
   "cell_type": "code",
   "execution_count": null,
   "metadata": {
    "colab": {
     "base_uri": "https://localhost:8080/"
    },
    "executionInfo": {
     "elapsed": 385,
     "status": "ok",
     "timestamp": 1678362299439,
     "user": {
      "displayName": "Razan HL",
      "userId": "00189607576210306079"
     },
     "user_tz": -180
    },
    "id": "8KT8jYWrCA0S",
    "outputId": "612e5760-b8d4-4365-d0c3-b53b98a2d722"
   },
   "outputs": [
    {
     "data": {
      "text/plain": [
       "(0.833247358631348, 0.9170008796247775)"
      ]
     },
     "execution_count": 37,
     "metadata": {},
     "output_type": "execute_result"
    }
   ],
   "source": [
    "xgbm2.score(X_test, y_test), xgbm2.score(X_train, y_train)"
   ]
  },
  {
   "cell_type": "markdown",
   "metadata": {
    "id": "957XGA0M15Dw"
   },
   "source": [
    "# Random forest:"
   ]
  },
  {
   "cell_type": "markdown",
   "metadata": {
    "id": "Lto7kPAHlSi8"
   },
   "source": [
    "smoter for train set only:"
   ]
  },
  {
   "cell_type": "code",
   "execution_count": 143,
   "metadata": {
    "colab": {
     "base_uri": "https://localhost:8080/"
    },
    "executionInfo": {
     "elapsed": 56273,
     "status": "ok",
     "timestamp": 1679218831356,
     "user": {
      "displayName": "Razan HL",
      "userId": "00189607576210306079"
     },
     "user_tz": -180
    },
    "id": "5L8eUThafUqu",
    "outputId": "b8cf88eb-0987-472b-f635-a1a40f336a64"
   },
   "outputs": [
    {
     "data": {
      "text/plain": [
       "{'n_estimators': 100, 'max_features': 50, 'max_depth': 50}"
      ]
     },
     "execution_count": 143,
     "metadata": {},
     "output_type": "execute_result"
    }
   ],
   "source": [
    "parameters = {\n",
    "    'n_estimators': [50,100,200],\n",
    "    'max_depth': [5, 10, 50],\n",
    "    'max_features': [15, 50, 100],\n",
    "    }\n",
    "rf = RandomForestRegressor()\n",
    "rf_c = RandomizedSearchCV(rf, parameters, scoring = 'r2')\n",
    "rf_c.fit(X_train, y_train)\n",
    "rf_c.best_params_"
   ]
  },
  {
   "cell_type": "code",
   "execution_count": 148,
   "metadata": {
    "colab": {
     "base_uri": "https://localhost:8080/"
    },
    "executionInfo": {
     "elapsed": 1732,
     "status": "ok",
     "timestamp": 1679218866442,
     "user": {
      "displayName": "Razan HL",
      "userId": "00189607576210306079"
     },
     "user_tz": -180
    },
    "id": "5g2vbpQKBZco",
    "outputId": "b97781e1-9137-468a-b229-08125bba5759"
   },
   "outputs": [
    {
     "data": {
      "text/plain": [
       "(0.7334303248680213, 0.9551504094591476)"
      ]
     },
     "execution_count": 148,
     "metadata": {},
     "output_type": "execute_result"
    }
   ],
   "source": [
    "# with scaling:\n",
    "rf_cv = RandomForestRegressor(n_estimators = 100, max_features= 50, max_depth = 50)\n",
    "regression_rf_cv = TransformedTargetRegressor(regressor=rf_cv, transformer=MinMaxScaler())\n",
    "\n",
    "regression_rf_cv.fit(X_train, y_train)\n",
    "y_pred = regression_rf_cv.predict(X_test)\n",
    "regression_rf_cv.score(X_test, y_test), regression_rf_cv.score(X_train, y_train)"
   ]
  },
  {
   "cell_type": "code",
   "execution_count": 149,
   "metadata": {
    "colab": {
     "base_uri": "https://localhost:8080/"
    },
    "executionInfo": {
     "elapsed": 4383,
     "status": "ok",
     "timestamp": 1679218877038,
     "user": {
      "displayName": "Razan HL",
      "userId": "00189607576210306079"
     },
     "user_tz": -180
    },
    "id": "P8dp9i77BZcp",
    "outputId": "6b6af305-0c90-4402-97e2-a1be71a434e1"
   },
   "outputs": [
    {
     "data": {
      "text/plain": [
       "(0.7352846788839325, 0.9538868486263213)"
      ]
     },
     "execution_count": 149,
     "metadata": {},
     "output_type": "execute_result"
    }
   ],
   "source": [
    "# no scaling:\n",
    "rf_cv.fit(X_train,y_train)\n",
    "y_pred = rf_cv.predict(X_test)\n",
    "rf_cv.score(X_test, y_test), rf_cv.score(X_train, y_train)"
   ]
  },
  {
   "cell_type": "code",
   "execution_count": 150,
   "metadata": {
    "colab": {
     "base_uri": "https://localhost:8080/"
    },
    "executionInfo": {
     "elapsed": 313,
     "status": "ok",
     "timestamp": 1679218883197,
     "user": {
      "displayName": "Razan HL",
      "userId": "00189607576210306079"
     },
     "user_tz": -180
    },
    "id": "6K8HJKA3BZcr",
    "outputId": "e3325775-6259-4cb7-ccf2-073d63e685f9"
   },
   "outputs": [
    {
     "data": {
      "text/plain": [
       "0.4338697509061191"
      ]
     },
     "execution_count": 150,
     "metadata": {},
     "output_type": "execute_result"
    }
   ],
   "source": [
    "RMSE_cv = (mean_squared_error(y_test, y_pred))**(1/2)\n",
    "RMSE_cv"
   ]
  },
  {
   "cell_type": "code",
   "execution_count": 151,
   "metadata": {
    "colab": {
     "base_uri": "https://localhost:8080/"
    },
    "executionInfo": {
     "elapsed": 318,
     "status": "ok",
     "timestamp": 1679218923600,
     "user": {
      "displayName": "Razan HL",
      "userId": "00189607576210306079"
     },
     "user_tz": -180
    },
    "id": "4xLIcSdNBZcv",
    "outputId": "f4b5c735-9c1f-4755-ed69-aabee18029df"
   },
   "outputs": [
    {
     "name": "stderr",
     "output_type": "stream",
     "text": [
      "/usr/local/lib/python3.9/dist-packages/sklearn/base.py:439: UserWarning: X does not have valid feature names, but RandomForestRegressor was fitted with feature names\n",
      "  warnings.warn(\n"
     ]
    },
    {
     "data": {
      "text/plain": [
       "(3.8194335414174105, 3.7331372552352935)"
      ]
     },
     "execution_count": 151,
     "metadata": {},
     "output_type": "execute_result"
    }
   ],
   "source": [
    "result = rf_cv.predict([X_test.loc[0]])\n",
    "result[0], y_test[0]"
   ]
  },
  {
   "cell_type": "code",
   "execution_count": 152,
   "metadata": {
    "colab": {
     "base_uri": "https://localhost:8080/"
    },
    "executionInfo": {
     "elapsed": 362,
     "status": "ok",
     "timestamp": 1679219467536,
     "user": {
      "displayName": "Razan HL",
      "userId": "00189607576210306079"
     },
     "user_tz": -180
    },
    "id": "sbOs4RJiBZcw",
    "outputId": "0b7e965c-7842-4683-af09-7d33bb833c0b"
   },
   "outputs": [
    {
     "name": "stderr",
     "output_type": "stream",
     "text": [
      "/usr/local/lib/python3.9/dist-packages/sklearn/base.py:439: UserWarning: X does not have valid feature names, but RandomForestRegressor was fitted with feature names\n",
      "  warnings.warn(\n"
     ]
    },
    {
     "data": {
      "text/plain": [
       "(2.099356685243145, 1.9566666670000004)"
      ]
     },
     "execution_count": 152,
     "metadata": {},
     "output_type": "execute_result"
    }
   ],
   "source": [
    "result = rf_cv.predict([X_test.loc[33]])\n",
    "result[0], y_test[33]"
   ]
  },
  {
   "cell_type": "code",
   "execution_count": 153,
   "metadata": {
    "colab": {
     "base_uri": "https://localhost:8080/"
    },
    "executionInfo": {
     "elapsed": 482,
     "status": "ok",
     "timestamp": 1679219495953,
     "user": {
      "displayName": "Razan HL",
      "userId": "00189607576210306079"
     },
     "user_tz": -180
    },
    "id": "MGR3JcPJBZcx",
    "outputId": "8bb8942e-6755-4da7-d496-0f011c46c2d0"
   },
   "outputs": [
    {
     "name": "stderr",
     "output_type": "stream",
     "text": [
      "/usr/local/lib/python3.9/dist-packages/sklearn/base.py:439: UserWarning: X does not have valid feature names, but RandomForestRegressor was fitted with feature names\n",
      "  warnings.warn(\n"
     ]
    },
    {
     "data": {
      "text/plain": [
       "(3.6419842126396422, 4.092527472384616)"
      ]
     },
     "execution_count": 153,
     "metadata": {},
     "output_type": "execute_result"
    }
   ],
   "source": [
    "result = rf_cv.predict([X_test.loc[30]])\n",
    "result[0], y_test[30]"
   ]
  },
  {
   "cell_type": "code",
   "execution_count": 154,
   "metadata": {
    "colab": {
     "base_uri": "https://localhost:8080/"
    },
    "executionInfo": {
     "elapsed": 324,
     "status": "ok",
     "timestamp": 1679219523769,
     "user": {
      "displayName": "Razan HL",
      "userId": "00189607576210306079"
     },
     "user_tz": -180
    },
    "id": "r_uhmqrBBZcy",
    "outputId": "ac649e2e-930d-4ca5-d2e4-e3fec6bda679"
   },
   "outputs": [
    {
     "name": "stderr",
     "output_type": "stream",
     "text": [
      "/usr/local/lib/python3.9/dist-packages/sklearn/base.py:439: UserWarning: X does not have valid feature names, but RandomForestRegressor was fitted with feature names\n",
      "  warnings.warn(\n"
     ]
    },
    {
     "data": {
      "text/plain": [
       "(4.384309695948549, 4.716333333111111)"
      ]
     },
     "execution_count": 154,
     "metadata": {},
     "output_type": "execute_result"
    }
   ],
   "source": [
    "result = rf_cv.predict([X_test.loc[49]])\n",
    "result[0], y_test[49]"
   ]
  },
  {
   "cell_type": "code",
   "execution_count": 155,
   "metadata": {
    "colab": {
     "base_uri": "https://localhost:8080/"
    },
    "executionInfo": {
     "elapsed": 353,
     "status": "ok",
     "timestamp": 1679219534920,
     "user": {
      "displayName": "Razan HL",
      "userId": "00189607576210306079"
     },
     "user_tz": -180
    },
    "id": "AlWyrCu1BZcz",
    "outputId": "f9b6201a-851c-4782-ddca-f7af1f3aa2c0"
   },
   "outputs": [
    {
     "name": "stderr",
     "output_type": "stream",
     "text": [
      "/usr/local/lib/python3.9/dist-packages/sklearn/base.py:439: UserWarning: X does not have valid feature names, but RandomForestRegressor was fitted with feature names\n",
      "  warnings.warn(\n"
     ]
    },
    {
     "data": {
      "text/plain": [
       "(2.4769122639857186, 2.303333333)"
      ]
     },
     "execution_count": 155,
     "metadata": {},
     "output_type": "execute_result"
    }
   ],
   "source": [
    "result = rf_cv.predict([X_test.loc[50]])\n",
    "result[0], y_test[50]"
   ]
  },
  {
   "cell_type": "code",
   "execution_count": null,
   "metadata": {
    "id": "dqy6kcq8BZc0"
   },
   "outputs": [],
   "source": [
    "feature_importances_rf= pd.DataFrame(rf_cv.feature_importances_, index = X_train.columns, columns = ['importance']).sort_values('importance', ascending=False)\n",
    "feature_importances_rf"
   ]
  },
  {
   "cell_type": "code",
   "execution_count": 186,
   "metadata": {
    "colab": {
     "base_uri": "https://localhost:8080/",
     "height": 613
    },
    "executionInfo": {
     "elapsed": 368,
     "status": "ok",
     "timestamp": 1679220342664,
     "user": {
      "displayName": "Razan HL",
      "userId": "00189607576210306079"
     },
     "user_tz": -180
    },
    "id": "cJ9plyzBBZc1",
    "outputId": "26eeece8-961c-4d72-cdc3-2b1cd90ec052"
   },
   "outputs": [
    {
     "data": {
      "text/html": [
       "\n",
       "  <div id=\"df-5c1f3227-b334-434c-9337-b0eaa18847ee\">\n",
       "    <div class=\"colab-df-container\">\n",
       "      <div>\n",
       "<style scoped>\n",
       "    .dataframe tbody tr th:only-of-type {\n",
       "        vertical-align: middle;\n",
       "    }\n",
       "\n",
       "    .dataframe tbody tr th {\n",
       "        vertical-align: top;\n",
       "    }\n",
       "\n",
       "    .dataframe thead th {\n",
       "        text-align: right;\n",
       "    }\n",
       "</style>\n",
       "<table border=\"1\" class=\"dataframe\">\n",
       "  <thead>\n",
       "    <tr style=\"text-align: right;\">\n",
       "      <th></th>\n",
       "      <th>importance</th>\n",
       "      <th>feature</th>\n",
       "    </tr>\n",
       "  </thead>\n",
       "  <tbody>\n",
       "    <tr>\n",
       "      <th>num_references</th>\n",
       "      <td>0.228096</td>\n",
       "      <td>num_references</td>\n",
       "    </tr>\n",
       "    <tr>\n",
       "      <th>avg_recent_references</th>\n",
       "      <td>0.139210</td>\n",
       "      <td>avg_recent_references</td>\n",
       "    </tr>\n",
       "    <tr>\n",
       "      <th>en_word_count</th>\n",
       "      <td>0.116184</td>\n",
       "      <td>en_word_count</td>\n",
       "    </tr>\n",
       "    <tr>\n",
       "      <th>num_authors</th>\n",
       "      <td>0.079175</td>\n",
       "      <td>num_authors</td>\n",
       "    </tr>\n",
       "    <tr>\n",
       "      <th>ref_mention_count</th>\n",
       "      <td>0.065121</td>\n",
       "      <td>ref_mention_count</td>\n",
       "    </tr>\n",
       "    <tr>\n",
       "      <th>num_publication</th>\n",
       "      <td>0.060835</td>\n",
       "      <td>num_publication</td>\n",
       "    </tr>\n",
       "    <tr>\n",
       "      <th>avg_words_per_sentence</th>\n",
       "      <td>0.043780</td>\n",
       "      <td>avg_words_per_sentence</td>\n",
       "    </tr>\n",
       "    <tr>\n",
       "      <th>paper_len</th>\n",
       "      <td>0.035062</td>\n",
       "      <td>paper_len</td>\n",
       "    </tr>\n",
       "    <tr>\n",
       "      <th>meadian_reference</th>\n",
       "      <td>0.029733</td>\n",
       "      <td>meadian_reference</td>\n",
       "    </tr>\n",
       "    <tr>\n",
       "      <th>num_sentences</th>\n",
       "      <td>0.028820</td>\n",
       "      <td>num_sentences</td>\n",
       "    </tr>\n",
       "    <tr>\n",
       "      <th>ar_word_count</th>\n",
       "      <td>0.028453</td>\n",
       "      <td>ar_word_count</td>\n",
       "    </tr>\n",
       "    <tr>\n",
       "      <th>oldest_reference</th>\n",
       "      <td>0.026365</td>\n",
       "      <td>oldest_reference</td>\n",
       "    </tr>\n",
       "    <tr>\n",
       "      <th>num_tables</th>\n",
       "      <td>0.026157</td>\n",
       "      <td>num_tables</td>\n",
       "    </tr>\n",
       "    <tr>\n",
       "      <th>en_word_avg</th>\n",
       "      <td>0.025931</td>\n",
       "      <td>en_word_avg</td>\n",
       "    </tr>\n",
       "    <tr>\n",
       "      <th>latest_reference</th>\n",
       "      <td>0.024110</td>\n",
       "      <td>latest_reference</td>\n",
       "    </tr>\n",
       "    <tr>\n",
       "      <th>ar_word_avg</th>\n",
       "      <td>0.023478</td>\n",
       "      <td>ar_word_avg</td>\n",
       "    </tr>\n",
       "    <tr>\n",
       "      <th>num_figurs</th>\n",
       "      <td>0.017610</td>\n",
       "      <td>num_figurs</td>\n",
       "    </tr>\n",
       "    <tr>\n",
       "      <th>num_charts</th>\n",
       "      <td>0.001880</td>\n",
       "      <td>num_charts</td>\n",
       "    </tr>\n",
       "  </tbody>\n",
       "</table>\n",
       "</div>\n",
       "      <button class=\"colab-df-convert\" onclick=\"convertToInteractive('df-5c1f3227-b334-434c-9337-b0eaa18847ee')\"\n",
       "              title=\"Convert this dataframe to an interactive table.\"\n",
       "              style=\"display:none;\">\n",
       "        \n",
       "  <svg xmlns=\"http://www.w3.org/2000/svg\" height=\"24px\"viewBox=\"0 0 24 24\"\n",
       "       width=\"24px\">\n",
       "    <path d=\"M0 0h24v24H0V0z\" fill=\"none\"/>\n",
       "    <path d=\"M18.56 5.44l.94 2.06.94-2.06 2.06-.94-2.06-.94-.94-2.06-.94 2.06-2.06.94zm-11 1L8.5 8.5l.94-2.06 2.06-.94-2.06-.94L8.5 2.5l-.94 2.06-2.06.94zm10 10l.94 2.06.94-2.06 2.06-.94-2.06-.94-.94-2.06-.94 2.06-2.06.94z\"/><path d=\"M17.41 7.96l-1.37-1.37c-.4-.4-.92-.59-1.43-.59-.52 0-1.04.2-1.43.59L10.3 9.45l-7.72 7.72c-.78.78-.78 2.05 0 2.83L4 21.41c.39.39.9.59 1.41.59.51 0 1.02-.2 1.41-.59l7.78-7.78 2.81-2.81c.8-.78.8-2.07 0-2.86zM5.41 20L4 18.59l7.72-7.72 1.47 1.35L5.41 20z\"/>\n",
       "  </svg>\n",
       "      </button>\n",
       "      \n",
       "  <style>\n",
       "    .colab-df-container {\n",
       "      display:flex;\n",
       "      flex-wrap:wrap;\n",
       "      gap: 12px;\n",
       "    }\n",
       "\n",
       "    .colab-df-convert {\n",
       "      background-color: #E8F0FE;\n",
       "      border: none;\n",
       "      border-radius: 50%;\n",
       "      cursor: pointer;\n",
       "      display: none;\n",
       "      fill: #1967D2;\n",
       "      height: 32px;\n",
       "      padding: 0 0 0 0;\n",
       "      width: 32px;\n",
       "    }\n",
       "\n",
       "    .colab-df-convert:hover {\n",
       "      background-color: #E2EBFA;\n",
       "      box-shadow: 0px 1px 2px rgba(60, 64, 67, 0.3), 0px 1px 3px 1px rgba(60, 64, 67, 0.15);\n",
       "      fill: #174EA6;\n",
       "    }\n",
       "\n",
       "    [theme=dark] .colab-df-convert {\n",
       "      background-color: #3B4455;\n",
       "      fill: #D2E3FC;\n",
       "    }\n",
       "\n",
       "    [theme=dark] .colab-df-convert:hover {\n",
       "      background-color: #434B5C;\n",
       "      box-shadow: 0px 1px 3px 1px rgba(0, 0, 0, 0.15);\n",
       "      filter: drop-shadow(0px 1px 2px rgba(0, 0, 0, 0.3));\n",
       "      fill: #FFFFFF;\n",
       "    }\n",
       "  </style>\n",
       "\n",
       "      <script>\n",
       "        const buttonEl =\n",
       "          document.querySelector('#df-5c1f3227-b334-434c-9337-b0eaa18847ee button.colab-df-convert');\n",
       "        buttonEl.style.display =\n",
       "          google.colab.kernel.accessAllowed ? 'block' : 'none';\n",
       "\n",
       "        async function convertToInteractive(key) {\n",
       "          const element = document.querySelector('#df-5c1f3227-b334-434c-9337-b0eaa18847ee');\n",
       "          const dataTable =\n",
       "            await google.colab.kernel.invokeFunction('convertToInteractive',\n",
       "                                                     [key], {});\n",
       "          if (!dataTable) return;\n",
       "\n",
       "          const docLinkHtml = 'Like what you see? Visit the ' +\n",
       "            '<a target=\"_blank\" href=https://colab.research.google.com/notebooks/data_table.ipynb>data table notebook</a>'\n",
       "            + ' to learn more about interactive tables.';\n",
       "          element.innerHTML = '';\n",
       "          dataTable['output_type'] = 'display_data';\n",
       "          await google.colab.output.renderOutput(dataTable, element);\n",
       "          const docLink = document.createElement('div');\n",
       "          docLink.innerHTML = docLinkHtml;\n",
       "          element.appendChild(docLink);\n",
       "        }\n",
       "      </script>\n",
       "    </div>\n",
       "  </div>\n",
       "  "
      ],
      "text/plain": [
       "                        importance                 feature\n",
       "num_references            0.228096          num_references\n",
       "avg_recent_references     0.139210   avg_recent_references\n",
       "en_word_count             0.116184           en_word_count\n",
       "num_authors               0.079175             num_authors\n",
       "ref_mention_count         0.065121       ref_mention_count\n",
       "num_publication           0.060835         num_publication\n",
       "avg_words_per_sentence    0.043780  avg_words_per_sentence\n",
       "paper_len                 0.035062               paper_len\n",
       "meadian_reference         0.029733       meadian_reference\n",
       "num_sentences             0.028820           num_sentences\n",
       "ar_word_count             0.028453           ar_word_count\n",
       "oldest_reference          0.026365        oldest_reference\n",
       "num_tables                0.026157              num_tables\n",
       "en_word_avg               0.025931             en_word_avg\n",
       "latest_reference          0.024110        latest_reference\n",
       "ar_word_avg               0.023478             ar_word_avg\n",
       "num_figurs                0.017610              num_figurs\n",
       "num_charts                0.001880              num_charts"
      ]
     },
     "execution_count": 186,
     "metadata": {},
     "output_type": "execute_result"
    }
   ],
   "source": [
    "feature_importances_rf['feature'] = feature_importances_rf.index\n",
    "feature_importances_rf"
   ]
  },
  {
   "cell_type": "code",
   "execution_count": 187,
   "metadata": {
    "colab": {
     "base_uri": "https://localhost:8080/",
     "height": 592
    },
    "executionInfo": {
     "elapsed": 498,
     "status": "ok",
     "timestamp": 1679220347013,
     "user": {
      "displayName": "Razan HL",
      "userId": "00189607576210306079"
     },
     "user_tz": -180
    },
    "id": "kEsCo89RBZc1",
    "outputId": "91f0aaac-1437-46cc-ed79-abefd8fc4a58"
   },
   "outputs": [
    {
     "data": {
      "image/png": "[encoded data removed]",
      "text/plain": [
       "<Figure size 1080x720 with 1 Axes>"
      ]
     },
     "metadata": {
      "needs_background": "light"
     },
     "output_type": "display_data"
    }
   ],
   "source": [
    "fig, ax = plt.subplots(figsize=(15, 10))\n",
    "\n",
    "ax.barh(feature_importances_rf.feature, feature_importances_rf.importance, height=0.55, align=\"edge\", color=\"#07a2a2\");\n",
    "plt.show()"
   ]
  },
  {
   "cell_type": "code",
   "execution_count": null,
   "metadata": {
    "id": "mPXdOn9ylbah"
   },
   "outputs": [],
   "source": []
  },
  {
   "cell_type": "code",
   "execution_count": null,
   "metadata": {
    "id": "G1s0kgmIlR2j"
   },
   "outputs": [],
   "source": []
  },
  {
   "cell_type": "code",
   "execution_count": null,
   "metadata": {
    "id": "5lWU-kQWlXTJ"
   },
   "outputs": [],
   "source": []
  },
  {
   "cell_type": "markdown",
   "metadata": {
    "id": "uqGCfrSClX2U"
   },
   "source": [
    "smoter for train &test set:"
   ]
  },
  {
   "cell_type": "code",
   "execution_count": null,
   "metadata": {
    "colab": {
     "base_uri": "https://localhost:8080/"
    },
    "executionInfo": {
     "elapsed": 61558,
     "status": "ok",
     "timestamp": 1678347746907,
     "user": {
      "displayName": "Razan HL",
      "userId": "00189607576210306079"
     },
     "user_tz": -180
    },
    "id": "j9NtecxtBP8T",
    "outputId": "d965b5f2-2d1f-44df-adc2-770b47e3e9d7"
   },
   "outputs": [
    {
     "data": {
      "text/plain": [
       "{'n_estimators': 100, 'max_features': 50, 'max_depth': 50}"
      ]
     },
     "execution_count": 129,
     "metadata": {},
     "output_type": "execute_result"
    }
   ],
   "source": [
    "parameters = {\n",
    "    'n_estimators': [50,100,200],\n",
    "    'max_depth': [5, 10, 50],\n",
    "    'max_features': [15, 50, 100],\n",
    "    }\n",
    "rf = RandomForestRegressor()\n",
    "rf_c = RandomizedSearchCV(rf, parameters, scoring = 'r2')\n",
    "rf_c.fit(X_train, y_train)\n",
    "rf_c.best_params_"
   ]
  },
  {
   "cell_type": "code",
   "execution_count": null,
   "metadata": {
    "colab": {
     "base_uri": "https://localhost:8080/"
    },
    "executionInfo": {
     "elapsed": 5164,
     "status": "ok",
     "timestamp": 1678348033667,
     "user": {
      "displayName": "Razan HL",
      "userId": "00189607576210306079"
     },
     "user_tz": -180
    },
    "id": "KyKy6A2pUMxC",
    "outputId": "2efc0741-82eb-47dd-b5cf-9bbe77761d08"
   },
   "outputs": [
    {
     "data": {
      "text/plain": [
       "(0.8142390418678124, 0.9527875594737291)"
      ]
     },
     "execution_count": 135,
     "metadata": {},
     "output_type": "execute_result"
    }
   ],
   "source": [
    "# with scaling:\n",
    "rf_cv = RandomForestRegressor(n_estimators = 200, max_features= 100, max_depth = 50)\n",
    "regression_rf_cv = TransformedTargetRegressor(regressor=rf_cv, transformer=MinMaxScaler())\n",
    "\n",
    "regression_rf_cv.fit(X_train, y_train)\n",
    "y_pred = regression_rf_cv.predict(X_test)\n",
    "regression_rf_cv.score(X_test, y_test), regression_rf_cv.score(X_train, y_train)"
   ]
  },
  {
   "cell_type": "code",
   "execution_count": null,
   "metadata": {
    "colab": {
     "base_uri": "https://localhost:8080/"
    },
    "executionInfo": {
     "elapsed": 4679,
     "status": "ok",
     "timestamp": 1678348025304,
     "user": {
      "displayName": "Razan HL",
      "userId": "00189607576210306079"
     },
     "user_tz": -180
    },
    "id": "0r_wLpzbfUqv",
    "outputId": "ad712cf8-2c72-42ef-995a-800d52723807"
   },
   "outputs": [
    {
     "data": {
      "text/plain": [
       "(0.8057336783215705, 0.9511329593595547)"
      ]
     },
     "execution_count": 134,
     "metadata": {},
     "output_type": "execute_result"
    }
   ],
   "source": [
    "# no scaling:\n",
    "rf_cv.fit(X_train,y_train)\n",
    "y_pred = rf_cv.predict(X_test)\n",
    "rf_cv.score(X_test, y_test), rf_cv.score(X_train, y_train)"
   ]
  },
  {
   "cell_type": "code",
   "execution_count": null,
   "metadata": {
    "colab": {
     "base_uri": "https://localhost:8080/"
    },
    "executionInfo": {
     "elapsed": 12,
     "status": "ok",
     "timestamp": 1678348056154,
     "user": {
      "displayName": "Razan HL",
      "userId": "00189607576210306079"
     },
     "user_tz": -180
    },
    "id": "VoZawztWfUqw",
    "outputId": "2025c740-9b08-4670-f06f-b78828951ec0"
   },
   "outputs": [
    {
     "data": {
      "text/plain": [
       "0.4951549994700291"
      ]
     },
     "execution_count": 136,
     "metadata": {},
     "output_type": "execute_result"
    }
   ],
   "source": [
    "RMSE_cv = (mean_squared_error(y_test, y_pred))**(1/2)\n",
    "RMSE_cv"
   ]
  },
  {
   "cell_type": "code",
   "execution_count": null,
   "metadata": {
    "colab": {
     "base_uri": "https://localhost:8080/"
    },
    "executionInfo": {
     "elapsed": 677,
     "status": "ok",
     "timestamp": 1678348181499,
     "user": {
      "displayName": "Razan HL",
      "userId": "00189607576210306079"
     },
     "user_tz": -180
    },
    "id": "WI3hP_AbCU4Q",
    "outputId": "019d0054-69cc-418d-e3aa-30e1025ba49f"
   },
   "outputs": [
    {
     "data": {
      "text/plain": [
       "['/content/drive/MyDrive/Colab Notebooks/trained_ML_models/rf_regressor_palanced.pkl']"
      ]
     },
     "execution_count": 140,
     "metadata": {},
     "output_type": "execute_result"
    }
   ],
   "source": [
    "import joblib\n",
    "joblib.dump(regression_rf_cv,\"/content/drive/MyDrive/Colab Notebooks/trained_ML_models/rf_regressor_palanced.pkl\")"
   ]
  },
  {
   "cell_type": "code",
   "execution_count": null,
   "metadata": {
    "id": "v_v8eTD9DGIK"
   },
   "outputs": [],
   "source": [
    "loaded_rf = joblib.load(\"/content/drive/MyDrive/Colab Notebooks/trained_ML_models/rf_regressor_palanced.pkl\")"
   ]
  },
  {
   "cell_type": "code",
   "execution_count": null,
   "metadata": {
    "colab": {
     "base_uri": "https://localhost:8080/"
    },
    "executionInfo": {
     "elapsed": 422,
     "status": "ok",
     "timestamp": 1678348185365,
     "user": {
      "displayName": "Razan HL",
      "userId": "00189607576210306079"
     },
     "user_tz": -180
    },
    "id": "-O7BB_ijDM1P",
    "outputId": "c94fa73b-1ec8-4455-be02-5437e4c68dd1"
   },
   "outputs": [
    {
     "data": {
      "text/plain": [
       "(0.8142390418678124, 0.9527875594737291)"
      ]
     },
     "execution_count": 142,
     "metadata": {},
     "output_type": "execute_result"
    }
   ],
   "source": [
    "loaded_rf.score(X_test, y_test), loaded_rf.score(X_train, y_train)"
   ]
  },
  {
   "cell_type": "code",
   "execution_count": null,
   "metadata": {
    "colab": {
     "base_uri": "https://localhost:8080/"
    },
    "executionInfo": {
     "elapsed": 1208,
     "status": "ok",
     "timestamp": 1678348229602,
     "user": {
      "displayName": "Razan HL",
      "userId": "00189607576210306079"
     },
     "user_tz": -180
    },
    "id": "iFLG7T4ksqmH",
    "outputId": "339a4511-0e67-405e-a9e2-d31e59e900c0"
   },
   "outputs": [
    {
     "name": "stderr",
     "output_type": "stream",
     "text": [
      "/usr/local/lib/python3.9/dist-packages/sklearn/base.py:420: UserWarning: X does not have valid feature names, but RandomForestRegressor was fitted with feature names\n",
      "  warnings.warn(\n"
     ]
    },
    {
     "data": {
      "text/plain": [
       "(array([3.77083647]), 3.7331372552352935)"
      ]
     },
     "execution_count": 145,
     "metadata": {},
     "output_type": "execute_result"
    }
   ],
   "source": [
    "result = regression_rf_cv.predict([X_test.loc[0]])\n",
    "result, y_test[0]"
   ]
  },
  {
   "cell_type": "code",
   "execution_count": null,
   "metadata": {
    "colab": {
     "base_uri": "https://localhost:8080/"
    },
    "executionInfo": {
     "elapsed": 520,
     "status": "ok",
     "timestamp": 1678348263816,
     "user": {
      "displayName": "Razan HL",
      "userId": "00189607576210306079"
     },
     "user_tz": -180
    },
    "id": "wG71T7MbWfyX",
    "outputId": "c635beec-9060-4f64-f671-0aec2c64e289"
   },
   "outputs": [
    {
     "name": "stderr",
     "output_type": "stream",
     "text": [
      "/usr/local/lib/python3.9/dist-packages/sklearn/base.py:420: UserWarning: X does not have valid feature names, but RandomForestRegressor was fitted with feature names\n",
      "  warnings.warn(\n"
     ]
    },
    {
     "data": {
      "text/plain": [
       "(array([3.56359777]), 4.029999999999999)"
      ]
     },
     "execution_count": 146,
     "metadata": {},
     "output_type": "execute_result"
    }
   ],
   "source": [
    "result = regression_rf_cv.predict([X_test.loc[3]])\n",
    "result, y_test[3]"
   ]
  },
  {
   "cell_type": "code",
   "execution_count": null,
   "metadata": {
    "colab": {
     "base_uri": "https://localhost:8080/"
    },
    "executionInfo": {
     "elapsed": 364,
     "status": "ok",
     "timestamp": 1678348207485,
     "user": {
      "displayName": "Razan HL",
      "userId": "00189607576210306079"
     },
     "user_tz": -180
    },
    "id": "k1olHlQUr3zm",
    "outputId": "eeed75ee-669f-4004-d9c2-7f26730f6971"
   },
   "outputs": [
    {
     "name": "stderr",
     "output_type": "stream",
     "text": [
      "/usr/local/lib/python3.9/dist-packages/sklearn/base.py:420: UserWarning: X does not have valid feature names, but RandomForestRegressor was fitted with feature names\n",
      "  warnings.warn(\n"
     ]
    },
    {
     "data": {
      "text/plain": [
       "(array([3.77171625]), 3.7258085106382977)"
      ]
     },
     "execution_count": 143,
     "metadata": {},
     "output_type": "execute_result"
    }
   ],
   "source": [
    "result = regression_rf_cv.predict([X_test.loc[30]])\n",
    "result, y_test[30]"
   ]
  },
  {
   "cell_type": "code",
   "execution_count": null,
   "metadata": {
    "colab": {
     "base_uri": "https://localhost:8080/"
    },
    "executionInfo": {
     "elapsed": 12,
     "status": "ok",
     "timestamp": 1678348297248,
     "user": {
      "displayName": "Razan HL",
      "userId": "00189607576210306079"
     },
     "user_tz": -180
    },
    "id": "Fi0KynrwWlCX",
    "outputId": "1deb7654-4745-4def-9ab0-5475488532d7"
   },
   "outputs": [
    {
     "name": "stderr",
     "output_type": "stream",
     "text": [
      "/usr/local/lib/python3.9/dist-packages/sklearn/base.py:420: UserWarning: X does not have valid feature names, but RandomForestRegressor was fitted with feature names\n",
      "  warnings.warn(\n"
     ]
    },
    {
     "data": {
      "text/plain": [
       "(array([2.66574085]), 2.8716666666666666)"
      ]
     },
     "execution_count": 147,
     "metadata": {},
     "output_type": "execute_result"
    }
   ],
   "source": [
    "result = regression_rf_cv.predict([X_test.loc[49]])\n",
    "result, y_test[49]"
   ]
  },
  {
   "cell_type": "code",
   "execution_count": null,
   "metadata": {
    "colab": {
     "base_uri": "https://localhost:8080/"
    },
    "executionInfo": {
     "elapsed": 958,
     "status": "ok",
     "timestamp": 1678348301195,
     "user": {
      "displayName": "Razan HL",
      "userId": "00189607576210306079"
     },
     "user_tz": -180
    },
    "id": "XYA9mNTTWk6g",
    "outputId": "4001b8a6-610e-4a50-c34d-5bcc5cca12c7"
   },
   "outputs": [
    {
     "name": "stderr",
     "output_type": "stream",
     "text": [
      "/usr/local/lib/python3.9/dist-packages/sklearn/base.py:420: UserWarning: X does not have valid feature names, but RandomForestRegressor was fitted with feature names\n",
      "  warnings.warn(\n"
     ]
    },
    {
     "data": {
      "text/plain": [
       "(array([3.30099256]), 3.108587570288136)"
      ]
     },
     "execution_count": 148,
     "metadata": {},
     "output_type": "execute_result"
    }
   ],
   "source": [
    "result = regression_rf_cv.predict([X_test.loc[50]])\n",
    "result, y_test[50]"
   ]
  },
  {
   "cell_type": "code",
   "execution_count": null,
   "metadata": {
    "colab": {
     "base_uri": "https://localhost:8080/"
    },
    "executionInfo": {
     "elapsed": 10,
     "status": "ok",
     "timestamp": 1678348217011,
     "user": {
      "displayName": "Razan HL",
      "userId": "00189607576210306079"
     },
     "user_tz": -180
    },
    "id": "G-SilU3Dr3oI",
    "outputId": "d1697467-d8b3-4b18-ba18-8832653fe46e"
   },
   "outputs": [
    {
     "name": "stderr",
     "output_type": "stream",
     "text": [
      "/usr/local/lib/python3.9/dist-packages/sklearn/base.py:420: UserWarning: X does not have valid feature names, but RandomForestRegressor was fitted with feature names\n",
      "  warnings.warn(\n"
     ]
    },
    {
     "data": {
      "text/plain": [
       "(array([4.12373096]), 4.741666667)"
      ]
     },
     "execution_count": 144,
     "metadata": {},
     "output_type": "execute_result"
    }
   ],
   "source": [
    "result = regression_rf_cv.predict([X_test.loc[136]])\n",
    "result, y_test[136]"
   ]
  },
  {
   "cell_type": "code",
   "execution_count": null,
   "metadata": {
    "id": "lrxs8KJS9CZI"
   },
   "outputs": [],
   "source": [
    "feature_importances_rf= pd.DataFrame(lgbm_model.feature_importances_, index = X_train.columns, columns = ['importance']).sort_values('importance', ascending=False)\n",
    "feature_importances_rf"
   ]
  },
  {
   "cell_type": "code",
   "execution_count": null,
   "metadata": {
    "colab": {
     "base_uri": "https://localhost:8080/",
     "height": 613
    },
    "executionInfo": {
     "elapsed": 982,
     "status": "ok",
     "timestamp": 1678347233650,
     "user": {
      "displayName": "Razan HL",
      "userId": "00189607576210306079"
     },
     "user_tz": -180
    },
    "id": "rbBCK_pi9CR9",
    "outputId": "02cfc2a0-5803-4357-b4e0-0ee01f555b48"
   },
   "outputs": [
    {
     "data": {
      "text/html": [
       "\n",
       "  <div id=\"df-ef6acd12-daeb-488c-9e5e-b8fc7a82a43e\">\n",
       "    <div class=\"colab-df-container\">\n",
       "      <div>\n",
       "<style scoped>\n",
       "    .dataframe tbody tr th:only-of-type {\n",
       "        vertical-align: middle;\n",
       "    }\n",
       "\n",
       "    .dataframe tbody tr th {\n",
       "        vertical-align: top;\n",
       "    }\n",
       "\n",
       "    .dataframe thead th {\n",
       "        text-align: right;\n",
       "    }\n",
       "</style>\n",
       "<table border=\"1\" class=\"dataframe\">\n",
       "  <thead>\n",
       "    <tr style=\"text-align: right;\">\n",
       "      <th></th>\n",
       "      <th>importance</th>\n",
       "      <th>feature</th>\n",
       "    </tr>\n",
       "  </thead>\n",
       "  <tbody>\n",
       "    <tr>\n",
       "      <th>avg_recent_references</th>\n",
       "      <td>274</td>\n",
       "      <td>avg_recent_references</td>\n",
       "    </tr>\n",
       "    <tr>\n",
       "      <th>avg_words_per_sentence</th>\n",
       "      <td>236</td>\n",
       "      <td>avg_words_per_sentence</td>\n",
       "    </tr>\n",
       "    <tr>\n",
       "      <th>ar_word_count</th>\n",
       "      <td>222</td>\n",
       "      <td>ar_word_count</td>\n",
       "    </tr>\n",
       "    <tr>\n",
       "      <th>en_word_count</th>\n",
       "      <td>221</td>\n",
       "      <td>en_word_count</td>\n",
       "    </tr>\n",
       "    <tr>\n",
       "      <th>ref_mention_count</th>\n",
       "      <td>212</td>\n",
       "      <td>ref_mention_count</td>\n",
       "    </tr>\n",
       "    <tr>\n",
       "      <th>ar_word_avg</th>\n",
       "      <td>203</td>\n",
       "      <td>ar_word_avg</td>\n",
       "    </tr>\n",
       "    <tr>\n",
       "      <th>paper_len</th>\n",
       "      <td>197</td>\n",
       "      <td>paper_len</td>\n",
       "    </tr>\n",
       "    <tr>\n",
       "      <th>meadian_reference</th>\n",
       "      <td>192</td>\n",
       "      <td>meadian_reference</td>\n",
       "    </tr>\n",
       "    <tr>\n",
       "      <th>oldest_reference</th>\n",
       "      <td>185</td>\n",
       "      <td>oldest_reference</td>\n",
       "    </tr>\n",
       "    <tr>\n",
       "      <th>num_sentences</th>\n",
       "      <td>181</td>\n",
       "      <td>num_sentences</td>\n",
       "    </tr>\n",
       "    <tr>\n",
       "      <th>en_word_avg</th>\n",
       "      <td>180</td>\n",
       "      <td>en_word_avg</td>\n",
       "    </tr>\n",
       "    <tr>\n",
       "      <th>num_publication</th>\n",
       "      <td>150</td>\n",
       "      <td>num_publication</td>\n",
       "    </tr>\n",
       "    <tr>\n",
       "      <th>num_references</th>\n",
       "      <td>148</td>\n",
       "      <td>num_references</td>\n",
       "    </tr>\n",
       "    <tr>\n",
       "      <th>num_tables</th>\n",
       "      <td>138</td>\n",
       "      <td>num_tables</td>\n",
       "    </tr>\n",
       "    <tr>\n",
       "      <th>latest_reference</th>\n",
       "      <td>113</td>\n",
       "      <td>latest_reference</td>\n",
       "    </tr>\n",
       "    <tr>\n",
       "      <th>num_authors</th>\n",
       "      <td>80</td>\n",
       "      <td>num_authors</td>\n",
       "    </tr>\n",
       "    <tr>\n",
       "      <th>num_figurs</th>\n",
       "      <td>65</td>\n",
       "      <td>num_figurs</td>\n",
       "    </tr>\n",
       "    <tr>\n",
       "      <th>num_charts</th>\n",
       "      <td>3</td>\n",
       "      <td>num_charts</td>\n",
       "    </tr>\n",
       "  </tbody>\n",
       "</table>\n",
       "</div>\n",
       "      <button class=\"colab-df-convert\" onclick=\"convertToInteractive('df-ef6acd12-daeb-488c-9e5e-b8fc7a82a43e')\"\n",
       "              title=\"Convert this dataframe to an interactive table.\"\n",
       "              style=\"display:none;\">\n",
       "        \n",
       "  <svg xmlns=\"http://www.w3.org/2000/svg\" height=\"24px\"viewBox=\"0 0 24 24\"\n",
       "       width=\"24px\">\n",
       "    <path d=\"M0 0h24v24H0V0z\" fill=\"none\"/>\n",
       "    <path d=\"M18.56 5.44l.94 2.06.94-2.06 2.06-.94-2.06-.94-.94-2.06-.94 2.06-2.06.94zm-11 1L8.5 8.5l.94-2.06 2.06-.94-2.06-.94L8.5 2.5l-.94 2.06-2.06.94zm10 10l.94 2.06.94-2.06 2.06-.94-2.06-.94-.94-2.06-.94 2.06-2.06.94z\"/><path d=\"M17.41 7.96l-1.37-1.37c-.4-.4-.92-.59-1.43-.59-.52 0-1.04.2-1.43.59L10.3 9.45l-7.72 7.72c-.78.78-.78 2.05 0 2.83L4 21.41c.39.39.9.59 1.41.59.51 0 1.02-.2 1.41-.59l7.78-7.78 2.81-2.81c.8-.78.8-2.07 0-2.86zM5.41 20L4 18.59l7.72-7.72 1.47 1.35L5.41 20z\"/>\n",
       "  </svg>\n",
       "      </button>\n",
       "      \n",
       "  <style>\n",
       "    .colab-df-container {\n",
       "      display:flex;\n",
       "      flex-wrap:wrap;\n",
       "      gap: 12px;\n",
       "    }\n",
       "\n",
       "    .colab-df-convert {\n",
       "      background-color: #E8F0FE;\n",
       "      border: none;\n",
       "      border-radius: 50%;\n",
       "      cursor: pointer;\n",
       "      display: none;\n",
       "      fill: #1967D2;\n",
       "      height: 32px;\n",
       "      padding: 0 0 0 0;\n",
       "      width: 32px;\n",
       "    }\n",
       "\n",
       "    .colab-df-convert:hover {\n",
       "      background-color: #E2EBFA;\n",
       "      box-shadow: 0px 1px 2px rgba(60, 64, 67, 0.3), 0px 1px 3px 1px rgba(60, 64, 67, 0.15);\n",
       "      fill: #174EA6;\n",
       "    }\n",
       "\n",
       "    [theme=dark] .colab-df-convert {\n",
       "      background-color: #3B4455;\n",
       "      fill: #D2E3FC;\n",
       "    }\n",
       "\n",
       "    [theme=dark] .colab-df-convert:hover {\n",
       "      background-color: #434B5C;\n",
       "      box-shadow: 0px 1px 3px 1px rgba(0, 0, 0, 0.15);\n",
       "      filter: drop-shadow(0px 1px 2px rgba(0, 0, 0, 0.3));\n",
       "      fill: #FFFFFF;\n",
       "    }\n",
       "  </style>\n",
       "\n",
       "      <script>\n",
       "        const buttonEl =\n",
       "          document.querySelector('#df-ef6acd12-daeb-488c-9e5e-b8fc7a82a43e button.colab-df-convert');\n",
       "        buttonEl.style.display =\n",
       "          google.colab.kernel.accessAllowed ? 'block' : 'none';\n",
       "\n",
       "        async function convertToInteractive(key) {\n",
       "          const element = document.querySelector('#df-ef6acd12-daeb-488c-9e5e-b8fc7a82a43e');\n",
       "          const dataTable =\n",
       "            await google.colab.kernel.invokeFunction('convertToInteractive',\n",
       "                                                     [key], {});\n",
       "          if (!dataTable) return;\n",
       "\n",
       "          const docLinkHtml = 'Like what you see? Visit the ' +\n",
       "            '<a target=\"_blank\" href=https://colab.research.google.com/notebooks/data_table.ipynb>data table notebook</a>'\n",
       "            + ' to learn more about interactive tables.';\n",
       "          element.innerHTML = '';\n",
       "          dataTable['output_type'] = 'display_data';\n",
       "          await google.colab.output.renderOutput(dataTable, element);\n",
       "          const docLink = document.createElement('div');\n",
       "          docLink.innerHTML = docLinkHtml;\n",
       "          element.appendChild(docLink);\n",
       "        }\n",
       "      </script>\n",
       "    </div>\n",
       "  </div>\n",
       "  "
      ],
      "text/plain": [
       "                        importance                 feature\n",
       "avg_recent_references          274   avg_recent_references\n",
       "avg_words_per_sentence         236  avg_words_per_sentence\n",
       "ar_word_count                  222           ar_word_count\n",
       "en_word_count                  221           en_word_count\n",
       "ref_mention_count              212       ref_mention_count\n",
       "ar_word_avg                    203             ar_word_avg\n",
       "paper_len                      197               paper_len\n",
       "meadian_reference              192       meadian_reference\n",
       "oldest_reference               185        oldest_reference\n",
       "num_sentences                  181           num_sentences\n",
       "en_word_avg                    180             en_word_avg\n",
       "num_publication                150         num_publication\n",
       "num_references                 148          num_references\n",
       "num_tables                     138              num_tables\n",
       "latest_reference               113        latest_reference\n",
       "num_authors                     80             num_authors\n",
       "num_figurs                      65              num_figurs\n",
       "num_charts                       3              num_charts"
      ]
     },
     "execution_count": 118,
     "metadata": {},
     "output_type": "execute_result"
    }
   ],
   "source": [
    "feature_importances_rf['feature'] = feature_importances_rf.index\n",
    "feature_importances_rf"
   ]
  },
  {
   "cell_type": "code",
   "execution_count": null,
   "metadata": {
    "colab": {
     "base_uri": "https://localhost:8080/",
     "height": 592
    },
    "executionInfo": {
     "elapsed": 665,
     "status": "ok",
     "timestamp": 1678347239184,
     "user": {
      "displayName": "Razan HL",
      "userId": "00189607576210306079"
     },
     "user_tz": -180
    },
    "id": "55_DTIFx9Ls1",
    "outputId": "46c3a8e4-1958-4daf-f815-3faadb651469"
   },
   "outputs": [
    {
     "data": {
      "image/png": "[encoded data removed]",
      "text/plain": [
       "<Figure size 1080x720 with 1 Axes>"
      ]
     },
     "metadata": {
      "needs_background": "light"
     },
     "output_type": "display_data"
    }
   ],
   "source": [
    "fig, ax = plt.subplots(figsize=(15, 10))\n",
    "\n",
    "ax.barh(feature_importances_rf.feature, feature_importances_rf.importance, height=0.55, align=\"edge\", color=\"#07a2a2\");\n",
    "plt.show()"
   ]
  },
  {
   "cell_type": "code",
   "execution_count": null,
   "metadata": {
    "id": "fYHkteUz9LkW"
   },
   "outputs": [],
   "source": []
  },
  {
   "cell_type": "code",
   "execution_count": null,
   "metadata": {
    "id": "kxLQEHOp9COB"
   },
   "outputs": [],
   "source": []
  },
  {
   "cell_type": "markdown",
   "metadata": {
    "id": "OCT3xPk03ope"
   },
   "source": [
    "# DecisionTreeRegressor"
   ]
  },
  {
   "cell_type": "markdown",
   "metadata": {
    "id": "4OnUUO9jSXHQ"
   },
   "source": [
    "smoter for train set only:"
   ]
  },
  {
   "cell_type": "code",
   "execution_count": 164,
   "metadata": {
    "colab": {
     "base_uri": "https://localhost:8080/"
    },
    "executionInfo": {
     "elapsed": 474,
     "status": "ok",
     "timestamp": 1679219862797,
     "user": {
      "displayName": "Razan HL",
      "userId": "00189607576210306079"
     },
     "user_tz": -180
    },
    "id": "75VRUnj9SoiL",
    "outputId": "5d558be2-c2d6-451e-8b5c-2951ded9cb12"
   },
   "outputs": [
    {
     "data": {
      "text/plain": [
       "(0.639468125773248, 1.0)"
      ]
     },
     "execution_count": 164,
     "metadata": {},
     "output_type": "execute_result"
    }
   ],
   "source": [
    "dt_cv = DecisionTreeRegressor()\n",
    "# with scaling:\n",
    "\n",
    "regression_df = TransformedTargetRegressor(regressor=dt_cv, transformer=MinMaxScaler())\n",
    "\n",
    "regression_df_cv = regression_df.fit(X_train,y_train)\n",
    "y_pred = regression_df_cv.predict(X_test)\n",
    "regression_df_cv.score(X_test, y_test), regression_df_cv.score(X_train, y_train)"
   ]
  },
  {
   "cell_type": "code",
   "execution_count": 182,
   "metadata": {
    "colab": {
     "base_uri": "https://localhost:8080/"
    },
    "executionInfo": {
     "elapsed": 371,
     "status": "ok",
     "timestamp": 1679220255368,
     "user": {
      "displayName": "Razan HL",
      "userId": "00189607576210306079"
     },
     "user_tz": -180
    },
    "id": "dd564dfOS5r3",
    "outputId": "ec7caf5e-7265-4c40-f508-107ae417ac18"
   },
   "outputs": [
    {
     "data": {
      "text/plain": [
       "(0.6771767972117392, 1.0)"
      ]
     },
     "execution_count": 182,
     "metadata": {},
     "output_type": "execute_result"
    }
   ],
   "source": [
    "# no scaling:\n",
    "dt = DecisionTreeRegressor()\n",
    "dt_cv = dt.fit(X_train,y_train)\n",
    "y_pred = dt_cv.predict(X_test)\n",
    "dt_cv.score(X_test, y_test), dt_cv.score(X_train, y_train)"
   ]
  },
  {
   "cell_type": "code",
   "execution_count": 183,
   "metadata": {
    "colab": {
     "base_uri": "https://localhost:8080/"
    },
    "executionInfo": {
     "elapsed": 401,
     "status": "ok",
     "timestamp": 1679220276044,
     "user": {
      "displayName": "Razan HL",
      "userId": "00189607576210306079"
     },
     "user_tz": -180
    },
    "id": "aN3Rk6z8SoiN",
    "outputId": "b316b91b-0fc5-4e73-fa16-c5836b48e0b2"
   },
   "outputs": [
    {
     "data": {
      "text/plain": [
       "0.47912872028501446"
      ]
     },
     "execution_count": 183,
     "metadata": {},
     "output_type": "execute_result"
    }
   ],
   "source": [
    "RMSE_cv = (mean_squared_error(y_test, y_pred))**(1/2)\n",
    "RMSE_cv"
   ]
  },
  {
   "cell_type": "code",
   "execution_count": 184,
   "metadata": {
    "colab": {
     "base_uri": "https://localhost:8080/"
    },
    "executionInfo": {
     "elapsed": 336,
     "status": "ok",
     "timestamp": 1679220287970,
     "user": {
      "displayName": "Razan HL",
      "userId": "00189607576210306079"
     },
     "user_tz": -180
    },
    "id": "2EWlLYbNUOZi",
    "outputId": "b82be2e9-1029-4820-c6cf-1df4f42e7e47"
   },
   "outputs": [
    {
     "name": "stderr",
     "output_type": "stream",
     "text": [
      "/usr/local/lib/python3.9/dist-packages/sklearn/base.py:439: UserWarning: X does not have valid feature names, but DecisionTreeRegressor was fitted with feature names\n",
      "  warnings.warn(\n"
     ]
    },
    {
     "data": {
      "text/plain": [
       "(3.7331372552352935, 3.7331372552352935)"
      ]
     },
     "execution_count": 184,
     "metadata": {},
     "output_type": "execute_result"
    }
   ],
   "source": [
    "result = dt_cv.predict([X_test.loc[0]])\n",
    "result[0], y_test[0]"
   ]
  },
  {
   "cell_type": "code",
   "execution_count": 170,
   "metadata": {
    "colab": {
     "base_uri": "https://localhost:8080/"
    },
    "executionInfo": {
     "elapsed": 395,
     "status": "ok",
     "timestamp": 1679220122143,
     "user": {
      "displayName": "Razan HL",
      "userId": "00189607576210306079"
     },
     "user_tz": -180
    },
    "id": "9rlg3328UOZj",
    "outputId": "fa33191f-e617-4a62-f2e7-145844cb860f"
   },
   "outputs": [
    {
     "name": "stderr",
     "output_type": "stream",
     "text": [
      "/usr/local/lib/python3.9/dist-packages/sklearn/base.py:439: UserWarning: X does not have valid feature names, but DecisionTreeRegressor was fitted with feature names\n",
      "  warnings.warn(\n"
     ]
    },
    {
     "data": {
      "text/plain": [
       "(1.9566666670000004, 1.9566666670000004)"
      ]
     },
     "execution_count": 170,
     "metadata": {},
     "output_type": "execute_result"
    }
   ],
   "source": [
    "result = dt_cv.predict([X_test.loc[33]])\n",
    "result[0], y_test[33]"
   ]
  },
  {
   "cell_type": "code",
   "execution_count": 171,
   "metadata": {
    "colab": {
     "base_uri": "https://localhost:8080/"
    },
    "executionInfo": {
     "elapsed": 596,
     "status": "ok",
     "timestamp": 1679220130919,
     "user": {
      "displayName": "Razan HL",
      "userId": "00189607576210306079"
     },
     "user_tz": -180
    },
    "id": "s8oekzOWUOZk",
    "outputId": "df92256b-4930-4876-9746-f62cbe0fd5a6"
   },
   "outputs": [
    {
     "name": "stderr",
     "output_type": "stream",
     "text": [
      "/usr/local/lib/python3.9/dist-packages/sklearn/base.py:439: UserWarning: X does not have valid feature names, but DecisionTreeRegressor was fitted with feature names\n",
      "  warnings.warn(\n"
     ]
    },
    {
     "data": {
      "text/plain": [
       "(4.092527472384616, 4.092527472384616)"
      ]
     },
     "execution_count": 171,
     "metadata": {},
     "output_type": "execute_result"
    }
   ],
   "source": [
    "result = dt_cv.predict([X_test.loc[30]])\n",
    "result[0], y_test[30]"
   ]
  },
  {
   "cell_type": "code",
   "execution_count": 172,
   "metadata": {
    "colab": {
     "base_uri": "https://localhost:8080/"
    },
    "executionInfo": {
     "elapsed": 461,
     "status": "ok",
     "timestamp": 1679220141634,
     "user": {
      "displayName": "Razan HL",
      "userId": "00189607576210306079"
     },
     "user_tz": -180
    },
    "id": "gm302XnjUOZl",
    "outputId": "1910849c-8d69-40dc-c922-8dabd62b92e8"
   },
   "outputs": [
    {
     "name": "stderr",
     "output_type": "stream",
     "text": [
      "/usr/local/lib/python3.9/dist-packages/sklearn/base.py:439: UserWarning: X does not have valid feature names, but DecisionTreeRegressor was fitted with feature names\n",
      "  warnings.warn(\n"
     ]
    },
    {
     "data": {
      "text/plain": [
       "(4.716333333111111, 4.716333333111111)"
      ]
     },
     "execution_count": 172,
     "metadata": {},
     "output_type": "execute_result"
    }
   ],
   "source": [
    "result = dt_cv.predict([X_test.loc[49]])\n",
    "result[0], y_test[49]"
   ]
  },
  {
   "cell_type": "code",
   "execution_count": 175,
   "metadata": {
    "colab": {
     "base_uri": "https://localhost:8080/"
    },
    "executionInfo": {
     "elapsed": 340,
     "status": "ok",
     "timestamp": 1679220168242,
     "user": {
      "displayName": "Razan HL",
      "userId": "00189607576210306079"
     },
     "user_tz": -180
    },
    "id": "eW5NC4-UUOZl",
    "outputId": "bdd3bdd4-ae6a-4cf7-b55f-61bdca5fd266"
   },
   "outputs": [
    {
     "name": "stderr",
     "output_type": "stream",
     "text": [
      "/usr/local/lib/python3.9/dist-packages/sklearn/base.py:439: UserWarning: X does not have valid feature names, but DecisionTreeRegressor was fitted with feature names\n",
      "  warnings.warn(\n"
     ]
    },
    {
     "data": {
      "text/plain": [
       "(2.303333333, 2.303333333)"
      ]
     },
     "execution_count": 175,
     "metadata": {},
     "output_type": "execute_result"
    }
   ],
   "source": [
    "result = dt_cv.predict([X_test.loc[50]])\n",
    "result[0], y_test[50]"
   ]
  },
  {
   "cell_type": "code",
   "execution_count": null,
   "metadata": {
    "id": "y0mnw60CUOZm"
   },
   "outputs": [],
   "source": [
    "feature_importances_rf= pd.DataFrame(dt_cv.feature_importances_, index = X_train.columns, columns = ['importance']).sort_values('importance', ascending=False)\n",
    "feature_importances_rf"
   ]
  },
  {
   "cell_type": "code",
   "execution_count": 178,
   "metadata": {
    "colab": {
     "base_uri": "https://localhost:8080/",
     "height": 613
    },
    "executionInfo": {
     "elapsed": 358,
     "status": "ok",
     "timestamp": 1679220199272,
     "user": {
      "displayName": "Razan HL",
      "userId": "00189607576210306079"
     },
     "user_tz": -180
    },
    "id": "QPe2YuFiUOZm",
    "outputId": "b689981b-c963-4609-ba61-c100f2f50e0a"
   },
   "outputs": [
    {
     "data": {
      "text/html": [
       "\n",
       "  <div id=\"df-a7edfa4d-c9dc-4b43-97f4-06a6adc6a4cd\">\n",
       "    <div class=\"colab-df-container\">\n",
       "      <div>\n",
       "<style scoped>\n",
       "    .dataframe tbody tr th:only-of-type {\n",
       "        vertical-align: middle;\n",
       "    }\n",
       "\n",
       "    .dataframe tbody tr th {\n",
       "        vertical-align: top;\n",
       "    }\n",
       "\n",
       "    .dataframe thead th {\n",
       "        text-align: right;\n",
       "    }\n",
       "</style>\n",
       "<table border=\"1\" class=\"dataframe\">\n",
       "  <thead>\n",
       "    <tr style=\"text-align: right;\">\n",
       "      <th></th>\n",
       "      <th>importance</th>\n",
       "      <th>feature</th>\n",
       "    </tr>\n",
       "  </thead>\n",
       "  <tbody>\n",
       "    <tr>\n",
       "      <th>num_references</th>\n",
       "      <td>0.248129</td>\n",
       "      <td>num_references</td>\n",
       "    </tr>\n",
       "    <tr>\n",
       "      <th>avg_recent_references</th>\n",
       "      <td>0.138489</td>\n",
       "      <td>avg_recent_references</td>\n",
       "    </tr>\n",
       "    <tr>\n",
       "      <th>num_authors</th>\n",
       "      <td>0.105112</td>\n",
       "      <td>num_authors</td>\n",
       "    </tr>\n",
       "    <tr>\n",
       "      <th>en_word_count</th>\n",
       "      <td>0.096897</td>\n",
       "      <td>en_word_count</td>\n",
       "    </tr>\n",
       "    <tr>\n",
       "      <th>avg_words_per_sentence</th>\n",
       "      <td>0.063849</td>\n",
       "      <td>avg_words_per_sentence</td>\n",
       "    </tr>\n",
       "    <tr>\n",
       "      <th>num_publication</th>\n",
       "      <td>0.053889</td>\n",
       "      <td>num_publication</td>\n",
       "    </tr>\n",
       "    <tr>\n",
       "      <th>ref_mention_count</th>\n",
       "      <td>0.047691</td>\n",
       "      <td>ref_mention_count</td>\n",
       "    </tr>\n",
       "    <tr>\n",
       "      <th>num_sentences</th>\n",
       "      <td>0.036545</td>\n",
       "      <td>num_sentences</td>\n",
       "    </tr>\n",
       "    <tr>\n",
       "      <th>paper_len</th>\n",
       "      <td>0.034608</td>\n",
       "      <td>paper_len</td>\n",
       "    </tr>\n",
       "    <tr>\n",
       "      <th>meadian_reference</th>\n",
       "      <td>0.030714</td>\n",
       "      <td>meadian_reference</td>\n",
       "    </tr>\n",
       "    <tr>\n",
       "      <th>num_tables</th>\n",
       "      <td>0.026567</td>\n",
       "      <td>num_tables</td>\n",
       "    </tr>\n",
       "    <tr>\n",
       "      <th>oldest_reference</th>\n",
       "      <td>0.025747</td>\n",
       "      <td>oldest_reference</td>\n",
       "    </tr>\n",
       "    <tr>\n",
       "      <th>ar_word_count</th>\n",
       "      <td>0.023364</td>\n",
       "      <td>ar_word_count</td>\n",
       "    </tr>\n",
       "    <tr>\n",
       "      <th>en_word_avg</th>\n",
       "      <td>0.022279</td>\n",
       "      <td>en_word_avg</td>\n",
       "    </tr>\n",
       "    <tr>\n",
       "      <th>latest_reference</th>\n",
       "      <td>0.015497</td>\n",
       "      <td>latest_reference</td>\n",
       "    </tr>\n",
       "    <tr>\n",
       "      <th>ar_word_avg</th>\n",
       "      <td>0.014912</td>\n",
       "      <td>ar_word_avg</td>\n",
       "    </tr>\n",
       "    <tr>\n",
       "      <th>num_figurs</th>\n",
       "      <td>0.012247</td>\n",
       "      <td>num_figurs</td>\n",
       "    </tr>\n",
       "    <tr>\n",
       "      <th>num_charts</th>\n",
       "      <td>0.003461</td>\n",
       "      <td>num_charts</td>\n",
       "    </tr>\n",
       "  </tbody>\n",
       "</table>\n",
       "</div>\n",
       "      <button class=\"colab-df-convert\" onclick=\"convertToInteractive('df-a7edfa4d-c9dc-4b43-97f4-06a6adc6a4cd')\"\n",
       "              title=\"Convert this dataframe to an interactive table.\"\n",
       "              style=\"display:none;\">\n",
       "        \n",
       "  <svg xmlns=\"http://www.w3.org/2000/svg\" height=\"24px\"viewBox=\"0 0 24 24\"\n",
       "       width=\"24px\">\n",
       "    <path d=\"M0 0h24v24H0V0z\" fill=\"none\"/>\n",
       "    <path d=\"M18.56 5.44l.94 2.06.94-2.06 2.06-.94-2.06-.94-.94-2.06-.94 2.06-2.06.94zm-11 1L8.5 8.5l.94-2.06 2.06-.94-2.06-.94L8.5 2.5l-.94 2.06-2.06.94zm10 10l.94 2.06.94-2.06 2.06-.94-2.06-.94-.94-2.06-.94 2.06-2.06.94z\"/><path d=\"M17.41 7.96l-1.37-1.37c-.4-.4-.92-.59-1.43-.59-.52 0-1.04.2-1.43.59L10.3 9.45l-7.72 7.72c-.78.78-.78 2.05 0 2.83L4 21.41c.39.39.9.59 1.41.59.51 0 1.02-.2 1.41-.59l7.78-7.78 2.81-2.81c.8-.78.8-2.07 0-2.86zM5.41 20L4 18.59l7.72-7.72 1.47 1.35L5.41 20z\"/>\n",
       "  </svg>\n",
       "      </button>\n",
       "      \n",
       "  <style>\n",
       "    .colab-df-container {\n",
       "      display:flex;\n",
       "      flex-wrap:wrap;\n",
       "      gap: 12px;\n",
       "    }\n",
       "\n",
       "    .colab-df-convert {\n",
       "      background-color: #E8F0FE;\n",
       "      border: none;\n",
       "      border-radius: 50%;\n",
       "      cursor: pointer;\n",
       "      display: none;\n",
       "      fill: #1967D2;\n",
       "      height: 32px;\n",
       "      padding: 0 0 0 0;\n",
       "      width: 32px;\n",
       "    }\n",
       "\n",
       "    .colab-df-convert:hover {\n",
       "      background-color: #E2EBFA;\n",
       "      box-shadow: 0px 1px 2px rgba(60, 64, 67, 0.3), 0px 1px 3px 1px rgba(60, 64, 67, 0.15);\n",
       "      fill: #174EA6;\n",
       "    }\n",
       "\n",
       "    [theme=dark] .colab-df-convert {\n",
       "      background-color: #3B4455;\n",
       "      fill: #D2E3FC;\n",
       "    }\n",
       "\n",
       "    [theme=dark] .colab-df-convert:hover {\n",
       "      background-color: #434B5C;\n",
       "      box-shadow: 0px 1px 3px 1px rgba(0, 0, 0, 0.15);\n",
       "      filter: drop-shadow(0px 1px 2px rgba(0, 0, 0, 0.3));\n",
       "      fill: #FFFFFF;\n",
       "    }\n",
       "  </style>\n",
       "\n",
       "      <script>\n",
       "        const buttonEl =\n",
       "          document.querySelector('#df-a7edfa4d-c9dc-4b43-97f4-06a6adc6a4cd button.colab-df-convert');\n",
       "        buttonEl.style.display =\n",
       "          google.colab.kernel.accessAllowed ? 'block' : 'none';\n",
       "\n",
       "        async function convertToInteractive(key) {\n",
       "          const element = document.querySelector('#df-a7edfa4d-c9dc-4b43-97f4-06a6adc6a4cd');\n",
       "          const dataTable =\n",
       "            await google.colab.kernel.invokeFunction('convertToInteractive',\n",
       "                                                     [key], {});\n",
       "          if (!dataTable) return;\n",
       "\n",
       "          const docLinkHtml = 'Like what you see? Visit the ' +\n",
       "            '<a target=\"_blank\" href=https://colab.research.google.com/notebooks/data_table.ipynb>data table notebook</a>'\n",
       "            + ' to learn more about interactive tables.';\n",
       "          element.innerHTML = '';\n",
       "          dataTable['output_type'] = 'display_data';\n",
       "          await google.colab.output.renderOutput(dataTable, element);\n",
       "          const docLink = document.createElement('div');\n",
       "          docLink.innerHTML = docLinkHtml;\n",
       "          element.appendChild(docLink);\n",
       "        }\n",
       "      </script>\n",
       "    </div>\n",
       "  </div>\n",
       "  "
      ],
      "text/plain": [
       "                        importance                 feature\n",
       "num_references            0.248129          num_references\n",
       "avg_recent_references     0.138489   avg_recent_references\n",
       "num_authors               0.105112             num_authors\n",
       "en_word_count             0.096897           en_word_count\n",
       "avg_words_per_sentence    0.063849  avg_words_per_sentence\n",
       "num_publication           0.053889         num_publication\n",
       "ref_mention_count         0.047691       ref_mention_count\n",
       "num_sentences             0.036545           num_sentences\n",
       "paper_len                 0.034608               paper_len\n",
       "meadian_reference         0.030714       meadian_reference\n",
       "num_tables                0.026567              num_tables\n",
       "oldest_reference          0.025747        oldest_reference\n",
       "ar_word_count             0.023364           ar_word_count\n",
       "en_word_avg               0.022279             en_word_avg\n",
       "latest_reference          0.015497        latest_reference\n",
       "ar_word_avg               0.014912             ar_word_avg\n",
       "num_figurs                0.012247              num_figurs\n",
       "num_charts                0.003461              num_charts"
      ]
     },
     "execution_count": 178,
     "metadata": {},
     "output_type": "execute_result"
    }
   ],
   "source": [
    "feature_importances_rf['feature'] = feature_importances_rf.index\n",
    "feature_importances_rf"
   ]
  },
  {
   "cell_type": "code",
   "execution_count": 179,
   "metadata": {
    "colab": {
     "base_uri": "https://localhost:8080/",
     "height": 592
    },
    "executionInfo": {
     "elapsed": 646,
     "status": "ok",
     "timestamp": 1679220207422,
     "user": {
      "displayName": "Razan HL",
      "userId": "00189607576210306079"
     },
     "user_tz": -180
    },
    "id": "Hpkm725bUOZn",
    "outputId": "e34d3ecf-a391-4fa9-9fd6-1dc2810218cc"
   },
   "outputs": [
    {
     "data": {
      "image/png": "[encoded data removed]",
      "text/plain": [
       "<Figure size 1080x720 with 1 Axes>"
      ]
     },
     "metadata": {
      "needs_background": "light"
     },
     "output_type": "display_data"
    }
   ],
   "source": [
    "fig, ax = plt.subplots(figsize=(15, 10))\n",
    "\n",
    "ax.barh(feature_importances_rf.feature, feature_importances_rf.importance, height=0.55, align=\"edge\", color=\"#07a2a2\");\n",
    "plt.show()"
   ]
  },
  {
   "cell_type": "markdown",
   "metadata": {
    "id": "D0Xp08FrSpA3"
   },
   "source": [
    "smoter for train & test set:"
   ]
  },
  {
   "cell_type": "code",
   "execution_count": 198,
   "metadata": {
    "colab": {
     "base_uri": "https://localhost:8080/"
    },
    "executionInfo": {
     "elapsed": 433,
     "status": "ok",
     "timestamp": 1679220573537,
     "user": {
      "displayName": "Razan HL",
      "userId": "00189607576210306079"
     },
     "user_tz": -180
    },
    "id": "Ym4NNY39fUqx",
    "outputId": "49c3ad19-a1dc-4f57-fb3e-ec4bc0e2edac"
   },
   "outputs": [
    {
     "data": {
      "text/plain": [
       "(0.6386255674144226, 1.0)"
      ]
     },
     "execution_count": 198,
     "metadata": {},
     "output_type": "execute_result"
    }
   ],
   "source": [
    "dt_cv = DecisionTreeRegressor()\n",
    "regression_df = TransformedTargetRegressor(regressor=dt_cv, transformer=MinMaxScaler())\n",
    "\n",
    "regression_df_cv= regression_df.fit(X_train,y_train)\n",
    "y_pred = regression_df_cv.predict(X_test)\n",
    "regression_df_cv.score(X_test, y_test), regression_df_cv.score(X_train, y_train)"
   ]
  },
  {
   "cell_type": "code",
   "execution_count": 205,
   "metadata": {
    "colab": {
     "base_uri": "https://localhost:8080/"
    },
    "executionInfo": {
     "elapsed": 364,
     "status": "ok",
     "timestamp": 1679220671196,
     "user": {
      "displayName": "Razan HL",
      "userId": "00189607576210306079"
     },
     "user_tz": -180
    },
    "id": "EdOYVXZ6Wbaw",
    "outputId": "515783bd-2e52-4be0-bfa8-051c67f1db7d"
   },
   "outputs": [
    {
     "data": {
      "text/plain": [
       "(0.6302900838883012, 1.0)"
      ]
     },
     "execution_count": 205,
     "metadata": {},
     "output_type": "execute_result"
    }
   ],
   "source": [
    "# no scaling:\n",
    "dt = DecisionTreeRegressor()\n",
    "dt_cv = dt.fit(X_train,y_train)\n",
    "y_pred = dt_cv.predict(X_test)\n",
    "dt_cv.score(X_test, y_test), dt_cv.score(X_train, y_train)"
   ]
  },
  {
   "cell_type": "code",
   "execution_count": 207,
   "metadata": {
    "colab": {
     "base_uri": "https://localhost:8080/"
    },
    "executionInfo": {
     "elapsed": 336,
     "status": "ok",
     "timestamp": 1679220685441,
     "user": {
      "displayName": "Razan HL",
      "userId": "00189607576210306079"
     },
     "user_tz": -180
    },
    "id": "Igfee3ckfUqy",
    "outputId": "01da7042-768b-46f9-cb4a-fcd532623e13"
   },
   "outputs": [
    {
     "data": {
      "text/plain": [
       "0.6648815251419057"
      ]
     },
     "execution_count": 207,
     "metadata": {},
     "output_type": "execute_result"
    }
   ],
   "source": [
    "RMSE_cv = (mean_squared_error(y_test, y_pred))**(1/2)\n",
    "RMSE_cv"
   ]
  },
  {
   "cell_type": "code",
   "execution_count": 208,
   "metadata": {
    "colab": {
     "base_uri": "https://localhost:8080/"
    },
    "executionInfo": {
     "elapsed": 374,
     "status": "ok",
     "timestamp": 1679220690685,
     "user": {
      "displayName": "Razan HL",
      "userId": "00189607576210306079"
     },
     "user_tz": -180
    },
    "id": "mvE65W6kWRbK",
    "outputId": "33a0fda5-94e5-4735-be41-329d6178ae91"
   },
   "outputs": [
    {
     "name": "stderr",
     "output_type": "stream",
     "text": [
      "/usr/local/lib/python3.9/dist-packages/sklearn/base.py:439: UserWarning: X does not have valid feature names, but DecisionTreeRegressor was fitted with feature names\n",
      "  warnings.warn(\n"
     ]
    },
    {
     "data": {
      "text/plain": [
       "(3.7331372552352935, 3.7331372552352935)"
      ]
     },
     "execution_count": 208,
     "metadata": {},
     "output_type": "execute_result"
    }
   ],
   "source": [
    "result = dt_cv.predict([X_test.loc[0]])\n",
    "result[0], y_test[0]"
   ]
  },
  {
   "cell_type": "code",
   "execution_count": 209,
   "metadata": {
    "colab": {
     "base_uri": "https://localhost:8080/"
    },
    "executionInfo": {
     "elapsed": 477,
     "status": "ok",
     "timestamp": 1679220696439,
     "user": {
      "displayName": "Razan HL",
      "userId": "00189607576210306079"
     },
     "user_tz": -180
    },
    "id": "Zvx8rWcFWRbM",
    "outputId": "af91625f-3e9a-49d3-b50b-f73231d1abd6"
   },
   "outputs": [
    {
     "name": "stderr",
     "output_type": "stream",
     "text": [
      "/usr/local/lib/python3.9/dist-packages/sklearn/base.py:439: UserWarning: X does not have valid feature names, but DecisionTreeRegressor was fitted with feature names\n",
      "  warnings.warn(\n"
     ]
    },
    {
     "data": {
      "text/plain": [
       "(3.549999999666668, 3.549999999666668)"
      ]
     },
     "execution_count": 209,
     "metadata": {},
     "output_type": "execute_result"
    }
   ],
   "source": [
    "result = dt_cv.predict([X_test.loc[33]])\n",
    "result[0], y_test[33]"
   ]
  },
  {
   "cell_type": "code",
   "execution_count": 210,
   "metadata": {
    "colab": {
     "base_uri": "https://localhost:8080/"
    },
    "executionInfo": {
     "elapsed": 390,
     "status": "ok",
     "timestamp": 1679220701544,
     "user": {
      "displayName": "Razan HL",
      "userId": "00189607576210306079"
     },
     "user_tz": -180
    },
    "id": "_mPukySVWRbM",
    "outputId": "6d173cd9-8d2d-4d8c-d159-68ba1ecbdf56"
   },
   "outputs": [
    {
     "name": "stderr",
     "output_type": "stream",
     "text": [
      "/usr/local/lib/python3.9/dist-packages/sklearn/base.py:439: UserWarning: X does not have valid feature names, but DecisionTreeRegressor was fitted with feature names\n",
      "  warnings.warn(\n"
     ]
    },
    {
     "data": {
      "text/plain": [
       "(1.9566666670000004, 1.9566666670000004)"
      ]
     },
     "execution_count": 210,
     "metadata": {},
     "output_type": "execute_result"
    }
   ],
   "source": [
    "result = dt_cv.predict([X_test.loc[30]])\n",
    "result[0], y_test[30]"
   ]
  },
  {
   "cell_type": "code",
   "execution_count": 211,
   "metadata": {
    "colab": {
     "base_uri": "https://localhost:8080/"
    },
    "executionInfo": {
     "elapsed": 718,
     "status": "ok",
     "timestamp": 1679220709507,
     "user": {
      "displayName": "Razan HL",
      "userId": "00189607576210306079"
     },
     "user_tz": -180
    },
    "id": "B2H0rcBSWRbN",
    "outputId": "a4fcc7b4-34cb-4213-b0d4-d61a18d027af"
   },
   "outputs": [
    {
     "name": "stderr",
     "output_type": "stream",
     "text": [
      "/usr/local/lib/python3.9/dist-packages/sklearn/base.py:439: UserWarning: X does not have valid feature names, but DecisionTreeRegressor was fitted with feature names\n",
      "  warnings.warn(\n"
     ]
    },
    {
     "data": {
      "text/plain": [
       "(3.4351190472857143, 3.108587570288136)"
      ]
     },
     "execution_count": 211,
     "metadata": {},
     "output_type": "execute_result"
    }
   ],
   "source": [
    "result = dt_cv.predict([X_test.loc[49]])\n",
    "result[0], y_test[49]"
   ]
  },
  {
   "cell_type": "code",
   "execution_count": 212,
   "metadata": {
    "colab": {
     "base_uri": "https://localhost:8080/"
    },
    "executionInfo": {
     "elapsed": 351,
     "status": "ok",
     "timestamp": 1679220712418,
     "user": {
      "displayName": "Razan HL",
      "userId": "00189607576210306079"
     },
     "user_tz": -180
    },
    "id": "U2pXHS1QWRbN",
    "outputId": "4847ba49-40b2-4558-8150-95f978652218"
   },
   "outputs": [
    {
     "name": "stderr",
     "output_type": "stream",
     "text": [
      "/usr/local/lib/python3.9/dist-packages/sklearn/base.py:439: UserWarning: X does not have valid feature names, but DecisionTreeRegressor was fitted with feature names\n",
      "  warnings.warn(\n"
     ]
    },
    {
     "data": {
      "text/plain": [
       "(3.296823899037736, 4.968944444555555)"
      ]
     },
     "execution_count": 212,
     "metadata": {},
     "output_type": "execute_result"
    }
   ],
   "source": [
    "result = dt_cv.predict([X_test.loc[50]])\n",
    "result[0], y_test[50]"
   ]
  },
  {
   "cell_type": "code",
   "execution_count": null,
   "metadata": {
    "id": "Q35C0O4QWRbN"
   },
   "outputs": [],
   "source": [
    "feature_importances_rf= pd.DataFrame(dt_cv.feature_importances_, index = X_train.columns, columns = ['importance']).sort_values('importance', ascending=False)\n",
    "feature_importances_rf"
   ]
  },
  {
   "cell_type": "code",
   "execution_count": 214,
   "metadata": {
    "colab": {
     "base_uri": "https://localhost:8080/",
     "height": 613
    },
    "executionInfo": {
     "elapsed": 1333,
     "status": "ok",
     "timestamp": 1679220730032,
     "user": {
      "displayName": "Razan HL",
      "userId": "00189607576210306079"
     },
     "user_tz": -180
    },
    "id": "Pmx8HEX3WRbN",
    "outputId": "53209c26-99db-436c-cc79-5d84d976c7ad"
   },
   "outputs": [
    {
     "data": {
      "text/html": [
       "\n",
       "  <div id=\"df-fe88da2d-7efd-4b52-bb13-bec3e3dca018\">\n",
       "    <div class=\"colab-df-container\">\n",
       "      <div>\n",
       "<style scoped>\n",
       "    .dataframe tbody tr th:only-of-type {\n",
       "        vertical-align: middle;\n",
       "    }\n",
       "\n",
       "    .dataframe tbody tr th {\n",
       "        vertical-align: top;\n",
       "    }\n",
       "\n",
       "    .dataframe thead th {\n",
       "        text-align: right;\n",
       "    }\n",
       "</style>\n",
       "<table border=\"1\" class=\"dataframe\">\n",
       "  <thead>\n",
       "    <tr style=\"text-align: right;\">\n",
       "      <th></th>\n",
       "      <th>importance</th>\n",
       "      <th>feature</th>\n",
       "    </tr>\n",
       "  </thead>\n",
       "  <tbody>\n",
       "    <tr>\n",
       "      <th>num_references</th>\n",
       "      <td>0.244992</td>\n",
       "      <td>num_references</td>\n",
       "    </tr>\n",
       "    <tr>\n",
       "      <th>avg_recent_references</th>\n",
       "      <td>0.137736</td>\n",
       "      <td>avg_recent_references</td>\n",
       "    </tr>\n",
       "    <tr>\n",
       "      <th>num_authors</th>\n",
       "      <td>0.104854</td>\n",
       "      <td>num_authors</td>\n",
       "    </tr>\n",
       "    <tr>\n",
       "      <th>en_word_count</th>\n",
       "      <td>0.096292</td>\n",
       "      <td>en_word_count</td>\n",
       "    </tr>\n",
       "    <tr>\n",
       "      <th>avg_words_per_sentence</th>\n",
       "      <td>0.059933</td>\n",
       "      <td>avg_words_per_sentence</td>\n",
       "    </tr>\n",
       "    <tr>\n",
       "      <th>num_publication</th>\n",
       "      <td>0.051989</td>\n",
       "      <td>num_publication</td>\n",
       "    </tr>\n",
       "    <tr>\n",
       "      <th>ref_mention_count</th>\n",
       "      <td>0.049400</td>\n",
       "      <td>ref_mention_count</td>\n",
       "    </tr>\n",
       "    <tr>\n",
       "      <th>paper_len</th>\n",
       "      <td>0.038401</td>\n",
       "      <td>paper_len</td>\n",
       "    </tr>\n",
       "    <tr>\n",
       "      <th>num_sentences</th>\n",
       "      <td>0.035581</td>\n",
       "      <td>num_sentences</td>\n",
       "    </tr>\n",
       "    <tr>\n",
       "      <th>meadian_reference</th>\n",
       "      <td>0.035336</td>\n",
       "      <td>meadian_reference</td>\n",
       "    </tr>\n",
       "    <tr>\n",
       "      <th>num_tables</th>\n",
       "      <td>0.027457</td>\n",
       "      <td>num_tables</td>\n",
       "    </tr>\n",
       "    <tr>\n",
       "      <th>oldest_reference</th>\n",
       "      <td>0.025846</td>\n",
       "      <td>oldest_reference</td>\n",
       "    </tr>\n",
       "    <tr>\n",
       "      <th>en_word_avg</th>\n",
       "      <td>0.024143</td>\n",
       "      <td>en_word_avg</td>\n",
       "    </tr>\n",
       "    <tr>\n",
       "      <th>ar_word_count</th>\n",
       "      <td>0.021968</td>\n",
       "      <td>ar_word_count</td>\n",
       "    </tr>\n",
       "    <tr>\n",
       "      <th>latest_reference</th>\n",
       "      <td>0.016604</td>\n",
       "      <td>latest_reference</td>\n",
       "    </tr>\n",
       "    <tr>\n",
       "      <th>ar_word_avg</th>\n",
       "      <td>0.015197</td>\n",
       "      <td>ar_word_avg</td>\n",
       "    </tr>\n",
       "    <tr>\n",
       "      <th>num_figurs</th>\n",
       "      <td>0.010804</td>\n",
       "      <td>num_figurs</td>\n",
       "    </tr>\n",
       "    <tr>\n",
       "      <th>num_charts</th>\n",
       "      <td>0.003469</td>\n",
       "      <td>num_charts</td>\n",
       "    </tr>\n",
       "  </tbody>\n",
       "</table>\n",
       "</div>\n",
       "      <button class=\"colab-df-convert\" onclick=\"convertToInteractive('df-fe88da2d-7efd-4b52-bb13-bec3e3dca018')\"\n",
       "              title=\"Convert this dataframe to an interactive table.\"\n",
       "              style=\"display:none;\">\n",
       "        \n",
       "  <svg xmlns=\"http://www.w3.org/2000/svg\" height=\"24px\"viewBox=\"0 0 24 24\"\n",
       "       width=\"24px\">\n",
       "    <path d=\"M0 0h24v24H0V0z\" fill=\"none\"/>\n",
       "    <path d=\"M18.56 5.44l.94 2.06.94-2.06 2.06-.94-2.06-.94-.94-2.06-.94 2.06-2.06.94zm-11 1L8.5 8.5l.94-2.06 2.06-.94-2.06-.94L8.5 2.5l-.94 2.06-2.06.94zm10 10l.94 2.06.94-2.06 2.06-.94-2.06-.94-.94-2.06-.94 2.06-2.06.94z\"/><path d=\"M17.41 7.96l-1.37-1.37c-.4-.4-.92-.59-1.43-.59-.52 0-1.04.2-1.43.59L10.3 9.45l-7.72 7.72c-.78.78-.78 2.05 0 2.83L4 21.41c.39.39.9.59 1.41.59.51 0 1.02-.2 1.41-.59l7.78-7.78 2.81-2.81c.8-.78.8-2.07 0-2.86zM5.41 20L4 18.59l7.72-7.72 1.47 1.35L5.41 20z\"/>\n",
       "  </svg>\n",
       "      </button>\n",
       "      \n",
       "  <style>\n",
       "    .colab-df-container {\n",
       "      display:flex;\n",
       "      flex-wrap:wrap;\n",
       "      gap: 12px;\n",
       "    }\n",
       "\n",
       "    .colab-df-convert {\n",
       "      background-color: #E8F0FE;\n",
       "      border: none;\n",
       "      border-radius: 50%;\n",
       "      cursor: pointer;\n",
       "      display: none;\n",
       "      fill: #1967D2;\n",
       "      height: 32px;\n",
       "      padding: 0 0 0 0;\n",
       "      width: 32px;\n",
       "    }\n",
       "\n",
       "    .colab-df-convert:hover {\n",
       "      background-color: #E2EBFA;\n",
       "      box-shadow: 0px 1px 2px rgba(60, 64, 67, 0.3), 0px 1px 3px 1px rgba(60, 64, 67, 0.15);\n",
       "      fill: #174EA6;\n",
       "    }\n",
       "\n",
       "    [theme=dark] .colab-df-convert {\n",
       "      background-color: #3B4455;\n",
       "      fill: #D2E3FC;\n",
       "    }\n",
       "\n",
       "    [theme=dark] .colab-df-convert:hover {\n",
       "      background-color: #434B5C;\n",
       "      box-shadow: 0px 1px 3px 1px rgba(0, 0, 0, 0.15);\n",
       "      filter: drop-shadow(0px 1px 2px rgba(0, 0, 0, 0.3));\n",
       "      fill: #FFFFFF;\n",
       "    }\n",
       "  </style>\n",
       "\n",
       "      <script>\n",
       "        const buttonEl =\n",
       "          document.querySelector('#df-fe88da2d-7efd-4b52-bb13-bec3e3dca018 button.colab-df-convert');\n",
       "        buttonEl.style.display =\n",
       "          google.colab.kernel.accessAllowed ? 'block' : 'none';\n",
       "\n",
       "        async function convertToInteractive(key) {\n",
       "          const element = document.querySelector('#df-fe88da2d-7efd-4b52-bb13-bec3e3dca018');\n",
       "          const dataTable =\n",
       "            await google.colab.kernel.invokeFunction('convertToInteractive',\n",
       "                                                     [key], {});\n",
       "          if (!dataTable) return;\n",
       "\n",
       "          const docLinkHtml = 'Like what you see? Visit the ' +\n",
       "            '<a target=\"_blank\" href=https://colab.research.google.com/notebooks/data_table.ipynb>data table notebook</a>'\n",
       "            + ' to learn more about interactive tables.';\n",
       "          element.innerHTML = '';\n",
       "          dataTable['output_type'] = 'display_data';\n",
       "          await google.colab.output.renderOutput(dataTable, element);\n",
       "          const docLink = document.createElement('div');\n",
       "          docLink.innerHTML = docLinkHtml;\n",
       "          element.appendChild(docLink);\n",
       "        }\n",
       "      </script>\n",
       "    </div>\n",
       "  </div>\n",
       "  "
      ],
      "text/plain": [
       "                        importance                 feature\n",
       "num_references            0.244992          num_references\n",
       "avg_recent_references     0.137736   avg_recent_references\n",
       "num_authors               0.104854             num_authors\n",
       "en_word_count             0.096292           en_word_count\n",
       "avg_words_per_sentence    0.059933  avg_words_per_sentence\n",
       "num_publication           0.051989         num_publication\n",
       "ref_mention_count         0.049400       ref_mention_count\n",
       "paper_len                 0.038401               paper_len\n",
       "num_sentences             0.035581           num_sentences\n",
       "meadian_reference         0.035336       meadian_reference\n",
       "num_tables                0.027457              num_tables\n",
       "oldest_reference          0.025846        oldest_reference\n",
       "en_word_avg               0.024143             en_word_avg\n",
       "ar_word_count             0.021968           ar_word_count\n",
       "latest_reference          0.016604        latest_reference\n",
       "ar_word_avg               0.015197             ar_word_avg\n",
       "num_figurs                0.010804              num_figurs\n",
       "num_charts                0.003469              num_charts"
      ]
     },
     "execution_count": 214,
     "metadata": {},
     "output_type": "execute_result"
    }
   ],
   "source": [
    "feature_importances_rf['feature'] = feature_importances_rf.index\n",
    "feature_importances_rf"
   ]
  },
  {
   "cell_type": "code",
   "execution_count": 215,
   "metadata": {
    "colab": {
     "base_uri": "https://localhost:8080/",
     "height": 592
    },
    "executionInfo": {
     "elapsed": 581,
     "status": "ok",
     "timestamp": 1679220733726,
     "user": {
      "displayName": "Razan HL",
      "userId": "00189607576210306079"
     },
     "user_tz": -180
    },
    "id": "WvZ1J4q6WRbO",
    "outputId": "27957734-231b-4b9c-9339-b7a3ef382a74"
   },
   "outputs": [
    {
     "data": {
      "image/png": "[encoded data removed]",
      "text/plain": [
       "<Figure size 1080x720 with 1 Axes>"
      ]
     },
     "metadata": {
      "needs_background": "light"
     },
     "output_type": "display_data"
    }
   ],
   "source": [
    "fig, ax = plt.subplots(figsize=(15, 10))\n",
    "\n",
    "ax.barh(feature_importances_rf.feature, feature_importances_rf.importance, height=0.55, align=\"edge\", color=\"#07a2a2\");\n",
    "plt.show()"
   ]
  }
 ],
 "metadata": {
  "colab": {
   "authorship_tag": "ABX9TyNzzIbZ4qN3q/nW1t+p2N5W",
   "collapsed_sections": [
    "GN1yjDYhdnFL",
    "y9sQt6V4WrTG",
    "s2U9TzZxeFOl",
    "OC-7xQn5yLQG",
    "WN3E0L7VyDzX",
    "957XGA0M15Dw",
    "OCT3xPk03ope"
   ],
   "mount_file_id": "1R72c6hgiSHvENve7568MsNPQY2VQ2pPq",
   "provenance": [
    {
     "file_id": "1Ke9nm2ZnQqc-UaFdrvqNoURQ7bbHF1jG",
     "timestamp": 1661000496208
    }
   ]
  },
  "gpuClass": "standard",
  "kernelspec": {
   "display_name": "Python 3 (ipykernel)",
   "language": "python",
   "name": "python3"
  },
  "language_info": {
   "codemirror_mode": {
    "name": "ipython",
    "version": 3
   },
   "file_extension": ".py",
   "mimetype": "text/x-python",
   "name": "python",
   "nbconvert_exporter": "python",
   "pygments_lexer": "ipython3",
   "version": "3.9.7"
  }
 },
 "nbformat": 4,
 "nbformat_minor": 1
}
