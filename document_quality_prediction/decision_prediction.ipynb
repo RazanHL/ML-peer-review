{
 "cells": [
  {
   "cell_type": "markdown",
   "metadata": {
    "id": "GN1yjDYhdnFL"
   },
   "source": [
    "# Importing Requerments:"
   ]
  },
  {
   "cell_type": "code",
   "execution_count": null,
   "metadata": {
    "colab": {
     "base_uri": "https://localhost:8080/"
    },
    "executionInfo": {
     "elapsed": 13748,
     "status": "ok",
     "timestamp": 1679221112387,
     "user": {
      "displayName": "Razan HL",
      "userId": "00189607576210306079"
     },
     "user_tz": -180
    },
    "id": "7hWvl7HRLYUl",
    "outputId": "a0fc858f-38e8-48c0-baf5-3bc93843af8a"
   },
   "outputs": [
    {
     "name": "stdout",
     "output_type": "stream",
     "text": [
      "Drive already mounted at /content/drive; to attempt to forcibly remount, call drive.mount(\"/content/drive\", force_remount=True).\n"
     ]
    }
   ],
   "source": [
    "from google.colab import drive\n",
    "drive.mount('/content/drive')"
   ]
  },
  {
   "cell_type": "code",
   "execution_count": null,
   "metadata": {
    "id": "6V8OwS5VxO08"
   },
   "outputs": [],
   "source": [
    "# import torch\n",
    "from datetime import datetime\n",
    "import pandas as pd\n",
    "import numpy as np\n",
    "import sys\n",
    "import statistics as st\n",
    "import matplotlib.pyplot as plt\n",
    "import seaborn as sns\n",
    "from sklearn.metrics import r2_score, mean_squared_error, mean_absolute_error, median_absolute_error, mean_absolute_percentage_error"
   ]
  },
  {
   "cell_type": "code",
   "execution_count": null,
   "metadata": {
    "colab": {
     "base_uri": "https://localhost:8080/"
    },
    "executionInfo": {
     "elapsed": 13829,
     "status": "ok",
     "timestamp": 1679221127877,
     "user": {
      "displayName": "Razan HL",
      "userId": "00189607576210306079"
     },
     "user_tz": -180
    },
    "id": "VKTL2iU-aOjV",
    "outputId": "e501fa00-b399-4514-b83d-55d9892bf3e7"
   },
   "outputs": [
    {
     "name": "stdout",
     "output_type": "stream",
     "text": [
      "Looking in indexes: https://pypi.org/simple, https://us-python.pkg.dev/colab-wheels/public/simple/\n",
      "Collecting smogn\n",
      "  Downloading smogn-0.1.2-py3-none-any.whl (30 kB)\n",
      "Requirement already satisfied: numpy in /usr/local/lib/python3.9/dist-packages (from smogn) (1.22.4)\n",
      "Requirement already satisfied: pandas in /usr/local/lib/python3.9/dist-packages (from smogn) (1.4.4)\n",
      "Requirement already satisfied: tqdm in /usr/local/lib/python3.9/dist-packages (from smogn) (4.65.0)\n",
      "Requirement already satisfied: python-dateutil>=2.8.1 in /usr/local/lib/python3.9/dist-packages (from pandas->smogn) (2.8.2)\n",
      "Requirement already satisfied: pytz>=2020.1 in /usr/local/lib/python3.9/dist-packages (from pandas->smogn) (2022.7.1)\n",
      "Requirement already satisfied: six>=1.5 in /usr/local/lib/python3.9/dist-packages (from python-dateutil>=2.8.1->pandas->smogn) (1.15.0)\n",
      "Installing collected packages: smogn\n",
      "Successfully installed smogn-0.1.2\n"
     ]
    }
   ],
   "source": [
    "!pip install smogn"
   ]
  },
  {
   "cell_type": "code",
   "execution_count": null,
   "metadata": {
    "id": "F0ZHDs7HHT3m"
   },
   "outputs": [],
   "source": [
    "import smogn"
   ]
  },
  {
   "cell_type": "code",
   "execution_count": null,
   "metadata": {
    "id": "GXogxUfS2yoU"
   },
   "outputs": [],
   "source": [
    "!pip install farasapy"
   ]
  },
  {
   "cell_type": "code",
   "execution_count": null,
   "metadata": {
    "id": "usI1s7HG1D9c"
   },
   "outputs": [],
   "source": [
    "from farasa.stemmer import FarasaStemmer\n",
    "import re\n",
    "import string\n",
    "from nltk.corpus import stopwords"
   ]
  },
  {
   "cell_type": "code",
   "execution_count": null,
   "metadata": {
    "id": "OYxe3Kvrhf5O"
   },
   "outputs": [],
   "source": [
    "from sklearn.feature_extraction.text import TfidfVectorizer, CountVectorizer\n",
    "from sklearn.model_selection import train_test_split\n",
    "import joblib"
   ]
  },
  {
   "cell_type": "code",
   "execution_count": null,
   "metadata": {
    "id": "NQY9sMH9lETU"
   },
   "outputs": [],
   "source": [
    "from sklearn.preprocessing import MinMaxScaler, StandardScaler\n",
    "from sklearn.compose import TransformedTargetRegressor\n",
    "from sklearn.model_selection import RandomizedSearchCV\n",
    "from xgboost import XGBRegressor \n",
    "from sklearn.tree import DecisionTreeRegressor\n",
    "from sklearn.ensemble import RandomForestRegressor"
   ]
  },
  {
   "cell_type": "markdown",
   "metadata": {
    "id": "s2U9TzZxeFOl"
   },
   "source": [
    "# Dataset pre-processing:"
   ]
  },
  {
   "cell_type": "code",
   "execution_count": null,
   "metadata": {
    "id": "Zx4cPyCq1Lhk"
   },
   "outputs": [],
   "source": [
    "def remove_stop_words(tokens):\n",
    "    file_path = r'/content/drive/MyDrive/arabic_stopwords.txt'\n",
    "    with open(file_path, 'r') as f:\n",
    "      content = f.read()\n",
    "    filtered_text = [t for t in tokens if not t in content]\n",
    "    # filtered_text = [t for t in filtered_text if not t in stopwords.words(\"english\")]\n",
    "    return filtered_text"
   ]
  },
  {
   "cell_type": "code",
   "execution_count": null,
   "metadata": {
    "id": "BMk585mr1Lcr"
   },
   "outputs": [],
   "source": [
    "def remove_numbers_punctuations (text):\n",
    "    clean_text = re.sub(r'(https|http)?:\\/\\/(\\w|\\.|\\/|\\?|\\=|\\&|\\%)*\\b', ' ', str(text))\n",
    "    clean_text = re.sub(r'\\w*\\d\\w*', ' ', str(clean_text))\n",
    "    clean_text = re.sub(r'[%s]' % re.escape(string.punctuation), ' ', clean_text)\n",
    "    clean_text = re.sub(r'،|؛', ' ', str(clean_text))\n",
    "    return clean_text"
   ]
  },
  {
   "cell_type": "code",
   "execution_count": null,
   "metadata": {
    "id": "GBPDwcQs1EqK"
   },
   "outputs": [],
   "source": [
    "def ar_stemmer(text):    \n",
    "    stemmer = FarasaStemmer()\n",
    "    stemmed_text = stemmer.stem(text)\n",
    "    return stemmed_text\n",
    "def tokenize(text):\n",
    "    tokens = text.split()\n",
    "    return tokens"
   ]
  },
  {
   "cell_type": "code",
   "execution_count": null,
   "metadata": {
    "id": "BmSG9D8x1Dxc"
   },
   "outputs": [],
   "source": [
    "def remove_single_double_char(text):\n",
    "    no_singl_char =re.sub(r'[×©±≤≥]', ' ', str(text))\n",
    "    no_singl_char =re.sub(r'\\b\\w{1,2}\\b', ' ', str(no_singl_char))\n",
    "#     simpols = '× , © , o , ≤ , ≥'\n",
    "    return no_singl_char"
   ]
  },
  {
   "cell_type": "code",
   "execution_count": null,
   "metadata": {
    "id": "wa2xa7Ma1mjQ"
   },
   "outputs": [],
   "source": [
    "regression_dataset['clean_no_stem'] = regression_dataset.full_text.map(remove_numbers_punctuations)\n",
    "regression_dataset['clean_no_stem'] = regression_dataset['clean_no_stem'].map(tokenize)\n",
    "# regression_dataset['clean_no_stem'] = regression_dataset['clean_no_stem'].map(remove_stop_words)\n",
    "joiner = lambda x : \" \".join(x)\n",
    "regression_dataset['clean_no_stem'] = regression_dataset['clean_no_stem'].map(joiner)"
   ]
  },
  {
   "cell_type": "code",
   "execution_count": null,
   "metadata": {
    "colab": {
     "base_uri": "https://localhost:8080/"
    },
    "executionInfo": {
     "elapsed": 3869044,
     "status": "ok",
     "timestamp": 1668276804090,
     "user": {
      "displayName": "Razan HL",
      "userId": "00189607576210306079"
     },
     "user_tz": -180
    },
    "id": "56it-jmk1mfr",
    "outputId": "8ca26cc9-3ac1-4f70-c918-6eab910b4db4"
   },
   "outputs": [
    {
     "metadata": {
      "tags": null
     },
     "name": "stderr",
     "output_type": "stream",
     "text": [
      "/usr/local/lib/python3.7/dist-packages/urllib3/connectionpool.py:847: InsecureRequestWarning: Unverified HTTPS request is being made. Adding certificate verification is strongly advised. See: https://urllib3.readthedocs.io/en/latest/advanced-usage.html#ssl-warnings\n",
      "  InsecureRequestWarning)\n"
     ]
    },
    {
     "metadata": {
      "tags": null
     },
     "name": "stdout",
     "output_type": "stream",
     "text": [
      "100%|██████████| 241M/241M [00:23<00:00, 10.2MiB/s]\n"
     ]
    }
   ],
   "source": [
    "# regression_dataset['clean_txt'] = regression_dataset['clean_txt'].map(ar_stemmer)"
   ]
  },
  {
   "cell_type": "code",
   "execution_count": null,
   "metadata": {
    "id": "jQ42W1chlQoi"
   },
   "outputs": [],
   "source": [
    "def remove_extra_spaces(txt):\n",
    "  return(\" \".join(txt.split()))"
   ]
  },
  {
   "cell_type": "code",
   "execution_count": null,
   "metadata": {
    "id": "NCfPy2Z8ljWw"
   },
   "outputs": [],
   "source": [
    "regression_dataset['clean_no_stem'] = regression_dataset['clean_no_stem'].map(remove_extra_spaces)"
   ]
  },
  {
   "cell_type": "code",
   "execution_count": null,
   "metadata": {
    "id": "mqOINbgMJbb5"
   },
   "outputs": [],
   "source": [
    "regression_dataset.to_csv(r'/content/drive/MyDrive/decision_data3.csv', header= True)"
   ]
  },
  {
   "cell_type": "code",
   "execution_count": null,
   "metadata": {
    "id": "wjhNisNqj4Di"
   },
   "outputs": [],
   "source": [
    "regression_dataset = pd.read_csv(r'/content/drive/MyDrive/decision_data4.csv')"
   ]
  },
  {
   "cell_type": "code",
   "execution_count": null,
   "metadata": {
    "colab": {
     "base_uri": "https://localhost:8080/",
     "height": 127
    },
    "executionInfo": {
     "elapsed": 466,
     "status": "ok",
     "timestamp": 1678378047680,
     "user": {
      "displayName": "Razan HL",
      "userId": "00189607576210306079"
     },
     "user_tz": -180
    },
    "id": "Lg5Y4PdTDiKf",
    "outputId": "67fc5fc7-e2d0-4e11-835c-b457a7005223",
    "scrolled": false
   },
   "outputs": [],
   "source": [
    "regression_dataset.clean_txt[1]"
   ]
  },
  {
   "cell_type": "code",
   "execution_count": null,
   "metadata": {
    "colab": {
     "base_uri": "https://localhost:8080/",
     "height": 127
    },
    "executionInfo": {
     "elapsed": 14,
     "status": "ok",
     "timestamp": 1678378050124,
     "user": {
      "displayName": "Razan HL",
      "userId": "00189607576210306079"
     },
     "user_tz": -180
    },
    "id": "43cyaLO5DiHH",
    "outputId": "ff7df31a-d194-4889-cf39-cca484165dd0",
    "scrolled": false
   },
   "outputs": [],
   "source": [
    "regression_dataset.clean_no_stem[1]"
   ]
  },
  {
   "cell_type": "code",
   "execution_count": null,
   "metadata": {
    "colab": {
     "base_uri": "https://localhost:8080/"
    },
    "executionInfo": {
     "elapsed": 1031,
     "status": "ok",
     "timestamp": 1679221564061,
     "user": {
      "displayName": "Razan HL",
      "userId": "00189607576210306079"
     },
     "user_tz": -180
    },
    "id": "-zC-mw2k5TIv",
    "outputId": "f7d032e1-312c-405e-d9d5-f913e611a9eb"
   },
   "outputs": [
    {
     "name": "stdout",
     "output_type": "stream",
     "text": [
      "<class 'pandas.core.frame.DataFrame'>\n",
      "RangeIndex: 1040 entries, 0 to 1039\n",
      "Data columns (total 59 columns):\n",
      " #   Column                   Non-Null Count  Dtype  \n",
      "---  ------                   --------------  -----  \n",
      " 0   Unnamed: 0.2             1040 non-null   int64  \n",
      " 1   Unnamed: 0               1040 non-null   int64  \n",
      " 2   Unnamed: 0.1             1040 non-null   int64  \n",
      " 3   Article_ID               1040 non-null   float64\n",
      " 4   folder                   1040 non-null   object \n",
      " 5   ar_en                    1040 non-null   object \n",
      " 6   Country                  1040 non-null   object \n",
      " 7   Title                    1040 non-null   object \n",
      " 8   Author                   1040 non-null   object \n",
      " 9   Author_certificate       1040 non-null   object \n",
      " 10  Author_specification     1040 non-null   object \n",
      " 11  work                     1033 non-null   object \n",
      " 12  co_Author                1040 non-null   object \n",
      " 13  Email                    925 non-null    object \n",
      " 14  contact                  928 non-null    object \n",
      " 15  Scope                    1040 non-null   object \n",
      " 16  Scope_specific           855 non-null    object \n",
      " 17  Received_date            693 non-null    object \n",
      " 18  Reviewer1                1039 non-null   object \n",
      " 19  Reviewer2                922 non-null    object \n",
      " 20  Reviewer3                216 non-null    object \n",
      " 21  Rev1_score               1007 non-null   float64\n",
      " 22  Rev2_score               823 non-null    float64\n",
      " 23  Rev3_score               188 non-null    object \n",
      " 24  Score                    1040 non-null   float64\n",
      " 25  Volume                   1040 non-null   float64\n",
      " 26  Issue                    1040 non-null   float64\n",
      " 27  Result                   1040 non-null   int64  \n",
      " 28  Date_of_editor_decision  441 non-null    object \n",
      " 29  full_text                1040 non-null   object \n",
      " 30  all_authors              1040 non-null   object \n",
      " 31  max_publication_authors  1040 non-null   int64  \n",
      " 32  title                    1040 non-null   object \n",
      " 33  abstract                 1040 non-null   object \n",
      " 34  key_words                990 non-null    object \n",
      " 35  en_abstract              1016 non-null   object \n",
      " 36  en_keyword               944 non-null    object \n",
      " 37  introduction             1040 non-null   object \n",
      " 38  references               1040 non-null   object \n",
      " 39  num_references           1040 non-null   int64  \n",
      " 40  latest_reference         1040 non-null   int64  \n",
      " 41  oldest_reference         1040 non-null   int64  \n",
      " 42  meadian_reference        1040 non-null   float64\n",
      " 43  num_figurs               1040 non-null   int64  \n",
      " 44  num_tables               1040 non-null   int64  \n",
      " 45  num_charts               1040 non-null   int64  \n",
      " 46  clean_txt                1040 non-null   object \n",
      " 47  clean_no_stem            1040 non-null   object \n",
      " 48  num_authors              1040 non-null   int64  \n",
      " 49  avg_recent_references    1040 non-null   float64\n",
      " 50  paper_len                1040 non-null   int64  \n",
      " 51  ar_word_count            1040 non-null   int64  \n",
      " 52  en_word_count            1040 non-null   int64  \n",
      " 53  ar_word_avg              1040 non-null   float64\n",
      " 54  en_word_avg              1040 non-null   float64\n",
      " 55  num_sentences            1040 non-null   int64  \n",
      " 56  avg_words_per_sentence   1040 non-null   float64\n",
      " 57  ref_mention_count        1040 non-null   int64  \n",
      " 58  num_publication          1040 non-null   int64  \n",
      "dtypes: float64(11), int64(18), object(30)\n",
      "memory usage: 479.5+ KB\n"
     ]
    }
   ],
   "source": [
    "regression_dataset.info()"
   ]
  },
  {
   "cell_type": "code",
   "execution_count": null,
   "metadata": {
    "id": "ZgiDkM0E5ejI"
   },
   "outputs": [],
   "source": [
    "regression_dataset = regression_dataset.drop(columns=['Unnamed: 0', 'Unnamed: 0.1','Unnamed: 0.2', 'Article_ID', 'folder', 'ar_en', 'Country',\n",
    "                                                   'Title', 'Author', 'Author_certificate', 'Author_specification',\n",
    "                                                   'work', 'co_Author', 'Email', 'contact', 'Scope', 'Scope_specific',\n",
    "                                                   'Received_date', 'Reviewer1', 'Reviewer2', 'Reviewer3', 'Rev1_score',\n",
    "                                                   'Rev2_score', 'Rev3_score', 'Volume', 'Issue', 'Date_of_editor_decision',\n",
    "                                                   'full_text', 'all_authors', 'max_publication_authors', 'title', 'abstract',\n",
    "                                                   'key_words', 'en_abstract', 'en_keyword', 'introduction', 'references','Result',\n",
    "                                                   'num_references', 'latest_reference', 'oldest_reference','meadian_reference',\n",
    "                                                   'num_figurs', 'num_tables', 'num_charts', 'num_authors', 'avg_recent_references',\n",
    "                                                   'paper_len', 'ar_word_count', 'en_word_count', 'ar_word_avg', 'en_word_avg',\n",
    "                                                   'num_sentences', 'avg_words_per_sentence', 'ref_mention_count','num_publication'\n",
    "                                                   ], axis =1)"
   ]
  },
  {
   "cell_type": "code",
   "execution_count": null,
   "metadata": {
    "colab": {
     "base_uri": "https://localhost:8080/"
    },
    "executionInfo": {
     "elapsed": 307,
     "status": "ok",
     "timestamp": 1679222463629,
     "user": {
      "displayName": "Razan HL",
      "userId": "00189607576210306079"
     },
     "user_tz": -180
    },
    "id": "dnIM6gIL6spy",
    "outputId": "e8a1cd14-d2ef-4bb2-c9e5-e4fa138ae9db"
   },
   "outputs": [
    {
     "name": "stdout",
     "output_type": "stream",
     "text": [
      "<class 'pandas.core.frame.DataFrame'>\n",
      "RangeIndex: 1040 entries, 0 to 1039\n",
      "Data columns (total 3 columns):\n",
      " #   Column         Non-Null Count  Dtype  \n",
      "---  ------         --------------  -----  \n",
      " 0   Score          1040 non-null   float64\n",
      " 1   clean_txt      1040 non-null   object \n",
      " 2   clean_no_stem  1040 non-null   object \n",
      "dtypes: float64(1), object(2)\n",
      "memory usage: 24.5+ KB\n"
     ]
    }
   ],
   "source": [
    "regression_dataset = regression_dataset.reset_index(drop=True)\n",
    "regression_dataset.info()"
   ]
  },
  {
   "cell_type": "code",
   "execution_count": null,
   "metadata": {
    "colab": {
     "base_uri": "https://localhost:8080/",
     "height": 297
    },
    "executionInfo": {
     "elapsed": 499,
     "status": "ok",
     "timestamp": 1678378115434,
     "user": {
      "displayName": "Razan HL",
      "userId": "00189607576210306079"
     },
     "user_tz": -180
    },
    "id": "EXMJ4Z1a9ymg",
    "outputId": "258f3617-3c70-4c96-c380-97ce14f65112"
   },
   "outputs": [
    {
     "data": {
      "text/plain": [
       "<AxesSubplot:xlabel='Score', ylabel='Density'>"
      ]
     },
     "execution_count": 14,
     "metadata": {},
     "output_type": "execute_result"
    },
    {
     "data": {
      "image/png": "[encoded data removed]",
      "text/plain": [
       "<Figure size 432x288 with 1 Axes>"
      ]
     },
     "metadata": {
      "needs_background": "light"
     },
     "output_type": "display_data"
    }
   ],
   "source": [
    "sns.kdeplot(regression_dataset['Score'], label = \"Original\")"
   ]
  },
  {
   "cell_type": "code",
   "execution_count": null,
   "metadata": {
    "colab": {
     "base_uri": "https://localhost:8080/",
     "height": 206
    },
    "executionInfo": {
     "elapsed": 353,
     "status": "ok",
     "timestamp": 1679222485318,
     "user": {
      "displayName": "Razan HL",
      "userId": "00189607576210306079"
     },
     "user_tz": -180
    },
    "id": "h49IQ9ar9QlZ",
    "outputId": "b3628e6e-659a-4595-9424-13753e542c44",
    "scrolled": true
   },
   "outputs": [],
   "source": [
    "subest_reg = regression_dataset.drop(columns = ['clean_no_stem']).reset_index(drop=True)\n",
    "subest_reg.head()"
   ]
  },
  {
   "cell_type": "code",
   "execution_count": null,
   "metadata": {
    "colab": {
     "base_uri": "https://localhost:8080/"
    },
    "executionInfo": {
     "elapsed": 428,
     "status": "ok",
     "timestamp": 1679222488948,
     "user": {
      "displayName": "Razan HL",
      "userId": "00189607576210306079"
     },
     "user_tz": -180
    },
    "id": "Q4sfDVPg3i6x",
    "outputId": "d5d4818f-06a7-4fd5-b765-45e19e178dcf"
   },
   "outputs": [
    {
     "data": {
      "text/plain": [
       "((832, 2), (208, 2))"
      ]
     },
     "execution_count": 19,
     "metadata": {},
     "output_type": "execute_result"
    }
   ],
   "source": [
    "train_set = subest_reg.sample(frac=0.8, random_state= 46).reset_index(drop=True)\n",
    "test_set = subest_reg.drop(axis=0, index=train_set.index).reset_index(drop=True)\n",
    "train_set.shape , test_set.shape"
   ]
  },
  {
   "cell_type": "code",
   "execution_count": null,
   "metadata": {
    "colab": {
     "base_uri": "https://localhost:8080/",
     "height": 297
    },
    "executionInfo": {
     "elapsed": 777,
     "status": "ok",
     "timestamp": 1678378170115,
     "user": {
      "displayName": "Razan HL",
      "userId": "00189607576210306079"
     },
     "user_tz": -180
    },
    "id": "qCOxi7cp3iyA",
    "outputId": "e2c59e01-988b-417a-fd69-05fcfc60ca16"
   },
   "outputs": [
    {
     "data": {
      "text/plain": [
       "<AxesSubplot:xlabel='Score', ylabel='Density'>"
      ]
     },
     "execution_count": 18,
     "metadata": {},
     "output_type": "execute_result"
    },
    {
     "data": {
      "image/png": "[encoded data removed]",
      "text/plain": [
       "<Figure size 432x288 with 1 Axes>"
      ]
     },
     "metadata": {
      "needs_background": "light"
     },
     "output_type": "display_data"
    }
   ],
   "source": [
    "sns.kdeplot(train_set['Score'], legend = \"train\")\n",
    "sns.kdeplot(test_set['Score'], legend = \"test\")"
   ]
  },
  {
   "cell_type": "code",
   "execution_count": null,
   "metadata": {
    "id": "xCgUEe2J5Iji"
   },
   "outputs": [],
   "source": [
    "!pip install smogn\n",
    "import smogn"
   ]
  },
  {
   "cell_type": "code",
   "execution_count": null,
   "metadata": {
    "colab": {
     "base_uri": "https://localhost:8080/"
    },
    "executionInfo": {
     "elapsed": 8529,
     "status": "ok",
     "timestamp": 1679222507053,
     "user": {
      "displayName": "Razan HL",
      "userId": "00189607576210306079"
     },
     "user_tz": -180
    },
    "id": "_Mr66Jyh9ybI",
    "outputId": "235ff7be-d379-4f21-dc69-aa0908cd0514",
    "scrolled": true
   },
   "outputs": [],
   "source": [
    "train_reg_smogn = smogn.smoter( data = train_set,y = 'Score', samp_method='extreme', replace=True)\n",
    "# test_reg_smogn = smogn.smoter( data = test_set,y = 'Score', samp_method='extreme', replace=True)"
   ]
  },
  {
   "cell_type": "code",
   "execution_count": null,
   "metadata": {
    "colab": {
     "base_uri": "https://localhost:8080/"
    },
    "executionInfo": {
     "elapsed": 318,
     "status": "ok",
     "timestamp": 1679222534939,
     "user": {
      "displayName": "Razan HL",
      "userId": "00189607576210306079"
     },
     "user_tz": -180
    },
    "id": "K0gWDMKv-ACn",
    "outputId": "8c264092-eee0-4179-9ea8-5ca787f9f838"
   },
   "outputs": [
    {
     "data": {
      "text/plain": [
       "((832, 2), (1394, 2))"
      ]
     },
     "execution_count": 22,
     "metadata": {},
     "output_type": "execute_result"
    }
   ],
   "source": [
    "train_reg_smogn = train_reg_smogn.reset_index(drop=True)\n",
    "# test_reg_smogn = test_reg_smogn.reset_index(drop=True)\n",
    "\n",
    "train_set.shape, train_reg_smogn.shape"
   ]
  },
  {
   "cell_type": "code",
   "execution_count": null,
   "metadata": {
    "colab": {
     "base_uri": "https://localhost:8080/",
     "height": 297
    },
    "executionInfo": {
     "elapsed": 856,
     "status": "ok",
     "timestamp": 1679222543034,
     "user": {
      "displayName": "Razan HL",
      "userId": "00189607576210306079"
     },
     "user_tz": -180
    },
    "id": "SDoRiQus9_6P",
    "outputId": "60a08c90-0d96-4b56-f1e9-6dbbce05b7ca"
   },
   "outputs": [
    {
     "data": {
      "text/plain": [
       "<Axes: xlabel='Score', ylabel='Density'>"
      ]
     },
     "execution_count": 23,
     "metadata": {},
     "output_type": "execute_result"
    },
    {
     "data": {
      "image/png": "[encoded data removed]",
      "text/plain": [
       "<Figure size 432x288 with 1 Axes>"
      ]
     },
     "metadata": {
      "needs_background": "light"
     },
     "output_type": "display_data"
    }
   ],
   "source": [
    "sns.kdeplot(train_set['Score'], legend = \"Original\")\n",
    "sns.kdeplot(train_reg_smogn['Score'], legend = \"Modified\")"
   ]
  },
  {
   "cell_type": "code",
   "execution_count": null,
   "metadata": {
    "colab": {
     "base_uri": "https://localhost:8080/",
     "height": 297
    },
    "executionInfo": {
     "elapsed": 557,
     "status": "ok",
     "timestamp": 1679222546942,
     "user": {
      "displayName": "Razan HL",
      "userId": "00189607576210306079"
     },
     "user_tz": -180
    },
    "id": "YCy3YJDw-Fym",
    "outputId": "afc27e93-e3c6-44c7-a639-baafbd2900b3"
   },
   "outputs": [
    {
     "data": {
      "text/plain": [
       "<Axes: xlabel='Score', ylabel='Density'>"
      ]
     },
     "execution_count": 24,
     "metadata": {},
     "output_type": "execute_result"
    },
    {
     "data": {
      "image/png": "[encoded data removed]",
      "text/plain": [
       "<Figure size 432x288 with 1 Axes>"
      ]
     },
     "metadata": {
      "needs_background": "light"
     },
     "output_type": "display_data"
    }
   ],
   "source": [
    "sns.kdeplot(test_set['Score'], legend = \"Original\")\n",
    "# sns.kdeplot(test_reg_smogn['Score'], legend = \"Modified\")"
   ]
  },
  {
   "cell_type": "code",
   "execution_count": null,
   "metadata": {
    "id": "fm4CINDVJ7h0"
   },
   "outputs": [],
   "source": [
    "# full articles dataset\n",
    "X_train = train_reg_smogn.clean_txt\n",
    "y_train= train_reg_smogn.Score\n",
    "X_test = test_reg_smogn.clean_txt\n",
    "y_test= test_reg_smogn.Score\n"
   ]
  },
  {
   "cell_type": "code",
   "execution_count": null,
   "metadata": {
    "id": "zZRZYAnYdsf1"
   },
   "outputs": [],
   "source": [
    "# full articles dataset\n",
    "X_train = train_reg_smogn.clean_txt\n",
    "y_train= train_reg_smogn.Score\n",
    "X_test = test_set.clean_txt\n",
    "y_test= test_set.Score"
   ]
  },
  {
   "cell_type": "code",
   "execution_count": null,
   "metadata": {
    "id": "Oh6Odny-5uiE"
   },
   "outputs": [],
   "source": [
    "tfidf = TfidfVectorizer(use_idf=True ,ngram_range=(1,2), stop_words= 'english', max_features=1000, min_df=5, max_df=0.7)\n",
    "fitted_vectorizer=tfidf.fit(X_train)\n",
    "tfidf_train_vectors=fitted_vectorizer.transform(X_train)\n",
    "tfidf_test_vectors=fitted_vectorizer.transform(X_test)"
   ]
  },
  {
   "cell_type": "code",
   "execution_count": null,
   "metadata": {
    "id": "bEgixYFW5oS4"
   },
   "outputs": [],
   "source": [
    "sample = fitted_vectorizer.transform([X_test[3]])"
   ]
  },
  {
   "cell_type": "code",
   "execution_count": null,
   "metadata": {
    "colab": {
     "base_uri": "https://localhost:8080/"
    },
    "executionInfo": {
     "elapsed": 8397,
     "status": "ok",
     "timestamp": 1678388161047,
     "user": {
      "displayName": "Razan HL",
      "userId": "00189607576210306079"
     },
     "user_tz": -180
    },
    "id": "18esipGJunBU",
    "outputId": "e9c3b45a-908f-457c-fd75-6cd05825bfcb"
   },
   "outputs": [
    {
     "data": {
      "text/plain": [
       "['/content/drive/MyDrive/Colab Notebooks/trained_ML_models/tfidf.pkl']"
      ]
     },
     "execution_count": 157,
     "metadata": {},
     "output_type": "execute_result"
    }
   ],
   "source": [
    "\n",
    "joblib.dump(fitted_vectorizer,\"/content/drive/MyDrive/Colab Notebooks/trained_ML_models/tfidf.pkl\")"
   ]
  },
  {
   "cell_type": "code",
   "execution_count": null,
   "metadata": {
    "id": "yQlAnN8yunBV"
   },
   "outputs": [],
   "source": [
    "loaded_tfidf = joblib.load(\"/content/drive/MyDrive/Colab Notebooks/trained_ML_models/tfidf.pkl\")"
   ]
  },
  {
   "cell_type": "code",
   "execution_count": null,
   "metadata": {
    "colab": {
     "base_uri": "https://localhost:8080/"
    },
    "executionInfo": {
     "elapsed": 11,
     "status": "ok",
     "timestamp": 1678435901216,
     "user": {
      "displayName": "Razan HL",
      "userId": "00189607576210306079"
     },
     "user_tz": -180
    },
    "id": "_W5iwh3hkXIH",
    "outputId": "29ea452e-6f2b-47f5-c47c-0073e981d3fa"
   },
   "outputs": [
    {
     "data": {
      "text/plain": [
       "(3.8207613897978514, 3.807755102040817)"
      ]
     },
     "execution_count": 24,
     "metadata": {},
     "output_type": "execute_result"
    }
   ],
   "source": [
    "\n",
    "predicted = loaded_lgbm.predict(loaded_tfidf.transform([X_test[120]])) \n",
    "real = y_test[120]\n",
    "predicted[0], real"
   ]
  },
  {
   "cell_type": "markdown",
   "metadata": {
    "id": "OC-7xQn5yLQG"
   },
   "source": [
    "# LGBMRegressor:\n"
   ]
  },
  {
   "cell_type": "code",
   "execution_count": null,
   "metadata": {
    "id": "D3M3l4LSlVmQ"
   },
   "outputs": [],
   "source": [
    "from lightgbm import LGBMRegressor\n",
    "lgbm = LGBMRegressor()"
   ]
  },
  {
   "cell_type": "markdown",
   "metadata": {
    "id": "l0Cv9Je1d722"
   },
   "source": [
    "smoter for train set only:"
   ]
  },
  {
   "cell_type": "code",
   "execution_count": null,
   "metadata": {
    "id": "84hlRu-jeLrb"
   },
   "outputs": [],
   "source": [
    "lgbm_scaled = TransformedTargetRegressor(regressor=LGBMRegressor(), transformer=MinMaxScaler())\n",
    "lgbm_scaled_model = lgbm_scaled.fit(tfidf_train_vectors, y_train)"
   ]
  },
  {
   "cell_type": "code",
   "execution_count": null,
   "metadata": {
    "colab": {
     "base_uri": "https://localhost:8080/"
    },
    "executionInfo": {
     "elapsed": 714,
     "status": "ok",
     "timestamp": 1679222718015,
     "user": {
      "displayName": "Razan HL",
      "userId": "00189607576210306079"
     },
     "user_tz": -180
    },
    "id": "06MEydSeeLrc",
    "outputId": "88da987c-6af7-40ab-8086-339d4f0e9220"
   },
   "outputs": [
    {
     "data": {
      "text/plain": [
       "(0.9407508470137179, 0.7489436802626948)"
      ]
     },
     "execution_count": 30,
     "metadata": {},
     "output_type": "execute_result"
    }
   ],
   "source": [
    "# with scaling\n",
    "y_pred = lgbm_scaled_model.predict(tfidf_test_vectors)\n",
    "lgbm_scaled_model.score(tfidf_train_vectors, y_train), lgbm_scaled_model.score(tfidf_test_vectors, y_test)"
   ]
  },
  {
   "cell_type": "code",
   "execution_count": null,
   "metadata": {
    "colab": {
     "base_uri": "https://localhost:8080/"
    },
    "executionInfo": {
     "elapsed": 8068,
     "status": "ok",
     "timestamp": 1679222730274,
     "user": {
      "displayName": "Razan HL",
      "userId": "00189607576210306079"
     },
     "user_tz": -180
    },
    "id": "jbl9K63IeLrd",
    "outputId": "c6f8478d-fd61-44d7-cd48-d91787adcbe9"
   },
   "outputs": [
    {
     "data": {
      "text/plain": [
       "(0.940750846998706, 0.7489436800797182)"
      ]
     },
     "execution_count": 31,
     "metadata": {},
     "output_type": "execute_result"
    }
   ],
   "source": [
    "# no Scaling\n",
    "lgbm_model = lgbm.fit(tfidf_train_vectors, y_train)\n",
    "y_pred2 = lgbm_model.predict(tfidf_test_vectors)\n",
    "lgbm_model.score(tfidf_train_vectors, y_train), lgbm_model.score(tfidf_test_vectors, y_test)"
   ]
  },
  {
   "cell_type": "code",
   "execution_count": null,
   "metadata": {
    "colab": {
     "base_uri": "https://localhost:8080/"
    },
    "executionInfo": {
     "elapsed": 665,
     "status": "ok",
     "timestamp": 1679222738541,
     "user": {
      "displayName": "Razan HL",
      "userId": "00189607576210306079"
     },
     "user_tz": -180
    },
    "id": "SKWH0pLbeLrd",
    "outputId": "db3b38ad-d643-4d9f-a4e1-f8469f4d953a"
   },
   "outputs": [
    {
     "data": {
      "text/plain": [
       "(0.4225279207895216, 0.42252792094349645)"
      ]
     },
     "execution_count": 32,
     "metadata": {},
     "output_type": "execute_result"
    }
   ],
   "source": [
    "RMSE_1 = (mean_squared_error(y_test, y_pred))**(1/2)\n",
    "RMSE_2 = (mean_squared_error(y_test, y_pred2))**(1/2)\n",
    "RMSE_1, RMSE_2 "
   ]
  },
  {
   "cell_type": "code",
   "execution_count": null,
   "metadata": {
    "colab": {
     "base_uri": "https://localhost:8080/"
    },
    "executionInfo": {
     "elapsed": 383,
     "status": "ok",
     "timestamp": 1679222743342,
     "user": {
      "displayName": "Razan HL",
      "userId": "00189607576210306079"
     },
     "user_tz": -180
    },
    "id": "7Ssp7pZNeLre",
    "outputId": "b7233aec-765e-43ec-dd16-2a0d6093a023"
   },
   "outputs": [
    {
     "data": {
      "text/plain": [
       "(3.735193712618039, 3.7331372552352935)"
      ]
     },
     "execution_count": 33,
     "metadata": {},
     "output_type": "execute_result"
    }
   ],
   "source": [
    "predicted = lgbm_model.predict(tfidf_test_vectors[0]) \n",
    "real = y_test[0]\n",
    "predicted[0], real"
   ]
  },
  {
   "cell_type": "code",
   "execution_count": null,
   "metadata": {
    "colab": {
     "base_uri": "https://localhost:8080/"
    },
    "executionInfo": {
     "elapsed": 1161,
     "status": "ok",
     "timestamp": 1679222769480,
     "user": {
      "displayName": "Razan HL",
      "userId": "00189607576210306079"
     },
     "user_tz": -180
    },
    "id": "lOJyqDgxeLre",
    "outputId": "fe2c3b07-1db9-44af-ff36-cb648a16f0d5"
   },
   "outputs": [
    {
     "data": {
      "text/plain": [
       "(2.0304659263673246, 1.9566666670000004)"
      ]
     },
     "execution_count": 37,
     "metadata": {},
     "output_type": "execute_result"
    }
   ],
   "source": [
    "predicted = lgbm_model.predict(tfidf_test_vectors[33]) \n",
    "real = y_test[33]\n",
    "predicted[0], real"
   ]
  },
  {
   "cell_type": "code",
   "execution_count": null,
   "metadata": {
    "colab": {
     "base_uri": "https://localhost:8080/"
    },
    "executionInfo": {
     "elapsed": 304,
     "status": "ok",
     "timestamp": 1679222752055,
     "user": {
      "displayName": "Razan HL",
      "userId": "00189607576210306079"
     },
     "user_tz": -180
    },
    "id": "HOm36v1ceLre",
    "outputId": "7d1943da-8694-4026-81b4-4b3a93a598d0"
   },
   "outputs": [
    {
     "data": {
      "text/plain": [
       "(4.014315250503915, 4.092527472384616)"
      ]
     },
     "execution_count": 35,
     "metadata": {},
     "output_type": "execute_result"
    }
   ],
   "source": [
    "predicted = lgbm_model.predict(tfidf_test_vectors[30]) \n",
    "real = y_test[30]\n",
    "predicted[0], real"
   ]
  },
  {
   "cell_type": "code",
   "execution_count": null,
   "metadata": {
    "colab": {
     "base_uri": "https://localhost:8080/"
    },
    "executionInfo": {
     "elapsed": 620,
     "status": "ok",
     "timestamp": 1679222759118,
     "user": {
      "displayName": "Razan HL",
      "userId": "00189607576210306079"
     },
     "user_tz": -180
    },
    "id": "1rhmEl9yeLrf",
    "outputId": "8a9293d9-abb7-4ac2-a45f-ce3058e42d87"
   },
   "outputs": [
    {
     "data": {
      "text/plain": [
       "(4.7050901717916345, 4.716333333111111)"
      ]
     },
     "execution_count": 36,
     "metadata": {},
     "output_type": "execute_result"
    }
   ],
   "source": [
    "predicted = lgbm_model.predict(tfidf_test_vectors[49]) \n",
    "real = y_test[49]\n",
    "predicted[0], real"
   ]
  },
  {
   "cell_type": "code",
   "execution_count": null,
   "metadata": {
    "colab": {
     "base_uri": "https://localhost:8080/"
    },
    "executionInfo": {
     "elapsed": 316,
     "status": "ok",
     "timestamp": 1679222784344,
     "user": {
      "displayName": "Razan HL",
      "userId": "00189607576210306079"
     },
     "user_tz": -180
    },
    "id": "HXvpcUa5eLrf",
    "outputId": "2863bfa5-73c7-4795-992f-d8d31b3a9d09"
   },
   "outputs": [
    {
     "data": {
      "text/plain": [
       "(2.2957634283101434, 2.303333333)"
      ]
     },
     "execution_count": 38,
     "metadata": {},
     "output_type": "execute_result"
    }
   ],
   "source": [
    "predicted = lgbm_model.predict(tfidf_test_vectors[50]) \n",
    "real = y_test[50]\n",
    "predicted[0], real"
   ]
  },
  {
   "cell_type": "code",
   "execution_count": null,
   "metadata": {
    "colab": {
     "base_uri": "https://localhost:8080/"
    },
    "executionInfo": {
     "elapsed": 458,
     "status": "ok",
     "timestamp": 1679222816015,
     "user": {
      "displayName": "Razan HL",
      "userId": "00189607576210306079"
     },
     "user_tz": -180
    },
    "id": "el66KmZxeLrg",
    "outputId": "cea3b7a2-210a-4baa-88e4-fa890af61255"
   },
   "outputs": [
    {
     "data": {
      "text/plain": [
       "(4.0329837090832275, 4.029999999999999)"
      ]
     },
     "execution_count": 41,
     "metadata": {},
     "output_type": "execute_result"
    }
   ],
   "source": [
    "predicted = lgbm_model.predict(tfidf_test_vectors[3])\n",
    "predicted[0], y_test[3]"
   ]
  },
  {
   "cell_type": "code",
   "execution_count": null,
   "metadata": {
    "id": "MM0BsoIleLrg"
   },
   "outputs": [],
   "source": [
    "fitted_vectorizer.get_feature_names_out()"
   ]
  },
  {
   "cell_type": "code",
   "execution_count": null,
   "metadata": {
    "id": "zba6WAB_eLrh"
   },
   "outputs": [],
   "source": [
    "feature_importances_lgbm = pd.DataFrame(lgbm_model.feature_importances_, index = fitted_vectorizer.get_feature_names_out(), columns = ['importance']).sort_values('importance', ascending=False)\n",
    "fm = feature_importances_lgbm[:20]\n",
    "fm"
   ]
  },
  {
   "cell_type": "code",
   "execution_count": null,
   "metadata": {
    "id": "9kC4pm1ieLrh"
   },
   "outputs": [],
   "source": [
    "feature_importances_lgbm['feature'] = feature_importances_lgbm.index\n",
    "feature_importances_lgbm"
   ]
  },
  {
   "cell_type": "code",
   "execution_count": null,
   "metadata": {
    "id": "C0hqYoDGeLrh"
   },
   "outputs": [],
   "source": [
    "fig, ax = plt.subplots(figsize=(15, 10))\n",
    "\n",
    "ax.barh(feature_importances_lgbm.feature, feature_importances_lgbm.importance, height=0.55, align=\"edge\", color=\"#07a2a2\");\n",
    "plt.show()"
   ]
  },
  {
   "cell_type": "markdown",
   "metadata": {
    "id": "lXhSr615eAMm"
   },
   "source": [
    "smoter for train & test set:"
   ]
  },
  {
   "cell_type": "code",
   "execution_count": null,
   "metadata": {
    "id": "5a20iVLclVmR"
   },
   "outputs": [],
   "source": [
    "lgbm_scaled = TransformedTargetRegressor(regressor=LGBMRegressor(), transformer=MinMaxScaler())\n",
    "lgbm_scaled_model = lgbm_scaled.fit(tfidf_train_vectors, y_train)"
   ]
  },
  {
   "cell_type": "code",
   "execution_count": null,
   "metadata": {
    "colab": {
     "base_uri": "https://localhost:8080/"
    },
    "executionInfo": {
     "elapsed": 412,
     "status": "ok",
     "timestamp": 1678379255628,
     "user": {
      "displayName": "Razan HL",
      "userId": "00189607576210306079"
     },
     "user_tz": -180
    },
    "id": "Hkm-lDMnGnP6",
    "outputId": "bc28a7c9-e95a-483b-e3fb-5a9236753c32"
   },
   "outputs": [
    {
     "data": {
      "text/plain": [
       "(0.9415936450327437, 0.8205673897388506)"
      ]
     },
     "execution_count": 77,
     "metadata": {},
     "output_type": "execute_result"
    }
   ],
   "source": [
    "# with scaling\n",
    "y_pred = lgbm_scaled_model.predict(tfidf_test_vectors)\n",
    "lgbm_scaled_model.score(tfidf_train_vectors, y_train), lgbm_scaled_model.score(tfidf_test_vectors, y_test)"
   ]
  },
  {
   "cell_type": "code",
   "execution_count": null,
   "metadata": {
    "colab": {
     "base_uri": "https://localhost:8080/"
    },
    "executionInfo": {
     "elapsed": 3944,
     "status": "ok",
     "timestamp": 1678379274900,
     "user": {
      "displayName": "Razan HL",
      "userId": "00189607576210306079"
     },
     "user_tz": -180
    },
    "id": "EddwUsmwGvdx",
    "outputId": "7f0f9391-7d5f-496c-f8bc-4889c966e960"
   },
   "outputs": [
    {
     "data": {
      "text/plain": [
       "(0.9415936450688226, 0.8205673891713255)"
      ]
     },
     "execution_count": 78,
     "metadata": {},
     "output_type": "execute_result"
    }
   ],
   "source": [
    "# no Scaling\n",
    "lgbm_model = lgbm.fit(tfidf_train_vectors, y_train)\n",
    "y_pred2 = lgbm_model.predict(tfidf_test_vectors)\n",
    "lgbm_model.score(tfidf_train_vectors, y_train), lgbm_model.score(tfidf_test_vectors, y_test)"
   ]
  },
  {
   "cell_type": "code",
   "execution_count": null,
   "metadata": {
    "colab": {
     "base_uri": "https://localhost:8080/"
    },
    "executionInfo": {
     "elapsed": 1406,
     "status": "ok",
     "timestamp": 1678379282599,
     "user": {
      "displayName": "Razan HL",
      "userId": "00189607576210306079"
     },
     "user_tz": -180
    },
    "id": "uO_4rg_EDuZv",
    "outputId": "e6f0b7b6-30ef-4054-a943-032ec94a2bcd"
   },
   "outputs": [
    {
     "data": {
      "text/plain": [
       "(0.4582176639080139, 0.4582176646326593)"
      ]
     },
     "execution_count": 79,
     "metadata": {},
     "output_type": "execute_result"
    }
   ],
   "source": [
    "RMSE_1 = (mean_squared_error(y_test, y_pred))**(1/2)\n",
    "RMSE_2 = (mean_squared_error(y_test, y_pred2))**(1/2)\n",
    "RMSE_1, RMSE_2 "
   ]
  },
  {
   "cell_type": "code",
   "execution_count": null,
   "metadata": {
    "colab": {
     "base_uri": "https://localhost:8080/"
    },
    "executionInfo": {
     "elapsed": 513,
     "status": "ok",
     "timestamp": 1678379299695,
     "user": {
      "displayName": "Razan HL",
      "userId": "00189607576210306079"
     },
     "user_tz": -180
    },
    "id": "M_c_bc-CHC-K",
    "outputId": "0e1531e7-0137-4248-e1d4-290cdc4f5dcc"
   },
   "outputs": [
    {
     "data": {
      "text/plain": [
       "(3.6972394028750113, 3.7331372552352935)"
      ]
     },
     "execution_count": 80,
     "metadata": {},
     "output_type": "execute_result"
    }
   ],
   "source": [
    "predicted = lgbm_model.predict(tfidf_test_vectors[0]) \n",
    "real = y_test[0]\n",
    "predicted[0], real"
   ]
  },
  {
   "cell_type": "code",
   "execution_count": null,
   "metadata": {
    "colab": {
     "base_uri": "https://localhost:8080/"
    },
    "executionInfo": {
     "elapsed": 9,
     "status": "ok",
     "timestamp": 1678379304856,
     "user": {
      "displayName": "Razan HL",
      "userId": "00189607576210306079"
     },
     "user_tz": -180
    },
    "id": "Fh1jbaeXvkq4",
    "outputId": "646854c3-efce-4d5c-fa7b-5bdf8fa0129c"
   },
   "outputs": [
    {
     "data": {
      "text/plain": [
       "(4.024344860263481, 4.029999999999999)"
      ]
     },
     "execution_count": 81,
     "metadata": {},
     "output_type": "execute_result"
    }
   ],
   "source": [
    "predicted = lgbm_model.predict(tfidf_test_vectors[3]) \n",
    "real = y_test[3]\n",
    "predicted[0], real"
   ]
  },
  {
   "cell_type": "code",
   "execution_count": null,
   "metadata": {
    "colab": {
     "base_uri": "https://localhost:8080/"
    },
    "executionInfo": {
     "elapsed": 11,
     "status": "ok",
     "timestamp": 1678379309053,
     "user": {
      "displayName": "Razan HL",
      "userId": "00189607576210306079"
     },
     "user_tz": -180
    },
    "id": "a_JHvCM8lVmX",
    "outputId": "7a7c3d53-79ec-46d6-9387-31a6fd2db4a7"
   },
   "outputs": [
    {
     "data": {
      "text/plain": [
       "(3.7141639120643775, 3.7258085106382977)"
      ]
     },
     "execution_count": 82,
     "metadata": {},
     "output_type": "execute_result"
    }
   ],
   "source": [
    "predicted = lgbm_model.predict(tfidf_test_vectors[30]) \n",
    "real = y_test[30]\n",
    "predicted[0], real"
   ]
  },
  {
   "cell_type": "code",
   "execution_count": null,
   "metadata": {
    "colab": {
     "base_uri": "https://localhost:8080/"
    },
    "executionInfo": {
     "elapsed": 564,
     "status": "ok",
     "timestamp": 1678379314005,
     "user": {
      "displayName": "Razan HL",
      "userId": "00189607576210306079"
     },
     "user_tz": -180
    },
    "id": "hLWWcBEBsuVv",
    "outputId": "29757656-8eb8-48b8-b342-d29d27189cc5"
   },
   "outputs": [
    {
     "data": {
      "text/plain": [
       "(3.7552698726615987, 3.757540983606557)"
      ]
     },
     "execution_count": 83,
     "metadata": {},
     "output_type": "execute_result"
    }
   ],
   "source": [
    "predicted = lgbm_model.predict(tfidf_test_vectors[49]) \n",
    "real = y_test[49]\n",
    "predicted[0], real"
   ]
  },
  {
   "cell_type": "code",
   "execution_count": null,
   "metadata": {
    "colab": {
     "base_uri": "https://localhost:8080/"
    },
    "executionInfo": {
     "elapsed": 561,
     "status": "ok",
     "timestamp": 1678379317855,
     "user": {
      "displayName": "Razan HL",
      "userId": "00189607576210306079"
     },
     "user_tz": -180
    },
    "id": "5BUvVDm_p-Yp",
    "outputId": "2526e7cc-24a8-489c-829a-9c43bf37b6ea"
   },
   "outputs": [
    {
     "data": {
      "text/plain": [
       "(2.8194943097229324, 2.8716666666666666)"
      ]
     },
     "execution_count": 84,
     "metadata": {},
     "output_type": "execute_result"
    }
   ],
   "source": [
    "predicted = lgbm_model.predict(tfidf_test_vectors[50]) \n",
    "real = y_test[50]\n",
    "predicted[0], real"
   ]
  },
  {
   "cell_type": "code",
   "execution_count": null,
   "metadata": {
    "colab": {
     "base_uri": "https://localhost:8080/"
    },
    "executionInfo": {
     "elapsed": 309,
     "status": "ok",
     "timestamp": 1678379321242,
     "user": {
      "displayName": "Razan HL",
      "userId": "00189607576210306079"
     },
     "user_tz": -180
    },
    "id": "SXW9i4_pW5bR",
    "outputId": "71429be9-fb2f-4cd9-db63-c061271cc7af"
   },
   "outputs": [
    {
     "data": {
      "text/plain": [
       "(4.2712714121279305, 4.39975268783871)"
      ]
     },
     "execution_count": 85,
     "metadata": {},
     "output_type": "execute_result"
    }
   ],
   "source": [
    "predicted = lgbm_model.predict(tfidf_test_vectors[136])\n",
    "predicted[0], y_test[136]"
   ]
  },
  {
   "cell_type": "code",
   "execution_count": null,
   "metadata": {
    "id": "WEKlHIPFrLha"
   },
   "outputs": [],
   "source": [
    "fitted_vectorizer.get_feature_names_out()"
   ]
  },
  {
   "cell_type": "code",
   "execution_count": null,
   "metadata": {
    "id": "AGflDfrRlVma"
   },
   "outputs": [],
   "source": [
    "feature_importances_lgbm = pd.DataFrame(lgbm_model.feature_importances_, index = fitted_vectorizer.get_feature_names_out(), columns = ['importance']).sort_values('importance', ascending=False)\n",
    "fm = feature_importances_lgbm[:20]\n",
    "fm"
   ]
  },
  {
   "cell_type": "code",
   "execution_count": null,
   "metadata": {
    "id": "dcd0NiLQlVma"
   },
   "outputs": [],
   "source": [
    "feature_importances_lgbm['feature'] = feature_importances_lgbm.index\n",
    "feature_importances_lgbm"
   ]
  },
  {
   "cell_type": "code",
   "execution_count": null,
   "metadata": {
    "id": "Wd29ov2ClVma"
   },
   "outputs": [],
   "source": [
    "fig, ax = plt.subplots(figsize=(15, 10))\n",
    "\n",
    "ax.barh(feature_importances_lgbm.feature, feature_importances_lgbm.importance, height=0.55, align=\"edge\", color=\"#07a2a2\");\n",
    "plt.show()"
   ]
  },
  {
   "cell_type": "code",
   "execution_count": null,
   "metadata": {
    "colab": {
     "base_uri": "https://localhost:8080/"
    },
    "executionInfo": {
     "elapsed": 634,
     "status": "ok",
     "timestamp": 1678383627629,
     "user": {
      "displayName": "Razan HL",
      "userId": "00189607576210306079"
     },
     "user_tz": -180
    },
    "id": "O3B2g5rFdOza",
    "outputId": "2f505680-2653-4b50-eba0-76746dc1d117"
   },
   "outputs": [
    {
     "data": {
      "text/plain": [
       "['/content/drive/MyDrive/Colab Notebooks/trained_ML_models/decision_lgbm.pkl']"
      ]
     },
     "execution_count": 148,
     "metadata": {},
     "output_type": "execute_result"
    }
   ],
   "source": [
    "import joblib\n",
    "joblib.dump(lgbm_model,\"/content/drive/MyDrive/Colab Notebooks/trained_ML_models/decision_lgbm.pkl\")"
   ]
  },
  {
   "cell_type": "code",
   "execution_count": null,
   "metadata": {
    "id": "0HfPEdZmdOzb"
   },
   "outputs": [],
   "source": [
    "loaded_lgbm = joblib.load(\"/content/drive/MyDrive/Colab Notebooks/trained_ML_models/decision_lgbm.pkl\")"
   ]
  },
  {
   "cell_type": "code",
   "execution_count": null,
   "metadata": {
    "colab": {
     "base_uri": "https://localhost:8080/"
    },
    "executionInfo": {
     "elapsed": 10,
     "status": "ok",
     "timestamp": 1678383652184,
     "user": {
      "displayName": "Razan HL",
      "userId": "00189607576210306079"
     },
     "user_tz": -180
    },
    "id": "yXcW4QOydOzc",
    "outputId": "44e2a32f-6eb2-48e9-ae24-7d2bb7d9fb2c"
   },
   "outputs": [
    {
     "data": {
      "text/plain": [
       "(0.8205673891713255, 0.9415936450688226)"
      ]
     },
     "execution_count": 150,
     "metadata": {},
     "output_type": "execute_result"
    }
   ],
   "source": [
    "loaded_lgbm.score(tfidf_test_vectors, y_test), loaded_lgbm.score(tfidf_train_vectors, y_train)"
   ]
  },
  {
   "cell_type": "code",
   "execution_count": null,
   "metadata": {
    "colab": {
     "base_uri": "https://localhost:8080/"
    },
    "executionInfo": {
     "elapsed": 613,
     "status": "ok",
     "timestamp": 1678393003033,
     "user": {
      "displayName": "Razan HL",
      "userId": "00189607576210306079"
     },
     "user_tz": -180
    },
    "id": "suAnwc1ilVmb",
    "outputId": "54c9e260-c4d0-493e-f6b7-0c154d9f0a73"
   },
   "outputs": [
    {
     "data": {
      "text/plain": [
       "(4.2712714121279305, 4.39975268783871)"
      ]
     },
     "execution_count": 161,
     "metadata": {},
     "output_type": "execute_result"
    }
   ],
   "source": [
    "predicted = loaded_lgbm.predict(tfidf_test_vectors[136])\n",
    "predicted[0], y_test[136]"
   ]
  },
  {
   "cell_type": "code",
   "execution_count": null,
   "metadata": {
    "id": "b1bNyyynBCyI"
   },
   "outputs": [],
   "source": []
  },
  {
   "cell_type": "markdown",
   "metadata": {
    "id": "fpbjMVrjIFsD"
   },
   "source": [
    "# XGBRegressor"
   ]
  },
  {
   "cell_type": "markdown",
   "metadata": {
    "id": "hWCFRQ1Je5Ik"
   },
   "source": [
    "smoter for train set only:"
   ]
  },
  {
   "cell_type": "code",
   "execution_count": null,
   "metadata": {
    "colab": {
     "base_uri": "https://localhost:8080/"
    },
    "executionInfo": {
     "elapsed": 482704,
     "status": "ok",
     "timestamp": 1679223421894,
     "user": {
      "displayName": "Razan HL",
      "userId": "00189607576210306079"
     },
     "user_tz": -180
    },
    "id": "8P3LBD-2fIBt",
    "outputId": "e42d1dbd-063a-4149-a594-31078f2b11a4"
   },
   "outputs": [
    {
     "data": {
      "text/plain": [
       "(0.8604852649476921, 0.5985888607625298)"
      ]
     },
     "execution_count": 45,
     "metadata": {},
     "output_type": "execute_result"
    }
   ],
   "source": [
    "parameters = {\n",
    "    'max_depth': [3, 5, 10],\n",
    "    'n_estimators': [100, 150, 200],\n",
    "    'learning_rate': [0.05, 0.1, 0.25]\n",
    "    }\n",
    "xgbm = XGBRegressor()\n",
    "xgbm_cv = RandomizedSearchCV(xgbm, parameters, scoring = 'r2')\n",
    "xgbm_cv.fit(tfidf_train_vectors, y_train)\n",
    "xgbm_cv.score(tfidf_train_vectors, y_train), xgbm_cv.score(tfidf_test_vectors, y_test)"
   ]
  },
  {
   "cell_type": "code",
   "execution_count": null,
   "metadata": {
    "colab": {
     "base_uri": "https://localhost:8080/"
    },
    "executionInfo": {
     "elapsed": 646,
     "status": "ok",
     "timestamp": 1679223713866,
     "user": {
      "displayName": "Razan HL",
      "userId": "00189607576210306079"
     },
     "user_tz": -180
    },
    "id": "NeXNqQYHfIBv",
    "outputId": "cff0c242-661d-4395-8edd-e8c75b1694ba"
   },
   "outputs": [
    {
     "data": {
      "text/plain": [
       "{'n_estimators': 100, 'max_depth': 3, 'learning_rate': 0.1}"
      ]
     },
     "execution_count": 46,
     "metadata": {},
     "output_type": "execute_result"
    }
   ],
   "source": [
    "xgbm_cv.best_params_ "
   ]
  },
  {
   "cell_type": "code",
   "execution_count": null,
   "metadata": {
    "colab": {
     "base_uri": "https://localhost:8080/"
    },
    "executionInfo": {
     "elapsed": 20362,
     "status": "ok",
     "timestamp": 1679223743741,
     "user": {
      "displayName": "Razan HL",
      "userId": "00189607576210306079"
     },
     "user_tz": -180
    },
    "id": "RkizmkPWfIBv",
    "outputId": "aedfd446-8a0d-4449-9fe9-e81877d86169"
   },
   "outputs": [
    {
     "data": {
      "text/plain": [
       "(0.9404091799803272, 0.7260615191305082)"
      ]
     },
     "execution_count": 47,
     "metadata": {},
     "output_type": "execute_result"
    }
   ],
   "source": [
    "xgbm_c = XGBRegressor(n_estimators= 200, max_depth = 5, learning_rate = 0.1)\n",
    "xgbm_c.fit(tfidf_train_vectors, y_train)\n",
    "xgbm_c.score(tfidf_train_vectors, y_train), xgbm_c.score(tfidf_test_vectors, y_test)"
   ]
  },
  {
   "cell_type": "code",
   "execution_count": null,
   "metadata": {
    "id": "XAYva9pGfIBw"
   },
   "outputs": [],
   "source": [
    "y_pred_tf = xgbm_c.predict(tfidf_test_vectors)\n"
   ]
  },
  {
   "cell_type": "code",
   "execution_count": null,
   "metadata": {
    "colab": {
     "base_uri": "https://localhost:8080/"
    },
    "executionInfo": {
     "elapsed": 9,
     "status": "ok",
     "timestamp": 1679223770883,
     "user": {
      "displayName": "Razan HL",
      "userId": "00189607576210306079"
     },
     "user_tz": -180
    },
    "id": "PeTRlhApfIBx",
    "outputId": "88940fab-f7f4-4f70-c5ee-e475671a25db"
   },
   "outputs": [
    {
     "data": {
      "text/plain": [
       "0.4413634391206265"
      ]
     },
     "execution_count": 49,
     "metadata": {},
     "output_type": "execute_result"
    }
   ],
   "source": [
    "# RMSE_cv = (mean_squared_error(y_test, y_pred_cv))**(1/2)\n",
    "RMSE_tf = (mean_squared_error(y_test, y_pred_tf))**(1/2)\n",
    "RMSE_tf"
   ]
  },
  {
   "cell_type": "code",
   "execution_count": null,
   "metadata": {
    "id": "MyRAmHb1fIBx"
   },
   "outputs": [],
   "source": [
    "sample = fitted_vectorizer.transform([X_test[3]])\n",
    "sample1 = fitted_vectorizer.transform([X_test[0]])\n",
    "sample2 = fitted_vectorizer.transform([X_test[50]])\n",
    "sample3 = fitted_vectorizer.transform([X_test[49]])\n",
    "sample4 = fitted_vectorizer.transform([X_test[30]])\n",
    "sample5 = fitted_vectorizer.transform([X_test[136]])"
   ]
  },
  {
   "cell_type": "code",
   "execution_count": null,
   "metadata": {
    "colab": {
     "base_uri": "https://localhost:8080/"
    },
    "executionInfo": {
     "elapsed": 357,
     "status": "ok",
     "timestamp": 1679223832126,
     "user": {
      "displayName": "Razan HL",
      "userId": "00189607576210306079"
     },
     "user_tz": -180
    },
    "id": "ZQKc1x1-fIBy",
    "outputId": "1a848d5f-983e-4a1c-9a7c-d9b0902f54fa"
   },
   "outputs": [
    {
     "data": {
      "text/plain": [
       "(4.049583, 4.029999999999999)"
      ]
     },
     "execution_count": 51,
     "metadata": {},
     "output_type": "execute_result"
    }
   ],
   "source": [
    "predicted = xgbm_c.predict(sample)\n",
    "real = y_test[3]\n",
    "predicted[0], real"
   ]
  },
  {
   "cell_type": "code",
   "execution_count": null,
   "metadata": {
    "colab": {
     "base_uri": "https://localhost:8080/"
    },
    "executionInfo": {
     "elapsed": 408,
     "status": "ok",
     "timestamp": 1679223840813,
     "user": {
      "displayName": "Razan HL",
      "userId": "00189607576210306079"
     },
     "user_tz": -180
    },
    "id": "cYiSZCzkfIBz",
    "outputId": "7bb6a657-fedb-46cd-a8e1-e2b5f7bd401d"
   },
   "outputs": [
    {
     "data": {
      "text/plain": [
       "(3.6940997, 3.7331372552352935)"
      ]
     },
     "execution_count": 52,
     "metadata": {},
     "output_type": "execute_result"
    }
   ],
   "source": [
    "predicted = xgbm_c.predict(sample1)\n",
    "real = y_test[0]\n",
    "predicted[0], real"
   ]
  },
  {
   "cell_type": "code",
   "execution_count": null,
   "metadata": {
    "colab": {
     "base_uri": "https://localhost:8080/"
    },
    "executionInfo": {
     "elapsed": 356,
     "status": "ok",
     "timestamp": 1679223851472,
     "user": {
      "displayName": "Razan HL",
      "userId": "00189607576210306079"
     },
     "user_tz": -180
    },
    "id": "zl6jV5trfIBz",
    "outputId": "dff7dceb-0c2d-424a-c47e-5ef76ae7ce52"
   },
   "outputs": [
    {
     "data": {
      "text/plain": [
       "(2.3335097, 2.303333333)"
      ]
     },
     "execution_count": 53,
     "metadata": {},
     "output_type": "execute_result"
    }
   ],
   "source": [
    "predicted = xgbm_c.predict(sample2)\n",
    "real = y_test[50]\n",
    "predicted[0], real"
   ]
  },
  {
   "cell_type": "code",
   "execution_count": null,
   "metadata": {
    "colab": {
     "base_uri": "https://localhost:8080/"
    },
    "executionInfo": {
     "elapsed": 359,
     "status": "ok",
     "timestamp": 1679223866855,
     "user": {
      "displayName": "Razan HL",
      "userId": "00189607576210306079"
     },
     "user_tz": -180
    },
    "id": "fZ-eT3cbfIB0",
    "outputId": "38b48df3-8fb9-433c-b20b-c59a2108c5e1"
   },
   "outputs": [
    {
     "data": {
      "text/plain": [
       "(4.6731553, 4.716333333111111)"
      ]
     },
     "execution_count": 54,
     "metadata": {},
     "output_type": "execute_result"
    }
   ],
   "source": [
    "predicted = xgbm_c.predict(sample3)\n",
    "real = y_test[49]\n",
    "predicted[0], real"
   ]
  },
  {
   "cell_type": "code",
   "execution_count": null,
   "metadata": {
    "colab": {
     "base_uri": "https://localhost:8080/"
    },
    "executionInfo": {
     "elapsed": 692,
     "status": "ok",
     "timestamp": 1679223876355,
     "user": {
      "displayName": "Razan HL",
      "userId": "00189607576210306079"
     },
     "user_tz": -180
    },
    "id": "lHXSCIJCfIB1",
    "outputId": "348c30d6-7855-4ec4-e6a1-5e94d4e76287"
   },
   "outputs": [
    {
     "data": {
      "text/plain": [
       "(4.0695243, 4.092527472384616)"
      ]
     },
     "execution_count": 55,
     "metadata": {},
     "output_type": "execute_result"
    }
   ],
   "source": [
    "predicted = xgbm_c.predict(sample4)\n",
    "real = y_test[30]\n",
    "predicted[0], real"
   ]
  },
  {
   "cell_type": "code",
   "execution_count": null,
   "metadata": {
    "colab": {
     "base_uri": "https://localhost:8080/"
    },
    "executionInfo": {
     "elapsed": 863,
     "status": "ok",
     "timestamp": 1679223906031,
     "user": {
      "displayName": "Razan HL",
      "userId": "00189607576210306079"
     },
     "user_tz": -180
    },
    "id": "FlfY4hnTfIB1",
    "outputId": "42649437-1635-4bde-daf6-f98fda9784e3"
   },
   "outputs": [
    {
     "data": {
      "text/plain": [
       "(2.0547526, 1.9566666670000004)"
      ]
     },
     "execution_count": 57,
     "metadata": {},
     "output_type": "execute_result"
    }
   ],
   "source": [
    "predicted = xgbm_c.predict(tfidf_test_vectors[33])\n",
    "real = y_test[33]\n",
    "predicted[0], real"
   ]
  },
  {
   "cell_type": "markdown",
   "metadata": {
    "id": "8D3zhzSIe4_2"
   },
   "source": [
    "smoter for train & test set\""
   ]
  },
  {
   "cell_type": "code",
   "execution_count": null,
   "metadata": {
    "colab": {
     "base_uri": "https://localhost:8080/"
    },
    "executionInfo": {
     "elapsed": 803310,
     "status": "ok",
     "timestamp": 1678380193214,
     "user": {
      "displayName": "Razan HL",
      "userId": "00189607576210306079"
     },
     "user_tz": -180
    },
    "id": "QpGo9D4dIuNo",
    "outputId": "dae7b877-36de-4423-f53b-de19dd900982"
   },
   "outputs": [
    {
     "data": {
      "text/plain": [
       "(0.9418616433642607, 0.8132995013287553)"
      ]
     },
     "execution_count": 89,
     "metadata": {},
     "output_type": "execute_result"
    }
   ],
   "source": [
    "parameters = {\n",
    "    'max_depth': [3, 5, 10],\n",
    "    'n_estimators': [100, 150, 200],\n",
    "    'learning_rate': [0.05, 0.1, 0.25]\n",
    "    }\n",
    "xgbm = XGBRegressor()\n",
    "xgbm_cv = RandomizedSearchCV(xgbm, parameters, scoring = 'r2')\n",
    "xgbm_cv.fit(tfidf_train_vectors, y_train)\n",
    "xgbm_cv.score(tfidf_train_vectors, y_train), xgbm_cv.score(tfidf_test_vectors, y_test)"
   ]
  },
  {
   "cell_type": "code",
   "execution_count": null,
   "metadata": {
    "colab": {
     "base_uri": "https://localhost:8080/"
    },
    "executionInfo": {
     "elapsed": 642,
     "status": "ok",
     "timestamp": 1678380229905,
     "user": {
      "displayName": "Razan HL",
      "userId": "00189607576210306079"
     },
     "user_tz": -180
    },
    "id": "E5chSTHcSocS",
    "outputId": "8dbbec2f-0bb3-444a-ed20-b5d424d20ce6"
   },
   "outputs": [
    {
     "data": {
      "text/plain": [
       "{'n_estimators': 200, 'max_depth': 5, 'learning_rate': 0.1}"
      ]
     },
     "execution_count": 90,
     "metadata": {},
     "output_type": "execute_result"
    }
   ],
   "source": [
    "xgbm_cv.best_params_ "
   ]
  },
  {
   "cell_type": "code",
   "execution_count": null,
   "metadata": {
    "colab": {
     "base_uri": "https://localhost:8080/"
    },
    "executionInfo": {
     "elapsed": 21138,
     "status": "ok",
     "timestamp": 1678381955735,
     "user": {
      "displayName": "Razan HL",
      "userId": "00189607576210306079"
     },
     "user_tz": -180
    },
    "id": "Clvpb7wsWtPP",
    "outputId": "6a42e7c0-4132-4442-f62c-9bf0eb479e43"
   },
   "outputs": [
    {
     "data": {
      "text/plain": [
       "(0.9418616433642607, 0.8132995013287553)"
      ]
     },
     "execution_count": 130,
     "metadata": {},
     "output_type": "execute_result"
    }
   ],
   "source": [
    "xgbm_c = XGBRegressor(n_estimators= 200, max_depth = 5, learning_rate = 0.1)\n",
    "xgbm_c.fit(tfidf_train_vectors, y_train)\n",
    "xgbm_c.score(tfidf_train_vectors, y_train), xgbm_c.score(tfidf_test_vectors, y_test)"
   ]
  },
  {
   "cell_type": "code",
   "execution_count": null,
   "metadata": {
    "id": "nlyXRrTfWyEf"
   },
   "outputs": [],
   "source": [
    "y_pred_tf = xgbm_c.predict(tfidf_test_vectors)\n"
   ]
  },
  {
   "cell_type": "code",
   "execution_count": null,
   "metadata": {
    "colab": {
     "base_uri": "https://localhost:8080/"
    },
    "executionInfo": {
     "elapsed": 316,
     "status": "ok",
     "timestamp": 1678382009519,
     "user": {
      "displayName": "Razan HL",
      "userId": "00189607576210306079"
     },
     "user_tz": -180
    },
    "id": "-H2JvvKYYJYe",
    "outputId": "e6f5fa7a-9d48-40e8-cb4a-ce3698cb5d45"
   },
   "outputs": [
    {
     "data": {
      "text/plain": [
       "0.467405564436544"
      ]
     },
     "execution_count": 132,
     "metadata": {},
     "output_type": "execute_result"
    }
   ],
   "source": [
    "# RMSE_cv = (mean_squared_error(y_test, y_pred_cv))**(1/2)\n",
    "RMSE_tf = (mean_squared_error(y_test, y_pred_tf))**(1/2)\n",
    "RMSE_tf"
   ]
  },
  {
   "cell_type": "code",
   "execution_count": null,
   "metadata": {
    "id": "8dh-Gclbo446"
   },
   "outputs": [],
   "source": [
    "sample = fitted_vectorizer.transform([X_test[3]])\n",
    "sample1 = fitted_vectorizer.transform([X_test[0]])\n",
    "sample2 = fitted_vectorizer.transform([X_test[50]])\n",
    "sample3 = fitted_vectorizer.transform([X_test[49]])\n",
    "sample4 = fitted_vectorizer.transform([X_test[30]])\n",
    "sample5 = fitted_vectorizer.transform([X_test[136]])"
   ]
  },
  {
   "cell_type": "code",
   "execution_count": null,
   "metadata": {
    "colab": {
     "base_uri": "https://localhost:8080/"
    },
    "executionInfo": {
     "elapsed": 9,
     "status": "ok",
     "timestamp": 1678382027454,
     "user": {
      "displayName": "Razan HL",
      "userId": "00189607576210306079"
     },
     "user_tz": -180
    },
    "id": "w38bGhPlH0pw",
    "outputId": "a849bc8a-818f-4690-eb89-d0251cf3f736"
   },
   "outputs": [
    {
     "data": {
      "text/plain": [
       "(4.0375943, 4.029999999999999)"
      ]
     },
     "execution_count": 134,
     "metadata": {},
     "output_type": "execute_result"
    }
   ],
   "source": [
    "predicted = xgbm_c.predict(sample)\n",
    "real = y_test[3]\n",
    "predicted[0], real"
   ]
  },
  {
   "cell_type": "code",
   "execution_count": null,
   "metadata": {
    "colab": {
     "base_uri": "https://localhost:8080/"
    },
    "executionInfo": {
     "elapsed": 12,
     "status": "ok",
     "timestamp": 1678382054222,
     "user": {
      "displayName": "Razan HL",
      "userId": "00189607576210306079"
     },
     "user_tz": -180
    },
    "id": "Ic8Ov68VpGrn",
    "outputId": "ab6e1e45-4791-444e-a08e-3a38ef88b028"
   },
   "outputs": [
    {
     "data": {
      "text/plain": [
       "(3.7372887, 3.7331372552352935)"
      ]
     },
     "execution_count": 137,
     "metadata": {},
     "output_type": "execute_result"
    }
   ],
   "source": [
    "predicted = xgbm_c.predict(sample1)\n",
    "real = y_test[0]\n",
    "predicted[0], real"
   ]
  },
  {
   "cell_type": "code",
   "execution_count": null,
   "metadata": {
    "colab": {
     "base_uri": "https://localhost:8080/"
    },
    "executionInfo": {
     "elapsed": 576,
     "status": "ok",
     "timestamp": 1678382050564,
     "user": {
      "displayName": "Razan HL",
      "userId": "00189607576210306079"
     },
     "user_tz": -180
    },
    "id": "rt1br5zbpGle",
    "outputId": "000d5dfc-f673-4089-a1ed-9f088586ae19"
   },
   "outputs": [
    {
     "data": {
      "text/plain": [
       "(2.86501, 2.8716666666666666)"
      ]
     },
     "execution_count": 136,
     "metadata": {},
     "output_type": "execute_result"
    }
   ],
   "source": [
    "predicted = xgbm_c.predict(sample2)\n",
    "real = y_test[50]\n",
    "predicted[0], real"
   ]
  },
  {
   "cell_type": "code",
   "execution_count": null,
   "metadata": {
    "colab": {
     "base_uri": "https://localhost:8080/"
    },
    "executionInfo": {
     "elapsed": 545,
     "status": "ok",
     "timestamp": 1678382066131,
     "user": {
      "displayName": "Razan HL",
      "userId": "00189607576210306079"
     },
     "user_tz": -180
    },
    "id": "rAOLV_EJpGiK",
    "outputId": "1200a345-a1b7-4424-cf69-1bdc8cc8dc08"
   },
   "outputs": [
    {
     "data": {
      "text/plain": [
       "(3.7894652, 3.757540983606557)"
      ]
     },
     "execution_count": 138,
     "metadata": {},
     "output_type": "execute_result"
    }
   ],
   "source": [
    "predicted = xgbm_c.predict(sample3)\n",
    "real = y_test[49]\n",
    "predicted[0], real"
   ]
  },
  {
   "cell_type": "code",
   "execution_count": null,
   "metadata": {
    "colab": {
     "base_uri": "https://localhost:8080/"
    },
    "executionInfo": {
     "elapsed": 11,
     "status": "ok",
     "timestamp": 1678382076269,
     "user": {
      "displayName": "Razan HL",
      "userId": "00189607576210306079"
     },
     "user_tz": -180
    },
    "id": "h8gZOB3vpIaS",
    "outputId": "4a48ea34-04cb-482f-ca01-2ee77298b70d"
   },
   "outputs": [
    {
     "data": {
      "text/plain": [
       "(3.7642982, 3.7258085106382977)"
      ]
     },
     "execution_count": 139,
     "metadata": {},
     "output_type": "execute_result"
    }
   ],
   "source": [
    "predicted = xgbm_c.predict(sample4)\n",
    "real = y_test[30]\n",
    "predicted[0], real"
   ]
  },
  {
   "cell_type": "code",
   "execution_count": null,
   "metadata": {
    "colab": {
     "base_uri": "https://localhost:8080/"
    },
    "executionInfo": {
     "elapsed": 8,
     "status": "ok",
     "timestamp": 1678382095424,
     "user": {
      "displayName": "Razan HL",
      "userId": "00189607576210306079"
     },
     "user_tz": -180
    },
    "id": "0WsxWwEESKsj",
    "outputId": "924719e5-393b-48b7-890a-5c509d22f967"
   },
   "outputs": [
    {
     "data": {
      "text/plain": [
       "(4.1101274, 4.39975268783871)"
      ]
     },
     "execution_count": 140,
     "metadata": {},
     "output_type": "execute_result"
    }
   ],
   "source": [
    "predicted = xgbm_c.predict(tfidf_test_vectors[136])\n",
    "real = y_test[136]\n",
    "predicted[0], real"
   ]
  },
  {
   "cell_type": "code",
   "execution_count": null,
   "metadata": {
    "id": "g4qosd24WDPq"
   },
   "outputs": [],
   "source": []
  },
  {
   "cell_type": "code",
   "execution_count": null,
   "metadata": {
    "id": "CK4qHmJJWM_D"
   },
   "outputs": [],
   "source": [
    "xgbm_c.save_model(\"/content/drive/MyDrive/Colab Notebooks/trained_ML_models/decision_xgbm.json\")"
   ]
  },
  {
   "cell_type": "code",
   "execution_count": null,
   "metadata": {
    "id": "nNxKYf1iWM_E"
   },
   "outputs": [],
   "source": [
    "xgbm2 = XGBRegressor()\n",
    "xgbm2.load_model('/content/drive/MyDrive/Colab Notebooks/trained_ML_models/decision_xgbm.json')"
   ]
  },
  {
   "cell_type": "code",
   "execution_count": null,
   "metadata": {
    "colab": {
     "base_uri": "https://localhost:8080/"
    },
    "executionInfo": {
     "elapsed": 10,
     "status": "ok",
     "timestamp": 1678382138846,
     "user": {
      "displayName": "Razan HL",
      "userId": "00189607576210306079"
     },
     "user_tz": -180
    },
    "id": "W8eZYnOLWM_F",
    "outputId": "62295939-fb9a-4d07-cae8-6ea67db31ed9"
   },
   "outputs": [
    {
     "data": {
      "text/plain": [
       "(0.8132995013287553, 0.9418616433642607)"
      ]
     },
     "execution_count": 144,
     "metadata": {},
     "output_type": "execute_result"
    }
   ],
   "source": [
    "xgbm2.score(tfidf_test_vectors, y_test), xgbm2.score(tfidf_train_vectors, y_train)"
   ]
  },
  {
   "cell_type": "markdown",
   "metadata": {
    "id": "BzpGu1TCC-jb"
   },
   "source": [
    "# Random forest:"
   ]
  },
  {
   "cell_type": "markdown",
   "metadata": {
    "id": "CrHRk6uti7NA"
   },
   "source": [
    "smoter for train set only:"
   ]
  },
  {
   "cell_type": "code",
   "execution_count": null,
   "metadata": {
    "id": "ZRoGrMx4jHJr"
   },
   "outputs": [],
   "source": [
    "# RandomForestRegressor:\n",
    "parameters = {\n",
    "    'n_estimators': [100, 150, 200],\n",
    "    'max_depth': [5, 10, 50],\n",
    "    'max_features': [15, 50, 100],\n",
    "    }\n",
    "rf = RandomForestRegressor()\n",
    "rf_c = RandomizedSearchCV(rf, parameters, scoring = 'r2')\n",
    "rf_c.fit(tfidf_train_vectors, y_train)\n",
    "rf_c.best_params_"
   ]
  },
  {
   "cell_type": "code",
   "execution_count": null,
   "metadata": {
    "id": "1eFDTcbujHJs"
   },
   "outputs": [],
   "source": [
    "\n",
    "y_pred_cv = rf_c.predict(tfidf_test_vectors)\n",
    "rf_c.score(tfidf_test_vectors, y_test), rf_c.score(tfidf_train_vectors, y_train)"
   ]
  },
  {
   "cell_type": "code",
   "execution_count": null,
   "metadata": {
    "colab": {
     "base_uri": "https://localhost:8080/"
    },
    "executionInfo": {
     "elapsed": 4070,
     "status": "ok",
     "timestamp": 1679224182053,
     "user": {
      "displayName": "Razan HL",
      "userId": "00189607576210306079"
     },
     "user_tz": -180
    },
    "id": "QPJw-vMRjHJs",
    "outputId": "df4c26ed-e04a-4feb-ee68-e42bbcf43297"
   },
   "outputs": [
    {
     "data": {
      "text/plain": [
       "(0.5479754248841938, 0.825594972584251)"
      ]
     },
     "execution_count": 66,
     "metadata": {},
     "output_type": "execute_result"
    }
   ],
   "source": [
    "rf_tf = RandomForestRegressor(max_features= 100, max_depth = 10)\n",
    "rf_tf = rf_tf.fit(tfidf_train_vectors,y_train)\n",
    "y_pred_cv_rf = rf_tf.predict(tfidf_test_vectors)\n",
    "rf_tf.score(tfidf_test_vectors, y_test), rf_tf.score(tfidf_train_vectors, y_train)"
   ]
  },
  {
   "cell_type": "code",
   "execution_count": null,
   "metadata": {
    "colab": {
     "base_uri": "https://localhost:8080/"
    },
    "executionInfo": {
     "elapsed": 394,
     "status": "ok",
     "timestamp": 1679224195413,
     "user": {
      "displayName": "Razan HL",
      "userId": "00189607576210306079"
     },
     "user_tz": -180
    },
    "id": "22v8vBobjHJt",
    "outputId": "1043bc18-2563-4f97-f587-fa48e9277725"
   },
   "outputs": [
    {
     "data": {
      "text/plain": [
       "0.566957959609664"
      ]
     },
     "execution_count": 68,
     "metadata": {},
     "output_type": "execute_result"
    }
   ],
   "source": [
    "RMSE_tf = (mean_squared_error(y_test, y_pred_cv_rf))**(1/2)\n",
    "RMSE_tf"
   ]
  },
  {
   "cell_type": "code",
   "execution_count": null,
   "metadata": {
    "colab": {
     "base_uri": "https://localhost:8080/"
    },
    "executionInfo": {
     "elapsed": 557,
     "status": "ok",
     "timestamp": 1679224225411,
     "user": {
      "displayName": "Razan HL",
      "userId": "00189607576210306079"
     },
     "user_tz": -180
    },
    "id": "wvmEh36ZjHJt",
    "outputId": "9b54154a-1990-4b94-a2e5-7fa5b3579d9b"
   },
   "outputs": [
    {
     "data": {
      "text/plain": [
       "(3.6712720834554085, 3.7331372552352935)"
      ]
     },
     "execution_count": 70,
     "metadata": {},
     "output_type": "execute_result"
    }
   ],
   "source": [
    "predicted = rf_tf.predict(tfidf_test_vectors[0]) \n",
    "real = y_test[0]\n",
    "predicted[0], real"
   ]
  },
  {
   "cell_type": "code",
   "execution_count": null,
   "metadata": {
    "colab": {
     "base_uri": "https://localhost:8080/"
    },
    "executionInfo": {
     "elapsed": 362,
     "status": "ok",
     "timestamp": 1679224262015,
     "user": {
      "displayName": "Razan HL",
      "userId": "00189607576210306079"
     },
     "user_tz": -180
    },
    "id": "BMzzuoaPjHJu",
    "outputId": "ee192b21-790a-4084-ab2e-981189188a68"
   },
   "outputs": [
    {
     "data": {
      "text/plain": [
       "(2.855486224761522, 1.9566666670000004)"
      ]
     },
     "execution_count": 72,
     "metadata": {},
     "output_type": "execute_result"
    }
   ],
   "source": [
    "predicted = rf_tf.predict(tfidf_test_vectors[33]) \n",
    "real = y_test[33]\n",
    "predicted[0], real"
   ]
  },
  {
   "cell_type": "code",
   "execution_count": null,
   "metadata": {
    "colab": {
     "base_uri": "https://localhost:8080/"
    },
    "executionInfo": {
     "elapsed": 345,
     "status": "ok",
     "timestamp": 1679224279876,
     "user": {
      "displayName": "Razan HL",
      "userId": "00189607576210306079"
     },
     "user_tz": -180
    },
    "id": "LoqpO-rzjHJu",
    "outputId": "2bb03512-7fd3-48b4-9dd3-ea7341f07abe"
   },
   "outputs": [
    {
     "data": {
      "text/plain": [
       "(3.7328156803616848, 4.092527472384616)"
      ]
     },
     "execution_count": 73,
     "metadata": {},
     "output_type": "execute_result"
    }
   ],
   "source": [
    "predicted = rf_tf.predict(tfidf_test_vectors[30]) \n",
    "real = y_test[30]\n",
    "predicted[0], real"
   ]
  },
  {
   "cell_type": "code",
   "execution_count": null,
   "metadata": {
    "colab": {
     "base_uri": "https://localhost:8080/"
    },
    "executionInfo": {
     "elapsed": 496,
     "status": "ok",
     "timestamp": 1679224290189,
     "user": {
      "displayName": "Razan HL",
      "userId": "00189607576210306079"
     },
     "user_tz": -180
    },
    "id": "X9pTu2TajHJu",
    "outputId": "405eeed9-ccc6-4a7a-bf26-dfa359c83c47"
   },
   "outputs": [
    {
     "data": {
      "text/plain": [
       "(4.063709849125448, 4.716333333111111)"
      ]
     },
     "execution_count": 74,
     "metadata": {},
     "output_type": "execute_result"
    }
   ],
   "source": [
    "predicted = rf_tf.predict(tfidf_test_vectors[49]) \n",
    "real = y_test[49]\n",
    "predicted[0], real"
   ]
  },
  {
   "cell_type": "code",
   "execution_count": null,
   "metadata": {
    "colab": {
     "base_uri": "https://localhost:8080/"
    },
    "executionInfo": {
     "elapsed": 550,
     "status": "ok",
     "timestamp": 1679224299043,
     "user": {
      "displayName": "Razan HL",
      "userId": "00189607576210306079"
     },
     "user_tz": -180
    },
    "id": "DMeJ7M_SjHJv",
    "outputId": "85c8de61-aa51-4ad3-f038-3935cfd74be1"
   },
   "outputs": [
    {
     "data": {
      "text/plain": [
       "(2.9654825874182853, 2.303333333)"
      ]
     },
     "execution_count": 75,
     "metadata": {},
     "output_type": "execute_result"
    }
   ],
   "source": [
    "predicted = rf_tf.predict(tfidf_test_vectors[50]) \n",
    "real = y_test[50]\n",
    "predicted[0], real"
   ]
  },
  {
   "cell_type": "code",
   "execution_count": null,
   "metadata": {
    "colab": {
     "base_uri": "https://localhost:8080/"
    },
    "executionInfo": {
     "elapsed": 354,
     "status": "ok",
     "timestamp": 1679224310158,
     "user": {
      "displayName": "Razan HL",
      "userId": "00189607576210306079"
     },
     "user_tz": -180
    },
    "id": "bP15xxNDjHJv",
    "outputId": "9b93eb96-572b-43f2-aadb-5f657d89920c"
   },
   "outputs": [
    {
     "data": {
      "text/plain": [
       "(3.8202784785628325, 3.6638888888888888)"
      ]
     },
     "execution_count": 76,
     "metadata": {},
     "output_type": "execute_result"
    }
   ],
   "source": [
    "predicted = rf_tf.predict(tfidf_test_vectors[136])\n",
    "predicted[0], y_test[136]"
   ]
  },
  {
   "cell_type": "markdown",
   "metadata": {
    "id": "1er_Sx_4i7At"
   },
   "source": [
    "smoter for train & test set:"
   ]
  },
  {
   "cell_type": "code",
   "execution_count": null,
   "metadata": {
    "colab": {
     "base_uri": "https://localhost:8080/"
    },
    "executionInfo": {
     "elapsed": 160782,
     "status": "ok",
     "timestamp": 1678380890233,
     "user": {
      "displayName": "Razan HL",
      "userId": "00189607576210306079"
     },
     "user_tz": -180
    },
    "id": "OcmsigBRe_5O",
    "outputId": "ccb21768-5459-4ee4-c9c8-35caff46cacf"
   },
   "outputs": [
    {
     "data": {
      "text/plain": [
       "{'n_estimators': 150, 'max_features': 100, 'max_depth': 10}"
      ]
     },
     "execution_count": 103,
     "metadata": {},
     "output_type": "execute_result"
    }
   ],
   "source": [
    "# RandomForestRegressor:\n",
    "parameters = {\n",
    "    'n_estimators': [100, 150, 200],\n",
    "    'max_depth': [5, 10, 50],\n",
    "    'max_features': [15, 50, 100],\n",
    "    }\n",
    "rf = RandomForestRegressor()\n",
    "rf_c = RandomizedSearchCV(rf, parameters, scoring = 'r2')\n",
    "rf_c.fit(tfidf_train_vectors, y_train)\n",
    "rf_c.best_params_"
   ]
  },
  {
   "cell_type": "code",
   "execution_count": null,
   "metadata": {
    "colab": {
     "base_uri": "https://localhost:8080/"
    },
    "executionInfo": {
     "elapsed": 812,
     "status": "ok",
     "timestamp": 1678380969796,
     "user": {
      "displayName": "Razan HL",
      "userId": "00189607576210306079"
     },
     "user_tz": -180
    },
    "id": "e6PBOk1WTLeu",
    "outputId": "2e28841c-1f89-4fb2-a4c3-6e3a13226a2c"
   },
   "outputs": [
    {
     "data": {
      "text/plain": [
       "(0.7405745210319798, 0.8309291160363179)"
      ]
     },
     "execution_count": 105,
     "metadata": {},
     "output_type": "execute_result"
    }
   ],
   "source": [
    "\n",
    "y_pred_cv = rf_c.predict(tfidf_test_vectors)\n",
    "rf_c.score(tfidf_test_vectors, y_test), rf_c.score(tfidf_train_vectors, y_train)"
   ]
  },
  {
   "cell_type": "code",
   "execution_count": null,
   "metadata": {
    "colab": {
     "base_uri": "https://localhost:8080/"
    },
    "executionInfo": {
     "elapsed": 7376,
     "status": "ok",
     "timestamp": 1678381048049,
     "user": {
      "displayName": "Razan HL",
      "userId": "00189607576210306079"
     },
     "user_tz": -180
    },
    "id": "qMjlt3Y9XzbE",
    "outputId": "81b6df75-9a26-413b-a57a-2072c68655f1"
   },
   "outputs": [
    {
     "data": {
      "text/plain": [
       "(0.7423775254389009, 0.825270080845639)"
      ]
     },
     "execution_count": 106,
     "metadata": {},
     "output_type": "execute_result"
    }
   ],
   "source": [
    "rf_tf = RandomForestRegressor(max_features= 100, max_depth = 10)\n",
    "rf_tf.fit(tfidf_train_vectors,y_train)\n",
    "y_pred_cv_rf = rf_tf.predict(tfidf_test_vectors)\n",
    "rf_tf.score(tfidf_test_vectors, y_test), rf_tf.score(tfidf_train_vectors, y_train)"
   ]
  },
  {
   "cell_type": "code",
   "execution_count": null,
   "metadata": {
    "colab": {
     "base_uri": "https://localhost:8080/"
    },
    "executionInfo": {
     "elapsed": 7,
     "status": "ok",
     "timestamp": 1678381133761,
     "user": {
      "displayName": "Razan HL",
      "userId": "00189607576210306079"
     },
     "user_tz": -180
    },
    "id": "ZL1vEk-9b97f",
    "outputId": "cbddc284-ded9-49c4-c070-af9e0b5c97fe"
   },
   "outputs": [
    {
     "data": {
      "text/plain": [
       "0.550969366399968"
      ]
     },
     "execution_count": 108,
     "metadata": {},
     "output_type": "execute_result"
    }
   ],
   "source": [
    "RMSE_tf = (mean_squared_error(y_test, y_pred_cv))**(1/2)\n",
    "RMSE_tf"
   ]
  },
  {
   "cell_type": "code",
   "execution_count": null,
   "metadata": {
    "id": "kvVkh-8-TDiw"
   },
   "outputs": [],
   "source": []
  },
  {
   "cell_type": "code",
   "execution_count": null,
   "metadata": {
    "colab": {
     "base_uri": "https://localhost:8080/"
    },
    "executionInfo": {
     "elapsed": 752,
     "status": "ok",
     "timestamp": 1678381173867,
     "user": {
      "displayName": "Razan HL",
      "userId": "00189607576210306079"
     },
     "user_tz": -180
    },
    "id": "zpVPJk3iTEMe",
    "outputId": "fa9ee5c7-b772-45e5-9669-f429a1391022"
   },
   "outputs": [
    {
     "data": {
      "text/plain": [
       "(3.7369702114752945, 3.7331372552352935)"
      ]
     },
     "execution_count": 109,
     "metadata": {},
     "output_type": "execute_result"
    }
   ],
   "source": [
    "predicted = rf_c.predict(tfidf_test_vectors[0]) \n",
    "real = y_test[0]\n",
    "predicted[0], real"
   ]
  },
  {
   "cell_type": "code",
   "execution_count": null,
   "metadata": {
    "colab": {
     "base_uri": "https://localhost:8080/"
    },
    "executionInfo": {
     "elapsed": 450,
     "status": "ok",
     "timestamp": 1678381183924,
     "user": {
      "displayName": "Razan HL",
      "userId": "00189607576210306079"
     },
     "user_tz": -180
    },
    "id": "j6zgKfCHTEMf",
    "outputId": "4145c62a-b4c0-4ea2-8d75-9f1bbd7a1773"
   },
   "outputs": [
    {
     "data": {
      "text/plain": [
       "(4.0100339454961365, 4.029999999999999)"
      ]
     },
     "execution_count": 110,
     "metadata": {},
     "output_type": "execute_result"
    }
   ],
   "source": [
    "predicted = rf_c.predict(tfidf_test_vectors[3]) \n",
    "real = y_test[3]\n",
    "predicted[0], real"
   ]
  },
  {
   "cell_type": "code",
   "execution_count": null,
   "metadata": {
    "colab": {
     "base_uri": "https://localhost:8080/"
    },
    "executionInfo": {
     "elapsed": 8,
     "status": "ok",
     "timestamp": 1678381188974,
     "user": {
      "displayName": "Razan HL",
      "userId": "00189607576210306079"
     },
     "user_tz": -180
    },
    "id": "crI4BwaOTEMf",
    "outputId": "77ae5cc4-e38d-40d3-d9a1-c5661fb81939"
   },
   "outputs": [
    {
     "data": {
      "text/plain": [
       "(3.8665883391156295, 3.7258085106382977)"
      ]
     },
     "execution_count": 111,
     "metadata": {},
     "output_type": "execute_result"
    }
   ],
   "source": [
    "predicted = rf_c.predict(tfidf_test_vectors[30]) \n",
    "real = y_test[30]\n",
    "predicted[0], real"
   ]
  },
  {
   "cell_type": "code",
   "execution_count": null,
   "metadata": {
    "colab": {
     "base_uri": "https://localhost:8080/"
    },
    "executionInfo": {
     "elapsed": 7,
     "status": "ok",
     "timestamp": 1678381198760,
     "user": {
      "displayName": "Razan HL",
      "userId": "00189607576210306079"
     },
     "user_tz": -180
    },
    "id": "yYzRvUbVTEMg",
    "outputId": "162cc741-ee82-4b04-fec7-ba71bc4c9db7"
   },
   "outputs": [
    {
     "data": {
      "text/plain": [
       "(3.9499582874092063, 3.757540983606557)"
      ]
     },
     "execution_count": 112,
     "metadata": {},
     "output_type": "execute_result"
    }
   ],
   "source": [
    "predicted = rf_c.predict(tfidf_test_vectors[49]) \n",
    "real = y_test[49]\n",
    "predicted[0], real"
   ]
  },
  {
   "cell_type": "code",
   "execution_count": null,
   "metadata": {
    "colab": {
     "base_uri": "https://localhost:8080/"
    },
    "executionInfo": {
     "elapsed": 1701,
     "status": "ok",
     "timestamp": 1678381205556,
     "user": {
      "displayName": "Razan HL",
      "userId": "00189607576210306079"
     },
     "user_tz": -180
    },
    "id": "bI4sa8plTEMh",
    "outputId": "1f79def1-7bb6-4bc3-dc07-39bec8327cc8"
   },
   "outputs": [
    {
     "data": {
      "text/plain": [
       "(3.179419328737052, 2.8716666666666666)"
      ]
     },
     "execution_count": 113,
     "metadata": {},
     "output_type": "execute_result"
    }
   ],
   "source": [
    "predicted = rf_c.predict(tfidf_test_vectors[50]) \n",
    "real = y_test[50]\n",
    "predicted[0], real"
   ]
  },
  {
   "cell_type": "code",
   "execution_count": null,
   "metadata": {
    "colab": {
     "base_uri": "https://localhost:8080/"
    },
    "executionInfo": {
     "elapsed": 701,
     "status": "ok",
     "timestamp": 1678381219433,
     "user": {
      "displayName": "Razan HL",
      "userId": "00189607576210306079"
     },
     "user_tz": -180
    },
    "id": "pDAbDPBLTEMh",
    "outputId": "54876a15-802d-4238-8bb9-b822d1941ec7"
   },
   "outputs": [
    {
     "data": {
      "text/plain": [
       "(3.920557182208864, 4.39975268783871)"
      ]
     },
     "execution_count": 114,
     "metadata": {},
     "output_type": "execute_result"
    }
   ],
   "source": [
    "predicted = rf_c.predict(tfidf_test_vectors[136])\n",
    "predicted[0], y_test[136]"
   ]
  },
  {
   "cell_type": "code",
   "execution_count": null,
   "metadata": {
    "colab": {
     "base_uri": "https://localhost:8080/"
    },
    "executionInfo": {
     "elapsed": 377,
     "status": "ok",
     "timestamp": 1678382229047,
     "user": {
      "displayName": "Razan HL",
      "userId": "00189607576210306079"
     },
     "user_tz": -180
    },
    "id": "y9GBIbQzX_1Y",
    "outputId": "4f3f218d-ff5c-4061-dc93-aeaee3f1c69f"
   },
   "outputs": [
    {
     "data": {
      "text/plain": [
       "['/content/drive/MyDrive/Colab Notebooks/trained_ML_models/decision_rf.pkl']"
      ]
     },
     "execution_count": 145,
     "metadata": {},
     "output_type": "execute_result"
    }
   ],
   "source": [
    "import joblib\n",
    "joblib.dump(rf_c,\"/content/drive/MyDrive/Colab Notebooks/trained_ML_models/decision_rf.pkl\")"
   ]
  },
  {
   "cell_type": "code",
   "execution_count": null,
   "metadata": {
    "id": "jhYepPprX_1Z"
   },
   "outputs": [],
   "source": [
    "loaded_rf = joblib.load(\"/content/drive/MyDrive/Colab Notebooks/trained_ML_models/decision_rf.pkl\")"
   ]
  },
  {
   "cell_type": "code",
   "execution_count": null,
   "metadata": {
    "colab": {
     "base_uri": "https://localhost:8080/"
    },
    "executionInfo": {
     "elapsed": 7,
     "status": "ok",
     "timestamp": 1678382250498,
     "user": {
      "displayName": "Razan HL",
      "userId": "00189607576210306079"
     },
     "user_tz": -180
    },
    "id": "evsylmVEX_1a",
    "outputId": "43e70f9c-be8c-438d-dc70-b6b067a4d07c"
   },
   "outputs": [
    {
     "data": {
      "text/plain": [
       "(0.7405745210319798, 0.8309291160363179)"
      ]
     },
     "execution_count": 147,
     "metadata": {},
     "output_type": "execute_result"
    }
   ],
   "source": [
    "loaded_rf.score(tfidf_test_vectors, y_test), loaded_rf.score(tfidf_train_vectors, y_train)"
   ]
  },
  {
   "cell_type": "markdown",
   "metadata": {
    "id": "NEsDIFQ8HqiO"
   },
   "source": [
    "# DecisionTreeRegressor:\n"
   ]
  },
  {
   "cell_type": "markdown",
   "metadata": {
    "id": "HW-SXIFgkcG1"
   },
   "source": [
    "smoter for train set only:"
   ]
  },
  {
   "cell_type": "code",
   "execution_count": null,
   "metadata": {
    "colab": {
     "base_uri": "https://localhost:8080/"
    },
    "executionInfo": {
     "elapsed": 1769,
     "status": "ok",
     "timestamp": 1679224477309,
     "user": {
      "displayName": "Razan HL",
      "userId": "00189607576210306079"
     },
     "user_tz": -180
    },
    "id": "CQUprro7kmIt",
    "outputId": "d999b412-d1ef-4ad5-c7c1-4b6f8b27c3cf"
   },
   "outputs": [
    {
     "data": {
      "text/plain": [
       "(0.43170524250482967, 0.9422671826422117)"
      ]
     },
     "execution_count": 78,
     "metadata": {},
     "output_type": "execute_result"
    }
   ],
   "source": [
    "# DecisionTreeRegressor:\n",
    "dt_cv = DecisionTreeRegressor()\n",
    "regression_df_cv = TransformedTargetRegressor(regressor=dt_cv, transformer=MinMaxScaler())\n",
    "\n",
    "regression_df_cv.fit(tfidf_train_vectors,y_train)\n",
    "y_pred_cv = regression_df_cv.predict(tfidf_test_vectors)\n",
    "regression_df_cv.score(tfidf_test_vectors, y_test), regression_df_cv.score(tfidf_train_vectors, y_train)"
   ]
  },
  {
   "cell_type": "code",
   "execution_count": null,
   "metadata": {
    "colab": {
     "base_uri": "https://localhost:8080/"
    },
    "executionInfo": {
     "elapsed": 892,
     "status": "ok",
     "timestamp": 1679224505052,
     "user": {
      "displayName": "Razan HL",
      "userId": "00189607576210306079"
     },
     "user_tz": -180
    },
    "id": "Or-VQZaPk7SE",
    "outputId": "1d7f1ae5-e37c-4329-d3d3-95402321bb38"
   },
   "outputs": [
    {
     "data": {
      "text/plain": [
       "(0.5116999994812901, 0.9422671826422117)"
      ]
     },
     "execution_count": 80,
     "metadata": {},
     "output_type": "execute_result"
    }
   ],
   "source": [
    "# no scaling\n",
    "dt_cv = DecisionTreeRegressor()\n",
    "regression_df_cv = dt_cv.fit(tfidf_train_vectors,y_train)\n",
    "y_pred_cv = regression_df_cv.predict(tfidf_test_vectors)\n",
    "regression_df_cv.score(tfidf_test_vectors, y_test), regression_df_cv.score(tfidf_train_vectors, y_train)"
   ]
  },
  {
   "cell_type": "code",
   "execution_count": null,
   "metadata": {
    "colab": {
     "base_uri": "https://localhost:8080/"
    },
    "executionInfo": {
     "elapsed": 344,
     "status": "ok",
     "timestamp": 1679224518681,
     "user": {
      "displayName": "Razan HL",
      "userId": "00189607576210306079"
     },
     "user_tz": -180
    },
    "id": "G83WWYhxkmIu",
    "outputId": "0df49333-4aa7-4a0f-ed31-958e48580638"
   },
   "outputs": [
    {
     "data": {
      "text/plain": [
       "0.4225279207895216"
      ]
     },
     "execution_count": 81,
     "metadata": {},
     "output_type": "execute_result"
    }
   ],
   "source": [
    "RMSE_tf = (mean_squared_error(y_test, y_pred))**(1/2)\n",
    "RMSE_tf"
   ]
  },
  {
   "cell_type": "code",
   "execution_count": null,
   "metadata": {
    "colab": {
     "base_uri": "https://localhost:8080/"
    },
    "executionInfo": {
     "elapsed": 453,
     "status": "ok",
     "timestamp": 1679224533351,
     "user": {
      "displayName": "Razan HL",
      "userId": "00189607576210306079"
     },
     "user_tz": -180
    },
    "id": "PRjRRyXhkmIv",
    "outputId": "f96774fd-d062-4485-ada5-63d596a5368e"
   },
   "outputs": [
    {
     "data": {
      "text/plain": [
       "(3.7331372552352935, 3.7331372552352935)"
      ]
     },
     "execution_count": 82,
     "metadata": {},
     "output_type": "execute_result"
    }
   ],
   "source": [
    "predicted = regression_df_cv.predict(tfidf_test_vectors[0]) \n",
    "real = y_test[0]\n",
    "predicted[0], real"
   ]
  },
  {
   "cell_type": "code",
   "execution_count": null,
   "metadata": {
    "colab": {
     "base_uri": "https://localhost:8080/"
    },
    "executionInfo": {
     "elapsed": 523,
     "status": "ok",
     "timestamp": 1679224537402,
     "user": {
      "displayName": "Razan HL",
      "userId": "00189607576210306079"
     },
     "user_tz": -180
    },
    "id": "uNRBsuvakmIw",
    "outputId": "f2965cc9-1e37-4388-df39-bb399471bb25"
   },
   "outputs": [
    {
     "data": {
      "text/plain": [
       "(4.029999999999999, 4.029999999999999)"
      ]
     },
     "execution_count": 83,
     "metadata": {},
     "output_type": "execute_result"
    }
   ],
   "source": [
    "predicted = regression_df_cv.predict(tfidf_test_vectors[3]) \n",
    "real = y_test[3]\n",
    "predicted[0], real"
   ]
  },
  {
   "cell_type": "code",
   "execution_count": null,
   "metadata": {
    "colab": {
     "base_uri": "https://localhost:8080/"
    },
    "executionInfo": {
     "elapsed": 504,
     "status": "ok",
     "timestamp": 1679224540838,
     "user": {
      "displayName": "Razan HL",
      "userId": "00189607576210306079"
     },
     "user_tz": -180
    },
    "id": "23kL1H2wkmIw",
    "outputId": "07100ebe-8fc9-4288-c325-d52038747f1f"
   },
   "outputs": [
    {
     "data": {
      "text/plain": [
       "(4.092527472384616, 4.092527472384616)"
      ]
     },
     "execution_count": 84,
     "metadata": {},
     "output_type": "execute_result"
    }
   ],
   "source": [
    "predicted = regression_df_cv.predict(tfidf_test_vectors[30]) \n",
    "real = y_test[30]\n",
    "predicted[0], real"
   ]
  },
  {
   "cell_type": "code",
   "execution_count": null,
   "metadata": {
    "colab": {
     "base_uri": "https://localhost:8080/"
    },
    "executionInfo": {
     "elapsed": 556,
     "status": "ok",
     "timestamp": 1679224545572,
     "user": {
      "displayName": "Razan HL",
      "userId": "00189607576210306079"
     },
     "user_tz": -180
    },
    "id": "DWFVpKF6kmIx",
    "outputId": "1357bb0f-6a35-4b6f-88cd-593dc62ad13a"
   },
   "outputs": [
    {
     "data": {
      "text/plain": [
       "(4.716333333111111, 4.716333333111111)"
      ]
     },
     "execution_count": 85,
     "metadata": {},
     "output_type": "execute_result"
    }
   ],
   "source": [
    "predicted = regression_df_cv.predict(tfidf_test_vectors[49]) \n",
    "real = y_test[49]\n",
    "predicted[0], real"
   ]
  },
  {
   "cell_type": "code",
   "execution_count": null,
   "metadata": {
    "colab": {
     "base_uri": "https://localhost:8080/"
    },
    "executionInfo": {
     "elapsed": 357,
     "status": "ok",
     "timestamp": 1679224548762,
     "user": {
      "displayName": "Razan HL",
      "userId": "00189607576210306079"
     },
     "user_tz": -180
    },
    "id": "kBoHP_rPkmIy",
    "outputId": "86647e04-d7d2-4ff5-c55f-746600ccb8da"
   },
   "outputs": [
    {
     "data": {
      "text/plain": [
       "(2.303333333, 2.303333333)"
      ]
     },
     "execution_count": 86,
     "metadata": {},
     "output_type": "execute_result"
    }
   ],
   "source": [
    "predicted = regression_df_cv.predict(tfidf_test_vectors[50]) \n",
    "real = y_test[50]\n",
    "predicted[0], real"
   ]
  },
  {
   "cell_type": "code",
   "execution_count": null,
   "metadata": {
    "colab": {
     "base_uri": "https://localhost:8080/"
    },
    "executionInfo": {
     "elapsed": 13,
     "status": "ok",
     "timestamp": 1679224554061,
     "user": {
      "displayName": "Razan HL",
      "userId": "00189607576210306079"
     },
     "user_tz": -180
    },
    "id": "qkeMwzCfkmIy",
    "outputId": "9fa53ad9-f1b9-42bd-9469-1d072420809c"
   },
   "outputs": [
    {
     "data": {
      "text/plain": [
       "(3.508159204313433, 3.6638888888888888)"
      ]
     },
     "execution_count": 87,
     "metadata": {},
     "output_type": "execute_result"
    }
   ],
   "source": [
    "predicted = regression_df_cv.predict(tfidf_test_vectors[136])\n",
    "predicted[0], y_test[136]"
   ]
  },
  {
   "cell_type": "markdown",
   "metadata": {
    "id": "ZT0RZXxZkby0"
   },
   "source": [
    "smoter for train & test set:"
   ]
  },
  {
   "cell_type": "code",
   "execution_count": null,
   "metadata": {
    "id": "aJDApE17kbjk"
   },
   "outputs": [],
   "source": []
  },
  {
   "cell_type": "code",
   "execution_count": null,
   "metadata": {
    "colab": {
     "base_uri": "https://localhost:8080/"
    },
    "executionInfo": {
     "elapsed": 976,
     "status": "ok",
     "timestamp": 1678381276786,
     "user": {
      "displayName": "Razan HL",
      "userId": "00189607576210306079"
     },
     "user_tz": -180
    },
    "id": "lHs92dbRNero",
    "outputId": "98586e13-aad8-401b-f1b1-919d0db14f2d"
   },
   "outputs": [
    {
     "data": {
      "text/plain": [
       "(0.5876497529593441, 0.6486070520229401)"
      ]
     },
     "execution_count": 115,
     "metadata": {},
     "output_type": "execute_result"
    }
   ],
   "source": [
    "# DecisionTreeRegressor:\n",
    "dt_cv = DecisionTreeRegressor(min_samples_split=0.1)\n",
    "regression_df_cv = TransformedTargetRegressor(regressor=dt_cv, transformer=MinMaxScaler())\n",
    "\n",
    "regression_df_cv.fit(tfidf_train_vectors,y_train)\n",
    "y_pred_cv = regression_df_cv.predict(tfidf_test_vectors)\n",
    "regression_df_cv.score(tfidf_test_vectors, y_test), regression_df_cv.score(tfidf_train_vectors, y_train)"
   ]
  },
  {
   "cell_type": "code",
   "execution_count": null,
   "metadata": {
    "colab": {
     "base_uri": "https://localhost:8080/"
    },
    "executionInfo": {
     "elapsed": 723,
     "status": "ok",
     "timestamp": 1678381368935,
     "user": {
      "displayName": "Razan HL",
      "userId": "00189607576210306079"
     },
     "user_tz": -180
    },
    "id": "se9Ly7teZdkf",
    "outputId": "6608fb63-0aef-4fee-e330-1b8746874eef"
   },
   "outputs": [
    {
     "data": {
      "text/plain": [
       "0.4582176639080139"
      ]
     },
     "execution_count": 117,
     "metadata": {},
     "output_type": "execute_result"
    }
   ],
   "source": [
    "RMSE_tf = (mean_squared_error(y_test, y_pred))**(1/2)\n",
    "RMSE_tf"
   ]
  },
  {
   "cell_type": "code",
   "execution_count": null,
   "metadata": {
    "id": "Y6nAsjilU7Vh"
   },
   "outputs": [],
   "source": []
  },
  {
   "cell_type": "code",
   "execution_count": null,
   "metadata": {
    "colab": {
     "base_uri": "https://localhost:8080/"
    },
    "executionInfo": {
     "elapsed": 8,
     "status": "ok",
     "timestamp": 1678381412985,
     "user": {
      "displayName": "Razan HL",
      "userId": "00189607576210306079"
     },
     "user_tz": -180
    },
    "id": "MCQr3KI8U74-",
    "outputId": "41aabb42-5a3d-49c7-fa7a-5b4899045203"
   },
   "outputs": [
    {
     "data": {
      "text/plain": [
       "(3.0794759487349284, 3.7331372552352935)"
      ]
     },
     "execution_count": 118,
     "metadata": {},
     "output_type": "execute_result"
    }
   ],
   "source": [
    "predicted = regression_df_cv.predict(tfidf_test_vectors[0]) \n",
    "real = y_test[0]\n",
    "predicted[0], real"
   ]
  },
  {
   "cell_type": "code",
   "execution_count": null,
   "metadata": {
    "colab": {
     "base_uri": "https://localhost:8080/"
    },
    "executionInfo": {
     "elapsed": 318,
     "status": "ok",
     "timestamp": 1678381420141,
     "user": {
      "displayName": "Razan HL",
      "userId": "00189607576210306079"
     },
     "user_tz": -180
    },
    "id": "SNROYgozU74_",
    "outputId": "38b3b17a-40e0-4188-801e-c176a98c0f86"
   },
   "outputs": [
    {
     "data": {
      "text/plain": [
       "(4.246356636063547, 4.029999999999999)"
      ]
     },
     "execution_count": 119,
     "metadata": {},
     "output_type": "execute_result"
    }
   ],
   "source": [
    "predicted = regression_df_cv.predict(tfidf_test_vectors[3]) \n",
    "real = y_test[3]\n",
    "predicted[0], real"
   ]
  },
  {
   "cell_type": "code",
   "execution_count": null,
   "metadata": {
    "colab": {
     "base_uri": "https://localhost:8080/"
    },
    "executionInfo": {
     "elapsed": 7,
     "status": "ok",
     "timestamp": 1678381428000,
     "user": {
      "displayName": "Razan HL",
      "userId": "00189607576210306079"
     },
     "user_tz": -180
    },
    "id": "KI38mWdtU74_",
    "outputId": "9fe8eb90-4d79-4a71-eb3f-8576d9dd411a"
   },
   "outputs": [
    {
     "data": {
      "text/plain": [
       "(3.865352519853033, 3.7258085106382977)"
      ]
     },
     "execution_count": 120,
     "metadata": {},
     "output_type": "execute_result"
    }
   ],
   "source": [
    "predicted = regression_df_cv.predict(tfidf_test_vectors[30]) \n",
    "real = y_test[30]\n",
    "predicted[0], real"
   ]
  },
  {
   "cell_type": "code",
   "execution_count": null,
   "metadata": {
    "colab": {
     "base_uri": "https://localhost:8080/"
    },
    "executionInfo": {
     "elapsed": 22,
     "status": "ok",
     "timestamp": 1678381433563,
     "user": {
      "displayName": "Razan HL",
      "userId": "00189607576210306079"
     },
     "user_tz": -180
    },
    "id": "dLgpvw8mU74_",
    "outputId": "2fa34db7-f43d-420d-b8d2-344eff661eb1"
   },
   "outputs": [
    {
     "data": {
      "text/plain": [
       "(4.2514669841594905, 3.757540983606557)"
      ]
     },
     "execution_count": 121,
     "metadata": {},
     "output_type": "execute_result"
    }
   ],
   "source": [
    "predicted = regression_df_cv.predict(tfidf_test_vectors[49]) \n",
    "real = y_test[49]\n",
    "predicted[0], real"
   ]
  },
  {
   "cell_type": "code",
   "execution_count": null,
   "metadata": {
    "colab": {
     "base_uri": "https://localhost:8080/"
    },
    "executionInfo": {
     "elapsed": 10,
     "status": "ok",
     "timestamp": 1678381441542,
     "user": {
      "displayName": "Razan HL",
      "userId": "00189607576210306079"
     },
     "user_tz": -180
    },
    "id": "oxkM-v44U75A",
    "outputId": "2b418fb9-3289-4ec1-e32a-9088adcfd9bd"
   },
   "outputs": [
    {
     "data": {
      "text/plain": [
       "(3.4892306806262923, 2.8716666666666666)"
      ]
     },
     "execution_count": 122,
     "metadata": {},
     "output_type": "execute_result"
    }
   ],
   "source": [
    "predicted = regression_df_cv.predict(tfidf_test_vectors[50]) \n",
    "real = y_test[50]\n",
    "predicted[0], real"
   ]
  },
  {
   "cell_type": "code",
   "execution_count": null,
   "metadata": {
    "colab": {
     "base_uri": "https://localhost:8080/"
    },
    "executionInfo": {
     "elapsed": 358,
     "status": "ok",
     "timestamp": 1678381450019,
     "user": {
      "displayName": "Razan HL",
      "userId": "00189607576210306079"
     },
     "user_tz": -180
    },
    "id": "znBwe61-U75A",
    "outputId": "595f8c29-5147-419c-ca4d-3664a19e6431"
   },
   "outputs": [
    {
     "data": {
      "text/plain": [
       "(4.246356636063547, 4.39975268783871)"
      ]
     },
     "execution_count": 123,
     "metadata": {},
     "output_type": "execute_result"
    }
   ],
   "source": [
    "predicted = regression_df_cv.predict(tfidf_test_vectors[136])\n",
    "predicted[0], y_test[136]"
   ]
  }
 ],
 "metadata": {
  "colab": {
   "authorship_tag": "ABX9TyNb+6k9dbSfGF/2OhlwjCeX",
   "collapsed_sections": [
    "s2U9TzZxeFOl",
    "OC-7xQn5yLQG",
    "fpbjMVrjIFsD",
    "BzpGu1TCC-jb",
    "NEsDIFQ8HqiO"
   ],
   "mount_file_id": "1wRqfFnKcJvRkiO_LMNK6_nsJNvbyJZHK",
   "provenance": [
    {
     "file_id": "1Ke9nm2ZnQqc-UaFdrvqNoURQ7bbHF1jG",
     "timestamp": 1661000496208
    }
   ]
  },
  "gpuClass": "standard",
  "kernelspec": {
   "display_name": "Python 3 (ipykernel)",
   "language": "python",
   "name": "python3"
  },
  "language_info": {
   "codemirror_mode": {
    "name": "ipython",
    "version": 3
   },
   "file_extension": ".py",
   "mimetype": "text/x-python",
   "name": "python",
   "nbconvert_exporter": "python",
   "pygments_lexer": "ipython3",
   "version": "3.9.7"
  }
 },
 "nbformat": 4,
 "nbformat_minor": 1
}
